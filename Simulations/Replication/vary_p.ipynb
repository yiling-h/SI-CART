{
 "cells": [
  {
   "cell_type": "code",
   "execution_count": 1,
   "outputs": [],
   "source": [
    "import sys, os\n",
    "\n",
    "import pandas as pd\n",
    "\n",
    "from CART import RegressionTree\n",
    "from Utils.plotting import  *\n",
    "from scipy.stats import norm as ndist\n",
    "import joblib\n",
    "\n",
    "# For tree-values\n",
    "import rpy2.robjects.packages as rpackages\n",
    "from rpy2.robjects.vectors import StrVector\n",
    "\n",
    "# Select a CRAN mirror to download from\n",
    "utils = rpackages.importr('utils')\n",
    "utils.chooseCRANmirror(ind=1)  # Select the first mirror\n",
    "\n",
    "# Install 'remotes' if it's not already installed\n",
    "if not rpackages.isinstalled('remotes'):\n",
    "    utils.install_packages(StrVector(('remotes',)))\n",
    "\n",
    "import rpy2.robjects as ro\n",
    "\n",
    "from rpy2.robjects.packages import importr\n",
    "from rpy2.robjects import pandas2ri\n",
    "from rpy2.robjects import numpy2ri"
   ],
   "metadata": {
    "collapsed": false,
    "ExecuteTime": {
     "end_time": "2024-12-28T04:06:43.343390Z",
     "start_time": "2024-12-28T04:06:41.132459Z"
    }
   },
   "id": "981dc62591b0fb30"
  },
  {
   "cell_type": "code",
   "execution_count": 2,
   "outputs": [
    {
     "name": "stderr",
     "output_type": "stream",
     "text": [
      "R[write to console]: Using GitHub PAT from the git credential store.\n",
      "\n",
      "R[write to console]: Skipping install of 'treevalues' from a github remote, the SHA1 (55573782) has not changed since last install.\n",
      "  Use `force = TRUE` to force installation\n",
      "\n"
     ]
    }
   ],
   "source": [
    "# Run the GitHub installation command for 'treevalues'\n",
    "ro.r('remotes::install_github(\"anna-neufeld/treevalues\")')\n",
    "ro.r('library(treevalues)')\n",
    "ro.r('library(rpart)')"
   ],
   "metadata": {
    "collapsed": false,
    "ExecuteTime": {
     "end_time": "2024-12-28T04:06:44.312934Z",
     "start_time": "2024-12-28T04:06:43.344380Z"
    }
   },
   "id": "3c50dbd0bf04d24"
  },
  {
   "cell_type": "code",
   "execution_count": 3,
   "outputs": [],
   "source": [
    "def generate_test(mu, sd_y):\n",
    "    n = mu.shape[0]\n",
    "    return mu + np.random.normal(size=(n,), scale=sd_y)"
   ],
   "metadata": {
    "collapsed": false,
    "ExecuteTime": {
     "end_time": "2024-12-28T04:06:44.318729Z",
     "start_time": "2024-12-28T04:06:44.314005Z"
    }
   },
   "id": "922937c803f30acf"
  },
  {
   "cell_type": "markdown",
   "source": [
    "# Tree-values inference"
   ],
   "metadata": {
    "collapsed": false
   },
   "id": "382673fc80b87b6a"
  },
  {
   "cell_type": "code",
   "execution_count": 4,
   "outputs": [],
   "source": [
    "def tree_values_inference(X, y, sd_y, mu, max_depth=5, level=0.1,\n",
    "                          X_test=None):\n",
    "    # Convert the NumPy matrix to an R matrix\n",
    "    X_r = numpy2ri.py2rpy(X)\n",
    "    y_r = numpy2ri.py2rpy(y)\n",
    "\n",
    "    # Assign the R matrix to a variable in the R environment (optional)\n",
    "    ro.globalenv['X_r'] = X_r\n",
    "    ro.globalenv['y_r'] = y_r\n",
    "    ro.globalenv['p'] = X.shape[1]\n",
    "\n",
    "    # Construct dataset\n",
    "    ro.r('data <- cbind(y_r, X_r)')\n",
    "    # Set the column names to \"y\", \"x1\", \"x2\", ..., \"x10\"\n",
    "    ro.r('colnames(data) <- c(\"y\", paste0(\"x\", 1:p))')\n",
    "    ro.r('data = data.frame(data)')\n",
    "\n",
    "    # Define the rpart tree model\n",
    "    tree_cmd = ('bls.tree <- rpart(y ~ ., data=data, model = TRUE, ' +\n",
    "                'control = rpart.control(cp=0.00, minsplit = 25, minbucket = 10, maxdepth=') + str(max_depth) + '))'\n",
    "    ro.r(tree_cmd)\n",
    "    bls_tree = ro.r('bls.tree')\n",
    "    # Plot the tree values (this will plot directly if you have a plotting backend set up)\n",
    "    # ro.r('treeval.plot(bls.tree, inferenceType=0)')\n",
    "\n",
    "    # ro.r('print(row.names(bls.tree$frame)[bls.tree$frame$var == \"<leaf>\"])')\n",
    "    ro.r('leaf_idx <- (row.names(bls.tree$frame)[bls.tree$frame$var == \"<leaf>\"])')\n",
    "    leaf_idx = ro.r['leaf_idx']\n",
    "\n",
    "    # Get node mapping\n",
    "    ro.r('idx_full <- 1:nrow(bls.tree$frame)')\n",
    "    ro.r('mapped_idx <- idx_full[bls.tree$frame$var == \"<leaf>\"]')\n",
    "\n",
    "    len = []\n",
    "    coverage = []\n",
    "\n",
    "    for i, idx in enumerate(leaf_idx):\n",
    "        # Get the branch information for a specific branch in the tree\n",
    "        command = 'branch <- getBranch(bls.tree, ' + str(idx) + ')'\n",
    "        ro.r(command)\n",
    "        # Perform branch inference\n",
    "        ro.r(f'result <- branchInference(bls.tree, branch, type=\"reg\", alpha = 0.10, sigma_y={sd_y})')\n",
    "        # Get confidence intervals\n",
    "        confint = ro.r('result$confint')\n",
    "        len.append(confint[1] - confint[0])\n",
    "\n",
    "        target_cmd = \"contrast <- (bls.tree$where == mapped_idx[\" + str(i + 1) + \"])\"\n",
    "        ro.r(target_cmd)\n",
    "        contrast = ro.r('contrast')\n",
    "        contrast = np.array(contrast)\n",
    "\n",
    "        contrast = np.array(contrast * 1 / np.sum(contrast))\n",
    "\n",
    "        target = contrast.dot(mu)\n",
    "        coverage.append(target >= confint[0] and target <= confint[1])\n",
    "\n",
    "    if X_test is not None:\n",
    "        X_test_r = numpy2ri.py2rpy(X_test)\n",
    "        ro.globalenv['X_test_r'] = X_test_r\n",
    "        ro.r('pred <- predict(bls.tree, data = X_test_r)')\n",
    "        pred = ro.r['pred']\n",
    "    else:\n",
    "        pred = None\n",
    "\n",
    "    return (np.mean(coverage), np.mean(len), pred)\n"
   ],
   "metadata": {
    "collapsed": false,
    "ExecuteTime": {
     "end_time": "2024-12-28T04:06:44.328866Z",
     "start_time": "2024-12-28T04:06:44.315887Z"
    }
   },
   "id": "51168dc150fc4673"
  },
  {
   "cell_type": "markdown",
   "source": [
    "# Inference with UV decomposition"
   ],
   "metadata": {
    "collapsed": false
   },
   "id": "263947cc92430225"
  },
  {
   "cell_type": "code",
   "execution_count": 5,
   "outputs": [],
   "source": [
    "def UV_decomposition(X, y, mu, sd_y,\n",
    "                     max_depth=5, min_prop=0, min_sample=10, min_bucket=5,\n",
    "                     level=0.1, gamma=1,\n",
    "                     X_test=None):\n",
    "    n = X.shape[0]\n",
    "    W = np.random.normal(loc=0, scale=sd_y * np.sqrt(gamma), size=(n,))\n",
    "    U = y + W\n",
    "    V = y - W / gamma\n",
    "    sd_V = sd_y * np.sqrt(1 + 1 / gamma)\n",
    "    reg_tree = RegressionTree(min_samples_split=min_sample, max_depth=max_depth,\n",
    "                              min_proportion=min_prop, min_bucket=min_bucket)\n",
    "    reg_tree.fit(X, U, sd=0)\n",
    "\n",
    "    coverage = []\n",
    "    lengths = []\n",
    "\n",
    "    for node in reg_tree.terminal_nodes:\n",
    "        contrast = node.membership\n",
    "\n",
    "        contrast = np.array(contrast * 1 / np.sum(contrast))\n",
    "\n",
    "        target = contrast.dot(mu)\n",
    "\n",
    "        # Naive after tree value\n",
    "        # Confidence intervals\n",
    "        CI = [contrast.dot(V) -\n",
    "              np.linalg.norm(contrast) * sd_V * ndist.ppf(1 - level / 2),\n",
    "              contrast.dot(V) +\n",
    "              np.linalg.norm(contrast) * sd_V * ndist.ppf(1 - level / 2)]\n",
    "        coverage.append((target >= CI[0] and target <= CI[1]))\n",
    "        lengths.append(CI[1] - CI[0])\n",
    "\n",
    "    if X_test is not None:\n",
    "        pred = reg_tree.predict(X_test)\n",
    "    else:\n",
    "        pred = None\n",
    "\n",
    "    return coverage, lengths, pred"
   ],
   "metadata": {
    "collapsed": false,
    "ExecuteTime": {
     "end_time": "2024-12-28T04:06:44.329434Z",
     "start_time": "2024-12-28T04:06:44.325921Z"
    }
   },
   "id": "ac33486280e20ad5"
  },
  {
   "cell_type": "markdown",
   "source": [
    "# RRT inference"
   ],
   "metadata": {
    "collapsed": false
   },
   "id": "25d3b03e8ab579f4"
  },
  {
   "cell_type": "code",
   "execution_count": 6,
   "outputs": [],
   "source": [
    "def randomized_inference(reg_tree, sd_y, y, mu, level=0.1):\n",
    "    # print(reg_tree.terminal_nodes)\n",
    "    coverage_i = []\n",
    "    lengths_i = []\n",
    "\n",
    "    for node in reg_tree.terminal_nodes:\n",
    "        pval, dist, contrast, norm_contrast, obs_tar, logW, suff, sel_probs \\\n",
    "            = (reg_tree.condl_node_inference(node=node,\n",
    "                                             #ngrid=10000,\n",
    "                                             #ncoarse=300,\n",
    "                                             ngrid=10000,\n",
    "                                             ncoarse=50,\n",
    "                                             grid_w_const=5,\n",
    "                                             reduced_dim=1,\n",
    "                                             sd=sd_y,\n",
    "                                             use_cvxpy=True))\n",
    "        target = contrast.dot(mu)\n",
    "\n",
    "        # This is an interval for\n",
    "        # eta_*'mu = eta'mu / (norm(eta) * sd_y)\n",
    "        selective_CI = (dist.equal_tailed_interval(observed=norm_contrast.dot(y),\n",
    "                                                   alpha=level))\n",
    "        selective_CI = np.array(selective_CI)\n",
    "        selective_CI *= np.linalg.norm(contrast) * sd_y\n",
    "        coverage_i.append((target >= selective_CI[0] and target <= selective_CI[1]))\n",
    "        lengths_i.append(selective_CI[1] - selective_CI[0])\n",
    "\n",
    "    return coverage_i, lengths_i"
   ],
   "metadata": {
    "collapsed": false,
    "ExecuteTime": {
     "end_time": "2024-12-28T04:06:44.336269Z",
     "start_time": "2024-12-28T04:06:44.329892Z"
    }
   },
   "id": "118ddb9136bc9592"
  },
  {
   "cell_type": "markdown",
   "source": [
    "# Replicating Figure 4"
   ],
   "metadata": {
    "collapsed": false
   },
   "id": "58120cdd74fe69d0"
  },
  {
   "cell_type": "code",
   "execution_count": 10,
   "outputs": [],
   "source": [
    "def vary_p_sim(n=50, p_list=[5, 20, 50], sd_y=5, noise_sd=1,\n",
    "               start=0, end=100, level=0.1, path=None):\n",
    "    oper_char = {}\n",
    "    oper_char[\"Coverage Rate\"] = []\n",
    "    oper_char[\"Length\"] = []\n",
    "    oper_char[\"MSE\"] = []\n",
    "    oper_char[\"Method\"] = []\n",
    "    oper_char[\"p\"] = []\n",
    "    # oper_char[\"a\"] = []\n",
    "    # oper_char[\"b\"] = []\n",
    "    a = 1\n",
    "    b = 2\n",
    "\n",
    "    # for ab_prod in itertools.product(a_list, b_list):\n",
    "    # a = ab_prod[0]\n",
    "    # b = ab_prod[1]\n",
    "    for i in range(start, end):\n",
    "        for p in p_list:\n",
    "            print(i, \"th simulation\")\n",
    "            np.random.seed(i + 10000)\n",
    "            X = np.random.normal(size=(n, p))\n",
    "\n",
    "            mu = b * ((X[:, 0] <= 0) * (1 + a * (X[:, 1] > 0) + (X[:, 2] * X[:, 1] <= 0)))\n",
    "            y = mu + np.random.normal(size=(n,), scale=sd_y)\n",
    "            y_test = generate_test(mu, sd_y)\n",
    "\n",
    "            # Create and train the regression tree\n",
    "            reg_tree = RegressionTree(min_samples_split=50, max_depth=3,\n",
    "                                      min_proportion=0., min_bucket=20)\n",
    "            reg_tree.fit(X, y, sd=noise_sd * sd_y)\n",
    "\n",
    "            # RRT Inference\n",
    "            coverage_i, lengths_i = randomized_inference(reg_tree=reg_tree,\n",
    "                                                         y=y, sd_y=sd_y, mu=mu,\n",
    "                                                         level=level)\n",
    "            pred_test = reg_tree.predict(X)\n",
    "            MSE_test = (np.mean((y_test - pred_test) ** 2))\n",
    "            # Record results\n",
    "            oper_char[\"Coverage Rate\"].append(np.mean(coverage_i))\n",
    "            oper_char[\"Length\"].append(np.mean(lengths_i))\n",
    "            oper_char[\"MSE\"].append(MSE_test)\n",
    "            oper_char[\"Method\"].append(f\"RRT({noise_sd})\")\n",
    "            oper_char[\"p\"].append(p)\n",
    "            # oper_char[\"a\"].append(a)\n",
    "            # oper_char[\"b\"].append(b)\n",
    "\n",
    "            # Tree value & naive inference & prediction\n",
    "            (coverage_treeval, avg_len_treeval,\n",
    "             pred_test_treeval) = tree_values_inference(X, y, sd_y, mu,\n",
    "                                                        X_test=X, max_depth=3)\n",
    "            MSE_test_treeval = (np.mean((y_test - pred_test_treeval) ** 2))\n",
    "\n",
    "            oper_char[\"Coverage Rate\"].append(coverage_treeval)\n",
    "            oper_char[\"Length\"].append(avg_len_treeval)\n",
    "            oper_char[\"MSE\"].append(MSE_test_treeval)\n",
    "            oper_char[\"Method\"].append(\"Tree-Values\")\n",
    "            oper_char[\"p\"].append(p)\n",
    "\n",
    "            # UV decomposition\n",
    "            coverage_UV, len_UV, pred_UV = UV_decomposition(X, y, mu, sd_y, X_test=X,\n",
    "                                                            min_prop=0., max_depth=3,\n",
    "                                                            min_sample=50, min_bucket=20,\n",
    "                                                            gamma=0.1)\n",
    "\n",
    "            MSE_test_UV = (np.mean((y_test - pred_UV) ** 2))\n",
    "\n",
    "            oper_char[\"Coverage Rate\"].append(np.mean(coverage_UV))\n",
    "            oper_char[\"Length\"].append(np.mean(len_UV))\n",
    "            oper_char[\"MSE\"].append(MSE_test_UV)\n",
    "            oper_char[\"Method\"].append(\"UV(0.1)\")\n",
    "            oper_char[\"p\"].append(p)\n",
    "\n",
    "        if path is not None:\n",
    "            joblib.dump(oper_char, path)\n",
    "\n",
    "    return oper_char"
   ],
   "metadata": {
    "collapsed": false,
    "ExecuteTime": {
     "end_time": "2024-12-28T04:14:54.870107Z",
     "start_time": "2024-12-28T04:14:54.860754Z"
    }
   },
   "id": "5a67e7cc793ad3f1"
  },
  {
   "cell_type": "code",
   "execution_count": 11,
   "outputs": [
    {
     "name": "stdout",
     "output_type": "stream",
     "text": [
      "0 th simulation\n",
      "0 th simulation\n",
      "0 th simulation\n",
      "1 th simulation\n",
      "1 th simulation\n",
      "1 th simulation\n",
      "2 th simulation\n",
      "2 th simulation\n",
      "2 th simulation\n"
     ]
    }
   ],
   "source": [
    "oper_char = vary_p_sim(n=200, p_list=[5, 10, 20], sd_y=5, noise_sd=1,\n",
    "                       start=0, end=3, level=0.1, path=None)"
   ],
   "metadata": {
    "collapsed": false,
    "ExecuteTime": {
     "end_time": "2024-12-28T04:24:58.258127Z",
     "start_time": "2024-12-28T04:14:55.323383Z"
    }
   },
   "id": "6c198cf96e4159f6"
  },
  {
   "cell_type": "code",
   "execution_count": 12,
   "outputs": [
    {
     "data": {
      "text/plain": "    Coverage Rate     Length        MSE       Method   p\n0        1.000000   5.862767  31.427251       RRT(1)   5\n1        0.666667  74.201922  32.484935  Tree-Values   5\n2        1.000000  10.006228  30.793123      UV(0.1)   5\n3        0.833333   8.957472  35.264500       RRT(1)  10\n4        0.875000  47.698143  35.180564  Tree-Values  10\n5        0.833333   9.611967  35.287628      UV(0.1)  10\n6        0.600000   3.541435  31.326035       RRT(1)  20\n7        1.000000  38.536912  32.949922  Tree-Values  20\n8        1.000000   9.664580  31.143904      UV(0.1)  20\n9        0.666667   6.799782  27.295528       RRT(1)   5\n10       1.000000  42.125612  30.960860  Tree-Values   5\n11       1.000000   9.676878  27.627713      UV(0.1)   5\n12       1.000000   6.441302  30.734544       RRT(1)  10\n13       1.000000  17.814500  33.257030  Tree-Values  10\n14       0.666667   9.593505  31.865166      UV(0.1)  10\n15       0.800000   6.437001  27.804641       RRT(1)  20\n16       0.857143  37.911471  29.249563  Tree-Values  20\n17       0.833333   9.732717  28.290600      UV(0.1)  20\n18       1.000000   5.652606  28.664023       RRT(1)   5\n19       1.000000  12.178549  29.538285  Tree-Values   5\n20       0.833333   9.672181  27.086121      UV(0.1)   5\n21       1.000000   7.918778  27.186419       RRT(1)  10\n22       1.000000  12.260858  28.055772  Tree-Values  10\n23       1.000000   9.636356  27.864561      UV(0.1)  10\n24       0.571429   6.492969  34.311172       RRT(1)  20\n25       1.000000  24.209193  36.525084  Tree-Values  20\n26       0.666667   9.531952  35.008694      UV(0.1)  20",
      "text/html": "<div>\n<style scoped>\n    .dataframe tbody tr th:only-of-type {\n        vertical-align: middle;\n    }\n\n    .dataframe tbody tr th {\n        vertical-align: top;\n    }\n\n    .dataframe thead th {\n        text-align: right;\n    }\n</style>\n<table border=\"1\" class=\"dataframe\">\n  <thead>\n    <tr style=\"text-align: right;\">\n      <th></th>\n      <th>Coverage Rate</th>\n      <th>Length</th>\n      <th>MSE</th>\n      <th>Method</th>\n      <th>p</th>\n    </tr>\n  </thead>\n  <tbody>\n    <tr>\n      <th>0</th>\n      <td>1.000000</td>\n      <td>5.862767</td>\n      <td>31.427251</td>\n      <td>RRT(1)</td>\n      <td>5</td>\n    </tr>\n    <tr>\n      <th>1</th>\n      <td>0.666667</td>\n      <td>74.201922</td>\n      <td>32.484935</td>\n      <td>Tree-Values</td>\n      <td>5</td>\n    </tr>\n    <tr>\n      <th>2</th>\n      <td>1.000000</td>\n      <td>10.006228</td>\n      <td>30.793123</td>\n      <td>UV(0.1)</td>\n      <td>5</td>\n    </tr>\n    <tr>\n      <th>3</th>\n      <td>0.833333</td>\n      <td>8.957472</td>\n      <td>35.264500</td>\n      <td>RRT(1)</td>\n      <td>10</td>\n    </tr>\n    <tr>\n      <th>4</th>\n      <td>0.875000</td>\n      <td>47.698143</td>\n      <td>35.180564</td>\n      <td>Tree-Values</td>\n      <td>10</td>\n    </tr>\n    <tr>\n      <th>5</th>\n      <td>0.833333</td>\n      <td>9.611967</td>\n      <td>35.287628</td>\n      <td>UV(0.1)</td>\n      <td>10</td>\n    </tr>\n    <tr>\n      <th>6</th>\n      <td>0.600000</td>\n      <td>3.541435</td>\n      <td>31.326035</td>\n      <td>RRT(1)</td>\n      <td>20</td>\n    </tr>\n    <tr>\n      <th>7</th>\n      <td>1.000000</td>\n      <td>38.536912</td>\n      <td>32.949922</td>\n      <td>Tree-Values</td>\n      <td>20</td>\n    </tr>\n    <tr>\n      <th>8</th>\n      <td>1.000000</td>\n      <td>9.664580</td>\n      <td>31.143904</td>\n      <td>UV(0.1)</td>\n      <td>20</td>\n    </tr>\n    <tr>\n      <th>9</th>\n      <td>0.666667</td>\n      <td>6.799782</td>\n      <td>27.295528</td>\n      <td>RRT(1)</td>\n      <td>5</td>\n    </tr>\n    <tr>\n      <th>10</th>\n      <td>1.000000</td>\n      <td>42.125612</td>\n      <td>30.960860</td>\n      <td>Tree-Values</td>\n      <td>5</td>\n    </tr>\n    <tr>\n      <th>11</th>\n      <td>1.000000</td>\n      <td>9.676878</td>\n      <td>27.627713</td>\n      <td>UV(0.1)</td>\n      <td>5</td>\n    </tr>\n    <tr>\n      <th>12</th>\n      <td>1.000000</td>\n      <td>6.441302</td>\n      <td>30.734544</td>\n      <td>RRT(1)</td>\n      <td>10</td>\n    </tr>\n    <tr>\n      <th>13</th>\n      <td>1.000000</td>\n      <td>17.814500</td>\n      <td>33.257030</td>\n      <td>Tree-Values</td>\n      <td>10</td>\n    </tr>\n    <tr>\n      <th>14</th>\n      <td>0.666667</td>\n      <td>9.593505</td>\n      <td>31.865166</td>\n      <td>UV(0.1)</td>\n      <td>10</td>\n    </tr>\n    <tr>\n      <th>15</th>\n      <td>0.800000</td>\n      <td>6.437001</td>\n      <td>27.804641</td>\n      <td>RRT(1)</td>\n      <td>20</td>\n    </tr>\n    <tr>\n      <th>16</th>\n      <td>0.857143</td>\n      <td>37.911471</td>\n      <td>29.249563</td>\n      <td>Tree-Values</td>\n      <td>20</td>\n    </tr>\n    <tr>\n      <th>17</th>\n      <td>0.833333</td>\n      <td>9.732717</td>\n      <td>28.290600</td>\n      <td>UV(0.1)</td>\n      <td>20</td>\n    </tr>\n    <tr>\n      <th>18</th>\n      <td>1.000000</td>\n      <td>5.652606</td>\n      <td>28.664023</td>\n      <td>RRT(1)</td>\n      <td>5</td>\n    </tr>\n    <tr>\n      <th>19</th>\n      <td>1.000000</td>\n      <td>12.178549</td>\n      <td>29.538285</td>\n      <td>Tree-Values</td>\n      <td>5</td>\n    </tr>\n    <tr>\n      <th>20</th>\n      <td>0.833333</td>\n      <td>9.672181</td>\n      <td>27.086121</td>\n      <td>UV(0.1)</td>\n      <td>5</td>\n    </tr>\n    <tr>\n      <th>21</th>\n      <td>1.000000</td>\n      <td>7.918778</td>\n      <td>27.186419</td>\n      <td>RRT(1)</td>\n      <td>10</td>\n    </tr>\n    <tr>\n      <th>22</th>\n      <td>1.000000</td>\n      <td>12.260858</td>\n      <td>28.055772</td>\n      <td>Tree-Values</td>\n      <td>10</td>\n    </tr>\n    <tr>\n      <th>23</th>\n      <td>1.000000</td>\n      <td>9.636356</td>\n      <td>27.864561</td>\n      <td>UV(0.1)</td>\n      <td>10</td>\n    </tr>\n    <tr>\n      <th>24</th>\n      <td>0.571429</td>\n      <td>6.492969</td>\n      <td>34.311172</td>\n      <td>RRT(1)</td>\n      <td>20</td>\n    </tr>\n    <tr>\n      <th>25</th>\n      <td>1.000000</td>\n      <td>24.209193</td>\n      <td>36.525084</td>\n      <td>Tree-Values</td>\n      <td>20</td>\n    </tr>\n    <tr>\n      <th>26</th>\n      <td>0.666667</td>\n      <td>9.531952</td>\n      <td>35.008694</td>\n      <td>UV(0.1)</td>\n      <td>20</td>\n    </tr>\n  </tbody>\n</table>\n</div>"
     },
     "execution_count": 12,
     "metadata": {},
     "output_type": "execute_result"
    }
   ],
   "source": [
    "# Row: each row is one simulation for one method under one particular value of p\n",
    "pd.DataFrame(oper_char)"
   ],
   "metadata": {
    "collapsed": false,
    "ExecuteTime": {
     "end_time": "2024-12-28T04:24:58.290400Z",
     "start_time": "2024-12-28T04:24:58.263449Z"
    }
   },
   "id": "6106ba8ae04d167d"
  },
  {
   "cell_type": "code",
   "execution_count": null,
   "outputs": [],
   "source": [],
   "metadata": {
    "collapsed": false
   },
   "id": "a12caca5249baf29"
  }
 ],
 "metadata": {
  "kernelspec": {
   "display_name": "Python 3",
   "language": "python",
   "name": "python3"
  },
  "language_info": {
   "codemirror_mode": {
    "name": "ipython",
    "version": 2
   },
   "file_extension": ".py",
   "mimetype": "text/x-python",
   "name": "python",
   "nbconvert_exporter": "python",
   "pygments_lexer": "ipython2",
   "version": "2.7.6"
  }
 },
 "nbformat": 4,
 "nbformat_minor": 5
}
