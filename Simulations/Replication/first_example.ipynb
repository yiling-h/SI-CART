{
 "cells": [
  {
   "cell_type": "code",
   "execution_count": 21,
   "id": "initial_id",
   "metadata": {
    "collapsed": true,
    "ExecuteTime": {
     "end_time": "2024-12-22T00:33:13.881Z",
     "start_time": "2024-12-22T00:33:12.693365Z"
    }
   },
   "outputs": [],
   "source": [
    "import sys, os\n",
    "\n",
    "import pandas as pd\n",
    "\n",
    "from CART import RegressionTree\n",
    "from Utils.plotting import  *\n",
    "from scipy.stats import norm as ndist\n",
    "import joblib\n",
    "\n",
    "# For tree-values\n",
    "import rpy2.robjects.packages as rpackages\n",
    "from rpy2.robjects.vectors import StrVector\n",
    "\n",
    "# Select a CRAN mirror to download from\n",
    "utils = rpackages.importr('utils')\n",
    "utils.chooseCRANmirror(ind=1)  # Select the first mirror\n",
    "\n",
    "# Install 'remotes' if it's not already installed\n",
    "if not rpackages.isinstalled('remotes'):\n",
    "    utils.install_packages(StrVector(('remotes',)))\n",
    "\n",
    "import rpy2.robjects as ro\n",
    "\n",
    "from rpy2.robjects.packages import importr\n",
    "from rpy2.robjects import pandas2ri\n",
    "from rpy2.robjects import numpy2ri"
   ]
  },
  {
   "cell_type": "code",
   "execution_count": 12,
   "outputs": [
    {
     "name": "stderr",
     "output_type": "stream",
     "text": [
      "R[write to console]: Using GitHub PAT from the git credential store.\n",
      "\n",
      "R[write to console]: Skipping install of 'treevalues' from a github remote, the SHA1 (55573782) has not changed since last install.\n",
      "  Use `force = TRUE` to force installation\n",
      "\n"
     ]
    }
   ],
   "source": [
    "# Run the GitHub installation command for 'treevalues'\n",
    "ro.r('remotes::install_github(\"anna-neufeld/treevalues\")')\n",
    "ro.r('library(treevalues)')\n",
    "ro.r('library(rpart)')"
   ],
   "metadata": {
    "collapsed": false,
    "ExecuteTime": {
     "end_time": "2024-12-22T00:28:54.975159Z",
     "start_time": "2024-12-22T00:28:54.769809Z"
    }
   },
   "id": "b5d5ac8ed92d6131"
  },
  {
   "cell_type": "code",
   "execution_count": 13,
   "outputs": [],
   "source": [
    "def generate_test(mu, sd_y):\n",
    "    n = mu.shape[0]\n",
    "    return mu + np.random.normal(size=(n,), scale=sd_y)"
   ],
   "metadata": {
    "collapsed": false,
    "ExecuteTime": {
     "end_time": "2024-12-22T00:28:55.920437Z",
     "start_time": "2024-12-22T00:28:55.916144Z"
    }
   },
   "id": "2b12e4284552b1ef"
  },
  {
   "cell_type": "markdown",
   "source": [
    "# Tree-values inference"
   ],
   "metadata": {
    "collapsed": false
   },
   "id": "3201be659cb7259f"
  },
  {
   "cell_type": "code",
   "execution_count": 14,
   "outputs": [],
   "source": [
    "def tree_values_inference(X, y, mu, sd_y, max_depth=5, level=0.1,\n",
    "                          X_test=None):\n",
    "    # Convert the NumPy matrix to an R matrix\n",
    "    X_r = numpy2ri.py2rpy(X)\n",
    "    y_r = numpy2ri.py2rpy(y)\n",
    "\n",
    "    # Assign the R matrix to a variable in the R environment (optional)\n",
    "    ro.globalenv['X_r'] = X_r\n",
    "    ro.globalenv['y_r'] = y_r\n",
    "    ro.globalenv['p'] = X.shape[1]\n",
    "\n",
    "    # Construct dataset\n",
    "    ro.r('data <- cbind(y_r, X_r)')\n",
    "    # Set the column names to \"y\", \"x1\", \"x2\", ..., \"x10\"\n",
    "    ro.r('colnames(data) <- c(\"y\", paste0(\"x\", 1:p))')\n",
    "    ro.r('data = data.frame(data)')\n",
    "\n",
    "    # Define the rpart tree model\n",
    "    tree_cmd = ('bls.tree <- rpart(y ~ ., data=data, model = TRUE, ' +\n",
    "                'control = rpart.control(cp=0.00, minsplit = 50, minbucket = 20, maxdepth=') + str(max_depth) + '))'\n",
    "    ro.r(tree_cmd)\n",
    "    bls_tree = ro.r('bls.tree')\n",
    "    # Plot the tree values (this will plot directly if you have a plotting backend set up)\n",
    "    # ro.r('treeval.plot(bls.tree, inferenceType=0)')\n",
    "\n",
    "    # ro.r('print(row.names(bls.tree$frame)[bls.tree$frame$var == \"<leaf>\"])')\n",
    "    ro.r('leaf_idx <- (row.names(bls.tree$frame)[bls.tree$frame$var == \"<leaf>\"])')\n",
    "    leaf_idx = ro.r['leaf_idx']\n",
    "\n",
    "    # Get node mapping\n",
    "    ro.r('idx_full <- 1:nrow(bls.tree$frame)')\n",
    "    ro.r('mapped_idx <- idx_full[bls.tree$frame$var == \"<leaf>\"]')\n",
    "\n",
    "    len = []\n",
    "    coverage = []\n",
    "    len_naive = []\n",
    "    coverage_naive = []\n",
    "\n",
    "    for i, idx in enumerate(leaf_idx):\n",
    "        # Get the branch information for a specific branch in the tree\n",
    "        command = 'branch <- getBranch(bls.tree, ' + str(idx) + ')'\n",
    "        ro.r(command)\n",
    "        # Perform branch inference\n",
    "        ro.r(f'result <- branchInference(bls.tree, branch, type=\"reg\", alpha = 0.10, sigma_y={sd_y})')\n",
    "        # Get confidence intervals\n",
    "        confint = ro.r('result$confint')\n",
    "        len.append(confint[1] - confint[0])\n",
    "\n",
    "        target_cmd = \"contrast <- (bls.tree$where == mapped_idx[\" + str(i + 1) + \"])\"\n",
    "        ro.r(target_cmd)\n",
    "        contrast = ro.r('contrast')\n",
    "        contrast = np.array(contrast)\n",
    "\n",
    "        contrast = np.array(contrast * 1 / np.sum(contrast))\n",
    "\n",
    "        target = contrast.dot(mu)\n",
    "        coverage.append(target >= confint[0] and target <= confint[1])\n",
    "\n",
    "        # Naive after tree value\n",
    "        # Confidence intervals\n",
    "        naive_CI = [contrast.dot(y) -\n",
    "                    np.linalg.norm(contrast) * sd_y * ndist.ppf(1 - level / 2),\n",
    "                    contrast.dot(y) +\n",
    "                    np.linalg.norm(contrast) * sd_y * ndist.ppf(1 - level / 2)]\n",
    "        coverage_naive.append((target >= naive_CI[0] and target <= naive_CI[1]))\n",
    "        len_naive.append(naive_CI[1] - naive_CI[0])\n",
    "\n",
    "    if X_test is not None:\n",
    "        X_test_r = numpy2ri.py2rpy(X_test)\n",
    "        ro.globalenv['X_test_r'] = X_test_r\n",
    "        ro.r('pred <- predict(bls.tree, data = X_test_r)')\n",
    "        pred = ro.r['pred']\n",
    "    else:\n",
    "        pred = None\n",
    "\n",
    "    return (np.mean(coverage), np.mean(len),\n",
    "            np.mean(coverage_naive), np.mean(len_naive), pred)"
   ],
   "metadata": {
    "collapsed": false,
    "ExecuteTime": {
     "end_time": "2024-12-22T00:28:57.822338Z",
     "start_time": "2024-12-22T00:28:57.813975Z"
    }
   },
   "id": "d5f59772261d8c06"
  },
  {
   "cell_type": "markdown",
   "source": [
    "# RRT inference"
   ],
   "metadata": {
    "collapsed": false
   },
   "id": "68b034d92f8e7a30"
  },
  {
   "cell_type": "code",
   "execution_count": 15,
   "outputs": [],
   "source": [
    "def randomized_inference(reg_tree, sd_y, y, mu, level=0.1):\n",
    "    # print(reg_tree.terminal_nodes)\n",
    "    coverage_i = []\n",
    "    lengths_i = []\n",
    "\n",
    "    for node in reg_tree.terminal_nodes:\n",
    "        pval, dist, contrast, norm_contrast, obs_tar, logW, suff, sel_probs \\\n",
    "            = (reg_tree.condl_node_inference(node=node,\n",
    "                                             ngrid=10000,\n",
    "                                             ncoarse=50,\n",
    "                                             grid_w_const=5,\n",
    "                                             reduced_dim=1,\n",
    "                                             sd=sd_y,\n",
    "                                             use_cvxpy=True))\n",
    "        target = contrast.dot(mu)\n",
    "\n",
    "        # This is an interval for\n",
    "        # eta_*'mu = eta'mu / (norm(eta) * sd_y)\n",
    "        selective_CI = (dist.equal_tailed_interval(observed=norm_contrast.dot(y),\n",
    "                                                   alpha=level))\n",
    "        selective_CI = np.array(selective_CI)\n",
    "        selective_CI *= np.linalg.norm(contrast) * sd_y\n",
    "        coverage_i.append((target >= selective_CI[0] and target <= selective_CI[1]))\n",
    "        lengths_i.append(selective_CI[1] - selective_CI[0])\n",
    "\n",
    "    return coverage_i, lengths_i"
   ],
   "metadata": {
    "collapsed": false,
    "ExecuteTime": {
     "end_time": "2024-12-22T00:28:58.636049Z",
     "start_time": "2024-12-22T00:28:58.631615Z"
    }
   },
   "id": "593dfd6522f79486"
  },
  {
   "cell_type": "markdown",
   "source": [
    "# Inference with UV decomposition"
   ],
   "metadata": {
    "collapsed": false
   },
   "id": "b59562660744af96"
  },
  {
   "cell_type": "code",
   "execution_count": 16,
   "outputs": [],
   "source": [
    "def UV_decomposition(X, y, mu, sd_y,\n",
    "                     max_depth=5, min_prop=0, min_sample=10, min_bucket=5,\n",
    "                     level=0.1, gamma=1,\n",
    "                     X_test=None):\n",
    "    n = X.shape[0]\n",
    "    W = np.random.normal(loc=0, scale=sd_y * np.sqrt(gamma), size=(n,))\n",
    "    U = y + W\n",
    "    V = y - W / gamma\n",
    "    sd_V = sd_y * np.sqrt(1 + 1 / gamma)\n",
    "    reg_tree = RegressionTree(min_samples_split=min_sample, max_depth=max_depth,\n",
    "                              min_proportion=min_prop, min_bucket=min_bucket)\n",
    "    reg_tree.fit(X, U, sd=0)\n",
    "\n",
    "    coverage = []\n",
    "    lengths = []\n",
    "\n",
    "    for node in reg_tree.terminal_nodes:\n",
    "        contrast = node.membership\n",
    "\n",
    "        contrast = np.array(contrast * 1 / np.sum(contrast))\n",
    "\n",
    "        target = contrast.dot(mu)\n",
    "\n",
    "        # Naive after tree value\n",
    "        # Confidence intervals\n",
    "        CI = [contrast.dot(V) -\n",
    "              np.linalg.norm(contrast) * sd_V * ndist.ppf(1 - level / 2),\n",
    "              contrast.dot(V) +\n",
    "              np.linalg.norm(contrast) * sd_V * ndist.ppf(1 - level / 2)]\n",
    "        coverage.append((target >= CI[0] and target <= CI[1]))\n",
    "        lengths.append(CI[1] - CI[0])\n",
    "\n",
    "    if X_test is not None:\n",
    "        pred = reg_tree.predict(X_test)\n",
    "    else:\n",
    "        pred = None\n",
    "\n",
    "    return coverage, lengths, pred"
   ],
   "metadata": {
    "collapsed": false,
    "ExecuteTime": {
     "end_time": "2024-12-22T00:28:59.511232Z",
     "start_time": "2024-12-22T00:28:59.500864Z"
    }
   },
   "id": "45c2e38de4e0ee17"
  },
  {
   "cell_type": "markdown",
   "source": [
    "# Replicating Figure 1"
   ],
   "metadata": {
    "collapsed": false
   },
   "id": "1e3f3b7319ac6822"
  },
  {
   "cell_type": "code",
   "execution_count": 17,
   "outputs": [],
   "source": [
    "def terminal_inference_sim(n=50, p=5, a=0.1, b=0.1,\n",
    "                           sd_y=1,\n",
    "                           noise_sd_list=[0.5, 1, 2, 5],\n",
    "                           UV_gamma_list=[],\n",
    "                           use_nonrand=True,\n",
    "                           start=0, end=100,\n",
    "                           level=0.1, path=None):\n",
    "    method_list = noise_sd_list.copy()\n",
    "    if use_nonrand:\n",
    "        method_list += [\"Tree val\", \"Naive\"]\n",
    "    for gamma in UV_gamma_list:\n",
    "        method_list.append(\"UV_\" + str(gamma))\n",
    "\n",
    "    coverage_dict = {m: [] for m in method_list}\n",
    "    length_dict = {m: [] for m in method_list}\n",
    "    MSE_dict = {m: [] for m in method_list}\n",
    "\n",
    "    for i in range(start, end):\n",
    "        print(i, \"th simulation\")\n",
    "        np.random.seed(i + 10000)\n",
    "        X = np.random.normal(size=(n, p))\n",
    "\n",
    "        mu = b * ((X[:, 0] <= 0) * (1 + a * (X[:, 1] > 0) + (X[:, 2] * X[:, 1] <= 0)))\n",
    "        y = mu + np.random.normal(size=(n,), scale=sd_y)\n",
    "        y_test = generate_test(mu, sd_y)\n",
    "        \n",
    "        if use_nonrand:\n",
    "            # Tree value & naive inference & prediction\n",
    "            (coverage_treeval, avg_len_treeval,\n",
    "             coverage_treeval_naive, avg_len_treeval_naive,\n",
    "             pred_test_treeval) = tree_values_inference(X, y, mu, sd_y=sd_y,\n",
    "                                                        X_test=X, max_depth=3)\n",
    "            MSE_test_treeval = (np.mean((y_test - pred_test_treeval) ** 2))\n",
    "\n",
    "            coverage_dict[\"Tree val\"].append(coverage_treeval)\n",
    "            length_dict[\"Tree val\"].append(avg_len_treeval)\n",
    "            MSE_dict[\"Tree val\"].append(MSE_test_treeval)\n",
    "            coverage_dict[\"Naive\"].append(coverage_treeval_naive)\n",
    "            length_dict[\"Naive\"].append(avg_len_treeval_naive)\n",
    "            MSE_dict[\"Naive\"].append(MSE_test_treeval)\n",
    "\n",
    "        for noise_sd in noise_sd_list:\n",
    "            # Create and train the regression tree\n",
    "            reg_tree = RegressionTree(min_samples_split=50, max_depth=3,\n",
    "                                      min_proportion=0., min_bucket=20)\n",
    "\n",
    "            reg_tree.fit(X, y, sd=noise_sd * sd_y)\n",
    "\n",
    "            coverage_i, lengths_i = randomized_inference(reg_tree=reg_tree,\n",
    "                                                         y=y, sd_y=sd_y, mu=mu,\n",
    "                                                         level=level)\n",
    "            pred_test = reg_tree.predict(X)\n",
    "            MSE_test = (np.mean((y_test - pred_test) ** 2))\n",
    "            # Record results\n",
    "            coverage_dict[noise_sd].append(np.mean(coverage_i))\n",
    "            length_dict[noise_sd].append(np.mean(lengths_i))\n",
    "            MSE_dict[noise_sd].append(MSE_test)\n",
    "\n",
    "        for gamma in UV_gamma_list:\n",
    "            gamma_key = \"UV_\" + str(gamma)\n",
    "            # UV decomposition\n",
    "            coverage_UV, len_UV, pred_UV = UV_decomposition(X, y, mu, sd_y, X_test=X,\n",
    "                                                            min_prop=0., max_depth=3,\n",
    "                                                            min_sample=50, min_bucket=20,\n",
    "                                                            gamma=gamma)\n",
    "            MSE_UV = (np.mean((y_test - pred_UV) ** 2))\n",
    "            coverage_dict[gamma_key].append(np.mean(coverage_UV))\n",
    "            length_dict[gamma_key].append(np.mean(len_UV))\n",
    "            MSE_dict[gamma_key].append(MSE_UV)\n",
    "\n",
    "        if path is not None:\n",
    "            joblib.dump([coverage_dict, length_dict, MSE_dict], path, compress=1)\n",
    "\n",
    "    return coverage_dict, length_dict, MSE_dict"
   ],
   "metadata": {
    "collapsed": false,
    "ExecuteTime": {
     "end_time": "2024-12-22T00:29:00.398856Z",
     "start_time": "2024-12-22T00:29:00.390243Z"
    }
   },
   "id": "d4fc427721e488a9"
  },
  {
   "cell_type": "code",
   "execution_count": 18,
   "outputs": [
    {
     "name": "stdout",
     "output_type": "stream",
     "text": [
      "0 th simulation\n",
      "1 th simulation\n",
      "2 th simulation\n"
     ]
    }
   ],
   "source": [
    "coverage_dict_fig1, length_dict_fig1, MSE_dict_fig1\\\n",
    "    = terminal_inference_sim(n=200, p=5, a=1, b=2,\n",
    "                             sd_y=2,\n",
    "                             noise_sd_list=[1, 2.5, 5, 10],\n",
    "                             UV_gamma_list=[],\n",
    "                             use_nonrand=True,\n",
    "                             start=0, end=3,\n",
    "                             level=0.1, path=None)"
   ],
   "metadata": {
    "collapsed": false,
    "ExecuteTime": {
     "end_time": "2024-12-22T00:32:30.929565Z",
     "start_time": "2024-12-22T00:29:00.908209Z"
    }
   },
   "id": "8777d8f757e29461"
  },
  {
   "cell_type": "code",
   "execution_count": 23,
   "outputs": [
    {
     "data": {
      "text/plain": "     1       2.5    5   10  Tree val     Naive\n0  1.0  1.000000  1.0  1.0  0.714286  0.714286\n1  1.0  0.833333  1.0  1.0  0.833333  0.500000\n2  0.5  1.000000  1.0  1.0  1.000000  0.666667",
      "text/html": "<div>\n<style scoped>\n    .dataframe tbody tr th:only-of-type {\n        vertical-align: middle;\n    }\n\n    .dataframe tbody tr th {\n        vertical-align: top;\n    }\n\n    .dataframe thead th {\n        text-align: right;\n    }\n</style>\n<table border=\"1\" class=\"dataframe\">\n  <thead>\n    <tr style=\"text-align: right;\">\n      <th></th>\n      <th>1</th>\n      <th>2.5</th>\n      <th>5</th>\n      <th>10</th>\n      <th>Tree val</th>\n      <th>Naive</th>\n    </tr>\n  </thead>\n  <tbody>\n    <tr>\n      <th>0</th>\n      <td>1.0</td>\n      <td>1.000000</td>\n      <td>1.0</td>\n      <td>1.0</td>\n      <td>0.714286</td>\n      <td>0.714286</td>\n    </tr>\n    <tr>\n      <th>1</th>\n      <td>1.0</td>\n      <td>0.833333</td>\n      <td>1.0</td>\n      <td>1.0</td>\n      <td>0.833333</td>\n      <td>0.500000</td>\n    </tr>\n    <tr>\n      <th>2</th>\n      <td>0.5</td>\n      <td>1.000000</td>\n      <td>1.0</td>\n      <td>1.0</td>\n      <td>1.000000</td>\n      <td>0.666667</td>\n    </tr>\n  </tbody>\n</table>\n</div>"
     },
     "execution_count": 23,
     "metadata": {},
     "output_type": "execute_result"
    }
   ],
   "source": [
    "# Columns: \n",
    "# numbers (e.g. 1, 2.5, 5, 10): RRT(1), RRT(2.5), RRT(5), RRT(10)\n",
    "# Tree val: Tree-values\n",
    "# Naive: naive inference\n",
    "# Rows: Each row correspond to one round of simulation\n",
    "pd.DataFrame(coverage_dict_fig1)"
   ],
   "metadata": {
    "collapsed": false,
    "ExecuteTime": {
     "end_time": "2024-12-22T00:33:29.437630Z",
     "start_time": "2024-12-22T00:33:29.429823Z"
    }
   },
   "id": "4d01c5abe5810828"
  },
  {
   "cell_type": "code",
   "execution_count": 24,
   "outputs": [
    {
     "data": {
      "text/plain": "          1        2.5         5        10   Tree val     Naive\n0  2.119801   1.495205  1.259788  1.177576  25.308622  1.258967\n1  2.215550   1.385289  1.555695  3.332355   2.290091  1.166525\n2  1.680509  22.984554  1.989421  1.407083   1.871536  1.178633",
      "text/html": "<div>\n<style scoped>\n    .dataframe tbody tr th:only-of-type {\n        vertical-align: middle;\n    }\n\n    .dataframe tbody tr th {\n        vertical-align: top;\n    }\n\n    .dataframe thead th {\n        text-align: right;\n    }\n</style>\n<table border=\"1\" class=\"dataframe\">\n  <thead>\n    <tr style=\"text-align: right;\">\n      <th></th>\n      <th>1</th>\n      <th>2.5</th>\n      <th>5</th>\n      <th>10</th>\n      <th>Tree val</th>\n      <th>Naive</th>\n    </tr>\n  </thead>\n  <tbody>\n    <tr>\n      <th>0</th>\n      <td>2.119801</td>\n      <td>1.495205</td>\n      <td>1.259788</td>\n      <td>1.177576</td>\n      <td>25.308622</td>\n      <td>1.258967</td>\n    </tr>\n    <tr>\n      <th>1</th>\n      <td>2.215550</td>\n      <td>1.385289</td>\n      <td>1.555695</td>\n      <td>3.332355</td>\n      <td>2.290091</td>\n      <td>1.166525</td>\n    </tr>\n    <tr>\n      <th>2</th>\n      <td>1.680509</td>\n      <td>22.984554</td>\n      <td>1.989421</td>\n      <td>1.407083</td>\n      <td>1.871536</td>\n      <td>1.178633</td>\n    </tr>\n  </tbody>\n</table>\n</div>"
     },
     "execution_count": 24,
     "metadata": {},
     "output_type": "execute_result"
    }
   ],
   "source": [
    "# Columns: \n",
    "# numbers (e.g. 1, 2.5, 5, 10): RRT(1), RRT(2.5), RRT(5), RRT(10)\n",
    "# Tree val: Tree-values\n",
    "# Naive: naive inference\n",
    "# Rows: Each row correspond to one round of simulation\n",
    "pd.DataFrame(length_dict_fig1)"
   ],
   "metadata": {
    "collapsed": false,
    "ExecuteTime": {
     "end_time": "2024-12-22T00:33:48.548477Z",
     "start_time": "2024-12-22T00:33:48.543699Z"
    }
   },
   "id": "beece6f59845a437"
  },
  {
   "cell_type": "code",
   "execution_count": 25,
   "outputs": [
    {
     "data": {
      "text/plain": "          1       2.5         5        10  Tree val     Naive\n0  4.754626  5.385438  6.062667  5.715567  4.774639  4.774639\n1  5.007723  4.517161  5.284633  5.598432  4.747049  4.747049\n2  5.004523  4.477550  4.936360  5.975434  4.853868  4.853868",
      "text/html": "<div>\n<style scoped>\n    .dataframe tbody tr th:only-of-type {\n        vertical-align: middle;\n    }\n\n    .dataframe tbody tr th {\n        vertical-align: top;\n    }\n\n    .dataframe thead th {\n        text-align: right;\n    }\n</style>\n<table border=\"1\" class=\"dataframe\">\n  <thead>\n    <tr style=\"text-align: right;\">\n      <th></th>\n      <th>1</th>\n      <th>2.5</th>\n      <th>5</th>\n      <th>10</th>\n      <th>Tree val</th>\n      <th>Naive</th>\n    </tr>\n  </thead>\n  <tbody>\n    <tr>\n      <th>0</th>\n      <td>4.754626</td>\n      <td>5.385438</td>\n      <td>6.062667</td>\n      <td>5.715567</td>\n      <td>4.774639</td>\n      <td>4.774639</td>\n    </tr>\n    <tr>\n      <th>1</th>\n      <td>5.007723</td>\n      <td>4.517161</td>\n      <td>5.284633</td>\n      <td>5.598432</td>\n      <td>4.747049</td>\n      <td>4.747049</td>\n    </tr>\n    <tr>\n      <th>2</th>\n      <td>5.004523</td>\n      <td>4.477550</td>\n      <td>4.936360</td>\n      <td>5.975434</td>\n      <td>4.853868</td>\n      <td>4.853868</td>\n    </tr>\n  </tbody>\n</table>\n</div>"
     },
     "execution_count": 25,
     "metadata": {},
     "output_type": "execute_result"
    }
   ],
   "source": [
    "# Columns: \n",
    "# numbers (e.g. 1, 2.5, 5, 10): RRT(1), RRT(2.5), RRT(5), RRT(10)\n",
    "# Tree val: Tree-values\n",
    "# Naive: naive inference\n",
    "# Rows: Each row correspond to one round of simulation\n",
    "pd.DataFrame(MSE_dict_fig1)"
   ],
   "metadata": {
    "collapsed": false,
    "ExecuteTime": {
     "end_time": "2024-12-22T00:34:02.502501Z",
     "start_time": "2024-12-22T00:34:02.496693Z"
    }
   },
   "id": "6b98704bde23e735"
  },
  {
   "cell_type": "markdown",
   "source": [
    "# Replicating Figure 2"
   ],
   "metadata": {
    "collapsed": false
   },
   "id": "904e5e2222d6d69e"
  },
  {
   "cell_type": "code",
   "execution_count": 26,
   "outputs": [
    {
     "name": "stdout",
     "output_type": "stream",
     "text": [
      "0 th simulation\n",
      "1 th simulation\n",
      "2 th simulation\n"
     ]
    }
   ],
   "source": [
    "coverage_dict_fig2, length_dict_fig2, MSE_dict_fig2\\\n",
    "    = terminal_inference_sim(n=200, p=5, a=1, b=2,\n",
    "                             sd_y=2,\n",
    "                             noise_sd_list=[1],\n",
    "                             UV_gamma_list=[0.1, 0.2, 0.3, 0.4, 0.5],\n",
    "                             use_nonrand=False,\n",
    "                             start=0, end=3,\n",
    "                             level=0.1, path=None)"
   ],
   "metadata": {
    "collapsed": false,
    "ExecuteTime": {
     "end_time": "2024-12-22T00:35:06.139059Z",
     "start_time": "2024-12-22T00:34:12.613515Z"
    }
   },
   "id": "9ef1b54140dc129b"
  },
  {
   "cell_type": "code",
   "execution_count": 27,
   "outputs": [
    {
     "data": {
      "text/plain": "     1    UV_0.1    UV_0.2    UV_0.3    UV_0.4    UV_0.5\n0  1.0  1.000000  0.833333  0.857143  1.000000  0.833333\n1  1.0  0.833333  1.000000  1.000000  0.833333  1.000000\n2  0.5  1.000000  1.000000  0.833333  1.000000  1.000000",
      "text/html": "<div>\n<style scoped>\n    .dataframe tbody tr th:only-of-type {\n        vertical-align: middle;\n    }\n\n    .dataframe tbody tr th {\n        vertical-align: top;\n    }\n\n    .dataframe thead th {\n        text-align: right;\n    }\n</style>\n<table border=\"1\" class=\"dataframe\">\n  <thead>\n    <tr style=\"text-align: right;\">\n      <th></th>\n      <th>1</th>\n      <th>UV_0.1</th>\n      <th>UV_0.2</th>\n      <th>UV_0.3</th>\n      <th>UV_0.4</th>\n      <th>UV_0.5</th>\n    </tr>\n  </thead>\n  <tbody>\n    <tr>\n      <th>0</th>\n      <td>1.0</td>\n      <td>1.000000</td>\n      <td>0.833333</td>\n      <td>0.857143</td>\n      <td>1.000000</td>\n      <td>0.833333</td>\n    </tr>\n    <tr>\n      <th>1</th>\n      <td>1.0</td>\n      <td>0.833333</td>\n      <td>1.000000</td>\n      <td>1.000000</td>\n      <td>0.833333</td>\n      <td>1.000000</td>\n    </tr>\n    <tr>\n      <th>2</th>\n      <td>0.5</td>\n      <td>1.000000</td>\n      <td>1.000000</td>\n      <td>0.833333</td>\n      <td>1.000000</td>\n      <td>1.000000</td>\n    </tr>\n  </tbody>\n</table>\n</div>"
     },
     "execution_count": 27,
     "metadata": {},
     "output_type": "execute_result"
    }
   ],
   "source": [
    "# Columns: \n",
    "# numbers (e.g. 1, 2.5, 5, 10): RRT(1), RRT(2.5), RRT(5), RRT(10)\n",
    "# UV_k: UV decomposition with gamma = k\n",
    "# Rows: Each row correspond to one round of simulation\n",
    "pd.DataFrame(coverage_dict_fig2)"
   ],
   "metadata": {
    "collapsed": false,
    "ExecuteTime": {
     "end_time": "2024-12-22T00:35:20.955784Z",
     "start_time": "2024-12-22T00:35:20.947359Z"
    }
   },
   "id": "250ca3ab3bdca0a6"
  },
  {
   "cell_type": "code",
   "execution_count": 28,
   "outputs": [
    {
     "data": {
      "text/plain": "          1    UV_0.1    UV_0.2    UV_0.3    UV_0.4    UV_0.5\n0  2.119801  3.895045  2.847981  2.610729  2.221367  2.004146\n1  2.215550  3.881247  2.857391  2.431454  2.153402  2.011266\n2  1.680509  3.892569  2.878134  2.449271  2.205467  2.020659",
      "text/html": "<div>\n<style scoped>\n    .dataframe tbody tr th:only-of-type {\n        vertical-align: middle;\n    }\n\n    .dataframe tbody tr th {\n        vertical-align: top;\n    }\n\n    .dataframe thead th {\n        text-align: right;\n    }\n</style>\n<table border=\"1\" class=\"dataframe\">\n  <thead>\n    <tr style=\"text-align: right;\">\n      <th></th>\n      <th>1</th>\n      <th>UV_0.1</th>\n      <th>UV_0.2</th>\n      <th>UV_0.3</th>\n      <th>UV_0.4</th>\n      <th>UV_0.5</th>\n    </tr>\n  </thead>\n  <tbody>\n    <tr>\n      <th>0</th>\n      <td>2.119801</td>\n      <td>3.895045</td>\n      <td>2.847981</td>\n      <td>2.610729</td>\n      <td>2.221367</td>\n      <td>2.004146</td>\n    </tr>\n    <tr>\n      <th>1</th>\n      <td>2.215550</td>\n      <td>3.881247</td>\n      <td>2.857391</td>\n      <td>2.431454</td>\n      <td>2.153402</td>\n      <td>2.011266</td>\n    </tr>\n    <tr>\n      <th>2</th>\n      <td>1.680509</td>\n      <td>3.892569</td>\n      <td>2.878134</td>\n      <td>2.449271</td>\n      <td>2.205467</td>\n      <td>2.020659</td>\n    </tr>\n  </tbody>\n</table>\n</div>"
     },
     "execution_count": 28,
     "metadata": {},
     "output_type": "execute_result"
    }
   ],
   "source": [
    "# Columns: \n",
    "# numbers (e.g. 1, 2.5, 5, 10): RRT(1), RRT(2.5), RRT(5), RRT(10)\n",
    "# UV_k: UV decomposition with gamma = k\n",
    "# Rows: Each row correspond to one round of simulation\n",
    "pd.DataFrame(length_dict_fig2)"
   ],
   "metadata": {
    "collapsed": false,
    "ExecuteTime": {
     "end_time": "2024-12-22T00:35:24.964305Z",
     "start_time": "2024-12-22T00:35:24.957985Z"
    }
   },
   "id": "ed46cebfb74768c5"
  },
  {
   "cell_type": "code",
   "execution_count": 29,
   "outputs": [
    {
     "data": {
      "text/plain": "          1    UV_0.1    UV_0.2    UV_0.3    UV_0.4    UV_0.5\n0  4.754626  5.724732  5.861563  4.959129  5.453345  5.903943\n1  5.007723  4.709248  4.827129  4.688048  4.627214  4.768680\n2  5.004523  4.553102  4.918423  4.947749  5.058473  5.104218",
      "text/html": "<div>\n<style scoped>\n    .dataframe tbody tr th:only-of-type {\n        vertical-align: middle;\n    }\n\n    .dataframe tbody tr th {\n        vertical-align: top;\n    }\n\n    .dataframe thead th {\n        text-align: right;\n    }\n</style>\n<table border=\"1\" class=\"dataframe\">\n  <thead>\n    <tr style=\"text-align: right;\">\n      <th></th>\n      <th>1</th>\n      <th>UV_0.1</th>\n      <th>UV_0.2</th>\n      <th>UV_0.3</th>\n      <th>UV_0.4</th>\n      <th>UV_0.5</th>\n    </tr>\n  </thead>\n  <tbody>\n    <tr>\n      <th>0</th>\n      <td>4.754626</td>\n      <td>5.724732</td>\n      <td>5.861563</td>\n      <td>4.959129</td>\n      <td>5.453345</td>\n      <td>5.903943</td>\n    </tr>\n    <tr>\n      <th>1</th>\n      <td>5.007723</td>\n      <td>4.709248</td>\n      <td>4.827129</td>\n      <td>4.688048</td>\n      <td>4.627214</td>\n      <td>4.768680</td>\n    </tr>\n    <tr>\n      <th>2</th>\n      <td>5.004523</td>\n      <td>4.553102</td>\n      <td>4.918423</td>\n      <td>4.947749</td>\n      <td>5.058473</td>\n      <td>5.104218</td>\n    </tr>\n  </tbody>\n</table>\n</div>"
     },
     "execution_count": 29,
     "metadata": {},
     "output_type": "execute_result"
    }
   ],
   "source": [
    "# Columns: \n",
    "# numbers (e.g. 1, 2.5, 5, 10): RRT(1), RRT(2.5), RRT(5), RRT(10)\n",
    "# UV_k: UV decomposition with gamma = k\n",
    "# Rows: Each row correspond to one round of simulation\n",
    "pd.DataFrame(MSE_dict_fig2)"
   ],
   "metadata": {
    "collapsed": false,
    "ExecuteTime": {
     "end_time": "2024-12-22T00:35:27.470351Z",
     "start_time": "2024-12-22T00:35:27.463372Z"
    }
   },
   "id": "12e6df0dc95ead2f"
  },
  {
   "cell_type": "code",
   "execution_count": null,
   "outputs": [],
   "source": [],
   "metadata": {
    "collapsed": false
   },
   "id": "20c87f9deb7dfc3b"
  }
 ],
 "metadata": {
  "kernelspec": {
   "display_name": "Python 3",
   "language": "python",
   "name": "python3"
  },
  "language_info": {
   "codemirror_mode": {
    "name": "ipython",
    "version": 2
   },
   "file_extension": ".py",
   "mimetype": "text/x-python",
   "name": "python",
   "nbconvert_exporter": "python",
   "pygments_lexer": "ipython2",
   "version": "2.7.6"
  }
 },
 "nbformat": 4,
 "nbformat_minor": 5
}
