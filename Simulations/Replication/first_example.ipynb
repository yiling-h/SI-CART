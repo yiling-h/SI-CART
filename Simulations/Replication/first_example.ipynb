{
 "cells": [
  {
   "cell_type": "code",
   "execution_count": 1,
   "id": "initial_id",
   "metadata": {
    "collapsed": true,
    "ExecuteTime": {
     "end_time": "2025-03-04T21:21:07.454864Z",
     "start_time": "2025-03-04T21:21:04.191001Z"
    }
   },
   "outputs": [],
   "source": [
    "import sys, os\n",
    "\n",
    "import numpy as np\n",
    "import pandas as pd\n",
    "\n",
    "from CART import *\n",
    "from Utils.plotting import  *\n",
    "from scipy.stats import norm as ndist\n",
    "import joblib\n",
    "\n",
    "# For tree-values\n",
    "import rpy2.robjects.packages as rpackages\n",
    "from rpy2.robjects.vectors import StrVector\n",
    "\n",
    "# Select a CRAN mirror to download from\n",
    "utils = rpackages.importr('utils')\n",
    "utils.chooseCRANmirror(ind=1)  # Select the first mirror\n",
    "\n",
    "# Install 'remotes' if it's not already installed\n",
    "if not rpackages.isinstalled('remotes'):\n",
    "    utils.install_packages(StrVector(('remotes',)))\n",
    "\n",
    "import rpy2.robjects as ro\n",
    "\n",
    "from rpy2.robjects.packages import importr\n",
    "from rpy2.robjects import pandas2ri\n",
    "from rpy2.robjects import numpy2ri"
   ]
  },
  {
   "cell_type": "code",
   "execution_count": 2,
   "outputs": [
    {
     "name": "stderr",
     "output_type": "stream",
     "text": [
      "R[write to console]: Using GitHub PAT from the git credential store.\n",
      "\n",
      "R[write to console]: Skipping install of 'treevalues' from a github remote, the SHA1 (55573782) has not changed since last install.\n",
      "  Use `force = TRUE` to force installation\n",
      "\n"
     ]
    }
   ],
   "source": [
    "# Run the GitHub installation command for 'treevalues'\n",
    "ro.r('remotes::install_github(\"anna-neufeld/treevalues\")')\n",
    "ro.r('library(treevalues)')\n",
    "ro.r('library(rpart)')"
   ],
   "metadata": {
    "collapsed": false,
    "ExecuteTime": {
     "end_time": "2025-03-04T21:21:07.985739Z",
     "start_time": "2025-03-04T21:21:07.455130Z"
    }
   },
   "id": "b5d5ac8ed92d6131"
  },
  {
   "cell_type": "code",
   "execution_count": 3,
   "outputs": [],
   "source": [
    "def generate_test(mu, sd_y):\n",
    "    n = mu.shape[0]\n",
    "    return mu + np.random.normal(size=(n,), scale=sd_y)"
   ],
   "metadata": {
    "collapsed": false,
    "ExecuteTime": {
     "end_time": "2025-03-04T21:21:07.988647Z",
     "start_time": "2025-03-04T21:21:07.986158Z"
    }
   },
   "id": "2b12e4284552b1ef"
  },
  {
   "cell_type": "markdown",
   "source": [
    "# Tree-values inference"
   ],
   "metadata": {
    "collapsed": false,
    "ExecuteTime": {
     "end_time": "2025-02-28T04:45:00.398703Z",
     "start_time": "2025-02-28T04:45:00.393620Z"
    }
   },
   "id": "3201be659cb7259f"
  },
  {
   "cell_type": "code",
   "execution_count": 4,
   "outputs": [],
   "source": [
    "def tree_values_inference(X, y, mu, sd_y, max_depth=5, level=0.1,\n",
    "                          X_test=None):\n",
    "    # Convert the NumPy matrix to an R matrix\n",
    "    X_r = numpy2ri.py2rpy(X)\n",
    "    y_r = numpy2ri.py2rpy(y)\n",
    "\n",
    "    # Assign the R matrix to a variable in the R environment (optional)\n",
    "    ro.globalenv['X_r'] = X_r\n",
    "    ro.globalenv['y_r'] = y_r\n",
    "    ro.globalenv['p'] = X.shape[1]\n",
    "\n",
    "    # Construct dataset\n",
    "    ro.r('data <- cbind(y_r, X_r)')\n",
    "    # Set the column names to \"y\", \"x1\", \"x2\", ..., \"x10\"\n",
    "    ro.r('colnames(data) <- c(\"y\", paste0(\"x\", 1:p))')\n",
    "    ro.r('data = data.frame(data)')\n",
    "\n",
    "    # Define the rpart tree model\n",
    "    tree_cmd = ('bls.tree <- rpart(y ~ ., data=data, model = TRUE, ' +\n",
    "                'control = rpart.control(cp=0.00, minsplit = 50, minbucket = 20, maxdepth=') + str(max_depth) + '))'\n",
    "    ro.r(tree_cmd)\n",
    "    bls_tree = ro.r('bls.tree')\n",
    "    # Plot the tree values (this will plot directly if you have a plotting backend set up)\n",
    "    # ro.r('treeval.plot(bls.tree, inferenceType=0)')\n",
    "\n",
    "    # ro.r('print(row.names(bls.tree$frame)[bls.tree$frame$var == \"<leaf>\"])')\n",
    "    ro.r('leaf_idx <- (row.names(bls.tree$frame)[bls.tree$frame$var == \"<leaf>\"])')\n",
    "    leaf_idx = ro.r['leaf_idx']\n",
    "\n",
    "    # Get node mapping\n",
    "    ro.r('idx_full <- 1:nrow(bls.tree$frame)')\n",
    "    ro.r('mapped_idx <- idx_full[bls.tree$frame$var == \"<leaf>\"]')\n",
    "\n",
    "    len = []\n",
    "    coverage = []\n",
    "    len_naive = []\n",
    "    coverage_naive = []\n",
    "\n",
    "    for i, idx in enumerate(leaf_idx):\n",
    "        # Get the branch information for a specific branch in the tree\n",
    "        command = 'branch <- getBranch(bls.tree, ' + str(idx) + ')'\n",
    "        ro.r(command)\n",
    "        # Perform branch inference\n",
    "        ro.r(f'result <- branchInference(bls.tree, branch, type=\"reg\", alpha = 0.10, sigma_y={sd_y})')\n",
    "        # Get confidence intervals\n",
    "        confint = ro.r('result$confint')\n",
    "        len.append(confint[1] - confint[0])\n",
    "\n",
    "        target_cmd = \"contrast <- (bls.tree$where == mapped_idx[\" + str(i + 1) + \"])\"\n",
    "        ro.r(target_cmd)\n",
    "        contrast = ro.r('contrast')\n",
    "        contrast = np.array(contrast)\n",
    "\n",
    "        contrast = np.array(contrast * 1 / np.sum(contrast))\n",
    "\n",
    "        target = contrast.dot(mu)\n",
    "        coverage.append(target >= confint[0] and target <= confint[1])\n",
    "\n",
    "        # Naive after tree value\n",
    "        # Confidence intervals\n",
    "        naive_CI = [contrast.dot(y) -\n",
    "                    np.linalg.norm(contrast) * sd_y * ndist.ppf(1 - level / 2),\n",
    "                    contrast.dot(y) +\n",
    "                    np.linalg.norm(contrast) * sd_y * ndist.ppf(1 - level / 2)]\n",
    "        coverage_naive.append((target >= naive_CI[0] and target <= naive_CI[1]))\n",
    "        len_naive.append(naive_CI[1] - naive_CI[0])\n",
    "\n",
    "    if X_test is not None:\n",
    "        X_test_r = numpy2ri.py2rpy(X_test)\n",
    "        ro.globalenv['X_test_r'] = X_test_r\n",
    "        ro.r('pred <- predict(bls.tree, data = X_test_r)')\n",
    "        pred = ro.r['pred']\n",
    "    else:\n",
    "        pred = None\n",
    "\n",
    "    return (np.mean(coverage), np.mean(len),\n",
    "            np.mean(coverage_naive), np.mean(len_naive), pred)"
   ],
   "metadata": {
    "collapsed": false,
    "ExecuteTime": {
     "end_time": "2025-03-04T21:21:15.458853Z",
     "start_time": "2025-03-04T21:21:15.449968Z"
    }
   },
   "id": "d5f59772261d8c06"
  },
  {
   "cell_type": "markdown",
   "source": [
    "# RRT inference"
   ],
   "metadata": {
    "collapsed": false,
    "ExecuteTime": {
     "end_time": "2025-02-28T04:45:00.826537Z",
     "start_time": "2025-02-28T04:45:00.817685Z"
    }
   },
   "id": "68b034d92f8e7a30"
  },
  {
   "cell_type": "code",
   "execution_count": 10,
   "outputs": [],
   "source": [
    "def randomized_inference(reg_tree, sd_y, y, mu, level=0.1):\n",
    "    # print(reg_tree.terminal_nodes)\n",
    "    coverage_i = []\n",
    "    lengths_i = []\n",
    "\n",
    "    for node in reg_tree.terminal_nodes:\n",
    "        \"\"\"pval, dist, contrast, norm_contrast, obs_tar, logW, suff, sel_probs, marginal \\\n",
    "            = (reg_tree.condl_node_inference(node=node,\n",
    "                                             ngrid=10000,\n",
    "                                             ncoarse=50,\n",
    "                                             grid_w_const=5,\n",
    "                                             reduced_dim=None,\n",
    "                                             sd=sd_y,\n",
    "                                             use_cvxpy=True))\n",
    "        target = contrast.dot(mu)\"\"\"\n",
    "        pval, dist, contrast, norm_contrast, obs_tar, logW, suff, sel_probs \\\n",
    "            = (reg_tree.node_inference(node=node,\n",
    "                                             ngrid=10000,\n",
    "                                             ncoarse=50,\n",
    "                                             grid_w_const=5,\n",
    "                                             sd=sd_y,\n",
    "                                             use_cvxpy=True))\n",
    "        target = contrast.dot(mu)\n",
    "\n",
    "        # This is an interval for\n",
    "        # eta_*'mu = eta'mu / (norm(eta) * sd_y)\n",
    "        selective_CI = (dist.equal_tailed_interval(observed=norm_contrast.dot(y),\n",
    "                                                   alpha=level))\n",
    "        selective_CI = np.array(selective_CI)\n",
    "        selective_CI *= np.linalg.norm(contrast) * sd_y\n",
    "        coverage_i.append((target >= selective_CI[0] and target <= selective_CI[1]))\n",
    "        lengths_i.append(selective_CI[1] - selective_CI[0])\n",
    "\n",
    "    return coverage_i, lengths_i"
   ],
   "metadata": {
    "collapsed": false,
    "ExecuteTime": {
     "end_time": "2025-03-04T21:24:01.506711Z",
     "start_time": "2025-03-04T21:24:01.494606Z"
    }
   },
   "id": "593dfd6522f79486"
  },
  {
   "cell_type": "markdown",
   "source": [
    "# Inference with UV decomposition"
   ],
   "metadata": {
    "collapsed": false,
    "ExecuteTime": {
     "end_time": "2025-02-28T04:45:01.348886Z",
     "start_time": "2025-02-28T04:45:01.342709Z"
    }
   },
   "id": "b59562660744af96"
  },
  {
   "cell_type": "code",
   "execution_count": 11,
   "outputs": [],
   "source": [
    "def UV_decomposition(X, y, mu, sd_y,\n",
    "                     max_depth=5, min_prop=0, min_sample=10, min_bucket=5,\n",
    "                     level=0.1, gamma=1,\n",
    "                     X_test=None):\n",
    "    n = X.shape[0]\n",
    "    W = np.random.normal(loc=0, scale=sd_y * np.sqrt(gamma), size=(n,))\n",
    "    U = y + W\n",
    "    V = y - W / gamma\n",
    "    sd_V = sd_y * np.sqrt(1 + 1 / gamma)\n",
    "    reg_tree = RegressionTree(min_samples_split=min_sample, max_depth=max_depth,\n",
    "                              min_proportion=min_prop, min_bucket=min_bucket)\n",
    "    reg_tree.fit(X, U, sd=0)\n",
    "\n",
    "    coverage = []\n",
    "    lengths = []\n",
    "\n",
    "    for node in reg_tree.terminal_nodes:\n",
    "        contrast = node.membership\n",
    "\n",
    "        contrast = np.array(contrast * 1 / np.sum(contrast))\n",
    "\n",
    "        target = contrast.dot(mu)\n",
    "\n",
    "        # Naive after tree value\n",
    "        # Confidence intervals\n",
    "        CI = [contrast.dot(V) -\n",
    "              np.linalg.norm(contrast) * sd_V * ndist.ppf(1 - level / 2),\n",
    "              contrast.dot(V) +\n",
    "              np.linalg.norm(contrast) * sd_V * ndist.ppf(1 - level / 2)]\n",
    "        coverage.append((target >= CI[0] and target <= CI[1]))\n",
    "        lengths.append(CI[1] - CI[0])\n",
    "\n",
    "    if X_test is not None:\n",
    "        pred = reg_tree.predict(X_test)\n",
    "    else:\n",
    "        pred = None\n",
    "\n",
    "    return coverage, lengths, pred"
   ],
   "metadata": {
    "collapsed": false,
    "ExecuteTime": {
     "end_time": "2025-03-04T21:24:02.657661Z",
     "start_time": "2025-03-04T21:24:02.654692Z"
    }
   },
   "id": "45c2e38de4e0ee17"
  },
  {
   "cell_type": "markdown",
   "source": [
    "# Replicating Figure 1"
   ],
   "metadata": {
    "collapsed": false,
    "ExecuteTime": {
     "end_time": "2025-02-28T04:45:02.220083Z",
     "start_time": "2025-02-28T04:45:02.195087Z"
    }
   },
   "id": "1e3f3b7319ac6822"
  },
  {
   "cell_type": "code",
   "execution_count": 12,
   "outputs": [],
   "source": [
    "def terminal_inference_sim(n=50, p=5, a=0.1, b=0.1,\n",
    "                           sd_y=1,\n",
    "                           noise_sd_list=[0.5, 1, 2, 5],\n",
    "                           UV_gamma_list=[],\n",
    "                           use_nonrand=True,\n",
    "                           start=0, end=100,\n",
    "                           level=0.1, path=None):\n",
    "    method_list = [f\"RRT_{sd}\" for sd in noise_sd_list]\n",
    "    if use_nonrand:\n",
    "        method_list += [\"Tree val\", \"Naive\"]\n",
    "    for gamma in UV_gamma_list:\n",
    "        method_list.append(\"UV_\" + str(gamma))\n",
    "\n",
    "    coverage_dict = {m: [] for m in method_list}\n",
    "    length_dict = {m: [] for m in method_list}\n",
    "    MSE_dict = {m: [] for m in method_list}\n",
    "\n",
    "    for i in range(start, end):\n",
    "        print(i, \"th simulation\")\n",
    "        np.random.seed(i + 10000)\n",
    "        X = np.random.normal(size=(n, p))\n",
    "\n",
    "        mu = b * ((X[:, 0] <= 0) * (1 + a * (X[:, 1] > 0) + (X[:, 2] * X[:, 1] <= 0)))\n",
    "        y = mu + np.random.normal(size=(n,), scale=sd_y)\n",
    "        y_test = generate_test(mu, sd_y)\n",
    "        \n",
    "        if use_nonrand:\n",
    "            # Tree value & naive inference & prediction\n",
    "            (coverage_treeval, avg_len_treeval,\n",
    "             coverage_treeval_naive, avg_len_treeval_naive,\n",
    "             pred_test_treeval) = tree_values_inference(X, y, mu, sd_y=sd_y,\n",
    "                                                        X_test=X, max_depth=3)\n",
    "            MSE_test_treeval = (np.mean((y_test - pred_test_treeval) ** 2))\n",
    "\n",
    "            coverage_dict[\"Tree val\"].append(coverage_treeval)\n",
    "            length_dict[\"Tree val\"].append(avg_len_treeval)\n",
    "            MSE_dict[\"Tree val\"].append(MSE_test_treeval)\n",
    "            coverage_dict[\"Naive\"].append(coverage_treeval_naive)\n",
    "            length_dict[\"Naive\"].append(avg_len_treeval_naive)\n",
    "            MSE_dict[\"Naive\"].append(MSE_test_treeval)\n",
    "\n",
    "        for noise_sd in noise_sd_list:\n",
    "            # Create and train the regression tree\n",
    "            reg_tree = RegressionTree(min_samples_split=50, max_depth=3,\n",
    "                                      min_proportion=0., min_bucket=20)\n",
    "\n",
    "            reg_tree.fit(X, y, sd=noise_sd * sd_y)\n",
    "\n",
    "            coverage_i, lengths_i = randomized_inference(reg_tree=reg_tree,\n",
    "                                                         y=y, sd_y=sd_y, mu=mu,\n",
    "                                                         level=level)\n",
    "            pred_test = reg_tree.predict(X)\n",
    "            MSE_test = (np.mean((y_test - pred_test) ** 2))\n",
    "            # Record results\n",
    "            coverage_dict[f\"RRT_{noise_sd}\"].append(np.mean(coverage_i))\n",
    "            length_dict[f\"RRT_{noise_sd}\"].append(np.mean(lengths_i))\n",
    "            MSE_dict[f\"RRT_{noise_sd}\"].append(MSE_test)\n",
    "\n",
    "        for gamma in UV_gamma_list:\n",
    "            gamma_key = \"UV_\" + str(gamma)\n",
    "            # UV decomposition\n",
    "            coverage_UV, len_UV, pred_UV = UV_decomposition(X, y, mu, sd_y, X_test=X,\n",
    "                                                            min_prop=0., max_depth=3,\n",
    "                                                            min_sample=50, min_bucket=20,\n",
    "                                                            gamma=gamma)\n",
    "            MSE_UV = (np.mean((y_test - pred_UV) ** 2))\n",
    "            coverage_dict[gamma_key].append(np.mean(coverage_UV))\n",
    "            length_dict[gamma_key].append(np.mean(len_UV))\n",
    "            MSE_dict[gamma_key].append(MSE_UV)\n",
    "\n",
    "        if path is not None:\n",
    "            joblib.dump([coverage_dict, length_dict, MSE_dict], path, compress=1)\n",
    "\n",
    "    return coverage_dict, length_dict, MSE_dict"
   ],
   "metadata": {
    "collapsed": false,
    "ExecuteTime": {
     "end_time": "2025-03-04T21:24:03.589217Z",
     "start_time": "2025-03-04T21:24:03.582843Z"
    }
   },
   "id": "d4fc427721e488a9"
  },
  {
   "cell_type": "code",
   "execution_count": 57,
   "outputs": [
    {
     "name": "stdout",
     "output_type": "stream",
     "text": [
      "0 th simulation\n"
     ]
    },
    {
     "ename": "KeyboardInterrupt",
     "evalue": "",
     "output_type": "error",
     "traceback": [
      "\u001B[0;31m---------------------------------------------------------------------------\u001B[0m",
      "\u001B[0;31mKeyboardInterrupt\u001B[0m                         Traceback (most recent call last)",
      "Cell \u001B[0;32mIn[57], line 2\u001B[0m\n\u001B[1;32m      1\u001B[0m coverage_dict_fig1, length_dict_fig1, MSE_dict_fig1\\\n\u001B[0;32m----> 2\u001B[0m     \u001B[38;5;241m=\u001B[39m \u001B[43mterminal_inference_sim\u001B[49m\u001B[43m(\u001B[49m\u001B[43mn\u001B[49m\u001B[38;5;241;43m=\u001B[39;49m\u001B[38;5;241;43m200\u001B[39;49m\u001B[43m,\u001B[49m\u001B[43m \u001B[49m\u001B[43mp\u001B[49m\u001B[38;5;241;43m=\u001B[39;49m\u001B[38;5;241;43m5\u001B[39;49m\u001B[43m,\u001B[49m\u001B[43m \u001B[49m\u001B[43ma\u001B[49m\u001B[38;5;241;43m=\u001B[39;49m\u001B[38;5;241;43m1\u001B[39;49m\u001B[43m,\u001B[49m\u001B[43m \u001B[49m\u001B[43mb\u001B[49m\u001B[38;5;241;43m=\u001B[39;49m\u001B[38;5;241;43m2\u001B[39;49m\u001B[43m,\u001B[49m\n\u001B[1;32m      3\u001B[0m \u001B[43m                             \u001B[49m\u001B[43msd_y\u001B[49m\u001B[38;5;241;43m=\u001B[39;49m\u001B[38;5;241;43m2\u001B[39;49m\u001B[43m,\u001B[49m\n\u001B[1;32m      4\u001B[0m \u001B[43m                             \u001B[49m\u001B[43mnoise_sd_list\u001B[49m\u001B[38;5;241;43m=\u001B[39;49m\u001B[43m[\u001B[49m\u001B[38;5;241;43m1\u001B[39;49m\u001B[43m,\u001B[49m\u001B[43m \u001B[49m\u001B[38;5;241;43m2.5\u001B[39;49m\u001B[43m,\u001B[49m\u001B[43m \u001B[49m\u001B[38;5;241;43m5\u001B[39;49m\u001B[43m,\u001B[49m\u001B[43m \u001B[49m\u001B[38;5;241;43m10\u001B[39;49m\u001B[43m]\u001B[49m\u001B[43m,\u001B[49m\n\u001B[1;32m      5\u001B[0m \u001B[43m                             \u001B[49m\u001B[43mUV_gamma_list\u001B[49m\u001B[38;5;241;43m=\u001B[39;49m\u001B[43m[\u001B[49m\u001B[43m]\u001B[49m\u001B[43m,\u001B[49m\n\u001B[1;32m      6\u001B[0m \u001B[43m                             \u001B[49m\u001B[43muse_nonrand\u001B[49m\u001B[38;5;241;43m=\u001B[39;49m\u001B[38;5;28;43;01mTrue\u001B[39;49;00m\u001B[43m,\u001B[49m\n\u001B[1;32m      7\u001B[0m \u001B[43m                             \u001B[49m\u001B[43mstart\u001B[49m\u001B[38;5;241;43m=\u001B[39;49m\u001B[38;5;241;43m0\u001B[39;49m\u001B[43m,\u001B[49m\u001B[43m \u001B[49m\u001B[43mend\u001B[49m\u001B[38;5;241;43m=\u001B[39;49m\u001B[38;5;241;43m10\u001B[39;49m\u001B[43m,\u001B[49m\n\u001B[1;32m      8\u001B[0m \u001B[43m                             \u001B[49m\u001B[43mlevel\u001B[49m\u001B[38;5;241;43m=\u001B[39;49m\u001B[38;5;241;43m0.1\u001B[39;49m\u001B[43m,\u001B[49m\u001B[43m \u001B[49m\u001B[43mpath\u001B[49m\u001B[38;5;241;43m=\u001B[39;49m\u001B[38;5;28;43;01mNone\u001B[39;49;00m\u001B[43m)\u001B[49m\n",
      "Cell \u001B[0;32mIn[56], line 49\u001B[0m, in \u001B[0;36mterminal_inference_sim\u001B[0;34m(n, p, a, b, sd_y, noise_sd_list, UV_gamma_list, use_nonrand, start, end, level, path)\u001B[0m\n\u001B[1;32m     44\u001B[0m reg_tree \u001B[38;5;241m=\u001B[39m RegressionTree(min_samples_split\u001B[38;5;241m=\u001B[39m\u001B[38;5;241m50\u001B[39m, max_depth\u001B[38;5;241m=\u001B[39m\u001B[38;5;241m3\u001B[39m,\n\u001B[1;32m     45\u001B[0m                           min_proportion\u001B[38;5;241m=\u001B[39m\u001B[38;5;241m0.\u001B[39m, min_bucket\u001B[38;5;241m=\u001B[39m\u001B[38;5;241m20\u001B[39m)\n\u001B[1;32m     47\u001B[0m reg_tree\u001B[38;5;241m.\u001B[39mfit(X, y, sd\u001B[38;5;241m=\u001B[39mnoise_sd \u001B[38;5;241m*\u001B[39m sd_y)\n\u001B[0;32m---> 49\u001B[0m coverage_i, lengths_i \u001B[38;5;241m=\u001B[39m \u001B[43mrandomized_inference\u001B[49m\u001B[43m(\u001B[49m\u001B[43mreg_tree\u001B[49m\u001B[38;5;241;43m=\u001B[39;49m\u001B[43mreg_tree\u001B[49m\u001B[43m,\u001B[49m\n\u001B[1;32m     50\u001B[0m \u001B[43m                                             \u001B[49m\u001B[43my\u001B[49m\u001B[38;5;241;43m=\u001B[39;49m\u001B[43my\u001B[49m\u001B[43m,\u001B[49m\u001B[43m \u001B[49m\u001B[43msd_y\u001B[49m\u001B[38;5;241;43m=\u001B[39;49m\u001B[43msd_y\u001B[49m\u001B[43m,\u001B[49m\u001B[43m \u001B[49m\u001B[43mmu\u001B[49m\u001B[38;5;241;43m=\u001B[39;49m\u001B[43mmu\u001B[49m\u001B[43m,\u001B[49m\n\u001B[1;32m     51\u001B[0m \u001B[43m                                             \u001B[49m\u001B[43mlevel\u001B[49m\u001B[38;5;241;43m=\u001B[39;49m\u001B[43mlevel\u001B[49m\u001B[43m)\u001B[49m\n\u001B[1;32m     52\u001B[0m pred_test \u001B[38;5;241m=\u001B[39m reg_tree\u001B[38;5;241m.\u001B[39mpredict(X)\n\u001B[1;32m     53\u001B[0m MSE_test \u001B[38;5;241m=\u001B[39m (np\u001B[38;5;241m.\u001B[39mmean((y_test \u001B[38;5;241m-\u001B[39m pred_test) \u001B[38;5;241m*\u001B[39m\u001B[38;5;241m*\u001B[39m \u001B[38;5;241m2\u001B[39m))\n",
      "Cell \u001B[0;32mIn[54], line 8\u001B[0m, in \u001B[0;36mrandomized_inference\u001B[0;34m(reg_tree, sd_y, y, mu, level)\u001B[0m\n\u001B[1;32m      4\u001B[0m lengths_i \u001B[38;5;241m=\u001B[39m []\n\u001B[1;32m      6\u001B[0m \u001B[38;5;28;01mfor\u001B[39;00m node \u001B[38;5;129;01min\u001B[39;00m reg_tree\u001B[38;5;241m.\u001B[39mterminal_nodes:\n\u001B[1;32m      7\u001B[0m     pval, dist, contrast, norm_contrast, obs_tar, logW, suff, sel_probs \\\n\u001B[0;32m----> 8\u001B[0m         \u001B[38;5;241m=\u001B[39m (\u001B[43mreg_tree\u001B[49m\u001B[38;5;241;43m.\u001B[39;49m\u001B[43mcondl_node_inference\u001B[49m\u001B[43m(\u001B[49m\u001B[43mnode\u001B[49m\u001B[38;5;241;43m=\u001B[39;49m\u001B[43mnode\u001B[49m\u001B[43m,\u001B[49m\n\u001B[1;32m      9\u001B[0m \u001B[43m                                         \u001B[49m\u001B[43mngrid\u001B[49m\u001B[38;5;241;43m=\u001B[39;49m\u001B[38;5;241;43m10000\u001B[39;49m\u001B[43m,\u001B[49m\n\u001B[1;32m     10\u001B[0m \u001B[43m                                         \u001B[49m\u001B[43mncoarse\u001B[49m\u001B[38;5;241;43m=\u001B[39;49m\u001B[38;5;241;43m50\u001B[39;49m\u001B[43m,\u001B[49m\n\u001B[1;32m     11\u001B[0m \u001B[43m                                         \u001B[49m\u001B[43mgrid_w_const\u001B[49m\u001B[38;5;241;43m=\u001B[39;49m\u001B[38;5;241;43m5\u001B[39;49m\u001B[43m,\u001B[49m\n\u001B[1;32m     12\u001B[0m \u001B[43m                                         \u001B[49m\u001B[43mreduced_dim\u001B[49m\u001B[38;5;241;43m=\u001B[39;49m\u001B[38;5;28;43;01mNone\u001B[39;49;00m\u001B[43m,\u001B[49m\n\u001B[1;32m     13\u001B[0m \u001B[43m                                         \u001B[49m\u001B[43msd\u001B[49m\u001B[38;5;241;43m=\u001B[39;49m\u001B[43msd_y\u001B[49m\u001B[43m,\u001B[49m\n\u001B[1;32m     14\u001B[0m \u001B[43m                                         \u001B[49m\u001B[43muse_cvxpy\u001B[49m\u001B[38;5;241;43m=\u001B[39;49m\u001B[38;5;28;43;01mTrue\u001B[39;49;00m\u001B[43m)\u001B[49m)\n\u001B[1;32m     15\u001B[0m     target \u001B[38;5;241m=\u001B[39m contrast\u001B[38;5;241m.\u001B[39mdot(mu)\n\u001B[1;32m     17\u001B[0m     \u001B[38;5;66;03m# This is an interval for\u001B[39;00m\n\u001B[1;32m     18\u001B[0m     \u001B[38;5;66;03m# eta_*'mu = eta'mu / (norm(eta) * sd_y)\u001B[39;00m\n",
      "File \u001B[0;32m~/Desktop/PhD/SI_Codes/SI-CART/CART.py:808\u001B[0m, in \u001B[0;36mcondl_node_inference\u001B[0;34m(self, node, ngrid, ncoarse, grid_w_const, sd, reduced_dim, use_cvxpy)\u001B[0m\n\u001B[1;32m    806\u001B[0m     eval_grid \u001B[38;5;241m=\u001B[39m coarse_grid\n\u001B[1;32m    807\u001B[0m \u001B[38;5;28;01melse\u001B[39;00m:\n\u001B[0;32m--> 808\u001B[0m     eval_grid \u001B[38;5;241m=\u001B[39m stat_grid\n\u001B[1;32m    810\u001B[0m ref \u001B[38;5;241m=\u001B[39m \u001B[38;5;28mself\u001B[39m\u001B[38;5;241m.\u001B[39m_condl_approx_log_reference(node\u001B[38;5;241m=\u001B[39mnode\u001B[38;5;241m.\u001B[39mprev_node,\n\u001B[1;32m    811\u001B[0m                                        grid\u001B[38;5;241m=\u001B[39meval_grid,\n\u001B[1;32m    812\u001B[0m                                        nuisance\u001B[38;5;241m=\u001B[39mnuisance,\n\u001B[0;32m   (...)\u001B[0m\n\u001B[1;32m    815\u001B[0m                                        reduced_dim\u001B[38;5;241m=\u001B[39mreduced_dim,\n\u001B[1;32m    816\u001B[0m                                        use_CVXPY\u001B[38;5;241m=\u001B[39muse_cvxpy)\n\u001B[1;32m    818\u001B[0m \u001B[38;5;28;01mif\u001B[39;00m ncoarse \u001B[38;5;129;01mis\u001B[39;00m \u001B[38;5;28;01mNone\u001B[39;00m:\n",
      "File \u001B[0;32m~/Desktop/PhD/SI_Codes/SI-CART/CART.py:453\u001B[0m, in \u001B[0;36mRegressionTree._condl_approx_log_reference\u001B[0;34m(self, node, grid, nuisance, norm_contrast, sd, sd_rand, reduced_dim, use_CVXPY)\u001B[0m\n\u001B[1;32m    450\u001B[0m \u001B[38;5;28;01mif\u001B[39;00m \u001B[38;5;129;01mnot\u001B[39;00m (j \u001B[38;5;241m==\u001B[39m j_opt \u001B[38;5;129;01mand\u001B[39;00m s \u001B[38;5;241m==\u001B[39m s_opt):\n\u001B[1;32m    451\u001B[0m     threshold \u001B[38;5;241m=\u001B[39m feature_values_sorted[s,j]\n\u001B[1;32m    452\u001B[0m     X_left, y_left, X_right, y_right \\\n\u001B[0;32m--> 453\u001B[0m         \u001B[38;5;241m=\u001B[39m \u001B[38;5;28mself\u001B[39m\u001B[38;5;241m.\u001B[39m_split(X, y_g, j, threshold)\n\u001B[1;32m    454\u001B[0m     implied_mean_s_j \\\n\u001B[1;32m    455\u001B[0m         \u001B[38;5;241m=\u001B[39m optimal_loss \u001B[38;5;241m-\u001B[39m \u001B[38;5;28mself\u001B[39m\u001B[38;5;241m.\u001B[39m_calculate_loss(y_left,\n\u001B[1;32m    456\u001B[0m                                               y_right,\n\u001B[1;32m    457\u001B[0m                                               randomization\u001B[38;5;241m=\u001B[39m\u001B[38;5;241m0\u001B[39m)\n\u001B[1;32m    458\u001B[0m     \u001B[38;5;66;03m# The split of the actually observed Y\u001B[39;00m\n",
      "File \u001B[0;32m~/Desktop/PhD/SI_Codes/SI-CART/CART.py:187\u001B[0m, in \u001B[0;36mRegressionTree._split\u001B[0;34m(self, X, y, feature_index, threshold)\u001B[0m\n\u001B[1;32m    185\u001B[0m left_mask \u001B[38;5;241m=\u001B[39m X[:, feature_index] \u001B[38;5;241m<\u001B[39m\u001B[38;5;241m=\u001B[39m threshold\n\u001B[1;32m    186\u001B[0m right_mask \u001B[38;5;241m=\u001B[39m X[:, feature_index] \u001B[38;5;241m>\u001B[39m threshold\n\u001B[0;32m--> 187\u001B[0m \u001B[38;5;28;01mreturn\u001B[39;00m X[left_mask], y[left_mask], X[right_mask], \u001B[43my\u001B[49m\u001B[43m[\u001B[49m\u001B[43mright_mask\u001B[49m\u001B[43m]\u001B[49m\n",
      "\u001B[0;31mKeyboardInterrupt\u001B[0m: "
     ]
    }
   ],
   "source": [
    "coverage_dict_fig1, length_dict_fig1, MSE_dict_fig1\\\n",
    "    = terminal_inference_sim(n=200, p=5, a=1, b=2,\n",
    "                             sd_y=2,\n",
    "                             noise_sd_list=[1, 2.5, 5, 10],\n",
    "                             UV_gamma_list=[],\n",
    "                             use_nonrand=True,\n",
    "                             start=0, end=10,\n",
    "                             level=0.1, path=None)"
   ],
   "metadata": {
    "collapsed": false,
    "ExecuteTime": {
     "end_time": "2025-03-03T02:32:11.285919Z",
     "start_time": "2025-03-03T02:32:07.719567Z"
    }
   },
   "id": "8777d8f757e29461"
  },
  {
   "cell_type": "code",
   "execution_count": 41,
   "outputs": [
    {
     "data": {
      "text/plain": "      RRT_1   RRT_2.5     RRT_5    RRT_10  Tree val     Naive\n0  0.857143  0.833333  0.500000  0.333333  0.714286  0.714286\n1  1.000000  1.000000  0.333333  0.500000  0.833333  0.500000\n2  1.000000  0.500000  0.333333  0.571429  1.000000  0.666667\n3  1.000000  0.833333  0.833333  0.833333  1.000000  0.666667\n4  0.833333  0.833333  0.500000  0.000000  0.833333  0.500000\n5  0.666667  0.500000  0.200000  0.833333  1.000000  0.666667\n6  0.666667  0.666667  0.500000  0.800000  0.833333  0.833333\n7  0.833333  0.571429  0.333333  0.666667  1.000000  0.833333\n8  0.666667  1.000000  0.500000  0.000000  1.000000  0.833333\n9  0.857143  0.500000  0.714286  0.800000  0.857143  0.714286",
      "text/html": "<div>\n<style scoped>\n    .dataframe tbody tr th:only-of-type {\n        vertical-align: middle;\n    }\n\n    .dataframe tbody tr th {\n        vertical-align: top;\n    }\n\n    .dataframe thead th {\n        text-align: right;\n    }\n</style>\n<table border=\"1\" class=\"dataframe\">\n  <thead>\n    <tr style=\"text-align: right;\">\n      <th></th>\n      <th>RRT_1</th>\n      <th>RRT_2.5</th>\n      <th>RRT_5</th>\n      <th>RRT_10</th>\n      <th>Tree val</th>\n      <th>Naive</th>\n    </tr>\n  </thead>\n  <tbody>\n    <tr>\n      <th>0</th>\n      <td>0.857143</td>\n      <td>0.833333</td>\n      <td>0.500000</td>\n      <td>0.333333</td>\n      <td>0.714286</td>\n      <td>0.714286</td>\n    </tr>\n    <tr>\n      <th>1</th>\n      <td>1.000000</td>\n      <td>1.000000</td>\n      <td>0.333333</td>\n      <td>0.500000</td>\n      <td>0.833333</td>\n      <td>0.500000</td>\n    </tr>\n    <tr>\n      <th>2</th>\n      <td>1.000000</td>\n      <td>0.500000</td>\n      <td>0.333333</td>\n      <td>0.571429</td>\n      <td>1.000000</td>\n      <td>0.666667</td>\n    </tr>\n    <tr>\n      <th>3</th>\n      <td>1.000000</td>\n      <td>0.833333</td>\n      <td>0.833333</td>\n      <td>0.833333</td>\n      <td>1.000000</td>\n      <td>0.666667</td>\n    </tr>\n    <tr>\n      <th>4</th>\n      <td>0.833333</td>\n      <td>0.833333</td>\n      <td>0.500000</td>\n      <td>0.000000</td>\n      <td>0.833333</td>\n      <td>0.500000</td>\n    </tr>\n    <tr>\n      <th>5</th>\n      <td>0.666667</td>\n      <td>0.500000</td>\n      <td>0.200000</td>\n      <td>0.833333</td>\n      <td>1.000000</td>\n      <td>0.666667</td>\n    </tr>\n    <tr>\n      <th>6</th>\n      <td>0.666667</td>\n      <td>0.666667</td>\n      <td>0.500000</td>\n      <td>0.800000</td>\n      <td>0.833333</td>\n      <td>0.833333</td>\n    </tr>\n    <tr>\n      <th>7</th>\n      <td>0.833333</td>\n      <td>0.571429</td>\n      <td>0.333333</td>\n      <td>0.666667</td>\n      <td>1.000000</td>\n      <td>0.833333</td>\n    </tr>\n    <tr>\n      <th>8</th>\n      <td>0.666667</td>\n      <td>1.000000</td>\n      <td>0.500000</td>\n      <td>0.000000</td>\n      <td>1.000000</td>\n      <td>0.833333</td>\n    </tr>\n    <tr>\n      <th>9</th>\n      <td>0.857143</td>\n      <td>0.500000</td>\n      <td>0.714286</td>\n      <td>0.800000</td>\n      <td>0.857143</td>\n      <td>0.714286</td>\n    </tr>\n  </tbody>\n</table>\n</div>"
     },
     "execution_count": 41,
     "metadata": {},
     "output_type": "execute_result"
    }
   ],
   "source": [
    "# Columns: \n",
    "# RRT_c: RRT with external randomization N(0, (c*sd_y)^2)\n",
    "# Tree val: Tree-values\n",
    "# Naive: naive inference\n",
    "# Rows: Each row correspond to one round of simulation\n",
    "pd.DataFrame(coverage_dict_fig1)"
   ],
   "metadata": {
    "collapsed": false,
    "ExecuteTime": {
     "end_time": "2025-03-02T04:26:17.265404Z",
     "start_time": "2025-03-02T04:26:17.250442Z"
    }
   },
   "id": "4d01c5abe5810828"
  },
  {
   "cell_type": "code",
   "execution_count": 42,
   "outputs": [
    {
     "data": {
      "text/plain": "      RRT_1    RRT_2.5     RRT_5    RRT_10   Tree val     Naive\n0  7.784962   3.223355  2.088642  1.555218  25.308622  1.258967\n1  8.140773   3.335638  2.374394  3.588022   2.290091  1.166525\n2  7.670032  24.522497  2.666470  1.834126   1.871536  1.178633\n3  8.087814   3.729001  2.017375  1.612790   8.596456  1.175594\n4  7.680314   3.294272  2.768114  1.531076   4.511139  1.148400\n5  6.478428   3.037022  2.229905  1.681322   3.924660  1.162317\n6  6.590405   3.178615  1.910740  2.319600   6.900845  1.187061\n7  7.964584   3.795824  2.184275  2.927199   4.945598  1.183292\n8  8.461452   9.548080  2.340645  1.824263   2.397167  1.196362\n9  7.918850   3.688424  2.469129  2.797241   3.960502  1.246913",
      "text/html": "<div>\n<style scoped>\n    .dataframe tbody tr th:only-of-type {\n        vertical-align: middle;\n    }\n\n    .dataframe tbody tr th {\n        vertical-align: top;\n    }\n\n    .dataframe thead th {\n        text-align: right;\n    }\n</style>\n<table border=\"1\" class=\"dataframe\">\n  <thead>\n    <tr style=\"text-align: right;\">\n      <th></th>\n      <th>RRT_1</th>\n      <th>RRT_2.5</th>\n      <th>RRT_5</th>\n      <th>RRT_10</th>\n      <th>Tree val</th>\n      <th>Naive</th>\n    </tr>\n  </thead>\n  <tbody>\n    <tr>\n      <th>0</th>\n      <td>7.784962</td>\n      <td>3.223355</td>\n      <td>2.088642</td>\n      <td>1.555218</td>\n      <td>25.308622</td>\n      <td>1.258967</td>\n    </tr>\n    <tr>\n      <th>1</th>\n      <td>8.140773</td>\n      <td>3.335638</td>\n      <td>2.374394</td>\n      <td>3.588022</td>\n      <td>2.290091</td>\n      <td>1.166525</td>\n    </tr>\n    <tr>\n      <th>2</th>\n      <td>7.670032</td>\n      <td>24.522497</td>\n      <td>2.666470</td>\n      <td>1.834126</td>\n      <td>1.871536</td>\n      <td>1.178633</td>\n    </tr>\n    <tr>\n      <th>3</th>\n      <td>8.087814</td>\n      <td>3.729001</td>\n      <td>2.017375</td>\n      <td>1.612790</td>\n      <td>8.596456</td>\n      <td>1.175594</td>\n    </tr>\n    <tr>\n      <th>4</th>\n      <td>7.680314</td>\n      <td>3.294272</td>\n      <td>2.768114</td>\n      <td>1.531076</td>\n      <td>4.511139</td>\n      <td>1.148400</td>\n    </tr>\n    <tr>\n      <th>5</th>\n      <td>6.478428</td>\n      <td>3.037022</td>\n      <td>2.229905</td>\n      <td>1.681322</td>\n      <td>3.924660</td>\n      <td>1.162317</td>\n    </tr>\n    <tr>\n      <th>6</th>\n      <td>6.590405</td>\n      <td>3.178615</td>\n      <td>1.910740</td>\n      <td>2.319600</td>\n      <td>6.900845</td>\n      <td>1.187061</td>\n    </tr>\n    <tr>\n      <th>7</th>\n      <td>7.964584</td>\n      <td>3.795824</td>\n      <td>2.184275</td>\n      <td>2.927199</td>\n      <td>4.945598</td>\n      <td>1.183292</td>\n    </tr>\n    <tr>\n      <th>8</th>\n      <td>8.461452</td>\n      <td>9.548080</td>\n      <td>2.340645</td>\n      <td>1.824263</td>\n      <td>2.397167</td>\n      <td>1.196362</td>\n    </tr>\n    <tr>\n      <th>9</th>\n      <td>7.918850</td>\n      <td>3.688424</td>\n      <td>2.469129</td>\n      <td>2.797241</td>\n      <td>3.960502</td>\n      <td>1.246913</td>\n    </tr>\n  </tbody>\n</table>\n</div>"
     },
     "execution_count": 42,
     "metadata": {},
     "output_type": "execute_result"
    }
   ],
   "source": [
    "# Columns: \n",
    "# RRT_c: RRT with external randomization N(0, (c*sd_y)^2)\n",
    "# Tree val: Tree-values\n",
    "# Naive: naive inference\n",
    "# Rows: Each row correspond to one round of simulation\n",
    "pd.DataFrame(length_dict_fig1)"
   ],
   "metadata": {
    "collapsed": false,
    "ExecuteTime": {
     "end_time": "2025-03-02T04:26:19.367695Z",
     "start_time": "2025-03-02T04:26:19.360797Z"
    }
   },
   "id": "beece6f59845a437"
  },
  {
   "cell_type": "code",
   "execution_count": 43,
   "outputs": [
    {
     "data": {
      "text/plain": "      RRT_1   RRT_2.5     RRT_5    RRT_10  Tree val     Naive\n0  4.754626  5.385438  6.062667  5.715567  4.774639  4.774639\n1  5.007723  4.517161  5.284633  5.598432  4.747049  4.747049\n2  5.004523  4.477550  4.936360  5.975434  4.853868  4.853868\n3  6.023852  5.498041  6.179695  6.447653  5.547141  5.547141\n4  3.863381  4.093041  4.473121  4.453665  4.162055  4.162055\n5  4.755865  5.053366  4.820317  4.622594  4.527319  4.527319\n6  3.988342  4.205111  5.472791  4.571316  3.973017  3.973017\n7  4.853487  4.825132  4.799683  5.419323  4.976820  4.976820\n8  4.664046  4.499219  4.788677  4.708756  4.531241  4.531241\n9  3.778134  3.744351  4.469582  4.835217  3.530005  3.530005",
      "text/html": "<div>\n<style scoped>\n    .dataframe tbody tr th:only-of-type {\n        vertical-align: middle;\n    }\n\n    .dataframe tbody tr th {\n        vertical-align: top;\n    }\n\n    .dataframe thead th {\n        text-align: right;\n    }\n</style>\n<table border=\"1\" class=\"dataframe\">\n  <thead>\n    <tr style=\"text-align: right;\">\n      <th></th>\n      <th>RRT_1</th>\n      <th>RRT_2.5</th>\n      <th>RRT_5</th>\n      <th>RRT_10</th>\n      <th>Tree val</th>\n      <th>Naive</th>\n    </tr>\n  </thead>\n  <tbody>\n    <tr>\n      <th>0</th>\n      <td>4.754626</td>\n      <td>5.385438</td>\n      <td>6.062667</td>\n      <td>5.715567</td>\n      <td>4.774639</td>\n      <td>4.774639</td>\n    </tr>\n    <tr>\n      <th>1</th>\n      <td>5.007723</td>\n      <td>4.517161</td>\n      <td>5.284633</td>\n      <td>5.598432</td>\n      <td>4.747049</td>\n      <td>4.747049</td>\n    </tr>\n    <tr>\n      <th>2</th>\n      <td>5.004523</td>\n      <td>4.477550</td>\n      <td>4.936360</td>\n      <td>5.975434</td>\n      <td>4.853868</td>\n      <td>4.853868</td>\n    </tr>\n    <tr>\n      <th>3</th>\n      <td>6.023852</td>\n      <td>5.498041</td>\n      <td>6.179695</td>\n      <td>6.447653</td>\n      <td>5.547141</td>\n      <td>5.547141</td>\n    </tr>\n    <tr>\n      <th>4</th>\n      <td>3.863381</td>\n      <td>4.093041</td>\n      <td>4.473121</td>\n      <td>4.453665</td>\n      <td>4.162055</td>\n      <td>4.162055</td>\n    </tr>\n    <tr>\n      <th>5</th>\n      <td>4.755865</td>\n      <td>5.053366</td>\n      <td>4.820317</td>\n      <td>4.622594</td>\n      <td>4.527319</td>\n      <td>4.527319</td>\n    </tr>\n    <tr>\n      <th>6</th>\n      <td>3.988342</td>\n      <td>4.205111</td>\n      <td>5.472791</td>\n      <td>4.571316</td>\n      <td>3.973017</td>\n      <td>3.973017</td>\n    </tr>\n    <tr>\n      <th>7</th>\n      <td>4.853487</td>\n      <td>4.825132</td>\n      <td>4.799683</td>\n      <td>5.419323</td>\n      <td>4.976820</td>\n      <td>4.976820</td>\n    </tr>\n    <tr>\n      <th>8</th>\n      <td>4.664046</td>\n      <td>4.499219</td>\n      <td>4.788677</td>\n      <td>4.708756</td>\n      <td>4.531241</td>\n      <td>4.531241</td>\n    </tr>\n    <tr>\n      <th>9</th>\n      <td>3.778134</td>\n      <td>3.744351</td>\n      <td>4.469582</td>\n      <td>4.835217</td>\n      <td>3.530005</td>\n      <td>3.530005</td>\n    </tr>\n  </tbody>\n</table>\n</div>"
     },
     "execution_count": 43,
     "metadata": {},
     "output_type": "execute_result"
    }
   ],
   "source": [
    "# Columns: \n",
    "# RRT_c: RRT with external randomization N(0, (c*sd_y)^2)\n",
    "# Tree val: Tree-values\n",
    "# Naive: naive inference\n",
    "# Rows: Each row correspond to one round of simulation\n",
    "pd.DataFrame(MSE_dict_fig1)"
   ],
   "metadata": {
    "collapsed": false,
    "ExecuteTime": {
     "end_time": "2025-03-02T04:26:25.007836Z",
     "start_time": "2025-03-02T04:26:25.001264Z"
    }
   },
   "id": "6b98704bde23e735"
  },
  {
   "cell_type": "markdown",
   "source": [
    "# Replicating Figure 2"
   ],
   "metadata": {
    "collapsed": false
   },
   "id": "904e5e2222d6d69e"
  },
  {
   "cell_type": "code",
   "execution_count": 14,
   "outputs": [
    {
     "name": "stdout",
     "output_type": "stream",
     "text": [
      "0 th simulation\n",
      "weights[0]: 0.18687292733456115\n",
      "weights[-1]: 0.19397743469312698\n",
      "max: 1.0\n",
      "weights[0]: 0.1353868135591609\n",
      "weights[-1]: 0.12739987203890368\n",
      "max: 1.0\n",
      "1 th simulation\n",
      "weights[0]: 0.06818848491165741\n",
      "weights[-1]: 0.06552718055654431\n",
      "max: 1.0\n",
      "2 th simulation\n",
      "weights[0]: 0.20842455267662918\n",
      "weights[-1]: 0.21930143051016224\n",
      "max: 1.0\n"
     ]
    }
   ],
   "source": [
    "coverage_dict_fig2, length_dict_fig2, MSE_dict_fig2\\\n",
    "    = terminal_inference_sim(n=200, p=5, a=1, b=2,\n",
    "                             sd_y=2,\n",
    "                             noise_sd_list=[5],\n",
    "                             UV_gamma_list=[0.1, 0.2, 0.3, 0.4, 0.5],\n",
    "                             use_nonrand=False,\n",
    "                             start=0, end=3,\n",
    "                             level=0.1, path=None)"
   ],
   "metadata": {
    "collapsed": false,
    "ExecuteTime": {
     "end_time": "2025-03-04T21:40:51.625389Z",
     "start_time": "2025-03-04T21:25:16.341440Z"
    }
   },
   "id": "9ef1b54140dc129b"
  },
  {
   "cell_type": "code",
   "execution_count": 15,
   "outputs": [
    {
     "data": {
      "text/plain": "      RRT_5    UV_0.1    UV_0.2    UV_0.3    UV_0.4    UV_0.5\n0  0.833333  1.000000  1.000000  0.666667  1.000000  0.857143\n1  0.833333  0.833333  0.833333  0.833333  1.000000  0.833333\n2  1.000000  0.833333  0.833333  0.833333  0.833333  1.000000",
      "text/html": "<div>\n<style scoped>\n    .dataframe tbody tr th:only-of-type {\n        vertical-align: middle;\n    }\n\n    .dataframe tbody tr th {\n        vertical-align: top;\n    }\n\n    .dataframe thead th {\n        text-align: right;\n    }\n</style>\n<table border=\"1\" class=\"dataframe\">\n  <thead>\n    <tr style=\"text-align: right;\">\n      <th></th>\n      <th>RRT_5</th>\n      <th>UV_0.1</th>\n      <th>UV_0.2</th>\n      <th>UV_0.3</th>\n      <th>UV_0.4</th>\n      <th>UV_0.5</th>\n    </tr>\n  </thead>\n  <tbody>\n    <tr>\n      <th>0</th>\n      <td>0.833333</td>\n      <td>1.000000</td>\n      <td>1.000000</td>\n      <td>0.666667</td>\n      <td>1.000000</td>\n      <td>0.857143</td>\n    </tr>\n    <tr>\n      <th>1</th>\n      <td>0.833333</td>\n      <td>0.833333</td>\n      <td>0.833333</td>\n      <td>0.833333</td>\n      <td>1.000000</td>\n      <td>0.833333</td>\n    </tr>\n    <tr>\n      <th>2</th>\n      <td>1.000000</td>\n      <td>0.833333</td>\n      <td>0.833333</td>\n      <td>0.833333</td>\n      <td>0.833333</td>\n      <td>1.000000</td>\n    </tr>\n  </tbody>\n</table>\n</div>"
     },
     "execution_count": 15,
     "metadata": {},
     "output_type": "execute_result"
    }
   ],
   "source": [
    "# Columns: \n",
    "# RRT_c: RRT with external randomization N(0, (c*sd_y)^2)\n",
    "# UV_k: UV decomposition with gamma = k\n",
    "# Rows: Each row correspond to one round of simulation\n",
    "pd.DataFrame(coverage_dict_fig2)"
   ],
   "metadata": {
    "collapsed": false,
    "ExecuteTime": {
     "end_time": "2025-03-04T21:41:06.609187Z",
     "start_time": "2025-03-04T21:41:06.573568Z"
    }
   },
   "id": "250ca3ab3bdca0a6"
  },
  {
   "cell_type": "code",
   "execution_count": 16,
   "outputs": [
    {
     "data": {
      "text/plain": "      RRT_5    UV_0.1    UV_0.2    UV_0.3    UV_0.4    UV_0.5\n0  1.261473  4.171579  2.928576  2.427565  2.213830  2.172087\n1  1.192433  3.881247  2.808344  2.393956  2.178081  1.989210\n2  1.246817  3.896220  2.900453  2.443536  2.202156  2.016710",
      "text/html": "<div>\n<style scoped>\n    .dataframe tbody tr th:only-of-type {\n        vertical-align: middle;\n    }\n\n    .dataframe tbody tr th {\n        vertical-align: top;\n    }\n\n    .dataframe thead th {\n        text-align: right;\n    }\n</style>\n<table border=\"1\" class=\"dataframe\">\n  <thead>\n    <tr style=\"text-align: right;\">\n      <th></th>\n      <th>RRT_5</th>\n      <th>UV_0.1</th>\n      <th>UV_0.2</th>\n      <th>UV_0.3</th>\n      <th>UV_0.4</th>\n      <th>UV_0.5</th>\n    </tr>\n  </thead>\n  <tbody>\n    <tr>\n      <th>0</th>\n      <td>1.261473</td>\n      <td>4.171579</td>\n      <td>2.928576</td>\n      <td>2.427565</td>\n      <td>2.213830</td>\n      <td>2.172087</td>\n    </tr>\n    <tr>\n      <th>1</th>\n      <td>1.192433</td>\n      <td>3.881247</td>\n      <td>2.808344</td>\n      <td>2.393956</td>\n      <td>2.178081</td>\n      <td>1.989210</td>\n    </tr>\n    <tr>\n      <th>2</th>\n      <td>1.246817</td>\n      <td>3.896220</td>\n      <td>2.900453</td>\n      <td>2.443536</td>\n      <td>2.202156</td>\n      <td>2.016710</td>\n    </tr>\n  </tbody>\n</table>\n</div>"
     },
     "execution_count": 16,
     "metadata": {},
     "output_type": "execute_result"
    }
   ],
   "source": [
    "# Columns: \n",
    "# RRT_c: RRT with external randomization N(0, (c*sd_y)^2)\n",
    "# UV_k: UV decomposition with gamma = k\n",
    "# Rows: Each row correspond to one round of simulation\n",
    "pd.DataFrame(length_dict_fig2)"
   ],
   "metadata": {
    "collapsed": false,
    "ExecuteTime": {
     "end_time": "2025-03-04T21:41:11.404549Z",
     "start_time": "2025-03-04T21:41:11.393635Z"
    }
   },
   "id": "ed46cebfb74768c5"
  },
  {
   "cell_type": "code",
   "execution_count": 17,
   "outputs": [
    {
     "data": {
      "text/plain": "      RRT_5    UV_0.1    UV_0.2    UV_0.3    UV_0.4    UV_0.5\n0  6.072280  4.800831  5.937187  5.818980  5.673758  5.371285\n1  5.042391  4.755410  4.594231  4.735021  4.932143  5.037981\n2  4.457080  4.785241  5.106772  4.635517  4.998237  4.868764",
      "text/html": "<div>\n<style scoped>\n    .dataframe tbody tr th:only-of-type {\n        vertical-align: middle;\n    }\n\n    .dataframe tbody tr th {\n        vertical-align: top;\n    }\n\n    .dataframe thead th {\n        text-align: right;\n    }\n</style>\n<table border=\"1\" class=\"dataframe\">\n  <thead>\n    <tr style=\"text-align: right;\">\n      <th></th>\n      <th>RRT_5</th>\n      <th>UV_0.1</th>\n      <th>UV_0.2</th>\n      <th>UV_0.3</th>\n      <th>UV_0.4</th>\n      <th>UV_0.5</th>\n    </tr>\n  </thead>\n  <tbody>\n    <tr>\n      <th>0</th>\n      <td>6.072280</td>\n      <td>4.800831</td>\n      <td>5.937187</td>\n      <td>5.818980</td>\n      <td>5.673758</td>\n      <td>5.371285</td>\n    </tr>\n    <tr>\n      <th>1</th>\n      <td>5.042391</td>\n      <td>4.755410</td>\n      <td>4.594231</td>\n      <td>4.735021</td>\n      <td>4.932143</td>\n      <td>5.037981</td>\n    </tr>\n    <tr>\n      <th>2</th>\n      <td>4.457080</td>\n      <td>4.785241</td>\n      <td>5.106772</td>\n      <td>4.635517</td>\n      <td>4.998237</td>\n      <td>4.868764</td>\n    </tr>\n  </tbody>\n</table>\n</div>"
     },
     "execution_count": 17,
     "metadata": {},
     "output_type": "execute_result"
    }
   ],
   "source": [
    "# Columns: \n",
    "# RRT_c: RRT with external randomization N(0, (c*sd_y)^2)\n",
    "# UV_k: UV decomposition with gamma = k\n",
    "# Rows: Each row correspond to one round of simulation\n",
    "pd.DataFrame(MSE_dict_fig2)"
   ],
   "metadata": {
    "collapsed": false,
    "ExecuteTime": {
     "end_time": "2025-03-04T21:41:13.548686Z",
     "start_time": "2025-03-04T21:41:13.540740Z"
    }
   },
   "id": "12e6df0dc95ead2f"
  },
  {
   "cell_type": "code",
   "execution_count": 62,
   "outputs": [],
   "source": [
    "cov = np.eye(5) + np.ones((5,5))"
   ],
   "metadata": {
    "collapsed": false,
    "ExecuteTime": {
     "end_time": "2025-03-03T02:36:45.261466Z",
     "start_time": "2025-03-03T02:36:45.256200Z"
    }
   },
   "id": "20c87f9deb7dfc3b"
  },
  {
   "cell_type": "code",
   "execution_count": 63,
   "outputs": [],
   "source": [
    "L = np.linalg.cholesky(np.linalg.inv(cov)).T"
   ],
   "metadata": {
    "collapsed": false,
    "ExecuteTime": {
     "end_time": "2025-03-03T02:36:45.870732Z",
     "start_time": "2025-03-03T02:36:45.869325Z"
    }
   },
   "id": "f548541300a974d1"
  },
  {
   "cell_type": "code",
   "execution_count": 64,
   "outputs": [],
   "source": [
    "X = np.abs(np.random.normal(size=(5,100000)))"
   ],
   "metadata": {
    "collapsed": false,
    "ExecuteTime": {
     "end_time": "2025-03-03T02:36:46.355631Z",
     "start_time": "2025-03-03T02:36:46.343996Z"
    }
   },
   "id": "6bf278272d734bcc"
  },
  {
   "cell_type": "code",
   "execution_count": 64,
   "outputs": [],
   "source": [],
   "metadata": {
    "collapsed": false,
    "ExecuteTime": {
     "end_time": "2025-03-03T02:36:47.416960Z",
     "start_time": "2025-03-03T02:36:47.409975Z"
    }
   },
   "id": "2477325d0ee62814"
  },
  {
   "cell_type": "code",
   "execution_count": 65,
   "outputs": [
    {
     "data": {
      "text/plain": "array([[ 0.91287093, -0.18257419, -0.18257419, -0.18257419, -0.18257419],\n       [ 0.        ,  0.89442719, -0.2236068 , -0.2236068 , -0.2236068 ],\n       [ 0.        ,  0.        ,  0.8660254 , -0.28867513, -0.28867513],\n       [ 0.        ,  0.        ,  0.        ,  0.81649658, -0.40824829],\n       [ 0.        ,  0.        ,  0.        ,  0.        ,  0.70710678]])"
     },
     "execution_count": 65,
     "metadata": {},
     "output_type": "execute_result"
    }
   ],
   "source": [
    "L"
   ],
   "metadata": {
    "collapsed": false,
    "ExecuteTime": {
     "end_time": "2025-03-03T02:36:48.260155Z",
     "start_time": "2025-03-03T02:36:48.255299Z"
    }
   },
   "id": "fe1a42ce389ee0d4"
  },
  {
   "cell_type": "code",
   "execution_count": 25,
   "outputs": [
    {
     "data": {
      "text/plain": "np.float64(-1.6623417197792252)"
     },
     "execution_count": 25,
     "metadata": {},
     "output_type": "execute_result"
    }
   ],
   "source": [
    "np.min(L @ X)"
   ],
   "metadata": {
    "collapsed": false,
    "ExecuteTime": {
     "end_time": "2025-02-28T21:39:25.325323Z",
     "start_time": "2025-02-28T21:39:25.273152Z"
    }
   },
   "id": "1d86f6586a22c9fa"
  },
  {
   "cell_type": "code",
   "execution_count": null,
   "outputs": [],
   "source": [],
   "metadata": {
    "collapsed": false
   },
   "id": "ca80794dd1a2b406"
  }
 ],
 "metadata": {
  "kernelspec": {
   "display_name": "Python 3",
   "language": "python",
   "name": "python3"
  },
  "language_info": {
   "codemirror_mode": {
    "name": "ipython",
    "version": 2
   },
   "file_extension": ".py",
   "mimetype": "text/x-python",
   "name": "python",
   "nbconvert_exporter": "python",
   "pygments_lexer": "ipython2",
   "version": "2.7.6"
  }
 },
 "nbformat": 4,
 "nbformat_minor": 5
}
