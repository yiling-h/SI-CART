{
 "cells": [
  {
   "cell_type": "code",
   "execution_count": 4,
   "id": "initial_id",
   "metadata": {
    "collapsed": true,
    "ExecuteTime": {
     "end_time": "2025-02-28T03:17:18.282591Z",
     "start_time": "2025-02-28T03:17:17.095949Z"
    }
   },
   "outputs": [],
   "source": [
    "import sys, os\n",
    "\n",
    "import pandas as pd\n",
    "\n",
    "from CART import RegressionTree\n",
    "from Utils.plotting import  *\n",
    "from scipy.stats import norm as ndist\n",
    "import joblib\n",
    "\n",
    "# For tree-values\n",
    "import rpy2.robjects.packages as rpackages\n",
    "from rpy2.robjects.vectors import StrVector\n",
    "\n",
    "# Select a CRAN mirror to download from\n",
    "utils = rpackages.importr('utils')\n",
    "utils.chooseCRANmirror(ind=1)  # Select the first mirror\n",
    "\n",
    "# Install 'remotes' if it's not already installed\n",
    "if not rpackages.isinstalled('remotes'):\n",
    "    utils.install_packages(StrVector(('remotes',)))\n",
    "\n",
    "import rpy2.robjects as ro\n",
    "\n",
    "from rpy2.robjects.packages import importr\n",
    "from rpy2.robjects import pandas2ri\n",
    "from rpy2.robjects import numpy2ri"
   ]
  },
  {
   "cell_type": "code",
   "execution_count": 5,
   "outputs": [
    {
     "name": "stderr",
     "output_type": "stream",
     "text": [
      "R[write to console]: Using GitHub PAT from the git credential store.\n",
      "\n",
      "R[write to console]: Error: Failed to install 'treevalues' from GitHub:\n",
      "  HTTP error 401.\n",
      "  Bad credentials\n",
      "\n",
      "  Rate limit remaining: 55/60\n",
      "  Rate limit reset at: 2025-02-28 04:06:34 UTC\n",
      "\n",
      "  \n",
      "\n"
     ]
    },
    {
     "ename": "RRuntimeError",
     "evalue": "Error: Failed to install 'treevalues' from GitHub:\n  HTTP error 401.\n  Bad credentials\n\n  Rate limit remaining: 55/60\n  Rate limit reset at: 2025-02-28 04:06:34 UTC\n\n  \n",
     "output_type": "error",
     "traceback": [
      "\u001B[0;31m---------------------------------------------------------------------------\u001B[0m",
      "\u001B[0;31mRRuntimeError\u001B[0m                             Traceback (most recent call last)",
      "Cell \u001B[0;32mIn[5], line 2\u001B[0m\n\u001B[1;32m      1\u001B[0m \u001B[38;5;66;03m# Run the GitHub installation command for 'treevalues'\u001B[39;00m\n\u001B[0;32m----> 2\u001B[0m \u001B[43mro\u001B[49m\u001B[38;5;241;43m.\u001B[39;49m\u001B[43mr\u001B[49m\u001B[43m(\u001B[49m\u001B[38;5;124;43m'\u001B[39;49m\u001B[38;5;124;43mremotes::install_github(\u001B[39;49m\u001B[38;5;124;43m\"\u001B[39;49m\u001B[38;5;124;43manna-neufeld/treevalues\u001B[39;49m\u001B[38;5;124;43m\"\u001B[39;49m\u001B[38;5;124;43m)\u001B[39;49m\u001B[38;5;124;43m'\u001B[39;49m\u001B[43m)\u001B[49m\n\u001B[1;32m      3\u001B[0m ro\u001B[38;5;241m.\u001B[39mr(\u001B[38;5;124m'\u001B[39m\u001B[38;5;124mlibrary(treevalues)\u001B[39m\u001B[38;5;124m'\u001B[39m)\n\u001B[1;32m      4\u001B[0m ro\u001B[38;5;241m.\u001B[39mr(\u001B[38;5;124m'\u001B[39m\u001B[38;5;124mlibrary(rpart)\u001B[39m\u001B[38;5;124m'\u001B[39m)\n",
      "File \u001B[0;32m~/Desktop/PhD/SI_Codes/SI-CART/lib/python3.9/site-packages/rpy2/robjects/__init__.py:509\u001B[0m, in \u001B[0;36mR.__call__\u001B[0;34m(self, string, invisible, print_r_warnings)\u001B[0m\n\u001B[1;32m    507\u001B[0m     invisible \u001B[38;5;241m=\u001B[39m \u001B[38;5;28mself\u001B[39m\u001B[38;5;241m.\u001B[39m_invisible\n\u001B[1;32m    508\u001B[0m \u001B[38;5;28;01mif\u001B[39;00m invisible:\n\u001B[0;32m--> 509\u001B[0m     res, visible \u001B[38;5;241m=\u001B[39m \u001B[43mrinterface\u001B[49m\u001B[38;5;241;43m.\u001B[39;49m\u001B[43mevalr_expr_with_visible\u001B[49m\u001B[43m(\u001B[49m\u001B[43m   \u001B[49m\u001B[38;5;66;43;03m# type: ignore\u001B[39;49;00m\n\u001B[1;32m    510\u001B[0m \u001B[43m        \u001B[49m\u001B[43mr_expr\u001B[49m\n\u001B[1;32m    511\u001B[0m \u001B[43m    \u001B[49m\u001B[43m)\u001B[49m\n\u001B[1;32m    512\u001B[0m     \u001B[38;5;28;01mif\u001B[39;00m \u001B[38;5;129;01mnot\u001B[39;00m visible[\u001B[38;5;241m0\u001B[39m]:  \u001B[38;5;66;03m# type: ignore\u001B[39;00m\n\u001B[1;32m    513\u001B[0m         res \u001B[38;5;241m=\u001B[39m \u001B[38;5;28;01mNone\u001B[39;00m\n",
      "File \u001B[0;32m~/Desktop/PhD/SI_Codes/SI-CART/lib/python3.9/site-packages/rpy2/rinterface.py:192\u001B[0m, in \u001B[0;36mevalr_expr_with_visible\u001B[0;34m(expr, envir)\u001B[0m\n\u001B[1;32m    185\u001B[0m r_res \u001B[38;5;241m=\u001B[39m rmemory\u001B[38;5;241m.\u001B[39mprotect(\n\u001B[1;32m    186\u001B[0m         openrlib\u001B[38;5;241m.\u001B[39mrlib\u001B[38;5;241m.\u001B[39mR_tryEval(\n\u001B[1;32m    187\u001B[0m             r_call,\n\u001B[1;32m    188\u001B[0m             envir\u001B[38;5;241m.\u001B[39m__sexp__\u001B[38;5;241m.\u001B[39m_cdata,  \u001B[38;5;66;03m# call context.\u001B[39;00m\n\u001B[1;32m    189\u001B[0m             error_occured)\n\u001B[1;32m    190\u001B[0m )\n\u001B[1;32m    191\u001B[0m \u001B[38;5;28;01mif\u001B[39;00m error_occured[\u001B[38;5;241m0\u001B[39m]:\n\u001B[0;32m--> 192\u001B[0m     \u001B[38;5;28;01mraise\u001B[39;00m embedded\u001B[38;5;241m.\u001B[39mRRuntimeError(_rinterface\u001B[38;5;241m.\u001B[39m_geterrmessage())\n\u001B[1;32m    193\u001B[0m res \u001B[38;5;241m=\u001B[39m conversion\u001B[38;5;241m.\u001B[39m_cdata_to_rinterface(r_res)\n\u001B[1;32m    194\u001B[0m \u001B[38;5;28;01massert\u001B[39;00m \u001B[38;5;28misinstance\u001B[39m(res, ListSexpVector)\n",
      "\u001B[0;31mRRuntimeError\u001B[0m: Error: Failed to install 'treevalues' from GitHub:\n  HTTP error 401.\n  Bad credentials\n\n  Rate limit remaining: 55/60\n  Rate limit reset at: 2025-02-28 04:06:34 UTC\n\n  \n"
     ]
    }
   ],
   "source": [
    "# Run the GitHub installation command for 'treevalues'\n",
    "ro.r('remotes::install_github(\"anna-neufeld/treevalues\")')\n",
    "ro.r('library(treevalues)')\n",
    "ro.r('library(rpart)')"
   ],
   "metadata": {
    "collapsed": false,
    "ExecuteTime": {
     "end_time": "2025-02-28T03:17:18.971526Z",
     "start_time": "2025-02-28T03:17:18.844690Z"
    }
   },
   "id": "b5d5ac8ed92d6131"
  },
  {
   "cell_type": "code",
   "execution_count": null,
   "outputs": [],
   "source": [
    "def generate_test(mu, sd_y):\n",
    "    n = mu.shape[0]\n",
    "    return mu + np.random.normal(size=(n,), scale=sd_y)"
   ],
   "metadata": {
    "collapsed": false,
    "ExecuteTime": {
     "end_time": "2025-02-28T03:16:19.248825Z",
     "start_time": "2025-02-28T03:16:19.244610Z"
    }
   },
   "id": "2b12e4284552b1ef"
  },
  {
   "cell_type": "markdown",
   "source": [
    "# Tree-values inference"
   ],
   "metadata": {
    "collapsed": false
   },
   "id": "3201be659cb7259f"
  },
  {
   "cell_type": "code",
   "execution_count": 43,
   "outputs": [],
   "source": [
    "def tree_values_inference(X, y, mu, sd_y, max_depth=5, level=0.1,\n",
    "                          X_test=None):\n",
    "    # Convert the NumPy matrix to an R matrix\n",
    "    X_r = numpy2ri.py2rpy(X)\n",
    "    y_r = numpy2ri.py2rpy(y)\n",
    "\n",
    "    # Assign the R matrix to a variable in the R environment (optional)\n",
    "    ro.globalenv['X_r'] = X_r\n",
    "    ro.globalenv['y_r'] = y_r\n",
    "    ro.globalenv['p'] = X.shape[1]\n",
    "\n",
    "    # Construct dataset\n",
    "    ro.r('data <- cbind(y_r, X_r)')\n",
    "    # Set the column names to \"y\", \"x1\", \"x2\", ..., \"x10\"\n",
    "    ro.r('colnames(data) <- c(\"y\", paste0(\"x\", 1:p))')\n",
    "    ro.r('data = data.frame(data)')\n",
    "\n",
    "    # Define the rpart tree model\n",
    "    tree_cmd = ('bls.tree <- rpart(y ~ ., data=data, model = TRUE, ' +\n",
    "                'control = rpart.control(cp=0.00, minsplit = 50, minbucket = 20, maxdepth=') + str(max_depth) + '))'\n",
    "    ro.r(tree_cmd)\n",
    "    bls_tree = ro.r('bls.tree')\n",
    "    # Plot the tree values (this will plot directly if you have a plotting backend set up)\n",
    "    # ro.r('treeval.plot(bls.tree, inferenceType=0)')\n",
    "\n",
    "    # ro.r('print(row.names(bls.tree$frame)[bls.tree$frame$var == \"<leaf>\"])')\n",
    "    ro.r('leaf_idx <- (row.names(bls.tree$frame)[bls.tree$frame$var == \"<leaf>\"])')\n",
    "    leaf_idx = ro.r['leaf_idx']\n",
    "\n",
    "    # Get node mapping\n",
    "    ro.r('idx_full <- 1:nrow(bls.tree$frame)')\n",
    "    ro.r('mapped_idx <- idx_full[bls.tree$frame$var == \"<leaf>\"]')\n",
    "\n",
    "    len = []\n",
    "    coverage = []\n",
    "    len_naive = []\n",
    "    coverage_naive = []\n",
    "\n",
    "    for i, idx in enumerate(leaf_idx):\n",
    "        # Get the branch information for a specific branch in the tree\n",
    "        command = 'branch <- getBranch(bls.tree, ' + str(idx) + ')'\n",
    "        ro.r(command)\n",
    "        # Perform branch inference\n",
    "        ro.r(f'result <- branchInference(bls.tree, branch, type=\"reg\", alpha = 0.10, sigma_y={sd_y})')\n",
    "        # Get confidence intervals\n",
    "        confint = ro.r('result$confint')\n",
    "        len.append(confint[1] - confint[0])\n",
    "\n",
    "        target_cmd = \"contrast <- (bls.tree$where == mapped_idx[\" + str(i + 1) + \"])\"\n",
    "        ro.r(target_cmd)\n",
    "        contrast = ro.r('contrast')\n",
    "        contrast = np.array(contrast)\n",
    "\n",
    "        contrast = np.array(contrast * 1 / np.sum(contrast))\n",
    "\n",
    "        target = contrast.dot(mu)\n",
    "        coverage.append(target >= confint[0] and target <= confint[1])\n",
    "\n",
    "        # Naive after tree value\n",
    "        # Confidence intervals\n",
    "        naive_CI = [contrast.dot(y) -\n",
    "                    np.linalg.norm(contrast) * sd_y * ndist.ppf(1 - level / 2),\n",
    "                    contrast.dot(y) +\n",
    "                    np.linalg.norm(contrast) * sd_y * ndist.ppf(1 - level / 2)]\n",
    "        coverage_naive.append((target >= naive_CI[0] and target <= naive_CI[1]))\n",
    "        len_naive.append(naive_CI[1] - naive_CI[0])\n",
    "\n",
    "    if X_test is not None:\n",
    "        X_test_r = numpy2ri.py2rpy(X_test)\n",
    "        ro.globalenv['X_test_r'] = X_test_r\n",
    "        ro.r('pred <- predict(bls.tree, data = X_test_r)')\n",
    "        pred = ro.r['pred']\n",
    "    else:\n",
    "        pred = None\n",
    "\n",
    "    return (np.mean(coverage), np.mean(len),\n",
    "            np.mean(coverage_naive), np.mean(len_naive), pred)"
   ],
   "metadata": {
    "collapsed": false,
    "ExecuteTime": {
     "end_time": "2025-02-28T03:16:20.496200Z",
     "start_time": "2025-02-28T03:16:20.474293Z"
    }
   },
   "id": "d5f59772261d8c06"
  },
  {
   "cell_type": "markdown",
   "source": [
    "# RRT inference"
   ],
   "metadata": {
    "collapsed": false
   },
   "id": "68b034d92f8e7a30"
  },
  {
   "cell_type": "code",
   "execution_count": 34,
   "outputs": [],
   "source": [
    "def randomized_inference(reg_tree, sd_y, y, mu, level=0.1):\n",
    "    # print(reg_tree.terminal_nodes)\n",
    "    coverage_i = []\n",
    "    lengths_i = []\n",
    "\n",
    "    for node in reg_tree.terminal_nodes:\n",
    "        pval, dist, contrast, norm_contrast, obs_tar, logW, suff, sel_probs \\\n",
    "            = (reg_tree.condl_node_inference(node=node,\n",
    "                                             ngrid=10000,\n",
    "                                             ncoarse=50,\n",
    "                                             grid_w_const=5,\n",
    "                                             reduced_dim=1,\n",
    "                                             sd=sd_y,\n",
    "                                             use_cvxpy=True))\n",
    "        target = contrast.dot(mu)\n",
    "\n",
    "        # This is an interval for\n",
    "        # eta_*'mu = eta'mu / (norm(eta) * sd_y)\n",
    "        selective_CI = (dist.equal_tailed_interval(observed=norm_contrast.dot(y),\n",
    "                                                   alpha=level))\n",
    "        selective_CI = np.array(selective_CI)\n",
    "        selective_CI *= np.linalg.norm(contrast) * sd_y\n",
    "        coverage_i.append((target >= selective_CI[0] and target <= selective_CI[1]))\n",
    "        lengths_i.append(selective_CI[1] - selective_CI[0])\n",
    "\n",
    "    return coverage_i, lengths_i"
   ],
   "metadata": {
    "collapsed": false,
    "ExecuteTime": {
     "end_time": "2025-02-27T21:18:14.327168Z",
     "start_time": "2025-02-27T21:18:14.316686Z"
    }
   },
   "id": "593dfd6522f79486"
  },
  {
   "cell_type": "markdown",
   "source": [
    "# Inference with UV decomposition"
   ],
   "metadata": {
    "collapsed": false
   },
   "id": "b59562660744af96"
  },
  {
   "cell_type": "code",
   "execution_count": 29,
   "outputs": [],
   "source": [
    "def UV_decomposition(X, y, mu, sd_y,\n",
    "                     max_depth=5, min_prop=0, min_sample=10, min_bucket=5,\n",
    "                     level=0.1, gamma=1,\n",
    "                     X_test=None):\n",
    "    n = X.shape[0]\n",
    "    W = np.random.normal(loc=0, scale=sd_y * np.sqrt(gamma), size=(n,))\n",
    "    U = y + W\n",
    "    V = y - W / gamma\n",
    "    sd_V = sd_y * np.sqrt(1 + 1 / gamma)\n",
    "    reg_tree = RegressionTree(min_samples_split=min_sample, max_depth=max_depth,\n",
    "                              min_proportion=min_prop, min_bucket=min_bucket)\n",
    "    reg_tree.fit(X, U, sd=0)\n",
    "\n",
    "    coverage = []\n",
    "    lengths = []\n",
    "\n",
    "    for node in reg_tree.terminal_nodes:\n",
    "        contrast = node.membership\n",
    "\n",
    "        contrast = np.array(contrast * 1 / np.sum(contrast))\n",
    "\n",
    "        target = contrast.dot(mu)\n",
    "\n",
    "        # Naive after tree value\n",
    "        # Confidence intervals\n",
    "        CI = [contrast.dot(V) -\n",
    "              np.linalg.norm(contrast) * sd_V * ndist.ppf(1 - level / 2),\n",
    "              contrast.dot(V) +\n",
    "              np.linalg.norm(contrast) * sd_V * ndist.ppf(1 - level / 2)]\n",
    "        coverage.append((target >= CI[0] and target <= CI[1]))\n",
    "        lengths.append(CI[1] - CI[0])\n",
    "\n",
    "    if X_test is not None:\n",
    "        pred = reg_tree.predict(X_test)\n",
    "    else:\n",
    "        pred = None\n",
    "\n",
    "    return coverage, lengths, pred"
   ],
   "metadata": {
    "collapsed": false,
    "ExecuteTime": {
     "end_time": "2025-02-27T21:16:00.433523Z",
     "start_time": "2025-02-27T21:16:00.428529Z"
    }
   },
   "id": "45c2e38de4e0ee17"
  },
  {
   "cell_type": "markdown",
   "source": [
    "# Replicating Figure 1"
   ],
   "metadata": {
    "collapsed": false
   },
   "id": "1e3f3b7319ac6822"
  },
  {
   "cell_type": "code",
   "execution_count": 25,
   "outputs": [],
   "source": [
    "def terminal_inference_sim(n=50, p=5, a=0.1, b=0.1,\n",
    "                           sd_y=1,\n",
    "                           noise_sd_list=[0.5, 1, 2, 5],\n",
    "                           UV_gamma_list=[],\n",
    "                           use_nonrand=True,\n",
    "                           start=0, end=100,\n",
    "                           level=0.1, path=None):\n",
    "    method_list = [f\"RRT_{sd}\" for sd in noise_sd_list]\n",
    "    if use_nonrand:\n",
    "        method_list += [\"Tree val\", \"Naive\"]\n",
    "    for gamma in UV_gamma_list:\n",
    "        method_list.append(\"UV_\" + str(gamma))\n",
    "\n",
    "    coverage_dict = {m: [] for m in method_list}\n",
    "    length_dict = {m: [] for m in method_list}\n",
    "    MSE_dict = {m: [] for m in method_list}\n",
    "\n",
    "    for i in range(start, end):\n",
    "        print(i, \"th simulation\")\n",
    "        np.random.seed(i + 10000)\n",
    "        X = np.random.normal(size=(n, p))\n",
    "\n",
    "        mu = b * ((X[:, 0] <= 0) * (1 + a * (X[:, 1] > 0) + (X[:, 2] * X[:, 1] <= 0)))\n",
    "        y = mu + np.random.normal(size=(n,), scale=sd_y)\n",
    "        y_test = generate_test(mu, sd_y)\n",
    "        \n",
    "        if use_nonrand:\n",
    "            # Tree value & naive inference & prediction\n",
    "            (coverage_treeval, avg_len_treeval,\n",
    "             coverage_treeval_naive, avg_len_treeval_naive,\n",
    "             pred_test_treeval) = tree_values_inference(X, y, mu, sd_y=sd_y,\n",
    "                                                        X_test=X, max_depth=3)\n",
    "            MSE_test_treeval = (np.mean((y_test - pred_test_treeval) ** 2))\n",
    "\n",
    "            coverage_dict[\"Tree val\"].append(coverage_treeval)\n",
    "            length_dict[\"Tree val\"].append(avg_len_treeval)\n",
    "            MSE_dict[\"Tree val\"].append(MSE_test_treeval)\n",
    "            coverage_dict[\"Naive\"].append(coverage_treeval_naive)\n",
    "            length_dict[\"Naive\"].append(avg_len_treeval_naive)\n",
    "            MSE_dict[\"Naive\"].append(MSE_test_treeval)\n",
    "\n",
    "        for noise_sd in noise_sd_list:\n",
    "            # Create and train the regression tree\n",
    "            reg_tree = RegressionTree(min_samples_split=50, max_depth=3,\n",
    "                                      min_proportion=0., min_bucket=20)\n",
    "\n",
    "            reg_tree.fit(X, y, sd=noise_sd * sd_y)\n",
    "\n",
    "            coverage_i, lengths_i = randomized_inference(reg_tree=reg_tree,\n",
    "                                                         y=y, sd_y=sd_y, mu=mu,\n",
    "                                                         level=level)\n",
    "            pred_test = reg_tree.predict(X)\n",
    "            MSE_test = (np.mean((y_test - pred_test) ** 2))\n",
    "            # Record results\n",
    "            coverage_dict[f\"RRT_{noise_sd}\"].append(np.mean(coverage_i))\n",
    "            length_dict[f\"RRT_{noise_sd}\"].append(np.mean(lengths_i))\n",
    "            MSE_dict[f\"RRT_{noise_sd}\"].append(MSE_test)\n",
    "\n",
    "        for gamma in UV_gamma_list:\n",
    "            gamma_key = \"UV_\" + str(gamma)\n",
    "            # UV decomposition\n",
    "            coverage_UV, len_UV, pred_UV = UV_decomposition(X, y, mu, sd_y, X_test=X,\n",
    "                                                            min_prop=0., max_depth=3,\n",
    "                                                            min_sample=50, min_bucket=20,\n",
    "                                                            gamma=gamma)\n",
    "            MSE_UV = (np.mean((y_test - pred_UV) ** 2))\n",
    "            coverage_dict[gamma_key].append(np.mean(coverage_UV))\n",
    "            length_dict[gamma_key].append(np.mean(len_UV))\n",
    "            MSE_dict[gamma_key].append(MSE_UV)\n",
    "\n",
    "        if path is not None:\n",
    "            joblib.dump([coverage_dict, length_dict, MSE_dict], path, compress=1)\n",
    "\n",
    "    return coverage_dict, length_dict, MSE_dict"
   ],
   "metadata": {
    "collapsed": false,
    "ExecuteTime": {
     "end_time": "2025-02-27T21:15:41.022302Z",
     "start_time": "2025-02-27T21:15:41.018851Z"
    }
   },
   "id": "d4fc427721e488a9"
  },
  {
   "cell_type": "code",
   "execution_count": 26,
   "outputs": [
    {
     "name": "stdout",
     "output_type": "stream",
     "text": [
      "0 th simulation\n"
     ]
    },
    {
     "name": "stderr",
     "output_type": "stream",
     "text": [
      "R[write to console]: \n",
      "\n"
     ]
    },
    {
     "ename": "RRuntimeError",
     "evalue": "",
     "output_type": "error",
     "traceback": [
      "\u001B[0;31m---------------------------------------------------------------------------\u001B[0m",
      "\u001B[0;31mRRuntimeError\u001B[0m                             Traceback (most recent call last)",
      "Cell \u001B[0;32mIn[26], line 2\u001B[0m\n\u001B[1;32m      1\u001B[0m coverage_dict_fig1, length_dict_fig1, MSE_dict_fig1\\\n\u001B[0;32m----> 2\u001B[0m     \u001B[38;5;241m=\u001B[39m \u001B[43mterminal_inference_sim\u001B[49m\u001B[43m(\u001B[49m\u001B[43mn\u001B[49m\u001B[38;5;241;43m=\u001B[39;49m\u001B[38;5;241;43m200\u001B[39;49m\u001B[43m,\u001B[49m\u001B[43m \u001B[49m\u001B[43mp\u001B[49m\u001B[38;5;241;43m=\u001B[39;49m\u001B[38;5;241;43m5\u001B[39;49m\u001B[43m,\u001B[49m\u001B[43m \u001B[49m\u001B[43ma\u001B[49m\u001B[38;5;241;43m=\u001B[39;49m\u001B[38;5;241;43m1\u001B[39;49m\u001B[43m,\u001B[49m\u001B[43m \u001B[49m\u001B[43mb\u001B[49m\u001B[38;5;241;43m=\u001B[39;49m\u001B[38;5;241;43m2\u001B[39;49m\u001B[43m,\u001B[49m\n\u001B[1;32m      3\u001B[0m \u001B[43m                             \u001B[49m\u001B[43msd_y\u001B[49m\u001B[38;5;241;43m=\u001B[39;49m\u001B[38;5;241;43m2\u001B[39;49m\u001B[43m,\u001B[49m\n\u001B[1;32m      4\u001B[0m \u001B[43m                             \u001B[49m\u001B[43mnoise_sd_list\u001B[49m\u001B[38;5;241;43m=\u001B[39;49m\u001B[43m[\u001B[49m\u001B[38;5;241;43m1\u001B[39;49m\u001B[43m,\u001B[49m\u001B[43m \u001B[49m\u001B[38;5;241;43m2.5\u001B[39;49m\u001B[43m,\u001B[49m\u001B[43m \u001B[49m\u001B[38;5;241;43m5\u001B[39;49m\u001B[43m,\u001B[49m\u001B[43m \u001B[49m\u001B[38;5;241;43m10\u001B[39;49m\u001B[43m]\u001B[49m\u001B[43m,\u001B[49m\n\u001B[1;32m      5\u001B[0m \u001B[43m                             \u001B[49m\u001B[43mUV_gamma_list\u001B[49m\u001B[38;5;241;43m=\u001B[39;49m\u001B[43m[\u001B[49m\u001B[43m]\u001B[49m\u001B[43m,\u001B[49m\n\u001B[1;32m      6\u001B[0m \u001B[43m                             \u001B[49m\u001B[43muse_nonrand\u001B[49m\u001B[38;5;241;43m=\u001B[39;49m\u001B[38;5;28;43;01mTrue\u001B[39;49;00m\u001B[43m,\u001B[49m\n\u001B[1;32m      7\u001B[0m \u001B[43m                             \u001B[49m\u001B[43mstart\u001B[49m\u001B[38;5;241;43m=\u001B[39;49m\u001B[38;5;241;43m0\u001B[39;49m\u001B[43m,\u001B[49m\u001B[43m \u001B[49m\u001B[43mend\u001B[49m\u001B[38;5;241;43m=\u001B[39;49m\u001B[38;5;241;43m3\u001B[39;49m\u001B[43m,\u001B[49m\n\u001B[1;32m      8\u001B[0m \u001B[43m                             \u001B[49m\u001B[43mlevel\u001B[49m\u001B[38;5;241;43m=\u001B[39;49m\u001B[38;5;241;43m0.1\u001B[39;49m\u001B[43m,\u001B[49m\u001B[43m \u001B[49m\u001B[43mpath\u001B[49m\u001B[38;5;241;43m=\u001B[39;49m\u001B[38;5;28;43;01mNone\u001B[39;49;00m\u001B[43m)\u001B[49m\n",
      "Cell \u001B[0;32mIn[25], line 31\u001B[0m, in \u001B[0;36mterminal_inference_sim\u001B[0;34m(n, p, a, b, sd_y, noise_sd_list, UV_gamma_list, use_nonrand, start, end, level, path)\u001B[0m\n\u001B[1;32m     25\u001B[0m y_test \u001B[38;5;241m=\u001B[39m generate_test(mu, sd_y)\n\u001B[1;32m     27\u001B[0m \u001B[38;5;28;01mif\u001B[39;00m use_nonrand:\n\u001B[1;32m     28\u001B[0m     \u001B[38;5;66;03m# Tree value & naive inference & prediction\u001B[39;00m\n\u001B[1;32m     29\u001B[0m     (coverage_treeval, avg_len_treeval,\n\u001B[1;32m     30\u001B[0m      coverage_treeval_naive, avg_len_treeval_naive,\n\u001B[0;32m---> 31\u001B[0m      pred_test_treeval) \u001B[38;5;241m=\u001B[39m \u001B[43mtree_values_inference\u001B[49m\u001B[43m(\u001B[49m\u001B[43mX\u001B[49m\u001B[43m,\u001B[49m\u001B[43m \u001B[49m\u001B[43my\u001B[49m\u001B[43m,\u001B[49m\u001B[43m \u001B[49m\u001B[43mmu\u001B[49m\u001B[43m,\u001B[49m\u001B[43m \u001B[49m\u001B[43msd_y\u001B[49m\u001B[38;5;241;43m=\u001B[39;49m\u001B[43msd_y\u001B[49m\u001B[43m,\u001B[49m\n\u001B[1;32m     32\u001B[0m \u001B[43m                                                \u001B[49m\u001B[43mX_test\u001B[49m\u001B[38;5;241;43m=\u001B[39;49m\u001B[43mX\u001B[49m\u001B[43m,\u001B[49m\u001B[43m \u001B[49m\u001B[43mmax_depth\u001B[49m\u001B[38;5;241;43m=\u001B[39;49m\u001B[38;5;241;43m3\u001B[39;49m\u001B[43m)\u001B[49m\n\u001B[1;32m     33\u001B[0m     MSE_test_treeval \u001B[38;5;241m=\u001B[39m (np\u001B[38;5;241m.\u001B[39mmean((y_test \u001B[38;5;241m-\u001B[39m pred_test_treeval) \u001B[38;5;241m*\u001B[39m\u001B[38;5;241m*\u001B[39m \u001B[38;5;241m2\u001B[39m))\n\u001B[1;32m     35\u001B[0m     coverage_dict[\u001B[38;5;124m\"\u001B[39m\u001B[38;5;124mTree val\u001B[39m\u001B[38;5;124m\"\u001B[39m]\u001B[38;5;241m.\u001B[39mappend(coverage_treeval)\n",
      "Cell \u001B[0;32mIn[4], line 44\u001B[0m, in \u001B[0;36mtree_values_inference\u001B[0;34m(X, y, mu, sd_y, max_depth, level, X_test)\u001B[0m\n\u001B[1;32m     42\u001B[0m ro\u001B[38;5;241m.\u001B[39mr(command)\n\u001B[1;32m     43\u001B[0m \u001B[38;5;66;03m# Perform branch inference\u001B[39;00m\n\u001B[0;32m---> 44\u001B[0m \u001B[43mro\u001B[49m\u001B[38;5;241;43m.\u001B[39;49m\u001B[43mr\u001B[49m\u001B[43m(\u001B[49m\u001B[38;5;124;43mf\u001B[39;49m\u001B[38;5;124;43m'\u001B[39;49m\u001B[38;5;124;43mresult <- branchInference(bls.tree, branch, type=\u001B[39;49m\u001B[38;5;124;43m\"\u001B[39;49m\u001B[38;5;124;43mreg\u001B[39;49m\u001B[38;5;124;43m\"\u001B[39;49m\u001B[38;5;124;43m, alpha = 0.10, sigma_y=\u001B[39;49m\u001B[38;5;132;43;01m{\u001B[39;49;00m\u001B[43msd_y\u001B[49m\u001B[38;5;132;43;01m}\u001B[39;49;00m\u001B[38;5;124;43m)\u001B[39;49m\u001B[38;5;124;43m'\u001B[39;49m\u001B[43m)\u001B[49m\n\u001B[1;32m     45\u001B[0m \u001B[38;5;66;03m# Get confidence intervals\u001B[39;00m\n\u001B[1;32m     46\u001B[0m confint \u001B[38;5;241m=\u001B[39m ro\u001B[38;5;241m.\u001B[39mr(\u001B[38;5;124m'\u001B[39m\u001B[38;5;124mresult$confint\u001B[39m\u001B[38;5;124m'\u001B[39m)\n",
      "File \u001B[0;32m~/Desktop/PhD/SI_Codes/SI-CART/lib/python3.9/site-packages/rpy2/robjects/__init__.py:509\u001B[0m, in \u001B[0;36mR.__call__\u001B[0;34m(self, string, invisible, print_r_warnings)\u001B[0m\n\u001B[1;32m    507\u001B[0m     invisible \u001B[38;5;241m=\u001B[39m \u001B[38;5;28mself\u001B[39m\u001B[38;5;241m.\u001B[39m_invisible\n\u001B[1;32m    508\u001B[0m \u001B[38;5;28;01mif\u001B[39;00m invisible:\n\u001B[0;32m--> 509\u001B[0m     res, visible \u001B[38;5;241m=\u001B[39m \u001B[43mrinterface\u001B[49m\u001B[38;5;241;43m.\u001B[39;49m\u001B[43mevalr_expr_with_visible\u001B[49m\u001B[43m(\u001B[49m\u001B[43m   \u001B[49m\u001B[38;5;66;43;03m# type: ignore\u001B[39;49;00m\n\u001B[1;32m    510\u001B[0m \u001B[43m        \u001B[49m\u001B[43mr_expr\u001B[49m\n\u001B[1;32m    511\u001B[0m \u001B[43m    \u001B[49m\u001B[43m)\u001B[49m\n\u001B[1;32m    512\u001B[0m     \u001B[38;5;28;01mif\u001B[39;00m \u001B[38;5;129;01mnot\u001B[39;00m visible[\u001B[38;5;241m0\u001B[39m]:  \u001B[38;5;66;03m# type: ignore\u001B[39;00m\n\u001B[1;32m    513\u001B[0m         res \u001B[38;5;241m=\u001B[39m \u001B[38;5;28;01mNone\u001B[39;00m\n",
      "File \u001B[0;32m~/Desktop/PhD/SI_Codes/SI-CART/lib/python3.9/site-packages/rpy2/rinterface.py:192\u001B[0m, in \u001B[0;36mevalr_expr_with_visible\u001B[0;34m(expr, envir)\u001B[0m\n\u001B[1;32m    185\u001B[0m r_res \u001B[38;5;241m=\u001B[39m rmemory\u001B[38;5;241m.\u001B[39mprotect(\n\u001B[1;32m    186\u001B[0m         openrlib\u001B[38;5;241m.\u001B[39mrlib\u001B[38;5;241m.\u001B[39mR_tryEval(\n\u001B[1;32m    187\u001B[0m             r_call,\n\u001B[1;32m    188\u001B[0m             envir\u001B[38;5;241m.\u001B[39m__sexp__\u001B[38;5;241m.\u001B[39m_cdata,  \u001B[38;5;66;03m# call context.\u001B[39;00m\n\u001B[1;32m    189\u001B[0m             error_occured)\n\u001B[1;32m    190\u001B[0m )\n\u001B[1;32m    191\u001B[0m \u001B[38;5;28;01mif\u001B[39;00m error_occured[\u001B[38;5;241m0\u001B[39m]:\n\u001B[0;32m--> 192\u001B[0m     \u001B[38;5;28;01mraise\u001B[39;00m embedded\u001B[38;5;241m.\u001B[39mRRuntimeError(_rinterface\u001B[38;5;241m.\u001B[39m_geterrmessage())\n\u001B[1;32m    193\u001B[0m res \u001B[38;5;241m=\u001B[39m conversion\u001B[38;5;241m.\u001B[39m_cdata_to_rinterface(r_res)\n\u001B[1;32m    194\u001B[0m \u001B[38;5;28;01massert\u001B[39;00m \u001B[38;5;28misinstance\u001B[39m(res, ListSexpVector)\n",
      "\u001B[0;31mRRuntimeError\u001B[0m: "
     ]
    }
   ],
   "source": [
    "coverage_dict_fig1, length_dict_fig1, MSE_dict_fig1\\\n",
    "    = terminal_inference_sim(n=200, p=5, a=1, b=2,\n",
    "                             sd_y=2,\n",
    "                             noise_sd_list=[1, 2.5, 5, 10],\n",
    "                             UV_gamma_list=[],\n",
    "                             use_nonrand=True,\n",
    "                             start=0, end=3,\n",
    "                             level=0.1, path=None)"
   ],
   "metadata": {
    "collapsed": false,
    "ExecuteTime": {
     "end_time": "2025-02-27T21:15:43.687118Z",
     "start_time": "2025-02-27T21:15:41.406263Z"
    }
   },
   "id": "8777d8f757e29461"
  },
  {
   "cell_type": "code",
   "execution_count": 9,
   "outputs": [
    {
     "ename": "NameError",
     "evalue": "name 'coverage_dict_fig1' is not defined",
     "output_type": "error",
     "traceback": [
      "\u001B[0;31m---------------------------------------------------------------------------\u001B[0m",
      "\u001B[0;31mNameError\u001B[0m                                 Traceback (most recent call last)",
      "Cell \u001B[0;32mIn[9], line 6\u001B[0m\n\u001B[1;32m      1\u001B[0m \u001B[38;5;66;03m# Columns: \u001B[39;00m\n\u001B[1;32m      2\u001B[0m \u001B[38;5;66;03m# RRT_c: RRT with external randomization N(0, (c*sd_y)^2)\u001B[39;00m\n\u001B[1;32m      3\u001B[0m \u001B[38;5;66;03m# Tree val: Tree-values\u001B[39;00m\n\u001B[1;32m      4\u001B[0m \u001B[38;5;66;03m# Naive: naive inference\u001B[39;00m\n\u001B[1;32m      5\u001B[0m \u001B[38;5;66;03m# Rows: Each row correspond to one round of simulation\u001B[39;00m\n\u001B[0;32m----> 6\u001B[0m pd\u001B[38;5;241m.\u001B[39mDataFrame(\u001B[43mcoverage_dict_fig1\u001B[49m)\n",
      "\u001B[0;31mNameError\u001B[0m: name 'coverage_dict_fig1' is not defined"
     ]
    }
   ],
   "source": [
    "# Columns: \n",
    "# RRT_c: RRT with external randomization N(0, (c*sd_y)^2)\n",
    "# Tree val: Tree-values\n",
    "# Naive: naive inference\n",
    "# Rows: Each row correspond to one round of simulation\n",
    "pd.DataFrame(coverage_dict_fig1)"
   ],
   "metadata": {
    "collapsed": false,
    "ExecuteTime": {
     "end_time": "2025-02-27T21:12:22.616266Z",
     "start_time": "2025-02-27T21:12:22.609088Z"
    }
   },
   "id": "4d01c5abe5810828"
  },
  {
   "cell_type": "code",
   "execution_count": 10,
   "outputs": [
    {
     "ename": "NameError",
     "evalue": "name 'length_dict_fig1' is not defined",
     "output_type": "error",
     "traceback": [
      "\u001B[0;31m---------------------------------------------------------------------------\u001B[0m",
      "\u001B[0;31mNameError\u001B[0m                                 Traceback (most recent call last)",
      "Cell \u001B[0;32mIn[10], line 6\u001B[0m\n\u001B[1;32m      1\u001B[0m \u001B[38;5;66;03m# Columns: \u001B[39;00m\n\u001B[1;32m      2\u001B[0m \u001B[38;5;66;03m# RRT_c: RRT with external randomization N(0, (c*sd_y)^2)\u001B[39;00m\n\u001B[1;32m      3\u001B[0m \u001B[38;5;66;03m# Tree val: Tree-values\u001B[39;00m\n\u001B[1;32m      4\u001B[0m \u001B[38;5;66;03m# Naive: naive inference\u001B[39;00m\n\u001B[1;32m      5\u001B[0m \u001B[38;5;66;03m# Rows: Each row correspond to one round of simulation\u001B[39;00m\n\u001B[0;32m----> 6\u001B[0m pd\u001B[38;5;241m.\u001B[39mDataFrame(\u001B[43mlength_dict_fig1\u001B[49m)\n",
      "\u001B[0;31mNameError\u001B[0m: name 'length_dict_fig1' is not defined"
     ]
    }
   ],
   "source": [
    "# Columns: \n",
    "# RRT_c: RRT with external randomization N(0, (c*sd_y)^2)\n",
    "# Tree val: Tree-values\n",
    "# Naive: naive inference\n",
    "# Rows: Each row correspond to one round of simulation\n",
    "pd.DataFrame(length_dict_fig1)"
   ],
   "metadata": {
    "collapsed": false,
    "ExecuteTime": {
     "end_time": "2025-02-27T21:12:22.903621Z",
     "start_time": "2025-02-27T21:12:22.880948Z"
    }
   },
   "id": "beece6f59845a437"
  },
  {
   "cell_type": "code",
   "execution_count": 11,
   "outputs": [
    {
     "ename": "NameError",
     "evalue": "name 'MSE_dict_fig1' is not defined",
     "output_type": "error",
     "traceback": [
      "\u001B[0;31m---------------------------------------------------------------------------\u001B[0m",
      "\u001B[0;31mNameError\u001B[0m                                 Traceback (most recent call last)",
      "Cell \u001B[0;32mIn[11], line 6\u001B[0m\n\u001B[1;32m      1\u001B[0m \u001B[38;5;66;03m# Columns: \u001B[39;00m\n\u001B[1;32m      2\u001B[0m \u001B[38;5;66;03m# RRT_c: RRT with external randomization N(0, (c*sd_y)^2)\u001B[39;00m\n\u001B[1;32m      3\u001B[0m \u001B[38;5;66;03m# Tree val: Tree-values\u001B[39;00m\n\u001B[1;32m      4\u001B[0m \u001B[38;5;66;03m# Naive: naive inference\u001B[39;00m\n\u001B[1;32m      5\u001B[0m \u001B[38;5;66;03m# Rows: Each row correspond to one round of simulation\u001B[39;00m\n\u001B[0;32m----> 6\u001B[0m pd\u001B[38;5;241m.\u001B[39mDataFrame(\u001B[43mMSE_dict_fig1\u001B[49m)\n",
      "\u001B[0;31mNameError\u001B[0m: name 'MSE_dict_fig1' is not defined"
     ]
    }
   ],
   "source": [
    "# Columns: \n",
    "# RRT_c: RRT with external randomization N(0, (c*sd_y)^2)\n",
    "# Tree val: Tree-values\n",
    "# Naive: naive inference\n",
    "# Rows: Each row correspond to one round of simulation\n",
    "pd.DataFrame(MSE_dict_fig1)"
   ],
   "metadata": {
    "collapsed": false,
    "ExecuteTime": {
     "end_time": "2025-02-27T21:12:23.970029Z",
     "start_time": "2025-02-27T21:12:23.962250Z"
    }
   },
   "id": "6b98704bde23e735"
  },
  {
   "cell_type": "markdown",
   "source": [
    "# Replicating Figure 2"
   ],
   "metadata": {
    "collapsed": false
   },
   "id": "904e5e2222d6d69e"
  },
  {
   "cell_type": "code",
   "execution_count": 35,
   "outputs": [
    {
     "name": "stdout",
     "output_type": "stream",
     "text": [
      "0 th simulation\n",
      "1 th simulation\n",
      "2 th simulation\n"
     ]
    },
    {
     "name": "stderr",
     "output_type": "stream",
     "text": [
      "/Users/yilingh/Desktop/PhD/SI_Codes/SI-CART/Utils/discrete_family.py:148: RuntimeWarning: overflow encountered in exp\n",
      "  self._partition *= np.exp(_largest)\n"
     ]
    }
   ],
   "source": [
    "coverage_dict_fig2, length_dict_fig2, MSE_dict_fig2\\\n",
    "    = terminal_inference_sim(n=200, p=5, a=1, b=2,\n",
    "                             sd_y=2,\n",
    "                             noise_sd_list=[1],\n",
    "                             UV_gamma_list=[0.1, 0.2, 0.3, 0.4, 0.5],\n",
    "                             use_nonrand=False,\n",
    "                             start=0, end=3,\n",
    "                             level=0.1, path=None)"
   ],
   "metadata": {
    "collapsed": false,
    "ExecuteTime": {
     "end_time": "2025-02-27T21:22:54.223418Z",
     "start_time": "2025-02-27T21:18:18.852828Z"
    }
   },
   "id": "9ef1b54140dc129b"
  },
  {
   "cell_type": "code",
   "execution_count": 36,
   "outputs": [
    {
     "data": {
      "text/plain": "      RRT_1    UV_0.1    UV_0.2    UV_0.3    UV_0.4    UV_0.5\n0  1.000000  1.000000  0.833333  0.857143  1.000000  0.833333\n1  1.000000  0.833333  1.000000  1.000000  0.833333  1.000000\n2  0.833333  1.000000  1.000000  0.833333  1.000000  1.000000",
      "text/html": "<div>\n<style scoped>\n    .dataframe tbody tr th:only-of-type {\n        vertical-align: middle;\n    }\n\n    .dataframe tbody tr th {\n        vertical-align: top;\n    }\n\n    .dataframe thead th {\n        text-align: right;\n    }\n</style>\n<table border=\"1\" class=\"dataframe\">\n  <thead>\n    <tr style=\"text-align: right;\">\n      <th></th>\n      <th>RRT_1</th>\n      <th>UV_0.1</th>\n      <th>UV_0.2</th>\n      <th>UV_0.3</th>\n      <th>UV_0.4</th>\n      <th>UV_0.5</th>\n    </tr>\n  </thead>\n  <tbody>\n    <tr>\n      <th>0</th>\n      <td>1.000000</td>\n      <td>1.000000</td>\n      <td>0.833333</td>\n      <td>0.857143</td>\n      <td>1.000000</td>\n      <td>0.833333</td>\n    </tr>\n    <tr>\n      <th>1</th>\n      <td>1.000000</td>\n      <td>0.833333</td>\n      <td>1.000000</td>\n      <td>1.000000</td>\n      <td>0.833333</td>\n      <td>1.000000</td>\n    </tr>\n    <tr>\n      <th>2</th>\n      <td>0.833333</td>\n      <td>1.000000</td>\n      <td>1.000000</td>\n      <td>0.833333</td>\n      <td>1.000000</td>\n      <td>1.000000</td>\n    </tr>\n  </tbody>\n</table>\n</div>"
     },
     "execution_count": 36,
     "metadata": {},
     "output_type": "execute_result"
    }
   ],
   "source": [
    "# Columns: \n",
    "# RRT_c: RRT with external randomization N(0, (c*sd_y)^2)\n",
    "# UV_k: UV decomposition with gamma = k\n",
    "# Rows: Each row correspond to one round of simulation\n",
    "pd.DataFrame(coverage_dict_fig2)"
   ],
   "metadata": {
    "collapsed": false,
    "ExecuteTime": {
     "end_time": "2025-02-27T21:24:15.938548Z",
     "start_time": "2025-02-27T21:24:15.897358Z"
    }
   },
   "id": "250ca3ab3bdca0a6"
  },
  {
   "cell_type": "code",
   "execution_count": 37,
   "outputs": [
    {
     "data": {
      "text/plain": "      RRT_1    UV_0.1    UV_0.2    UV_0.3    UV_0.4    UV_0.5\n0  8.394699  3.895045  2.847981  2.610729  2.221367  2.004146\n1  9.355430  3.881247  2.857391  2.431454  2.153402  2.011266\n2  9.207605  3.892569  2.878134  2.449271  2.205467  2.020659",
      "text/html": "<div>\n<style scoped>\n    .dataframe tbody tr th:only-of-type {\n        vertical-align: middle;\n    }\n\n    .dataframe tbody tr th {\n        vertical-align: top;\n    }\n\n    .dataframe thead th {\n        text-align: right;\n    }\n</style>\n<table border=\"1\" class=\"dataframe\">\n  <thead>\n    <tr style=\"text-align: right;\">\n      <th></th>\n      <th>RRT_1</th>\n      <th>UV_0.1</th>\n      <th>UV_0.2</th>\n      <th>UV_0.3</th>\n      <th>UV_0.4</th>\n      <th>UV_0.5</th>\n    </tr>\n  </thead>\n  <tbody>\n    <tr>\n      <th>0</th>\n      <td>8.394699</td>\n      <td>3.895045</td>\n      <td>2.847981</td>\n      <td>2.610729</td>\n      <td>2.221367</td>\n      <td>2.004146</td>\n    </tr>\n    <tr>\n      <th>1</th>\n      <td>9.355430</td>\n      <td>3.881247</td>\n      <td>2.857391</td>\n      <td>2.431454</td>\n      <td>2.153402</td>\n      <td>2.011266</td>\n    </tr>\n    <tr>\n      <th>2</th>\n      <td>9.207605</td>\n      <td>3.892569</td>\n      <td>2.878134</td>\n      <td>2.449271</td>\n      <td>2.205467</td>\n      <td>2.020659</td>\n    </tr>\n  </tbody>\n</table>\n</div>"
     },
     "execution_count": 37,
     "metadata": {},
     "output_type": "execute_result"
    }
   ],
   "source": [
    "# Columns: \n",
    "# RRT_c: RRT with external randomization N(0, (c*sd_y)^2)\n",
    "# UV_k: UV decomposition with gamma = k\n",
    "# Rows: Each row correspond to one round of simulation\n",
    "pd.DataFrame(length_dict_fig2)"
   ],
   "metadata": {
    "collapsed": false,
    "ExecuteTime": {
     "end_time": "2025-02-27T21:24:16.278601Z",
     "start_time": "2025-02-27T21:24:16.270423Z"
    }
   },
   "id": "ed46cebfb74768c5"
  },
  {
   "cell_type": "code",
   "execution_count": 38,
   "outputs": [
    {
     "data": {
      "text/plain": "      RRT_1    UV_0.1    UV_0.2    UV_0.3    UV_0.4    UV_0.5\n0  4.754626  5.724732  5.861563  4.959129  5.453345  5.903943\n1  5.007723  4.709248  4.827129  4.688048  4.627214  4.768680\n2  5.004523  4.553102  4.918423  4.947749  5.058473  5.104218",
      "text/html": "<div>\n<style scoped>\n    .dataframe tbody tr th:only-of-type {\n        vertical-align: middle;\n    }\n\n    .dataframe tbody tr th {\n        vertical-align: top;\n    }\n\n    .dataframe thead th {\n        text-align: right;\n    }\n</style>\n<table border=\"1\" class=\"dataframe\">\n  <thead>\n    <tr style=\"text-align: right;\">\n      <th></th>\n      <th>RRT_1</th>\n      <th>UV_0.1</th>\n      <th>UV_0.2</th>\n      <th>UV_0.3</th>\n      <th>UV_0.4</th>\n      <th>UV_0.5</th>\n    </tr>\n  </thead>\n  <tbody>\n    <tr>\n      <th>0</th>\n      <td>4.754626</td>\n      <td>5.724732</td>\n      <td>5.861563</td>\n      <td>4.959129</td>\n      <td>5.453345</td>\n      <td>5.903943</td>\n    </tr>\n    <tr>\n      <th>1</th>\n      <td>5.007723</td>\n      <td>4.709248</td>\n      <td>4.827129</td>\n      <td>4.688048</td>\n      <td>4.627214</td>\n      <td>4.768680</td>\n    </tr>\n    <tr>\n      <th>2</th>\n      <td>5.004523</td>\n      <td>4.553102</td>\n      <td>4.918423</td>\n      <td>4.947749</td>\n      <td>5.058473</td>\n      <td>5.104218</td>\n    </tr>\n  </tbody>\n</table>\n</div>"
     },
     "execution_count": 38,
     "metadata": {},
     "output_type": "execute_result"
    }
   ],
   "source": [
    "# Columns: \n",
    "# RRT_c: RRT with external randomization N(0, (c*sd_y)^2)\n",
    "# UV_k: UV decomposition with gamma = k\n",
    "# Rows: Each row correspond to one round of simulation\n",
    "pd.DataFrame(MSE_dict_fig2)"
   ],
   "metadata": {
    "collapsed": false,
    "ExecuteTime": {
     "end_time": "2025-02-27T21:24:21.577353Z",
     "start_time": "2025-02-27T21:24:21.571383Z"
    }
   },
   "id": "12e6df0dc95ead2f"
  },
  {
   "cell_type": "code",
   "execution_count": null,
   "outputs": [],
   "source": [],
   "metadata": {
    "collapsed": false
   },
   "id": "20c87f9deb7dfc3b"
  }
 ],
 "metadata": {
  "kernelspec": {
   "display_name": "Python 3",
   "language": "python",
   "name": "python3"
  },
  "language_info": {
   "codemirror_mode": {
    "name": "ipython",
    "version": 2
   },
   "file_extension": ".py",
   "mimetype": "text/x-python",
   "name": "python",
   "nbconvert_exporter": "python",
   "pygments_lexer": "ipython2",
   "version": "2.7.6"
  }
 },
 "nbformat": 4,
 "nbformat_minor": 5
}
