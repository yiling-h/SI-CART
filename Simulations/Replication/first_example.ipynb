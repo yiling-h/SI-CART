{
 "cells": [
  {
   "cell_type": "code",
   "execution_count": 1,
   "id": "initial_id",
   "metadata": {
    "collapsed": true,
    "ExecuteTime": {
     "end_time": "2025-02-27T04:41:21.232819Z",
     "start_time": "2025-02-27T04:41:19.658624Z"
    }
   },
   "outputs": [],
   "source": [
    "import sys, os\n",
    "\n",
    "import pandas as pd\n",
    "\n",
    "from CART import RegressionTree\n",
    "from Utils.plotting import  *\n",
    "from scipy.stats import norm as ndist\n",
    "import joblib\n",
    "\n",
    "# For tree-values\n",
    "import rpy2.robjects.packages as rpackages\n",
    "from rpy2.robjects.vectors import StrVector\n",
    "\n",
    "# Select a CRAN mirror to download from\n",
    "utils = rpackages.importr('utils')\n",
    "utils.chooseCRANmirror(ind=1)  # Select the first mirror\n",
    "\n",
    "# Install 'remotes' if it's not already installed\n",
    "if not rpackages.isinstalled('remotes'):\n",
    "    utils.install_packages(StrVector(('remotes',)))\n",
    "\n",
    "import rpy2.robjects as ro\n",
    "\n",
    "from rpy2.robjects.packages import importr\n",
    "from rpy2.robjects import pandas2ri\n",
    "from rpy2.robjects import numpy2ri"
   ]
  },
  {
   "cell_type": "code",
   "execution_count": 2,
   "outputs": [
    {
     "name": "stderr",
     "output_type": "stream",
     "text": [
      "R[write to console]: Using GitHub PAT from the git credential store.\n",
      "\n",
      "R[write to console]: Skipping install of 'treevalues' from a github remote, the SHA1 (55573782) has not changed since last install.\n",
      "  Use `force = TRUE` to force installation\n",
      "\n"
     ]
    }
   ],
   "source": [
    "# Run the GitHub installation command for 'treevalues'\n",
    "ro.r('remotes::install_github(\"anna-neufeld/treevalues\")')\n",
    "ro.r('library(treevalues)')\n",
    "ro.r('library(rpart)')"
   ],
   "metadata": {
    "collapsed": false,
    "ExecuteTime": {
     "end_time": "2025-02-27T04:41:21.644368Z",
     "start_time": "2025-02-27T04:41:21.233303Z"
    }
   },
   "id": "b5d5ac8ed92d6131"
  },
  {
   "cell_type": "code",
   "execution_count": 3,
   "outputs": [],
   "source": [
    "def generate_test(mu, sd_y):\n",
    "    n = mu.shape[0]\n",
    "    return mu + np.random.normal(size=(n,), scale=sd_y)"
   ],
   "metadata": {
    "collapsed": false,
    "ExecuteTime": {
     "end_time": "2025-02-27T04:41:21.648905Z",
     "start_time": "2025-02-27T04:41:21.645262Z"
    }
   },
   "id": "2b12e4284552b1ef"
  },
  {
   "cell_type": "markdown",
   "source": [
    "# Tree-values inference"
   ],
   "metadata": {
    "collapsed": false
   },
   "id": "3201be659cb7259f"
  },
  {
   "cell_type": "code",
   "execution_count": 4,
   "outputs": [],
   "source": [
    "def tree_values_inference(X, y, mu, sd_y, max_depth=5, level=0.1,\n",
    "                          X_test=None):\n",
    "    # Convert the NumPy matrix to an R matrix\n",
    "    X_r = numpy2ri.py2rpy(X)\n",
    "    y_r = numpy2ri.py2rpy(y)\n",
    "\n",
    "    # Assign the R matrix to a variable in the R environment (optional)\n",
    "    ro.globalenv['X_r'] = X_r\n",
    "    ro.globalenv['y_r'] = y_r\n",
    "    ro.globalenv['p'] = X.shape[1]\n",
    "\n",
    "    # Construct dataset\n",
    "    ro.r('data <- cbind(y_r, X_r)')\n",
    "    # Set the column names to \"y\", \"x1\", \"x2\", ..., \"x10\"\n",
    "    ro.r('colnames(data) <- c(\"y\", paste0(\"x\", 1:p))')\n",
    "    ro.r('data = data.frame(data)')\n",
    "\n",
    "    # Define the rpart tree model\n",
    "    tree_cmd = ('bls.tree <- rpart(y ~ ., data=data, model = TRUE, ' +\n",
    "                'control = rpart.control(cp=0.00, minsplit = 50, minbucket = 20, maxdepth=') + str(max_depth) + '))'\n",
    "    ro.r(tree_cmd)\n",
    "    bls_tree = ro.r('bls.tree')\n",
    "    # Plot the tree values (this will plot directly if you have a plotting backend set up)\n",
    "    # ro.r('treeval.plot(bls.tree, inferenceType=0)')\n",
    "\n",
    "    # ro.r('print(row.names(bls.tree$frame)[bls.tree$frame$var == \"<leaf>\"])')\n",
    "    ro.r('leaf_idx <- (row.names(bls.tree$frame)[bls.tree$frame$var == \"<leaf>\"])')\n",
    "    leaf_idx = ro.r['leaf_idx']\n",
    "\n",
    "    # Get node mapping\n",
    "    ro.r('idx_full <- 1:nrow(bls.tree$frame)')\n",
    "    ro.r('mapped_idx <- idx_full[bls.tree$frame$var == \"<leaf>\"]')\n",
    "\n",
    "    len = []\n",
    "    coverage = []\n",
    "    len_naive = []\n",
    "    coverage_naive = []\n",
    "\n",
    "    for i, idx in enumerate(leaf_idx):\n",
    "        # Get the branch information for a specific branch in the tree\n",
    "        command = 'branch <- getBranch(bls.tree, ' + str(idx) + ')'\n",
    "        ro.r(command)\n",
    "        # Perform branch inference\n",
    "        ro.r(f'result <- branchInference(bls.tree, branch, type=\"reg\", alpha = 0.10, sigma_y={sd_y})')\n",
    "        # Get confidence intervals\n",
    "        confint = ro.r('result$confint')\n",
    "        len.append(confint[1] - confint[0])\n",
    "\n",
    "        target_cmd = \"contrast <- (bls.tree$where == mapped_idx[\" + str(i + 1) + \"])\"\n",
    "        ro.r(target_cmd)\n",
    "        contrast = ro.r('contrast')\n",
    "        contrast = np.array(contrast)\n",
    "\n",
    "        contrast = np.array(contrast * 1 / np.sum(contrast))\n",
    "\n",
    "        target = contrast.dot(mu)\n",
    "        coverage.append(target >= confint[0] and target <= confint[1])\n",
    "\n",
    "        # Naive after tree value\n",
    "        # Confidence intervals\n",
    "        naive_CI = [contrast.dot(y) -\n",
    "                    np.linalg.norm(contrast) * sd_y * ndist.ppf(1 - level / 2),\n",
    "                    contrast.dot(y) +\n",
    "                    np.linalg.norm(contrast) * sd_y * ndist.ppf(1 - level / 2)]\n",
    "        coverage_naive.append((target >= naive_CI[0] and target <= naive_CI[1]))\n",
    "        len_naive.append(naive_CI[1] - naive_CI[0])\n",
    "\n",
    "    if X_test is not None:\n",
    "        X_test_r = numpy2ri.py2rpy(X_test)\n",
    "        ro.globalenv['X_test_r'] = X_test_r\n",
    "        ro.r('pred <- predict(bls.tree, data = X_test_r)')\n",
    "        pred = ro.r['pred']\n",
    "    else:\n",
    "        pred = None\n",
    "\n",
    "    return (np.mean(coverage), np.mean(len),\n",
    "            np.mean(coverage_naive), np.mean(len_naive), pred)"
   ],
   "metadata": {
    "collapsed": false,
    "ExecuteTime": {
     "end_time": "2025-02-27T04:41:21.654Z",
     "start_time": "2025-02-27T04:41:21.648392Z"
    }
   },
   "id": "d5f59772261d8c06"
  },
  {
   "cell_type": "markdown",
   "source": [
    "# RRT inference"
   ],
   "metadata": {
    "collapsed": false
   },
   "id": "68b034d92f8e7a30"
  },
  {
   "cell_type": "code",
   "execution_count": 5,
   "outputs": [],
   "source": [
    "def randomized_inference(reg_tree, sd_y, y, mu, level=0.1):\n",
    "    # print(reg_tree.terminal_nodes)\n",
    "    coverage_i = []\n",
    "    lengths_i = []\n",
    "\n",
    "    for node in reg_tree.terminal_nodes:\n",
    "        pval, dist, contrast, norm_contrast, obs_tar, logW, suff, sel_probs \\\n",
    "            = (reg_tree.condl_node_inference(node=node,\n",
    "                                             ngrid=10000,\n",
    "                                             ncoarse=50,\n",
    "                                             grid_w_const=5,\n",
    "                                             reduced_dim=1,\n",
    "                                             sd=sd_y,\n",
    "                                             use_cvxpy=True))\n",
    "        target = contrast.dot(mu)\n",
    "\n",
    "        # This is an interval for\n",
    "        # eta_*'mu = eta'mu / (norm(eta) * sd_y)\n",
    "        selective_CI = (dist.equal_tailed_interval(observed=norm_contrast.dot(y),\n",
    "                                                   alpha=level))\n",
    "        selective_CI = np.array(selective_CI)\n",
    "        selective_CI *= np.linalg.norm(contrast) * sd_y\n",
    "        coverage_i.append((target >= selective_CI[0] and target <= selective_CI[1]))\n",
    "        lengths_i.append(selective_CI[1] - selective_CI[0])\n",
    "\n",
    "    return coverage_i, lengths_i"
   ],
   "metadata": {
    "collapsed": false,
    "ExecuteTime": {
     "end_time": "2025-02-27T04:41:21.658189Z",
     "start_time": "2025-02-27T04:41:21.656728Z"
    }
   },
   "id": "593dfd6522f79486"
  },
  {
   "cell_type": "markdown",
   "source": [
    "# Inference with UV decomposition"
   ],
   "metadata": {
    "collapsed": false
   },
   "id": "b59562660744af96"
  },
  {
   "cell_type": "code",
   "execution_count": 6,
   "outputs": [],
   "source": [
    "def UV_decomposition(X, y, mu, sd_y,\n",
    "                     max_depth=5, min_prop=0, min_sample=10, min_bucket=5,\n",
    "                     level=0.1, gamma=1,\n",
    "                     X_test=None):\n",
    "    n = X.shape[0]\n",
    "    W = np.random.normal(loc=0, scale=sd_y * np.sqrt(gamma), size=(n,))\n",
    "    U = y + W\n",
    "    V = y - W / gamma\n",
    "    sd_V = sd_y * np.sqrt(1 + 1 / gamma)\n",
    "    reg_tree = RegressionTree(min_samples_split=min_sample, max_depth=max_depth,\n",
    "                              min_proportion=min_prop, min_bucket=min_bucket)\n",
    "    reg_tree.fit(X, U, sd=0)\n",
    "\n",
    "    coverage = []\n",
    "    lengths = []\n",
    "\n",
    "    for node in reg_tree.terminal_nodes:\n",
    "        contrast = node.membership\n",
    "\n",
    "        contrast = np.array(contrast * 1 / np.sum(contrast))\n",
    "\n",
    "        target = contrast.dot(mu)\n",
    "\n",
    "        # Naive after tree value\n",
    "        # Confidence intervals\n",
    "        CI = [contrast.dot(V) -\n",
    "              np.linalg.norm(contrast) * sd_V * ndist.ppf(1 - level / 2),\n",
    "              contrast.dot(V) +\n",
    "              np.linalg.norm(contrast) * sd_V * ndist.ppf(1 - level / 2)]\n",
    "        coverage.append((target >= CI[0] and target <= CI[1]))\n",
    "        lengths.append(CI[1] - CI[0])\n",
    "\n",
    "    if X_test is not None:\n",
    "        pred = reg_tree.predict(X_test)\n",
    "    else:\n",
    "        pred = None\n",
    "\n",
    "    return coverage, lengths, pred"
   ],
   "metadata": {
    "collapsed": false,
    "ExecuteTime": {
     "end_time": "2025-02-27T04:41:21.662825Z",
     "start_time": "2025-02-27T04:41:21.661236Z"
    }
   },
   "id": "45c2e38de4e0ee17"
  },
  {
   "cell_type": "markdown",
   "source": [
    "# Replicating Figure 1"
   ],
   "metadata": {
    "collapsed": false
   },
   "id": "1e3f3b7319ac6822"
  },
  {
   "cell_type": "code",
   "execution_count": 7,
   "outputs": [],
   "source": [
    "def terminal_inference_sim(n=50, p=5, a=0.1, b=0.1,\n",
    "                           sd_y=1,\n",
    "                           noise_sd_list=[0.5, 1, 2, 5],\n",
    "                           UV_gamma_list=[],\n",
    "                           use_nonrand=True,\n",
    "                           start=0, end=100,\n",
    "                           level=0.1, path=None):\n",
    "    method_list = [f\"RRT_{sd}\" for sd in noise_sd_list]\n",
    "    if use_nonrand:\n",
    "        method_list += [\"Tree val\", \"Naive\"]\n",
    "    for gamma in UV_gamma_list:\n",
    "        method_list.append(\"UV_\" + str(gamma))\n",
    "\n",
    "    coverage_dict = {m: [] for m in method_list}\n",
    "    length_dict = {m: [] for m in method_list}\n",
    "    MSE_dict = {m: [] for m in method_list}\n",
    "\n",
    "    for i in range(start, end):\n",
    "        print(i, \"th simulation\")\n",
    "        np.random.seed(i + 10000)\n",
    "        X = np.random.normal(size=(n, p))\n",
    "\n",
    "        mu = b * ((X[:, 0] <= 0) * (1 + a * (X[:, 1] > 0) + (X[:, 2] * X[:, 1] <= 0)))\n",
    "        y = mu + np.random.normal(size=(n,), scale=sd_y)\n",
    "        y_test = generate_test(mu, sd_y)\n",
    "        \n",
    "        if use_nonrand:\n",
    "            # Tree value & naive inference & prediction\n",
    "            (coverage_treeval, avg_len_treeval,\n",
    "             coverage_treeval_naive, avg_len_treeval_naive,\n",
    "             pred_test_treeval) = tree_values_inference(X, y, mu, sd_y=sd_y,\n",
    "                                                        X_test=X, max_depth=3)\n",
    "            MSE_test_treeval = (np.mean((y_test - pred_test_treeval) ** 2))\n",
    "\n",
    "            coverage_dict[\"Tree val\"].append(coverage_treeval)\n",
    "            length_dict[\"Tree val\"].append(avg_len_treeval)\n",
    "            MSE_dict[\"Tree val\"].append(MSE_test_treeval)\n",
    "            coverage_dict[\"Naive\"].append(coverage_treeval_naive)\n",
    "            length_dict[\"Naive\"].append(avg_len_treeval_naive)\n",
    "            MSE_dict[\"Naive\"].append(MSE_test_treeval)\n",
    "\n",
    "        for noise_sd in noise_sd_list:\n",
    "            # Create and train the regression tree\n",
    "            reg_tree = RegressionTree(min_samples_split=50, max_depth=3,\n",
    "                                      min_proportion=0., min_bucket=20)\n",
    "\n",
    "            reg_tree.fit(X, y, sd=noise_sd * sd_y)\n",
    "\n",
    "            coverage_i, lengths_i = randomized_inference(reg_tree=reg_tree,\n",
    "                                                         y=y, sd_y=sd_y, mu=mu,\n",
    "                                                         level=level)\n",
    "            pred_test = reg_tree.predict(X)\n",
    "            MSE_test = (np.mean((y_test - pred_test) ** 2))\n",
    "            # Record results\n",
    "            coverage_dict[f\"RRT_{noise_sd}\"].append(np.mean(coverage_i))\n",
    "            length_dict[f\"RRT_{noise_sd}\"].append(np.mean(lengths_i))\n",
    "            MSE_dict[f\"RRT_{noise_sd}\"].append(MSE_test)\n",
    "\n",
    "        for gamma in UV_gamma_list:\n",
    "            gamma_key = \"UV_\" + str(gamma)\n",
    "            # UV decomposition\n",
    "            coverage_UV, len_UV, pred_UV = UV_decomposition(X, y, mu, sd_y, X_test=X,\n",
    "                                                            min_prop=0., max_depth=3,\n",
    "                                                            min_sample=50, min_bucket=20,\n",
    "                                                            gamma=gamma)\n",
    "            MSE_UV = (np.mean((y_test - pred_UV) ** 2))\n",
    "            coverage_dict[gamma_key].append(np.mean(coverage_UV))\n",
    "            length_dict[gamma_key].append(np.mean(len_UV))\n",
    "            MSE_dict[gamma_key].append(MSE_UV)\n",
    "\n",
    "        if path is not None:\n",
    "            joblib.dump([coverage_dict, length_dict, MSE_dict], path, compress=1)\n",
    "\n",
    "    return coverage_dict, length_dict, MSE_dict"
   ],
   "metadata": {
    "collapsed": false,
    "ExecuteTime": {
     "end_time": "2025-02-27T04:41:22.366810Z",
     "start_time": "2025-02-27T04:41:22.362949Z"
    }
   },
   "id": "d4fc427721e488a9"
  },
  {
   "cell_type": "code",
   "execution_count": 8,
   "outputs": [
    {
     "name": "stdout",
     "output_type": "stream",
     "text": [
      "0 th simulation\n",
      "1 th simulation\n"
     ]
    },
    {
     "name": "stderr",
     "output_type": "stream",
     "text": [
      "/Users/yilingh/Desktop/PhD/SI_Codes/SI-CART/Utils/discrete_family.py:148: RuntimeWarning: overflow encountered in exp\n",
      "  self._partition *= np.exp(_largest)\n"
     ]
    },
    {
     "name": "stdout",
     "output_type": "stream",
     "text": [
      "2 th simulation\n"
     ]
    }
   ],
   "source": [
    "coverage_dict_fig1, length_dict_fig1, MSE_dict_fig1\\\n",
    "    = terminal_inference_sim(n=200, p=5, a=1, b=2,\n",
    "                             sd_y=2,\n",
    "                             noise_sd_list=[1, 2.5, 5, 10],\n",
    "                             UV_gamma_list=[],\n",
    "                             use_nonrand=True,\n",
    "                             start=0, end=3,\n",
    "                             level=0.1, path=None)"
   ],
   "metadata": {
    "collapsed": false,
    "ExecuteTime": {
     "end_time": "2025-02-27T04:44:51.238885Z",
     "start_time": "2025-02-27T04:41:22.700793Z"
    }
   },
   "id": "8777d8f757e29461"
  },
  {
   "cell_type": "code",
   "execution_count": 9,
   "outputs": [
    {
     "data": {
      "text/plain": "      RRT_1   RRT_2.5     RRT_5    RRT_10  Tree val     Naive\n0  0.857143  0.833333  1.000000  0.333333  0.714286  0.714286\n1  1.000000  0.833333  0.666667  1.000000  0.833333  0.500000\n2  1.000000  1.000000  1.000000  1.000000  1.000000  0.666667",
      "text/html": "<div>\n<style scoped>\n    .dataframe tbody tr th:only-of-type {\n        vertical-align: middle;\n    }\n\n    .dataframe tbody tr th {\n        vertical-align: top;\n    }\n\n    .dataframe thead th {\n        text-align: right;\n    }\n</style>\n<table border=\"1\" class=\"dataframe\">\n  <thead>\n    <tr style=\"text-align: right;\">\n      <th></th>\n      <th>RRT_1</th>\n      <th>RRT_2.5</th>\n      <th>RRT_5</th>\n      <th>RRT_10</th>\n      <th>Tree val</th>\n      <th>Naive</th>\n    </tr>\n  </thead>\n  <tbody>\n    <tr>\n      <th>0</th>\n      <td>0.857143</td>\n      <td>0.833333</td>\n      <td>1.000000</td>\n      <td>0.333333</td>\n      <td>0.714286</td>\n      <td>0.714286</td>\n    </tr>\n    <tr>\n      <th>1</th>\n      <td>1.000000</td>\n      <td>0.833333</td>\n      <td>0.666667</td>\n      <td>1.000000</td>\n      <td>0.833333</td>\n      <td>0.500000</td>\n    </tr>\n    <tr>\n      <th>2</th>\n      <td>1.000000</td>\n      <td>1.000000</td>\n      <td>1.000000</td>\n      <td>1.000000</td>\n      <td>1.000000</td>\n      <td>0.666667</td>\n    </tr>\n  </tbody>\n</table>\n</div>"
     },
     "execution_count": 9,
     "metadata": {},
     "output_type": "execute_result"
    }
   ],
   "source": [
    "# Columns: \n",
    "# RRT_c: RRT with external randomization N(0, (c*sd_y)^2)\n",
    "# Tree val: Tree-values\n",
    "# Naive: naive inference\n",
    "# Rows: Each row correspond to one round of simulation\n",
    "pd.DataFrame(coverage_dict_fig1)"
   ],
   "metadata": {
    "collapsed": false,
    "ExecuteTime": {
     "end_time": "2025-02-27T04:45:20.165574Z",
     "start_time": "2025-02-27T04:45:20.155305Z"
    }
   },
   "id": "4d01c5abe5810828"
  },
  {
   "cell_type": "code",
   "execution_count": 10,
   "outputs": [
    {
     "data": {
      "text/plain": "       RRT_1    RRT_2.5     RRT_5    RRT_10   Tree val     Naive\n0  13.604842   5.217906  2.878473  1.731980  25.308622  1.258967\n1  14.075980   5.587196  3.149380  3.742284   2.290091  1.166525\n2  13.183121  26.319058  3.346764  1.963565   1.871536  1.178633",
      "text/html": "<div>\n<style scoped>\n    .dataframe tbody tr th:only-of-type {\n        vertical-align: middle;\n    }\n\n    .dataframe tbody tr th {\n        vertical-align: top;\n    }\n\n    .dataframe thead th {\n        text-align: right;\n    }\n</style>\n<table border=\"1\" class=\"dataframe\">\n  <thead>\n    <tr style=\"text-align: right;\">\n      <th></th>\n      <th>RRT_1</th>\n      <th>RRT_2.5</th>\n      <th>RRT_5</th>\n      <th>RRT_10</th>\n      <th>Tree val</th>\n      <th>Naive</th>\n    </tr>\n  </thead>\n  <tbody>\n    <tr>\n      <th>0</th>\n      <td>13.604842</td>\n      <td>5.217906</td>\n      <td>2.878473</td>\n      <td>1.731980</td>\n      <td>25.308622</td>\n      <td>1.258967</td>\n    </tr>\n    <tr>\n      <th>1</th>\n      <td>14.075980</td>\n      <td>5.587196</td>\n      <td>3.149380</td>\n      <td>3.742284</td>\n      <td>2.290091</td>\n      <td>1.166525</td>\n    </tr>\n    <tr>\n      <th>2</th>\n      <td>13.183121</td>\n      <td>26.319058</td>\n      <td>3.346764</td>\n      <td>1.963565</td>\n      <td>1.871536</td>\n      <td>1.178633</td>\n    </tr>\n  </tbody>\n</table>\n</div>"
     },
     "execution_count": 10,
     "metadata": {},
     "output_type": "execute_result"
    }
   ],
   "source": [
    "# Columns: \n",
    "# RRT_c: RRT with external randomization N(0, (c*sd_y)^2)\n",
    "# Tree val: Tree-values\n",
    "# Naive: naive inference\n",
    "# Rows: Each row correspond to one round of simulation\n",
    "pd.DataFrame(length_dict_fig1)"
   ],
   "metadata": {
    "collapsed": false,
    "ExecuteTime": {
     "end_time": "2025-02-27T04:45:23.142577Z",
     "start_time": "2025-02-27T04:45:23.136789Z"
    }
   },
   "id": "beece6f59845a437"
  },
  {
   "cell_type": "code",
   "execution_count": 11,
   "outputs": [
    {
     "data": {
      "text/plain": "      RRT_1   RRT_2.5     RRT_5    RRT_10  Tree val     Naive\n0  4.754626  5.385438  6.062667  5.715567  4.774639  4.774639\n1  5.007723  4.517161  5.284633  5.598432  4.747049  4.747049\n2  5.004523  4.477550  4.936360  5.975434  4.853868  4.853868",
      "text/html": "<div>\n<style scoped>\n    .dataframe tbody tr th:only-of-type {\n        vertical-align: middle;\n    }\n\n    .dataframe tbody tr th {\n        vertical-align: top;\n    }\n\n    .dataframe thead th {\n        text-align: right;\n    }\n</style>\n<table border=\"1\" class=\"dataframe\">\n  <thead>\n    <tr style=\"text-align: right;\">\n      <th></th>\n      <th>RRT_1</th>\n      <th>RRT_2.5</th>\n      <th>RRT_5</th>\n      <th>RRT_10</th>\n      <th>Tree val</th>\n      <th>Naive</th>\n    </tr>\n  </thead>\n  <tbody>\n    <tr>\n      <th>0</th>\n      <td>4.754626</td>\n      <td>5.385438</td>\n      <td>6.062667</td>\n      <td>5.715567</td>\n      <td>4.774639</td>\n      <td>4.774639</td>\n    </tr>\n    <tr>\n      <th>1</th>\n      <td>5.007723</td>\n      <td>4.517161</td>\n      <td>5.284633</td>\n      <td>5.598432</td>\n      <td>4.747049</td>\n      <td>4.747049</td>\n    </tr>\n    <tr>\n      <th>2</th>\n      <td>5.004523</td>\n      <td>4.477550</td>\n      <td>4.936360</td>\n      <td>5.975434</td>\n      <td>4.853868</td>\n      <td>4.853868</td>\n    </tr>\n  </tbody>\n</table>\n</div>"
     },
     "execution_count": 11,
     "metadata": {},
     "output_type": "execute_result"
    }
   ],
   "source": [
    "# Columns: \n",
    "# RRT_c: RRT with external randomization N(0, (c*sd_y)^2)\n",
    "# Tree val: Tree-values\n",
    "# Naive: naive inference\n",
    "# Rows: Each row correspond to one round of simulation\n",
    "pd.DataFrame(MSE_dict_fig1)"
   ],
   "metadata": {
    "collapsed": false,
    "ExecuteTime": {
     "end_time": "2025-02-27T04:45:28.286766Z",
     "start_time": "2025-02-27T04:45:28.276571Z"
    }
   },
   "id": "6b98704bde23e735"
  },
  {
   "cell_type": "markdown",
   "source": [
    "# Replicating Figure 2"
   ],
   "metadata": {
    "collapsed": false
   },
   "id": "904e5e2222d6d69e"
  },
  {
   "cell_type": "code",
   "execution_count": 13,
   "outputs": [
    {
     "name": "stdout",
     "output_type": "stream",
     "text": [
      "0 th simulation\n"
     ]
    },
    {
     "ename": "KeyboardInterrupt",
     "evalue": "",
     "output_type": "error",
     "traceback": [
      "\u001B[0;31m---------------------------------------------------------------------------\u001B[0m",
      "\u001B[0;31mKeyboardInterrupt\u001B[0m                         Traceback (most recent call last)",
      "Cell \u001B[0;32mIn[13], line 2\u001B[0m\n\u001B[1;32m      1\u001B[0m coverage_dict_fig2, length_dict_fig2, MSE_dict_fig2\\\n\u001B[0;32m----> 2\u001B[0m     \u001B[38;5;241m=\u001B[39m \u001B[43mterminal_inference_sim\u001B[49m\u001B[43m(\u001B[49m\u001B[43mn\u001B[49m\u001B[38;5;241;43m=\u001B[39;49m\u001B[38;5;241;43m200\u001B[39;49m\u001B[43m,\u001B[49m\u001B[43m \u001B[49m\u001B[43mp\u001B[49m\u001B[38;5;241;43m=\u001B[39;49m\u001B[38;5;241;43m5\u001B[39;49m\u001B[43m,\u001B[49m\u001B[43m \u001B[49m\u001B[43ma\u001B[49m\u001B[38;5;241;43m=\u001B[39;49m\u001B[38;5;241;43m1\u001B[39;49m\u001B[43m,\u001B[49m\u001B[43m \u001B[49m\u001B[43mb\u001B[49m\u001B[38;5;241;43m=\u001B[39;49m\u001B[38;5;241;43m2\u001B[39;49m\u001B[43m,\u001B[49m\n\u001B[1;32m      3\u001B[0m \u001B[43m                             \u001B[49m\u001B[43msd_y\u001B[49m\u001B[38;5;241;43m=\u001B[39;49m\u001B[38;5;241;43m2\u001B[39;49m\u001B[43m,\u001B[49m\n\u001B[1;32m      4\u001B[0m \u001B[43m                             \u001B[49m\u001B[43mnoise_sd_list\u001B[49m\u001B[38;5;241;43m=\u001B[39;49m\u001B[43m[\u001B[49m\u001B[38;5;241;43m1\u001B[39;49m\u001B[43m]\u001B[49m\u001B[43m,\u001B[49m\n\u001B[1;32m      5\u001B[0m \u001B[43m                             \u001B[49m\u001B[43mUV_gamma_list\u001B[49m\u001B[38;5;241;43m=\u001B[39;49m\u001B[43m[\u001B[49m\u001B[38;5;241;43m0.1\u001B[39;49m\u001B[43m,\u001B[49m\u001B[43m \u001B[49m\u001B[38;5;241;43m0.2\u001B[39;49m\u001B[43m,\u001B[49m\u001B[43m \u001B[49m\u001B[38;5;241;43m0.3\u001B[39;49m\u001B[43m,\u001B[49m\u001B[43m \u001B[49m\u001B[38;5;241;43m0.4\u001B[39;49m\u001B[43m,\u001B[49m\u001B[43m \u001B[49m\u001B[38;5;241;43m0.5\u001B[39;49m\u001B[43m]\u001B[49m\u001B[43m,\u001B[49m\n\u001B[1;32m      6\u001B[0m \u001B[43m                             \u001B[49m\u001B[43muse_nonrand\u001B[49m\u001B[38;5;241;43m=\u001B[39;49m\u001B[38;5;28;43;01mFalse\u001B[39;49;00m\u001B[43m,\u001B[49m\n\u001B[1;32m      7\u001B[0m \u001B[43m                             \u001B[49m\u001B[43mstart\u001B[49m\u001B[38;5;241;43m=\u001B[39;49m\u001B[38;5;241;43m0\u001B[39;49m\u001B[43m,\u001B[49m\u001B[43m \u001B[49m\u001B[43mend\u001B[49m\u001B[38;5;241;43m=\u001B[39;49m\u001B[38;5;241;43m3\u001B[39;49m\u001B[43m,\u001B[49m\n\u001B[1;32m      8\u001B[0m \u001B[43m                             \u001B[49m\u001B[43mlevel\u001B[49m\u001B[38;5;241;43m=\u001B[39;49m\u001B[38;5;241;43m0.1\u001B[39;49m\u001B[43m,\u001B[49m\u001B[43m \u001B[49m\u001B[43mpath\u001B[49m\u001B[38;5;241;43m=\u001B[39;49m\u001B[38;5;28;43;01mNone\u001B[39;49;00m\u001B[43m)\u001B[49m\n",
      "Cell \u001B[0;32mIn[7], line 49\u001B[0m, in \u001B[0;36mterminal_inference_sim\u001B[0;34m(n, p, a, b, sd_y, noise_sd_list, UV_gamma_list, use_nonrand, start, end, level, path)\u001B[0m\n\u001B[1;32m     44\u001B[0m reg_tree \u001B[38;5;241m=\u001B[39m RegressionTree(min_samples_split\u001B[38;5;241m=\u001B[39m\u001B[38;5;241m50\u001B[39m, max_depth\u001B[38;5;241m=\u001B[39m\u001B[38;5;241m3\u001B[39m,\n\u001B[1;32m     45\u001B[0m                           min_proportion\u001B[38;5;241m=\u001B[39m\u001B[38;5;241m0.\u001B[39m, min_bucket\u001B[38;5;241m=\u001B[39m\u001B[38;5;241m20\u001B[39m)\n\u001B[1;32m     47\u001B[0m reg_tree\u001B[38;5;241m.\u001B[39mfit(X, y, sd\u001B[38;5;241m=\u001B[39mnoise_sd \u001B[38;5;241m*\u001B[39m sd_y)\n\u001B[0;32m---> 49\u001B[0m coverage_i, lengths_i \u001B[38;5;241m=\u001B[39m \u001B[43mrandomized_inference\u001B[49m\u001B[43m(\u001B[49m\u001B[43mreg_tree\u001B[49m\u001B[38;5;241;43m=\u001B[39;49m\u001B[43mreg_tree\u001B[49m\u001B[43m,\u001B[49m\n\u001B[1;32m     50\u001B[0m \u001B[43m                                             \u001B[49m\u001B[43my\u001B[49m\u001B[38;5;241;43m=\u001B[39;49m\u001B[43my\u001B[49m\u001B[43m,\u001B[49m\u001B[43m \u001B[49m\u001B[43msd_y\u001B[49m\u001B[38;5;241;43m=\u001B[39;49m\u001B[43msd_y\u001B[49m\u001B[43m,\u001B[49m\u001B[43m \u001B[49m\u001B[43mmu\u001B[49m\u001B[38;5;241;43m=\u001B[39;49m\u001B[43mmu\u001B[49m\u001B[43m,\u001B[49m\n\u001B[1;32m     51\u001B[0m \u001B[43m                                             \u001B[49m\u001B[43mlevel\u001B[49m\u001B[38;5;241;43m=\u001B[39;49m\u001B[43mlevel\u001B[49m\u001B[43m)\u001B[49m\n\u001B[1;32m     52\u001B[0m pred_test \u001B[38;5;241m=\u001B[39m reg_tree\u001B[38;5;241m.\u001B[39mpredict(X)\n\u001B[1;32m     53\u001B[0m MSE_test \u001B[38;5;241m=\u001B[39m (np\u001B[38;5;241m.\u001B[39mmean((y_test \u001B[38;5;241m-\u001B[39m pred_test) \u001B[38;5;241m*\u001B[39m\u001B[38;5;241m*\u001B[39m \u001B[38;5;241m2\u001B[39m))\n",
      "Cell \u001B[0;32mIn[5], line 8\u001B[0m, in \u001B[0;36mrandomized_inference\u001B[0;34m(reg_tree, sd_y, y, mu, level)\u001B[0m\n\u001B[1;32m      4\u001B[0m lengths_i \u001B[38;5;241m=\u001B[39m []\n\u001B[1;32m      6\u001B[0m \u001B[38;5;28;01mfor\u001B[39;00m node \u001B[38;5;129;01min\u001B[39;00m reg_tree\u001B[38;5;241m.\u001B[39mterminal_nodes:\n\u001B[1;32m      7\u001B[0m     pval, dist, contrast, norm_contrast, obs_tar, logW, suff, sel_probs \\\n\u001B[0;32m----> 8\u001B[0m         \u001B[38;5;241m=\u001B[39m (\u001B[43mreg_tree\u001B[49m\u001B[38;5;241;43m.\u001B[39;49m\u001B[43mcondl_node_inference\u001B[49m\u001B[43m(\u001B[49m\u001B[43mnode\u001B[49m\u001B[38;5;241;43m=\u001B[39;49m\u001B[43mnode\u001B[49m\u001B[43m,\u001B[49m\n\u001B[1;32m      9\u001B[0m \u001B[43m                                         \u001B[49m\u001B[43mngrid\u001B[49m\u001B[38;5;241;43m=\u001B[39;49m\u001B[38;5;241;43m10000\u001B[39;49m\u001B[43m,\u001B[49m\n\u001B[1;32m     10\u001B[0m \u001B[43m                                         \u001B[49m\u001B[43mncoarse\u001B[49m\u001B[38;5;241;43m=\u001B[39;49m\u001B[38;5;241;43m50\u001B[39;49m\u001B[43m,\u001B[49m\n\u001B[1;32m     11\u001B[0m \u001B[43m                                         \u001B[49m\u001B[43mgrid_w_const\u001B[49m\u001B[38;5;241;43m=\u001B[39;49m\u001B[38;5;241;43m5\u001B[39;49m\u001B[43m,\u001B[49m\n\u001B[1;32m     12\u001B[0m \u001B[43m                                         \u001B[49m\u001B[43mreduced_dim\u001B[49m\u001B[38;5;241;43m=\u001B[39;49m\u001B[38;5;241;43m1\u001B[39;49m\u001B[43m,\u001B[49m\n\u001B[1;32m     13\u001B[0m \u001B[43m                                         \u001B[49m\u001B[43msd\u001B[49m\u001B[38;5;241;43m=\u001B[39;49m\u001B[43msd_y\u001B[49m\u001B[43m,\u001B[49m\n\u001B[1;32m     14\u001B[0m \u001B[43m                                         \u001B[49m\u001B[43muse_cvxpy\u001B[49m\u001B[38;5;241;43m=\u001B[39;49m\u001B[38;5;28;43;01mTrue\u001B[39;49;00m\u001B[43m)\u001B[49m)\n\u001B[1;32m     15\u001B[0m     target \u001B[38;5;241m=\u001B[39m contrast\u001B[38;5;241m.\u001B[39mdot(mu)\n\u001B[1;32m     17\u001B[0m     \u001B[38;5;66;03m# This is an interval for\u001B[39;00m\n\u001B[1;32m     18\u001B[0m     \u001B[38;5;66;03m# eta_*'mu = eta'mu / (norm(eta) * sd_y)\u001B[39;00m\n",
      "File \u001B[0;32m~/Desktop/PhD/SI_Codes/SI-CART/CART.py:791\u001B[0m, in \u001B[0;36mRegressionTree.condl_node_inference\u001B[0;34m(self, node, ngrid, ncoarse, grid_w_const, sd, reduced_dim, use_cvxpy)\u001B[0m\n\u001B[1;32m    788\u001B[0m \u001B[38;5;28;01melse\u001B[39;00m:\n\u001B[1;32m    789\u001B[0m     eval_grid \u001B[38;5;241m=\u001B[39m stat_grid\n\u001B[0;32m--> 791\u001B[0m ref \u001B[38;5;241m=\u001B[39m \u001B[38;5;28;43mself\u001B[39;49m\u001B[38;5;241;43m.\u001B[39;49m\u001B[43m_condl_approx_log_reference\u001B[49m\u001B[43m(\u001B[49m\u001B[43mnode\u001B[49m\u001B[38;5;241;43m=\u001B[39;49m\u001B[43mnode\u001B[49m\u001B[38;5;241;43m.\u001B[39;49m\u001B[43mprev_node\u001B[49m\u001B[43m,\u001B[49m\n\u001B[1;32m    792\u001B[0m \u001B[43m                                       \u001B[49m\u001B[43mgrid\u001B[49m\u001B[38;5;241;43m=\u001B[39;49m\u001B[43meval_grid\u001B[49m\u001B[43m,\u001B[49m\n\u001B[1;32m    793\u001B[0m \u001B[43m                                       \u001B[49m\u001B[43mnuisance\u001B[49m\u001B[38;5;241;43m=\u001B[39;49m\u001B[43mnuisance\u001B[49m\u001B[43m,\u001B[49m\n\u001B[1;32m    794\u001B[0m \u001B[43m                                       \u001B[49m\u001B[43mnorm_contrast\u001B[49m\u001B[38;5;241;43m=\u001B[39;49m\u001B[43mnorm_contrast\u001B[49m\u001B[43m,\u001B[49m\u001B[43m \u001B[49m\u001B[43msd\u001B[49m\u001B[38;5;241;43m=\u001B[39;49m\u001B[43msd\u001B[49m\u001B[43m,\u001B[49m\n\u001B[1;32m    795\u001B[0m \u001B[43m                                       \u001B[49m\u001B[43msd_rand\u001B[49m\u001B[38;5;241;43m=\u001B[39;49m\u001B[43msd_rand\u001B[49m\u001B[43m,\u001B[49m\n\u001B[1;32m    796\u001B[0m \u001B[43m                                       \u001B[49m\u001B[43mreduced_dim\u001B[49m\u001B[38;5;241;43m=\u001B[39;49m\u001B[43mreduced_dim\u001B[49m\u001B[43m,\u001B[49m\n\u001B[1;32m    797\u001B[0m \u001B[43m                                       \u001B[49m\u001B[43muse_CVXPY\u001B[49m\u001B[38;5;241;43m=\u001B[39;49m\u001B[43muse_cvxpy\u001B[49m\u001B[43m)\u001B[49m\n\u001B[1;32m    799\u001B[0m \u001B[38;5;28;01mif\u001B[39;00m ncoarse \u001B[38;5;129;01mis\u001B[39;00m \u001B[38;5;28;01mNone\u001B[39;00m:\n\u001B[1;32m    800\u001B[0m     logWeights \u001B[38;5;241m=\u001B[39m np\u001B[38;5;241m.\u001B[39mzeros((ngrid,))\n",
      "File \u001B[0;32m~/Desktop/PhD/SI_Codes/SI-CART/CART.py:518\u001B[0m, in \u001B[0;36mRegressionTree._condl_approx_log_reference\u001B[0;34m(self, node, grid, nuisance, norm_contrast, sd, sd_rand, reduced_dim, use_CVXPY)\u001B[0m\n\u001B[1;32m    516\u001B[0m     ref_hat[g_idx] \u001B[38;5;241m+\u001B[39m\u001B[38;5;241m=\u001B[39m (\u001B[38;5;241m-\u001B[39mprob\u001B[38;5;241m.\u001B[39mvalue)\n\u001B[1;32m    517\u001B[0m     \u001B[38;5;66;03m# Add omitted term\u001B[39;00m\n\u001B[0;32m--> 518\u001B[0m     ref_hat[g_idx] \u001B[38;5;241m+\u001B[39m\u001B[38;5;241m=\u001B[39m (\u001B[43mmultivariate_normal\u001B[49m\u001B[38;5;241;43m.\u001B[39;49m\u001B[43mlogpdf\u001B[49m\u001B[43m(\u001B[49m\u001B[43mobserved_opt\u001B[49m\u001B[43m[\u001B[49m\u001B[43mrem_d_idx\u001B[49m\u001B[43m]\u001B[49m\u001B[43m,\u001B[49m\n\u001B[1;32m    519\u001B[0m \u001B[43m                                                  \u001B[49m\u001B[43mmean\u001B[49m\u001B[38;5;241;43m=\u001B[39;49m\u001B[43mimplied_mean\u001B[49m\u001B[43m[\u001B[49m\u001B[43mrem_d_idx\u001B[49m\u001B[43m]\u001B[49m\u001B[43m,\u001B[49m\n\u001B[1;32m    520\u001B[0m \u001B[43m                                                  \u001B[49m\u001B[43mcov\u001B[49m\u001B[38;5;241;43m=\u001B[39;49m\u001B[43mimplied_cov\u001B[49m\u001B[43m[\u001B[49m\u001B[43mnp\u001B[49m\u001B[38;5;241;43m.\u001B[39;49m\u001B[43mix_\u001B[49m\u001B[43m(\u001B[49m\u001B[43mrem_d_idx\u001B[49m\u001B[43m,\u001B[49m\u001B[43m \u001B[49m\u001B[43mrem_d_idx\u001B[49m\u001B[43m)\u001B[49m\u001B[43m]\u001B[49m\u001B[43m)\u001B[49m)\n\u001B[1;32m    521\u001B[0m \u001B[38;5;28;01melse\u001B[39;00m:\n\u001B[1;32m    522\u001B[0m     sel_prob, _, _ \u001B[38;5;241m=\u001B[39m solve_barrier_tree_box_PGD(Q\u001B[38;5;241m=\u001B[39mcond_implied_mean,\n\u001B[1;32m    523\u001B[0m                                                 precision\u001B[38;5;241m=\u001B[39mcond_implied_prec,\n\u001B[1;32m    524\u001B[0m                                                 lb\u001B[38;5;241m=\u001B[39moffset_val,\n\u001B[1;32m    525\u001B[0m                                                 feasible_point\u001B[38;5;241m=\u001B[39m\u001B[38;5;28;01mNone\u001B[39;00m)\n",
      "File \u001B[0;32m~/Desktop/PhD/SI_Codes/SI-CART/lib/python3.9/site-packages/scipy/stats/_multivariate.py:556\u001B[0m, in \u001B[0;36mmultivariate_normal_gen.logpdf\u001B[0;34m(self, x, mean, cov, allow_singular)\u001B[0m\n\u001B[1;32m    537\u001B[0m \u001B[38;5;28;01mdef\u001B[39;00m \u001B[38;5;21mlogpdf\u001B[39m(\u001B[38;5;28mself\u001B[39m, x, mean\u001B[38;5;241m=\u001B[39m\u001B[38;5;28;01mNone\u001B[39;00m, cov\u001B[38;5;241m=\u001B[39m\u001B[38;5;241m1\u001B[39m, allow_singular\u001B[38;5;241m=\u001B[39m\u001B[38;5;28;01mFalse\u001B[39;00m):\n\u001B[1;32m    538\u001B[0m \u001B[38;5;250m    \u001B[39m\u001B[38;5;124;03m\"\"\"Log of the multivariate normal probability density function.\u001B[39;00m\n\u001B[1;32m    539\u001B[0m \n\u001B[1;32m    540\u001B[0m \u001B[38;5;124;03m    Parameters\u001B[39;00m\n\u001B[0;32m   (...)\u001B[0m\n\u001B[1;32m    554\u001B[0m \n\u001B[1;32m    555\u001B[0m \u001B[38;5;124;03m    \"\"\"\u001B[39;00m\n\u001B[0;32m--> 556\u001B[0m     params \u001B[38;5;241m=\u001B[39m \u001B[38;5;28;43mself\u001B[39;49m\u001B[38;5;241;43m.\u001B[39;49m\u001B[43m_process_parameters\u001B[49m\u001B[43m(\u001B[49m\u001B[43mmean\u001B[49m\u001B[43m,\u001B[49m\u001B[43m \u001B[49m\u001B[43mcov\u001B[49m\u001B[43m,\u001B[49m\u001B[43m \u001B[49m\u001B[43mallow_singular\u001B[49m\u001B[43m)\u001B[49m\n\u001B[1;32m    557\u001B[0m     dim, mean, cov_object \u001B[38;5;241m=\u001B[39m params\n\u001B[1;32m    558\u001B[0m     x \u001B[38;5;241m=\u001B[39m \u001B[38;5;28mself\u001B[39m\u001B[38;5;241m.\u001B[39m_process_quantiles(x, dim)\n",
      "File \u001B[0;32m~/Desktop/PhD/SI_Codes/SI-CART/lib/python3.9/site-packages/scipy/stats/_multivariate.py:421\u001B[0m, in \u001B[0;36mmultivariate_normal_gen._process_parameters\u001B[0;34m(self, mean, cov, allow_singular)\u001B[0m\n\u001B[1;32m    414\u001B[0m dim, mean, cov \u001B[38;5;241m=\u001B[39m \u001B[38;5;28mself\u001B[39m\u001B[38;5;241m.\u001B[39m_process_parameters_psd(\u001B[38;5;28;01mNone\u001B[39;00m, mean, cov)\n\u001B[1;32m    415\u001B[0m \u001B[38;5;66;03m# After input validation, some methods then processed the arrays\u001B[39;00m\n\u001B[1;32m    416\u001B[0m \u001B[38;5;66;03m# with a `_PSD` object and used that to perform computation.\u001B[39;00m\n\u001B[1;32m    417\u001B[0m \u001B[38;5;66;03m# To avoid branching statements in each method depending on whether\u001B[39;00m\n\u001B[1;32m    418\u001B[0m \u001B[38;5;66;03m# `cov` is an array or `Covariance` object, we always process the\u001B[39;00m\n\u001B[1;32m    419\u001B[0m \u001B[38;5;66;03m# array with `_PSD`, and then use wrapper that satisfies the\u001B[39;00m\n\u001B[1;32m    420\u001B[0m \u001B[38;5;66;03m# `Covariance` interface, `CovViaPSD`.\u001B[39;00m\n\u001B[0;32m--> 421\u001B[0m psd \u001B[38;5;241m=\u001B[39m \u001B[43m_PSD\u001B[49m\u001B[43m(\u001B[49m\u001B[43mcov\u001B[49m\u001B[43m,\u001B[49m\u001B[43m \u001B[49m\u001B[43mallow_singular\u001B[49m\u001B[38;5;241;43m=\u001B[39;49m\u001B[43mallow_singular\u001B[49m\u001B[43m)\u001B[49m\n\u001B[1;32m    422\u001B[0m cov_object \u001B[38;5;241m=\u001B[39m _covariance\u001B[38;5;241m.\u001B[39mCovViaPSD(psd)\n\u001B[1;32m    423\u001B[0m \u001B[38;5;28;01mreturn\u001B[39;00m dim, mean, cov_object\n",
      "File \u001B[0;32m~/Desktop/PhD/SI_Codes/SI-CART/lib/python3.9/site-packages/scipy/stats/_multivariate.py:164\u001B[0m, in \u001B[0;36m_PSD.__init__\u001B[0;34m(self, M, cond, rcond, lower, check_finite, allow_singular)\u001B[0m\n\u001B[1;32m    159\u001B[0m \u001B[38;5;28mself\u001B[39m\u001B[38;5;241m.\u001B[39m_M \u001B[38;5;241m=\u001B[39m np\u001B[38;5;241m.\u001B[39masarray(M)\n\u001B[1;32m    161\u001B[0m \u001B[38;5;66;03m# Compute the symmetric eigendecomposition.\u001B[39;00m\n\u001B[1;32m    162\u001B[0m \u001B[38;5;66;03m# Note that eigh takes care of array conversion, chkfinite,\u001B[39;00m\n\u001B[1;32m    163\u001B[0m \u001B[38;5;66;03m# and assertion that the matrix is square.\u001B[39;00m\n\u001B[0;32m--> 164\u001B[0m s, u \u001B[38;5;241m=\u001B[39m \u001B[43mscipy\u001B[49m\u001B[38;5;241;43m.\u001B[39;49m\u001B[43mlinalg\u001B[49m\u001B[38;5;241;43m.\u001B[39;49m\u001B[43meigh\u001B[49m\u001B[43m(\u001B[49m\u001B[43mM\u001B[49m\u001B[43m,\u001B[49m\u001B[43m \u001B[49m\u001B[43mlower\u001B[49m\u001B[38;5;241;43m=\u001B[39;49m\u001B[43mlower\u001B[49m\u001B[43m,\u001B[49m\u001B[43m \u001B[49m\u001B[43mcheck_finite\u001B[49m\u001B[38;5;241;43m=\u001B[39;49m\u001B[43mcheck_finite\u001B[49m\u001B[43m)\u001B[49m\n\u001B[1;32m    166\u001B[0m eps \u001B[38;5;241m=\u001B[39m _eigvalsh_to_eps(s, cond, rcond)\n\u001B[1;32m    167\u001B[0m \u001B[38;5;28;01mif\u001B[39;00m np\u001B[38;5;241m.\u001B[39mmin(s) \u001B[38;5;241m<\u001B[39m \u001B[38;5;241m-\u001B[39meps:\n",
      "File \u001B[0;32m~/Desktop/PhD/SI_Codes/SI-CART/lib/python3.9/site-packages/scipy/_lib/deprecation.py:213\u001B[0m, in \u001B[0;36m_deprecate_positional_args.<locals>._inner_deprecate_positional_args.<locals>.inner_f\u001B[0;34m(*args, **kwargs)\u001B[0m\n\u001B[1;32m    211\u001B[0m extra_args \u001B[38;5;241m=\u001B[39m \u001B[38;5;28mlen\u001B[39m(args) \u001B[38;5;241m-\u001B[39m \u001B[38;5;28mlen\u001B[39m(all_args)\n\u001B[1;32m    212\u001B[0m \u001B[38;5;28;01mif\u001B[39;00m extra_args \u001B[38;5;241m<\u001B[39m\u001B[38;5;241m=\u001B[39m \u001B[38;5;241m0\u001B[39m:\n\u001B[0;32m--> 213\u001B[0m     \u001B[38;5;28;01mreturn\u001B[39;00m \u001B[43mf\u001B[49m\u001B[43m(\u001B[49m\u001B[38;5;241;43m*\u001B[39;49m\u001B[43margs\u001B[49m\u001B[43m,\u001B[49m\u001B[43m \u001B[49m\u001B[38;5;241;43m*\u001B[39;49m\u001B[38;5;241;43m*\u001B[39;49m\u001B[43mkwargs\u001B[49m\u001B[43m)\u001B[49m\n\u001B[1;32m    215\u001B[0m \u001B[38;5;66;03m# extra_args > 0\u001B[39;00m\n\u001B[1;32m    216\u001B[0m args_msg \u001B[38;5;241m=\u001B[39m [\n\u001B[1;32m    217\u001B[0m     \u001B[38;5;124mf\u001B[39m\u001B[38;5;124m\"\u001B[39m\u001B[38;5;132;01m{\u001B[39;00mname\u001B[38;5;132;01m}\u001B[39;00m\u001B[38;5;124m=\u001B[39m\u001B[38;5;132;01m{\u001B[39;00marg\u001B[38;5;132;01m}\u001B[39;00m\u001B[38;5;124m\"\u001B[39m\n\u001B[1;32m    218\u001B[0m     \u001B[38;5;28;01mfor\u001B[39;00m name, arg \u001B[38;5;129;01min\u001B[39;00m \u001B[38;5;28mzip\u001B[39m(kwonly_args[:extra_args], args[\u001B[38;5;241m-\u001B[39mextra_args:])\n\u001B[1;32m    219\u001B[0m ]\n",
      "File \u001B[0;32m~/Desktop/PhD/SI_Codes/SI-CART/lib/python3.9/site-packages/scipy/linalg/_decomp.py:560\u001B[0m, in \u001B[0;36meigh\u001B[0;34m(a, b, lower, eigvals_only, overwrite_a, overwrite_b, turbo, eigvals, type, check_finite, subset_by_index, subset_by_value, driver)\u001B[0m\n\u001B[1;32m    557\u001B[0m         lwork_args \u001B[38;5;241m=\u001B[39m {\u001B[38;5;124m'\u001B[39m\u001B[38;5;124mlwork\u001B[39m\u001B[38;5;124m'\u001B[39m: lw}\n\u001B[1;32m    559\u001B[0m     drv_args\u001B[38;5;241m.\u001B[39mupdate({\u001B[38;5;124m'\u001B[39m\u001B[38;5;124mlower\u001B[39m\u001B[38;5;124m'\u001B[39m: lower, \u001B[38;5;124m'\u001B[39m\u001B[38;5;124mcompute_v\u001B[39m\u001B[38;5;124m'\u001B[39m: \u001B[38;5;241m0\u001B[39m \u001B[38;5;28;01mif\u001B[39;00m _job \u001B[38;5;241m==\u001B[39m \u001B[38;5;124m\"\u001B[39m\u001B[38;5;124mN\u001B[39m\u001B[38;5;124m\"\u001B[39m \u001B[38;5;28;01melse\u001B[39;00m \u001B[38;5;241m1\u001B[39m})\n\u001B[0;32m--> 560\u001B[0m     w, v, \u001B[38;5;241m*\u001B[39mother_args, info \u001B[38;5;241m=\u001B[39m \u001B[43mdrv\u001B[49m\u001B[43m(\u001B[49m\u001B[43ma\u001B[49m\u001B[38;5;241;43m=\u001B[39;49m\u001B[43ma1\u001B[49m\u001B[43m,\u001B[49m\u001B[43m \u001B[49m\u001B[38;5;241;43m*\u001B[39;49m\u001B[38;5;241;43m*\u001B[39;49m\u001B[43mdrv_args\u001B[49m\u001B[43m,\u001B[49m\u001B[43m \u001B[49m\u001B[38;5;241;43m*\u001B[39;49m\u001B[38;5;241;43m*\u001B[39;49m\u001B[43mlwork_args\u001B[49m\u001B[43m)\u001B[49m\n\u001B[1;32m    562\u001B[0m \u001B[38;5;28;01melse\u001B[39;00m:  \u001B[38;5;66;03m# Generalized problem\u001B[39;00m\n\u001B[1;32m    563\u001B[0m     \u001B[38;5;66;03m# 'gvd' doesn't have lwork query\u001B[39;00m\n\u001B[1;32m    564\u001B[0m     \u001B[38;5;28;01mif\u001B[39;00m driver \u001B[38;5;241m==\u001B[39m \u001B[38;5;124m\"\u001B[39m\u001B[38;5;124mgvd\u001B[39m\u001B[38;5;124m\"\u001B[39m:\n",
      "\u001B[0;31mKeyboardInterrupt\u001B[0m: "
     ]
    }
   ],
   "source": [
    "coverage_dict_fig2, length_dict_fig2, MSE_dict_fig2\\\n",
    "    = terminal_inference_sim(n=200, p=5, a=1, b=2,\n",
    "                             sd_y=2,\n",
    "                             noise_sd_list=[1],\n",
    "                             UV_gamma_list=[0.1, 0.2, 0.3, 0.4, 0.5],\n",
    "                             use_nonrand=False,\n",
    "                             start=0, end=3,\n",
    "                             level=0.1, path=None)"
   ],
   "metadata": {
    "collapsed": false,
    "ExecuteTime": {
     "end_time": "2025-02-27T03:06:09.570601Z",
     "start_time": "2025-02-27T03:06:05.523269Z"
    }
   },
   "id": "9ef1b54140dc129b"
  },
  {
   "cell_type": "code",
   "execution_count": 16,
   "outputs": [
    {
     "data": {
      "text/plain": "   RRT_1    UV_0.1    UV_0.2    UV_0.3    UV_0.4    UV_0.5\n0    1.0  1.000000  0.833333  0.857143  1.000000  0.833333\n1    1.0  0.833333  1.000000  1.000000  0.833333  1.000000\n2    0.5  1.000000  1.000000  0.833333  1.000000  1.000000",
      "text/html": "<div>\n<style scoped>\n    .dataframe tbody tr th:only-of-type {\n        vertical-align: middle;\n    }\n\n    .dataframe tbody tr th {\n        vertical-align: top;\n    }\n\n    .dataframe thead th {\n        text-align: right;\n    }\n</style>\n<table border=\"1\" class=\"dataframe\">\n  <thead>\n    <tr style=\"text-align: right;\">\n      <th></th>\n      <th>RRT_1</th>\n      <th>UV_0.1</th>\n      <th>UV_0.2</th>\n      <th>UV_0.3</th>\n      <th>UV_0.4</th>\n      <th>UV_0.5</th>\n    </tr>\n  </thead>\n  <tbody>\n    <tr>\n      <th>0</th>\n      <td>1.0</td>\n      <td>1.000000</td>\n      <td>0.833333</td>\n      <td>0.857143</td>\n      <td>1.000000</td>\n      <td>0.833333</td>\n    </tr>\n    <tr>\n      <th>1</th>\n      <td>1.0</td>\n      <td>0.833333</td>\n      <td>1.000000</td>\n      <td>1.000000</td>\n      <td>0.833333</td>\n      <td>1.000000</td>\n    </tr>\n    <tr>\n      <th>2</th>\n      <td>0.5</td>\n      <td>1.000000</td>\n      <td>1.000000</td>\n      <td>0.833333</td>\n      <td>1.000000</td>\n      <td>1.000000</td>\n    </tr>\n  </tbody>\n</table>\n</div>"
     },
     "execution_count": 16,
     "metadata": {},
     "output_type": "execute_result"
    }
   ],
   "source": [
    "# Columns: \n",
    "# RRT_c: RRT with external randomization N(0, (c*sd_y)^2)\n",
    "# UV_k: UV decomposition with gamma = k\n",
    "# Rows: Each row correspond to one round of simulation\n",
    "pd.DataFrame(coverage_dict_fig2)"
   ],
   "metadata": {
    "collapsed": false,
    "ExecuteTime": {
     "end_time": "2024-12-28T03:22:42.554880Z",
     "start_time": "2024-12-28T03:22:42.548824Z"
    }
   },
   "id": "250ca3ab3bdca0a6"
  },
  {
   "cell_type": "code",
   "execution_count": 17,
   "outputs": [
    {
     "data": {
      "text/plain": "      RRT_1    UV_0.1    UV_0.2    UV_0.3    UV_0.4    UV_0.5\n0  2.119801  3.895045  2.847981  2.610729  2.221367  2.004146\n1  2.215550  3.881247  2.857391  2.431454  2.153402  2.011266\n2  1.680509  3.892569  2.878134  2.449271  2.205467  2.020659",
      "text/html": "<div>\n<style scoped>\n    .dataframe tbody tr th:only-of-type {\n        vertical-align: middle;\n    }\n\n    .dataframe tbody tr th {\n        vertical-align: top;\n    }\n\n    .dataframe thead th {\n        text-align: right;\n    }\n</style>\n<table border=\"1\" class=\"dataframe\">\n  <thead>\n    <tr style=\"text-align: right;\">\n      <th></th>\n      <th>RRT_1</th>\n      <th>UV_0.1</th>\n      <th>UV_0.2</th>\n      <th>UV_0.3</th>\n      <th>UV_0.4</th>\n      <th>UV_0.5</th>\n    </tr>\n  </thead>\n  <tbody>\n    <tr>\n      <th>0</th>\n      <td>2.119801</td>\n      <td>3.895045</td>\n      <td>2.847981</td>\n      <td>2.610729</td>\n      <td>2.221367</td>\n      <td>2.004146</td>\n    </tr>\n    <tr>\n      <th>1</th>\n      <td>2.215550</td>\n      <td>3.881247</td>\n      <td>2.857391</td>\n      <td>2.431454</td>\n      <td>2.153402</td>\n      <td>2.011266</td>\n    </tr>\n    <tr>\n      <th>2</th>\n      <td>1.680509</td>\n      <td>3.892569</td>\n      <td>2.878134</td>\n      <td>2.449271</td>\n      <td>2.205467</td>\n      <td>2.020659</td>\n    </tr>\n  </tbody>\n</table>\n</div>"
     },
     "execution_count": 17,
     "metadata": {},
     "output_type": "execute_result"
    }
   ],
   "source": [
    "# Columns: \n",
    "# RRT_c: RRT with external randomization N(0, (c*sd_y)^2)\n",
    "# UV_k: UV decomposition with gamma = k\n",
    "# Rows: Each row correspond to one round of simulation\n",
    "pd.DataFrame(length_dict_fig2)"
   ],
   "metadata": {
    "collapsed": false,
    "ExecuteTime": {
     "end_time": "2024-12-28T03:22:42.784550Z",
     "start_time": "2024-12-28T03:22:42.778373Z"
    }
   },
   "id": "ed46cebfb74768c5"
  },
  {
   "cell_type": "code",
   "execution_count": 18,
   "outputs": [
    {
     "data": {
      "text/plain": "      RRT_1    UV_0.1    UV_0.2    UV_0.3    UV_0.4    UV_0.5\n0  4.754626  5.724732  5.861563  4.959129  5.453345  5.903943\n1  5.007723  4.709248  4.827129  4.688048  4.627214  4.768680\n2  5.004523  4.553102  4.918423  4.947749  5.058473  5.104218",
      "text/html": "<div>\n<style scoped>\n    .dataframe tbody tr th:only-of-type {\n        vertical-align: middle;\n    }\n\n    .dataframe tbody tr th {\n        vertical-align: top;\n    }\n\n    .dataframe thead th {\n        text-align: right;\n    }\n</style>\n<table border=\"1\" class=\"dataframe\">\n  <thead>\n    <tr style=\"text-align: right;\">\n      <th></th>\n      <th>RRT_1</th>\n      <th>UV_0.1</th>\n      <th>UV_0.2</th>\n      <th>UV_0.3</th>\n      <th>UV_0.4</th>\n      <th>UV_0.5</th>\n    </tr>\n  </thead>\n  <tbody>\n    <tr>\n      <th>0</th>\n      <td>4.754626</td>\n      <td>5.724732</td>\n      <td>5.861563</td>\n      <td>4.959129</td>\n      <td>5.453345</td>\n      <td>5.903943</td>\n    </tr>\n    <tr>\n      <th>1</th>\n      <td>5.007723</td>\n      <td>4.709248</td>\n      <td>4.827129</td>\n      <td>4.688048</td>\n      <td>4.627214</td>\n      <td>4.768680</td>\n    </tr>\n    <tr>\n      <th>2</th>\n      <td>5.004523</td>\n      <td>4.553102</td>\n      <td>4.918423</td>\n      <td>4.947749</td>\n      <td>5.058473</td>\n      <td>5.104218</td>\n    </tr>\n  </tbody>\n</table>\n</div>"
     },
     "execution_count": 18,
     "metadata": {},
     "output_type": "execute_result"
    }
   ],
   "source": [
    "# Columns: \n",
    "# RRT_c: RRT with external randomization N(0, (c*sd_y)^2)\n",
    "# UV_k: UV decomposition with gamma = k\n",
    "# Rows: Each row correspond to one round of simulation\n",
    "pd.DataFrame(MSE_dict_fig2)"
   ],
   "metadata": {
    "collapsed": false,
    "ExecuteTime": {
     "end_time": "2024-12-28T03:22:43.486557Z",
     "start_time": "2024-12-28T03:22:43.483512Z"
    }
   },
   "id": "12e6df0dc95ead2f"
  },
  {
   "cell_type": "code",
   "execution_count": null,
   "outputs": [],
   "source": [],
   "metadata": {
    "collapsed": false
   },
   "id": "20c87f9deb7dfc3b"
  }
 ],
 "metadata": {
  "kernelspec": {
   "display_name": "Python 3",
   "language": "python",
   "name": "python3"
  },
  "language_info": {
   "codemirror_mode": {
    "name": "ipython",
    "version": 2
   },
   "file_extension": ".py",
   "mimetype": "text/x-python",
   "name": "python",
   "nbconvert_exporter": "python",
   "pygments_lexer": "ipython2",
   "version": "2.7.6"
  }
 },
 "nbformat": 4,
 "nbformat_minor": 5
}
