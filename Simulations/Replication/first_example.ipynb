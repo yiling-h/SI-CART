{
 "cells": [
  {
   "cell_type": "code",
   "execution_count": null,
   "id": "initial_id",
   "metadata": {
    "ExecuteTime": {
     "end_time": "2025-03-17T04:08:29.149624Z",
     "start_time": "2025-03-17T04:08:27.601925Z"
    },
    "collapsed": true
   },
   "outputs": [],
   "source": [
    "import sys, os\n",
    "\n",
    "import numpy as np\n",
    "import pandas as pd\n",
    "\n",
    "os.chdir(os.path.join(os.getcwd(), \"../..\"))\n",
    "\n",
    "from CART import *\n",
    "from Utils.plotting import  *\n",
    "from scipy.stats import norm as ndist\n",
    "import joblib\n",
    "\n",
    "# For tree-values\n",
    "import rpy2.robjects.packages as rpackages\n",
    "from rpy2.robjects.vectors import StrVector\n",
    "\n",
    "# Select a CRAN mirror to download from\n",
    "utils = rpackages.importr('utils')\n",
    "utils.chooseCRANmirror(ind=1)  # Select the first mirror\n",
    "\n",
    "# Install 'remotes' if it's not already installed\n",
    "if not rpackages.isinstalled('remotes'):\n",
    "    utils.install_packages(StrVector(('remotes',)))\n",
    "\n",
    "import rpy2.robjects as ro\n",
    "\n",
    "from rpy2.robjects.packages import importr\n",
    "from rpy2.robjects import pandas2ri\n",
    "from rpy2.robjects import numpy2ri"
   ]
  },
  {
   "cell_type": "code",
   "execution_count": null,
   "id": "b5d5ac8ed92d6131",
   "metadata": {
    "ExecuteTime": {
     "end_time": "2025-03-17T04:08:29.557056Z",
     "start_time": "2025-03-17T04:08:29.150641Z"
    },
    "collapsed": false
   },
   "outputs": [
    {
     "name": "stderr",
     "output_type": "stream",
     "text": [
      "R[write to console]: Using GitHub PAT from the git credential store.\n",
      "\n",
      "R[write to console]: Skipping install of 'treevalues' from a github remote, the SHA1 (55573782) has not changed since last install.\n",
      "  Use `force = TRUE` to force installation\n",
      "\n"
     ]
    },
    {
     "data": {
      "text/html": [
       "\n",
       "        <span>StrVector with 10 elements.</span>\n",
       "        <table>\n",
       "        <tbody>\n",
       "          <tr>\n",
       "          \n",
       "            <td>\n",
       "            'rpart'\n",
       "            </td>\n",
       "          \n",
       "            <td>\n",
       "            'treevalu...\n",
       "            </td>\n",
       "          \n",
       "            <td>\n",
       "            'tools'\n",
       "            </td>\n",
       "          \n",
       "            <td>\n",
       "            ...\n",
       "            </td>\n",
       "          \n",
       "            <td>\n",
       "            'datasets'\n",
       "            </td>\n",
       "          \n",
       "            <td>\n",
       "            'methods'\n",
       "            </td>\n",
       "          \n",
       "            <td>\n",
       "            'base'\n",
       "            </td>\n",
       "          \n",
       "          </tr>\n",
       "        </tbody>\n",
       "        </table>\n",
       "        "
      ],
      "text/plain": [
       "<rpy2.robjects.vectors.StrVector object at 0x13788ea80> [RTYPES.STRSXP]\n",
       "R classes: ('character',)\n",
       "['rpart', 'treevalu..., 'tools', 'stats', ..., 'utils', 'datasets', 'methods', 'base']"
      ]
     },
     "execution_count": 2,
     "metadata": {},
     "output_type": "execute_result"
    }
   ],
   "source": [
    "# Run the GitHub installation command for 'treevalues'\n",
    "ro.r('remotes::install_github(\"anna-neufeld/treevalues\")')\n",
    "ro.r('library(treevalues)')\n",
    "ro.r('library(rpart)')"
   ]
  },
  {
   "cell_type": "code",
   "execution_count": null,
   "id": "2b12e4284552b1ef",
   "metadata": {
    "ExecuteTime": {
     "end_time": "2025-03-17T04:08:29.562395Z",
     "start_time": "2025-03-17T04:08:29.557865Z"
    },
    "collapsed": false
   },
   "outputs": [],
   "source": [
    "def generate_test(mu, sd_y):\n",
    "    n = mu.shape[0]\n",
    "    return mu + np.random.normal(size=(n,), scale=sd_y)"
   ]
  },
  {
   "cell_type": "markdown",
   "id": "3201be659cb7259f",
   "metadata": {
    "ExecuteTime": {
     "end_time": "2025-02-28T04:45:00.398703Z",
     "start_time": "2025-02-28T04:45:00.393620Z"
    },
    "collapsed": false
   },
   "source": [
    "# Tree-values inference"
   ]
  },
  {
   "cell_type": "code",
   "execution_count": null,
   "id": "d5f59772261d8c06",
   "metadata": {
    "ExecuteTime": {
     "end_time": "2025-03-17T04:08:29.568893Z",
     "start_time": "2025-03-17T04:08:29.560890Z"
    },
    "collapsed": false
   },
   "outputs": [],
   "source": [
    "def tree_values_inference(X, y, mu, sd_y, max_depth=5, level=0.1,\n",
    "                          X_test=None):\n",
    "    # Convert the NumPy matrix to an R matrix\n",
    "    X_r = numpy2ri.py2rpy(X)\n",
    "    y_r = numpy2ri.py2rpy(y)\n",
    "\n",
    "    # Assign the R matrix to a variable in the R environment (optional)\n",
    "    ro.globalenv['X_r'] = X_r\n",
    "    ro.globalenv['y_r'] = y_r\n",
    "    ro.globalenv['p'] = X.shape[1]\n",
    "\n",
    "    # Construct dataset\n",
    "    ro.r('data <- cbind(y_r, X_r)')\n",
    "    # Set the column names to \"y\", \"x1\", \"x2\", ..., \"x10\"\n",
    "    ro.r('colnames(data) <- c(\"y\", paste0(\"x\", 1:p))')\n",
    "    ro.r('data = data.frame(data)')\n",
    "\n",
    "    # Define the rpart tree model\n",
    "    tree_cmd = ('bls.tree <- rpart(y ~ ., data=data, model = TRUE, ' +\n",
    "                'control = rpart.control(cp=0.00, minsplit = 50, minbucket = 20, maxdepth=') + str(max_depth) + '))'\n",
    "    ro.r(tree_cmd)\n",
    "    bls_tree = ro.r('bls.tree')\n",
    "    # Plot the tree values (this will plot directly if you have a plotting backend set up)\n",
    "    # ro.r('treeval.plot(bls.tree, inferenceType=0)')\n",
    "\n",
    "    # ro.r('print(row.names(bls.tree$frame)[bls.tree$frame$var == \"<leaf>\"])')\n",
    "    ro.r('leaf_idx <- (row.names(bls.tree$frame)[bls.tree$frame$var == \"<leaf>\"])')\n",
    "    leaf_idx = ro.r['leaf_idx']\n",
    "\n",
    "    # Get node mapping\n",
    "    ro.r('idx_full <- 1:nrow(bls.tree$frame)')\n",
    "    ro.r('mapped_idx <- idx_full[bls.tree$frame$var == \"<leaf>\"]')\n",
    "\n",
    "    len = []\n",
    "    coverage = []\n",
    "    len_naive = []\n",
    "    coverage_naive = []\n",
    "\n",
    "    for i, idx in enumerate(leaf_idx):\n",
    "        # Get the branch information for a specific branch in the tree\n",
    "        command = 'branch <- getBranch(bls.tree, ' + str(idx) + ')'\n",
    "        ro.r(command)\n",
    "        # Perform branch inference\n",
    "        ro.r(f'result <- branchInference(bls.tree, branch, type=\"reg\", alpha = 0.10, sigma_y={sd_y})')\n",
    "        # Get confidence intervals\n",
    "        confint = ro.r('result$confint')\n",
    "\n",
    "        target_cmd = \"contrast <- (bls.tree$where == mapped_idx[\" + str(i + 1) + \"])\"\n",
    "        ro.r(target_cmd)\n",
    "        contrast = ro.r('contrast')\n",
    "        contrast = np.array(contrast)\n",
    "\n",
    "        contrast = np.array(contrast * 1 / np.sum(contrast))\n",
    "\n",
    "        target = contrast.dot(mu)\n",
    "        root_n = 1/np.linalg.norm(contrast)\n",
    "        coverage.append(target >= confint[0] and target <= confint[1])\n",
    "        len.append((confint[1] - confint[0])*root_n)\n",
    "\n",
    "        # Naive after tree value\n",
    "        # Confidence intervals\n",
    "        naive_CI = [contrast.dot(y) -\n",
    "                    np.linalg.norm(contrast) * sd_y * ndist.ppf(1 - level / 2),\n",
    "                    contrast.dot(y) +\n",
    "                    np.linalg.norm(contrast) * sd_y * ndist.ppf(1 - level / 2)]\n",
    "        coverage_naive.append((target >= naive_CI[0] and target <= naive_CI[1]))\n",
    "        len_naive.append((naive_CI[1] - naive_CI[0])*root_n)\n",
    "\n",
    "    if X_test is not None:\n",
    "        X_test_r = numpy2ri.py2rpy(X_test)\n",
    "        ro.globalenv['X_test_r'] = X_test_r\n",
    "        ro.r('pred <- predict(bls.tree, data = X_test_r)')\n",
    "        pred = ro.r['pred']\n",
    "    else:\n",
    "        pred = None\n",
    "\n",
    "    return (np.mean(coverage), np.mean(len),\n",
    "            np.mean(coverage_naive), np.mean(len_naive), pred)"
   ]
  },
  {
   "cell_type": "markdown",
   "id": "68b034d92f8e7a30",
   "metadata": {
    "ExecuteTime": {
     "end_time": "2025-02-28T04:45:00.826537Z",
     "start_time": "2025-02-28T04:45:00.817685Z"
    },
    "collapsed": false
   },
   "source": [
    "# RRT inference"
   ]
  },
  {
   "cell_type": "code",
   "execution_count": 13,
   "id": "593dfd6522f79486",
   "metadata": {
    "ExecuteTime": {
     "end_time": "2025-03-17T04:09:48.607541Z",
     "start_time": "2025-03-17T04:09:48.580959Z"
    },
    "collapsed": false
   },
   "outputs": [],
   "source": [
    "def randomized_inference(reg_tree, sd_y, y, mu, level=0.1):\n",
    "    # print(reg_tree.terminal_nodes)\n",
    "    coverage_i = []\n",
    "    lengths_i = []\n",
    "\n",
    "    for i, node in enumerate(reg_tree.terminal_nodes):\n",
    "        (pval, dist, contrast, norm_contrast, obs_tar, logW, suff,\n",
    "         sel_probs, ref_hat_layer) \\\n",
    "            = (reg_tree.node_inference(node=node,\n",
    "                                       ngrid=10000,\n",
    "                                       ncoarse=300,\n",
    "                                       grid_w_const=5,#15*noise_sd,\n",
    "                                       sd=sd_y,\n",
    "                                       #query_grid=True,\n",
    "                                       interp_kind='cubic',\n",
    "                                       query_size=100))\n",
    "        target = contrast.dot(mu)\n",
    "\n",
    "        # This is an interval for\n",
    "        # eta_*'mu = eta'mu / (norm(eta) * sd_y)\n",
    "        selective_CI = (dist.equal_tailed_interval(observed=norm_contrast.dot(y),\n",
    "                                                   alpha=level))\n",
    "        selective_CI = np.array(selective_CI)\n",
    "        selective_CI *= np.linalg.norm(contrast) * sd_y\n",
    "        coverage_i.append((target >= selective_CI[0] and target <= selective_CI[1]))\n",
    "        lengths_i.append((selective_CI[1] - selective_CI[0]) / np.linalg.norm(contrast))\n",
    "        if not coverage_i[-1]:\n",
    "            print(f\"{i} not covered, depth {node.depth}\")\n",
    "        print(f'Mean coverage so far: {np.mean(coverage_i)}, Mean length so far: {np.mean(lengths_i)}')\n",
    "\n",
    "    return coverage_i, lengths_i"
   ]
  },
  {
   "cell_type": "markdown",
   "id": "b59562660744af96",
   "metadata": {
    "ExecuteTime": {
     "end_time": "2025-02-28T04:45:01.348886Z",
     "start_time": "2025-02-28T04:45:01.342709Z"
    },
    "collapsed": false
   },
   "source": [
    "# Inference with UV decomposition"
   ]
  },
  {
   "cell_type": "code",
   "execution_count": 14,
   "id": "45c2e38de4e0ee17",
   "metadata": {
    "ExecuteTime": {
     "end_time": "2025-03-17T04:09:49.131940Z",
     "start_time": "2025-03-17T04:09:49.120325Z"
    },
    "collapsed": false
   },
   "outputs": [],
   "source": [
    "def UV_decomposition(X, y, mu, sd_y,\n",
    "                     max_depth=5, min_prop=0, min_sample=10, min_bucket=5,\n",
    "                     level=0.1, gamma=1,\n",
    "                     X_test=None):\n",
    "    n = X.shape[0]\n",
    "    W = np.random.normal(loc=0, scale=sd_y * np.sqrt(gamma), size=(n,))\n",
    "    U = y + W\n",
    "    V = y - W / gamma\n",
    "    sd_V = sd_y * np.sqrt(1 + 1 / gamma)\n",
    "    reg_tree = RegressionTree(min_samples_split=min_sample, max_depth=max_depth,\n",
    "                              min_proportion=min_prop, min_bucket=min_bucket)\n",
    "    reg_tree.fit(X, U, sd=0)\n",
    "\n",
    "    coverage = []\n",
    "    lengths = []\n",
    "\n",
    "    for node in reg_tree.terminal_nodes:\n",
    "        contrast = node.membership\n",
    "\n",
    "        contrast = np.array(contrast * 1 / np.sum(contrast))\n",
    "\n",
    "        target = contrast.dot(mu)\n",
    "\n",
    "        # Naive after tree value\n",
    "        # Confidence intervals\n",
    "        CI = [contrast.dot(V) -\n",
    "              np.linalg.norm(contrast) * sd_V * ndist.ppf(1 - level / 2),\n",
    "              contrast.dot(V) +\n",
    "              np.linalg.norm(contrast) * sd_V * ndist.ppf(1 - level / 2)]\n",
    "\n",
    "        root_n = 1/np.linalg.norm(contrast)\n",
    "        coverage.append((target >= CI[0] and target <= CI[1]))\n",
    "        lengths.append((CI[1] - CI[0]) * root_n)\n",
    "\n",
    "    if X_test is not None:\n",
    "        pred = reg_tree.predict(X_test)\n",
    "    else:\n",
    "        pred = None\n",
    "\n",
    "    return coverage, lengths, pred"
   ]
  },
  {
   "cell_type": "markdown",
   "id": "1e3f3b7319ac6822",
   "metadata": {
    "ExecuteTime": {
     "end_time": "2025-02-28T04:45:02.220083Z",
     "start_time": "2025-02-28T04:45:02.195087Z"
    },
    "collapsed": false
   },
   "source": [
    "# Replicating Figure 2"
   ]
  },
  {
   "cell_type": "code",
   "execution_count": null,
   "id": "d4fc427721e488a9",
   "metadata": {
    "ExecuteTime": {
     "end_time": "2025-03-17T04:09:49.585724Z",
     "start_time": "2025-03-17T04:09:49.561299Z"
    },
    "collapsed": false
   },
   "outputs": [],
   "source": [
    "def terminal_inference_sim(n=50, p=5, a=0.1, b=0.1,\n",
    "                           sd_y=1,\n",
    "                           noise_sd_list=[0.5, 1, 2, 5],\n",
    "                           UV_gamma_list=[],\n",
    "                           use_nonrand=True,\n",
    "                           start=0, end=100,\n",
    "                           level=0.1, path=None):\n",
    "    method_list = [f\"RRT_{sd}\" for sd in noise_sd_list]\n",
    "    if use_nonrand:\n",
    "        method_list += [\"Tree val\", \"Naive\"]\n",
    "    for gamma in UV_gamma_list:\n",
    "        method_list.append(\"UV_\" + str(gamma))\n",
    "\n",
    "    coverage_dict = {m: [] for m in method_list}\n",
    "    length_dict = {m: [] for m in method_list}\n",
    "    MSE_dict = {m: [] for m in method_list}\n",
    "\n",
    "    for i in range(start, end):\n",
    "        print(i, \"th simulation\")\n",
    "        np.random.seed(i + 10000)\n",
    "        X = np.random.normal(size=(n, p))\n",
    "\n",
    "        mu = b * ((X[:, 0] <= 0) * (1 + a * (X[:, 1] > 0) + (X[:, 2] * X[:, 1] <= 0)))\n",
    "        y = mu + np.random.normal(size=(n,), scale=sd_y)\n",
    "        y_test = generate_test(mu, sd_y)\n",
    "        \n",
    "        if use_nonrand:\n",
    "            # Tree value & naive inference & prediction\n",
    "            (coverage_treeval, avg_len_treeval,\n",
    "             coverage_treeval_naive, avg_len_treeval_naive,\n",
    "             pred_test_treeval) = tree_values_inference(X, y, mu, sd_y=sd_y,\n",
    "                                                        X_test=X, max_depth=3)\n",
    "            MSE_test_treeval = (np.mean((y_test - pred_test_treeval) ** 2))\n",
    "\n",
    "            coverage_dict[\"Tree val\"].append(coverage_treeval)\n",
    "            length_dict[\"Tree val\"].append(avg_len_treeval)\n",
    "            MSE_dict[\"Tree val\"].append(MSE_test_treeval)\n",
    "            coverage_dict[\"Naive\"].append(coverage_treeval_naive)\n",
    "            length_dict[\"Naive\"].append(avg_len_treeval_naive)\n",
    "            MSE_dict[\"Naive\"].append(MSE_test_treeval)\n",
    "            print(f\"Tree val coverage: {coverage_treeval}, length: {avg_len_treeval}\")\n",
    "            print(f\"Naive coverage: {coverage_treeval_naive}, length: {avg_len_treeval_naive}\")\n",
    "\n",
    "        for gamma in UV_gamma_list:\n",
    "            gamma_key = \"UV_\" + str(gamma)\n",
    "            # UV decomposition\n",
    "            coverage_UV, len_UV, pred_UV = UV_decomposition(X, y, mu, sd_y, X_test=X,\n",
    "                                                            min_prop=0., max_depth=3,\n",
    "                                                            min_sample=50, min_bucket=20,\n",
    "                                                            gamma=gamma)\n",
    "            MSE_UV = (np.mean((y_test - pred_UV) ** 2))\n",
    "            coverage_dict[gamma_key].append(np.mean(coverage_UV))\n",
    "            length_dict[gamma_key].append(np.mean(len_UV))\n",
    "            MSE_dict[gamma_key].append(MSE_UV)\n",
    "            print(f\"UV {gamma} coverage: {np.mean(coverage_UV)}, length: {np.mean(len_UV)}\")\n",
    "\n",
    "        for noise_sd in noise_sd_list:\n",
    "            # Create and train the regression tree\n",
    "            reg_tree = RegressionTree(min_samples_split=50, max_depth=3,\n",
    "                                      min_proportion=0., min_bucket=20)\n",
    "\n",
    "            reg_tree.fit(X, y, sd=noise_sd * sd_y)\n",
    "\n",
    "            coverage_i, lengths_i = randomized_inference(reg_tree=reg_tree,\n",
    "                                                         y=y, sd_y=sd_y, mu=mu,\n",
    "                                                         level=level)\n",
    "            pred_test = reg_tree.predict(X)\n",
    "            MSE_test = (np.mean((y_test - pred_test) ** 2))\n",
    "            # Record results\n",
    "            coverage_dict[f\"RRT_{noise_sd}\"].append(np.mean(coverage_i))\n",
    "            length_dict[f\"RRT_{noise_sd}\"].append(np.mean(lengths_i))\n",
    "            MSE_dict[f\"RRT_{noise_sd}\"].append(MSE_test)\n",
    "\n",
    "        if path is not None:\n",
    "            joblib.dump([coverage_dict, length_dict, MSE_dict], path, compress=1)\n",
    "\n",
    "    return coverage_dict, length_dict, MSE_dict"
   ]
  },
  {
   "cell_type": "code",
   "execution_count": null,
   "id": "8777d8f757e29461",
   "metadata": {
    "ExecuteTime": {
     "end_time": "2025-03-17T04:14:52.079334Z",
     "start_time": "2025-03-17T04:09:49.812825Z"
    },
    "collapsed": false
   },
   "outputs": [
    {
     "name": "stdout",
     "output_type": "stream",
     "text": [
      "0 th simulation\n",
      "Tree val coverage: 0.7142857142857143, length: 122.35742192633414\n",
      "Naive coverage: 0.7142857142857143, length: 6.579414507805888\n",
      "Mean coverage so far: 1.0, Mean length so far: 7.657584246359095\n",
      "Mean coverage so far: 1.0, Mean length so far: 7.656083174219065\n",
      "Mean coverage so far: 1.0, Mean length so far: 7.496330663326972\n",
      "Mean coverage so far: 1.0, Mean length so far: 7.477347852582906\n",
      "4 not covered, depth 3\n",
      "Mean coverage so far: 0.8, Mean length so far: 7.060710441606699\n",
      "Mean coverage so far: 0.8333333333333334, Mean length so far: 6.7710874947873805\n",
      "Mean coverage so far: 0.8571428571428571, Mean length so far: 6.500319559150195\n"
     ]
    }
   ],
   "source": [
    "coverage_dict_fig1, length_dict_fig1, MSE_dict_fig1\\\n",
    "    = terminal_inference_sim(n=200, p=5, a=1, b=2,\n",
    "                             sd_y=2,\n",
    "                             noise_sd_list=[1, 2, 3, 4],\n",
    "                             UV_gamma_list=[],\n",
    "                             use_nonrand=True,\n",
    "                             start=0, end=5,\n",
    "                             level=0.1, path=None)"
   ]
  },
  {
   "cell_type": "code",
   "execution_count": 41,
   "id": "4d01c5abe5810828",
   "metadata": {
    "ExecuteTime": {
     "end_time": "2025-03-02T04:26:17.265404Z",
     "start_time": "2025-03-02T04:26:17.250442Z"
    },
    "collapsed": false
   },
   "outputs": [
    {
     "data": {
      "text/html": [
       "<div>\n",
       "<style scoped>\n",
       "    .dataframe tbody tr th:only-of-type {\n",
       "        vertical-align: middle;\n",
       "    }\n",
       "\n",
       "    .dataframe tbody tr th {\n",
       "        vertical-align: top;\n",
       "    }\n",
       "\n",
       "    .dataframe thead th {\n",
       "        text-align: right;\n",
       "    }\n",
       "</style>\n",
       "<table border=\"1\" class=\"dataframe\">\n",
       "  <thead>\n",
       "    <tr style=\"text-align: right;\">\n",
       "      <th></th>\n",
       "      <th>RRT_1</th>\n",
       "      <th>RRT_2.5</th>\n",
       "      <th>RRT_5</th>\n",
       "      <th>RRT_10</th>\n",
       "      <th>Tree val</th>\n",
       "      <th>Naive</th>\n",
       "    </tr>\n",
       "  </thead>\n",
       "  <tbody>\n",
       "    <tr>\n",
       "      <th>0</th>\n",
       "      <td>0.857143</td>\n",
       "      <td>0.833333</td>\n",
       "      <td>0.500000</td>\n",
       "      <td>0.333333</td>\n",
       "      <td>0.714286</td>\n",
       "      <td>0.714286</td>\n",
       "    </tr>\n",
       "    <tr>\n",
       "      <th>1</th>\n",
       "      <td>1.000000</td>\n",
       "      <td>1.000000</td>\n",
       "      <td>0.333333</td>\n",
       "      <td>0.500000</td>\n",
       "      <td>0.833333</td>\n",
       "      <td>0.500000</td>\n",
       "    </tr>\n",
       "    <tr>\n",
       "      <th>2</th>\n",
       "      <td>1.000000</td>\n",
       "      <td>0.500000</td>\n",
       "      <td>0.333333</td>\n",
       "      <td>0.571429</td>\n",
       "      <td>1.000000</td>\n",
       "      <td>0.666667</td>\n",
       "    </tr>\n",
       "    <tr>\n",
       "      <th>3</th>\n",
       "      <td>1.000000</td>\n",
       "      <td>0.833333</td>\n",
       "      <td>0.833333</td>\n",
       "      <td>0.833333</td>\n",
       "      <td>1.000000</td>\n",
       "      <td>0.666667</td>\n",
       "    </tr>\n",
       "    <tr>\n",
       "      <th>4</th>\n",
       "      <td>0.833333</td>\n",
       "      <td>0.833333</td>\n",
       "      <td>0.500000</td>\n",
       "      <td>0.000000</td>\n",
       "      <td>0.833333</td>\n",
       "      <td>0.500000</td>\n",
       "    </tr>\n",
       "    <tr>\n",
       "      <th>5</th>\n",
       "      <td>0.666667</td>\n",
       "      <td>0.500000</td>\n",
       "      <td>0.200000</td>\n",
       "      <td>0.833333</td>\n",
       "      <td>1.000000</td>\n",
       "      <td>0.666667</td>\n",
       "    </tr>\n",
       "    <tr>\n",
       "      <th>6</th>\n",
       "      <td>0.666667</td>\n",
       "      <td>0.666667</td>\n",
       "      <td>0.500000</td>\n",
       "      <td>0.800000</td>\n",
       "      <td>0.833333</td>\n",
       "      <td>0.833333</td>\n",
       "    </tr>\n",
       "    <tr>\n",
       "      <th>7</th>\n",
       "      <td>0.833333</td>\n",
       "      <td>0.571429</td>\n",
       "      <td>0.333333</td>\n",
       "      <td>0.666667</td>\n",
       "      <td>1.000000</td>\n",
       "      <td>0.833333</td>\n",
       "    </tr>\n",
       "    <tr>\n",
       "      <th>8</th>\n",
       "      <td>0.666667</td>\n",
       "      <td>1.000000</td>\n",
       "      <td>0.500000</td>\n",
       "      <td>0.000000</td>\n",
       "      <td>1.000000</td>\n",
       "      <td>0.833333</td>\n",
       "    </tr>\n",
       "    <tr>\n",
       "      <th>9</th>\n",
       "      <td>0.857143</td>\n",
       "      <td>0.500000</td>\n",
       "      <td>0.714286</td>\n",
       "      <td>0.800000</td>\n",
       "      <td>0.857143</td>\n",
       "      <td>0.714286</td>\n",
       "    </tr>\n",
       "  </tbody>\n",
       "</table>\n",
       "</div>"
      ],
      "text/plain": [
       "      RRT_1   RRT_2.5     RRT_5    RRT_10  Tree val     Naive\n",
       "0  0.857143  0.833333  0.500000  0.333333  0.714286  0.714286\n",
       "1  1.000000  1.000000  0.333333  0.500000  0.833333  0.500000\n",
       "2  1.000000  0.500000  0.333333  0.571429  1.000000  0.666667\n",
       "3  1.000000  0.833333  0.833333  0.833333  1.000000  0.666667\n",
       "4  0.833333  0.833333  0.500000  0.000000  0.833333  0.500000\n",
       "5  0.666667  0.500000  0.200000  0.833333  1.000000  0.666667\n",
       "6  0.666667  0.666667  0.500000  0.800000  0.833333  0.833333\n",
       "7  0.833333  0.571429  0.333333  0.666667  1.000000  0.833333\n",
       "8  0.666667  1.000000  0.500000  0.000000  1.000000  0.833333\n",
       "9  0.857143  0.500000  0.714286  0.800000  0.857143  0.714286"
      ]
     },
     "execution_count": 41,
     "metadata": {},
     "output_type": "execute_result"
    }
   ],
   "source": [
    "# Columns: \n",
    "# RRT_c: RRT with external randomization N(0, (c*sd_y)^2)\n",
    "# Tree val: Tree-values\n",
    "# Naive: naive inference\n",
    "# Rows: Each row correspond to one round of simulation\n",
    "pd.DataFrame(coverage_dict_fig1)"
   ]
  },
  {
   "cell_type": "code",
   "execution_count": 42,
   "id": "beece6f59845a437",
   "metadata": {
    "ExecuteTime": {
     "end_time": "2025-03-02T04:26:19.367695Z",
     "start_time": "2025-03-02T04:26:19.360797Z"
    },
    "collapsed": false
   },
   "outputs": [
    {
     "data": {
      "text/html": [
       "<div>\n",
       "<style scoped>\n",
       "    .dataframe tbody tr th:only-of-type {\n",
       "        vertical-align: middle;\n",
       "    }\n",
       "\n",
       "    .dataframe tbody tr th {\n",
       "        vertical-align: top;\n",
       "    }\n",
       "\n",
       "    .dataframe thead th {\n",
       "        text-align: right;\n",
       "    }\n",
       "</style>\n",
       "<table border=\"1\" class=\"dataframe\">\n",
       "  <thead>\n",
       "    <tr style=\"text-align: right;\">\n",
       "      <th></th>\n",
       "      <th>RRT_1</th>\n",
       "      <th>RRT_2.5</th>\n",
       "      <th>RRT_5</th>\n",
       "      <th>RRT_10</th>\n",
       "      <th>Tree val</th>\n",
       "      <th>Naive</th>\n",
       "    </tr>\n",
       "  </thead>\n",
       "  <tbody>\n",
       "    <tr>\n",
       "      <th>0</th>\n",
       "      <td>7.784962</td>\n",
       "      <td>3.223355</td>\n",
       "      <td>2.088642</td>\n",
       "      <td>1.555218</td>\n",
       "      <td>25.308622</td>\n",
       "      <td>1.258967</td>\n",
       "    </tr>\n",
       "    <tr>\n",
       "      <th>1</th>\n",
       "      <td>8.140773</td>\n",
       "      <td>3.335638</td>\n",
       "      <td>2.374394</td>\n",
       "      <td>3.588022</td>\n",
       "      <td>2.290091</td>\n",
       "      <td>1.166525</td>\n",
       "    </tr>\n",
       "    <tr>\n",
       "      <th>2</th>\n",
       "      <td>7.670032</td>\n",
       "      <td>24.522497</td>\n",
       "      <td>2.666470</td>\n",
       "      <td>1.834126</td>\n",
       "      <td>1.871536</td>\n",
       "      <td>1.178633</td>\n",
       "    </tr>\n",
       "    <tr>\n",
       "      <th>3</th>\n",
       "      <td>8.087814</td>\n",
       "      <td>3.729001</td>\n",
       "      <td>2.017375</td>\n",
       "      <td>1.612790</td>\n",
       "      <td>8.596456</td>\n",
       "      <td>1.175594</td>\n",
       "    </tr>\n",
       "    <tr>\n",
       "      <th>4</th>\n",
       "      <td>7.680314</td>\n",
       "      <td>3.294272</td>\n",
       "      <td>2.768114</td>\n",
       "      <td>1.531076</td>\n",
       "      <td>4.511139</td>\n",
       "      <td>1.148400</td>\n",
       "    </tr>\n",
       "    <tr>\n",
       "      <th>5</th>\n",
       "      <td>6.478428</td>\n",
       "      <td>3.037022</td>\n",
       "      <td>2.229905</td>\n",
       "      <td>1.681322</td>\n",
       "      <td>3.924660</td>\n",
       "      <td>1.162317</td>\n",
       "    </tr>\n",
       "    <tr>\n",
       "      <th>6</th>\n",
       "      <td>6.590405</td>\n",
       "      <td>3.178615</td>\n",
       "      <td>1.910740</td>\n",
       "      <td>2.319600</td>\n",
       "      <td>6.900845</td>\n",
       "      <td>1.187061</td>\n",
       "    </tr>\n",
       "    <tr>\n",
       "      <th>7</th>\n",
       "      <td>7.964584</td>\n",
       "      <td>3.795824</td>\n",
       "      <td>2.184275</td>\n",
       "      <td>2.927199</td>\n",
       "      <td>4.945598</td>\n",
       "      <td>1.183292</td>\n",
       "    </tr>\n",
       "    <tr>\n",
       "      <th>8</th>\n",
       "      <td>8.461452</td>\n",
       "      <td>9.548080</td>\n",
       "      <td>2.340645</td>\n",
       "      <td>1.824263</td>\n",
       "      <td>2.397167</td>\n",
       "      <td>1.196362</td>\n",
       "    </tr>\n",
       "    <tr>\n",
       "      <th>9</th>\n",
       "      <td>7.918850</td>\n",
       "      <td>3.688424</td>\n",
       "      <td>2.469129</td>\n",
       "      <td>2.797241</td>\n",
       "      <td>3.960502</td>\n",
       "      <td>1.246913</td>\n",
       "    </tr>\n",
       "  </tbody>\n",
       "</table>\n",
       "</div>"
      ],
      "text/plain": [
       "      RRT_1    RRT_2.5     RRT_5    RRT_10   Tree val     Naive\n",
       "0  7.784962   3.223355  2.088642  1.555218  25.308622  1.258967\n",
       "1  8.140773   3.335638  2.374394  3.588022   2.290091  1.166525\n",
       "2  7.670032  24.522497  2.666470  1.834126   1.871536  1.178633\n",
       "3  8.087814   3.729001  2.017375  1.612790   8.596456  1.175594\n",
       "4  7.680314   3.294272  2.768114  1.531076   4.511139  1.148400\n",
       "5  6.478428   3.037022  2.229905  1.681322   3.924660  1.162317\n",
       "6  6.590405   3.178615  1.910740  2.319600   6.900845  1.187061\n",
       "7  7.964584   3.795824  2.184275  2.927199   4.945598  1.183292\n",
       "8  8.461452   9.548080  2.340645  1.824263   2.397167  1.196362\n",
       "9  7.918850   3.688424  2.469129  2.797241   3.960502  1.246913"
      ]
     },
     "execution_count": 42,
     "metadata": {},
     "output_type": "execute_result"
    }
   ],
   "source": [
    "# Columns: \n",
    "# RRT_c: RRT with external randomization N(0, (c*sd_y)^2)\n",
    "# Tree val: Tree-values\n",
    "# Naive: naive inference\n",
    "# Rows: Each row correspond to one round of simulation\n",
    "pd.DataFrame(length_dict_fig1)"
   ]
  },
  {
   "cell_type": "code",
   "execution_count": 43,
   "id": "6b98704bde23e735",
   "metadata": {
    "ExecuteTime": {
     "end_time": "2025-03-02T04:26:25.007836Z",
     "start_time": "2025-03-02T04:26:25.001264Z"
    },
    "collapsed": false
   },
   "outputs": [
    {
     "data": {
      "text/html": [
       "<div>\n",
       "<style scoped>\n",
       "    .dataframe tbody tr th:only-of-type {\n",
       "        vertical-align: middle;\n",
       "    }\n",
       "\n",
       "    .dataframe tbody tr th {\n",
       "        vertical-align: top;\n",
       "    }\n",
       "\n",
       "    .dataframe thead th {\n",
       "        text-align: right;\n",
       "    }\n",
       "</style>\n",
       "<table border=\"1\" class=\"dataframe\">\n",
       "  <thead>\n",
       "    <tr style=\"text-align: right;\">\n",
       "      <th></th>\n",
       "      <th>RRT_1</th>\n",
       "      <th>RRT_2.5</th>\n",
       "      <th>RRT_5</th>\n",
       "      <th>RRT_10</th>\n",
       "      <th>Tree val</th>\n",
       "      <th>Naive</th>\n",
       "    </tr>\n",
       "  </thead>\n",
       "  <tbody>\n",
       "    <tr>\n",
       "      <th>0</th>\n",
       "      <td>4.754626</td>\n",
       "      <td>5.385438</td>\n",
       "      <td>6.062667</td>\n",
       "      <td>5.715567</td>\n",
       "      <td>4.774639</td>\n",
       "      <td>4.774639</td>\n",
       "    </tr>\n",
       "    <tr>\n",
       "      <th>1</th>\n",
       "      <td>5.007723</td>\n",
       "      <td>4.517161</td>\n",
       "      <td>5.284633</td>\n",
       "      <td>5.598432</td>\n",
       "      <td>4.747049</td>\n",
       "      <td>4.747049</td>\n",
       "    </tr>\n",
       "    <tr>\n",
       "      <th>2</th>\n",
       "      <td>5.004523</td>\n",
       "      <td>4.477550</td>\n",
       "      <td>4.936360</td>\n",
       "      <td>5.975434</td>\n",
       "      <td>4.853868</td>\n",
       "      <td>4.853868</td>\n",
       "    </tr>\n",
       "    <tr>\n",
       "      <th>3</th>\n",
       "      <td>6.023852</td>\n",
       "      <td>5.498041</td>\n",
       "      <td>6.179695</td>\n",
       "      <td>6.447653</td>\n",
       "      <td>5.547141</td>\n",
       "      <td>5.547141</td>\n",
       "    </tr>\n",
       "    <tr>\n",
       "      <th>4</th>\n",
       "      <td>3.863381</td>\n",
       "      <td>4.093041</td>\n",
       "      <td>4.473121</td>\n",
       "      <td>4.453665</td>\n",
       "      <td>4.162055</td>\n",
       "      <td>4.162055</td>\n",
       "    </tr>\n",
       "    <tr>\n",
       "      <th>5</th>\n",
       "      <td>4.755865</td>\n",
       "      <td>5.053366</td>\n",
       "      <td>4.820317</td>\n",
       "      <td>4.622594</td>\n",
       "      <td>4.527319</td>\n",
       "      <td>4.527319</td>\n",
       "    </tr>\n",
       "    <tr>\n",
       "      <th>6</th>\n",
       "      <td>3.988342</td>\n",
       "      <td>4.205111</td>\n",
       "      <td>5.472791</td>\n",
       "      <td>4.571316</td>\n",
       "      <td>3.973017</td>\n",
       "      <td>3.973017</td>\n",
       "    </tr>\n",
       "    <tr>\n",
       "      <th>7</th>\n",
       "      <td>4.853487</td>\n",
       "      <td>4.825132</td>\n",
       "      <td>4.799683</td>\n",
       "      <td>5.419323</td>\n",
       "      <td>4.976820</td>\n",
       "      <td>4.976820</td>\n",
       "    </tr>\n",
       "    <tr>\n",
       "      <th>8</th>\n",
       "      <td>4.664046</td>\n",
       "      <td>4.499219</td>\n",
       "      <td>4.788677</td>\n",
       "      <td>4.708756</td>\n",
       "      <td>4.531241</td>\n",
       "      <td>4.531241</td>\n",
       "    </tr>\n",
       "    <tr>\n",
       "      <th>9</th>\n",
       "      <td>3.778134</td>\n",
       "      <td>3.744351</td>\n",
       "      <td>4.469582</td>\n",
       "      <td>4.835217</td>\n",
       "      <td>3.530005</td>\n",
       "      <td>3.530005</td>\n",
       "    </tr>\n",
       "  </tbody>\n",
       "</table>\n",
       "</div>"
      ],
      "text/plain": [
       "      RRT_1   RRT_2.5     RRT_5    RRT_10  Tree val     Naive\n",
       "0  4.754626  5.385438  6.062667  5.715567  4.774639  4.774639\n",
       "1  5.007723  4.517161  5.284633  5.598432  4.747049  4.747049\n",
       "2  5.004523  4.477550  4.936360  5.975434  4.853868  4.853868\n",
       "3  6.023852  5.498041  6.179695  6.447653  5.547141  5.547141\n",
       "4  3.863381  4.093041  4.473121  4.453665  4.162055  4.162055\n",
       "5  4.755865  5.053366  4.820317  4.622594  4.527319  4.527319\n",
       "6  3.988342  4.205111  5.472791  4.571316  3.973017  3.973017\n",
       "7  4.853487  4.825132  4.799683  5.419323  4.976820  4.976820\n",
       "8  4.664046  4.499219  4.788677  4.708756  4.531241  4.531241\n",
       "9  3.778134  3.744351  4.469582  4.835217  3.530005  3.530005"
      ]
     },
     "execution_count": 43,
     "metadata": {},
     "output_type": "execute_result"
    }
   ],
   "source": [
    "# Columns: \n",
    "# RRT_c: RRT with external randomization N(0, (c*sd_y)^2)\n",
    "# Tree val: Tree-values\n",
    "# Naive: naive inference\n",
    "# Rows: Each row correspond to one round of simulation\n",
    "pd.DataFrame(MSE_dict_fig1)"
   ]
  },
  {
   "cell_type": "markdown",
   "id": "904e5e2222d6d69e",
   "metadata": {
    "collapsed": false
   },
   "source": [
    "# Replicating Figure 3"
   ]
  },
  {
   "cell_type": "code",
   "execution_count": null,
   "id": "9ef1b54140dc129b",
   "metadata": {
    "ExecuteTime": {
     "end_time": "2025-03-11T17:46:58.086293Z",
     "start_time": "2025-03-11T16:30:40.053303Z"
    },
    "collapsed": false
   },
   "outputs": [
    {
     "name": "stdout",
     "output_type": "stream",
     "text": [
      "0 th simulation\n",
      "UV 0.1 coverage: 1.0, length: 21.82144926261298\n",
      "UV 0.2 coverage: 0.6666666666666666, length: 16.116208350389353\n",
      "UV 0.3 coverage: 1.0, length: 13.696143477293719\n",
      "UV 0.4 coverage: 0.8333333333333334, length: 12.30895744688977\n",
      "UV 0.5 coverage: 0.5714285714285714, length: 11.395880211575573\n",
      "Mean coverage so far: 1.0, Mean length so far: 7.5291315994555035\n",
      "Mean coverage so far: 1.0, Mean length so far: 7.516834509667259\n",
      "Mean coverage so far: 1.0, Mean length so far: 7.435125732792668\n",
      "Mean coverage so far: 1.0, Mean length so far: 7.425790412954589\n",
      "Mean coverage so far: 1.0, Mean length so far: 6.981822927715513\n",
      "Mean coverage so far: 1.0, Mean length so far: 6.675017724826809\n",
      "Mean coverage so far: 1.0, Mean length so far: 6.537833754193566\n",
      "1 th simulation\n",
      "UV 0.1 coverage: 0.6666666666666666, length: 21.821449262612983\n",
      "UV 0.2 coverage: 1.0, length: 16.116208350389357\n",
      "UV 0.3 coverage: 1.0, length: 13.696143477293719\n",
      "UV 0.4 coverage: 1.0, length: 12.308957446889766\n",
      "UV 0.5 coverage: 1.0, length: 11.395880211575573\n",
      "Mean coverage so far: 1.0, Mean length so far: 6.909642992403931\n",
      "Mean coverage so far: 1.0, Mean length so far: 6.980119593911864\n"
     ]
    },
    {
     "name": "stderr",
     "output_type": "stream",
     "text": [
      "/Users/yilingh/Desktop/PhD/SI_Codes/SI-CART/Utils/discrete_family.py:154: RuntimeWarning: overflow encountered in exp\n",
      "  self._partition *= np.exp(_largest)\n"
     ]
    },
    {
     "name": "stdout",
     "output_type": "stream",
     "text": [
      "2 not covered, depth 2\n",
      "Mean coverage so far: 0.6666666666666666, Mean length so far: 6.883913188468905\n",
      "Mean coverage so far: 0.75, Mean length so far: 6.426837659472451\n",
      "Mean coverage so far: 0.8, Mean length so far: 6.089736657812509\n",
      "Mean coverage so far: 0.8333333333333334, Mean length so far: 5.8852722533124835\n",
      "2 th simulation\n",
      "UV 0.1 coverage: 1.0, length: 21.821449262612983\n",
      "UV 0.2 coverage: 0.8333333333333334, length: 16.116208350389353\n",
      "UV 0.3 coverage: 1.0, length: 13.696143477293719\n",
      "UV 0.4 coverage: 1.0, length: 12.30895744688977\n",
      "UV 0.5 coverage: 1.0, length: 11.395880211575575\n",
      "Mean coverage so far: 1.0, Mean length so far: 7.370520465180864\n",
      "Mean coverage so far: 1.0, Mean length so far: 7.415275464809743\n",
      "Mean coverage so far: 1.0, Mean length so far: 7.255436055869914\n",
      "Mean coverage so far: 1.0, Mean length so far: 7.119708797031176\n",
      "Mean coverage so far: 1.0, Mean length so far: 6.873134477287263\n",
      "Mean coverage so far: 1.0, Mean length so far: 6.638299298931652\n",
      "3 th simulation\n",
      "UV 0.1 coverage: 0.6666666666666666, length: 21.821449262612983\n",
      "UV 0.2 coverage: 1.0, length: 16.116208350389353\n",
      "UV 0.3 coverage: 0.8333333333333334, length: 13.696143477293717\n",
      "UV 0.4 coverage: 0.8, length: 12.308957446889767\n",
      "UV 0.5 coverage: 1.0, length: 11.395880211575575\n",
      "Mean coverage so far: 1.0, Mean length so far: 6.662399582998862\n",
      "Mean coverage so far: 1.0, Mean length so far: 6.679134660156553\n",
      "Mean coverage so far: 1.0, Mean length so far: 6.738182553471546\n",
      "Mean coverage so far: 1.0, Mean length so far: 6.29641732619361\n",
      "Mean coverage so far: 1.0, Mean length so far: 6.60997917159562\n",
      "Mean coverage so far: 1.0, Mean length so far: 6.868348829825905\n",
      "4 th simulation\n",
      "UV 0.1 coverage: 0.8333333333333334, length: 21.821449262612976\n",
      "UV 0.2 coverage: 1.0, length: 16.116208350389353\n",
      "UV 0.3 coverage: 1.0, length: 13.696143477293719\n",
      "UV 0.4 coverage: 0.8333333333333334, length: 12.308957446889766\n",
      "UV 0.5 coverage: 0.6666666666666666, length: 11.395880211575573\n",
      "Mean coverage so far: 1.0, Mean length so far: 7.3102617167387045\n",
      "Mean coverage so far: 1.0, Mean length so far: 7.268010490398505\n"
     ]
    },
    {
     "name": "stderr",
     "output_type": "stream",
     "text": [
      "/Users/yilingh/Desktop/PhD/SI_Codes/SI-CART/Utils/discrete_family.py:154: RuntimeWarning: overflow encountered in scalar multiply\n",
      "  self._partition *= np.exp(_largest)\n"
     ]
    },
    {
     "name": "stdout",
     "output_type": "stream",
     "text": [
      "Mean coverage so far: 1.0, Mean length so far: 7.10103788833613\n",
      "Mean coverage so far: 1.0, Mean length so far: 6.472146428250577\n",
      "Mean coverage so far: 1.0, Mean length so far: 6.458274582138017\n",
      "Mean coverage so far: 1.0, Mean length so far: 6.482020360052393\n"
     ]
    }
   ],
   "source": [
    "coverage_dict_fig2, length_dict_fig2, MSE_dict_fig2\\\n",
    "    = terminal_inference_sim(n=200, p=5, a=1, b=2,\n",
    "                             sd_y=2,\n",
    "                             noise_sd_list=[1],\n",
    "                             UV_gamma_list=[0.05, 0.1, 0.2, 0.3, 0.4, 0.5],\n",
    "                             use_nonrand=False,\n",
    "                             start=0, end=5,\n",
    "                             level=0.1, path=None)"
   ]
  },
  {
   "cell_type": "code",
   "execution_count": 10,
   "id": "250ca3ab3bdca0a6",
   "metadata": {
    "ExecuteTime": {
     "end_time": "2025-03-04T21:41:06.609187Z",
     "start_time": "2025-03-04T21:41:06.573568Z"
    },
    "collapsed": false
   },
   "outputs": [
    {
     "data": {
      "text/html": [
       "<div>\n",
       "<style scoped>\n",
       "    .dataframe tbody tr th:only-of-type {\n",
       "        vertical-align: middle;\n",
       "    }\n",
       "\n",
       "    .dataframe tbody tr th {\n",
       "        vertical-align: top;\n",
       "    }\n",
       "\n",
       "    .dataframe thead th {\n",
       "        text-align: right;\n",
       "    }\n",
       "</style>\n",
       "<table border=\"1\" class=\"dataframe\">\n",
       "  <thead>\n",
       "    <tr style=\"text-align: right;\">\n",
       "      <th></th>\n",
       "      <th>RRT_1</th>\n",
       "      <th>UV_0.1</th>\n",
       "      <th>UV_0.2</th>\n",
       "      <th>UV_0.3</th>\n",
       "      <th>UV_0.4</th>\n",
       "      <th>UV_0.5</th>\n",
       "    </tr>\n",
       "  </thead>\n",
       "  <tbody>\n",
       "    <tr>\n",
       "      <th>0</th>\n",
       "      <td>1.000000</td>\n",
       "      <td>1.000000</td>\n",
       "      <td>0.666667</td>\n",
       "      <td>1.000000</td>\n",
       "      <td>0.833333</td>\n",
       "      <td>0.571429</td>\n",
       "    </tr>\n",
       "    <tr>\n",
       "      <th>1</th>\n",
       "      <td>0.833333</td>\n",
       "      <td>0.666667</td>\n",
       "      <td>1.000000</td>\n",
       "      <td>1.000000</td>\n",
       "      <td>1.000000</td>\n",
       "      <td>1.000000</td>\n",
       "    </tr>\n",
       "    <tr>\n",
       "      <th>2</th>\n",
       "      <td>1.000000</td>\n",
       "      <td>1.000000</td>\n",
       "      <td>0.833333</td>\n",
       "      <td>1.000000</td>\n",
       "      <td>1.000000</td>\n",
       "      <td>1.000000</td>\n",
       "    </tr>\n",
       "    <tr>\n",
       "      <th>3</th>\n",
       "      <td>1.000000</td>\n",
       "      <td>0.666667</td>\n",
       "      <td>1.000000</td>\n",
       "      <td>0.833333</td>\n",
       "      <td>0.800000</td>\n",
       "      <td>1.000000</td>\n",
       "    </tr>\n",
       "    <tr>\n",
       "      <th>4</th>\n",
       "      <td>1.000000</td>\n",
       "      <td>0.833333</td>\n",
       "      <td>1.000000</td>\n",
       "      <td>1.000000</td>\n",
       "      <td>0.833333</td>\n",
       "      <td>0.666667</td>\n",
       "    </tr>\n",
       "  </tbody>\n",
       "</table>\n",
       "</div>"
      ],
      "text/plain": [
       "      RRT_1    UV_0.1    UV_0.2    UV_0.3    UV_0.4    UV_0.5\n",
       "0  1.000000  1.000000  0.666667  1.000000  0.833333  0.571429\n",
       "1  0.833333  0.666667  1.000000  1.000000  1.000000  1.000000\n",
       "2  1.000000  1.000000  0.833333  1.000000  1.000000  1.000000\n",
       "3  1.000000  0.666667  1.000000  0.833333  0.800000  1.000000\n",
       "4  1.000000  0.833333  1.000000  1.000000  0.833333  0.666667"
      ]
     },
     "execution_count": 10,
     "metadata": {},
     "output_type": "execute_result"
    }
   ],
   "source": [
    "# Columns: \n",
    "# RRT_c: RRT with external randomization N(0, (c*sd_y)^2)\n",
    "# UV_k: UV decomposition with gamma = k\n",
    "# Rows: Each row correspond to one round of simulation\n",
    "pd.DataFrame(coverage_dict_fig2)"
   ]
  },
  {
   "cell_type": "code",
   "execution_count": 11,
   "id": "ed46cebfb74768c5",
   "metadata": {
    "ExecuteTime": {
     "end_time": "2025-03-04T21:41:11.404549Z",
     "start_time": "2025-03-04T21:41:11.393635Z"
    },
    "collapsed": false
   },
   "outputs": [
    {
     "data": {
      "text/html": [
       "<div>\n",
       "<style scoped>\n",
       "    .dataframe tbody tr th:only-of-type {\n",
       "        vertical-align: middle;\n",
       "    }\n",
       "\n",
       "    .dataframe tbody tr th {\n",
       "        vertical-align: top;\n",
       "    }\n",
       "\n",
       "    .dataframe thead th {\n",
       "        text-align: right;\n",
       "    }\n",
       "</style>\n",
       "<table border=\"1\" class=\"dataframe\">\n",
       "  <thead>\n",
       "    <tr style=\"text-align: right;\">\n",
       "      <th></th>\n",
       "      <th>RRT_1</th>\n",
       "      <th>UV_0.1</th>\n",
       "      <th>UV_0.2</th>\n",
       "      <th>UV_0.3</th>\n",
       "      <th>UV_0.4</th>\n",
       "      <th>UV_0.5</th>\n",
       "    </tr>\n",
       "  </thead>\n",
       "  <tbody>\n",
       "    <tr>\n",
       "      <th>0</th>\n",
       "      <td>6.537834</td>\n",
       "      <td>21.821449</td>\n",
       "      <td>16.116208</td>\n",
       "      <td>13.696143</td>\n",
       "      <td>12.308957</td>\n",
       "      <td>11.39588</td>\n",
       "    </tr>\n",
       "    <tr>\n",
       "      <th>1</th>\n",
       "      <td>5.885272</td>\n",
       "      <td>21.821449</td>\n",
       "      <td>16.116208</td>\n",
       "      <td>13.696143</td>\n",
       "      <td>12.308957</td>\n",
       "      <td>11.39588</td>\n",
       "    </tr>\n",
       "    <tr>\n",
       "      <th>2</th>\n",
       "      <td>6.638299</td>\n",
       "      <td>21.821449</td>\n",
       "      <td>16.116208</td>\n",
       "      <td>13.696143</td>\n",
       "      <td>12.308957</td>\n",
       "      <td>11.39588</td>\n",
       "    </tr>\n",
       "    <tr>\n",
       "      <th>3</th>\n",
       "      <td>6.868349</td>\n",
       "      <td>21.821449</td>\n",
       "      <td>16.116208</td>\n",
       "      <td>13.696143</td>\n",
       "      <td>12.308957</td>\n",
       "      <td>11.39588</td>\n",
       "    </tr>\n",
       "    <tr>\n",
       "      <th>4</th>\n",
       "      <td>6.482020</td>\n",
       "      <td>21.821449</td>\n",
       "      <td>16.116208</td>\n",
       "      <td>13.696143</td>\n",
       "      <td>12.308957</td>\n",
       "      <td>11.39588</td>\n",
       "    </tr>\n",
       "  </tbody>\n",
       "</table>\n",
       "</div>"
      ],
      "text/plain": [
       "      RRT_1     UV_0.1     UV_0.2     UV_0.3     UV_0.4    UV_0.5\n",
       "0  6.537834  21.821449  16.116208  13.696143  12.308957  11.39588\n",
       "1  5.885272  21.821449  16.116208  13.696143  12.308957  11.39588\n",
       "2  6.638299  21.821449  16.116208  13.696143  12.308957  11.39588\n",
       "3  6.868349  21.821449  16.116208  13.696143  12.308957  11.39588\n",
       "4  6.482020  21.821449  16.116208  13.696143  12.308957  11.39588"
      ]
     },
     "execution_count": 11,
     "metadata": {},
     "output_type": "execute_result"
    }
   ],
   "source": [
    "# Columns: \n",
    "# RRT_c: RRT with external randomization N(0, (c*sd_y)^2)\n",
    "# UV_k: UV decomposition with gamma = k\n",
    "# Rows: Each row correspond to one round of simulation\n",
    "pd.DataFrame(length_dict_fig2)"
   ]
  },
  {
   "cell_type": "code",
   "execution_count": 12,
   "id": "12e6df0dc95ead2f",
   "metadata": {
    "ExecuteTime": {
     "end_time": "2025-03-04T21:41:13.548686Z",
     "start_time": "2025-03-04T21:41:13.540740Z"
    },
    "collapsed": false
   },
   "outputs": [
    {
     "data": {
      "text/html": [
       "<div>\n",
       "<style scoped>\n",
       "    .dataframe tbody tr th:only-of-type {\n",
       "        vertical-align: middle;\n",
       "    }\n",
       "\n",
       "    .dataframe tbody tr th {\n",
       "        vertical-align: top;\n",
       "    }\n",
       "\n",
       "    .dataframe thead th {\n",
       "        text-align: right;\n",
       "    }\n",
       "</style>\n",
       "<table border=\"1\" class=\"dataframe\">\n",
       "  <thead>\n",
       "    <tr style=\"text-align: right;\">\n",
       "      <th></th>\n",
       "      <th>RRT_1</th>\n",
       "      <th>UV_0.1</th>\n",
       "      <th>UV_0.2</th>\n",
       "      <th>UV_0.3</th>\n",
       "      <th>UV_0.4</th>\n",
       "      <th>UV_0.5</th>\n",
       "    </tr>\n",
       "  </thead>\n",
       "  <tbody>\n",
       "    <tr>\n",
       "      <th>0</th>\n",
       "      <td>4.850155</td>\n",
       "      <td>4.786383</td>\n",
       "      <td>5.834787</td>\n",
       "      <td>4.838210</td>\n",
       "      <td>5.457604</td>\n",
       "      <td>4.927014</td>\n",
       "    </tr>\n",
       "    <tr>\n",
       "      <th>1</th>\n",
       "      <td>4.759003</td>\n",
       "      <td>4.710673</td>\n",
       "      <td>4.840395</td>\n",
       "      <td>4.753985</td>\n",
       "      <td>4.710537</td>\n",
       "      <td>4.774679</td>\n",
       "    </tr>\n",
       "    <tr>\n",
       "      <th>2</th>\n",
       "      <td>4.351734</td>\n",
       "      <td>4.559251</td>\n",
       "      <td>4.849142</td>\n",
       "      <td>4.902989</td>\n",
       "      <td>4.852253</td>\n",
       "      <td>5.041466</td>\n",
       "    </tr>\n",
       "    <tr>\n",
       "      <th>3</th>\n",
       "      <td>5.217155</td>\n",
       "      <td>5.623968</td>\n",
       "      <td>5.686481</td>\n",
       "      <td>5.397280</td>\n",
       "      <td>6.000632</td>\n",
       "      <td>6.032576</td>\n",
       "    </tr>\n",
       "    <tr>\n",
       "      <th>4</th>\n",
       "      <td>3.904771</td>\n",
       "      <td>4.187648</td>\n",
       "      <td>4.118202</td>\n",
       "      <td>4.335947</td>\n",
       "      <td>4.209115</td>\n",
       "      <td>4.169053</td>\n",
       "    </tr>\n",
       "  </tbody>\n",
       "</table>\n",
       "</div>"
      ],
      "text/plain": [
       "      RRT_1    UV_0.1    UV_0.2    UV_0.3    UV_0.4    UV_0.5\n",
       "0  4.850155  4.786383  5.834787  4.838210  5.457604  4.927014\n",
       "1  4.759003  4.710673  4.840395  4.753985  4.710537  4.774679\n",
       "2  4.351734  4.559251  4.849142  4.902989  4.852253  5.041466\n",
       "3  5.217155  5.623968  5.686481  5.397280  6.000632  6.032576\n",
       "4  3.904771  4.187648  4.118202  4.335947  4.209115  4.169053"
      ]
     },
     "execution_count": 12,
     "metadata": {},
     "output_type": "execute_result"
    }
   ],
   "source": [
    "# Columns: \n",
    "# RRT_c: RRT with external randomization N(0, (c*sd_y)^2)\n",
    "# UV_k: UV decomposition with gamma = k\n",
    "# Rows: Each row correspond to one round of simulation\n",
    "pd.DataFrame(MSE_dict_fig2)"
   ]
  },
  {
   "cell_type": "code",
   "execution_count": 62,
   "id": "20c87f9deb7dfc3b",
   "metadata": {
    "ExecuteTime": {
     "end_time": "2025-03-03T02:36:45.261466Z",
     "start_time": "2025-03-03T02:36:45.256200Z"
    },
    "collapsed": false
   },
   "outputs": [],
   "source": [
    "cov = np.eye(5) + np.ones((5,5))"
   ]
  },
  {
   "cell_type": "code",
   "execution_count": 63,
   "id": "f548541300a974d1",
   "metadata": {
    "ExecuteTime": {
     "end_time": "2025-03-03T02:36:45.870732Z",
     "start_time": "2025-03-03T02:36:45.869325Z"
    },
    "collapsed": false
   },
   "outputs": [],
   "source": [
    "L = np.linalg.cholesky(np.linalg.inv(cov)).T"
   ]
  },
  {
   "cell_type": "code",
   "execution_count": 64,
   "id": "6bf278272d734bcc",
   "metadata": {
    "ExecuteTime": {
     "end_time": "2025-03-03T02:36:46.355631Z",
     "start_time": "2025-03-03T02:36:46.343996Z"
    },
    "collapsed": false
   },
   "outputs": [],
   "source": [
    "X = np.abs(np.random.normal(size=(5,100000)))"
   ]
  },
  {
   "cell_type": "code",
   "execution_count": 64,
   "id": "2477325d0ee62814",
   "metadata": {
    "ExecuteTime": {
     "end_time": "2025-03-03T02:36:47.416960Z",
     "start_time": "2025-03-03T02:36:47.409975Z"
    },
    "collapsed": false
   },
   "outputs": [],
   "source": []
  },
  {
   "cell_type": "code",
   "execution_count": 65,
   "id": "fe1a42ce389ee0d4",
   "metadata": {
    "ExecuteTime": {
     "end_time": "2025-03-03T02:36:48.260155Z",
     "start_time": "2025-03-03T02:36:48.255299Z"
    },
    "collapsed": false
   },
   "outputs": [
    {
     "data": {
      "text/plain": [
       "array([[ 0.91287093, -0.18257419, -0.18257419, -0.18257419, -0.18257419],\n",
       "       [ 0.        ,  0.89442719, -0.2236068 , -0.2236068 , -0.2236068 ],\n",
       "       [ 0.        ,  0.        ,  0.8660254 , -0.28867513, -0.28867513],\n",
       "       [ 0.        ,  0.        ,  0.        ,  0.81649658, -0.40824829],\n",
       "       [ 0.        ,  0.        ,  0.        ,  0.        ,  0.70710678]])"
      ]
     },
     "execution_count": 65,
     "metadata": {},
     "output_type": "execute_result"
    }
   ],
   "source": [
    "L"
   ]
  },
  {
   "cell_type": "code",
   "execution_count": 25,
   "id": "1d86f6586a22c9fa",
   "metadata": {
    "ExecuteTime": {
     "end_time": "2025-02-28T21:39:25.325323Z",
     "start_time": "2025-02-28T21:39:25.273152Z"
    },
    "collapsed": false
   },
   "outputs": [
    {
     "data": {
      "text/plain": [
       "np.float64(-1.6623417197792252)"
      ]
     },
     "execution_count": 25,
     "metadata": {},
     "output_type": "execute_result"
    }
   ],
   "source": [
    "np.min(L @ X)"
   ]
  },
  {
   "cell_type": "code",
   "execution_count": null,
   "id": "ca80794dd1a2b406",
   "metadata": {
    "collapsed": false
   },
   "outputs": [],
   "source": []
  }
 ],
 "metadata": {
  "kernelspec": {
   "display_name": "iCART",
   "language": "python",
   "name": "python3"
  },
  "language_info": {
   "codemirror_mode": {
    "name": "ipython",
    "version": 3
   },
   "file_extension": ".py",
   "mimetype": "text/x-python",
   "name": "python",
   "nbconvert_exporter": "python",
   "pygments_lexer": "ipython3",
   "version": "3.10.13"
  }
 },
 "nbformat": 4,
 "nbformat_minor": 5
}
