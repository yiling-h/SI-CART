{
 "cells": [
  {
   "cell_type": "code",
   "execution_count": 1,
   "id": "initial_id",
   "metadata": {
    "collapsed": true,
    "ExecuteTime": {
     "end_time": "2025-03-01T06:56:40.482309Z",
     "start_time": "2025-03-01T06:56:38.768675Z"
    }
   },
   "outputs": [],
   "source": [
    "import sys, os\n",
    "\n",
    "import numpy as np\n",
    "import pandas as pd\n",
    "\n",
    "from CART import *\n",
    "from Utils.plotting import  *\n",
    "from scipy.stats import norm as ndist\n",
    "import joblib\n",
    "\n",
    "# For tree-values\n",
    "import rpy2.robjects.packages as rpackages\n",
    "from rpy2.robjects.vectors import StrVector\n",
    "\n",
    "# Select a CRAN mirror to download from\n",
    "utils = rpackages.importr('utils')\n",
    "utils.chooseCRANmirror(ind=1)  # Select the first mirror\n",
    "\n",
    "# Install 'remotes' if it's not already installed\n",
    "if not rpackages.isinstalled('remotes'):\n",
    "    utils.install_packages(StrVector(('remotes',)))\n",
    "\n",
    "import rpy2.robjects as ro\n",
    "\n",
    "from rpy2.robjects.packages import importr\n",
    "from rpy2.robjects import pandas2ri\n",
    "from rpy2.robjects import numpy2ri"
   ]
  },
  {
   "cell_type": "code",
   "execution_count": 2,
   "outputs": [
    {
     "name": "stderr",
     "output_type": "stream",
     "text": [
      "R[write to console]: Using GitHub PAT from the git credential store.\n",
      "\n",
      "R[write to console]: Skipping install of 'treevalues' from a github remote, the SHA1 (55573782) has not changed since last install.\n",
      "  Use `force = TRUE` to force installation\n",
      "\n"
     ]
    }
   ],
   "source": [
    "# Run the GitHub installation command for 'treevalues'\n",
    "ro.r('remotes::install_github(\"anna-neufeld/treevalues\")')\n",
    "ro.r('library(treevalues)')\n",
    "ro.r('library(rpart)')"
   ],
   "metadata": {
    "collapsed": false,
    "ExecuteTime": {
     "end_time": "2025-03-01T06:56:40.908030Z",
     "start_time": "2025-03-01T06:56:40.483907Z"
    }
   },
   "id": "b5d5ac8ed92d6131"
  },
  {
   "cell_type": "code",
   "execution_count": 3,
   "outputs": [],
   "source": [
    "def generate_test(mu, sd_y):\n",
    "    n = mu.shape[0]\n",
    "    return mu + np.random.normal(size=(n,), scale=sd_y)"
   ],
   "metadata": {
    "collapsed": false,
    "ExecuteTime": {
     "end_time": "2025-03-01T06:56:41.286433Z",
     "start_time": "2025-03-01T06:56:41.279243Z"
    }
   },
   "id": "2b12e4284552b1ef"
  },
  {
   "cell_type": "markdown",
   "source": [
    "# Tree-values inference"
   ],
   "metadata": {
    "collapsed": false,
    "ExecuteTime": {
     "end_time": "2025-02-28T04:45:00.398703Z",
     "start_time": "2025-02-28T04:45:00.393620Z"
    }
   },
   "id": "3201be659cb7259f"
  },
  {
   "cell_type": "code",
   "execution_count": 4,
   "outputs": [],
   "source": [
    "def tree_values_inference(X, y, mu, sd_y, max_depth=5, level=0.1,\n",
    "                          X_test=None):\n",
    "    # Convert the NumPy matrix to an R matrix\n",
    "    X_r = numpy2ri.py2rpy(X)\n",
    "    y_r = numpy2ri.py2rpy(y)\n",
    "\n",
    "    # Assign the R matrix to a variable in the R environment (optional)\n",
    "    ro.globalenv['X_r'] = X_r\n",
    "    ro.globalenv['y_r'] = y_r\n",
    "    ro.globalenv['p'] = X.shape[1]\n",
    "\n",
    "    # Construct dataset\n",
    "    ro.r('data <- cbind(y_r, X_r)')\n",
    "    # Set the column names to \"y\", \"x1\", \"x2\", ..., \"x10\"\n",
    "    ro.r('colnames(data) <- c(\"y\", paste0(\"x\", 1:p))')\n",
    "    ro.r('data = data.frame(data)')\n",
    "\n",
    "    # Define the rpart tree model\n",
    "    tree_cmd = ('bls.tree <- rpart(y ~ ., data=data, model = TRUE, ' +\n",
    "                'control = rpart.control(cp=0.00, minsplit = 50, minbucket = 20, maxdepth=') + str(max_depth) + '))'\n",
    "    ro.r(tree_cmd)\n",
    "    bls_tree = ro.r('bls.tree')\n",
    "    # Plot the tree values (this will plot directly if you have a plotting backend set up)\n",
    "    # ro.r('treeval.plot(bls.tree, inferenceType=0)')\n",
    "\n",
    "    # ro.r('print(row.names(bls.tree$frame)[bls.tree$frame$var == \"<leaf>\"])')\n",
    "    ro.r('leaf_idx <- (row.names(bls.tree$frame)[bls.tree$frame$var == \"<leaf>\"])')\n",
    "    leaf_idx = ro.r['leaf_idx']\n",
    "\n",
    "    # Get node mapping\n",
    "    ro.r('idx_full <- 1:nrow(bls.tree$frame)')\n",
    "    ro.r('mapped_idx <- idx_full[bls.tree$frame$var == \"<leaf>\"]')\n",
    "\n",
    "    len = []\n",
    "    coverage = []\n",
    "    len_naive = []\n",
    "    coverage_naive = []\n",
    "\n",
    "    for i, idx in enumerate(leaf_idx):\n",
    "        # Get the branch information for a specific branch in the tree\n",
    "        command = 'branch <- getBranch(bls.tree, ' + str(idx) + ')'\n",
    "        ro.r(command)\n",
    "        # Perform branch inference\n",
    "        ro.r(f'result <- branchInference(bls.tree, branch, type=\"reg\", alpha = 0.10, sigma_y={sd_y})')\n",
    "        # Get confidence intervals\n",
    "        confint = ro.r('result$confint')\n",
    "        len.append(confint[1] - confint[0])\n",
    "\n",
    "        target_cmd = \"contrast <- (bls.tree$where == mapped_idx[\" + str(i + 1) + \"])\"\n",
    "        ro.r(target_cmd)\n",
    "        contrast = ro.r('contrast')\n",
    "        contrast = np.array(contrast)\n",
    "\n",
    "        contrast = np.array(contrast * 1 / np.sum(contrast))\n",
    "\n",
    "        target = contrast.dot(mu)\n",
    "        coverage.append(target >= confint[0] and target <= confint[1])\n",
    "\n",
    "        # Naive after tree value\n",
    "        # Confidence intervals\n",
    "        naive_CI = [contrast.dot(y) -\n",
    "                    np.linalg.norm(contrast) * sd_y * ndist.ppf(1 - level / 2),\n",
    "                    contrast.dot(y) +\n",
    "                    np.linalg.norm(contrast) * sd_y * ndist.ppf(1 - level / 2)]\n",
    "        coverage_naive.append((target >= naive_CI[0] and target <= naive_CI[1]))\n",
    "        len_naive.append(naive_CI[1] - naive_CI[0])\n",
    "\n",
    "    if X_test is not None:\n",
    "        X_test_r = numpy2ri.py2rpy(X_test)\n",
    "        ro.globalenv['X_test_r'] = X_test_r\n",
    "        ro.r('pred <- predict(bls.tree, data = X_test_r)')\n",
    "        pred = ro.r['pred']\n",
    "    else:\n",
    "        pred = None\n",
    "\n",
    "    return (np.mean(coverage), np.mean(len),\n",
    "            np.mean(coverage_naive), np.mean(len_naive), pred)"
   ],
   "metadata": {
    "collapsed": false,
    "ExecuteTime": {
     "end_time": "2025-03-01T06:56:53.691868Z",
     "start_time": "2025-03-01T06:56:53.681142Z"
    }
   },
   "id": "d5f59772261d8c06"
  },
  {
   "cell_type": "markdown",
   "source": [
    "# RRT inference"
   ],
   "metadata": {
    "collapsed": false,
    "ExecuteTime": {
     "end_time": "2025-02-28T04:45:00.826537Z",
     "start_time": "2025-02-28T04:45:00.817685Z"
    }
   },
   "id": "68b034d92f8e7a30"
  },
  {
   "cell_type": "code",
   "execution_count": 5,
   "outputs": [],
   "source": [
    "def randomized_inference(reg_tree, sd_y, y, mu, level=0.1):\n",
    "    # print(reg_tree.terminal_nodes)\n",
    "    coverage_i = []\n",
    "    lengths_i = []\n",
    "\n",
    "    for node in reg_tree.terminal_nodes:\n",
    "        pval, dist, contrast, norm_contrast, obs_tar, logW, suff, sel_probs \\\n",
    "            = (reg_tree.condl_node_inference(node=node,\n",
    "                                             ngrid=10000,\n",
    "                                             ncoarse=50,\n",
    "                                             grid_w_const=5,\n",
    "                                             reduced_dim=None,\n",
    "                                             sd=sd_y,\n",
    "                                             use_cvxpy=True))\n",
    "        target = contrast.dot(mu)\n",
    "\n",
    "        # This is an interval for\n",
    "        # eta_*'mu = eta'mu / (norm(eta) * sd_y)\n",
    "        selective_CI = (dist.equal_tailed_interval(observed=norm_contrast.dot(y),\n",
    "                                                   alpha=level))\n",
    "        selective_CI = np.array(selective_CI)\n",
    "        selective_CI *= np.linalg.norm(contrast) * sd_y\n",
    "        coverage_i.append((target >= selective_CI[0] and target <= selective_CI[1]))\n",
    "        lengths_i.append(selective_CI[1] - selective_CI[0])\n",
    "\n",
    "    return coverage_i, lengths_i"
   ],
   "metadata": {
    "collapsed": false,
    "ExecuteTime": {
     "end_time": "2025-03-01T06:57:01.873998Z",
     "start_time": "2025-03-01T06:57:01.867049Z"
    }
   },
   "id": "593dfd6522f79486"
  },
  {
   "cell_type": "markdown",
   "source": [
    "# Inference with UV decomposition"
   ],
   "metadata": {
    "collapsed": false,
    "ExecuteTime": {
     "end_time": "2025-02-28T04:45:01.348886Z",
     "start_time": "2025-02-28T04:45:01.342709Z"
    }
   },
   "id": "b59562660744af96"
  },
  {
   "cell_type": "code",
   "execution_count": 6,
   "outputs": [],
   "source": [
    "def UV_decomposition(X, y, mu, sd_y,\n",
    "                     max_depth=5, min_prop=0, min_sample=10, min_bucket=5,\n",
    "                     level=0.1, gamma=1,\n",
    "                     X_test=None):\n",
    "    n = X.shape[0]\n",
    "    W = np.random.normal(loc=0, scale=sd_y * np.sqrt(gamma), size=(n,))\n",
    "    U = y + W\n",
    "    V = y - W / gamma\n",
    "    sd_V = sd_y * np.sqrt(1 + 1 / gamma)\n",
    "    reg_tree = RegressionTree(min_samples_split=min_sample, max_depth=max_depth,\n",
    "                              min_proportion=min_prop, min_bucket=min_bucket)\n",
    "    reg_tree.fit(X, U, sd=0)\n",
    "\n",
    "    coverage = []\n",
    "    lengths = []\n",
    "\n",
    "    for node in reg_tree.terminal_nodes:\n",
    "        contrast = node.membership\n",
    "\n",
    "        contrast = np.array(contrast * 1 / np.sum(contrast))\n",
    "\n",
    "        target = contrast.dot(mu)\n",
    "\n",
    "        # Naive after tree value\n",
    "        # Confidence intervals\n",
    "        CI = [contrast.dot(V) -\n",
    "              np.linalg.norm(contrast) * sd_V * ndist.ppf(1 - level / 2),\n",
    "              contrast.dot(V) +\n",
    "              np.linalg.norm(contrast) * sd_V * ndist.ppf(1 - level / 2)]\n",
    "        coverage.append((target >= CI[0] and target <= CI[1]))\n",
    "        lengths.append(CI[1] - CI[0])\n",
    "\n",
    "    if X_test is not None:\n",
    "        pred = reg_tree.predict(X_test)\n",
    "    else:\n",
    "        pred = None\n",
    "\n",
    "    return coverage, lengths, pred"
   ],
   "metadata": {
    "collapsed": false,
    "ExecuteTime": {
     "end_time": "2025-03-01T06:57:03.358504Z",
     "start_time": "2025-03-01T06:57:03.356005Z"
    }
   },
   "id": "45c2e38de4e0ee17"
  },
  {
   "cell_type": "markdown",
   "source": [
    "# Replicating Figure 1"
   ],
   "metadata": {
    "collapsed": false,
    "ExecuteTime": {
     "end_time": "2025-02-28T04:45:02.220083Z",
     "start_time": "2025-02-28T04:45:02.195087Z"
    }
   },
   "id": "1e3f3b7319ac6822"
  },
  {
   "cell_type": "code",
   "execution_count": 19,
   "outputs": [],
   "source": [
    "def terminal_inference_sim(n=50, p=5, a=0.1, b=0.1,\n",
    "                           sd_y=1,\n",
    "                           noise_sd_list=[0.5, 1, 2, 5],\n",
    "                           UV_gamma_list=[],\n",
    "                           use_nonrand=True,\n",
    "                           start=0, end=100,\n",
    "                           level=0.1, path=None):\n",
    "    method_list = [f\"RRT_{sd}\" for sd in noise_sd_list]\n",
    "    if use_nonrand:\n",
    "        method_list += [\"Tree val\", \"Naive\"]\n",
    "    for gamma in UV_gamma_list:\n",
    "        method_list.append(\"UV_\" + str(gamma))\n",
    "\n",
    "    coverage_dict = {m: [] for m in method_list}\n",
    "    length_dict = {m: [] for m in method_list}\n",
    "    MSE_dict = {m: [] for m in method_list}\n",
    "\n",
    "    for i in range(start, end):\n",
    "        print(i, \"th simulation\")\n",
    "        np.random.seed(i + 10000)\n",
    "        X = np.random.normal(size=(n, p))\n",
    "\n",
    "        mu = b * ((X[:, 0] <= 0) * (1 + a * (X[:, 1] > 0) + (X[:, 2] * X[:, 1] <= 0)))\n",
    "        y = mu + np.random.normal(size=(n,), scale=sd_y)\n",
    "        y_test = generate_test(mu, sd_y)\n",
    "        \n",
    "        if use_nonrand:\n",
    "            # Tree value & naive inference & prediction\n",
    "            (coverage_treeval, avg_len_treeval,\n",
    "             coverage_treeval_naive, avg_len_treeval_naive,\n",
    "             pred_test_treeval) = tree_values_inference(X, y, mu, sd_y=sd_y,\n",
    "                                                        X_test=X, max_depth=1)\n",
    "            MSE_test_treeval = (np.mean((y_test - pred_test_treeval) ** 2))\n",
    "\n",
    "            coverage_dict[\"Tree val\"].append(coverage_treeval)\n",
    "            length_dict[\"Tree val\"].append(avg_len_treeval)\n",
    "            MSE_dict[\"Tree val\"].append(MSE_test_treeval)\n",
    "            coverage_dict[\"Naive\"].append(coverage_treeval_naive)\n",
    "            length_dict[\"Naive\"].append(avg_len_treeval_naive)\n",
    "            MSE_dict[\"Naive\"].append(MSE_test_treeval)\n",
    "\n",
    "        for noise_sd in noise_sd_list:\n",
    "            # Create and train the regression tree\n",
    "            reg_tree = RegressionTree(min_samples_split=50, max_depth=1,\n",
    "                                      min_proportion=0., min_bucket=20)\n",
    "\n",
    "            reg_tree.fit(X, y, sd=noise_sd * sd_y)\n",
    "\n",
    "            coverage_i, lengths_i = randomized_inference(reg_tree=reg_tree,\n",
    "                                                         y=y, sd_y=sd_y, mu=mu,\n",
    "                                                         level=level)\n",
    "            pred_test = reg_tree.predict(X)\n",
    "            MSE_test = (np.mean((y_test - pred_test) ** 2))\n",
    "            # Record results\n",
    "            coverage_dict[f\"RRT_{noise_sd}\"].append(np.mean(coverage_i))\n",
    "            length_dict[f\"RRT_{noise_sd}\"].append(np.mean(lengths_i))\n",
    "            MSE_dict[f\"RRT_{noise_sd}\"].append(MSE_test)\n",
    "\n",
    "        for gamma in UV_gamma_list:\n",
    "            gamma_key = \"UV_\" + str(gamma)\n",
    "            # UV decomposition\n",
    "            coverage_UV, len_UV, pred_UV = UV_decomposition(X, y, mu, sd_y, X_test=X,\n",
    "                                                            min_prop=0., max_depth=1,\n",
    "                                                            min_sample=50, min_bucket=20,\n",
    "                                                            gamma=gamma)\n",
    "            MSE_UV = (np.mean((y_test - pred_UV) ** 2))\n",
    "            coverage_dict[gamma_key].append(np.mean(coverage_UV))\n",
    "            length_dict[gamma_key].append(np.mean(len_UV))\n",
    "            MSE_dict[gamma_key].append(MSE_UV)\n",
    "\n",
    "        if path is not None:\n",
    "            joblib.dump([coverage_dict, length_dict, MSE_dict], path, compress=1)\n",
    "\n",
    "    return coverage_dict, length_dict, MSE_dict"
   ],
   "metadata": {
    "collapsed": false,
    "ExecuteTime": {
     "end_time": "2025-03-02T01:53:18.007811Z",
     "start_time": "2025-03-02T01:53:18.006409Z"
    }
   },
   "id": "d4fc427721e488a9"
  },
  {
   "cell_type": "code",
   "execution_count": 20,
   "outputs": [
    {
     "name": "stdout",
     "output_type": "stream",
     "text": [
      "0 th simulation\n"
     ]
    },
    {
     "name": "stderr",
     "output_type": "stream",
     "text": [
      "/Users/yilingh/Desktop/PhD/SI_Codes/SI-CART/Utils/discrete_family.py:148: RuntimeWarning: overflow encountered in exp\n",
      "  self._partition *= np.exp(_largest)\n"
     ]
    },
    {
     "name": "stdout",
     "output_type": "stream",
     "text": [
      "1 th simulation\n",
      "2 th simulation\n"
     ]
    }
   ],
   "source": [
    "coverage_dict_fig1, length_dict_fig1, MSE_dict_fig1\\\n",
    "    = terminal_inference_sim(n=200, p=5, a=1, b=2,\n",
    "                             sd_y=2,\n",
    "                             noise_sd_list=[1, 2.5, 5, 10],\n",
    "                             UV_gamma_list=[],\n",
    "                             use_nonrand=True,\n",
    "                             start=0, end=3,\n",
    "                             level=0.1, path=None)"
   ],
   "metadata": {
    "collapsed": false,
    "ExecuteTime": {
     "end_time": "2025-03-02T01:54:22.841594Z",
     "start_time": "2025-03-02T01:53:18.610003Z"
    }
   },
   "id": "8777d8f757e29461"
  },
  {
   "cell_type": "code",
   "execution_count": 21,
   "outputs": [
    {
     "data": {
      "text/plain": "   RRT_1  RRT_2.5  RRT_5  RRT_10  Tree val  Naive\n0    0.5      1.0    0.5     0.0       1.0    1.0\n1    0.5      1.0    1.0     0.5       0.5    0.5\n2    0.5      0.5    1.0     0.5       1.0    1.0",
      "text/html": "<div>\n<style scoped>\n    .dataframe tbody tr th:only-of-type {\n        vertical-align: middle;\n    }\n\n    .dataframe tbody tr th {\n        vertical-align: top;\n    }\n\n    .dataframe thead th {\n        text-align: right;\n    }\n</style>\n<table border=\"1\" class=\"dataframe\">\n  <thead>\n    <tr style=\"text-align: right;\">\n      <th></th>\n      <th>RRT_1</th>\n      <th>RRT_2.5</th>\n      <th>RRT_5</th>\n      <th>RRT_10</th>\n      <th>Tree val</th>\n      <th>Naive</th>\n    </tr>\n  </thead>\n  <tbody>\n    <tr>\n      <th>0</th>\n      <td>0.5</td>\n      <td>1.0</td>\n      <td>0.5</td>\n      <td>0.0</td>\n      <td>1.0</td>\n      <td>1.0</td>\n    </tr>\n    <tr>\n      <th>1</th>\n      <td>0.5</td>\n      <td>1.0</td>\n      <td>1.0</td>\n      <td>0.5</td>\n      <td>0.5</td>\n      <td>0.5</td>\n    </tr>\n    <tr>\n      <th>2</th>\n      <td>0.5</td>\n      <td>0.5</td>\n      <td>1.0</td>\n      <td>0.5</td>\n      <td>1.0</td>\n      <td>1.0</td>\n    </tr>\n  </tbody>\n</table>\n</div>"
     },
     "execution_count": 21,
     "metadata": {},
     "output_type": "execute_result"
    }
   ],
   "source": [
    "# Columns: \n",
    "# RRT_c: RRT with external randomization N(0, (c*sd_y)^2)\n",
    "# Tree val: Tree-values\n",
    "# Naive: naive inference\n",
    "# Rows: Each row correspond to one round of simulation\n",
    "pd.DataFrame(coverage_dict_fig1)"
   ],
   "metadata": {
    "collapsed": false,
    "ExecuteTime": {
     "end_time": "2025-03-02T01:55:17.908375Z",
     "start_time": "2025-03-02T01:55:17.878043Z"
    }
   },
   "id": "4d01c5abe5810828"
  },
  {
   "cell_type": "code",
   "execution_count": 22,
   "outputs": [
    {
     "data": {
      "text/plain": "      RRT_1    RRT_2.5      RRT_5     RRT_10  Tree val     Naive\n0  3.705403   2.339196   1.502620   1.125419  0.812268  0.660427\n1  3.087178  20.627197  93.416963  20.155221  0.657966  0.657966\n2  3.507186   2.276292   1.399645   6.690803  0.658560  0.658559",
      "text/html": "<div>\n<style scoped>\n    .dataframe tbody tr th:only-of-type {\n        vertical-align: middle;\n    }\n\n    .dataframe tbody tr th {\n        vertical-align: top;\n    }\n\n    .dataframe thead th {\n        text-align: right;\n    }\n</style>\n<table border=\"1\" class=\"dataframe\">\n  <thead>\n    <tr style=\"text-align: right;\">\n      <th></th>\n      <th>RRT_1</th>\n      <th>RRT_2.5</th>\n      <th>RRT_5</th>\n      <th>RRT_10</th>\n      <th>Tree val</th>\n      <th>Naive</th>\n    </tr>\n  </thead>\n  <tbody>\n    <tr>\n      <th>0</th>\n      <td>3.705403</td>\n      <td>2.339196</td>\n      <td>1.502620</td>\n      <td>1.125419</td>\n      <td>0.812268</td>\n      <td>0.660427</td>\n    </tr>\n    <tr>\n      <th>1</th>\n      <td>3.087178</td>\n      <td>20.627197</td>\n      <td>93.416963</td>\n      <td>20.155221</td>\n      <td>0.657966</td>\n      <td>0.657966</td>\n    </tr>\n    <tr>\n      <th>2</th>\n      <td>3.507186</td>\n      <td>2.276292</td>\n      <td>1.399645</td>\n      <td>6.690803</td>\n      <td>0.658560</td>\n      <td>0.658559</td>\n    </tr>\n  </tbody>\n</table>\n</div>"
     },
     "execution_count": 22,
     "metadata": {},
     "output_type": "execute_result"
    }
   ],
   "source": [
    "# Columns: \n",
    "# RRT_c: RRT with external randomization N(0, (c*sd_y)^2)\n",
    "# Tree val: Tree-values\n",
    "# Naive: naive inference\n",
    "# Rows: Each row correspond to one round of simulation\n",
    "pd.DataFrame(length_dict_fig1)"
   ],
   "metadata": {
    "collapsed": false,
    "ExecuteTime": {
     "end_time": "2025-03-02T01:55:19.367576Z",
     "start_time": "2025-03-02T01:55:19.359491Z"
    }
   },
   "id": "beece6f59845a437"
  },
  {
   "cell_type": "code",
   "execution_count": 23,
   "outputs": [
    {
     "data": {
      "text/plain": "      RRT_1   RRT_2.5     RRT_5    RRT_10  Tree val     Naive\n0  6.446936  6.622531  6.290958  6.494756  6.446936  6.446936\n1  5.524521  5.301049  5.429078  5.301049  5.301049  5.301049\n2  4.984089  5.028636  5.219642  4.955172  4.984089  4.984089",
      "text/html": "<div>\n<style scoped>\n    .dataframe tbody tr th:only-of-type {\n        vertical-align: middle;\n    }\n\n    .dataframe tbody tr th {\n        vertical-align: top;\n    }\n\n    .dataframe thead th {\n        text-align: right;\n    }\n</style>\n<table border=\"1\" class=\"dataframe\">\n  <thead>\n    <tr style=\"text-align: right;\">\n      <th></th>\n      <th>RRT_1</th>\n      <th>RRT_2.5</th>\n      <th>RRT_5</th>\n      <th>RRT_10</th>\n      <th>Tree val</th>\n      <th>Naive</th>\n    </tr>\n  </thead>\n  <tbody>\n    <tr>\n      <th>0</th>\n      <td>6.446936</td>\n      <td>6.622531</td>\n      <td>6.290958</td>\n      <td>6.494756</td>\n      <td>6.446936</td>\n      <td>6.446936</td>\n    </tr>\n    <tr>\n      <th>1</th>\n      <td>5.524521</td>\n      <td>5.301049</td>\n      <td>5.429078</td>\n      <td>5.301049</td>\n      <td>5.301049</td>\n      <td>5.301049</td>\n    </tr>\n    <tr>\n      <th>2</th>\n      <td>4.984089</td>\n      <td>5.028636</td>\n      <td>5.219642</td>\n      <td>4.955172</td>\n      <td>4.984089</td>\n      <td>4.984089</td>\n    </tr>\n  </tbody>\n</table>\n</div>"
     },
     "execution_count": 23,
     "metadata": {},
     "output_type": "execute_result"
    }
   ],
   "source": [
    "# Columns: \n",
    "# RRT_c: RRT with external randomization N(0, (c*sd_y)^2)\n",
    "# Tree val: Tree-values\n",
    "# Naive: naive inference\n",
    "# Rows: Each row correspond to one round of simulation\n",
    "pd.DataFrame(MSE_dict_fig1)"
   ],
   "metadata": {
    "collapsed": false,
    "ExecuteTime": {
     "end_time": "2025-03-02T01:55:33.791456Z",
     "start_time": "2025-03-02T01:55:33.782368Z"
    }
   },
   "id": "6b98704bde23e735"
  },
  {
   "cell_type": "markdown",
   "source": [
    "# Replicating Figure 2"
   ],
   "metadata": {
    "collapsed": false
   },
   "id": "904e5e2222d6d69e"
  },
  {
   "cell_type": "code",
   "execution_count": 14,
   "outputs": [
    {
     "name": "stdout",
     "output_type": "stream",
     "text": [
      "0 th simulation\n"
     ]
    },
    {
     "name": "stderr",
     "output_type": "stream",
     "text": [
      "/Users/yilingh/Desktop/PhD/SI_Codes/SI-CART/Utils/discrete_family.py:148: RuntimeWarning: overflow encountered in exp\n",
      "  self._partition *= np.exp(_largest)\n"
     ]
    },
    {
     "name": "stdout",
     "output_type": "stream",
     "text": [
      "1 th simulation\n",
      "2 th simulation\n",
      "3 th simulation\n",
      "4 th simulation\n",
      "5 th simulation\n",
      "6 th simulation\n",
      "7 th simulation\n",
      "8 th simulation\n",
      "9 th simulation\n"
     ]
    }
   ],
   "source": [
    "coverage_dict_fig2, length_dict_fig2, MSE_dict_fig2\\\n",
    "    = terminal_inference_sim(n=200, p=10, a=1, b=2,\n",
    "                             sd_y=2,\n",
    "                             noise_sd_list=[5],\n",
    "                             UV_gamma_list=[0.1, 0.2, 0.3, 0.4, 0.5],\n",
    "                             use_nonrand=False,\n",
    "                             start=0, end=10,\n",
    "                             level=0.1, path=None)"
   ],
   "metadata": {
    "collapsed": false,
    "ExecuteTime": {
     "end_time": "2025-03-01T07:14:36.319492Z",
     "start_time": "2025-03-01T07:11:36.376199Z"
    }
   },
   "id": "9ef1b54140dc129b"
  },
  {
   "cell_type": "code",
   "execution_count": 15,
   "outputs": [
    {
     "data": {
      "text/plain": "   RRT_5  UV_0.1  UV_0.2  UV_0.3  UV_0.4  UV_0.5\n0    0.5     0.5     0.5     1.0     1.0     1.0\n1    0.0     0.5     1.0     1.0     0.5     1.0\n2    0.5     1.0     0.5     1.0     1.0     1.0\n3    0.5     1.0     1.0     1.0     1.0     1.0\n4    0.0     1.0     1.0     1.0     1.0     1.0\n5    0.5     1.0     1.0     1.0     1.0     1.0\n6    0.0     0.5     1.0     1.0     1.0     0.5\n7    0.0     0.5     1.0     0.5     1.0     1.0\n8    0.5     0.5     1.0     1.0     1.0     0.5\n9    1.0     1.0     1.0     1.0     1.0     1.0",
      "text/html": "<div>\n<style scoped>\n    .dataframe tbody tr th:only-of-type {\n        vertical-align: middle;\n    }\n\n    .dataframe tbody tr th {\n        vertical-align: top;\n    }\n\n    .dataframe thead th {\n        text-align: right;\n    }\n</style>\n<table border=\"1\" class=\"dataframe\">\n  <thead>\n    <tr style=\"text-align: right;\">\n      <th></th>\n      <th>RRT_5</th>\n      <th>UV_0.1</th>\n      <th>UV_0.2</th>\n      <th>UV_0.3</th>\n      <th>UV_0.4</th>\n      <th>UV_0.5</th>\n    </tr>\n  </thead>\n  <tbody>\n    <tr>\n      <th>0</th>\n      <td>0.5</td>\n      <td>0.5</td>\n      <td>0.5</td>\n      <td>1.0</td>\n      <td>1.0</td>\n      <td>1.0</td>\n    </tr>\n    <tr>\n      <th>1</th>\n      <td>0.0</td>\n      <td>0.5</td>\n      <td>1.0</td>\n      <td>1.0</td>\n      <td>0.5</td>\n      <td>1.0</td>\n    </tr>\n    <tr>\n      <th>2</th>\n      <td>0.5</td>\n      <td>1.0</td>\n      <td>0.5</td>\n      <td>1.0</td>\n      <td>1.0</td>\n      <td>1.0</td>\n    </tr>\n    <tr>\n      <th>3</th>\n      <td>0.5</td>\n      <td>1.0</td>\n      <td>1.0</td>\n      <td>1.0</td>\n      <td>1.0</td>\n      <td>1.0</td>\n    </tr>\n    <tr>\n      <th>4</th>\n      <td>0.0</td>\n      <td>1.0</td>\n      <td>1.0</td>\n      <td>1.0</td>\n      <td>1.0</td>\n      <td>1.0</td>\n    </tr>\n    <tr>\n      <th>5</th>\n      <td>0.5</td>\n      <td>1.0</td>\n      <td>1.0</td>\n      <td>1.0</td>\n      <td>1.0</td>\n      <td>1.0</td>\n    </tr>\n    <tr>\n      <th>6</th>\n      <td>0.0</td>\n      <td>0.5</td>\n      <td>1.0</td>\n      <td>1.0</td>\n      <td>1.0</td>\n      <td>0.5</td>\n    </tr>\n    <tr>\n      <th>7</th>\n      <td>0.0</td>\n      <td>0.5</td>\n      <td>1.0</td>\n      <td>0.5</td>\n      <td>1.0</td>\n      <td>1.0</td>\n    </tr>\n    <tr>\n      <th>8</th>\n      <td>0.5</td>\n      <td>0.5</td>\n      <td>1.0</td>\n      <td>1.0</td>\n      <td>1.0</td>\n      <td>0.5</td>\n    </tr>\n    <tr>\n      <th>9</th>\n      <td>1.0</td>\n      <td>1.0</td>\n      <td>1.0</td>\n      <td>1.0</td>\n      <td>1.0</td>\n      <td>1.0</td>\n    </tr>\n  </tbody>\n</table>\n</div>"
     },
     "execution_count": 15,
     "metadata": {},
     "output_type": "execute_result"
    }
   ],
   "source": [
    "# Columns: \n",
    "# RRT_c: RRT with external randomization N(0, (c*sd_y)^2)\n",
    "# UV_k: UV decomposition with gamma = k\n",
    "# Rows: Each row correspond to one round of simulation\n",
    "pd.DataFrame(coverage_dict_fig2)"
   ],
   "metadata": {
    "collapsed": false,
    "ExecuteTime": {
     "end_time": "2025-03-01T07:14:52.379771Z",
     "start_time": "2025-03-01T07:14:52.352390Z"
    }
   },
   "id": "250ca3ab3bdca0a6"
  },
  {
   "cell_type": "code",
   "execution_count": 16,
   "outputs": [
    {
     "data": {
      "text/plain": "      RRT_5    UV_0.1    UV_0.2    UV_0.3    UV_0.4    UV_0.5\n0  1.558794  2.187407  1.615507  1.372917  1.233864  1.141131\n1  1.126128  2.185099  1.613802  1.371468  1.231635  1.141131\n2  1.127882  2.182472  1.612589  1.369820  1.230896  1.139759\n3  1.198107  2.190388  1.612589  1.374788  1.238794  1.139759\n4  1.224475  2.198417  1.623638  1.379827  1.240074  1.148086\n5  1.159793  2.188813  1.616545  1.372140  1.233166  1.139588\n6  1.201420  2.182227  1.611681  1.369666  1.230942  1.139631\n7  1.354658  2.182145  1.611621  1.369614  1.230942  1.139588\n8  1.080272  2.184194  1.612589  1.370901  1.231635  1.140658\n9  1.150893  2.182472  1.611863  1.369820  1.231080  1.139759",
      "text/html": "<div>\n<style scoped>\n    .dataframe tbody tr th:only-of-type {\n        vertical-align: middle;\n    }\n\n    .dataframe tbody tr th {\n        vertical-align: top;\n    }\n\n    .dataframe thead th {\n        text-align: right;\n    }\n</style>\n<table border=\"1\" class=\"dataframe\">\n  <thead>\n    <tr style=\"text-align: right;\">\n      <th></th>\n      <th>RRT_5</th>\n      <th>UV_0.1</th>\n      <th>UV_0.2</th>\n      <th>UV_0.3</th>\n      <th>UV_0.4</th>\n      <th>UV_0.5</th>\n    </tr>\n  </thead>\n  <tbody>\n    <tr>\n      <th>0</th>\n      <td>1.558794</td>\n      <td>2.187407</td>\n      <td>1.615507</td>\n      <td>1.372917</td>\n      <td>1.233864</td>\n      <td>1.141131</td>\n    </tr>\n    <tr>\n      <th>1</th>\n      <td>1.126128</td>\n      <td>2.185099</td>\n      <td>1.613802</td>\n      <td>1.371468</td>\n      <td>1.231635</td>\n      <td>1.141131</td>\n    </tr>\n    <tr>\n      <th>2</th>\n      <td>1.127882</td>\n      <td>2.182472</td>\n      <td>1.612589</td>\n      <td>1.369820</td>\n      <td>1.230896</td>\n      <td>1.139759</td>\n    </tr>\n    <tr>\n      <th>3</th>\n      <td>1.198107</td>\n      <td>2.190388</td>\n      <td>1.612589</td>\n      <td>1.374788</td>\n      <td>1.238794</td>\n      <td>1.139759</td>\n    </tr>\n    <tr>\n      <th>4</th>\n      <td>1.224475</td>\n      <td>2.198417</td>\n      <td>1.623638</td>\n      <td>1.379827</td>\n      <td>1.240074</td>\n      <td>1.148086</td>\n    </tr>\n    <tr>\n      <th>5</th>\n      <td>1.159793</td>\n      <td>2.188813</td>\n      <td>1.616545</td>\n      <td>1.372140</td>\n      <td>1.233166</td>\n      <td>1.139588</td>\n    </tr>\n    <tr>\n      <th>6</th>\n      <td>1.201420</td>\n      <td>2.182227</td>\n      <td>1.611681</td>\n      <td>1.369666</td>\n      <td>1.230942</td>\n      <td>1.139631</td>\n    </tr>\n    <tr>\n      <th>7</th>\n      <td>1.354658</td>\n      <td>2.182145</td>\n      <td>1.611621</td>\n      <td>1.369614</td>\n      <td>1.230942</td>\n      <td>1.139588</td>\n    </tr>\n    <tr>\n      <th>8</th>\n      <td>1.080272</td>\n      <td>2.184194</td>\n      <td>1.612589</td>\n      <td>1.370901</td>\n      <td>1.231635</td>\n      <td>1.140658</td>\n    </tr>\n    <tr>\n      <th>9</th>\n      <td>1.150893</td>\n      <td>2.182472</td>\n      <td>1.611863</td>\n      <td>1.369820</td>\n      <td>1.231080</td>\n      <td>1.139759</td>\n    </tr>\n  </tbody>\n</table>\n</div>"
     },
     "execution_count": 16,
     "metadata": {},
     "output_type": "execute_result"
    }
   ],
   "source": [
    "# Columns: \n",
    "# RRT_c: RRT with external randomization N(0, (c*sd_y)^2)\n",
    "# UV_k: UV decomposition with gamma = k\n",
    "# Rows: Each row correspond to one round of simulation\n",
    "pd.DataFrame(length_dict_fig2)"
   ],
   "metadata": {
    "collapsed": false,
    "ExecuteTime": {
     "end_time": "2025-03-01T07:15:06.055488Z",
     "start_time": "2025-03-01T07:15:06.015173Z"
    }
   },
   "id": "ed46cebfb74768c5"
  },
  {
   "cell_type": "code",
   "execution_count": 25,
   "outputs": [
    {
     "data": {
      "text/plain": "      RRT_5    UV_0.1    UV_0.2    UV_0.3    UV_0.4    UV_0.5\n0  5.566277  6.197180  5.947831  6.368900  6.460045  5.683047\n1  4.974627  5.633572  5.921626  4.880301  5.802277  5.294574\n2  5.499563  5.056115  4.981590  4.379431  5.041790  4.714836\n3  5.225961  6.353509  5.849111  5.326090  6.001651  6.662719\n4  3.841301  4.041951  3.979362  3.910499  4.292812  4.210228\n5  6.383730  5.062984  5.509599  5.198781  5.320254  5.312965\n6  5.153889  5.199020  5.191249  5.203030  4.993004  4.987964\n7  5.384967  4.792183  4.881619  5.062421  5.060985  5.218473\n8  5.463331  5.692806  5.748467  5.602949  6.097488  5.883444\n9  5.073964  5.342965  5.490840  5.407444  5.172248  4.747513",
      "text/html": "<div>\n<style scoped>\n    .dataframe tbody tr th:only-of-type {\n        vertical-align: middle;\n    }\n\n    .dataframe tbody tr th {\n        vertical-align: top;\n    }\n\n    .dataframe thead th {\n        text-align: right;\n    }\n</style>\n<table border=\"1\" class=\"dataframe\">\n  <thead>\n    <tr style=\"text-align: right;\">\n      <th></th>\n      <th>RRT_5</th>\n      <th>UV_0.1</th>\n      <th>UV_0.2</th>\n      <th>UV_0.3</th>\n      <th>UV_0.4</th>\n      <th>UV_0.5</th>\n    </tr>\n  </thead>\n  <tbody>\n    <tr>\n      <th>0</th>\n      <td>5.566277</td>\n      <td>6.197180</td>\n      <td>5.947831</td>\n      <td>6.368900</td>\n      <td>6.460045</td>\n      <td>5.683047</td>\n    </tr>\n    <tr>\n      <th>1</th>\n      <td>4.974627</td>\n      <td>5.633572</td>\n      <td>5.921626</td>\n      <td>4.880301</td>\n      <td>5.802277</td>\n      <td>5.294574</td>\n    </tr>\n    <tr>\n      <th>2</th>\n      <td>5.499563</td>\n      <td>5.056115</td>\n      <td>4.981590</td>\n      <td>4.379431</td>\n      <td>5.041790</td>\n      <td>4.714836</td>\n    </tr>\n    <tr>\n      <th>3</th>\n      <td>5.225961</td>\n      <td>6.353509</td>\n      <td>5.849111</td>\n      <td>5.326090</td>\n      <td>6.001651</td>\n      <td>6.662719</td>\n    </tr>\n    <tr>\n      <th>4</th>\n      <td>3.841301</td>\n      <td>4.041951</td>\n      <td>3.979362</td>\n      <td>3.910499</td>\n      <td>4.292812</td>\n      <td>4.210228</td>\n    </tr>\n    <tr>\n      <th>5</th>\n      <td>6.383730</td>\n      <td>5.062984</td>\n      <td>5.509599</td>\n      <td>5.198781</td>\n      <td>5.320254</td>\n      <td>5.312965</td>\n    </tr>\n    <tr>\n      <th>6</th>\n      <td>5.153889</td>\n      <td>5.199020</td>\n      <td>5.191249</td>\n      <td>5.203030</td>\n      <td>4.993004</td>\n      <td>4.987964</td>\n    </tr>\n    <tr>\n      <th>7</th>\n      <td>5.384967</td>\n      <td>4.792183</td>\n      <td>4.881619</td>\n      <td>5.062421</td>\n      <td>5.060985</td>\n      <td>5.218473</td>\n    </tr>\n    <tr>\n      <th>8</th>\n      <td>5.463331</td>\n      <td>5.692806</td>\n      <td>5.748467</td>\n      <td>5.602949</td>\n      <td>6.097488</td>\n      <td>5.883444</td>\n    </tr>\n    <tr>\n      <th>9</th>\n      <td>5.073964</td>\n      <td>5.342965</td>\n      <td>5.490840</td>\n      <td>5.407444</td>\n      <td>5.172248</td>\n      <td>4.747513</td>\n    </tr>\n  </tbody>\n</table>\n</div>"
     },
     "execution_count": 25,
     "metadata": {},
     "output_type": "execute_result"
    }
   ],
   "source": [
    "# Columns: \n",
    "# RRT_c: RRT with external randomization N(0, (c*sd_y)^2)\n",
    "# UV_k: UV decomposition with gamma = k\n",
    "# Rows: Each row correspond to one round of simulation\n",
    "pd.DataFrame(MSE_dict_fig2)"
   ],
   "metadata": {
    "collapsed": false,
    "ExecuteTime": {
     "end_time": "2025-03-01T06:56:26.893813Z",
     "start_time": "2025-03-01T06:56:26.848240Z"
    }
   },
   "id": "12e6df0dc95ead2f"
  },
  {
   "cell_type": "code",
   "execution_count": 19,
   "outputs": [],
   "source": [
    "cov = np.eye(5) + np.ones((5,5))"
   ],
   "metadata": {
    "collapsed": false,
    "ExecuteTime": {
     "end_time": "2025-03-01T04:45:10.892468Z",
     "start_time": "2025-03-01T04:45:10.856821Z"
    }
   },
   "id": "20c87f9deb7dfc3b"
  },
  {
   "cell_type": "code",
   "execution_count": 20,
   "outputs": [],
   "source": [
    "L = np.linalg.cholesky(np.linalg.inv(cov)).T"
   ],
   "metadata": {
    "collapsed": false,
    "ExecuteTime": {
     "end_time": "2025-03-01T04:45:11.314052Z",
     "start_time": "2025-03-01T04:45:11.308623Z"
    }
   },
   "id": "f548541300a974d1"
  },
  {
   "cell_type": "code",
   "execution_count": 21,
   "outputs": [],
   "source": [
    "X = np.abs(np.random.normal(size=(5,100000)))"
   ],
   "metadata": {
    "collapsed": false,
    "ExecuteTime": {
     "end_time": "2025-03-01T04:45:11.846663Z",
     "start_time": "2025-03-01T04:45:11.835414Z"
    }
   },
   "id": "6bf278272d734bcc"
  },
  {
   "cell_type": "code",
   "execution_count": 23,
   "outputs": [],
   "source": [],
   "metadata": {
    "collapsed": false,
    "ExecuteTime": {
     "end_time": "2025-02-28T21:39:16.238124Z",
     "start_time": "2025-02-28T21:39:16.233693Z"
    }
   },
   "id": "2477325d0ee62814"
  },
  {
   "cell_type": "code",
   "execution_count": 24,
   "outputs": [
    {
     "data": {
      "text/plain": "array([[ 0.91287093, -0.18257419, -0.18257419, -0.18257419, -0.18257419],\n       [ 0.        ,  0.89442719, -0.2236068 , -0.2236068 , -0.2236068 ],\n       [ 0.        ,  0.        ,  0.8660254 , -0.28867513, -0.28867513],\n       [ 0.        ,  0.        ,  0.        ,  0.81649658, -0.40824829],\n       [ 0.        ,  0.        ,  0.        ,  0.        ,  0.70710678]])"
     },
     "execution_count": 24,
     "metadata": {},
     "output_type": "execute_result"
    }
   ],
   "source": [
    "L"
   ],
   "metadata": {
    "collapsed": false,
    "ExecuteTime": {
     "end_time": "2025-02-28T21:39:16.725719Z",
     "start_time": "2025-02-28T21:39:16.717028Z"
    }
   },
   "id": "fe1a42ce389ee0d4"
  },
  {
   "cell_type": "code",
   "execution_count": 25,
   "outputs": [
    {
     "data": {
      "text/plain": "np.float64(-1.6623417197792252)"
     },
     "execution_count": 25,
     "metadata": {},
     "output_type": "execute_result"
    }
   ],
   "source": [
    "np.min(L @ X)"
   ],
   "metadata": {
    "collapsed": false,
    "ExecuteTime": {
     "end_time": "2025-02-28T21:39:25.325323Z",
     "start_time": "2025-02-28T21:39:25.273152Z"
    }
   },
   "id": "1d86f6586a22c9fa"
  },
  {
   "cell_type": "code",
   "execution_count": null,
   "outputs": [],
   "source": [],
   "metadata": {
    "collapsed": false
   },
   "id": "ca80794dd1a2b406"
  }
 ],
 "metadata": {
  "kernelspec": {
   "display_name": "Python 3",
   "language": "python",
   "name": "python3"
  },
  "language_info": {
   "codemirror_mode": {
    "name": "ipython",
    "version": 2
   },
   "file_extension": ".py",
   "mimetype": "text/x-python",
   "name": "python",
   "nbconvert_exporter": "python",
   "pygments_lexer": "ipython2",
   "version": "2.7.6"
  }
 },
 "nbformat": 4,
 "nbformat_minor": 5
}
