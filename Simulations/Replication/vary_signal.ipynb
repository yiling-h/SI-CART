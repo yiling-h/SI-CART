{
 "cells": [
  {
   "cell_type": "code",
   "execution_count": 1,
   "outputs": [],
   "source": [
    "import sys, os\n",
    "\n",
    "import pandas as pd\n",
    "\n",
    "from CART import RegressionTree\n",
    "from Utils.plotting import  *\n",
    "from scipy.stats import norm as ndist\n",
    "import joblib\n",
    "\n",
    "# For tree-values\n",
    "import rpy2.robjects.packages as rpackages\n",
    "from rpy2.robjects.vectors import StrVector\n",
    "\n",
    "# Select a CRAN mirror to download from\n",
    "utils = rpackages.importr('utils')\n",
    "utils.chooseCRANmirror(ind=1)  # Select the first mirror\n",
    "\n",
    "# Install 'remotes' if it's not already installed\n",
    "if not rpackages.isinstalled('remotes'):\n",
    "    utils.install_packages(StrVector(('remotes',)))\n",
    "\n",
    "import rpy2.robjects as ro\n",
    "\n",
    "from rpy2.robjects.packages import importr\n",
    "from rpy2.robjects import pandas2ri\n",
    "from rpy2.robjects import numpy2ri"
   ],
   "metadata": {
    "collapsed": false,
    "ExecuteTime": {
     "end_time": "2024-12-22T01:01:24.370230Z",
     "start_time": "2024-12-22T01:01:22.790663Z"
    }
   },
   "id": "925fc0d7d600fc42"
  },
  {
   "cell_type": "code",
   "execution_count": 2,
   "outputs": [
    {
     "name": "stderr",
     "output_type": "stream",
     "text": [
      "R[write to console]: Using GitHub PAT from the git credential store.\n",
      "\n",
      "R[write to console]: Skipping install of 'treevalues' from a github remote, the SHA1 (55573782) has not changed since last install.\n",
      "  Use `force = TRUE` to force installation\n",
      "\n"
     ]
    }
   ],
   "source": [
    "# Run the GitHub installation command for 'treevalues'\n",
    "ro.r('remotes::install_github(\"anna-neufeld/treevalues\")')\n",
    "ro.r('library(treevalues)')\n",
    "ro.r('library(rpart)')"
   ],
   "metadata": {
    "collapsed": false,
    "ExecuteTime": {
     "end_time": "2024-12-22T01:01:24.841611Z",
     "start_time": "2024-12-22T01:01:24.371162Z"
    }
   },
   "id": "847edcf257b6ffb7"
  },
  {
   "cell_type": "code",
   "execution_count": 3,
   "outputs": [],
   "source": [
    "def generate_test(mu, sd_y, laplace=False):\n",
    "    n = mu.shape[0]\n",
    "    if not laplace:\n",
    "        return mu + np.random.normal(size=(n,), scale=sd_y)\n",
    "    else:\n",
    "        return mu + np.random.laplace(0, sd_y/np.sqrt(2), n)"
   ],
   "metadata": {
    "collapsed": false,
    "ExecuteTime": {
     "end_time": "2024-12-22T01:01:24.846997Z",
     "start_time": "2024-12-22T01:01:24.842688Z"
    }
   },
   "id": "bc7d4edd437643d1"
  },
  {
   "cell_type": "markdown",
   "source": [
    "# Tree-values inference"
   ],
   "metadata": {
    "collapsed": false
   },
   "id": "9863df6b8c2679f6"
  },
  {
   "cell_type": "code",
   "execution_count": 4,
   "outputs": [],
   "source": [
    "def tree_values_inference(X, y, mu, sd_y, max_depth=5, level=0.1,\n",
    "                          X_test=None):\n",
    "    # Convert the NumPy matrix to an R matrix\n",
    "    X_r = numpy2ri.py2rpy(X)\n",
    "    y_r = numpy2ri.py2rpy(y)\n",
    "\n",
    "    # Assign the R matrix to a variable in the R environment (optional)\n",
    "    ro.globalenv['X_r'] = X_r\n",
    "    ro.globalenv['y_r'] = y_r\n",
    "    ro.globalenv['p'] = X.shape[1]\n",
    "\n",
    "    # Construct dataset\n",
    "    ro.r('data <- cbind(y_r, X_r)')\n",
    "    # Set the column names to \"y\", \"x1\", \"x2\", ..., \"x10\"\n",
    "    ro.r('colnames(data) <- c(\"y\", paste0(\"x\", 1:p))')\n",
    "    ro.r('data = data.frame(data)')\n",
    "\n",
    "    # Define the rpart tree model\n",
    "    tree_cmd = ('bls.tree <- rpart(y ~ ., data=data, model = TRUE, ' +\n",
    "                'control = rpart.control(cp=0.00, minsplit = 25, minbucket = 10, maxdepth=') + str(max_depth) + '))'\n",
    "    ro.r(tree_cmd)\n",
    "    bls_tree = ro.r('bls.tree')\n",
    "    # Plot the tree values (this will plot directly if you have a plotting backend set up)\n",
    "    # ro.r('treeval.plot(bls.tree, inferenceType=0)')\n",
    "\n",
    "    # ro.r('print(row.names(bls.tree$frame)[bls.tree$frame$var == \"<leaf>\"])')\n",
    "    ro.r('leaf_idx <- (row.names(bls.tree$frame)[bls.tree$frame$var == \"<leaf>\"])')\n",
    "    leaf_idx = ro.r['leaf_idx']\n",
    "\n",
    "    # Get node mapping\n",
    "    ro.r('idx_full <- 1:nrow(bls.tree$frame)')\n",
    "    ro.r('mapped_idx <- idx_full[bls.tree$frame$var == \"<leaf>\"]')\n",
    "\n",
    "    len = []\n",
    "    coverage = []\n",
    "\n",
    "    for i, idx in enumerate(leaf_idx):\n",
    "        # Get the branch information for a specific branch in the tree\n",
    "        command = 'branch <- getBranch(bls.tree, ' + str(idx) + ')'\n",
    "        ro.r(command)\n",
    "        # Perform branch inference\n",
    "        ro.r(f'result <- branchInference(bls.tree, branch, type=\"reg\", alpha = 0.10, sigma_y={sd_y})')\n",
    "        # Get confidence intervals\n",
    "        confint = ro.r('result$confint')\n",
    "        len.append(confint[1] - confint[0])\n",
    "\n",
    "        target_cmd = \"contrast <- (bls.tree$where == mapped_idx[\" + str(i + 1) + \"])\"\n",
    "        ro.r(target_cmd)\n",
    "        contrast = ro.r('contrast')\n",
    "        contrast = np.array(contrast)\n",
    "\n",
    "        contrast = np.array(contrast * 1 / np.sum(contrast))\n",
    "\n",
    "        target = contrast.dot(mu)\n",
    "        coverage.append(target >= confint[0] and target <= confint[1])\n",
    "\n",
    "    if X_test is not None:\n",
    "        X_test_r = numpy2ri.py2rpy(X_test)\n",
    "        ro.globalenv['X_test_r'] = X_test_r\n",
    "        ro.r('pred <- predict(bls.tree, data = X_test_r)')\n",
    "        pred = ro.r['pred']\n",
    "    else:\n",
    "        pred = None\n",
    "\n",
    "    return (np.mean(coverage), np.mean(len), pred)"
   ],
   "metadata": {
    "collapsed": false,
    "ExecuteTime": {
     "end_time": "2024-12-22T01:01:25.867033Z",
     "start_time": "2024-12-22T01:01:25.862809Z"
    }
   },
   "id": "a738f8e9052071d5"
  },
  {
   "cell_type": "markdown",
   "source": [
    "# Inference with UV"
   ],
   "metadata": {
    "collapsed": false
   },
   "id": "8b36b799aee1554e"
  },
  {
   "cell_type": "code",
   "execution_count": 5,
   "outputs": [],
   "source": [
    "def UV_decomposition(X, y, mu, sd_y,\n",
    "                     max_depth=5, min_prop=0, min_sample=10, min_bucket=5,\n",
    "                     level=0.1, gamma=1,\n",
    "                     X_test=None):\n",
    "    n = X.shape[0]\n",
    "    W = np.random.normal(loc=0, scale=sd_y * np.sqrt(gamma), size=(n,))\n",
    "    U = y + W\n",
    "    V = y - W / gamma\n",
    "    sd_V = sd_y * np.sqrt(1 + 1 / gamma)\n",
    "    reg_tree = RegressionTree(min_samples_split=min_sample, max_depth=max_depth,\n",
    "                              min_proportion=min_prop, min_bucket=min_bucket)\n",
    "    reg_tree.fit(X, U, sd=0)\n",
    "\n",
    "    coverage = []\n",
    "    lengths = []\n",
    "\n",
    "    for node in reg_tree.terminal_nodes:\n",
    "        contrast = node.membership\n",
    "\n",
    "        contrast = np.array(contrast * 1 / np.sum(contrast))\n",
    "\n",
    "        target = contrast.dot(mu)\n",
    "\n",
    "        # Naive after tree value\n",
    "        # Confidence intervals\n",
    "        CI = [contrast.dot(V) -\n",
    "              np.linalg.norm(contrast) * sd_V * ndist.ppf(1 - level / 2),\n",
    "              contrast.dot(V) +\n",
    "              np.linalg.norm(contrast) * sd_V * ndist.ppf(1 - level / 2)]\n",
    "        coverage.append((target >= CI[0] and target <= CI[1]))\n",
    "        lengths.append(CI[1] - CI[0])\n",
    "\n",
    "    if X_test is not None:\n",
    "        pred = reg_tree.predict(X_test)\n",
    "    else:\n",
    "        pred = None\n",
    "\n",
    "    return coverage, lengths, pred"
   ],
   "metadata": {
    "collapsed": false,
    "ExecuteTime": {
     "end_time": "2024-12-22T01:01:26.608290Z",
     "start_time": "2024-12-22T01:01:26.604108Z"
    }
   },
   "id": "237d786851c79f2c"
  },
  {
   "cell_type": "markdown",
   "source": [
    "# RRT inference"
   ],
   "metadata": {
    "collapsed": false
   },
   "id": "897e9c267e2e7040"
  },
  {
   "cell_type": "code",
   "execution_count": 6,
   "outputs": [],
   "source": [
    "def randomized_inference(reg_tree, sd_y, y, mu, level=0.1):\n",
    "    # print(reg_tree.terminal_nodes)\n",
    "    coverage_i = []\n",
    "    lengths_i = []\n",
    "\n",
    "    for node in reg_tree.terminal_nodes:\n",
    "        pval, dist, contrast, norm_contrast, obs_tar, logW, suff, sel_probs \\\n",
    "            = (reg_tree.condl_node_inference(node=node,\n",
    "                                             ngrid=10000,\n",
    "                                             ncoarse=50,\n",
    "                                             grid_w_const=5,\n",
    "                                             reduced_dim=1,\n",
    "                                             sd=sd_y,\n",
    "                                             use_cvxpy=True))\n",
    "        target = contrast.dot(mu)\n",
    "\n",
    "        # This is an interval for\n",
    "        # eta_*'mu = eta'mu / (norm(eta) * sd_y)\n",
    "        selective_CI = (dist.equal_tailed_interval(observed=norm_contrast.dot(y),\n",
    "                                                   alpha=level))\n",
    "        selective_CI = np.array(selective_CI)\n",
    "        selective_CI *= np.linalg.norm(contrast) * sd_y\n",
    "        coverage_i.append((target >= selective_CI[0] and target <= selective_CI[1]))\n",
    "        lengths_i.append(selective_CI[1] - selective_CI[0])\n",
    "\n",
    "    return coverage_i, lengths_i"
   ],
   "metadata": {
    "collapsed": false,
    "ExecuteTime": {
     "end_time": "2024-12-22T01:01:27.238720Z",
     "start_time": "2024-12-22T01:01:27.233671Z"
    }
   },
   "id": "444564d76e13251e"
  },
  {
   "cell_type": "markdown",
   "source": [
    "# Replicating figure 3"
   ],
   "metadata": {
    "collapsed": false
   },
   "id": "d7e3a530dab61f0b"
  },
  {
   "cell_type": "code",
   "execution_count": 7,
   "outputs": [],
   "source": [
    "def vary_signal_sim(n=50, p=5, sd_y_list=[1, 2, 5, 10], noise_sd=1,\n",
    "                    start=0, end=100, level=0.1, path=None):\n",
    "    oper_char = {}\n",
    "    oper_char[\"Coverage Rate\"] = []\n",
    "    oper_char[\"Length\"] = []\n",
    "    oper_char[\"MSE\"] = []\n",
    "    oper_char[\"Method\"] = []\n",
    "    oper_char[\"SD(Y)\"] = []\n",
    "    # oper_char[\"a\"] = []\n",
    "    # oper_char[\"b\"] = []\n",
    "    a = 1\n",
    "    b = 2\n",
    "\n",
    "    # for ab_prod in itertools.product(a_list, b_list):\n",
    "    # a = ab_prod[0]\n",
    "    # b = ab_prod[1]\n",
    "    for i in range(start, end):\n",
    "        for sd_y in sd_y_list:\n",
    "            print(i, \"th simulation\")\n",
    "            np.random.seed(i + 1000)\n",
    "            X = np.random.normal(size=(n, p))\n",
    "\n",
    "            mu = b * ((X[:, 0] <= 0) * (1 + a * (X[:, 1] > 0) + (X[:, 2] * X[:, 1] <= 0)))\n",
    "            y = mu + np.random.normal(size=(n,), scale=sd_y)\n",
    "            y_test = generate_test(mu, sd_y)\n",
    "\n",
    "            # Create and train the regression tree\n",
    "            reg_tree = RegressionTree(min_samples_split=50, max_depth=3,\n",
    "                                      min_proportion=0., min_bucket=20)\n",
    "            reg_tree.fit(X, y, sd=noise_sd * sd_y)\n",
    "\n",
    "            # RRT Inference\n",
    "            coverage_i, lengths_i = randomized_inference(reg_tree=reg_tree,\n",
    "                                                         y=y, sd_y=sd_y, mu=mu,\n",
    "                                                         level=level)\n",
    "            pred_test = reg_tree.predict(X)\n",
    "            MSE_test = (np.mean((y_test - pred_test) ** 2))\n",
    "            # Record results\n",
    "            oper_char[\"Coverage Rate\"].append(np.mean(coverage_i))\n",
    "            oper_char[\"Length\"].append(np.mean(lengths_i))\n",
    "            oper_char[\"MSE\"].append(MSE_test)\n",
    "            oper_char[\"Method\"].append(\"RRT\")\n",
    "            oper_char[\"SD(Y)\"].append(sd_y)\n",
    "            # oper_char[\"a\"].append(a)\n",
    "            # oper_char[\"b\"].append(b)\n",
    "\n",
    "            # Tree value & naive inference & prediction\n",
    "            (coverage_treeval, avg_len_treeval,\n",
    "             pred_test_treeval) = tree_values_inference(X, y, mu, sd_y=sd_y,\n",
    "                                                        X_test=X, max_depth=3)\n",
    "            MSE_test_treeval = (np.mean((y_test - pred_test_treeval) ** 2))\n",
    "\n",
    "            oper_char[\"Coverage Rate\"].append(coverage_treeval)\n",
    "            oper_char[\"Length\"].append(avg_len_treeval)\n",
    "            oper_char[\"MSE\"].append(MSE_test_treeval)\n",
    "            oper_char[\"Method\"].append(\"Tree-Values\")\n",
    "            oper_char[\"SD(Y)\"].append(sd_y)\n",
    "            # oper_char[\"a\"].append(a)\n",
    "            # oper_char[\"b\"].append(b)\n",
    "\n",
    "            # UV decomposition\n",
    "            coverage_UV, len_UV, pred_UV = UV_decomposition(X, y, mu, sd_y, X_test=X,\n",
    "                                                            min_prop=0., max_depth=3,\n",
    "                                                            min_sample=50, min_bucket=20,\n",
    "                                                            gamma=0.1)\n",
    "\n",
    "            MSE_test_UV = (np.mean((y_test - pred_UV) ** 2))\n",
    "\n",
    "            oper_char[\"Coverage Rate\"].append(np.mean(coverage_UV))\n",
    "            oper_char[\"Length\"].append(np.mean(len_UV))\n",
    "            oper_char[\"MSE\"].append(MSE_test_UV)\n",
    "            oper_char[\"Method\"].append(\"UV(0.1)\")\n",
    "            oper_char[\"SD(Y)\"].append(sd_y)\n",
    "\n",
    "        if path is not None:\n",
    "            joblib.dump(oper_char, path)\n",
    "\n",
    "    return oper_char"
   ],
   "metadata": {
    "collapsed": false,
    "ExecuteTime": {
     "end_time": "2024-12-22T01:01:28.612558Z",
     "start_time": "2024-12-22T01:01:28.608565Z"
    }
   },
   "id": "d4cf22e3bd4ac9b6"
  },
  {
   "cell_type": "code",
   "execution_count": 8,
   "outputs": [
    {
     "name": "stdout",
     "output_type": "stream",
     "text": [
      "0 th simulation\n"
     ]
    },
    {
     "name": "stderr",
     "output_type": "stream",
     "text": [
      "/Users/yilingh/Desktop/PhD/SI_Codes/SI-CART/Utils/discrete_family.py:148: RuntimeWarning: overflow encountered in exp\n",
      "  self._partition *= np.exp(_largest)\n"
     ]
    },
    {
     "name": "stdout",
     "output_type": "stream",
     "text": [
      "0 th simulation\n",
      "0 th simulation\n",
      "0 th simulation\n",
      "1 th simulation\n"
     ]
    },
    {
     "name": "stderr",
     "output_type": "stream",
     "text": [
      "/Users/yilingh/Desktop/PhD/SI_Codes/SI-CART/Utils/discrete_family.py:148: RuntimeWarning: overflow encountered in scalar multiply\n",
      "  self._partition *= np.exp(_largest)\n"
     ]
    },
    {
     "name": "stdout",
     "output_type": "stream",
     "text": [
      "1 th simulation\n",
      "1 th simulation\n",
      "1 th simulation\n",
      "2 th simulation\n",
      "2 th simulation\n",
      "2 th simulation\n",
      "2 th simulation\n"
     ]
    }
   ],
   "source": [
    "oper_char_gaussian = vary_signal_sim(n=200, p=10, sd_y_list=[1,2,5,10], noise_sd=1,\n",
    "                                     start=0, end=3, level=0.1, path=None)"
   ],
   "metadata": {
    "collapsed": false,
    "ExecuteTime": {
     "end_time": "2024-12-22T01:08:58.752186Z",
     "start_time": "2024-12-22T01:01:29.493142Z"
    }
   },
   "id": "6cc06001c0cdfc02"
  },
  {
   "cell_type": "code",
   "execution_count": 12,
   "outputs": [
    {
     "data": {
      "text/plain": "    Coverage Rate      Length         MSE       Method  SD(Y)\n0        0.857143    1.193855    1.162283          RRT      1\n1        1.000000    1.036570    1.107326  Tree-Values      1\n2        0.833333    1.993124    1.539952      UV(0.1)      1\n3        0.857143    4.407155    4.396477          RRT      2\n4        1.000000    2.756173    4.470479  Tree-Values      2\n5        1.000000    4.231641    4.779010      UV(0.1)      2\n6        1.000000    5.881864   28.793698          RRT      5\n7        1.000000   26.207217   29.723389  Tree-Values      5\n8        1.000000    9.775439   29.910822      UV(0.1)      5\n9        0.833333   20.759194  111.191748          RRT     10\n10       1.000000   39.619404  111.886028  Tree-Values     10\n11       1.000000   19.321021  109.959190      UV(0.1)     10\n12       0.833333    1.251484    1.164659          RRT      1\n13       0.875000    1.221723    1.101945  Tree-Values      1\n14       1.000000    1.964369    1.200266      UV(0.1)      1\n15       0.833333    2.370346    4.286183          RRT      2\n16       0.875000    2.754767    4.448000  Tree-Values      2\n17       1.000000    3.905449    4.374879      UV(0.1)      2\n18       1.000000    6.122786   28.791132          RRT      5\n19       0.428571  244.820239   28.754336  Tree-Values      5\n20       0.800000    8.966437   28.184437      UV(0.1)      5\n21       1.000000   19.389554  109.511462          RRT     10\n22       1.000000   63.399508  123.267048  Tree-Values     10\n23       0.666667   19.631301  111.053921      UV(0.1)     10\n24       0.833333    0.981813    1.556576          RRT      1\n25       0.875000    1.456839    1.120560  Tree-Values      1\n26       0.833333    1.923826    1.315438      UV(0.1)      1\n27       1.000000    2.031667    4.877949          RRT      2\n28       0.857143   10.309464    5.252978  Tree-Values      2\n29       0.500000    3.861989    5.281533      UV(0.1)      2\n30       0.600000    3.897665   31.462591          RRT      5\n31       0.857143   86.405064   29.955679  Tree-Values      5\n32       0.833333    9.775381   26.348903      UV(0.1)      5\n33       1.000000   12.247326  116.667590          RRT     10\n34       0.875000  165.871081  126.068265  Tree-Values     10\n35       1.000000   17.526594  112.153938      UV(0.1)     10",
      "text/html": "<div>\n<style scoped>\n    .dataframe tbody tr th:only-of-type {\n        vertical-align: middle;\n    }\n\n    .dataframe tbody tr th {\n        vertical-align: top;\n    }\n\n    .dataframe thead th {\n        text-align: right;\n    }\n</style>\n<table border=\"1\" class=\"dataframe\">\n  <thead>\n    <tr style=\"text-align: right;\">\n      <th></th>\n      <th>Coverage Rate</th>\n      <th>Length</th>\n      <th>MSE</th>\n      <th>Method</th>\n      <th>SD(Y)</th>\n    </tr>\n  </thead>\n  <tbody>\n    <tr>\n      <th>0</th>\n      <td>0.857143</td>\n      <td>1.193855</td>\n      <td>1.162283</td>\n      <td>RRT</td>\n      <td>1</td>\n    </tr>\n    <tr>\n      <th>1</th>\n      <td>1.000000</td>\n      <td>1.036570</td>\n      <td>1.107326</td>\n      <td>Tree-Values</td>\n      <td>1</td>\n    </tr>\n    <tr>\n      <th>2</th>\n      <td>0.833333</td>\n      <td>1.993124</td>\n      <td>1.539952</td>\n      <td>UV(0.1)</td>\n      <td>1</td>\n    </tr>\n    <tr>\n      <th>3</th>\n      <td>0.857143</td>\n      <td>4.407155</td>\n      <td>4.396477</td>\n      <td>RRT</td>\n      <td>2</td>\n    </tr>\n    <tr>\n      <th>4</th>\n      <td>1.000000</td>\n      <td>2.756173</td>\n      <td>4.470479</td>\n      <td>Tree-Values</td>\n      <td>2</td>\n    </tr>\n    <tr>\n      <th>5</th>\n      <td>1.000000</td>\n      <td>4.231641</td>\n      <td>4.779010</td>\n      <td>UV(0.1)</td>\n      <td>2</td>\n    </tr>\n    <tr>\n      <th>6</th>\n      <td>1.000000</td>\n      <td>5.881864</td>\n      <td>28.793698</td>\n      <td>RRT</td>\n      <td>5</td>\n    </tr>\n    <tr>\n      <th>7</th>\n      <td>1.000000</td>\n      <td>26.207217</td>\n      <td>29.723389</td>\n      <td>Tree-Values</td>\n      <td>5</td>\n    </tr>\n    <tr>\n      <th>8</th>\n      <td>1.000000</td>\n      <td>9.775439</td>\n      <td>29.910822</td>\n      <td>UV(0.1)</td>\n      <td>5</td>\n    </tr>\n    <tr>\n      <th>9</th>\n      <td>0.833333</td>\n      <td>20.759194</td>\n      <td>111.191748</td>\n      <td>RRT</td>\n      <td>10</td>\n    </tr>\n    <tr>\n      <th>10</th>\n      <td>1.000000</td>\n      <td>39.619404</td>\n      <td>111.886028</td>\n      <td>Tree-Values</td>\n      <td>10</td>\n    </tr>\n    <tr>\n      <th>11</th>\n      <td>1.000000</td>\n      <td>19.321021</td>\n      <td>109.959190</td>\n      <td>UV(0.1)</td>\n      <td>10</td>\n    </tr>\n    <tr>\n      <th>12</th>\n      <td>0.833333</td>\n      <td>1.251484</td>\n      <td>1.164659</td>\n      <td>RRT</td>\n      <td>1</td>\n    </tr>\n    <tr>\n      <th>13</th>\n      <td>0.875000</td>\n      <td>1.221723</td>\n      <td>1.101945</td>\n      <td>Tree-Values</td>\n      <td>1</td>\n    </tr>\n    <tr>\n      <th>14</th>\n      <td>1.000000</td>\n      <td>1.964369</td>\n      <td>1.200266</td>\n      <td>UV(0.1)</td>\n      <td>1</td>\n    </tr>\n    <tr>\n      <th>15</th>\n      <td>0.833333</td>\n      <td>2.370346</td>\n      <td>4.286183</td>\n      <td>RRT</td>\n      <td>2</td>\n    </tr>\n    <tr>\n      <th>16</th>\n      <td>0.875000</td>\n      <td>2.754767</td>\n      <td>4.448000</td>\n      <td>Tree-Values</td>\n      <td>2</td>\n    </tr>\n    <tr>\n      <th>17</th>\n      <td>1.000000</td>\n      <td>3.905449</td>\n      <td>4.374879</td>\n      <td>UV(0.1)</td>\n      <td>2</td>\n    </tr>\n    <tr>\n      <th>18</th>\n      <td>1.000000</td>\n      <td>6.122786</td>\n      <td>28.791132</td>\n      <td>RRT</td>\n      <td>5</td>\n    </tr>\n    <tr>\n      <th>19</th>\n      <td>0.428571</td>\n      <td>244.820239</td>\n      <td>28.754336</td>\n      <td>Tree-Values</td>\n      <td>5</td>\n    </tr>\n    <tr>\n      <th>20</th>\n      <td>0.800000</td>\n      <td>8.966437</td>\n      <td>28.184437</td>\n      <td>UV(0.1)</td>\n      <td>5</td>\n    </tr>\n    <tr>\n      <th>21</th>\n      <td>1.000000</td>\n      <td>19.389554</td>\n      <td>109.511462</td>\n      <td>RRT</td>\n      <td>10</td>\n    </tr>\n    <tr>\n      <th>22</th>\n      <td>1.000000</td>\n      <td>63.399508</td>\n      <td>123.267048</td>\n      <td>Tree-Values</td>\n      <td>10</td>\n    </tr>\n    <tr>\n      <th>23</th>\n      <td>0.666667</td>\n      <td>19.631301</td>\n      <td>111.053921</td>\n      <td>UV(0.1)</td>\n      <td>10</td>\n    </tr>\n    <tr>\n      <th>24</th>\n      <td>0.833333</td>\n      <td>0.981813</td>\n      <td>1.556576</td>\n      <td>RRT</td>\n      <td>1</td>\n    </tr>\n    <tr>\n      <th>25</th>\n      <td>0.875000</td>\n      <td>1.456839</td>\n      <td>1.120560</td>\n      <td>Tree-Values</td>\n      <td>1</td>\n    </tr>\n    <tr>\n      <th>26</th>\n      <td>0.833333</td>\n      <td>1.923826</td>\n      <td>1.315438</td>\n      <td>UV(0.1)</td>\n      <td>1</td>\n    </tr>\n    <tr>\n      <th>27</th>\n      <td>1.000000</td>\n      <td>2.031667</td>\n      <td>4.877949</td>\n      <td>RRT</td>\n      <td>2</td>\n    </tr>\n    <tr>\n      <th>28</th>\n      <td>0.857143</td>\n      <td>10.309464</td>\n      <td>5.252978</td>\n      <td>Tree-Values</td>\n      <td>2</td>\n    </tr>\n    <tr>\n      <th>29</th>\n      <td>0.500000</td>\n      <td>3.861989</td>\n      <td>5.281533</td>\n      <td>UV(0.1)</td>\n      <td>2</td>\n    </tr>\n    <tr>\n      <th>30</th>\n      <td>0.600000</td>\n      <td>3.897665</td>\n      <td>31.462591</td>\n      <td>RRT</td>\n      <td>5</td>\n    </tr>\n    <tr>\n      <th>31</th>\n      <td>0.857143</td>\n      <td>86.405064</td>\n      <td>29.955679</td>\n      <td>Tree-Values</td>\n      <td>5</td>\n    </tr>\n    <tr>\n      <th>32</th>\n      <td>0.833333</td>\n      <td>9.775381</td>\n      <td>26.348903</td>\n      <td>UV(0.1)</td>\n      <td>5</td>\n    </tr>\n    <tr>\n      <th>33</th>\n      <td>1.000000</td>\n      <td>12.247326</td>\n      <td>116.667590</td>\n      <td>RRT</td>\n      <td>10</td>\n    </tr>\n    <tr>\n      <th>34</th>\n      <td>0.875000</td>\n      <td>165.871081</td>\n      <td>126.068265</td>\n      <td>Tree-Values</td>\n      <td>10</td>\n    </tr>\n    <tr>\n      <th>35</th>\n      <td>1.000000</td>\n      <td>17.526594</td>\n      <td>112.153938</td>\n      <td>UV(0.1)</td>\n      <td>10</td>\n    </tr>\n  </tbody>\n</table>\n</div>"
     },
     "execution_count": 12,
     "metadata": {},
     "output_type": "execute_result"
    }
   ],
   "source": [
    "# Row: each row is one simulation for one method under one particular value of sd(y)\n",
    "pd.DataFrame(oper_char_gaussian)"
   ],
   "metadata": {
    "collapsed": false,
    "ExecuteTime": {
     "end_time": "2024-12-22T01:09:22.613818Z",
     "start_time": "2024-12-22T01:09:22.599474Z"
    }
   },
   "id": "5ae4b81c7ae24277"
  },
  {
   "cell_type": "markdown",
   "source": [
    "# Replicating Laplace noise simulation"
   ],
   "metadata": {
    "collapsed": false
   },
   "id": "c3a8caea631c56ff"
  },
  {
   "cell_type": "code",
   "execution_count": 13,
   "outputs": [],
   "source": [
    "def vary_signal_sim_laplace(n=50, p=5, sd_y_list=[1, 2, 5, 10], noise_sd=1,\n",
    "                            start=0, end=100, level=0.1, path=None):\n",
    "    oper_char = {}\n",
    "    oper_char[\"Coverage Rate\"] = []\n",
    "    oper_char[\"Length\"] = []\n",
    "    oper_char[\"MSE\"] = []\n",
    "    oper_char[\"Method\"] = []\n",
    "    oper_char[\"SD(Y)\"] = []\n",
    "    # oper_char[\"a\"] = []\n",
    "    # oper_char[\"b\"] = []\n",
    "    a = 1\n",
    "    b = 2\n",
    "\n",
    "    # for ab_prod in itertools.product(a_list, b_list):\n",
    "    # a = ab_prod[0]\n",
    "    # b = ab_prod[1]\n",
    "    for i in range(start, end):\n",
    "        for sd_y in sd_y_list:\n",
    "            print(i, \"th simulation\")\n",
    "            np.random.seed(i + 1000)\n",
    "            X = np.random.normal(size=(n, p))\n",
    "\n",
    "            mu = b * ((X[:, 0] <= 0) * (1 + a * (X[:, 1] > 0) + (X[:, 2] * X[:, 1] <= 0)))\n",
    "            y = mu + np.random.laplace(0, sd_y/np.sqrt(2), n)\n",
    "            y_test = generate_test(mu, sd_y, laplace=True)\n",
    "\n",
    "            # Create and train the regression tree\n",
    "            reg_tree = RegressionTree(min_samples_split=50, max_depth=3,\n",
    "                                      min_proportion=0., min_bucket=20)\n",
    "            reg_tree.fit(X, y, sd=noise_sd * sd_y)\n",
    "\n",
    "            # RRT Inference\n",
    "            coverage_i, lengths_i = randomized_inference(reg_tree=reg_tree,\n",
    "                                                         y=y, sd_y=sd_y, mu=mu,\n",
    "                                                         level=level)\n",
    "            pred_test = reg_tree.predict(X)\n",
    "            MSE_test = (np.mean((y_test - pred_test) ** 2))\n",
    "            # Record results\n",
    "            oper_char[\"Coverage Rate\"].append(np.mean(coverage_i))\n",
    "            oper_char[\"Length\"].append(np.mean(lengths_i))\n",
    "            oper_char[\"MSE\"].append(MSE_test)\n",
    "            oper_char[\"Method\"].append(\"RRT\")\n",
    "            oper_char[\"SD(Y)\"].append(sd_y)\n",
    "            # oper_char[\"a\"].append(a)\n",
    "            # oper_char[\"b\"].append(b)\n",
    "\n",
    "            # Tree value & naive inference & prediction\n",
    "            (coverage_treeval, avg_len_treeval,\n",
    "             pred_test_treeval) = tree_values_inference(X, y, mu, sd_y=sd_y,\n",
    "                                                        X_test=X, max_depth=3)\n",
    "            MSE_test_treeval = (np.mean((y_test - pred_test_treeval) ** 2))\n",
    "\n",
    "            oper_char[\"Coverage Rate\"].append(coverage_treeval)\n",
    "            oper_char[\"Length\"].append(avg_len_treeval)\n",
    "            oper_char[\"MSE\"].append(MSE_test_treeval)\n",
    "            oper_char[\"Method\"].append(\"Tree-Values\")\n",
    "            oper_char[\"SD(Y)\"].append(sd_y)\n",
    "            # oper_char[\"a\"].append(a)\n",
    "            # oper_char[\"b\"].append(b)\n",
    "\n",
    "            # UV decomposition\n",
    "            coverage_UV, len_UV, pred_UV = UV_decomposition(X, y, mu, sd_y, X_test=X,\n",
    "                                                            min_prop=0., max_depth=3,\n",
    "                                                            min_sample=50, min_bucket=20,\n",
    "                                                            gamma=0.1)\n",
    "\n",
    "            MSE_test_UV = (np.mean((y_test - pred_UV) ** 2))\n",
    "\n",
    "            oper_char[\"Coverage Rate\"].append(np.mean(coverage_UV))\n",
    "            oper_char[\"Length\"].append(np.mean(len_UV))\n",
    "            oper_char[\"MSE\"].append(MSE_test_UV)\n",
    "            oper_char[\"Method\"].append(\"UV(0.1)\")\n",
    "            oper_char[\"SD(Y)\"].append(sd_y)\n",
    "\n",
    "        if path is not None:\n",
    "            joblib.dump(oper_char, path)\n",
    "\n",
    "    return oper_char"
   ],
   "metadata": {
    "collapsed": false,
    "ExecuteTime": {
     "end_time": "2024-12-22T01:09:45.067088Z",
     "start_time": "2024-12-22T01:09:45.055201Z"
    }
   },
   "id": "e051639b2902263a"
  },
  {
   "cell_type": "code",
   "execution_count": 14,
   "outputs": [
    {
     "name": "stdout",
     "output_type": "stream",
     "text": [
      "0 th simulation\n"
     ]
    },
    {
     "name": "stderr",
     "output_type": "stream",
     "text": [
      "/Users/yilingh/Desktop/PhD/SI_Codes/SI-CART/Utils/discrete_family.py:148: RuntimeWarning: overflow encountered in exp\n",
      "  self._partition *= np.exp(_largest)\n"
     ]
    },
    {
     "name": "stdout",
     "output_type": "stream",
     "text": [
      "0 th simulation\n",
      "0 th simulation\n",
      "0 th simulation\n",
      "1 th simulation\n",
      "1 th simulation\n",
      "1 th simulation\n",
      "1 th simulation\n",
      "2 th simulation\n",
      "2 th simulation\n",
      "2 th simulation\n",
      "2 th simulation\n"
     ]
    }
   ],
   "source": [
    "oper_char_laplace = vary_signal_sim_laplace(n=200, p=10, sd_y_list=[1,2,5,10], noise_sd=1,\n",
    "                                            start=0, end=3, level=0.1, path=None)"
   ],
   "metadata": {
    "collapsed": false,
    "ExecuteTime": {
     "end_time": "2024-12-22T01:16:58.901156Z",
     "start_time": "2024-12-22T01:09:45.479859Z"
    }
   },
   "id": "edc76d9397e9216b"
  },
  {
   "cell_type": "code",
   "execution_count": 15,
   "outputs": [
    {
     "data": {
      "text/plain": "    Coverage Rate      Length         MSE       Method  SD(Y)\n0        0.666667    1.054128    1.394262          RRT      1\n1        0.857143    2.472180    1.140945  Tree-Values      1\n2        0.833333    1.964407    1.375792      UV(0.1)      1\n3        0.666667    2.301035    4.741372          RRT      2\n4        0.714286    5.279494    5.301360  Tree-Values      2\n5        0.833333    3.928815    4.780265      UV(0.1)      2\n6        0.833333    6.393425   28.912905          RRT      5\n7        0.857143   13.514989   29.988133  Tree-Values      5\n8        1.000000    8.801118   29.432397      UV(0.1)      5\n9        1.000000   19.799178  110.990800          RRT     10\n10       0.714286  131.047840  120.440185  Tree-Values     10\n11       0.666667   19.248622  117.122360      UV(0.1)     10\n12       0.800000    1.058507    1.678712          RRT      1\n13       0.750000    1.898097    0.858786  Tree-Values      1\n14       0.833333    1.986917    1.107555      UV(0.1)      1\n15       1.000000    2.287461    4.232612          RRT      2\n16       1.000000    2.968700    3.854129  Tree-Values      2\n17       1.000000    3.916470    4.135429      UV(0.1)      2\n18       1.000000    6.388917   23.203776          RRT      5\n19       0.750000   66.785641   24.121248  Tree-Values      5\n20       0.833333    9.745182   23.377865      UV(0.1)      5\n21       1.000000   26.186368   99.789545          RRT     10\n22       0.714286  240.172005   91.911839  Tree-Values     10\n23       1.000000   19.183846  102.874516      UV(0.1)     10\n24       1.000000    1.225457    1.390866          RRT      1\n25       0.857143    1.643881    1.175360  Tree-Values      1\n26       0.500000    1.937969    1.415270      UV(0.1)      1\n27       0.833333    2.580322    4.695902          RRT      2\n28       1.000000    3.871952    4.250625  Tree-Values      2\n29       0.500000    3.887924    4.555714      UV(0.1)      2\n30       0.666667    6.074835   28.445178          RRT      5\n31       1.000000   32.962198   28.096893  Tree-Values      5\n32       0.833333    9.728965   28.434044      UV(0.1)      5\n33       1.000000   17.827623  107.846463          RRT     10\n34       1.000000   24.648672  110.654217  Tree-Values     10\n35       1.000000   17.776909  114.111391      UV(0.1)     10",
      "text/html": "<div>\n<style scoped>\n    .dataframe tbody tr th:only-of-type {\n        vertical-align: middle;\n    }\n\n    .dataframe tbody tr th {\n        vertical-align: top;\n    }\n\n    .dataframe thead th {\n        text-align: right;\n    }\n</style>\n<table border=\"1\" class=\"dataframe\">\n  <thead>\n    <tr style=\"text-align: right;\">\n      <th></th>\n      <th>Coverage Rate</th>\n      <th>Length</th>\n      <th>MSE</th>\n      <th>Method</th>\n      <th>SD(Y)</th>\n    </tr>\n  </thead>\n  <tbody>\n    <tr>\n      <th>0</th>\n      <td>0.666667</td>\n      <td>1.054128</td>\n      <td>1.394262</td>\n      <td>RRT</td>\n      <td>1</td>\n    </tr>\n    <tr>\n      <th>1</th>\n      <td>0.857143</td>\n      <td>2.472180</td>\n      <td>1.140945</td>\n      <td>Tree-Values</td>\n      <td>1</td>\n    </tr>\n    <tr>\n      <th>2</th>\n      <td>0.833333</td>\n      <td>1.964407</td>\n      <td>1.375792</td>\n      <td>UV(0.1)</td>\n      <td>1</td>\n    </tr>\n    <tr>\n      <th>3</th>\n      <td>0.666667</td>\n      <td>2.301035</td>\n      <td>4.741372</td>\n      <td>RRT</td>\n      <td>2</td>\n    </tr>\n    <tr>\n      <th>4</th>\n      <td>0.714286</td>\n      <td>5.279494</td>\n      <td>5.301360</td>\n      <td>Tree-Values</td>\n      <td>2</td>\n    </tr>\n    <tr>\n      <th>5</th>\n      <td>0.833333</td>\n      <td>3.928815</td>\n      <td>4.780265</td>\n      <td>UV(0.1)</td>\n      <td>2</td>\n    </tr>\n    <tr>\n      <th>6</th>\n      <td>0.833333</td>\n      <td>6.393425</td>\n      <td>28.912905</td>\n      <td>RRT</td>\n      <td>5</td>\n    </tr>\n    <tr>\n      <th>7</th>\n      <td>0.857143</td>\n      <td>13.514989</td>\n      <td>29.988133</td>\n      <td>Tree-Values</td>\n      <td>5</td>\n    </tr>\n    <tr>\n      <th>8</th>\n      <td>1.000000</td>\n      <td>8.801118</td>\n      <td>29.432397</td>\n      <td>UV(0.1)</td>\n      <td>5</td>\n    </tr>\n    <tr>\n      <th>9</th>\n      <td>1.000000</td>\n      <td>19.799178</td>\n      <td>110.990800</td>\n      <td>RRT</td>\n      <td>10</td>\n    </tr>\n    <tr>\n      <th>10</th>\n      <td>0.714286</td>\n      <td>131.047840</td>\n      <td>120.440185</td>\n      <td>Tree-Values</td>\n      <td>10</td>\n    </tr>\n    <tr>\n      <th>11</th>\n      <td>0.666667</td>\n      <td>19.248622</td>\n      <td>117.122360</td>\n      <td>UV(0.1)</td>\n      <td>10</td>\n    </tr>\n    <tr>\n      <th>12</th>\n      <td>0.800000</td>\n      <td>1.058507</td>\n      <td>1.678712</td>\n      <td>RRT</td>\n      <td>1</td>\n    </tr>\n    <tr>\n      <th>13</th>\n      <td>0.750000</td>\n      <td>1.898097</td>\n      <td>0.858786</td>\n      <td>Tree-Values</td>\n      <td>1</td>\n    </tr>\n    <tr>\n      <th>14</th>\n      <td>0.833333</td>\n      <td>1.986917</td>\n      <td>1.107555</td>\n      <td>UV(0.1)</td>\n      <td>1</td>\n    </tr>\n    <tr>\n      <th>15</th>\n      <td>1.000000</td>\n      <td>2.287461</td>\n      <td>4.232612</td>\n      <td>RRT</td>\n      <td>2</td>\n    </tr>\n    <tr>\n      <th>16</th>\n      <td>1.000000</td>\n      <td>2.968700</td>\n      <td>3.854129</td>\n      <td>Tree-Values</td>\n      <td>2</td>\n    </tr>\n    <tr>\n      <th>17</th>\n      <td>1.000000</td>\n      <td>3.916470</td>\n      <td>4.135429</td>\n      <td>UV(0.1)</td>\n      <td>2</td>\n    </tr>\n    <tr>\n      <th>18</th>\n      <td>1.000000</td>\n      <td>6.388917</td>\n      <td>23.203776</td>\n      <td>RRT</td>\n      <td>5</td>\n    </tr>\n    <tr>\n      <th>19</th>\n      <td>0.750000</td>\n      <td>66.785641</td>\n      <td>24.121248</td>\n      <td>Tree-Values</td>\n      <td>5</td>\n    </tr>\n    <tr>\n      <th>20</th>\n      <td>0.833333</td>\n      <td>9.745182</td>\n      <td>23.377865</td>\n      <td>UV(0.1)</td>\n      <td>5</td>\n    </tr>\n    <tr>\n      <th>21</th>\n      <td>1.000000</td>\n      <td>26.186368</td>\n      <td>99.789545</td>\n      <td>RRT</td>\n      <td>10</td>\n    </tr>\n    <tr>\n      <th>22</th>\n      <td>0.714286</td>\n      <td>240.172005</td>\n      <td>91.911839</td>\n      <td>Tree-Values</td>\n      <td>10</td>\n    </tr>\n    <tr>\n      <th>23</th>\n      <td>1.000000</td>\n      <td>19.183846</td>\n      <td>102.874516</td>\n      <td>UV(0.1)</td>\n      <td>10</td>\n    </tr>\n    <tr>\n      <th>24</th>\n      <td>1.000000</td>\n      <td>1.225457</td>\n      <td>1.390866</td>\n      <td>RRT</td>\n      <td>1</td>\n    </tr>\n    <tr>\n      <th>25</th>\n      <td>0.857143</td>\n      <td>1.643881</td>\n      <td>1.175360</td>\n      <td>Tree-Values</td>\n      <td>1</td>\n    </tr>\n    <tr>\n      <th>26</th>\n      <td>0.500000</td>\n      <td>1.937969</td>\n      <td>1.415270</td>\n      <td>UV(0.1)</td>\n      <td>1</td>\n    </tr>\n    <tr>\n      <th>27</th>\n      <td>0.833333</td>\n      <td>2.580322</td>\n      <td>4.695902</td>\n      <td>RRT</td>\n      <td>2</td>\n    </tr>\n    <tr>\n      <th>28</th>\n      <td>1.000000</td>\n      <td>3.871952</td>\n      <td>4.250625</td>\n      <td>Tree-Values</td>\n      <td>2</td>\n    </tr>\n    <tr>\n      <th>29</th>\n      <td>0.500000</td>\n      <td>3.887924</td>\n      <td>4.555714</td>\n      <td>UV(0.1)</td>\n      <td>2</td>\n    </tr>\n    <tr>\n      <th>30</th>\n      <td>0.666667</td>\n      <td>6.074835</td>\n      <td>28.445178</td>\n      <td>RRT</td>\n      <td>5</td>\n    </tr>\n    <tr>\n      <th>31</th>\n      <td>1.000000</td>\n      <td>32.962198</td>\n      <td>28.096893</td>\n      <td>Tree-Values</td>\n      <td>5</td>\n    </tr>\n    <tr>\n      <th>32</th>\n      <td>0.833333</td>\n      <td>9.728965</td>\n      <td>28.434044</td>\n      <td>UV(0.1)</td>\n      <td>5</td>\n    </tr>\n    <tr>\n      <th>33</th>\n      <td>1.000000</td>\n      <td>17.827623</td>\n      <td>107.846463</td>\n      <td>RRT</td>\n      <td>10</td>\n    </tr>\n    <tr>\n      <th>34</th>\n      <td>1.000000</td>\n      <td>24.648672</td>\n      <td>110.654217</td>\n      <td>Tree-Values</td>\n      <td>10</td>\n    </tr>\n    <tr>\n      <th>35</th>\n      <td>1.000000</td>\n      <td>17.776909</td>\n      <td>114.111391</td>\n      <td>UV(0.1)</td>\n      <td>10</td>\n    </tr>\n  </tbody>\n</table>\n</div>"
     },
     "execution_count": 15,
     "metadata": {},
     "output_type": "execute_result"
    }
   ],
   "source": [
    "# Row: each row is one simulation for one method under one particular value of sd(y)\n",
    "pd.DataFrame(oper_char_laplace)"
   ],
   "metadata": {
    "collapsed": false,
    "ExecuteTime": {
     "end_time": "2024-12-22T01:18:07.141773Z",
     "start_time": "2024-12-22T01:18:07.114034Z"
    }
   },
   "id": "8f35e6485f7844c4"
  },
  {
   "cell_type": "code",
   "execution_count": null,
   "outputs": [],
   "source": [],
   "metadata": {
    "collapsed": false
   },
   "id": "84308ef82855a8ad"
  }
 ],
 "metadata": {
  "kernelspec": {
   "display_name": "Python 3",
   "language": "python",
   "name": "python3"
  },
  "language_info": {
   "codemirror_mode": {
    "name": "ipython",
    "version": 2
   },
   "file_extension": ".py",
   "mimetype": "text/x-python",
   "name": "python",
   "nbconvert_exporter": "python",
   "pygments_lexer": "ipython2",
   "version": "2.7.6"
  }
 },
 "nbformat": 4,
 "nbformat_minor": 5
}
