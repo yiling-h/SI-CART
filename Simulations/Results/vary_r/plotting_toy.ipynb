{
 "cells": [
  {
   "cell_type": "code",
   "execution_count": 422,
   "id": "initial_id",
   "metadata": {
    "collapsed": true,
    "ExecuteTime": {
     "end_time": "2025-03-26T17:09:46.887247Z",
     "start_time": "2025-03-26T17:09:46.886917Z"
    }
   },
   "outputs": [],
   "source": [
    "import joblib\n",
    "import matplotlib.pyplot as plt\n",
    "import numpy as np\n",
    "import pandas as pd\n",
    "import seaborn as sns"
   ]
  },
  {
   "cell_type": "code",
   "execution_count": 430,
   "outputs": [],
   "source": [
    "n_task_per_file = 20\n",
    "n_files = 10\n",
    "base_dir = \"noise_sd=10/vary_r_noisesd_10.0_\"\n",
    "files_list = []\n",
    "for i in range(n_files):\n",
    "    dir = base_dir + str(i*n_task_per_file) + \"_\"  + str((i+1)*n_task_per_file) + \".pkl\"\n",
    "    files_list.append(dir)"
   ],
   "metadata": {
    "collapsed": false,
    "ExecuteTime": {
     "end_time": "2025-03-26T17:10:03.257814Z",
     "start_time": "2025-03-26T17:10:03.246026Z"
    }
   },
   "id": "15c24ca328824b39"
  },
  {
   "cell_type": "code",
   "execution_count": 431,
   "outputs": [],
   "source": [
    "coverage_df = pd.DataFrame()\n",
    "length_df = pd.DataFrame()\n",
    "MSE_df = pd.DataFrame()\n",
    "\n",
    "for f_dir in files_list:\n",
    "    coverage_i, length_i, MSE_i = joblib.load(f_dir)\n",
    "    coverage_df = pd.concat([coverage_df, pd.DataFrame(coverage_i)])\n",
    "    length_df = pd.concat([length_df, pd.DataFrame(length_i)])\n",
    "    MSE_df = pd.concat([MSE_df, pd.DataFrame(MSE_i)])"
   ],
   "metadata": {
    "collapsed": false,
    "ExecuteTime": {
     "end_time": "2025-03-26T17:10:03.735797Z",
     "start_time": "2025-03-26T17:10:03.701797Z"
    }
   },
   "id": "44ea9729e9ad0ae7"
  },
  {
   "cell_type": "code",
   "execution_count": 432,
   "outputs": [
    {
     "data": {
      "text/plain": "     0.1   0.2       0.3       0.4   0.5   0.6   0.7   0.8\n0   1.00  1.00  1.000000  0.750000  1.00  1.00  1.00  0.75\n1   0.75  1.00  1.000000  0.750000  1.00  1.00  1.00  1.00\n2   1.00  1.00  1.000000  0.500000  1.00  0.50  0.75  1.00\n3   1.00  0.75  1.000000  1.000000  1.00  1.00  1.00  1.00\n4   0.75  0.75  0.750000  0.333333  0.75  0.75  0.75  0.75\n..   ...   ...       ...       ...   ...   ...   ...   ...\n15  1.00  1.00  1.000000  1.000000  1.00  1.00  0.75  1.00\n16  0.75  1.00  1.000000  0.750000  1.00  1.00  1.00  1.00\n17  0.75  0.75  0.333333  0.750000  0.75  0.75  0.50  0.50\n18  0.50  0.50  0.500000  0.250000  0.75  0.50  0.75  1.00\n19  1.00  0.75  1.000000  0.750000  0.50  0.75  1.00  0.50\n\n[200 rows x 8 columns]",
      "text/html": "<div>\n<style scoped>\n    .dataframe tbody tr th:only-of-type {\n        vertical-align: middle;\n    }\n\n    .dataframe tbody tr th {\n        vertical-align: top;\n    }\n\n    .dataframe thead th {\n        text-align: right;\n    }\n</style>\n<table border=\"1\" class=\"dataframe\">\n  <thead>\n    <tr style=\"text-align: right;\">\n      <th></th>\n      <th>0.1</th>\n      <th>0.2</th>\n      <th>0.3</th>\n      <th>0.4</th>\n      <th>0.5</th>\n      <th>0.6</th>\n      <th>0.7</th>\n      <th>0.8</th>\n    </tr>\n  </thead>\n  <tbody>\n    <tr>\n      <th>0</th>\n      <td>1.00</td>\n      <td>1.00</td>\n      <td>1.000000</td>\n      <td>0.750000</td>\n      <td>1.00</td>\n      <td>1.00</td>\n      <td>1.00</td>\n      <td>0.75</td>\n    </tr>\n    <tr>\n      <th>1</th>\n      <td>0.75</td>\n      <td>1.00</td>\n      <td>1.000000</td>\n      <td>0.750000</td>\n      <td>1.00</td>\n      <td>1.00</td>\n      <td>1.00</td>\n      <td>1.00</td>\n    </tr>\n    <tr>\n      <th>2</th>\n      <td>1.00</td>\n      <td>1.00</td>\n      <td>1.000000</td>\n      <td>0.500000</td>\n      <td>1.00</td>\n      <td>0.50</td>\n      <td>0.75</td>\n      <td>1.00</td>\n    </tr>\n    <tr>\n      <th>3</th>\n      <td>1.00</td>\n      <td>0.75</td>\n      <td>1.000000</td>\n      <td>1.000000</td>\n      <td>1.00</td>\n      <td>1.00</td>\n      <td>1.00</td>\n      <td>1.00</td>\n    </tr>\n    <tr>\n      <th>4</th>\n      <td>0.75</td>\n      <td>0.75</td>\n      <td>0.750000</td>\n      <td>0.333333</td>\n      <td>0.75</td>\n      <td>0.75</td>\n      <td>0.75</td>\n      <td>0.75</td>\n    </tr>\n    <tr>\n      <th>...</th>\n      <td>...</td>\n      <td>...</td>\n      <td>...</td>\n      <td>...</td>\n      <td>...</td>\n      <td>...</td>\n      <td>...</td>\n      <td>...</td>\n    </tr>\n    <tr>\n      <th>15</th>\n      <td>1.00</td>\n      <td>1.00</td>\n      <td>1.000000</td>\n      <td>1.000000</td>\n      <td>1.00</td>\n      <td>1.00</td>\n      <td>0.75</td>\n      <td>1.00</td>\n    </tr>\n    <tr>\n      <th>16</th>\n      <td>0.75</td>\n      <td>1.00</td>\n      <td>1.000000</td>\n      <td>0.750000</td>\n      <td>1.00</td>\n      <td>1.00</td>\n      <td>1.00</td>\n      <td>1.00</td>\n    </tr>\n    <tr>\n      <th>17</th>\n      <td>0.75</td>\n      <td>0.75</td>\n      <td>0.333333</td>\n      <td>0.750000</td>\n      <td>0.75</td>\n      <td>0.75</td>\n      <td>0.50</td>\n      <td>0.50</td>\n    </tr>\n    <tr>\n      <th>18</th>\n      <td>0.50</td>\n      <td>0.50</td>\n      <td>0.500000</td>\n      <td>0.250000</td>\n      <td>0.75</td>\n      <td>0.50</td>\n      <td>0.75</td>\n      <td>1.00</td>\n    </tr>\n    <tr>\n      <th>19</th>\n      <td>1.00</td>\n      <td>0.75</td>\n      <td>1.000000</td>\n      <td>0.750000</td>\n      <td>0.50</td>\n      <td>0.75</td>\n      <td>1.00</td>\n      <td>0.50</td>\n    </tr>\n  </tbody>\n</table>\n<p>200 rows × 8 columns</p>\n</div>"
     },
     "execution_count": 432,
     "metadata": {},
     "output_type": "execute_result"
    }
   ],
   "source": [
    "coverage_df"
   ],
   "metadata": {
    "collapsed": false,
    "ExecuteTime": {
     "end_time": "2025-03-26T17:10:04.126484Z",
     "start_time": "2025-03-26T17:10:04.117303Z"
    }
   },
   "id": "6d1f1fad39e063ac"
  },
  {
   "cell_type": "code",
   "execution_count": 433,
   "outputs": [
    {
     "data": {
      "text/plain": "         0.1       0.2       0.3       0.4       0.5       0.6       0.7  \\\n0   2.027833  2.760237  1.888161  2.185874  2.147034  2.044013  2.333848   \n1   2.616675  2.215007  2.335980  2.370133  2.148647  2.056886  2.141994   \n2   1.996876  2.489632  2.308980  2.404283  2.154016  2.122864  2.285592   \n3   2.672461  2.453657  2.207906  2.188502  2.157241  2.166486  1.711940   \n4   2.365412  2.496929  2.522710  2.071600  2.097724  2.285162  2.078588   \n..       ...       ...       ...       ...       ...       ...       ...   \n15  2.450975  2.282379  2.214088  1.832828  2.219469  2.009411  1.890799   \n16  2.463454  2.545424  2.207495  2.345011  2.074111  1.945827  2.175557   \n17  2.349014  2.429599  2.262630  2.370888  2.349494  2.214604  2.034457   \n18  2.520344  2.327088  2.517133  2.549564  2.259455  2.106743  2.164876   \n19  2.492886  2.262824  2.373201  2.152911  2.106316  2.172497  1.836473   \n\n         0.8  \n0   2.084923  \n1   1.997492  \n2   2.045615  \n3   2.222173  \n4   2.031658  \n..       ...  \n15  1.816753  \n16  1.981698  \n17  1.859368  \n18  1.916389  \n19  2.195715  \n\n[200 rows x 8 columns]",
      "text/html": "<div>\n<style scoped>\n    .dataframe tbody tr th:only-of-type {\n        vertical-align: middle;\n    }\n\n    .dataframe tbody tr th {\n        vertical-align: top;\n    }\n\n    .dataframe thead th {\n        text-align: right;\n    }\n</style>\n<table border=\"1\" class=\"dataframe\">\n  <thead>\n    <tr style=\"text-align: right;\">\n      <th></th>\n      <th>0.1</th>\n      <th>0.2</th>\n      <th>0.3</th>\n      <th>0.4</th>\n      <th>0.5</th>\n      <th>0.6</th>\n      <th>0.7</th>\n      <th>0.8</th>\n    </tr>\n  </thead>\n  <tbody>\n    <tr>\n      <th>0</th>\n      <td>2.027833</td>\n      <td>2.760237</td>\n      <td>1.888161</td>\n      <td>2.185874</td>\n      <td>2.147034</td>\n      <td>2.044013</td>\n      <td>2.333848</td>\n      <td>2.084923</td>\n    </tr>\n    <tr>\n      <th>1</th>\n      <td>2.616675</td>\n      <td>2.215007</td>\n      <td>2.335980</td>\n      <td>2.370133</td>\n      <td>2.148647</td>\n      <td>2.056886</td>\n      <td>2.141994</td>\n      <td>1.997492</td>\n    </tr>\n    <tr>\n      <th>2</th>\n      <td>1.996876</td>\n      <td>2.489632</td>\n      <td>2.308980</td>\n      <td>2.404283</td>\n      <td>2.154016</td>\n      <td>2.122864</td>\n      <td>2.285592</td>\n      <td>2.045615</td>\n    </tr>\n    <tr>\n      <th>3</th>\n      <td>2.672461</td>\n      <td>2.453657</td>\n      <td>2.207906</td>\n      <td>2.188502</td>\n      <td>2.157241</td>\n      <td>2.166486</td>\n      <td>1.711940</td>\n      <td>2.222173</td>\n    </tr>\n    <tr>\n      <th>4</th>\n      <td>2.365412</td>\n      <td>2.496929</td>\n      <td>2.522710</td>\n      <td>2.071600</td>\n      <td>2.097724</td>\n      <td>2.285162</td>\n      <td>2.078588</td>\n      <td>2.031658</td>\n    </tr>\n    <tr>\n      <th>...</th>\n      <td>...</td>\n      <td>...</td>\n      <td>...</td>\n      <td>...</td>\n      <td>...</td>\n      <td>...</td>\n      <td>...</td>\n      <td>...</td>\n    </tr>\n    <tr>\n      <th>15</th>\n      <td>2.450975</td>\n      <td>2.282379</td>\n      <td>2.214088</td>\n      <td>1.832828</td>\n      <td>2.219469</td>\n      <td>2.009411</td>\n      <td>1.890799</td>\n      <td>1.816753</td>\n    </tr>\n    <tr>\n      <th>16</th>\n      <td>2.463454</td>\n      <td>2.545424</td>\n      <td>2.207495</td>\n      <td>2.345011</td>\n      <td>2.074111</td>\n      <td>1.945827</td>\n      <td>2.175557</td>\n      <td>1.981698</td>\n    </tr>\n    <tr>\n      <th>17</th>\n      <td>2.349014</td>\n      <td>2.429599</td>\n      <td>2.262630</td>\n      <td>2.370888</td>\n      <td>2.349494</td>\n      <td>2.214604</td>\n      <td>2.034457</td>\n      <td>1.859368</td>\n    </tr>\n    <tr>\n      <th>18</th>\n      <td>2.520344</td>\n      <td>2.327088</td>\n      <td>2.517133</td>\n      <td>2.549564</td>\n      <td>2.259455</td>\n      <td>2.106743</td>\n      <td>2.164876</td>\n      <td>1.916389</td>\n    </tr>\n    <tr>\n      <th>19</th>\n      <td>2.492886</td>\n      <td>2.262824</td>\n      <td>2.373201</td>\n      <td>2.152911</td>\n      <td>2.106316</td>\n      <td>2.172497</td>\n      <td>1.836473</td>\n      <td>2.195715</td>\n    </tr>\n  </tbody>\n</table>\n<p>200 rows × 8 columns</p>\n</div>"
     },
     "execution_count": 433,
     "metadata": {},
     "output_type": "execute_result"
    }
   ],
   "source": [
    "length_df"
   ],
   "metadata": {
    "collapsed": false,
    "ExecuteTime": {
     "end_time": "2025-03-26T17:10:04.368476Z",
     "start_time": "2025-03-26T17:10:04.361631Z"
    }
   },
   "id": "d0d1248252b6e9fe"
  },
  {
   "cell_type": "code",
   "execution_count": 434,
   "outputs": [
    {
     "data": {
      "text/plain": "         0.1       0.2       0.3       0.4       0.5       0.6       0.7  \\\n0   9.677280  9.101807  8.501945  8.330099  5.973733  9.475808  6.386873   \n1   4.777781  5.732823  6.533359  6.925288  5.053864  6.143281  5.816289   \n2   5.650687  4.696600  4.851385  5.150396  4.936253  4.698016  5.405156   \n3   7.353713  6.280431  5.517674  5.839976  6.356878  6.805858  9.103036   \n4   8.970070  7.226653  7.844281  8.477925  8.016232  8.279903  6.632062   \n..       ...       ...       ...       ...       ...       ...       ...   \n15  5.584242  4.339244  5.856400  6.859637  5.648787  6.049862  6.748475   \n16  5.569454  5.057689  6.169272  6.245495  5.384872  5.705490  5.347868   \n17  6.391447  7.828692  6.952997  8.696023  7.228398  7.001763  7.388629   \n18  5.559156  6.266938  5.023674  5.438089  5.691483  5.778859  6.119483   \n19  7.466023  7.481829  7.002864  8.033802  7.396679  7.545289  7.707199   \n\n         0.8  \n0   6.006523  \n1   5.219731  \n2   6.293713  \n3   4.192131  \n4   9.856253  \n..       ...  \n15  5.208343  \n16  5.892124  \n17  7.212140  \n18  4.483376  \n19  7.424202  \n\n[200 rows x 8 columns]",
      "text/html": "<div>\n<style scoped>\n    .dataframe tbody tr th:only-of-type {\n        vertical-align: middle;\n    }\n\n    .dataframe tbody tr th {\n        vertical-align: top;\n    }\n\n    .dataframe thead th {\n        text-align: right;\n    }\n</style>\n<table border=\"1\" class=\"dataframe\">\n  <thead>\n    <tr style=\"text-align: right;\">\n      <th></th>\n      <th>0.1</th>\n      <th>0.2</th>\n      <th>0.3</th>\n      <th>0.4</th>\n      <th>0.5</th>\n      <th>0.6</th>\n      <th>0.7</th>\n      <th>0.8</th>\n    </tr>\n  </thead>\n  <tbody>\n    <tr>\n      <th>0</th>\n      <td>9.677280</td>\n      <td>9.101807</td>\n      <td>8.501945</td>\n      <td>8.330099</td>\n      <td>5.973733</td>\n      <td>9.475808</td>\n      <td>6.386873</td>\n      <td>6.006523</td>\n    </tr>\n    <tr>\n      <th>1</th>\n      <td>4.777781</td>\n      <td>5.732823</td>\n      <td>6.533359</td>\n      <td>6.925288</td>\n      <td>5.053864</td>\n      <td>6.143281</td>\n      <td>5.816289</td>\n      <td>5.219731</td>\n    </tr>\n    <tr>\n      <th>2</th>\n      <td>5.650687</td>\n      <td>4.696600</td>\n      <td>4.851385</td>\n      <td>5.150396</td>\n      <td>4.936253</td>\n      <td>4.698016</td>\n      <td>5.405156</td>\n      <td>6.293713</td>\n    </tr>\n    <tr>\n      <th>3</th>\n      <td>7.353713</td>\n      <td>6.280431</td>\n      <td>5.517674</td>\n      <td>5.839976</td>\n      <td>6.356878</td>\n      <td>6.805858</td>\n      <td>9.103036</td>\n      <td>4.192131</td>\n    </tr>\n    <tr>\n      <th>4</th>\n      <td>8.970070</td>\n      <td>7.226653</td>\n      <td>7.844281</td>\n      <td>8.477925</td>\n      <td>8.016232</td>\n      <td>8.279903</td>\n      <td>6.632062</td>\n      <td>9.856253</td>\n    </tr>\n    <tr>\n      <th>...</th>\n      <td>...</td>\n      <td>...</td>\n      <td>...</td>\n      <td>...</td>\n      <td>...</td>\n      <td>...</td>\n      <td>...</td>\n      <td>...</td>\n    </tr>\n    <tr>\n      <th>15</th>\n      <td>5.584242</td>\n      <td>4.339244</td>\n      <td>5.856400</td>\n      <td>6.859637</td>\n      <td>5.648787</td>\n      <td>6.049862</td>\n      <td>6.748475</td>\n      <td>5.208343</td>\n    </tr>\n    <tr>\n      <th>16</th>\n      <td>5.569454</td>\n      <td>5.057689</td>\n      <td>6.169272</td>\n      <td>6.245495</td>\n      <td>5.384872</td>\n      <td>5.705490</td>\n      <td>5.347868</td>\n      <td>5.892124</td>\n    </tr>\n    <tr>\n      <th>17</th>\n      <td>6.391447</td>\n      <td>7.828692</td>\n      <td>6.952997</td>\n      <td>8.696023</td>\n      <td>7.228398</td>\n      <td>7.001763</td>\n      <td>7.388629</td>\n      <td>7.212140</td>\n    </tr>\n    <tr>\n      <th>18</th>\n      <td>5.559156</td>\n      <td>6.266938</td>\n      <td>5.023674</td>\n      <td>5.438089</td>\n      <td>5.691483</td>\n      <td>5.778859</td>\n      <td>6.119483</td>\n      <td>4.483376</td>\n    </tr>\n    <tr>\n      <th>19</th>\n      <td>7.466023</td>\n      <td>7.481829</td>\n      <td>7.002864</td>\n      <td>8.033802</td>\n      <td>7.396679</td>\n      <td>7.545289</td>\n      <td>7.707199</td>\n      <td>7.424202</td>\n    </tr>\n  </tbody>\n</table>\n<p>200 rows × 8 columns</p>\n</div>"
     },
     "execution_count": 434,
     "metadata": {},
     "output_type": "execute_result"
    }
   ],
   "source": [
    "MSE_df"
   ],
   "metadata": {
    "collapsed": false,
    "ExecuteTime": {
     "end_time": "2025-03-26T17:10:04.832690Z",
     "start_time": "2025-03-26T17:10:04.827950Z"
    }
   },
   "id": "1c29233a2057cd3"
  },
  {
   "cell_type": "code",
   "execution_count": 435,
   "outputs": [],
   "source": [
    "def boxplots(dfs, metrics):\n",
    "    # Set up the subplots: one for each metric\n",
    "    fig, axes = plt.subplots(1, 3, figsize=(15, 6))\n",
    "    \n",
    "    # Iterate over the dataframes and create a boxplot for each\n",
    "    for i, (df, metric) in enumerate(zip(dfs, metrics)):\n",
    "        sns.boxplot(data=df, ax=axes[i], showmeans=True)\n",
    "        axes[i].set_title(f'Boxplot for {metric}')\n",
    "        axes[i].set_xlabel('Method')\n",
    "        axes[i].set_ylabel('Value')\n",
    "        # Add triangles for the mean values\n",
    "        means = df.mean()  # Calculate mean for each method (column)\n",
    "        print(metric,\":\\n\",means.T)\n",
    "        \"\"\"for j, mean in enumerate(means):\n",
    "            print(j, mean)\n",
    "            axes[i].plot(j, mean, marker='^', color='red', markersize=10)  # Add a red triangle for the mean\"\"\"\n",
    "        if metric == \"Coverage\":\n",
    "            axes[i].set_ylim(0,1)\n",
    "        elif metric == \"Length\":\n",
    "            axes[i].set_ylim(0,20)\n",
    "        elif metric == \"MSE\":\n",
    "            axes[i].set_ylim(0,10)\n",
    "    \n",
    "    # Show the plots\n",
    "    plt.tight_layout()\n",
    "    plt.show()"
   ],
   "metadata": {
    "collapsed": false,
    "ExecuteTime": {
     "end_time": "2025-03-26T17:10:05.278396Z",
     "start_time": "2025-03-26T17:10:05.269083Z"
    }
   },
   "id": "6b8550a6c1ca31c2"
  },
  {
   "cell_type": "code",
   "execution_count": 436,
   "outputs": [
    {
     "name": "stdout",
     "output_type": "stream",
     "text": [
      "Coverage :\n",
      " 0.1    0.858333\n",
      "0.2    0.859583\n",
      "0.3    0.853750\n",
      "0.4    0.846250\n",
      "0.5    0.868750\n",
      "0.6    0.867500\n",
      "0.7    0.909583\n",
      "0.8    0.918750\n",
      "dtype: float64\n",
      "Length :\n",
      " 0.1    2.395243\n",
      "0.2    2.354117\n",
      "0.3    2.290569\n",
      "0.4    2.250611\n",
      "0.5    2.167990\n",
      "0.6    2.139450\n",
      "0.7    2.077084\n",
      "0.8    2.036028\n",
      "dtype: float64\n",
      "MSE :\n",
      " 0.1    6.757202\n",
      "0.2    6.639541\n",
      "0.3    6.675721\n",
      "0.4    6.762384\n",
      "0.5    6.665231\n",
      "0.6    6.922350\n",
      "0.7    6.633949\n",
      "0.8    6.535730\n",
      "dtype: float64\n"
     ]
    },
    {
     "data": {
      "text/plain": "<Figure size 1500x600 with 3 Axes>",
      "image/png": "[encoded data removed]"
     },
     "metadata": {},
     "output_type": "display_data"
    }
   ],
   "source": [
    "boxplots(dfs=[coverage_df, length_df, MSE_df], metrics=[\"Coverage\", \"Length\", \"MSE\"])"
   ],
   "metadata": {
    "collapsed": false,
    "ExecuteTime": {
     "end_time": "2025-03-26T17:10:06.194937Z",
     "start_time": "2025-03-26T17:10:05.773809Z"
    }
   },
   "id": "f36f6f9c1ac5c64e"
  },
  {
   "cell_type": "code",
   "execution_count": 155,
   "outputs": [
    {
     "data": {
      "text/plain": "       5.00      10.00     20.00     0.05      0.10      0.20 \n0   0.714286  1.000000  1.000000  1.000000  1.000000  0.833333\n1   0.833333  0.833333  0.833333  1.000000  1.000000  0.500000\n2   0.500000  0.833333  1.000000  0.333333  0.833333  0.833333\n3   0.833333  1.000000  0.857143  0.500000  0.833333  1.000000\n4   0.600000  1.000000  0.800000  1.000000  1.000000  1.000000\n..       ...       ...       ...       ...       ...       ...\n4   1.000000  1.000000  1.000000  1.000000  0.833333  0.833333\n5   0.833333  1.000000  1.000000  0.857143  0.600000  0.833333\n6   1.000000  1.000000  1.000000  0.800000  0.833333  1.000000\n7   1.000000  1.000000  1.000000  0.166667  1.000000  0.800000\n8   1.000000  1.000000  1.000000  1.000000  1.000000  0.600000\n\n[86 rows x 6 columns]",
      "text/html": "<div>\n<style scoped>\n    .dataframe tbody tr th:only-of-type {\n        vertical-align: middle;\n    }\n\n    .dataframe tbody tr th {\n        vertical-align: top;\n    }\n\n    .dataframe thead th {\n        text-align: right;\n    }\n</style>\n<table border=\"1\" class=\"dataframe\">\n  <thead>\n    <tr style=\"text-align: right;\">\n      <th></th>\n      <th>5.00</th>\n      <th>10.00</th>\n      <th>20.00</th>\n      <th>0.05</th>\n      <th>0.10</th>\n      <th>0.20</th>\n    </tr>\n  </thead>\n  <tbody>\n    <tr>\n      <th>0</th>\n      <td>0.714286</td>\n      <td>1.000000</td>\n      <td>1.000000</td>\n      <td>1.000000</td>\n      <td>1.000000</td>\n      <td>0.833333</td>\n    </tr>\n    <tr>\n      <th>1</th>\n      <td>0.833333</td>\n      <td>0.833333</td>\n      <td>0.833333</td>\n      <td>1.000000</td>\n      <td>1.000000</td>\n      <td>0.500000</td>\n    </tr>\n    <tr>\n      <th>2</th>\n      <td>0.500000</td>\n      <td>0.833333</td>\n      <td>1.000000</td>\n      <td>0.333333</td>\n      <td>0.833333</td>\n      <td>0.833333</td>\n    </tr>\n    <tr>\n      <th>3</th>\n      <td>0.833333</td>\n      <td>1.000000</td>\n      <td>0.857143</td>\n      <td>0.500000</td>\n      <td>0.833333</td>\n      <td>1.000000</td>\n    </tr>\n    <tr>\n      <th>4</th>\n      <td>0.600000</td>\n      <td>1.000000</td>\n      <td>0.800000</td>\n      <td>1.000000</td>\n      <td>1.000000</td>\n      <td>1.000000</td>\n    </tr>\n    <tr>\n      <th>...</th>\n      <td>...</td>\n      <td>...</td>\n      <td>...</td>\n      <td>...</td>\n      <td>...</td>\n      <td>...</td>\n    </tr>\n    <tr>\n      <th>4</th>\n      <td>1.000000</td>\n      <td>1.000000</td>\n      <td>1.000000</td>\n      <td>1.000000</td>\n      <td>0.833333</td>\n      <td>0.833333</td>\n    </tr>\n    <tr>\n      <th>5</th>\n      <td>0.833333</td>\n      <td>1.000000</td>\n      <td>1.000000</td>\n      <td>0.857143</td>\n      <td>0.600000</td>\n      <td>0.833333</td>\n    </tr>\n    <tr>\n      <th>6</th>\n      <td>1.000000</td>\n      <td>1.000000</td>\n      <td>1.000000</td>\n      <td>0.800000</td>\n      <td>0.833333</td>\n      <td>1.000000</td>\n    </tr>\n    <tr>\n      <th>7</th>\n      <td>1.000000</td>\n      <td>1.000000</td>\n      <td>1.000000</td>\n      <td>0.166667</td>\n      <td>1.000000</td>\n      <td>0.800000</td>\n    </tr>\n    <tr>\n      <th>8</th>\n      <td>1.000000</td>\n      <td>1.000000</td>\n      <td>1.000000</td>\n      <td>1.000000</td>\n      <td>1.000000</td>\n      <td>0.600000</td>\n    </tr>\n  </tbody>\n</table>\n<p>86 rows × 6 columns</p>\n</div>"
     },
     "execution_count": 155,
     "metadata": {},
     "output_type": "execute_result"
    }
   ],
   "source": [
    "coverage_df"
   ],
   "metadata": {
    "collapsed": false,
    "ExecuteTime": {
     "end_time": "2025-03-24T21:42:17.893375Z",
     "start_time": "2025-03-24T21:42:17.885624Z"
    }
   },
   "id": "e0c6a86beae72b10"
  },
  {
   "cell_type": "code",
   "execution_count": 20,
   "outputs": [],
   "source": [],
   "metadata": {
    "collapsed": false,
    "ExecuteTime": {
     "end_time": "2024-10-24T22:46:50.904900Z",
     "start_time": "2024-10-24T22:46:50.897420Z"
    }
   },
   "id": "2104c532f1fdbed9"
  },
  {
   "cell_type": "code",
   "execution_count": 397,
   "outputs": [],
   "source": [
    "a = np.random.multivariate_normal(mean=np.zeros(3), cov=np.eye(3), size=10)"
   ],
   "metadata": {
    "collapsed": false,
    "ExecuteTime": {
     "end_time": "2025-03-26T05:18:39.181565Z",
     "start_time": "2025-03-26T05:18:39.161336Z"
    }
   },
   "id": "97ff2fc11d1c3a10"
  },
  {
   "cell_type": "code",
   "execution_count": 403,
   "outputs": [
    {
     "data": {
      "text/plain": "array([[ 1.06793651,  1.36987016,  0.38254673],\n       [-0.00676015,  0.04964653,  0.54545289],\n       [ 0.36283111,  1.14141412, -0.09072415],\n       [-0.35752269,  0.12027834,  1.73155615],\n       [-0.2604219 , -0.41158687,  0.85320342],\n       [-0.06342349,  0.26980504,  0.54805346],\n       [ 3.11418919, -0.40739602,  0.14077256],\n       [-1.10491165,  0.58322557, -0.02100113],\n       [ 1.94883554,  0.87846771, -0.46144371],\n       [-1.41438826,  0.90600893,  1.3235796 ]])"
     },
     "execution_count": 403,
     "metadata": {},
     "output_type": "execute_result"
    }
   ],
   "source": [
    "a"
   ],
   "metadata": {
    "collapsed": false,
    "ExecuteTime": {
     "end_time": "2025-03-26T05:19:13.047679Z",
     "start_time": "2025-03-26T05:19:13.026764Z"
    }
   },
   "id": "fdc262fc0c82e43d"
  },
  {
   "cell_type": "code",
   "execution_count": 406,
   "outputs": [
    {
     "data": {
      "text/plain": "array([False,  True, False, False,  True,  True, False,  True, False,\n       False])"
     },
     "execution_count": 406,
     "metadata": {},
     "output_type": "execute_result"
    }
   ],
   "source": [
    "a.max(axis=1) < 1"
   ],
   "metadata": {
    "collapsed": false,
    "ExecuteTime": {
     "end_time": "2025-03-26T05:19:34.635566Z",
     "start_time": "2025-03-26T05:19:34.617754Z"
    }
   },
   "id": "1b5e496c454bf766"
  },
  {
   "cell_type": "code",
   "execution_count": 410,
   "outputs": [
    {
     "data": {
      "text/plain": "array([ True,  True,  True,  True,  True,  True,  True, False,  True,\n       False])"
     },
     "execution_count": 410,
     "metadata": {},
     "output_type": "execute_result"
    }
   ],
   "source": [
    "a.min(axis=1) > -1"
   ],
   "metadata": {
    "collapsed": false,
    "ExecuteTime": {
     "end_time": "2025-03-26T05:19:59.062572Z",
     "start_time": "2025-03-26T05:19:59.050985Z"
    }
   },
   "id": "32705f5b2991411f"
  },
  {
   "cell_type": "code",
   "execution_count": 413,
   "outputs": [
    {
     "data": {
      "text/plain": "np.int64(3)"
     },
     "execution_count": 413,
     "metadata": {},
     "output_type": "execute_result"
    }
   ],
   "source": [
    "np.logical_and(a.min(axis=1) > -1, a.max(axis=1) < 1).sum()"
   ],
   "metadata": {
    "collapsed": false,
    "ExecuteTime": {
     "end_time": "2025-03-26T05:21:14.242274Z",
     "start_time": "2025-03-26T05:21:14.238294Z"
    }
   },
   "id": "9aa9f1f7cc95b4e6"
  },
  {
   "cell_type": "code",
   "execution_count": null,
   "outputs": [],
   "source": [],
   "metadata": {
    "collapsed": false
   },
   "id": "4e632b0894336afe"
  }
 ],
 "metadata": {
  "kernelspec": {
   "display_name": "Python 3",
   "language": "python",
   "name": "python3"
  },
  "language_info": {
   "codemirror_mode": {
    "name": "ipython",
    "version": 2
   },
   "file_extension": ".py",
   "mimetype": "text/x-python",
   "name": "python",
   "nbconvert_exporter": "python",
   "pygments_lexer": "ipython2",
   "version": "2.7.6"
  }
 },
 "nbformat": 4,
 "nbformat_minor": 5
}
