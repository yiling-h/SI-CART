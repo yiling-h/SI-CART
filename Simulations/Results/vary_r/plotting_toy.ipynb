{
 "cells": [
  {
   "cell_type": "code",
   "execution_count": 510,
   "id": "initial_id",
   "metadata": {
    "collapsed": true,
    "ExecuteTime": {
     "end_time": "2025-03-28T01:15:13.315252Z",
     "start_time": "2025-03-28T01:15:13.314767Z"
    }
   },
   "outputs": [],
   "source": [
    "import joblib\n",
    "import matplotlib.pyplot as plt\n",
    "import numpy as np\n",
    "import pandas as pd\n",
    "import seaborn as sns"
   ]
  },
  {
   "cell_type": "code",
   "execution_count": 511,
   "outputs": [],
   "source": [
    "n_task_per_file = 20\n",
    "n_files = 10\n",
    "base_dir = \"noise_sd=1/vary_r_noisesd_1.0_\"\n",
    "files_list = []\n",
    "for i in range(n_files):\n",
    "    dir = base_dir + str(i*n_task_per_file) + \"_\"  + str((i+1)*n_task_per_file) + \".pkl\"\n",
    "    files_list.append(dir)"
   ],
   "metadata": {
    "collapsed": false,
    "ExecuteTime": {
     "end_time": "2025-03-28T01:15:13.749422Z",
     "start_time": "2025-03-28T01:15:13.727194Z"
    }
   },
   "id": "15c24ca328824b39"
  },
  {
   "cell_type": "code",
   "execution_count": 512,
   "outputs": [],
   "source": [
    "coverage_df = pd.DataFrame()\n",
    "length_df = pd.DataFrame()\n",
    "MSE_df = pd.DataFrame()\n",
    "\n",
    "for f_dir in files_list:\n",
    "    coverage_i, length_i, MSE_i = joblib.load(f_dir)\n",
    "    coverage_df = pd.concat([coverage_df, pd.DataFrame(coverage_i)])\n",
    "    length_df = pd.concat([length_df, pd.DataFrame(length_i)])\n",
    "    MSE_df = pd.concat([MSE_df, pd.DataFrame(MSE_i)])"
   ],
   "metadata": {
    "collapsed": false,
    "ExecuteTime": {
     "end_time": "2025-03-28T01:15:14.117542Z",
     "start_time": "2025-03-28T01:15:14.069685Z"
    }
   },
   "id": "44ea9729e9ad0ae7"
  },
  {
   "cell_type": "code",
   "execution_count": 513,
   "outputs": [
    {
     "data": {
      "text/plain": "     0.1   0.2   0.3   0.4   0.5   0.6   0.7   0.8  UV(0.1)  full\n0   0.75  0.75  0.75  1.00  0.75  0.75  0.75  1.00     0.75  0.50\n1   1.00  0.50  0.25  0.50  0.75  0.75  0.50  0.50     1.00  0.50\n2   0.50  0.75  0.75  0.50  0.75  1.00  0.75  1.00     1.00  0.25\n3   0.75  0.75  0.50  0.75  0.75  0.50  0.75  0.75     1.00  0.75\n4   1.00  0.75  0.75  0.75  0.50  0.75  0.75  0.50     0.75  0.50\n..   ...   ...   ...   ...   ...   ...   ...   ...      ...   ...\n3   0.50  0.50  0.75  0.50  0.75  0.75  0.75  1.00     1.00  0.75\n4   1.00  0.50  0.50  0.75  0.75  0.75  0.75  1.00     1.00  0.25\n5   0.75  0.50  0.75  0.75  0.75  1.00  0.75  0.75     1.00  0.25\n6   0.75  1.00  0.75  1.00  0.75  1.00  1.00  0.75     1.00  0.50\n7   1.00  0.75  0.50  0.50  1.00  0.75  1.00  1.00     1.00  0.25\n\n[111 rows x 10 columns]",
      "text/html": "<div>\n<style scoped>\n    .dataframe tbody tr th:only-of-type {\n        vertical-align: middle;\n    }\n\n    .dataframe tbody tr th {\n        vertical-align: top;\n    }\n\n    .dataframe thead th {\n        text-align: right;\n    }\n</style>\n<table border=\"1\" class=\"dataframe\">\n  <thead>\n    <tr style=\"text-align: right;\">\n      <th></th>\n      <th>0.1</th>\n      <th>0.2</th>\n      <th>0.3</th>\n      <th>0.4</th>\n      <th>0.5</th>\n      <th>0.6</th>\n      <th>0.7</th>\n      <th>0.8</th>\n      <th>UV(0.1)</th>\n      <th>full</th>\n    </tr>\n  </thead>\n  <tbody>\n    <tr>\n      <th>0</th>\n      <td>0.75</td>\n      <td>0.75</td>\n      <td>0.75</td>\n      <td>1.00</td>\n      <td>0.75</td>\n      <td>0.75</td>\n      <td>0.75</td>\n      <td>1.00</td>\n      <td>0.75</td>\n      <td>0.50</td>\n    </tr>\n    <tr>\n      <th>1</th>\n      <td>1.00</td>\n      <td>0.50</td>\n      <td>0.25</td>\n      <td>0.50</td>\n      <td>0.75</td>\n      <td>0.75</td>\n      <td>0.50</td>\n      <td>0.50</td>\n      <td>1.00</td>\n      <td>0.50</td>\n    </tr>\n    <tr>\n      <th>2</th>\n      <td>0.50</td>\n      <td>0.75</td>\n      <td>0.75</td>\n      <td>0.50</td>\n      <td>0.75</td>\n      <td>1.00</td>\n      <td>0.75</td>\n      <td>1.00</td>\n      <td>1.00</td>\n      <td>0.25</td>\n    </tr>\n    <tr>\n      <th>3</th>\n      <td>0.75</td>\n      <td>0.75</td>\n      <td>0.50</td>\n      <td>0.75</td>\n      <td>0.75</td>\n      <td>0.50</td>\n      <td>0.75</td>\n      <td>0.75</td>\n      <td>1.00</td>\n      <td>0.75</td>\n    </tr>\n    <tr>\n      <th>4</th>\n      <td>1.00</td>\n      <td>0.75</td>\n      <td>0.75</td>\n      <td>0.75</td>\n      <td>0.50</td>\n      <td>0.75</td>\n      <td>0.75</td>\n      <td>0.50</td>\n      <td>0.75</td>\n      <td>0.50</td>\n    </tr>\n    <tr>\n      <th>...</th>\n      <td>...</td>\n      <td>...</td>\n      <td>...</td>\n      <td>...</td>\n      <td>...</td>\n      <td>...</td>\n      <td>...</td>\n      <td>...</td>\n      <td>...</td>\n      <td>...</td>\n    </tr>\n    <tr>\n      <th>3</th>\n      <td>0.50</td>\n      <td>0.50</td>\n      <td>0.75</td>\n      <td>0.50</td>\n      <td>0.75</td>\n      <td>0.75</td>\n      <td>0.75</td>\n      <td>1.00</td>\n      <td>1.00</td>\n      <td>0.75</td>\n    </tr>\n    <tr>\n      <th>4</th>\n      <td>1.00</td>\n      <td>0.50</td>\n      <td>0.50</td>\n      <td>0.75</td>\n      <td>0.75</td>\n      <td>0.75</td>\n      <td>0.75</td>\n      <td>1.00</td>\n      <td>1.00</td>\n      <td>0.25</td>\n    </tr>\n    <tr>\n      <th>5</th>\n      <td>0.75</td>\n      <td>0.50</td>\n      <td>0.75</td>\n      <td>0.75</td>\n      <td>0.75</td>\n      <td>1.00</td>\n      <td>0.75</td>\n      <td>0.75</td>\n      <td>1.00</td>\n      <td>0.25</td>\n    </tr>\n    <tr>\n      <th>6</th>\n      <td>0.75</td>\n      <td>1.00</td>\n      <td>0.75</td>\n      <td>1.00</td>\n      <td>0.75</td>\n      <td>1.00</td>\n      <td>1.00</td>\n      <td>0.75</td>\n      <td>1.00</td>\n      <td>0.50</td>\n    </tr>\n    <tr>\n      <th>7</th>\n      <td>1.00</td>\n      <td>0.75</td>\n      <td>0.50</td>\n      <td>0.50</td>\n      <td>1.00</td>\n      <td>0.75</td>\n      <td>1.00</td>\n      <td>1.00</td>\n      <td>1.00</td>\n      <td>0.25</td>\n    </tr>\n  </tbody>\n</table>\n<p>111 rows × 10 columns</p>\n</div>"
     },
     "execution_count": 513,
     "metadata": {},
     "output_type": "execute_result"
    }
   ],
   "source": [
    "coverage_df"
   ],
   "metadata": {
    "collapsed": false,
    "ExecuteTime": {
     "end_time": "2025-03-28T01:15:14.483936Z",
     "start_time": "2025-03-28T01:15:14.475406Z"
    }
   },
   "id": "6d1f1fad39e063ac"
  },
  {
   "cell_type": "code",
   "execution_count": 514,
   "outputs": [
    {
     "data": {
      "text/plain": "          0.1        0.2        0.3        0.4        0.5        0.6  \\\n0   27.287224  28.911401  21.779720  23.462918  22.479471  20.721659   \n1   32.446602  23.303820  22.871078  17.555388  20.064448  21.912975   \n2   37.054703  31.461239  26.706967  26.011466  24.052105  22.789083   \n3   36.310992  26.746773  25.093336  22.916593  21.715964  21.028628   \n4   30.793192  21.148252  24.841679  24.322639  20.537178  20.516512   \n..        ...        ...        ...        ...        ...        ...   \n3   24.074580  25.739186  24.144151  20.876618  20.196406  19.844187   \n4   35.888650  31.748013  26.584809  25.314801  24.386197  22.758211   \n5   40.727012  29.745152  26.842541  27.346799  26.968910  25.966251   \n6   28.189825  29.601894  22.370458  21.123697  19.142749  22.554910   \n7   37.650300  30.700276  27.884999  23.910689  22.100823  23.197848   \n\n          0.7        0.8   UV(0.1)      full  \n0   19.190304  17.002355  1.959874  6.653938  \n1   18.560839  17.110845  1.991640  6.904032  \n2   21.993942  20.339810  1.968024  7.549257  \n3   20.957641  20.105542  2.452582  7.170523  \n4   19.086561  18.146204  2.480891  6.745572  \n..        ...        ...       ...       ...  \n3   15.986133  16.229913  2.286057  6.440753  \n4   19.235603  19.569862  2.363193  6.771674  \n5   24.933673  24.934529  1.794838  6.753681  \n6   17.949283  16.176717  2.091222  8.162981  \n7   19.847627  21.831479  2.017285  6.712023  \n\n[111 rows x 10 columns]",
      "text/html": "<div>\n<style scoped>\n    .dataframe tbody tr th:only-of-type {\n        vertical-align: middle;\n    }\n\n    .dataframe tbody tr th {\n        vertical-align: top;\n    }\n\n    .dataframe thead th {\n        text-align: right;\n    }\n</style>\n<table border=\"1\" class=\"dataframe\">\n  <thead>\n    <tr style=\"text-align: right;\">\n      <th></th>\n      <th>0.1</th>\n      <th>0.2</th>\n      <th>0.3</th>\n      <th>0.4</th>\n      <th>0.5</th>\n      <th>0.6</th>\n      <th>0.7</th>\n      <th>0.8</th>\n      <th>UV(0.1)</th>\n      <th>full</th>\n    </tr>\n  </thead>\n  <tbody>\n    <tr>\n      <th>0</th>\n      <td>27.287224</td>\n      <td>28.911401</td>\n      <td>21.779720</td>\n      <td>23.462918</td>\n      <td>22.479471</td>\n      <td>20.721659</td>\n      <td>19.190304</td>\n      <td>17.002355</td>\n      <td>1.959874</td>\n      <td>6.653938</td>\n    </tr>\n    <tr>\n      <th>1</th>\n      <td>32.446602</td>\n      <td>23.303820</td>\n      <td>22.871078</td>\n      <td>17.555388</td>\n      <td>20.064448</td>\n      <td>21.912975</td>\n      <td>18.560839</td>\n      <td>17.110845</td>\n      <td>1.991640</td>\n      <td>6.904032</td>\n    </tr>\n    <tr>\n      <th>2</th>\n      <td>37.054703</td>\n      <td>31.461239</td>\n      <td>26.706967</td>\n      <td>26.011466</td>\n      <td>24.052105</td>\n      <td>22.789083</td>\n      <td>21.993942</td>\n      <td>20.339810</td>\n      <td>1.968024</td>\n      <td>7.549257</td>\n    </tr>\n    <tr>\n      <th>3</th>\n      <td>36.310992</td>\n      <td>26.746773</td>\n      <td>25.093336</td>\n      <td>22.916593</td>\n      <td>21.715964</td>\n      <td>21.028628</td>\n      <td>20.957641</td>\n      <td>20.105542</td>\n      <td>2.452582</td>\n      <td>7.170523</td>\n    </tr>\n    <tr>\n      <th>4</th>\n      <td>30.793192</td>\n      <td>21.148252</td>\n      <td>24.841679</td>\n      <td>24.322639</td>\n      <td>20.537178</td>\n      <td>20.516512</td>\n      <td>19.086561</td>\n      <td>18.146204</td>\n      <td>2.480891</td>\n      <td>6.745572</td>\n    </tr>\n    <tr>\n      <th>...</th>\n      <td>...</td>\n      <td>...</td>\n      <td>...</td>\n      <td>...</td>\n      <td>...</td>\n      <td>...</td>\n      <td>...</td>\n      <td>...</td>\n      <td>...</td>\n      <td>...</td>\n    </tr>\n    <tr>\n      <th>3</th>\n      <td>24.074580</td>\n      <td>25.739186</td>\n      <td>24.144151</td>\n      <td>20.876618</td>\n      <td>20.196406</td>\n      <td>19.844187</td>\n      <td>15.986133</td>\n      <td>16.229913</td>\n      <td>2.286057</td>\n      <td>6.440753</td>\n    </tr>\n    <tr>\n      <th>4</th>\n      <td>35.888650</td>\n      <td>31.748013</td>\n      <td>26.584809</td>\n      <td>25.314801</td>\n      <td>24.386197</td>\n      <td>22.758211</td>\n      <td>19.235603</td>\n      <td>19.569862</td>\n      <td>2.363193</td>\n      <td>6.771674</td>\n    </tr>\n    <tr>\n      <th>5</th>\n      <td>40.727012</td>\n      <td>29.745152</td>\n      <td>26.842541</td>\n      <td>27.346799</td>\n      <td>26.968910</td>\n      <td>25.966251</td>\n      <td>24.933673</td>\n      <td>24.934529</td>\n      <td>1.794838</td>\n      <td>6.753681</td>\n    </tr>\n    <tr>\n      <th>6</th>\n      <td>28.189825</td>\n      <td>29.601894</td>\n      <td>22.370458</td>\n      <td>21.123697</td>\n      <td>19.142749</td>\n      <td>22.554910</td>\n      <td>17.949283</td>\n      <td>16.176717</td>\n      <td>2.091222</td>\n      <td>8.162981</td>\n    </tr>\n    <tr>\n      <th>7</th>\n      <td>37.650300</td>\n      <td>30.700276</td>\n      <td>27.884999</td>\n      <td>23.910689</td>\n      <td>22.100823</td>\n      <td>23.197848</td>\n      <td>19.847627</td>\n      <td>21.831479</td>\n      <td>2.017285</td>\n      <td>6.712023</td>\n    </tr>\n  </tbody>\n</table>\n<p>111 rows × 10 columns</p>\n</div>"
     },
     "execution_count": 514,
     "metadata": {},
     "output_type": "execute_result"
    }
   ],
   "source": [
    "length_df"
   ],
   "metadata": {
    "collapsed": false,
    "ExecuteTime": {
     "end_time": "2025-03-28T01:15:15.715877Z",
     "start_time": "2025-03-28T01:15:15.697587Z"
    }
   },
   "id": "d0d1248252b6e9fe"
  },
  {
   "cell_type": "code",
   "execution_count": 515,
   "outputs": [
    {
     "data": {
      "text/plain": "         0.1       0.2       0.3       0.4       0.5       0.6       0.7  \\\n0   5.739350  4.963828  5.555206  5.396922  6.015460  5.001439  6.339369   \n1   6.121263  6.536833  5.963658  5.953698  5.138428  5.865301  6.117072   \n2   5.546129  5.915020  5.645156  5.915020  6.470379  5.252453  5.102670   \n3   6.837124  7.174377  6.676831  8.203949  7.378859  7.802000  5.372891   \n4   5.501549  6.646405  6.087906  6.667982  6.771704  7.112183  5.535210   \n..       ...       ...       ...       ...       ...       ...       ...   \n3   6.235352  5.657042  6.159649  6.215428  6.573018  6.356786  6.065097   \n4   5.847883  4.872916  4.757534  5.310667  5.324457  5.171317  5.683808   \n5   4.878753  5.719909  5.896176  5.501734  5.712281  5.999743  5.898807   \n6   4.669000  4.448413  4.508728  4.531606  4.266123  4.877684  5.141600   \n7   5.845129  6.050880  5.847421  5.997304  6.401607  5.248749  6.209254   \n\n         0.8   UV(0.1)      full  \n0   5.091899  4.472499  5.091899  \n1   5.738838  6.656065  5.738838  \n2   5.990036  5.934737  5.990036  \n3   7.126031  6.337809  7.126031  \n4   6.135680  6.490890  6.135680  \n..       ...       ...       ...  \n3   6.941133  6.823567  6.941133  \n4   5.743802  5.490678  5.743802  \n5   6.230033  6.066581  6.230033  \n6   4.274064  4.754980  4.274064  \n7   6.710161  5.937269  6.710161  \n\n[111 rows x 10 columns]",
      "text/html": "<div>\n<style scoped>\n    .dataframe tbody tr th:only-of-type {\n        vertical-align: middle;\n    }\n\n    .dataframe tbody tr th {\n        vertical-align: top;\n    }\n\n    .dataframe thead th {\n        text-align: right;\n    }\n</style>\n<table border=\"1\" class=\"dataframe\">\n  <thead>\n    <tr style=\"text-align: right;\">\n      <th></th>\n      <th>0.1</th>\n      <th>0.2</th>\n      <th>0.3</th>\n      <th>0.4</th>\n      <th>0.5</th>\n      <th>0.6</th>\n      <th>0.7</th>\n      <th>0.8</th>\n      <th>UV(0.1)</th>\n      <th>full</th>\n    </tr>\n  </thead>\n  <tbody>\n    <tr>\n      <th>0</th>\n      <td>5.739350</td>\n      <td>4.963828</td>\n      <td>5.555206</td>\n      <td>5.396922</td>\n      <td>6.015460</td>\n      <td>5.001439</td>\n      <td>6.339369</td>\n      <td>5.091899</td>\n      <td>4.472499</td>\n      <td>5.091899</td>\n    </tr>\n    <tr>\n      <th>1</th>\n      <td>6.121263</td>\n      <td>6.536833</td>\n      <td>5.963658</td>\n      <td>5.953698</td>\n      <td>5.138428</td>\n      <td>5.865301</td>\n      <td>6.117072</td>\n      <td>5.738838</td>\n      <td>6.656065</td>\n      <td>5.738838</td>\n    </tr>\n    <tr>\n      <th>2</th>\n      <td>5.546129</td>\n      <td>5.915020</td>\n      <td>5.645156</td>\n      <td>5.915020</td>\n      <td>6.470379</td>\n      <td>5.252453</td>\n      <td>5.102670</td>\n      <td>5.990036</td>\n      <td>5.934737</td>\n      <td>5.990036</td>\n    </tr>\n    <tr>\n      <th>3</th>\n      <td>6.837124</td>\n      <td>7.174377</td>\n      <td>6.676831</td>\n      <td>8.203949</td>\n      <td>7.378859</td>\n      <td>7.802000</td>\n      <td>5.372891</td>\n      <td>7.126031</td>\n      <td>6.337809</td>\n      <td>7.126031</td>\n    </tr>\n    <tr>\n      <th>4</th>\n      <td>5.501549</td>\n      <td>6.646405</td>\n      <td>6.087906</td>\n      <td>6.667982</td>\n      <td>6.771704</td>\n      <td>7.112183</td>\n      <td>5.535210</td>\n      <td>6.135680</td>\n      <td>6.490890</td>\n      <td>6.135680</td>\n    </tr>\n    <tr>\n      <th>...</th>\n      <td>...</td>\n      <td>...</td>\n      <td>...</td>\n      <td>...</td>\n      <td>...</td>\n      <td>...</td>\n      <td>...</td>\n      <td>...</td>\n      <td>...</td>\n      <td>...</td>\n    </tr>\n    <tr>\n      <th>3</th>\n      <td>6.235352</td>\n      <td>5.657042</td>\n      <td>6.159649</td>\n      <td>6.215428</td>\n      <td>6.573018</td>\n      <td>6.356786</td>\n      <td>6.065097</td>\n      <td>6.941133</td>\n      <td>6.823567</td>\n      <td>6.941133</td>\n    </tr>\n    <tr>\n      <th>4</th>\n      <td>5.847883</td>\n      <td>4.872916</td>\n      <td>4.757534</td>\n      <td>5.310667</td>\n      <td>5.324457</td>\n      <td>5.171317</td>\n      <td>5.683808</td>\n      <td>5.743802</td>\n      <td>5.490678</td>\n      <td>5.743802</td>\n    </tr>\n    <tr>\n      <th>5</th>\n      <td>4.878753</td>\n      <td>5.719909</td>\n      <td>5.896176</td>\n      <td>5.501734</td>\n      <td>5.712281</td>\n      <td>5.999743</td>\n      <td>5.898807</td>\n      <td>6.230033</td>\n      <td>6.066581</td>\n      <td>6.230033</td>\n    </tr>\n    <tr>\n      <th>6</th>\n      <td>4.669000</td>\n      <td>4.448413</td>\n      <td>4.508728</td>\n      <td>4.531606</td>\n      <td>4.266123</td>\n      <td>4.877684</td>\n      <td>5.141600</td>\n      <td>4.274064</td>\n      <td>4.754980</td>\n      <td>4.274064</td>\n    </tr>\n    <tr>\n      <th>7</th>\n      <td>5.845129</td>\n      <td>6.050880</td>\n      <td>5.847421</td>\n      <td>5.997304</td>\n      <td>6.401607</td>\n      <td>5.248749</td>\n      <td>6.209254</td>\n      <td>6.710161</td>\n      <td>5.937269</td>\n      <td>6.710161</td>\n    </tr>\n  </tbody>\n</table>\n<p>111 rows × 10 columns</p>\n</div>"
     },
     "execution_count": 515,
     "metadata": {},
     "output_type": "execute_result"
    }
   ],
   "source": [
    "MSE_df"
   ],
   "metadata": {
    "collapsed": false,
    "ExecuteTime": {
     "end_time": "2025-03-28T01:15:16.372746Z",
     "start_time": "2025-03-28T01:15:16.339467Z"
    }
   },
   "id": "1c29233a2057cd3"
  },
  {
   "cell_type": "code",
   "execution_count": 516,
   "outputs": [],
   "source": [
    "def boxplots(dfs, metrics):\n",
    "    # Set up the subplots: one for each metric\n",
    "    fig, axes = plt.subplots(1, 3, figsize=(15, 6))\n",
    "    \n",
    "    # Iterate over the dataframes and create a boxplot for each\n",
    "    for i, (df, metric) in enumerate(zip(dfs, metrics)):\n",
    "        sns.boxplot(data=df, ax=axes[i], showmeans=True)\n",
    "        axes[i].set_title(f'Boxplot for {metric}')\n",
    "        axes[i].set_xlabel('Method')\n",
    "        axes[i].set_ylabel('Value')\n",
    "        # Add triangles for the mean values\n",
    "        means = df.mean()  # Calculate mean for each method (column)\n",
    "        print(metric,\":\\n\",means.T)\n",
    "        \"\"\"for j, mean in enumerate(means):\n",
    "            print(j, mean)\n",
    "            axes[i].plot(j, mean, marker='^', color='red', markersize=10)  # Add a red triangle for the mean\"\"\"\n",
    "        if metric == \"Coverage\":\n",
    "            axes[i].set_ylim(0,1)\n",
    "        elif metric == \"Length\":\n",
    "            axes[i].set_ylim(0,20)\n",
    "        elif metric == \"MSE\":\n",
    "            axes[i].set_ylim(0,10)\n",
    "    \n",
    "    # Show the plots\n",
    "    plt.tight_layout()\n",
    "    plt.show()"
   ],
   "metadata": {
    "collapsed": false,
    "ExecuteTime": {
     "end_time": "2025-03-28T01:15:16.953255Z",
     "start_time": "2025-03-28T01:15:16.937413Z"
    }
   },
   "id": "6b8550a6c1ca31c2"
  },
  {
   "cell_type": "code",
   "execution_count": 517,
   "outputs": [
    {
     "name": "stdout",
     "output_type": "stream",
     "text": [
      "Coverage :\n",
      " 0.1        0.792793\n",
      "0.2        0.774775\n",
      "0.3        0.715465\n",
      "0.4        0.734234\n",
      "0.5        0.700450\n",
      "0.6        0.767267\n",
      "0.7        0.792793\n",
      "0.8        0.761261\n",
      "UV(0.1)    0.909910\n",
      "full       0.412162\n",
      "dtype: float64\n",
      "Length :\n",
      " 0.1        32.466406\n",
      "0.2        26.432799\n",
      "0.3        24.174294\n",
      "0.4        22.838457\n",
      "0.5        21.662462\n",
      "0.6        20.615373\n",
      "0.7        19.249921\n",
      "0.8        18.004743\n",
      "UV(0.1)     2.257338\n",
      "full        6.857441\n",
      "dtype: float64\n",
      "MSE :\n",
      " 0.1        5.539378\n",
      "0.2        5.521010\n",
      "0.3        5.491368\n",
      "0.4        5.641566\n",
      "0.5        5.558094\n",
      "0.6        5.488490\n",
      "0.7        5.522239\n",
      "0.8        5.647248\n",
      "UV(0.1)    5.770483\n",
      "full       5.647248\n",
      "dtype: float64\n"
     ]
    },
    {
     "data": {
      "text/plain": "<Figure size 1500x600 with 3 Axes>",
      "image/png": "[encoded data removed]"
     },
     "metadata": {},
     "output_type": "display_data"
    }
   ],
   "source": [
    "boxplots(dfs=[coverage_df, length_df, MSE_df], metrics=[\"Coverage\", \"Length\", \"MSE\"])"
   ],
   "metadata": {
    "collapsed": false,
    "ExecuteTime": {
     "end_time": "2025-03-28T01:15:18.438127Z",
     "start_time": "2025-03-28T01:15:17.522084Z"
    }
   },
   "id": "f36f6f9c1ac5c64e"
  },
  {
   "cell_type": "code",
   "execution_count": 155,
   "outputs": [
    {
     "data": {
      "text/plain": "       5.00      10.00     20.00     0.05      0.10      0.20 \n0   0.714286  1.000000  1.000000  1.000000  1.000000  0.833333\n1   0.833333  0.833333  0.833333  1.000000  1.000000  0.500000\n2   0.500000  0.833333  1.000000  0.333333  0.833333  0.833333\n3   0.833333  1.000000  0.857143  0.500000  0.833333  1.000000\n4   0.600000  1.000000  0.800000  1.000000  1.000000  1.000000\n..       ...       ...       ...       ...       ...       ...\n4   1.000000  1.000000  1.000000  1.000000  0.833333  0.833333\n5   0.833333  1.000000  1.000000  0.857143  0.600000  0.833333\n6   1.000000  1.000000  1.000000  0.800000  0.833333  1.000000\n7   1.000000  1.000000  1.000000  0.166667  1.000000  0.800000\n8   1.000000  1.000000  1.000000  1.000000  1.000000  0.600000\n\n[86 rows x 6 columns]",
      "text/html": "<div>\n<style scoped>\n    .dataframe tbody tr th:only-of-type {\n        vertical-align: middle;\n    }\n\n    .dataframe tbody tr th {\n        vertical-align: top;\n    }\n\n    .dataframe thead th {\n        text-align: right;\n    }\n</style>\n<table border=\"1\" class=\"dataframe\">\n  <thead>\n    <tr style=\"text-align: right;\">\n      <th></th>\n      <th>5.00</th>\n      <th>10.00</th>\n      <th>20.00</th>\n      <th>0.05</th>\n      <th>0.10</th>\n      <th>0.20</th>\n    </tr>\n  </thead>\n  <tbody>\n    <tr>\n      <th>0</th>\n      <td>0.714286</td>\n      <td>1.000000</td>\n      <td>1.000000</td>\n      <td>1.000000</td>\n      <td>1.000000</td>\n      <td>0.833333</td>\n    </tr>\n    <tr>\n      <th>1</th>\n      <td>0.833333</td>\n      <td>0.833333</td>\n      <td>0.833333</td>\n      <td>1.000000</td>\n      <td>1.000000</td>\n      <td>0.500000</td>\n    </tr>\n    <tr>\n      <th>2</th>\n      <td>0.500000</td>\n      <td>0.833333</td>\n      <td>1.000000</td>\n      <td>0.333333</td>\n      <td>0.833333</td>\n      <td>0.833333</td>\n    </tr>\n    <tr>\n      <th>3</th>\n      <td>0.833333</td>\n      <td>1.000000</td>\n      <td>0.857143</td>\n      <td>0.500000</td>\n      <td>0.833333</td>\n      <td>1.000000</td>\n    </tr>\n    <tr>\n      <th>4</th>\n      <td>0.600000</td>\n      <td>1.000000</td>\n      <td>0.800000</td>\n      <td>1.000000</td>\n      <td>1.000000</td>\n      <td>1.000000</td>\n    </tr>\n    <tr>\n      <th>...</th>\n      <td>...</td>\n      <td>...</td>\n      <td>...</td>\n      <td>...</td>\n      <td>...</td>\n      <td>...</td>\n    </tr>\n    <tr>\n      <th>4</th>\n      <td>1.000000</td>\n      <td>1.000000</td>\n      <td>1.000000</td>\n      <td>1.000000</td>\n      <td>0.833333</td>\n      <td>0.833333</td>\n    </tr>\n    <tr>\n      <th>5</th>\n      <td>0.833333</td>\n      <td>1.000000</td>\n      <td>1.000000</td>\n      <td>0.857143</td>\n      <td>0.600000</td>\n      <td>0.833333</td>\n    </tr>\n    <tr>\n      <th>6</th>\n      <td>1.000000</td>\n      <td>1.000000</td>\n      <td>1.000000</td>\n      <td>0.800000</td>\n      <td>0.833333</td>\n      <td>1.000000</td>\n    </tr>\n    <tr>\n      <th>7</th>\n      <td>1.000000</td>\n      <td>1.000000</td>\n      <td>1.000000</td>\n      <td>0.166667</td>\n      <td>1.000000</td>\n      <td>0.800000</td>\n    </tr>\n    <tr>\n      <th>8</th>\n      <td>1.000000</td>\n      <td>1.000000</td>\n      <td>1.000000</td>\n      <td>1.000000</td>\n      <td>1.000000</td>\n      <td>0.600000</td>\n    </tr>\n  </tbody>\n</table>\n<p>86 rows × 6 columns</p>\n</div>"
     },
     "execution_count": 155,
     "metadata": {},
     "output_type": "execute_result"
    }
   ],
   "source": [
    "coverage_df"
   ],
   "metadata": {
    "collapsed": false,
    "ExecuteTime": {
     "end_time": "2025-03-24T21:42:17.893375Z",
     "start_time": "2025-03-24T21:42:17.885624Z"
    }
   },
   "id": "e0c6a86beae72b10"
  },
  {
   "cell_type": "code",
   "execution_count": 20,
   "outputs": [],
   "source": [],
   "metadata": {
    "collapsed": false,
    "ExecuteTime": {
     "end_time": "2024-10-24T22:46:50.904900Z",
     "start_time": "2024-10-24T22:46:50.897420Z"
    }
   },
   "id": "2104c532f1fdbed9"
  },
  {
   "cell_type": "code",
   "execution_count": 397,
   "outputs": [],
   "source": [
    "a = np.random.multivariate_normal(mean=np.zeros(3), cov=np.eye(3), size=10)"
   ],
   "metadata": {
    "collapsed": false,
    "ExecuteTime": {
     "end_time": "2025-03-26T05:18:39.181565Z",
     "start_time": "2025-03-26T05:18:39.161336Z"
    }
   },
   "id": "97ff2fc11d1c3a10"
  },
  {
   "cell_type": "code",
   "execution_count": 403,
   "outputs": [
    {
     "data": {
      "text/plain": "array([[ 1.06793651,  1.36987016,  0.38254673],\n       [-0.00676015,  0.04964653,  0.54545289],\n       [ 0.36283111,  1.14141412, -0.09072415],\n       [-0.35752269,  0.12027834,  1.73155615],\n       [-0.2604219 , -0.41158687,  0.85320342],\n       [-0.06342349,  0.26980504,  0.54805346],\n       [ 3.11418919, -0.40739602,  0.14077256],\n       [-1.10491165,  0.58322557, -0.02100113],\n       [ 1.94883554,  0.87846771, -0.46144371],\n       [-1.41438826,  0.90600893,  1.3235796 ]])"
     },
     "execution_count": 403,
     "metadata": {},
     "output_type": "execute_result"
    }
   ],
   "source": [
    "a"
   ],
   "metadata": {
    "collapsed": false,
    "ExecuteTime": {
     "end_time": "2025-03-26T05:19:13.047679Z",
     "start_time": "2025-03-26T05:19:13.026764Z"
    }
   },
   "id": "fdc262fc0c82e43d"
  },
  {
   "cell_type": "code",
   "execution_count": 406,
   "outputs": [
    {
     "data": {
      "text/plain": "array([False,  True, False, False,  True,  True, False,  True, False,\n       False])"
     },
     "execution_count": 406,
     "metadata": {},
     "output_type": "execute_result"
    }
   ],
   "source": [
    "a.max(axis=1) < 1"
   ],
   "metadata": {
    "collapsed": false,
    "ExecuteTime": {
     "end_time": "2025-03-26T05:19:34.635566Z",
     "start_time": "2025-03-26T05:19:34.617754Z"
    }
   },
   "id": "1b5e496c454bf766"
  },
  {
   "cell_type": "code",
   "execution_count": 410,
   "outputs": [
    {
     "data": {
      "text/plain": "array([ True,  True,  True,  True,  True,  True,  True, False,  True,\n       False])"
     },
     "execution_count": 410,
     "metadata": {},
     "output_type": "execute_result"
    }
   ],
   "source": [
    "a.min(axis=1) > -1"
   ],
   "metadata": {
    "collapsed": false,
    "ExecuteTime": {
     "end_time": "2025-03-26T05:19:59.062572Z",
     "start_time": "2025-03-26T05:19:59.050985Z"
    }
   },
   "id": "32705f5b2991411f"
  },
  {
   "cell_type": "code",
   "execution_count": 413,
   "outputs": [
    {
     "data": {
      "text/plain": "np.int64(3)"
     },
     "execution_count": 413,
     "metadata": {},
     "output_type": "execute_result"
    }
   ],
   "source": [
    "np.logical_and(a.min(axis=1) > -1, a.max(axis=1) < 1).sum()"
   ],
   "metadata": {
    "collapsed": false,
    "ExecuteTime": {
     "end_time": "2025-03-26T05:21:14.242274Z",
     "start_time": "2025-03-26T05:21:14.238294Z"
    }
   },
   "id": "9aa9f1f7cc95b4e6"
  },
  {
   "cell_type": "code",
   "execution_count": null,
   "outputs": [],
   "source": [],
   "metadata": {
    "collapsed": false
   },
   "id": "4e632b0894336afe"
  }
 ],
 "metadata": {
  "kernelspec": {
   "display_name": "Python 3",
   "language": "python",
   "name": "python3"
  },
  "language_info": {
   "codemirror_mode": {
    "name": "ipython",
    "version": 2
   },
   "file_extension": ".py",
   "mimetype": "text/x-python",
   "name": "python",
   "nbconvert_exporter": "python",
   "pygments_lexer": "ipython2",
   "version": "2.7.6"
  }
 },
 "nbformat": 4,
 "nbformat_minor": 5
}
