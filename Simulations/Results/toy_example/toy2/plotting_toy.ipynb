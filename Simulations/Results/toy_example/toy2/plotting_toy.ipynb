{
 "cells": [
  {
   "cell_type": "code",
   "execution_count": 19,
   "id": "initial_id",
   "metadata": {
    "collapsed": true,
    "ExecuteTime": {
     "end_time": "2025-02-28T17:46:46.578140Z",
     "start_time": "2025-02-28T17:46:46.575393Z"
    }
   },
   "outputs": [],
   "source": [
    "import joblib\n",
    "import matplotlib.pyplot as plt\n",
    "import numpy as np\n",
    "import pandas as pd\n",
    "import seaborn as sns"
   ]
  },
  {
   "cell_type": "code",
   "execution_count": 20,
   "outputs": [],
   "source": [
    "n_task_per_file = 50\n",
    "n_files = 10\n",
    "base_dir = \"toy_eg_stage2_\"\n",
    "files_list = []\n",
    "for i in range(n_files):\n",
    "    dir = base_dir + str(i*n_task_per_file) + \"_\"  + str((i+1)*n_task_per_file) + \".pkl\"\n",
    "    files_list.append(dir)"
   ],
   "metadata": {
    "collapsed": false,
    "ExecuteTime": {
     "end_time": "2025-02-28T17:46:46.838838Z",
     "start_time": "2025-02-28T17:46:46.833533Z"
    }
   },
   "id": "15c24ca328824b39"
  },
  {
   "cell_type": "code",
   "execution_count": 21,
   "outputs": [],
   "source": [
    "coverage_df = pd.DataFrame()\n",
    "length_df = pd.DataFrame()\n",
    "MSE_df = pd.DataFrame()\n",
    "\n",
    "for f_dir in files_list:\n",
    "    coverage_i, length_i, MSE_i = joblib.load(f_dir)\n",
    "    coverage_df = pd.concat([coverage_df, pd.DataFrame(coverage_i)])\n",
    "    length_df = pd.concat([length_df, pd.DataFrame(length_i)])\n",
    "    MSE_df = pd.concat([MSE_df, pd.DataFrame(MSE_i)])"
   ],
   "metadata": {
    "collapsed": false,
    "ExecuteTime": {
     "end_time": "2025-02-28T17:46:47.169662Z",
     "start_time": "2025-02-28T17:46:47.102818Z"
    }
   },
   "id": "44ea9729e9ad0ae7"
  },
  {
   "cell_type": "code",
   "execution_count": 22,
   "outputs": [
    {
     "data": {
      "text/plain": "         1.0    UV_0.1    UV_0.2    UV_0.3    UV_0.4    UV_0.5\n0   0.857143  1.000000  0.833333  0.857143  1.000000  0.833333\n1   1.000000  0.833333  1.000000  1.000000  0.833333  1.000000\n2   1.000000  1.000000  1.000000  0.833333  1.000000  1.000000\n3   1.000000  1.000000  1.000000  1.000000  1.000000  1.000000\n4   0.833333  1.000000  0.833333  0.666667  1.000000  0.833333\n..       ...       ...       ...       ...       ...       ...\n45  1.000000  1.000000  0.833333  0.857143  0.857143  0.833333\n46  1.000000  1.000000  0.666667  1.000000  0.666667  1.000000\n47  1.000000  0.857143  1.000000  0.833333  0.833333  1.000000\n48  1.000000  0.833333  0.833333  1.000000  1.000000  0.666667\n49  0.333333  0.600000  0.800000  1.000000  0.600000  1.000000\n\n[500 rows x 6 columns]",
      "text/html": "<div>\n<style scoped>\n    .dataframe tbody tr th:only-of-type {\n        vertical-align: middle;\n    }\n\n    .dataframe tbody tr th {\n        vertical-align: top;\n    }\n\n    .dataframe thead th {\n        text-align: right;\n    }\n</style>\n<table border=\"1\" class=\"dataframe\">\n  <thead>\n    <tr style=\"text-align: right;\">\n      <th></th>\n      <th>1.0</th>\n      <th>UV_0.1</th>\n      <th>UV_0.2</th>\n      <th>UV_0.3</th>\n      <th>UV_0.4</th>\n      <th>UV_0.5</th>\n    </tr>\n  </thead>\n  <tbody>\n    <tr>\n      <th>0</th>\n      <td>0.857143</td>\n      <td>1.000000</td>\n      <td>0.833333</td>\n      <td>0.857143</td>\n      <td>1.000000</td>\n      <td>0.833333</td>\n    </tr>\n    <tr>\n      <th>1</th>\n      <td>1.000000</td>\n      <td>0.833333</td>\n      <td>1.000000</td>\n      <td>1.000000</td>\n      <td>0.833333</td>\n      <td>1.000000</td>\n    </tr>\n    <tr>\n      <th>2</th>\n      <td>1.000000</td>\n      <td>1.000000</td>\n      <td>1.000000</td>\n      <td>0.833333</td>\n      <td>1.000000</td>\n      <td>1.000000</td>\n    </tr>\n    <tr>\n      <th>3</th>\n      <td>1.000000</td>\n      <td>1.000000</td>\n      <td>1.000000</td>\n      <td>1.000000</td>\n      <td>1.000000</td>\n      <td>1.000000</td>\n    </tr>\n    <tr>\n      <th>4</th>\n      <td>0.833333</td>\n      <td>1.000000</td>\n      <td>0.833333</td>\n      <td>0.666667</td>\n      <td>1.000000</td>\n      <td>0.833333</td>\n    </tr>\n    <tr>\n      <th>...</th>\n      <td>...</td>\n      <td>...</td>\n      <td>...</td>\n      <td>...</td>\n      <td>...</td>\n      <td>...</td>\n    </tr>\n    <tr>\n      <th>45</th>\n      <td>1.000000</td>\n      <td>1.000000</td>\n      <td>0.833333</td>\n      <td>0.857143</td>\n      <td>0.857143</td>\n      <td>0.833333</td>\n    </tr>\n    <tr>\n      <th>46</th>\n      <td>1.000000</td>\n      <td>1.000000</td>\n      <td>0.666667</td>\n      <td>1.000000</td>\n      <td>0.666667</td>\n      <td>1.000000</td>\n    </tr>\n    <tr>\n      <th>47</th>\n      <td>1.000000</td>\n      <td>0.857143</td>\n      <td>1.000000</td>\n      <td>0.833333</td>\n      <td>0.833333</td>\n      <td>1.000000</td>\n    </tr>\n    <tr>\n      <th>48</th>\n      <td>1.000000</td>\n      <td>0.833333</td>\n      <td>0.833333</td>\n      <td>1.000000</td>\n      <td>1.000000</td>\n      <td>0.666667</td>\n    </tr>\n    <tr>\n      <th>49</th>\n      <td>0.333333</td>\n      <td>0.600000</td>\n      <td>0.800000</td>\n      <td>1.000000</td>\n      <td>0.600000</td>\n      <td>1.000000</td>\n    </tr>\n  </tbody>\n</table>\n<p>500 rows × 6 columns</p>\n</div>"
     },
     "execution_count": 22,
     "metadata": {},
     "output_type": "execute_result"
    }
   ],
   "source": [
    "coverage_df = coverage_df.drop([\"Tree val\", \"Naive\"], axis=1)\n",
    "coverage_df"
   ],
   "metadata": {
    "collapsed": false,
    "ExecuteTime": {
     "end_time": "2025-02-28T17:46:47.393833Z",
     "start_time": "2025-02-28T17:46:47.389682Z"
    }
   },
   "id": "6d1f1fad39e063ac"
  },
  {
   "cell_type": "code",
   "execution_count": 23,
   "outputs": [
    {
     "data": {
      "text/plain": "          1.0    UV_0.1    UV_0.2    UV_0.3    UV_0.4    UV_0.5\n0   11.145176  3.895045  2.847981  2.610729  2.221367  2.004146\n1   11.993800  3.881247  2.857391  2.431454  2.153402  2.011266\n2   11.350601  3.892569  2.878134  2.449271  2.205467  2.020659\n3   11.576643  3.899004  2.842823  2.220965  2.191617  1.837562\n4   11.407066  3.808812  2.941760  2.424997  2.174680  1.987001\n..        ...       ...       ...       ...       ...       ...\n45  11.735904  3.970199  2.927846  2.647089  2.329275  2.072758\n46  11.442171  3.824529  2.858296  2.416684  2.166562  2.008007\n47  11.382959  4.102401  2.865537  2.467299  2.191724  2.164085\n48  11.193820  3.884554  2.855153  2.385369  2.168130  2.065526\n49  11.111030  3.565059  2.611820  2.241410  2.003801  2.038837\n\n[500 rows x 6 columns]",
      "text/html": "<div>\n<style scoped>\n    .dataframe tbody tr th:only-of-type {\n        vertical-align: middle;\n    }\n\n    .dataframe tbody tr th {\n        vertical-align: top;\n    }\n\n    .dataframe thead th {\n        text-align: right;\n    }\n</style>\n<table border=\"1\" class=\"dataframe\">\n  <thead>\n    <tr style=\"text-align: right;\">\n      <th></th>\n      <th>1.0</th>\n      <th>UV_0.1</th>\n      <th>UV_0.2</th>\n      <th>UV_0.3</th>\n      <th>UV_0.4</th>\n      <th>UV_0.5</th>\n    </tr>\n  </thead>\n  <tbody>\n    <tr>\n      <th>0</th>\n      <td>11.145176</td>\n      <td>3.895045</td>\n      <td>2.847981</td>\n      <td>2.610729</td>\n      <td>2.221367</td>\n      <td>2.004146</td>\n    </tr>\n    <tr>\n      <th>1</th>\n      <td>11.993800</td>\n      <td>3.881247</td>\n      <td>2.857391</td>\n      <td>2.431454</td>\n      <td>2.153402</td>\n      <td>2.011266</td>\n    </tr>\n    <tr>\n      <th>2</th>\n      <td>11.350601</td>\n      <td>3.892569</td>\n      <td>2.878134</td>\n      <td>2.449271</td>\n      <td>2.205467</td>\n      <td>2.020659</td>\n    </tr>\n    <tr>\n      <th>3</th>\n      <td>11.576643</td>\n      <td>3.899004</td>\n      <td>2.842823</td>\n      <td>2.220965</td>\n      <td>2.191617</td>\n      <td>1.837562</td>\n    </tr>\n    <tr>\n      <th>4</th>\n      <td>11.407066</td>\n      <td>3.808812</td>\n      <td>2.941760</td>\n      <td>2.424997</td>\n      <td>2.174680</td>\n      <td>1.987001</td>\n    </tr>\n    <tr>\n      <th>...</th>\n      <td>...</td>\n      <td>...</td>\n      <td>...</td>\n      <td>...</td>\n      <td>...</td>\n      <td>...</td>\n    </tr>\n    <tr>\n      <th>45</th>\n      <td>11.735904</td>\n      <td>3.970199</td>\n      <td>2.927846</td>\n      <td>2.647089</td>\n      <td>2.329275</td>\n      <td>2.072758</td>\n    </tr>\n    <tr>\n      <th>46</th>\n      <td>11.442171</td>\n      <td>3.824529</td>\n      <td>2.858296</td>\n      <td>2.416684</td>\n      <td>2.166562</td>\n      <td>2.008007</td>\n    </tr>\n    <tr>\n      <th>47</th>\n      <td>11.382959</td>\n      <td>4.102401</td>\n      <td>2.865537</td>\n      <td>2.467299</td>\n      <td>2.191724</td>\n      <td>2.164085</td>\n    </tr>\n    <tr>\n      <th>48</th>\n      <td>11.193820</td>\n      <td>3.884554</td>\n      <td>2.855153</td>\n      <td>2.385369</td>\n      <td>2.168130</td>\n      <td>2.065526</td>\n    </tr>\n    <tr>\n      <th>49</th>\n      <td>11.111030</td>\n      <td>3.565059</td>\n      <td>2.611820</td>\n      <td>2.241410</td>\n      <td>2.003801</td>\n      <td>2.038837</td>\n    </tr>\n  </tbody>\n</table>\n<p>500 rows × 6 columns</p>\n</div>"
     },
     "execution_count": 23,
     "metadata": {},
     "output_type": "execute_result"
    }
   ],
   "source": [
    "length_df = length_df.drop([\"Tree val\", \"Naive\"], axis=1)\n",
    "length_df"
   ],
   "metadata": {
    "collapsed": false,
    "ExecuteTime": {
     "end_time": "2025-02-28T17:46:47.909093Z",
     "start_time": "2025-02-28T17:46:47.903347Z"
    }
   },
   "id": "d0d1248252b6e9fe"
  },
  {
   "cell_type": "code",
   "execution_count": 24,
   "outputs": [],
   "source": [
    "MSE_df = MSE_df.drop([\"Tree val\", \"Naive\"], axis=1)"
   ],
   "metadata": {
    "collapsed": false,
    "ExecuteTime": {
     "end_time": "2025-02-28T17:46:48.639759Z",
     "start_time": "2025-02-28T17:46:48.616839Z"
    }
   },
   "id": "1c29233a2057cd3"
  },
  {
   "cell_type": "code",
   "execution_count": 25,
   "outputs": [
    {
     "data": {
      "text/plain": "1.0       4.713445\nUV_0.1    4.756502\nUV_0.2    4.811239\nUV_0.3    4.854441\nUV_0.4    4.907366\nUV_0.5    4.963467\ndtype: float64"
     },
     "execution_count": 25,
     "metadata": {},
     "output_type": "execute_result"
    }
   ],
   "source": [
    "MSE_df.mean()"
   ],
   "metadata": {
    "collapsed": false,
    "ExecuteTime": {
     "end_time": "2025-02-28T17:46:49.115145Z",
     "start_time": "2025-02-28T17:46:49.111715Z"
    }
   },
   "id": "66c4d33b775a6096"
  },
  {
   "cell_type": "code",
   "execution_count": 26,
   "outputs": [],
   "source": [
    "import seaborn as sns\n",
    "def boxplots(dfs, metrics, len_lim=10, MSE_lim=10, \n",
    "             len_baseline_key=None, MSE_baseline_key=None,\n",
    "             col_names=None, palette=None):\n",
    "    # Set up the subplots: one for each metric\n",
    "    fig, axes = plt.subplots(1, 3, figsize=(15, 6))\n",
    "    \n",
    "    # Iterate over the dataframes and create a boxplot for each\n",
    "    for i, (df, metric) in enumerate(zip(dfs, metrics)):\n",
    "        if col_names is not None:\n",
    "            df = df.copy()\n",
    "            df.columns = col_names\n",
    "        sns.boxplot(data=df, ax=axes[i], palette=palette, showfliers=False)\n",
    "        axes[i].set_title(f'Boxplot for {metric}')\n",
    "        axes[i].set_xlabel('Method')\n",
    "        axes[i].set_ylabel('Value')\n",
    "        # Add triangles for the mean values\n",
    "        means = df.mean()  # Calculate mean for each method (column)\n",
    "        print(metric,\":\\n\",means.T)\n",
    "        for j, mean in enumerate(means):\n",
    "            if metric == \"Coverage\":\n",
    "                axes[i].plot(j, mean, marker='v', color='#40E0D0', markersize=10)  # Add a red triangle for the mean\n",
    "        if metric == \"Coverage\":\n",
    "            axes[i].set_ylim(0,1)\n",
    "            axes[i].axhline(y=0.9, linestyle='dotted', color='grey', linewidth=1)\n",
    "        elif metric == \"Length\":\n",
    "            axes[i].set_ylim(0,len_lim)\n",
    "            #if len_baseline_key:\n",
    "            #    axes[i].axhline(y=means[len_baseline_key], linestyle='dotted', color='grey')\n",
    "        elif metric == \"MSE\":\n",
    "            axes[i].set_ylim(3,6.5)\n",
    "            if MSE_baseline_key:\n",
    "                axes[i].axhline(y=means[MSE_baseline_key], linestyle='dotted', color='grey',\n",
    "                                linewidth=2)\n",
    "    \n",
    "    # Show the plots\n",
    "    plt.tight_layout()\n",
    "    plt.show()"
   ],
   "metadata": {
    "collapsed": false,
    "ExecuteTime": {
     "end_time": "2025-02-28T17:46:49.597797Z",
     "start_time": "2025-02-28T17:46:49.586180Z"
    }
   },
   "id": "6b8550a6c1ca31c2"
  },
  {
   "cell_type": "code",
   "execution_count": 28,
   "outputs": [
    {
     "name": "stdout",
     "output_type": "stream",
     "text": [
      "Coverage :\n",
      " RRT(1)     0.845362\n",
      "UV(0.1)    0.902190\n",
      "UV(0.2)    0.889495\n",
      "UV(0.3)    0.902229\n",
      "UV(0.4)    0.894514\n",
      "UV(0.5)    0.903257\n",
      "dtype: float64\n",
      "Length :\n",
      " RRT(1)     11.384211\n",
      "UV(0.1)     3.890310\n",
      "UV(0.2)     2.876307\n",
      "UV(0.3)     2.446788\n",
      "UV(0.4)     2.198208\n",
      "UV(0.5)     2.034509\n",
      "dtype: float64\n",
      "MSE :\n",
      " RRT(1)     4.713445\n",
      "UV(0.1)    4.756502\n",
      "UV(0.2)    4.811239\n",
      "UV(0.3)    4.854441\n",
      "UV(0.4)    4.907366\n",
      "UV(0.5)    4.963467\n",
      "dtype: float64\n"
     ]
    },
    {
     "data": {
      "text/plain": "<Figure size 1500x600 with 3 Axes>",
      "image/png": "[encoded data removed]"
     },
     "metadata": {},
     "output_type": "display_data"
    }
   ],
   "source": [
    "boxplots(dfs=[coverage_df, \n",
    "              length_df, \n",
    "              MSE_df], \n",
    "         len_lim=15,\n",
    "         len_baseline_key=\"RRT(1)\",\n",
    "         MSE_baseline_key=\"RRT(1)\",\n",
    "         metrics=[\"Coverage\", \"Length\", \"MSE\"],\n",
    "         col_names=[\"RRT(1)\", \"UV(0.1)\", \"UV(0.2)\", \"UV(0.3)\", \"UV(0.4)\", \"UV(0.5)\"], \n",
    "         palette=[\"#A8E6CF\", \"#66B2A2\", \"#41897D\", \"#2A5D57\", \"#2A4A5D\", \"#1E3A3A\"])"
   ],
   "metadata": {
    "collapsed": false,
    "ExecuteTime": {
     "end_time": "2025-02-28T17:46:59.342738Z",
     "start_time": "2025-02-28T17:46:59.044001Z"
    }
   },
   "id": "f36f6f9c1ac5c64e"
  },
  {
   "cell_type": "code",
   "execution_count": 9,
   "outputs": [],
   "source": [],
   "metadata": {
    "collapsed": false,
    "ExecuteTime": {
     "end_time": "2025-02-27T07:22:37.754731Z",
     "start_time": "2025-02-27T07:22:37.735285Z"
    }
   },
   "id": "2104c532f1fdbed9"
  },
  {
   "cell_type": "code",
   "execution_count": 9,
   "outputs": [],
   "source": [],
   "metadata": {
    "collapsed": false,
    "ExecuteTime": {
     "end_time": "2024-12-21T23:44:29.633043Z",
     "start_time": "2024-12-21T23:44:29.629854Z"
    }
   },
   "id": "c574a7e1062f33f9"
  },
  {
   "cell_type": "code",
   "execution_count": 9,
   "outputs": [],
   "source": [],
   "metadata": {
    "collapsed": false,
    "ExecuteTime": {
     "end_time": "2024-12-21T23:44:29.634232Z",
     "start_time": "2024-12-21T23:44:29.632698Z"
    }
   },
   "id": "5bae9fc0c2bec8d7"
  },
  {
   "cell_type": "code",
   "execution_count": null,
   "outputs": [],
   "source": [],
   "metadata": {
    "collapsed": false
   },
   "id": "5395e76f4a037b9"
  }
 ],
 "metadata": {
  "kernelspec": {
   "display_name": "Python 3",
   "language": "python",
   "name": "python3"
  },
  "language_info": {
   "codemirror_mode": {
    "name": "ipython",
    "version": 2
   },
   "file_extension": ".py",
   "mimetype": "text/x-python",
   "name": "python",
   "nbconvert_exporter": "python",
   "pygments_lexer": "ipython2",
   "version": "2.7.6"
  }
 },
 "nbformat": 4,
 "nbformat_minor": 5
}
