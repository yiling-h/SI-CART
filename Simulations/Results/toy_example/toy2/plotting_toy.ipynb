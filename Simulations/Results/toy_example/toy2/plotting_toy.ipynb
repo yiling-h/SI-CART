{
 "cells": [
  {
   "cell_type": "code",
   "execution_count": 1,
   "id": "initial_id",
   "metadata": {
    "collapsed": true,
    "ExecuteTime": {
     "end_time": "2025-02-27T07:22:30.964802Z",
     "start_time": "2025-02-27T07:22:30.946838Z"
    }
   },
   "outputs": [],
   "source": [
    "import joblib\n",
    "import matplotlib.pyplot as plt\n",
    "import numpy as np\n",
    "import pandas as pd\n",
    "import seaborn as sns"
   ]
  },
  {
   "cell_type": "code",
   "execution_count": 2,
   "outputs": [],
   "source": [
    "n_task_per_file = 50\n",
    "n_files = 10\n",
    "base_dir = \"toy_eg_stage2_\"\n",
    "files_list = []\n",
    "for i in range(n_files):\n",
    "    dir = base_dir + str(i*n_task_per_file) + \"_\"  + str((i+1)*n_task_per_file) + \".pkl\"\n",
    "    files_list.append(dir)"
   ],
   "metadata": {
    "collapsed": false,
    "ExecuteTime": {
     "end_time": "2025-02-27T07:22:30.980019Z",
     "start_time": "2025-02-27T07:22:30.966117Z"
    }
   },
   "id": "15c24ca328824b39"
  },
  {
   "cell_type": "code",
   "execution_count": 3,
   "outputs": [],
   "source": [
    "coverage_df = pd.DataFrame()\n",
    "length_df = pd.DataFrame()\n",
    "MSE_df = pd.DataFrame()\n",
    "\n",
    "for f_dir in files_list:\n",
    "    coverage_i, length_i, MSE_i = joblib.load(f_dir)\n",
    "    coverage_df = pd.concat([coverage_df, pd.DataFrame(coverage_i)])\n",
    "    length_df = pd.concat([length_df, pd.DataFrame(length_i)])\n",
    "    MSE_df = pd.concat([MSE_df, pd.DataFrame(MSE_i)])"
   ],
   "metadata": {
    "collapsed": false,
    "ExecuteTime": {
     "end_time": "2025-02-27T07:22:31.115575Z",
     "start_time": "2025-02-27T07:22:30.971354Z"
    }
   },
   "id": "44ea9729e9ad0ae7"
  },
  {
   "cell_type": "code",
   "execution_count": 4,
   "outputs": [
    {
     "data": {
      "text/plain": "         1.0    UV_0.1    UV_0.2    UV_0.3    UV_0.4    UV_0.5\n0   0.857143  1.000000  0.833333  0.857143  1.000000  0.833333\n1   1.000000  0.833333  1.000000  1.000000  0.833333  1.000000\n2   1.000000  1.000000  1.000000  0.833333  1.000000  1.000000\n3   1.000000  1.000000  1.000000  1.000000  1.000000  1.000000\n4   0.500000  1.000000  0.833333  0.666667  1.000000  0.833333\n..       ...       ...       ...       ...       ...       ...\n45  0.500000  1.000000  0.833333  0.857143  0.857143  0.833333\n46  1.000000  1.000000  0.666667  1.000000  0.666667  1.000000\n47  1.000000  0.857143  1.000000  0.833333  0.833333  1.000000\n48  1.000000  0.833333  0.833333  1.000000  1.000000  0.666667\n49  1.000000  0.600000  0.800000  1.000000  0.600000  1.000000\n\n[481 rows x 6 columns]",
      "text/html": "<div>\n<style scoped>\n    .dataframe tbody tr th:only-of-type {\n        vertical-align: middle;\n    }\n\n    .dataframe tbody tr th {\n        vertical-align: top;\n    }\n\n    .dataframe thead th {\n        text-align: right;\n    }\n</style>\n<table border=\"1\" class=\"dataframe\">\n  <thead>\n    <tr style=\"text-align: right;\">\n      <th></th>\n      <th>1.0</th>\n      <th>UV_0.1</th>\n      <th>UV_0.2</th>\n      <th>UV_0.3</th>\n      <th>UV_0.4</th>\n      <th>UV_0.5</th>\n    </tr>\n  </thead>\n  <tbody>\n    <tr>\n      <th>0</th>\n      <td>0.857143</td>\n      <td>1.000000</td>\n      <td>0.833333</td>\n      <td>0.857143</td>\n      <td>1.000000</td>\n      <td>0.833333</td>\n    </tr>\n    <tr>\n      <th>1</th>\n      <td>1.000000</td>\n      <td>0.833333</td>\n      <td>1.000000</td>\n      <td>1.000000</td>\n      <td>0.833333</td>\n      <td>1.000000</td>\n    </tr>\n    <tr>\n      <th>2</th>\n      <td>1.000000</td>\n      <td>1.000000</td>\n      <td>1.000000</td>\n      <td>0.833333</td>\n      <td>1.000000</td>\n      <td>1.000000</td>\n    </tr>\n    <tr>\n      <th>3</th>\n      <td>1.000000</td>\n      <td>1.000000</td>\n      <td>1.000000</td>\n      <td>1.000000</td>\n      <td>1.000000</td>\n      <td>1.000000</td>\n    </tr>\n    <tr>\n      <th>4</th>\n      <td>0.500000</td>\n      <td>1.000000</td>\n      <td>0.833333</td>\n      <td>0.666667</td>\n      <td>1.000000</td>\n      <td>0.833333</td>\n    </tr>\n    <tr>\n      <th>...</th>\n      <td>...</td>\n      <td>...</td>\n      <td>...</td>\n      <td>...</td>\n      <td>...</td>\n      <td>...</td>\n    </tr>\n    <tr>\n      <th>45</th>\n      <td>0.500000</td>\n      <td>1.000000</td>\n      <td>0.833333</td>\n      <td>0.857143</td>\n      <td>0.857143</td>\n      <td>0.833333</td>\n    </tr>\n    <tr>\n      <th>46</th>\n      <td>1.000000</td>\n      <td>1.000000</td>\n      <td>0.666667</td>\n      <td>1.000000</td>\n      <td>0.666667</td>\n      <td>1.000000</td>\n    </tr>\n    <tr>\n      <th>47</th>\n      <td>1.000000</td>\n      <td>0.857143</td>\n      <td>1.000000</td>\n      <td>0.833333</td>\n      <td>0.833333</td>\n      <td>1.000000</td>\n    </tr>\n    <tr>\n      <th>48</th>\n      <td>1.000000</td>\n      <td>0.833333</td>\n      <td>0.833333</td>\n      <td>1.000000</td>\n      <td>1.000000</td>\n      <td>0.666667</td>\n    </tr>\n    <tr>\n      <th>49</th>\n      <td>1.000000</td>\n      <td>0.600000</td>\n      <td>0.800000</td>\n      <td>1.000000</td>\n      <td>0.600000</td>\n      <td>1.000000</td>\n    </tr>\n  </tbody>\n</table>\n<p>481 rows × 6 columns</p>\n</div>"
     },
     "execution_count": 4,
     "metadata": {},
     "output_type": "execute_result"
    }
   ],
   "source": [
    "coverage_df = coverage_df.drop([\"Tree val\", \"Naive\"], axis=1)\n",
    "coverage_df"
   ],
   "metadata": {
    "collapsed": false,
    "ExecuteTime": {
     "end_time": "2025-02-27T07:22:35.154437Z",
     "start_time": "2025-02-27T07:22:35.139019Z"
    }
   },
   "id": "6d1f1fad39e063ac"
  },
  {
   "cell_type": "code",
   "execution_count": 5,
   "outputs": [
    {
     "data": {
      "text/plain": "          1.0    UV_0.1    UV_0.2    UV_0.3    UV_0.4    UV_0.5\n0   13.786353  3.895045  2.847981  2.610729  2.221367  2.004146\n1   14.211939  3.881247  2.857391  2.431454  2.153402  2.011266\n2   13.537125  3.892569  2.878134  2.449271  2.205467  2.020659\n3   13.249743  3.899004  2.842823  2.220965  2.191617  1.837562\n4   14.045916  3.808812  2.941760  2.424997  2.174680  1.987001\n..        ...       ...       ...       ...       ...       ...\n45  13.785234  3.970199  2.927846  2.647089  2.329275  2.072758\n46  13.583160  3.824529  2.858296  2.416684  2.166562  2.008007\n47  13.903021  4.102401  2.865537  2.467299  2.191724  2.164085\n48  13.624630  3.884554  2.855153  2.385369  2.168130  2.065526\n49  13.338246  3.565059  2.611820  2.241410  2.003801  2.038837\n\n[481 rows x 6 columns]",
      "text/html": "<div>\n<style scoped>\n    .dataframe tbody tr th:only-of-type {\n        vertical-align: middle;\n    }\n\n    .dataframe tbody tr th {\n        vertical-align: top;\n    }\n\n    .dataframe thead th {\n        text-align: right;\n    }\n</style>\n<table border=\"1\" class=\"dataframe\">\n  <thead>\n    <tr style=\"text-align: right;\">\n      <th></th>\n      <th>1.0</th>\n      <th>UV_0.1</th>\n      <th>UV_0.2</th>\n      <th>UV_0.3</th>\n      <th>UV_0.4</th>\n      <th>UV_0.5</th>\n    </tr>\n  </thead>\n  <tbody>\n    <tr>\n      <th>0</th>\n      <td>13.786353</td>\n      <td>3.895045</td>\n      <td>2.847981</td>\n      <td>2.610729</td>\n      <td>2.221367</td>\n      <td>2.004146</td>\n    </tr>\n    <tr>\n      <th>1</th>\n      <td>14.211939</td>\n      <td>3.881247</td>\n      <td>2.857391</td>\n      <td>2.431454</td>\n      <td>2.153402</td>\n      <td>2.011266</td>\n    </tr>\n    <tr>\n      <th>2</th>\n      <td>13.537125</td>\n      <td>3.892569</td>\n      <td>2.878134</td>\n      <td>2.449271</td>\n      <td>2.205467</td>\n      <td>2.020659</td>\n    </tr>\n    <tr>\n      <th>3</th>\n      <td>13.249743</td>\n      <td>3.899004</td>\n      <td>2.842823</td>\n      <td>2.220965</td>\n      <td>2.191617</td>\n      <td>1.837562</td>\n    </tr>\n    <tr>\n      <th>4</th>\n      <td>14.045916</td>\n      <td>3.808812</td>\n      <td>2.941760</td>\n      <td>2.424997</td>\n      <td>2.174680</td>\n      <td>1.987001</td>\n    </tr>\n    <tr>\n      <th>...</th>\n      <td>...</td>\n      <td>...</td>\n      <td>...</td>\n      <td>...</td>\n      <td>...</td>\n      <td>...</td>\n    </tr>\n    <tr>\n      <th>45</th>\n      <td>13.785234</td>\n      <td>3.970199</td>\n      <td>2.927846</td>\n      <td>2.647089</td>\n      <td>2.329275</td>\n      <td>2.072758</td>\n    </tr>\n    <tr>\n      <th>46</th>\n      <td>13.583160</td>\n      <td>3.824529</td>\n      <td>2.858296</td>\n      <td>2.416684</td>\n      <td>2.166562</td>\n      <td>2.008007</td>\n    </tr>\n    <tr>\n      <th>47</th>\n      <td>13.903021</td>\n      <td>4.102401</td>\n      <td>2.865537</td>\n      <td>2.467299</td>\n      <td>2.191724</td>\n      <td>2.164085</td>\n    </tr>\n    <tr>\n      <th>48</th>\n      <td>13.624630</td>\n      <td>3.884554</td>\n      <td>2.855153</td>\n      <td>2.385369</td>\n      <td>2.168130</td>\n      <td>2.065526</td>\n    </tr>\n    <tr>\n      <th>49</th>\n      <td>13.338246</td>\n      <td>3.565059</td>\n      <td>2.611820</td>\n      <td>2.241410</td>\n      <td>2.003801</td>\n      <td>2.038837</td>\n    </tr>\n  </tbody>\n</table>\n<p>481 rows × 6 columns</p>\n</div>"
     },
     "execution_count": 5,
     "metadata": {},
     "output_type": "execute_result"
    }
   ],
   "source": [
    "length_df = length_df.drop([\"Tree val\", \"Naive\"], axis=1)\n",
    "length_df"
   ],
   "metadata": {
    "collapsed": false,
    "ExecuteTime": {
     "end_time": "2025-02-27T07:22:35.665261Z",
     "start_time": "2025-02-27T07:22:35.661699Z"
    }
   },
   "id": "d0d1248252b6e9fe"
  },
  {
   "cell_type": "code",
   "execution_count": 6,
   "outputs": [],
   "source": [
    "MSE_df = MSE_df.drop([\"Tree val\", \"Naive\"], axis=1)"
   ],
   "metadata": {
    "collapsed": false,
    "ExecuteTime": {
     "end_time": "2025-02-27T07:22:36.055981Z",
     "start_time": "2025-02-27T07:22:36.052227Z"
    }
   },
   "id": "1c29233a2057cd3"
  },
  {
   "cell_type": "code",
   "execution_count": 7,
   "outputs": [
    {
     "data": {
      "text/plain": "1.0       4.714722\nUV_0.1    4.756241\nUV_0.2    4.809944\nUV_0.3    4.855541\nUV_0.4    4.907430\nUV_0.5    4.964522\ndtype: float64"
     },
     "execution_count": 7,
     "metadata": {},
     "output_type": "execute_result"
    }
   ],
   "source": [
    "MSE_df.mean()"
   ],
   "metadata": {
    "collapsed": false,
    "ExecuteTime": {
     "end_time": "2025-02-27T07:22:36.557190Z",
     "start_time": "2025-02-27T07:22:36.541006Z"
    }
   },
   "id": "66c4d33b775a6096"
  },
  {
   "cell_type": "code",
   "execution_count": 8,
   "outputs": [],
   "source": [
    "import seaborn as sns\n",
    "def boxplots(dfs, metrics, len_lim=10, MSE_lim=10, \n",
    "             len_baseline_key=None, MSE_baseline_key=None,\n",
    "             col_names=None, palette=None):\n",
    "    # Set up the subplots: one for each metric\n",
    "    fig, axes = plt.subplots(1, 3, figsize=(15, 6))\n",
    "    \n",
    "    # Iterate over the dataframes and create a boxplot for each\n",
    "    for i, (df, metric) in enumerate(zip(dfs, metrics)):\n",
    "        if col_names is not None:\n",
    "            df = df.copy()\n",
    "            df.columns = col_names\n",
    "        sns.boxplot(data=df, ax=axes[i], palette=palette, showfliers=False)\n",
    "        axes[i].set_title(f'Boxplot for {metric}')\n",
    "        axes[i].set_xlabel('Method')\n",
    "        axes[i].set_ylabel('Value')\n",
    "        # Add triangles for the mean values\n",
    "        means = df.mean()  # Calculate mean for each method (column)\n",
    "        print(metric,\":\\n\",means.T)\n",
    "        for j, mean in enumerate(means):\n",
    "            if metric == \"Coverage\":\n",
    "                axes[i].plot(j, mean, marker='v', color='#40E0D0', markersize=10)  # Add a red triangle for the mean\n",
    "        if metric == \"Coverage\":\n",
    "            axes[i].set_ylim(0,1)\n",
    "            axes[i].axhline(y=0.9, linestyle='dotted', color='grey', linewidth=1)\n",
    "        elif metric == \"Length\":\n",
    "            axes[i].set_ylim(0,len_lim)\n",
    "            #if len_baseline_key:\n",
    "            #    axes[i].axhline(y=means[len_baseline_key], linestyle='dotted', color='grey')\n",
    "        elif metric == \"MSE\":\n",
    "            axes[i].set_ylim(3,6.5)\n",
    "            if MSE_baseline_key:\n",
    "                axes[i].axhline(y=means[MSE_baseline_key], linestyle='dotted', color='grey',\n",
    "                                linewidth=2)\n",
    "    \n",
    "    # Show the plots\n",
    "    plt.tight_layout()\n",
    "    plt.show()"
   ],
   "metadata": {
    "collapsed": false,
    "ExecuteTime": {
     "end_time": "2025-02-27T07:22:36.834564Z",
     "start_time": "2025-02-27T07:22:36.830460Z"
    }
   },
   "id": "6b8550a6c1ca31c2"
  },
  {
   "cell_type": "code",
   "execution_count": 10,
   "outputs": [
    {
     "name": "stdout",
     "output_type": "stream",
     "text": [
      "Coverage :\n",
      " RRT(1)     0.892555\n",
      "UV(0.1)    0.900475\n",
      "UV(0.2)    0.890902\n",
      "UV(0.3)    0.901040\n",
      "UV(0.4)    0.895515\n",
      "UV(0.5)    0.904010\n",
      "dtype: float64\n",
      "Length :\n",
      " RRT(1)     13.491941\n",
      "UV(0.1)     3.890849\n",
      "UV(0.2)     2.878387\n",
      "UV(0.3)     2.448010\n",
      "UV(0.4)     2.197313\n",
      "UV(0.5)     2.034747\n",
      "dtype: float64\n",
      "MSE :\n",
      " RRT(1)     4.714722\n",
      "UV(0.1)    4.756241\n",
      "UV(0.2)    4.809944\n",
      "UV(0.3)    4.855541\n",
      "UV(0.4)    4.907430\n",
      "UV(0.5)    4.964522\n",
      "dtype: float64\n"
     ]
    },
    {
     "data": {
      "text/plain": "<Figure size 1500x600 with 3 Axes>",
      "image/png": "[encoded data removed]"
     },
     "metadata": {},
     "output_type": "display_data"
    }
   ],
   "source": [
    "boxplots(dfs=[coverage_df, \n",
    "              length_df, \n",
    "              MSE_df], \n",
    "         len_lim=5,\n",
    "         len_baseline_key=\"RRT(1)\",\n",
    "         MSE_baseline_key=\"RRT(1)\",\n",
    "         metrics=[\"Coverage\", \"Length\", \"MSE\"],\n",
    "         col_names=[\"RRT(1)\", \"UV(0.1)\", \"UV(0.2)\", \"UV(0.3)\", \"UV(0.4)\", \"UV(0.5)\"], \n",
    "         palette=[\"#A8E6CF\", \"#66B2A2\", \"#41897D\", \"#2A5D57\", \"#2A4A5D\", \"#1E3A3A\"])"
   ],
   "metadata": {
    "collapsed": false,
    "ExecuteTime": {
     "end_time": "2025-02-27T07:23:00.731733Z",
     "start_time": "2025-02-27T07:23:00.432202Z"
    }
   },
   "id": "f36f6f9c1ac5c64e"
  },
  {
   "cell_type": "code",
   "execution_count": 9,
   "outputs": [],
   "source": [],
   "metadata": {
    "collapsed": false,
    "ExecuteTime": {
     "end_time": "2025-02-27T07:22:37.754731Z",
     "start_time": "2025-02-27T07:22:37.735285Z"
    }
   },
   "id": "2104c532f1fdbed9"
  },
  {
   "cell_type": "code",
   "execution_count": 9,
   "outputs": [],
   "source": [],
   "metadata": {
    "collapsed": false,
    "ExecuteTime": {
     "end_time": "2024-12-21T23:44:29.633043Z",
     "start_time": "2024-12-21T23:44:29.629854Z"
    }
   },
   "id": "c574a7e1062f33f9"
  },
  {
   "cell_type": "code",
   "execution_count": 9,
   "outputs": [],
   "source": [],
   "metadata": {
    "collapsed": false,
    "ExecuteTime": {
     "end_time": "2024-12-21T23:44:29.634232Z",
     "start_time": "2024-12-21T23:44:29.632698Z"
    }
   },
   "id": "5bae9fc0c2bec8d7"
  },
  {
   "cell_type": "code",
   "execution_count": null,
   "outputs": [],
   "source": [],
   "metadata": {
    "collapsed": false
   },
   "id": "5395e76f4a037b9"
  }
 ],
 "metadata": {
  "kernelspec": {
   "display_name": "Python 3",
   "language": "python",
   "name": "python3"
  },
  "language_info": {
   "codemirror_mode": {
    "name": "ipython",
    "version": 2
   },
   "file_extension": ".py",
   "mimetype": "text/x-python",
   "name": "python",
   "nbconvert_exporter": "python",
   "pygments_lexer": "ipython2",
   "version": "2.7.6"
  }
 },
 "nbformat": 4,
 "nbformat_minor": 5
}
