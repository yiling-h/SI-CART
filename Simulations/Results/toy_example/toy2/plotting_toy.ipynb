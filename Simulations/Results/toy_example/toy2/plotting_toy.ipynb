{
 "cells": [
  {
   "cell_type": "code",
   "execution_count": 10,
   "id": "initial_id",
   "metadata": {
    "collapsed": true,
    "ExecuteTime": {
     "end_time": "2025-02-28T16:28:22.263582Z",
     "start_time": "2025-02-28T16:28:22.262520Z"
    }
   },
   "outputs": [],
   "source": [
    "import joblib\n",
    "import matplotlib.pyplot as plt\n",
    "import numpy as np\n",
    "import pandas as pd\n",
    "import seaborn as sns"
   ]
  },
  {
   "cell_type": "code",
   "execution_count": 11,
   "outputs": [],
   "source": [
    "n_task_per_file = 50\n",
    "n_files = 10\n",
    "base_dir = \"toy_eg_stage2_\"\n",
    "files_list = []\n",
    "for i in range(n_files):\n",
    "    dir = base_dir + str(i*n_task_per_file) + \"_\"  + str((i+1)*n_task_per_file) + \".pkl\"\n",
    "    files_list.append(dir)"
   ],
   "metadata": {
    "collapsed": false,
    "ExecuteTime": {
     "end_time": "2025-02-28T16:28:22.561252Z",
     "start_time": "2025-02-28T16:28:22.553959Z"
    }
   },
   "id": "15c24ca328824b39"
  },
  {
   "cell_type": "code",
   "execution_count": 12,
   "outputs": [],
   "source": [
    "coverage_df = pd.DataFrame()\n",
    "length_df = pd.DataFrame()\n",
    "MSE_df = pd.DataFrame()\n",
    "\n",
    "for f_dir in files_list:\n",
    "    coverage_i, length_i, MSE_i = joblib.load(f_dir)\n",
    "    coverage_df = pd.concat([coverage_df, pd.DataFrame(coverage_i)])\n",
    "    length_df = pd.concat([length_df, pd.DataFrame(length_i)])\n",
    "    MSE_df = pd.concat([MSE_df, pd.DataFrame(MSE_i)])"
   ],
   "metadata": {
    "collapsed": false,
    "ExecuteTime": {
     "end_time": "2025-02-28T16:28:22.923869Z",
     "start_time": "2025-02-28T16:28:22.895874Z"
    }
   },
   "id": "44ea9729e9ad0ae7"
  },
  {
   "cell_type": "code",
   "execution_count": 13,
   "outputs": [
    {
     "data": {
      "text/plain": "         1.0    UV_0.1    UV_0.2    UV_0.3    UV_0.4    UV_0.5\n0   1.000000  1.000000  0.833333  0.857143  1.000000  0.833333\n1   0.666667  0.833333  1.000000  1.000000  0.833333  1.000000\n2   0.333333  1.000000  1.000000  0.833333  1.000000  1.000000\n3   0.166667  1.000000  1.000000  1.000000  1.000000  1.000000\n4   0.166667  1.000000  0.833333  0.666667  1.000000  0.833333\n..       ...       ...       ...       ...       ...       ...\n1   0.666667  0.857143  1.000000  0.833333  0.714286  1.000000\n2   1.000000  1.000000  1.000000  0.714286  1.000000  0.857143\n3   1.000000  1.000000  0.714286  1.000000  1.000000  1.000000\n4   1.000000  1.000000  1.000000  0.666667  1.000000  0.833333\n5   0.600000  0.800000  0.800000  1.000000  1.000000  1.000000\n\n[87 rows x 6 columns]",
      "text/html": "<div>\n<style scoped>\n    .dataframe tbody tr th:only-of-type {\n        vertical-align: middle;\n    }\n\n    .dataframe tbody tr th {\n        vertical-align: top;\n    }\n\n    .dataframe thead th {\n        text-align: right;\n    }\n</style>\n<table border=\"1\" class=\"dataframe\">\n  <thead>\n    <tr style=\"text-align: right;\">\n      <th></th>\n      <th>1.0</th>\n      <th>UV_0.1</th>\n      <th>UV_0.2</th>\n      <th>UV_0.3</th>\n      <th>UV_0.4</th>\n      <th>UV_0.5</th>\n    </tr>\n  </thead>\n  <tbody>\n    <tr>\n      <th>0</th>\n      <td>1.000000</td>\n      <td>1.000000</td>\n      <td>0.833333</td>\n      <td>0.857143</td>\n      <td>1.000000</td>\n      <td>0.833333</td>\n    </tr>\n    <tr>\n      <th>1</th>\n      <td>0.666667</td>\n      <td>0.833333</td>\n      <td>1.000000</td>\n      <td>1.000000</td>\n      <td>0.833333</td>\n      <td>1.000000</td>\n    </tr>\n    <tr>\n      <th>2</th>\n      <td>0.333333</td>\n      <td>1.000000</td>\n      <td>1.000000</td>\n      <td>0.833333</td>\n      <td>1.000000</td>\n      <td>1.000000</td>\n    </tr>\n    <tr>\n      <th>3</th>\n      <td>0.166667</td>\n      <td>1.000000</td>\n      <td>1.000000</td>\n      <td>1.000000</td>\n      <td>1.000000</td>\n      <td>1.000000</td>\n    </tr>\n    <tr>\n      <th>4</th>\n      <td>0.166667</td>\n      <td>1.000000</td>\n      <td>0.833333</td>\n      <td>0.666667</td>\n      <td>1.000000</td>\n      <td>0.833333</td>\n    </tr>\n    <tr>\n      <th>...</th>\n      <td>...</td>\n      <td>...</td>\n      <td>...</td>\n      <td>...</td>\n      <td>...</td>\n      <td>...</td>\n    </tr>\n    <tr>\n      <th>1</th>\n      <td>0.666667</td>\n      <td>0.857143</td>\n      <td>1.000000</td>\n      <td>0.833333</td>\n      <td>0.714286</td>\n      <td>1.000000</td>\n    </tr>\n    <tr>\n      <th>2</th>\n      <td>1.000000</td>\n      <td>1.000000</td>\n      <td>1.000000</td>\n      <td>0.714286</td>\n      <td>1.000000</td>\n      <td>0.857143</td>\n    </tr>\n    <tr>\n      <th>3</th>\n      <td>1.000000</td>\n      <td>1.000000</td>\n      <td>0.714286</td>\n      <td>1.000000</td>\n      <td>1.000000</td>\n      <td>1.000000</td>\n    </tr>\n    <tr>\n      <th>4</th>\n      <td>1.000000</td>\n      <td>1.000000</td>\n      <td>1.000000</td>\n      <td>0.666667</td>\n      <td>1.000000</td>\n      <td>0.833333</td>\n    </tr>\n    <tr>\n      <th>5</th>\n      <td>0.600000</td>\n      <td>0.800000</td>\n      <td>0.800000</td>\n      <td>1.000000</td>\n      <td>1.000000</td>\n      <td>1.000000</td>\n    </tr>\n  </tbody>\n</table>\n<p>87 rows × 6 columns</p>\n</div>"
     },
     "execution_count": 13,
     "metadata": {},
     "output_type": "execute_result"
    }
   ],
   "source": [
    "coverage_df = coverage_df.drop([\"Tree val\", \"Naive\"], axis=1)\n",
    "coverage_df"
   ],
   "metadata": {
    "collapsed": false,
    "ExecuteTime": {
     "end_time": "2025-02-28T16:28:23.347594Z",
     "start_time": "2025-02-28T16:28:23.323017Z"
    }
   },
   "id": "6d1f1fad39e063ac"
  },
  {
   "cell_type": "code",
   "execution_count": 14,
   "outputs": [
    {
     "data": {
      "text/plain": "         1.0    UV_0.1    UV_0.2    UV_0.3    UV_0.4    UV_0.5\n0   3.919505  3.895045  2.847981  2.610729  2.221367  2.004146\n1   4.108382  3.881247  2.857391  2.431454  2.153402  2.011266\n2   4.904650  3.892569  2.878134  2.449271  2.205467  2.020659\n3   5.127870  3.899004  2.842823  2.220965  2.191617  1.837562\n4   4.959092  3.808812  2.941760  2.424997  2.174680  1.987001\n..       ...       ...       ...       ...       ...       ...\n1   3.994185  4.112051  3.078301  2.411746  2.346828  2.100061\n2   4.164928  4.120208  3.034553  2.578752  2.333765  2.147634\n3   3.974352  4.167057  3.031337  2.610909  2.364743  2.190139\n4   4.865500  3.807731  2.819413  2.421873  2.160560  2.026119\n5   5.875155  3.575490  2.622233  2.188160  2.026214  2.161137\n\n[87 rows x 6 columns]",
      "text/html": "<div>\n<style scoped>\n    .dataframe tbody tr th:only-of-type {\n        vertical-align: middle;\n    }\n\n    .dataframe tbody tr th {\n        vertical-align: top;\n    }\n\n    .dataframe thead th {\n        text-align: right;\n    }\n</style>\n<table border=\"1\" class=\"dataframe\">\n  <thead>\n    <tr style=\"text-align: right;\">\n      <th></th>\n      <th>1.0</th>\n      <th>UV_0.1</th>\n      <th>UV_0.2</th>\n      <th>UV_0.3</th>\n      <th>UV_0.4</th>\n      <th>UV_0.5</th>\n    </tr>\n  </thead>\n  <tbody>\n    <tr>\n      <th>0</th>\n      <td>3.919505</td>\n      <td>3.895045</td>\n      <td>2.847981</td>\n      <td>2.610729</td>\n      <td>2.221367</td>\n      <td>2.004146</td>\n    </tr>\n    <tr>\n      <th>1</th>\n      <td>4.108382</td>\n      <td>3.881247</td>\n      <td>2.857391</td>\n      <td>2.431454</td>\n      <td>2.153402</td>\n      <td>2.011266</td>\n    </tr>\n    <tr>\n      <th>2</th>\n      <td>4.904650</td>\n      <td>3.892569</td>\n      <td>2.878134</td>\n      <td>2.449271</td>\n      <td>2.205467</td>\n      <td>2.020659</td>\n    </tr>\n    <tr>\n      <th>3</th>\n      <td>5.127870</td>\n      <td>3.899004</td>\n      <td>2.842823</td>\n      <td>2.220965</td>\n      <td>2.191617</td>\n      <td>1.837562</td>\n    </tr>\n    <tr>\n      <th>4</th>\n      <td>4.959092</td>\n      <td>3.808812</td>\n      <td>2.941760</td>\n      <td>2.424997</td>\n      <td>2.174680</td>\n      <td>1.987001</td>\n    </tr>\n    <tr>\n      <th>...</th>\n      <td>...</td>\n      <td>...</td>\n      <td>...</td>\n      <td>...</td>\n      <td>...</td>\n      <td>...</td>\n    </tr>\n    <tr>\n      <th>1</th>\n      <td>3.994185</td>\n      <td>4.112051</td>\n      <td>3.078301</td>\n      <td>2.411746</td>\n      <td>2.346828</td>\n      <td>2.100061</td>\n    </tr>\n    <tr>\n      <th>2</th>\n      <td>4.164928</td>\n      <td>4.120208</td>\n      <td>3.034553</td>\n      <td>2.578752</td>\n      <td>2.333765</td>\n      <td>2.147634</td>\n    </tr>\n    <tr>\n      <th>3</th>\n      <td>3.974352</td>\n      <td>4.167057</td>\n      <td>3.031337</td>\n      <td>2.610909</td>\n      <td>2.364743</td>\n      <td>2.190139</td>\n    </tr>\n    <tr>\n      <th>4</th>\n      <td>4.865500</td>\n      <td>3.807731</td>\n      <td>2.819413</td>\n      <td>2.421873</td>\n      <td>2.160560</td>\n      <td>2.026119</td>\n    </tr>\n    <tr>\n      <th>5</th>\n      <td>5.875155</td>\n      <td>3.575490</td>\n      <td>2.622233</td>\n      <td>2.188160</td>\n      <td>2.026214</td>\n      <td>2.161137</td>\n    </tr>\n  </tbody>\n</table>\n<p>87 rows × 6 columns</p>\n</div>"
     },
     "execution_count": 14,
     "metadata": {},
     "output_type": "execute_result"
    }
   ],
   "source": [
    "length_df = length_df.drop([\"Tree val\", \"Naive\"], axis=1)\n",
    "length_df"
   ],
   "metadata": {
    "collapsed": false,
    "ExecuteTime": {
     "end_time": "2025-02-28T16:28:25.246734Z",
     "start_time": "2025-02-28T16:28:25.236071Z"
    }
   },
   "id": "d0d1248252b6e9fe"
  },
  {
   "cell_type": "code",
   "execution_count": 15,
   "outputs": [],
   "source": [
    "MSE_df = MSE_df.drop([\"Tree val\", \"Naive\"], axis=1)"
   ],
   "metadata": {
    "collapsed": false,
    "ExecuteTime": {
     "end_time": "2025-02-28T16:28:28.493014Z",
     "start_time": "2025-02-28T16:28:28.478726Z"
    }
   },
   "id": "1c29233a2057cd3"
  },
  {
   "cell_type": "code",
   "execution_count": 16,
   "outputs": [
    {
     "data": {
      "text/plain": "1.0       4.682293\nUV_0.1    4.694482\nUV_0.2    4.732711\nUV_0.3    4.834534\nUV_0.4    4.855365\nUV_0.5    4.913531\ndtype: float64"
     },
     "execution_count": 16,
     "metadata": {},
     "output_type": "execute_result"
    }
   ],
   "source": [
    "MSE_df.mean()"
   ],
   "metadata": {
    "collapsed": false,
    "ExecuteTime": {
     "end_time": "2025-02-28T16:28:29.095178Z",
     "start_time": "2025-02-28T16:28:29.082643Z"
    }
   },
   "id": "66c4d33b775a6096"
  },
  {
   "cell_type": "code",
   "execution_count": 17,
   "outputs": [],
   "source": [
    "import seaborn as sns\n",
    "def boxplots(dfs, metrics, len_lim=10, MSE_lim=10, \n",
    "             len_baseline_key=None, MSE_baseline_key=None,\n",
    "             col_names=None, palette=None):\n",
    "    # Set up the subplots: one for each metric\n",
    "    fig, axes = plt.subplots(1, 3, figsize=(15, 6))\n",
    "    \n",
    "    # Iterate over the dataframes and create a boxplot for each\n",
    "    for i, (df, metric) in enumerate(zip(dfs, metrics)):\n",
    "        if col_names is not None:\n",
    "            df = df.copy()\n",
    "            df.columns = col_names\n",
    "        sns.boxplot(data=df, ax=axes[i], palette=palette, showfliers=False)\n",
    "        axes[i].set_title(f'Boxplot for {metric}')\n",
    "        axes[i].set_xlabel('Method')\n",
    "        axes[i].set_ylabel('Value')\n",
    "        # Add triangles for the mean values\n",
    "        means = df.mean()  # Calculate mean for each method (column)\n",
    "        print(metric,\":\\n\",means.T)\n",
    "        for j, mean in enumerate(means):\n",
    "            if metric == \"Coverage\":\n",
    "                axes[i].plot(j, mean, marker='v', color='#40E0D0', markersize=10)  # Add a red triangle for the mean\n",
    "        if metric == \"Coverage\":\n",
    "            axes[i].set_ylim(0,1)\n",
    "            axes[i].axhline(y=0.9, linestyle='dotted', color='grey', linewidth=1)\n",
    "        elif metric == \"Length\":\n",
    "            axes[i].set_ylim(0,len_lim)\n",
    "            #if len_baseline_key:\n",
    "            #    axes[i].axhline(y=means[len_baseline_key], linestyle='dotted', color='grey')\n",
    "        elif metric == \"MSE\":\n",
    "            axes[i].set_ylim(3,6.5)\n",
    "            if MSE_baseline_key:\n",
    "                axes[i].axhline(y=means[MSE_baseline_key], linestyle='dotted', color='grey',\n",
    "                                linewidth=2)\n",
    "    \n",
    "    # Show the plots\n",
    "    plt.tight_layout()\n",
    "    plt.show()"
   ],
   "metadata": {
    "collapsed": false,
    "ExecuteTime": {
     "end_time": "2025-02-28T16:28:29.646623Z",
     "start_time": "2025-02-28T16:28:29.644198Z"
    }
   },
   "id": "6b8550a6c1ca31c2"
  },
  {
   "cell_type": "code",
   "execution_count": 18,
   "outputs": [
    {
     "name": "stdout",
     "output_type": "stream",
     "text": [
      "Coverage :\n",
      " RRT(1)     0.723919\n",
      "UV(0.1)    0.892830\n",
      "UV(0.2)    0.892666\n",
      "UV(0.3)    0.903339\n",
      "UV(0.4)    0.903996\n",
      "UV(0.5)    0.894472\n",
      "dtype: float64\n",
      "Length :\n",
      " RRT(1)     4.583533\n",
      "UV(0.1)    3.914207\n",
      "UV(0.2)    2.882055\n",
      "UV(0.3)    2.449938\n",
      "UV(0.4)    2.213267\n",
      "UV(0.5)    2.039041\n",
      "dtype: float64\n",
      "MSE :\n",
      " RRT(1)     4.682293\n",
      "UV(0.1)    4.694482\n",
      "UV(0.2)    4.732711\n",
      "UV(0.3)    4.834534\n",
      "UV(0.4)    4.855365\n",
      "UV(0.5)    4.913531\n",
      "dtype: float64\n"
     ]
    },
    {
     "data": {
      "text/plain": "<Figure size 1500x600 with 3 Axes>",
      "image/png": "[encoded data removed]"
     },
     "metadata": {},
     "output_type": "display_data"
    }
   ],
   "source": [
    "boxplots(dfs=[coverage_df, \n",
    "              length_df, \n",
    "              MSE_df], \n",
    "         len_lim=5,\n",
    "         len_baseline_key=\"RRT(1)\",\n",
    "         MSE_baseline_key=\"RRT(1)\",\n",
    "         metrics=[\"Coverage\", \"Length\", \"MSE\"],\n",
    "         col_names=[\"RRT(1)\", \"UV(0.1)\", \"UV(0.2)\", \"UV(0.3)\", \"UV(0.4)\", \"UV(0.5)\"], \n",
    "         palette=[\"#A8E6CF\", \"#66B2A2\", \"#41897D\", \"#2A5D57\", \"#2A4A5D\", \"#1E3A3A\"])"
   ],
   "metadata": {
    "collapsed": false,
    "ExecuteTime": {
     "end_time": "2025-02-28T16:28:30.455908Z",
     "start_time": "2025-02-28T16:28:30.154258Z"
    }
   },
   "id": "f36f6f9c1ac5c64e"
  },
  {
   "cell_type": "code",
   "execution_count": 9,
   "outputs": [],
   "source": [],
   "metadata": {
    "collapsed": false,
    "ExecuteTime": {
     "end_time": "2025-02-27T07:22:37.754731Z",
     "start_time": "2025-02-27T07:22:37.735285Z"
    }
   },
   "id": "2104c532f1fdbed9"
  },
  {
   "cell_type": "code",
   "execution_count": 9,
   "outputs": [],
   "source": [],
   "metadata": {
    "collapsed": false,
    "ExecuteTime": {
     "end_time": "2024-12-21T23:44:29.633043Z",
     "start_time": "2024-12-21T23:44:29.629854Z"
    }
   },
   "id": "c574a7e1062f33f9"
  },
  {
   "cell_type": "code",
   "execution_count": 9,
   "outputs": [],
   "source": [],
   "metadata": {
    "collapsed": false,
    "ExecuteTime": {
     "end_time": "2024-12-21T23:44:29.634232Z",
     "start_time": "2024-12-21T23:44:29.632698Z"
    }
   },
   "id": "5bae9fc0c2bec8d7"
  },
  {
   "cell_type": "code",
   "execution_count": null,
   "outputs": [],
   "source": [],
   "metadata": {
    "collapsed": false
   },
   "id": "5395e76f4a037b9"
  }
 ],
 "metadata": {
  "kernelspec": {
   "display_name": "Python 3",
   "language": "python",
   "name": "python3"
  },
  "language_info": {
   "codemirror_mode": {
    "name": "ipython",
    "version": 2
   },
   "file_extension": ".py",
   "mimetype": "text/x-python",
   "name": "python",
   "nbconvert_exporter": "python",
   "pygments_lexer": "ipython2",
   "version": "2.7.6"
  }
 },
 "nbformat": 4,
 "nbformat_minor": 5
}
