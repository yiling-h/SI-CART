{
 "cells": [
  {
   "cell_type": "code",
   "execution_count": 233,
   "id": "initial_id",
   "metadata": {
    "collapsed": true,
    "ExecuteTime": {
     "end_time": "2025-03-10T17:38:58.178504Z",
     "start_time": "2025-03-10T17:38:58.175468Z"
    }
   },
   "outputs": [],
   "source": [
    "import joblib\n",
    "import matplotlib.pyplot as plt\n",
    "import numpy as np\n",
    "import pandas as pd\n",
    "import seaborn as sns"
   ]
  },
  {
   "cell_type": "code",
   "execution_count": 234,
   "outputs": [],
   "source": [
    "n_task_per_file = 50\n",
    "n_files = 10\n",
    "base_dir = \"toy_stage2_full_\"\n",
    "files_list = []\n",
    "for i in range(n_files):\n",
    "    dir = base_dir + str(i*n_task_per_file) + \"_\"  + str((i+1)*n_task_per_file) + \".pkl\"\n",
    "    files_list.append(dir)"
   ],
   "metadata": {
    "collapsed": false,
    "ExecuteTime": {
     "end_time": "2025-03-10T17:38:58.460933Z",
     "start_time": "2025-03-10T17:38:58.447703Z"
    }
   },
   "id": "15c24ca328824b39"
  },
  {
   "cell_type": "code",
   "execution_count": 235,
   "outputs": [
    {
     "name": "stdout",
     "output_type": "stream",
     "text": [
      "(50, 9)\n",
      "toy_stage2_full_0_50.pkl\n",
      "1.0         0.797429\n",
      "2.5         0.870286\n",
      "Tree val    0.897619\n",
      "Naive       0.666381\n",
      "UV_0.1      0.892857\n",
      "UV_0.2      0.902095\n",
      "UV_0.3      0.892476\n",
      "UV_0.4      0.914571\n",
      "UV_0.5      0.916952\n",
      "dtype: float64\n",
      "(50, 9)\n",
      "toy_stage2_full_50_100.pkl\n",
      "1.0         0.821238\n",
      "2.5         0.836571\n",
      "Tree val    0.946476\n",
      "Naive       0.680476\n",
      "UV_0.1      0.872000\n",
      "UV_0.2      0.896762\n",
      "UV_0.3      0.902762\n",
      "UV_0.4      0.868571\n",
      "UV_0.5      0.908381\n",
      "dtype: float64\n",
      "(50, 9)\n",
      "toy_stage2_full_100_150.pkl\n",
      "1.0         0.798571\n",
      "2.5         0.848667\n",
      "Tree val    0.904190\n",
      "Naive       0.655905\n",
      "UV_0.1      0.906095\n",
      "UV_0.2      0.932857\n",
      "UV_0.3      0.908667\n",
      "UV_0.4      0.914667\n",
      "UV_0.5      0.863714\n",
      "dtype: float64\n",
      "(50, 9)\n",
      "toy_stage2_full_150_200.pkl\n",
      "1.0         0.855619\n",
      "2.5         0.872000\n",
      "Tree val    0.895524\n",
      "Naive       0.693048\n",
      "UV_0.1      0.908762\n",
      "UV_0.2      0.920190\n",
      "UV_0.3      0.939810\n",
      "UV_0.4      0.903714\n",
      "UV_0.5      0.905524\n",
      "dtype: float64\n",
      "(13, 9)\n",
      "toy_stage2_full_200_250.pkl\n",
      "1.0         0.828205\n",
      "2.5         0.874725\n",
      "Tree val    0.886447\n",
      "Naive       0.682418\n",
      "UV_0.1      0.960806\n",
      "UV_0.2      0.935897\n",
      "UV_0.3      0.909524\n",
      "UV_0.4      0.924176\n",
      "UV_0.5      0.922344\n",
      "dtype: float64\n",
      "(46, 9)\n",
      "toy_stage2_full_250_300.pkl\n",
      "1.0         0.829400\n",
      "2.5         0.828882\n",
      "Tree val    0.868116\n",
      "Naive       0.630021\n",
      "UV_0.1      0.916460\n",
      "UV_0.2      0.882298\n",
      "UV_0.3      0.912319\n",
      "UV_0.4      0.887267\n",
      "UV_0.5      0.909110\n",
      "dtype: float64\n",
      "(50, 9)\n",
      "toy_stage2_full_300_350.pkl\n",
      "1.0         0.792286\n",
      "2.5         0.843905\n",
      "Tree val    0.877810\n",
      "Naive       0.657333\n",
      "UV_0.1      0.911810\n",
      "UV_0.2      0.912000\n",
      "UV_0.3      0.909619\n",
      "UV_0.4      0.882000\n",
      "UV_0.5      0.915333\n",
      "dtype: float64\n",
      "(20, 9)\n",
      "toy_stage2_full_350_400.pkl\n",
      "1.0         0.852381\n",
      "2.5         0.819762\n",
      "Tree val    0.931667\n",
      "Naive       0.645476\n",
      "UV_0.1      0.880000\n",
      "UV_0.2      0.921667\n",
      "UV_0.3      0.948333\n",
      "UV_0.4      0.843571\n",
      "UV_0.5      0.875238\n",
      "dtype: float64\n",
      "(50, 9)\n",
      "toy_stage2_full_400_450.pkl\n",
      "1.0         0.844762\n",
      "2.5         0.834857\n",
      "Tree val    0.907714\n",
      "Naive       0.693333\n",
      "UV_0.1      0.912095\n",
      "UV_0.2      0.878952\n",
      "UV_0.3      0.866857\n",
      "UV_0.4      0.920190\n",
      "UV_0.5      0.932952\n",
      "dtype: float64\n",
      "(50, 9)\n",
      "toy_stage2_full_450_500.pkl\n",
      "1.0         0.804381\n",
      "2.5         0.866762\n",
      "Tree val    0.885048\n",
      "Naive       0.671048\n",
      "UV_0.1      0.897143\n",
      "UV_0.2      0.905333\n",
      "UV_0.3      0.910857\n",
      "UV_0.4      0.883429\n",
      "UV_0.5      0.888476\n",
      "dtype: float64\n"
     ]
    }
   ],
   "source": [
    "coverage_df = pd.DataFrame()\n",
    "length_df = pd.DataFrame()\n",
    "MSE_df = pd.DataFrame()\n",
    "\n",
    "for f_dir in files_list:\n",
    "    #if f_dir in [\"toy_stage2_full_350_400.pkl\", \"toy_stage2_full_200_250.pkl\"]:\n",
    "    #    continue\n",
    "    coverage_i, length_i, MSE_i = joblib.load(f_dir)\n",
    "    coverage_df = pd.concat([coverage_df, pd.DataFrame(coverage_i)])\n",
    "    length_df = pd.concat([length_df, pd.DataFrame(length_i)])\n",
    "    MSE_df = pd.concat([MSE_df, pd.DataFrame(MSE_i)])\n",
    "    print(pd.DataFrame(coverage_i).shape)\n",
    "    print(f_dir)\n",
    "    print(pd.DataFrame(coverage_i).mean())"
   ],
   "metadata": {
    "collapsed": false,
    "ExecuteTime": {
     "end_time": "2025-03-10T17:38:58.835328Z",
     "start_time": "2025-03-10T17:38:58.756203Z"
    }
   },
   "id": "44ea9729e9ad0ae7"
  },
  {
   "cell_type": "code",
   "execution_count": 236,
   "outputs": [
    {
     "data": {
      "text/plain": "         1.0       2.5    UV_0.1    UV_0.2    UV_0.3    UV_0.4    UV_0.5\n0   0.857143  1.000000  1.000000  0.833333  1.000000  0.857143  1.000000\n1   0.833333  1.000000  1.000000  1.000000  0.833333  1.000000  1.000000\n2   0.833333  0.833333  1.000000  1.000000  0.833333  1.000000  0.833333\n3   0.833333  0.833333  0.833333  0.833333  0.833333  0.833333  0.666667\n4   0.800000  1.000000  0.600000  1.000000  1.000000  0.800000  1.000000\n..       ...       ...       ...       ...       ...       ...       ...\n45  0.666667  0.666667  1.000000  0.666667  0.666667  0.500000  0.666667\n46  1.000000  1.000000  0.833333  0.833333  1.000000  0.833333  0.666667\n47  0.833333  1.000000  1.000000  0.833333  1.000000  0.833333  1.000000\n48  0.833333  0.666667  0.833333  0.833333  1.000000  1.000000  1.000000\n49  0.833333  0.833333  1.000000  1.000000  0.833333  0.666667  1.000000\n\n[429 rows x 7 columns]",
      "text/html": "<div>\n<style scoped>\n    .dataframe tbody tr th:only-of-type {\n        vertical-align: middle;\n    }\n\n    .dataframe tbody tr th {\n        vertical-align: top;\n    }\n\n    .dataframe thead th {\n        text-align: right;\n    }\n</style>\n<table border=\"1\" class=\"dataframe\">\n  <thead>\n    <tr style=\"text-align: right;\">\n      <th></th>\n      <th>1.0</th>\n      <th>2.5</th>\n      <th>UV_0.1</th>\n      <th>UV_0.2</th>\n      <th>UV_0.3</th>\n      <th>UV_0.4</th>\n      <th>UV_0.5</th>\n    </tr>\n  </thead>\n  <tbody>\n    <tr>\n      <th>0</th>\n      <td>0.857143</td>\n      <td>1.000000</td>\n      <td>1.000000</td>\n      <td>0.833333</td>\n      <td>1.000000</td>\n      <td>0.857143</td>\n      <td>1.000000</td>\n    </tr>\n    <tr>\n      <th>1</th>\n      <td>0.833333</td>\n      <td>1.000000</td>\n      <td>1.000000</td>\n      <td>1.000000</td>\n      <td>0.833333</td>\n      <td>1.000000</td>\n      <td>1.000000</td>\n    </tr>\n    <tr>\n      <th>2</th>\n      <td>0.833333</td>\n      <td>0.833333</td>\n      <td>1.000000</td>\n      <td>1.000000</td>\n      <td>0.833333</td>\n      <td>1.000000</td>\n      <td>0.833333</td>\n    </tr>\n    <tr>\n      <th>3</th>\n      <td>0.833333</td>\n      <td>0.833333</td>\n      <td>0.833333</td>\n      <td>0.833333</td>\n      <td>0.833333</td>\n      <td>0.833333</td>\n      <td>0.666667</td>\n    </tr>\n    <tr>\n      <th>4</th>\n      <td>0.800000</td>\n      <td>1.000000</td>\n      <td>0.600000</td>\n      <td>1.000000</td>\n      <td>1.000000</td>\n      <td>0.800000</td>\n      <td>1.000000</td>\n    </tr>\n    <tr>\n      <th>...</th>\n      <td>...</td>\n      <td>...</td>\n      <td>...</td>\n      <td>...</td>\n      <td>...</td>\n      <td>...</td>\n      <td>...</td>\n    </tr>\n    <tr>\n      <th>45</th>\n      <td>0.666667</td>\n      <td>0.666667</td>\n      <td>1.000000</td>\n      <td>0.666667</td>\n      <td>0.666667</td>\n      <td>0.500000</td>\n      <td>0.666667</td>\n    </tr>\n    <tr>\n      <th>46</th>\n      <td>1.000000</td>\n      <td>1.000000</td>\n      <td>0.833333</td>\n      <td>0.833333</td>\n      <td>1.000000</td>\n      <td>0.833333</td>\n      <td>0.666667</td>\n    </tr>\n    <tr>\n      <th>47</th>\n      <td>0.833333</td>\n      <td>1.000000</td>\n      <td>1.000000</td>\n      <td>0.833333</td>\n      <td>1.000000</td>\n      <td>0.833333</td>\n      <td>1.000000</td>\n    </tr>\n    <tr>\n      <th>48</th>\n      <td>0.833333</td>\n      <td>0.666667</td>\n      <td>0.833333</td>\n      <td>0.833333</td>\n      <td>1.000000</td>\n      <td>1.000000</td>\n      <td>1.000000</td>\n    </tr>\n    <tr>\n      <th>49</th>\n      <td>0.833333</td>\n      <td>0.833333</td>\n      <td>1.000000</td>\n      <td>1.000000</td>\n      <td>0.833333</td>\n      <td>0.666667</td>\n      <td>1.000000</td>\n    </tr>\n  </tbody>\n</table>\n<p>429 rows × 7 columns</p>\n</div>"
     },
     "execution_count": 236,
     "metadata": {},
     "output_type": "execute_result"
    }
   ],
   "source": [
    "coverage_df = coverage_df.drop([\"Tree val\", \"Naive\"], axis=1)\n",
    "coverage_df"
   ],
   "metadata": {
    "collapsed": false,
    "ExecuteTime": {
     "end_time": "2025-03-10T17:38:59.363908Z",
     "start_time": "2025-03-10T17:38:59.355589Z"
    }
   },
   "id": "6d1f1fad39e063ac"
  },
  {
   "cell_type": "code",
   "execution_count": 237,
   "outputs": [
    {
     "data": {
      "text/plain": "         1.0       2.5    UV_0.1    UV_0.2    UV_0.3    UV_0.4    UV_0.5\n0   1.336065  1.166292  3.890800  2.860750  2.452458  2.344923  2.146612\n1   1.197241  1.175474  3.905280  2.862596  2.463473  2.221746  2.037130\n2   1.178639  1.163652  3.874596  2.861579  2.440683  2.185567  2.023442\n3   1.173655  1.152647  3.835782  2.873993  2.457208  2.152446  2.076211\n4   1.076070  1.083018  3.621294  2.642195  2.218952  2.015612  1.839041\n..       ...       ...       ...       ...       ...       ...       ...\n45  1.191331  1.165448  3.861068  2.907535  2.435860  2.225041  2.041188\n46  1.200156  1.175910  3.866978  2.877495  2.401313  2.204127  1.987049\n47  1.243967  1.150452  3.903410  2.849240  2.519658  2.234219  1.829971\n48  1.219822  1.220358  3.868177  2.859682  2.591912  2.251639  2.057316\n49  1.251624  1.217680  3.845386  2.865427  2.375952  2.134957  2.022161\n\n[429 rows x 7 columns]",
      "text/html": "<div>\n<style scoped>\n    .dataframe tbody tr th:only-of-type {\n        vertical-align: middle;\n    }\n\n    .dataframe tbody tr th {\n        vertical-align: top;\n    }\n\n    .dataframe thead th {\n        text-align: right;\n    }\n</style>\n<table border=\"1\" class=\"dataframe\">\n  <thead>\n    <tr style=\"text-align: right;\">\n      <th></th>\n      <th>1.0</th>\n      <th>2.5</th>\n      <th>UV_0.1</th>\n      <th>UV_0.2</th>\n      <th>UV_0.3</th>\n      <th>UV_0.4</th>\n      <th>UV_0.5</th>\n    </tr>\n  </thead>\n  <tbody>\n    <tr>\n      <th>0</th>\n      <td>1.336065</td>\n      <td>1.166292</td>\n      <td>3.890800</td>\n      <td>2.860750</td>\n      <td>2.452458</td>\n      <td>2.344923</td>\n      <td>2.146612</td>\n    </tr>\n    <tr>\n      <th>1</th>\n      <td>1.197241</td>\n      <td>1.175474</td>\n      <td>3.905280</td>\n      <td>2.862596</td>\n      <td>2.463473</td>\n      <td>2.221746</td>\n      <td>2.037130</td>\n    </tr>\n    <tr>\n      <th>2</th>\n      <td>1.178639</td>\n      <td>1.163652</td>\n      <td>3.874596</td>\n      <td>2.861579</td>\n      <td>2.440683</td>\n      <td>2.185567</td>\n      <td>2.023442</td>\n    </tr>\n    <tr>\n      <th>3</th>\n      <td>1.173655</td>\n      <td>1.152647</td>\n      <td>3.835782</td>\n      <td>2.873993</td>\n      <td>2.457208</td>\n      <td>2.152446</td>\n      <td>2.076211</td>\n    </tr>\n    <tr>\n      <th>4</th>\n      <td>1.076070</td>\n      <td>1.083018</td>\n      <td>3.621294</td>\n      <td>2.642195</td>\n      <td>2.218952</td>\n      <td>2.015612</td>\n      <td>1.839041</td>\n    </tr>\n    <tr>\n      <th>...</th>\n      <td>...</td>\n      <td>...</td>\n      <td>...</td>\n      <td>...</td>\n      <td>...</td>\n      <td>...</td>\n      <td>...</td>\n    </tr>\n    <tr>\n      <th>45</th>\n      <td>1.191331</td>\n      <td>1.165448</td>\n      <td>3.861068</td>\n      <td>2.907535</td>\n      <td>2.435860</td>\n      <td>2.225041</td>\n      <td>2.041188</td>\n    </tr>\n    <tr>\n      <th>46</th>\n      <td>1.200156</td>\n      <td>1.175910</td>\n      <td>3.866978</td>\n      <td>2.877495</td>\n      <td>2.401313</td>\n      <td>2.204127</td>\n      <td>1.987049</td>\n    </tr>\n    <tr>\n      <th>47</th>\n      <td>1.243967</td>\n      <td>1.150452</td>\n      <td>3.903410</td>\n      <td>2.849240</td>\n      <td>2.519658</td>\n      <td>2.234219</td>\n      <td>1.829971</td>\n    </tr>\n    <tr>\n      <th>48</th>\n      <td>1.219822</td>\n      <td>1.220358</td>\n      <td>3.868177</td>\n      <td>2.859682</td>\n      <td>2.591912</td>\n      <td>2.251639</td>\n      <td>2.057316</td>\n    </tr>\n    <tr>\n      <th>49</th>\n      <td>1.251624</td>\n      <td>1.217680</td>\n      <td>3.845386</td>\n      <td>2.865427</td>\n      <td>2.375952</td>\n      <td>2.134957</td>\n      <td>2.022161</td>\n    </tr>\n  </tbody>\n</table>\n<p>429 rows × 7 columns</p>\n</div>"
     },
     "execution_count": 237,
     "metadata": {},
     "output_type": "execute_result"
    }
   ],
   "source": [
    "length_df = length_df.drop([\"Tree val\", \"Naive\"], axis=1)\n",
    "length_df"
   ],
   "metadata": {
    "collapsed": false,
    "ExecuteTime": {
     "end_time": "2025-03-10T17:39:00.302992Z",
     "start_time": "2025-03-10T17:39:00.294611Z"
    }
   },
   "id": "d0d1248252b6e9fe"
  },
  {
   "cell_type": "code",
   "execution_count": 238,
   "outputs": [],
   "source": [
    "MSE_df = MSE_df.drop([\"Tree val\", \"Naive\"], axis=1)"
   ],
   "metadata": {
    "collapsed": false,
    "ExecuteTime": {
     "end_time": "2025-03-10T17:39:01.280396Z",
     "start_time": "2025-03-10T17:39:01.265249Z"
    }
   },
   "id": "1c29233a2057cd3"
  },
  {
   "cell_type": "code",
   "execution_count": 239,
   "outputs": [
    {
     "data": {
      "text/plain": "1.0       4.713162\n2.5       4.865894\nUV_0.1    4.712413\nUV_0.2    4.782904\nUV_0.3    4.844765\nUV_0.4    4.889010\nUV_0.5    4.952829\ndtype: float64"
     },
     "execution_count": 239,
     "metadata": {},
     "output_type": "execute_result"
    }
   ],
   "source": [
    "MSE_df.mean()"
   ],
   "metadata": {
    "collapsed": false,
    "ExecuteTime": {
     "end_time": "2025-03-10T17:39:02.030400Z",
     "start_time": "2025-03-10T17:39:02.016284Z"
    }
   },
   "id": "66c4d33b775a6096"
  },
  {
   "cell_type": "code",
   "execution_count": 240,
   "outputs": [],
   "source": [
    "import seaborn as sns\n",
    "def boxplots(dfs, metrics, len_lim=10, MSE_lim=10, \n",
    "             len_baseline_key=None, MSE_baseline_key=None,\n",
    "             col_names=None, palette=None):\n",
    "    # Set up the subplots: one for each metric\n",
    "    fig, axes = plt.subplots(1, 3, figsize=(15, 6))\n",
    "    \n",
    "    # Iterate over the dataframes and create a boxplot for each\n",
    "    for i, (df, metric) in enumerate(zip(dfs, metrics)):\n",
    "        if col_names is not None:\n",
    "            df = df.copy()\n",
    "            df.columns = col_names\n",
    "        sns.boxplot(data=df, ax=axes[i], palette=palette, showfliers=False)\n",
    "        axes[i].set_title(f'Boxplot for {metric}')\n",
    "        axes[i].set_xlabel('Method')\n",
    "        axes[i].set_ylabel('Value')\n",
    "        # Add triangles for the mean values\n",
    "        means = df.mean()  # Calculate mean for each method (column)\n",
    "        print(metric,\":\\n\",means.T)\n",
    "        for j, mean in enumerate(means):\n",
    "            if metric == \"Coverage\":\n",
    "                axes[i].plot(j, mean, marker='v', color='#40E0D0', markersize=10)  # Add a red triangle for the mean\n",
    "        if metric == \"Coverage\":\n",
    "            axes[i].set_ylim(0,1)\n",
    "            axes[i].axhline(y=0.9, linestyle='dotted', color='grey', linewidth=1)\n",
    "        elif metric == \"Length\":\n",
    "            axes[i].set_ylim(0,len_lim)\n",
    "            #if len_baseline_key:\n",
    "            #    axes[i].axhline(y=means[len_baseline_key], linestyle='dotted', color='grey')\n",
    "        elif metric == \"MSE\":\n",
    "            axes[i].set_ylim(3,6.5)\n",
    "            if MSE_baseline_key:\n",
    "                axes[i].axhline(y=means[MSE_baseline_key], linestyle='dotted', color='grey',\n",
    "                                linewidth=2)\n",
    "    \n",
    "    # Show the plots\n",
    "    plt.tight_layout()\n",
    "    plt.show()"
   ],
   "metadata": {
    "collapsed": false,
    "ExecuteTime": {
     "end_time": "2025-03-10T17:39:02.340781Z",
     "start_time": "2025-03-10T17:39:02.328972Z"
    }
   },
   "id": "6b8550a6c1ca31c2"
  },
  {
   "cell_type": "code",
   "execution_count": 241,
   "outputs": [
    {
     "name": "stderr",
     "output_type": "stream",
     "text": [
      "/var/folders/6t/y2p8qwk54f7fnkwds613w0040000gs/T/ipykernel_72484/1924133983.py:13: UserWarning: \n",
      "The palette list has fewer values (6) than needed (7) and will cycle, which may produce an uninterpretable plot.\n",
      "  sns.boxplot(data=df, ax=axes[i], palette=palette, showfliers=False)\n",
      "/var/folders/6t/y2p8qwk54f7fnkwds613w0040000gs/T/ipykernel_72484/1924133983.py:13: UserWarning: \n",
      "The palette list has fewer values (6) than needed (7) and will cycle, which may produce an uninterpretable plot.\n",
      "  sns.boxplot(data=df, ax=axes[i], palette=palette, showfliers=False)\n",
      "/var/folders/6t/y2p8qwk54f7fnkwds613w0040000gs/T/ipykernel_72484/1924133983.py:13: UserWarning: \n",
      "The palette list has fewer values (6) than needed (7) and will cycle, which may produce an uninterpretable plot.\n",
      "  sns.boxplot(data=df, ax=axes[i], palette=palette, showfliers=False)\n"
     ]
    },
    {
     "name": "stdout",
     "output_type": "stream",
     "text": [
      "Coverage :\n",
      " RRT(1)      0.819769\n",
      "RRT(2.5)    0.849761\n",
      "UV(0.1)     0.902764\n",
      "UV(0.2)     0.905816\n",
      "UV(0.3)     0.907481\n",
      "UV(0.4)     0.895238\n",
      "UV(0.5)     0.904151\n",
      "dtype: float64\n",
      "Length :\n",
      " RRT(1)      1.190971\n",
      "RRT(2.5)    1.171283\n",
      "UV(0.1)     3.892398\n",
      "UV(0.2)     2.874904\n",
      "UV(0.3)     2.435412\n",
      "UV(0.4)     2.190163\n",
      "UV(0.5)     2.026472\n",
      "dtype: float64\n",
      "MSE :\n",
      " RRT(1)      4.713162\n",
      "RRT(2.5)    4.865894\n",
      "UV(0.1)     4.712413\n",
      "UV(0.2)     4.782904\n",
      "UV(0.3)     4.844765\n",
      "UV(0.4)     4.889010\n",
      "UV(0.5)     4.952829\n",
      "dtype: float64\n"
     ]
    },
    {
     "data": {
      "text/plain": "<Figure size 1500x600 with 3 Axes>",
      "image/png": "[encoded data removed]"
     },
     "metadata": {},
     "output_type": "display_data"
    }
   ],
   "source": [
    "boxplots(dfs=[coverage_df, \n",
    "              length_df, \n",
    "              MSE_df], \n",
    "         len_lim=15,\n",
    "         len_baseline_key=\"RRT(1)\",\n",
    "         MSE_baseline_key=\"RRT(1)\",\n",
    "         metrics=[\"Coverage\", \"Length\", \"MSE\"],\n",
    "         col_names=[\"RRT(1)\", \"RRT(2.5)\", \"UV(0.1)\", \"UV(0.2)\", \"UV(0.3)\", \"UV(0.4)\", \"UV(0.5)\"], \n",
    "         palette=[\"#A8E6CF\", \"#66B2A2\", \"#41897D\", \"#2A5D57\", \"#2A4A5D\", \"#1E3A3A\"])"
   ],
   "metadata": {
    "collapsed": false,
    "ExecuteTime": {
     "end_time": "2025-03-10T17:39:03.223894Z",
     "start_time": "2025-03-10T17:39:02.809788Z"
    }
   },
   "id": "f36f6f9c1ac5c64e"
  },
  {
   "cell_type": "code",
   "execution_count": 204,
   "outputs": [],
   "source": [],
   "metadata": {
    "collapsed": false,
    "ExecuteTime": {
     "end_time": "2025-03-10T01:10:06.051432Z",
     "start_time": "2025-03-10T01:10:06.034441Z"
    }
   },
   "id": "2104c532f1fdbed9"
  },
  {
   "cell_type": "code",
   "execution_count": 204,
   "outputs": [],
   "source": [],
   "metadata": {
    "collapsed": false,
    "ExecuteTime": {
     "end_time": "2025-03-10T01:10:06.051470Z",
     "start_time": "2025-03-10T01:10:06.037666Z"
    }
   },
   "id": "c574a7e1062f33f9"
  },
  {
   "cell_type": "code",
   "execution_count": 9,
   "outputs": [],
   "source": [],
   "metadata": {
    "collapsed": false,
    "ExecuteTime": {
     "end_time": "2024-12-21T23:44:29.634232Z",
     "start_time": "2024-12-21T23:44:29.632698Z"
    }
   },
   "id": "5bae9fc0c2bec8d7"
  },
  {
   "cell_type": "code",
   "execution_count": null,
   "outputs": [],
   "source": [],
   "metadata": {
    "collapsed": false
   },
   "id": "5395e76f4a037b9"
  }
 ],
 "metadata": {
  "kernelspec": {
   "display_name": "Python 3",
   "language": "python",
   "name": "python3"
  },
  "language_info": {
   "codemirror_mode": {
    "name": "ipython",
    "version": 2
   },
   "file_extension": ".py",
   "mimetype": "text/x-python",
   "name": "python",
   "nbconvert_exporter": "python",
   "pygments_lexer": "ipython2",
   "version": "2.7.6"
  }
 },
 "nbformat": 4,
 "nbformat_minor": 5
}
