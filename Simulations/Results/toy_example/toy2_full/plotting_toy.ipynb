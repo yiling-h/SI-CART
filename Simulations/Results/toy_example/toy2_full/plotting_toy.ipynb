{
 "cells": [
  {
   "cell_type": "code",
   "execution_count": 56,
   "id": "initial_id",
   "metadata": {
    "collapsed": true,
    "ExecuteTime": {
     "end_time": "2025-03-06T13:00:30.910657Z",
     "start_time": "2025-03-06T13:00:30.906427Z"
    }
   },
   "outputs": [],
   "source": [
    "import joblib\n",
    "import matplotlib.pyplot as plt\n",
    "import numpy as np\n",
    "import pandas as pd\n",
    "import seaborn as sns"
   ]
  },
  {
   "cell_type": "code",
   "execution_count": 57,
   "outputs": [],
   "source": [
    "n_task_per_file = 10\n",
    "n_files = 10\n",
    "base_dir = \"toy_stage2_full_\"\n",
    "files_list = []\n",
    "for i in range(n_files):\n",
    "    dir = base_dir + str(i*n_task_per_file) + \"_\"  + str((i+1)*n_task_per_file) + \".pkl\"\n",
    "    files_list.append(dir)"
   ],
   "metadata": {
    "collapsed": false,
    "ExecuteTime": {
     "end_time": "2025-03-06T13:00:31.130190Z",
     "start_time": "2025-03-06T13:00:31.115865Z"
    }
   },
   "id": "15c24ca328824b39"
  },
  {
   "cell_type": "code",
   "execution_count": 58,
   "outputs": [],
   "source": [
    "coverage_df = pd.DataFrame()\n",
    "length_df = pd.DataFrame()\n",
    "MSE_df = pd.DataFrame()\n",
    "\n",
    "for f_dir in files_list:\n",
    "    coverage_i, length_i, MSE_i = joblib.load(f_dir)\n",
    "    coverage_df = pd.concat([coverage_df, pd.DataFrame(coverage_i)])\n",
    "    length_df = pd.concat([length_df, pd.DataFrame(length_i)])\n",
    "    MSE_df = pd.concat([MSE_df, pd.DataFrame(MSE_i)])"
   ],
   "metadata": {
    "collapsed": false,
    "ExecuteTime": {
     "end_time": "2025-03-06T13:00:31.433434Z",
     "start_time": "2025-03-06T13:00:31.403946Z"
    }
   },
   "id": "44ea9729e9ad0ae7"
  },
  {
   "cell_type": "code",
   "execution_count": 59,
   "outputs": [
    {
     "data": {
      "text/plain": "         1.0    UV_0.1    UV_0.2    UV_0.3    UV_0.4    UV_0.5\n0   1.000000  1.000000  0.833333  0.857143  1.000000  0.833333\n1   0.833333  0.833333  1.000000  1.000000  0.833333  1.000000\n2   0.666667  1.000000  1.000000  0.833333  1.000000  1.000000\n3   0.666667  1.000000  1.000000  1.000000  1.000000  1.000000\n4   0.833333  1.000000  0.833333  0.666667  1.000000  0.833333\n..       ...       ...       ...       ...       ...       ...\n5   0.666667  0.833333  0.666667  0.833333  1.000000  0.666667\n6   1.000000  0.666667  1.000000  1.000000  0.833333  1.000000\n7   1.000000  0.833333  1.000000  0.833333  0.666667  0.833333\n8   0.500000  1.000000  0.833333  0.800000  0.833333  1.000000\n9   0.833333  1.000000  1.000000  0.800000  0.833333  0.833333\n\n[100 rows x 6 columns]",
      "text/html": "<div>\n<style scoped>\n    .dataframe tbody tr th:only-of-type {\n        vertical-align: middle;\n    }\n\n    .dataframe tbody tr th {\n        vertical-align: top;\n    }\n\n    .dataframe thead th {\n        text-align: right;\n    }\n</style>\n<table border=\"1\" class=\"dataframe\">\n  <thead>\n    <tr style=\"text-align: right;\">\n      <th></th>\n      <th>1.0</th>\n      <th>UV_0.1</th>\n      <th>UV_0.2</th>\n      <th>UV_0.3</th>\n      <th>UV_0.4</th>\n      <th>UV_0.5</th>\n    </tr>\n  </thead>\n  <tbody>\n    <tr>\n      <th>0</th>\n      <td>1.000000</td>\n      <td>1.000000</td>\n      <td>0.833333</td>\n      <td>0.857143</td>\n      <td>1.000000</td>\n      <td>0.833333</td>\n    </tr>\n    <tr>\n      <th>1</th>\n      <td>0.833333</td>\n      <td>0.833333</td>\n      <td>1.000000</td>\n      <td>1.000000</td>\n      <td>0.833333</td>\n      <td>1.000000</td>\n    </tr>\n    <tr>\n      <th>2</th>\n      <td>0.666667</td>\n      <td>1.000000</td>\n      <td>1.000000</td>\n      <td>0.833333</td>\n      <td>1.000000</td>\n      <td>1.000000</td>\n    </tr>\n    <tr>\n      <th>3</th>\n      <td>0.666667</td>\n      <td>1.000000</td>\n      <td>1.000000</td>\n      <td>1.000000</td>\n      <td>1.000000</td>\n      <td>1.000000</td>\n    </tr>\n    <tr>\n      <th>4</th>\n      <td>0.833333</td>\n      <td>1.000000</td>\n      <td>0.833333</td>\n      <td>0.666667</td>\n      <td>1.000000</td>\n      <td>0.833333</td>\n    </tr>\n    <tr>\n      <th>...</th>\n      <td>...</td>\n      <td>...</td>\n      <td>...</td>\n      <td>...</td>\n      <td>...</td>\n      <td>...</td>\n    </tr>\n    <tr>\n      <th>5</th>\n      <td>0.666667</td>\n      <td>0.833333</td>\n      <td>0.666667</td>\n      <td>0.833333</td>\n      <td>1.000000</td>\n      <td>0.666667</td>\n    </tr>\n    <tr>\n      <th>6</th>\n      <td>1.000000</td>\n      <td>0.666667</td>\n      <td>1.000000</td>\n      <td>1.000000</td>\n      <td>0.833333</td>\n      <td>1.000000</td>\n    </tr>\n    <tr>\n      <th>7</th>\n      <td>1.000000</td>\n      <td>0.833333</td>\n      <td>1.000000</td>\n      <td>0.833333</td>\n      <td>0.666667</td>\n      <td>0.833333</td>\n    </tr>\n    <tr>\n      <th>8</th>\n      <td>0.500000</td>\n      <td>1.000000</td>\n      <td>0.833333</td>\n      <td>0.800000</td>\n      <td>0.833333</td>\n      <td>1.000000</td>\n    </tr>\n    <tr>\n      <th>9</th>\n      <td>0.833333</td>\n      <td>1.000000</td>\n      <td>1.000000</td>\n      <td>0.800000</td>\n      <td>0.833333</td>\n      <td>0.833333</td>\n    </tr>\n  </tbody>\n</table>\n<p>100 rows × 6 columns</p>\n</div>"
     },
     "execution_count": 59,
     "metadata": {},
     "output_type": "execute_result"
    }
   ],
   "source": [
    "coverage_df = coverage_df.drop([\"Tree val\", \"Naive\"], axis=1)\n",
    "coverage_df"
   ],
   "metadata": {
    "collapsed": false,
    "ExecuteTime": {
     "end_time": "2025-03-06T13:00:31.963485Z",
     "start_time": "2025-03-06T13:00:31.947713Z"
    }
   },
   "id": "6d1f1fad39e063ac"
  },
  {
   "cell_type": "code",
   "execution_count": 60,
   "outputs": [
    {
     "data": {
      "text/plain": "         1.0    UV_0.1    UV_0.2    UV_0.3    UV_0.4    UV_0.5\n0   1.272047  3.895045  2.847981  2.610729  2.221367  2.004146\n1   1.178574  3.881247  2.857391  2.431454  2.153402  2.011266\n2   1.174255  3.892569  2.878134  2.449271  2.205467  2.020659\n3   1.211608  3.899004  2.842823  2.220965  2.191617  1.837562\n4   1.184695  3.808812  2.941760  2.424997  2.174680  1.987001\n..       ...       ...       ...       ...       ...       ...\n5   1.167361  3.879536  2.829594  2.450701  2.212246  2.024366\n6   1.166201  3.942096  3.089202  2.439288  2.248743  2.018887\n7   1.209179  3.813611  2.855213  2.481564  2.187680  2.049618\n8   1.236381  3.469063  2.837359  2.248514  2.181855  1.902899\n9   1.296381  3.871299  2.878149  2.238628  2.238197  2.027069\n\n[100 rows x 6 columns]",
      "text/html": "<div>\n<style scoped>\n    .dataframe tbody tr th:only-of-type {\n        vertical-align: middle;\n    }\n\n    .dataframe tbody tr th {\n        vertical-align: top;\n    }\n\n    .dataframe thead th {\n        text-align: right;\n    }\n</style>\n<table border=\"1\" class=\"dataframe\">\n  <thead>\n    <tr style=\"text-align: right;\">\n      <th></th>\n      <th>1.0</th>\n      <th>UV_0.1</th>\n      <th>UV_0.2</th>\n      <th>UV_0.3</th>\n      <th>UV_0.4</th>\n      <th>UV_0.5</th>\n    </tr>\n  </thead>\n  <tbody>\n    <tr>\n      <th>0</th>\n      <td>1.272047</td>\n      <td>3.895045</td>\n      <td>2.847981</td>\n      <td>2.610729</td>\n      <td>2.221367</td>\n      <td>2.004146</td>\n    </tr>\n    <tr>\n      <th>1</th>\n      <td>1.178574</td>\n      <td>3.881247</td>\n      <td>2.857391</td>\n      <td>2.431454</td>\n      <td>2.153402</td>\n      <td>2.011266</td>\n    </tr>\n    <tr>\n      <th>2</th>\n      <td>1.174255</td>\n      <td>3.892569</td>\n      <td>2.878134</td>\n      <td>2.449271</td>\n      <td>2.205467</td>\n      <td>2.020659</td>\n    </tr>\n    <tr>\n      <th>3</th>\n      <td>1.211608</td>\n      <td>3.899004</td>\n      <td>2.842823</td>\n      <td>2.220965</td>\n      <td>2.191617</td>\n      <td>1.837562</td>\n    </tr>\n    <tr>\n      <th>4</th>\n      <td>1.184695</td>\n      <td>3.808812</td>\n      <td>2.941760</td>\n      <td>2.424997</td>\n      <td>2.174680</td>\n      <td>1.987001</td>\n    </tr>\n    <tr>\n      <th>...</th>\n      <td>...</td>\n      <td>...</td>\n      <td>...</td>\n      <td>...</td>\n      <td>...</td>\n      <td>...</td>\n    </tr>\n    <tr>\n      <th>5</th>\n      <td>1.167361</td>\n      <td>3.879536</td>\n      <td>2.829594</td>\n      <td>2.450701</td>\n      <td>2.212246</td>\n      <td>2.024366</td>\n    </tr>\n    <tr>\n      <th>6</th>\n      <td>1.166201</td>\n      <td>3.942096</td>\n      <td>3.089202</td>\n      <td>2.439288</td>\n      <td>2.248743</td>\n      <td>2.018887</td>\n    </tr>\n    <tr>\n      <th>7</th>\n      <td>1.209179</td>\n      <td>3.813611</td>\n      <td>2.855213</td>\n      <td>2.481564</td>\n      <td>2.187680</td>\n      <td>2.049618</td>\n    </tr>\n    <tr>\n      <th>8</th>\n      <td>1.236381</td>\n      <td>3.469063</td>\n      <td>2.837359</td>\n      <td>2.248514</td>\n      <td>2.181855</td>\n      <td>1.902899</td>\n    </tr>\n    <tr>\n      <th>9</th>\n      <td>1.296381</td>\n      <td>3.871299</td>\n      <td>2.878149</td>\n      <td>2.238628</td>\n      <td>2.238197</td>\n      <td>2.027069</td>\n    </tr>\n  </tbody>\n</table>\n<p>100 rows × 6 columns</p>\n</div>"
     },
     "execution_count": 60,
     "metadata": {},
     "output_type": "execute_result"
    }
   ],
   "source": [
    "length_df = length_df.drop([\"Tree val\", \"Naive\"], axis=1)\n",
    "length_df"
   ],
   "metadata": {
    "collapsed": false,
    "ExecuteTime": {
     "end_time": "2025-03-06T13:00:32.628914Z",
     "start_time": "2025-03-06T13:00:32.623819Z"
    }
   },
   "id": "d0d1248252b6e9fe"
  },
  {
   "cell_type": "code",
   "execution_count": 61,
   "outputs": [],
   "source": [
    "MSE_df = MSE_df.drop([\"Tree val\", \"Naive\"], axis=1)"
   ],
   "metadata": {
    "collapsed": false,
    "ExecuteTime": {
     "end_time": "2025-03-06T13:00:33.266802Z",
     "start_time": "2025-03-06T13:00:33.259399Z"
    }
   },
   "id": "1c29233a2057cd3"
  },
  {
   "cell_type": "code",
   "execution_count": 62,
   "outputs": [
    {
     "data": {
      "text/plain": "1.0       4.589377\nUV_0.1    4.636736\nUV_0.2    4.696616\nUV_0.3    4.711630\nUV_0.4    4.798673\nUV_0.5    4.878654\ndtype: float64"
     },
     "execution_count": 62,
     "metadata": {},
     "output_type": "execute_result"
    }
   ],
   "source": [
    "MSE_df.mean()"
   ],
   "metadata": {
    "collapsed": false,
    "ExecuteTime": {
     "end_time": "2025-03-06T13:00:33.662047Z",
     "start_time": "2025-03-06T13:00:33.650358Z"
    }
   },
   "id": "66c4d33b775a6096"
  },
  {
   "cell_type": "code",
   "execution_count": 63,
   "outputs": [],
   "source": [
    "import seaborn as sns\n",
    "def boxplots(dfs, metrics, len_lim=10, MSE_lim=10, \n",
    "             len_baseline_key=None, MSE_baseline_key=None,\n",
    "             col_names=None, palette=None):\n",
    "    # Set up the subplots: one for each metric\n",
    "    fig, axes = plt.subplots(1, 3, figsize=(15, 6))\n",
    "    \n",
    "    # Iterate over the dataframes and create a boxplot for each\n",
    "    for i, (df, metric) in enumerate(zip(dfs, metrics)):\n",
    "        if col_names is not None:\n",
    "            df = df.copy()\n",
    "            df.columns = col_names\n",
    "        sns.boxplot(data=df, ax=axes[i], palette=palette, showfliers=False)\n",
    "        axes[i].set_title(f'Boxplot for {metric}')\n",
    "        axes[i].set_xlabel('Method')\n",
    "        axes[i].set_ylabel('Value')\n",
    "        # Add triangles for the mean values\n",
    "        means = df.mean()  # Calculate mean for each method (column)\n",
    "        print(metric,\":\\n\",means.T)\n",
    "        for j, mean in enumerate(means):\n",
    "            if metric == \"Coverage\":\n",
    "                axes[i].plot(j, mean, marker='v', color='#40E0D0', markersize=10)  # Add a red triangle for the mean\n",
    "        if metric == \"Coverage\":\n",
    "            axes[i].set_ylim(0,1)\n",
    "            axes[i].axhline(y=0.9, linestyle='dotted', color='grey', linewidth=1)\n",
    "        elif metric == \"Length\":\n",
    "            axes[i].set_ylim(0,len_lim)\n",
    "            #if len_baseline_key:\n",
    "            #    axes[i].axhline(y=means[len_baseline_key], linestyle='dotted', color='grey')\n",
    "        elif metric == \"MSE\":\n",
    "            axes[i].set_ylim(3,6.5)\n",
    "            if MSE_baseline_key:\n",
    "                axes[i].axhline(y=means[MSE_baseline_key], linestyle='dotted', color='grey',\n",
    "                                linewidth=2)\n",
    "    \n",
    "    # Show the plots\n",
    "    plt.tight_layout()\n",
    "    plt.show()"
   ],
   "metadata": {
    "collapsed": false,
    "ExecuteTime": {
     "end_time": "2025-03-06T13:00:34.081925Z",
     "start_time": "2025-03-06T13:00:34.077305Z"
    }
   },
   "id": "6b8550a6c1ca31c2"
  },
  {
   "cell_type": "code",
   "execution_count": 64,
   "outputs": [
    {
     "name": "stdout",
     "output_type": "stream",
     "text": [
      "Coverage :\n",
      " RRT(1)     0.811810\n",
      "UV(0.1)    0.900190\n",
      "UV(0.2)    0.904667\n",
      "UV(0.3)    0.911714\n",
      "UV(0.4)    0.887571\n",
      "UV(0.5)    0.897762\n",
      "dtype: float64\n",
      "Length :\n",
      " RRT(1)     1.204925\n",
      "UV(0.1)    3.907408\n",
      "UV(0.2)    2.886740\n",
      "UV(0.3)    2.462278\n",
      "UV(0.4)    2.214025\n",
      "UV(0.5)    2.048015\n",
      "dtype: float64\n",
      "MSE :\n",
      " RRT(1)     4.589377\n",
      "UV(0.1)    4.636736\n",
      "UV(0.2)    4.696616\n",
      "UV(0.3)    4.711630\n",
      "UV(0.4)    4.798673\n",
      "UV(0.5)    4.878654\n",
      "dtype: float64\n"
     ]
    },
    {
     "data": {
      "text/plain": "<Figure size 1500x600 with 3 Axes>",
      "image/png": "[encoded data removed]"
     },
     "metadata": {},
     "output_type": "display_data"
    }
   ],
   "source": [
    "boxplots(dfs=[coverage_df, \n",
    "              length_df, \n",
    "              MSE_df], \n",
    "         len_lim=15,\n",
    "         len_baseline_key=\"RRT(1)\",\n",
    "         MSE_baseline_key=\"RRT(1)\",\n",
    "         metrics=[\"Coverage\", \"Length\", \"MSE\"],\n",
    "         col_names=[\"RRT(1)\", \"UV(0.1)\", \"UV(0.2)\", \"UV(0.3)\", \"UV(0.4)\", \"UV(0.5)\"], \n",
    "         palette=[\"#A8E6CF\", \"#66B2A2\", \"#41897D\", \"#2A5D57\", \"#2A4A5D\", \"#1E3A3A\"])"
   ],
   "metadata": {
    "collapsed": false,
    "ExecuteTime": {
     "end_time": "2025-03-06T13:00:34.875633Z",
     "start_time": "2025-03-06T13:00:34.550765Z"
    }
   },
   "id": "f36f6f9c1ac5c64e"
  },
  {
   "cell_type": "code",
   "execution_count": 55,
   "outputs": [],
   "source": [],
   "metadata": {
    "collapsed": false,
    "ExecuteTime": {
     "end_time": "2025-03-06T01:57:48.980638Z",
     "start_time": "2025-03-06T01:57:48.976506Z"
    }
   },
   "id": "2104c532f1fdbed9"
  },
  {
   "cell_type": "code",
   "execution_count": 9,
   "outputs": [],
   "source": [],
   "metadata": {
    "collapsed": false,
    "ExecuteTime": {
     "end_time": "2024-12-21T23:44:29.633043Z",
     "start_time": "2024-12-21T23:44:29.629854Z"
    }
   },
   "id": "c574a7e1062f33f9"
  },
  {
   "cell_type": "code",
   "execution_count": 9,
   "outputs": [],
   "source": [],
   "metadata": {
    "collapsed": false,
    "ExecuteTime": {
     "end_time": "2024-12-21T23:44:29.634232Z",
     "start_time": "2024-12-21T23:44:29.632698Z"
    }
   },
   "id": "5bae9fc0c2bec8d7"
  },
  {
   "cell_type": "code",
   "execution_count": null,
   "outputs": [],
   "source": [],
   "metadata": {
    "collapsed": false
   },
   "id": "5395e76f4a037b9"
  }
 ],
 "metadata": {
  "kernelspec": {
   "display_name": "Python 3",
   "language": "python",
   "name": "python3"
  },
  "language_info": {
   "codemirror_mode": {
    "name": "ipython",
    "version": 2
   },
   "file_extension": ".py",
   "mimetype": "text/x-python",
   "name": "python",
   "nbconvert_exporter": "python",
   "pygments_lexer": "ipython2",
   "version": "2.7.6"
  }
 },
 "nbformat": 4,
 "nbformat_minor": 5
}
