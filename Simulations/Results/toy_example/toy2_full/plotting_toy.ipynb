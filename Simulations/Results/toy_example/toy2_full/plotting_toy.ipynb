{
 "cells": [
  {
   "cell_type": "code",
   "execution_count": 21,
   "id": "initial_id",
   "metadata": {
    "collapsed": true,
    "ExecuteTime": {
     "end_time": "2025-03-05T22:04:20.971523Z",
     "start_time": "2025-03-05T22:04:20.968375Z"
    }
   },
   "outputs": [],
   "source": [
    "import joblib\n",
    "import matplotlib.pyplot as plt\n",
    "import numpy as np\n",
    "import pandas as pd\n",
    "import seaborn as sns"
   ]
  },
  {
   "cell_type": "code",
   "execution_count": 22,
   "outputs": [],
   "source": [
    "n_task_per_file = 10\n",
    "n_files = 10\n",
    "base_dir = \"toy_stage2_full_\"\n",
    "files_list = []\n",
    "for i in range(n_files):\n",
    "    dir = base_dir + str(i*n_task_per_file) + \"_\"  + str((i+1)*n_task_per_file) + \".pkl\"\n",
    "    files_list.append(dir)"
   ],
   "metadata": {
    "collapsed": false,
    "ExecuteTime": {
     "end_time": "2025-03-05T22:04:22.838865Z",
     "start_time": "2025-03-05T22:04:22.828658Z"
    }
   },
   "id": "15c24ca328824b39"
  },
  {
   "cell_type": "code",
   "execution_count": 23,
   "outputs": [],
   "source": [
    "coverage_df = pd.DataFrame()\n",
    "length_df = pd.DataFrame()\n",
    "MSE_df = pd.DataFrame()\n",
    "\n",
    "for f_dir in files_list:\n",
    "    coverage_i, length_i, MSE_i = joblib.load(f_dir)\n",
    "    coverage_df = pd.concat([coverage_df, pd.DataFrame(coverage_i)])\n",
    "    length_df = pd.concat([length_df, pd.DataFrame(length_i)])\n",
    "    MSE_df = pd.concat([MSE_df, pd.DataFrame(MSE_i)])"
   ],
   "metadata": {
    "collapsed": false,
    "ExecuteTime": {
     "end_time": "2025-03-05T22:04:23.272297Z",
     "start_time": "2025-03-05T22:04:23.251133Z"
    }
   },
   "id": "44ea9729e9ad0ae7"
  },
  {
   "cell_type": "code",
   "execution_count": 24,
   "outputs": [
    {
     "data": {
      "text/plain": "         1.0    UV_0.1    UV_0.2    UV_0.3    UV_0.4    UV_0.5\n0   1.000000  1.000000  0.833333  0.857143  1.000000  0.833333\n1   0.833333  0.833333  1.000000  1.000000  0.833333  1.000000\n2   0.666667  1.000000  1.000000  0.833333  1.000000  1.000000\n3   0.666667  1.000000  1.000000  1.000000  1.000000  1.000000\n4   0.833333  1.000000  0.833333  0.666667  1.000000  0.833333\n..       ...       ...       ...       ...       ...       ...\n0   0.833333  1.000000  1.000000  0.833333  0.500000  1.000000\n1   0.500000  1.000000  0.833333  1.000000  0.857143  1.000000\n2   1.000000  1.000000  0.833333  1.000000  0.833333  0.833333\n3   0.400000  0.666667  0.833333  0.857143  1.000000  1.000000\n4   0.666667  0.800000  1.000000  0.800000  0.800000  1.000000\n\n[83 rows x 6 columns]",
      "text/html": "<div>\n<style scoped>\n    .dataframe tbody tr th:only-of-type {\n        vertical-align: middle;\n    }\n\n    .dataframe tbody tr th {\n        vertical-align: top;\n    }\n\n    .dataframe thead th {\n        text-align: right;\n    }\n</style>\n<table border=\"1\" class=\"dataframe\">\n  <thead>\n    <tr style=\"text-align: right;\">\n      <th></th>\n      <th>1.0</th>\n      <th>UV_0.1</th>\n      <th>UV_0.2</th>\n      <th>UV_0.3</th>\n      <th>UV_0.4</th>\n      <th>UV_0.5</th>\n    </tr>\n  </thead>\n  <tbody>\n    <tr>\n      <th>0</th>\n      <td>1.000000</td>\n      <td>1.000000</td>\n      <td>0.833333</td>\n      <td>0.857143</td>\n      <td>1.000000</td>\n      <td>0.833333</td>\n    </tr>\n    <tr>\n      <th>1</th>\n      <td>0.833333</td>\n      <td>0.833333</td>\n      <td>1.000000</td>\n      <td>1.000000</td>\n      <td>0.833333</td>\n      <td>1.000000</td>\n    </tr>\n    <tr>\n      <th>2</th>\n      <td>0.666667</td>\n      <td>1.000000</td>\n      <td>1.000000</td>\n      <td>0.833333</td>\n      <td>1.000000</td>\n      <td>1.000000</td>\n    </tr>\n    <tr>\n      <th>3</th>\n      <td>0.666667</td>\n      <td>1.000000</td>\n      <td>1.000000</td>\n      <td>1.000000</td>\n      <td>1.000000</td>\n      <td>1.000000</td>\n    </tr>\n    <tr>\n      <th>4</th>\n      <td>0.833333</td>\n      <td>1.000000</td>\n      <td>0.833333</td>\n      <td>0.666667</td>\n      <td>1.000000</td>\n      <td>0.833333</td>\n    </tr>\n    <tr>\n      <th>...</th>\n      <td>...</td>\n      <td>...</td>\n      <td>...</td>\n      <td>...</td>\n      <td>...</td>\n      <td>...</td>\n    </tr>\n    <tr>\n      <th>0</th>\n      <td>0.833333</td>\n      <td>1.000000</td>\n      <td>1.000000</td>\n      <td>0.833333</td>\n      <td>0.500000</td>\n      <td>1.000000</td>\n    </tr>\n    <tr>\n      <th>1</th>\n      <td>0.500000</td>\n      <td>1.000000</td>\n      <td>0.833333</td>\n      <td>1.000000</td>\n      <td>0.857143</td>\n      <td>1.000000</td>\n    </tr>\n    <tr>\n      <th>2</th>\n      <td>1.000000</td>\n      <td>1.000000</td>\n      <td>0.833333</td>\n      <td>1.000000</td>\n      <td>0.833333</td>\n      <td>0.833333</td>\n    </tr>\n    <tr>\n      <th>3</th>\n      <td>0.400000</td>\n      <td>0.666667</td>\n      <td>0.833333</td>\n      <td>0.857143</td>\n      <td>1.000000</td>\n      <td>1.000000</td>\n    </tr>\n    <tr>\n      <th>4</th>\n      <td>0.666667</td>\n      <td>0.800000</td>\n      <td>1.000000</td>\n      <td>0.800000</td>\n      <td>0.800000</td>\n      <td>1.000000</td>\n    </tr>\n  </tbody>\n</table>\n<p>83 rows × 6 columns</p>\n</div>"
     },
     "execution_count": 24,
     "metadata": {},
     "output_type": "execute_result"
    }
   ],
   "source": [
    "coverage_df = coverage_df.drop([\"Tree val\", \"Naive\"], axis=1)\n",
    "coverage_df"
   ],
   "metadata": {
    "collapsed": false,
    "ExecuteTime": {
     "end_time": "2025-03-05T22:04:23.761016Z",
     "start_time": "2025-03-05T22:04:23.755468Z"
    }
   },
   "id": "6d1f1fad39e063ac"
  },
  {
   "cell_type": "code",
   "execution_count": 25,
   "outputs": [
    {
     "data": {
      "text/plain": "         1.0    UV_0.1    UV_0.2    UV_0.3    UV_0.4    UV_0.5\n0   1.418755  3.895045  2.847981  2.610729  2.221367  2.004146\n1   2.064678  3.881247  2.857391  2.431454  2.153402  2.011266\n2   1.195216  3.892569  2.878134  2.449271  2.205467  2.020659\n3   1.213014  3.899004  2.842823  2.220965  2.191617  1.837562\n4   1.195600  3.808812  2.941760  2.424997  2.174680  1.987001\n..       ...       ...       ...       ...       ...       ...\n0   1.584507  4.149032  2.828315  2.425090  2.204691  2.058424\n1   1.268650  4.129102  2.855251  2.609794  2.333167  2.153848\n2   1.202109  3.871922  2.859392  2.457835  2.185579  2.026615\n3   1.059630  3.874938  2.861832  2.586737  2.190163  2.041763\n4   1.567173  3.640533  2.640115  2.244839  2.026716  2.042147\n\n[83 rows x 6 columns]",
      "text/html": "<div>\n<style scoped>\n    .dataframe tbody tr th:only-of-type {\n        vertical-align: middle;\n    }\n\n    .dataframe tbody tr th {\n        vertical-align: top;\n    }\n\n    .dataframe thead th {\n        text-align: right;\n    }\n</style>\n<table border=\"1\" class=\"dataframe\">\n  <thead>\n    <tr style=\"text-align: right;\">\n      <th></th>\n      <th>1.0</th>\n      <th>UV_0.1</th>\n      <th>UV_0.2</th>\n      <th>UV_0.3</th>\n      <th>UV_0.4</th>\n      <th>UV_0.5</th>\n    </tr>\n  </thead>\n  <tbody>\n    <tr>\n      <th>0</th>\n      <td>1.418755</td>\n      <td>3.895045</td>\n      <td>2.847981</td>\n      <td>2.610729</td>\n      <td>2.221367</td>\n      <td>2.004146</td>\n    </tr>\n    <tr>\n      <th>1</th>\n      <td>2.064678</td>\n      <td>3.881247</td>\n      <td>2.857391</td>\n      <td>2.431454</td>\n      <td>2.153402</td>\n      <td>2.011266</td>\n    </tr>\n    <tr>\n      <th>2</th>\n      <td>1.195216</td>\n      <td>3.892569</td>\n      <td>2.878134</td>\n      <td>2.449271</td>\n      <td>2.205467</td>\n      <td>2.020659</td>\n    </tr>\n    <tr>\n      <th>3</th>\n      <td>1.213014</td>\n      <td>3.899004</td>\n      <td>2.842823</td>\n      <td>2.220965</td>\n      <td>2.191617</td>\n      <td>1.837562</td>\n    </tr>\n    <tr>\n      <th>4</th>\n      <td>1.195600</td>\n      <td>3.808812</td>\n      <td>2.941760</td>\n      <td>2.424997</td>\n      <td>2.174680</td>\n      <td>1.987001</td>\n    </tr>\n    <tr>\n      <th>...</th>\n      <td>...</td>\n      <td>...</td>\n      <td>...</td>\n      <td>...</td>\n      <td>...</td>\n      <td>...</td>\n    </tr>\n    <tr>\n      <th>0</th>\n      <td>1.584507</td>\n      <td>4.149032</td>\n      <td>2.828315</td>\n      <td>2.425090</td>\n      <td>2.204691</td>\n      <td>2.058424</td>\n    </tr>\n    <tr>\n      <th>1</th>\n      <td>1.268650</td>\n      <td>4.129102</td>\n      <td>2.855251</td>\n      <td>2.609794</td>\n      <td>2.333167</td>\n      <td>2.153848</td>\n    </tr>\n    <tr>\n      <th>2</th>\n      <td>1.202109</td>\n      <td>3.871922</td>\n      <td>2.859392</td>\n      <td>2.457835</td>\n      <td>2.185579</td>\n      <td>2.026615</td>\n    </tr>\n    <tr>\n      <th>3</th>\n      <td>1.059630</td>\n      <td>3.874938</td>\n      <td>2.861832</td>\n      <td>2.586737</td>\n      <td>2.190163</td>\n      <td>2.041763</td>\n    </tr>\n    <tr>\n      <th>4</th>\n      <td>1.567173</td>\n      <td>3.640533</td>\n      <td>2.640115</td>\n      <td>2.244839</td>\n      <td>2.026716</td>\n      <td>2.042147</td>\n    </tr>\n  </tbody>\n</table>\n<p>83 rows × 6 columns</p>\n</div>"
     },
     "execution_count": 25,
     "metadata": {},
     "output_type": "execute_result"
    }
   ],
   "source": [
    "length_df = length_df.drop([\"Tree val\", \"Naive\"], axis=1)\n",
    "length_df"
   ],
   "metadata": {
    "collapsed": false,
    "ExecuteTime": {
     "end_time": "2025-03-05T22:04:25.608957Z",
     "start_time": "2025-03-05T22:04:25.598118Z"
    }
   },
   "id": "d0d1248252b6e9fe"
  },
  {
   "cell_type": "code",
   "execution_count": 26,
   "outputs": [],
   "source": [
    "MSE_df = MSE_df.drop([\"Tree val\", \"Naive\"], axis=1)"
   ],
   "metadata": {
    "collapsed": false,
    "ExecuteTime": {
     "end_time": "2025-03-05T22:04:26.316303Z",
     "start_time": "2025-03-05T22:04:26.306471Z"
    }
   },
   "id": "1c29233a2057cd3"
  },
  {
   "cell_type": "code",
   "execution_count": 27,
   "outputs": [
    {
     "data": {
      "text/plain": "1.0       4.570299\nUV_0.1    4.611514\nUV_0.2    4.649375\nUV_0.3    4.684065\nUV_0.4    4.763160\nUV_0.5    4.824445\ndtype: float64"
     },
     "execution_count": 27,
     "metadata": {},
     "output_type": "execute_result"
    }
   ],
   "source": [
    "MSE_df.mean()"
   ],
   "metadata": {
    "collapsed": false,
    "ExecuteTime": {
     "end_time": "2025-03-05T22:04:26.868633Z",
     "start_time": "2025-03-05T22:04:26.858744Z"
    }
   },
   "id": "66c4d33b775a6096"
  },
  {
   "cell_type": "code",
   "execution_count": 28,
   "outputs": [],
   "source": [
    "import seaborn as sns\n",
    "def boxplots(dfs, metrics, len_lim=10, MSE_lim=10, \n",
    "             len_baseline_key=None, MSE_baseline_key=None,\n",
    "             col_names=None, palette=None):\n",
    "    # Set up the subplots: one for each metric\n",
    "    fig, axes = plt.subplots(1, 3, figsize=(15, 6))\n",
    "    \n",
    "    # Iterate over the dataframes and create a boxplot for each\n",
    "    for i, (df, metric) in enumerate(zip(dfs, metrics)):\n",
    "        if col_names is not None:\n",
    "            df = df.copy()\n",
    "            df.columns = col_names\n",
    "        sns.boxplot(data=df, ax=axes[i], palette=palette, showfliers=False)\n",
    "        axes[i].set_title(f'Boxplot for {metric}')\n",
    "        axes[i].set_xlabel('Method')\n",
    "        axes[i].set_ylabel('Value')\n",
    "        # Add triangles for the mean values\n",
    "        means = df.mean()  # Calculate mean for each method (column)\n",
    "        print(metric,\":\\n\",means.T)\n",
    "        for j, mean in enumerate(means):\n",
    "            if metric == \"Coverage\":\n",
    "                axes[i].plot(j, mean, marker='v', color='#40E0D0', markersize=10)  # Add a red triangle for the mean\n",
    "        if metric == \"Coverage\":\n",
    "            axes[i].set_ylim(0,1)\n",
    "            axes[i].axhline(y=0.9, linestyle='dotted', color='grey', linewidth=1)\n",
    "        elif metric == \"Length\":\n",
    "            axes[i].set_ylim(0,len_lim)\n",
    "            #if len_baseline_key:\n",
    "            #    axes[i].axhline(y=means[len_baseline_key], linestyle='dotted', color='grey')\n",
    "        elif metric == \"MSE\":\n",
    "            axes[i].set_ylim(3,6.5)\n",
    "            if MSE_baseline_key:\n",
    "                axes[i].axhline(y=means[MSE_baseline_key], linestyle='dotted', color='grey',\n",
    "                                linewidth=2)\n",
    "    \n",
    "    # Show the plots\n",
    "    plt.tight_layout()\n",
    "    plt.show()"
   ],
   "metadata": {
    "collapsed": false,
    "ExecuteTime": {
     "end_time": "2025-03-05T22:04:27.412541Z",
     "start_time": "2025-03-05T22:04:27.404454Z"
    }
   },
   "id": "6b8550a6c1ca31c2"
  },
  {
   "cell_type": "code",
   "execution_count": 29,
   "outputs": [
    {
     "name": "stdout",
     "output_type": "stream",
     "text": [
      "Coverage :\n",
      " RRT(1)     0.823465\n",
      "UV(0.1)    0.901549\n",
      "UV(0.2)    0.905221\n",
      "UV(0.3)    0.914515\n",
      "UV(0.4)    0.886632\n",
      "UV(0.5)    0.900631\n",
      "dtype: float64\n",
      "Length :\n",
      " RRT(1)     1.712979\n",
      "UV(0.1)    3.919506\n",
      "UV(0.2)    2.893918\n",
      "UV(0.3)    2.468801\n",
      "UV(0.4)    2.214476\n",
      "UV(0.5)    2.049742\n",
      "dtype: float64\n",
      "MSE :\n",
      " RRT(1)     4.570299\n",
      "UV(0.1)    4.611514\n",
      "UV(0.2)    4.649375\n",
      "UV(0.3)    4.684065\n",
      "UV(0.4)    4.763160\n",
      "UV(0.5)    4.824445\n",
      "dtype: float64\n"
     ]
    },
    {
     "data": {
      "text/plain": "<Figure size 1500x600 with 3 Axes>",
      "image/png": "[encoded data removed]"
     },
     "metadata": {},
     "output_type": "display_data"
    }
   ],
   "source": [
    "boxplots(dfs=[coverage_df, \n",
    "              length_df, \n",
    "              MSE_df], \n",
    "         len_lim=15,\n",
    "         len_baseline_key=\"RRT(1)\",\n",
    "         MSE_baseline_key=\"RRT(1)\",\n",
    "         metrics=[\"Coverage\", \"Length\", \"MSE\"],\n",
    "         col_names=[\"RRT(1)\", \"UV(0.1)\", \"UV(0.2)\", \"UV(0.3)\", \"UV(0.4)\", \"UV(0.5)\"], \n",
    "         palette=[\"#A8E6CF\", \"#66B2A2\", \"#41897D\", \"#2A5D57\", \"#2A4A5D\", \"#1E3A3A\"])"
   ],
   "metadata": {
    "collapsed": false,
    "ExecuteTime": {
     "end_time": "2025-03-05T22:04:28.222326Z",
     "start_time": "2025-03-05T22:04:27.916092Z"
    }
   },
   "id": "f36f6f9c1ac5c64e"
  },
  {
   "cell_type": "code",
   "execution_count": 9,
   "outputs": [],
   "source": [],
   "metadata": {
    "collapsed": false,
    "ExecuteTime": {
     "end_time": "2025-02-27T07:22:37.754731Z",
     "start_time": "2025-02-27T07:22:37.735285Z"
    }
   },
   "id": "2104c532f1fdbed9"
  },
  {
   "cell_type": "code",
   "execution_count": 9,
   "outputs": [],
   "source": [],
   "metadata": {
    "collapsed": false,
    "ExecuteTime": {
     "end_time": "2024-12-21T23:44:29.633043Z",
     "start_time": "2024-12-21T23:44:29.629854Z"
    }
   },
   "id": "c574a7e1062f33f9"
  },
  {
   "cell_type": "code",
   "execution_count": 9,
   "outputs": [],
   "source": [],
   "metadata": {
    "collapsed": false,
    "ExecuteTime": {
     "end_time": "2024-12-21T23:44:29.634232Z",
     "start_time": "2024-12-21T23:44:29.632698Z"
    }
   },
   "id": "5bae9fc0c2bec8d7"
  },
  {
   "cell_type": "code",
   "execution_count": null,
   "outputs": [],
   "source": [],
   "metadata": {
    "collapsed": false
   },
   "id": "5395e76f4a037b9"
  }
 ],
 "metadata": {
  "kernelspec": {
   "display_name": "Python 3",
   "language": "python",
   "name": "python3"
  },
  "language_info": {
   "codemirror_mode": {
    "name": "ipython",
    "version": 2
   },
   "file_extension": ".py",
   "mimetype": "text/x-python",
   "name": "python",
   "nbconvert_exporter": "python",
   "pygments_lexer": "ipython2",
   "version": "2.7.6"
  }
 },
 "nbformat": 4,
 "nbformat_minor": 5
}
