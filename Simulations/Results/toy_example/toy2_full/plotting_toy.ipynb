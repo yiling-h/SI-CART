{
 "cells": [
  {
   "cell_type": "code",
   "execution_count": 250,
   "id": "initial_id",
   "metadata": {
    "collapsed": true,
    "ExecuteTime": {
     "end_time": "2025-03-10T20:52:04.870605Z",
     "start_time": "2025-03-10T20:52:04.856318Z"
    }
   },
   "outputs": [],
   "source": [
    "import joblib\n",
    "import matplotlib.pyplot as plt\n",
    "import numpy as np\n",
    "import pandas as pd\n",
    "import seaborn as sns"
   ]
  },
  {
   "cell_type": "code",
   "execution_count": 251,
   "outputs": [],
   "source": [
    "n_task_per_file = 10\n",
    "n_files = 10\n",
    "base_dir = \"toy_stage2_full_\"\n",
    "files_list = []\n",
    "for i in range(n_files):\n",
    "    dir = base_dir + str(i*n_task_per_file) + \"_\"  + str((i+1)*n_task_per_file) + \".pkl\"\n",
    "    files_list.append(dir)"
   ],
   "metadata": {
    "collapsed": false,
    "ExecuteTime": {
     "end_time": "2025-03-10T20:52:05.049792Z",
     "start_time": "2025-03-10T20:52:05.033134Z"
    }
   },
   "id": "15c24ca328824b39"
  },
  {
   "cell_type": "code",
   "execution_count": 252,
   "outputs": [
    {
     "name": "stdout",
     "output_type": "stream",
     "text": [
      "(10, 9)\n",
      "toy_stage2_full_0_10.pkl\n",
      "1.0         0.849048\n",
      "2.5         0.871429\n",
      "Tree val    0.888095\n",
      "Naive       0.768095\n",
      "UV_0.1      0.912381\n",
      "UV_0.2      0.950000\n",
      "UV_0.3      0.902381\n",
      "UV_0.4      0.870476\n",
      "UV_0.5      0.916667\n",
      "dtype: float64\n",
      "(10, 9)\n",
      "toy_stage2_full_10_20.pkl\n",
      "1.0         0.802381\n",
      "2.5         0.823810\n",
      "Tree val    0.876667\n",
      "Naive       0.580476\n",
      "UV_0.1      0.862381\n",
      "UV_0.2      0.884762\n",
      "UV_0.3      0.900476\n",
      "UV_0.4      0.906667\n",
      "UV_0.5      0.904762\n",
      "dtype: float64\n",
      "(10, 9)\n",
      "toy_stage2_full_20_30.pkl\n",
      "1.0         0.773333\n",
      "2.5         0.902381\n",
      "Tree val    0.933333\n",
      "Naive       0.656667\n",
      "UV_0.1      0.869048\n",
      "UV_0.2      0.885714\n",
      "UV_0.3      0.916667\n",
      "UV_0.4      0.930000\n",
      "UV_0.5      0.966667\n",
      "dtype: float64\n",
      "(10, 9)\n",
      "toy_stage2_full_30_40.pkl\n",
      "1.0         0.785714\n",
      "2.5         0.887143\n",
      "Tree val    0.966667\n",
      "Naive       0.636190\n",
      "UV_0.1      0.918095\n",
      "UV_0.2      0.883333\n",
      "UV_0.3      0.857143\n",
      "UV_0.4      0.933333\n",
      "UV_0.5      0.900000\n",
      "dtype: float64\n",
      "(10, 9)\n",
      "toy_stage2_full_40_50.pkl\n",
      "1.0         0.776667\n",
      "2.5         0.866667\n",
      "Tree val    0.823333\n",
      "Naive       0.690476\n",
      "UV_0.1      0.902381\n",
      "UV_0.2      0.906667\n",
      "UV_0.3      0.885714\n",
      "UV_0.4      0.932381\n",
      "UV_0.5      0.896667\n",
      "dtype: float64\n",
      "(10, 9)\n",
      "toy_stage2_full_50_60.pkl\n",
      "1.0         0.837143\n",
      "2.5         0.851429\n",
      "Tree val    0.966667\n",
      "Naive       0.666667\n",
      "UV_0.1      0.800000\n",
      "UV_0.2      0.938095\n",
      "UV_0.3      0.916667\n",
      "UV_0.4      0.888095\n",
      "UV_0.5      0.902381\n",
      "dtype: float64\n",
      "(10, 9)\n",
      "toy_stage2_full_60_70.pkl\n",
      "1.0         0.723333\n",
      "2.5         0.848095\n",
      "Tree val    0.950000\n",
      "Naive       0.692857\n",
      "UV_0.1      0.828571\n",
      "UV_0.2      0.845714\n",
      "UV_0.3      0.887143\n",
      "UV_0.4      0.818095\n",
      "UV_0.5      0.915714\n",
      "dtype: float64\n",
      "(10, 9)\n",
      "toy_stage2_full_70_80.pkl\n",
      "1.0         0.885714\n",
      "2.5         0.860000\n",
      "Tree val    0.933333\n",
      "Naive       0.693333\n",
      "UV_0.1      0.983333\n",
      "UV_0.2      0.866667\n",
      "UV_0.3      0.893333\n",
      "UV_0.4      0.916667\n",
      "UV_0.5      0.933333\n",
      "dtype: float64\n",
      "(10, 9)\n",
      "toy_stage2_full_80_90.pkl\n",
      "1.0         0.793333\n",
      "2.5         0.813333\n",
      "Tree val    0.932381\n",
      "Naive       0.659524\n",
      "UV_0.1      0.864762\n",
      "UV_0.2      0.933333\n",
      "UV_0.3      0.866667\n",
      "UV_0.4      0.900000\n",
      "UV_0.5      0.907143\n",
      "dtype: float64\n",
      "(10, 9)\n",
      "toy_stage2_full_90_100.pkl\n",
      "1.0         0.866667\n",
      "2.5         0.810000\n",
      "Tree val    0.950000\n",
      "Naive       0.690000\n",
      "UV_0.1      0.883333\n",
      "UV_0.2      0.900000\n",
      "UV_0.3      0.950000\n",
      "UV_0.4      0.820000\n",
      "UV_0.5      0.883333\n",
      "dtype: float64\n"
     ]
    }
   ],
   "source": [
    "coverage_df = pd.DataFrame()\n",
    "length_df = pd.DataFrame()\n",
    "MSE_df = pd.DataFrame()\n",
    "\n",
    "for f_dir in files_list:\n",
    "    #if f_dir in [\"toy_stage2_full_350_400.pkl\", \"toy_stage2_full_200_250.pkl\"]:\n",
    "    #    continue\n",
    "    coverage_i, length_i, MSE_i = joblib.load(f_dir)\n",
    "    coverage_df = pd.concat([coverage_df, pd.DataFrame(coverage_i)])\n",
    "    length_df = pd.concat([length_df, pd.DataFrame(length_i)])\n",
    "    MSE_df = pd.concat([MSE_df, pd.DataFrame(MSE_i)])\n",
    "    print(pd.DataFrame(coverage_i).shape)\n",
    "    print(f_dir)\n",
    "    print(pd.DataFrame(coverage_i).mean())"
   ],
   "metadata": {
    "collapsed": false,
    "ExecuteTime": {
     "end_time": "2025-03-10T20:52:05.419239Z",
     "start_time": "2025-03-10T20:52:05.376247Z"
    }
   },
   "id": "44ea9729e9ad0ae7"
  },
  {
   "cell_type": "code",
   "execution_count": 253,
   "outputs": [
    {
     "data": {
      "text/plain": "         1.0       2.5    UV_0.1    UV_0.2    UV_0.3    UV_0.4    UV_0.5\n0   0.857143  1.000000  1.000000  0.833333  1.000000  0.857143  1.000000\n1   0.833333  1.000000  1.000000  1.000000  0.833333  1.000000  1.000000\n2   0.833333  0.833333  1.000000  1.000000  0.833333  1.000000  0.833333\n3   0.833333  0.833333  0.833333  0.833333  0.833333  0.833333  0.666667\n4   0.800000  1.000000  0.600000  1.000000  1.000000  0.800000  1.000000\n..       ...       ...       ...       ...       ...       ...       ...\n5   1.000000  1.000000  1.000000  1.000000  1.000000  0.833333  0.666667\n6   1.000000  1.000000  1.000000  1.000000  1.000000  0.800000  1.000000\n7   1.000000  0.600000  1.000000  1.000000  1.000000  1.000000  1.000000\n8   0.666667  0.666667  0.833333  1.000000  0.833333  1.000000  1.000000\n9   0.833333  0.666667  0.666667  0.833333  0.833333  0.666667  1.000000\n\n[100 rows x 7 columns]",
      "text/html": "<div>\n<style scoped>\n    .dataframe tbody tr th:only-of-type {\n        vertical-align: middle;\n    }\n\n    .dataframe tbody tr th {\n        vertical-align: top;\n    }\n\n    .dataframe thead th {\n        text-align: right;\n    }\n</style>\n<table border=\"1\" class=\"dataframe\">\n  <thead>\n    <tr style=\"text-align: right;\">\n      <th></th>\n      <th>1.0</th>\n      <th>2.5</th>\n      <th>UV_0.1</th>\n      <th>UV_0.2</th>\n      <th>UV_0.3</th>\n      <th>UV_0.4</th>\n      <th>UV_0.5</th>\n    </tr>\n  </thead>\n  <tbody>\n    <tr>\n      <th>0</th>\n      <td>0.857143</td>\n      <td>1.000000</td>\n      <td>1.000000</td>\n      <td>0.833333</td>\n      <td>1.000000</td>\n      <td>0.857143</td>\n      <td>1.000000</td>\n    </tr>\n    <tr>\n      <th>1</th>\n      <td>0.833333</td>\n      <td>1.000000</td>\n      <td>1.000000</td>\n      <td>1.000000</td>\n      <td>0.833333</td>\n      <td>1.000000</td>\n      <td>1.000000</td>\n    </tr>\n    <tr>\n      <th>2</th>\n      <td>0.833333</td>\n      <td>0.833333</td>\n      <td>1.000000</td>\n      <td>1.000000</td>\n      <td>0.833333</td>\n      <td>1.000000</td>\n      <td>0.833333</td>\n    </tr>\n    <tr>\n      <th>3</th>\n      <td>0.833333</td>\n      <td>0.833333</td>\n      <td>0.833333</td>\n      <td>0.833333</td>\n      <td>0.833333</td>\n      <td>0.833333</td>\n      <td>0.666667</td>\n    </tr>\n    <tr>\n      <th>4</th>\n      <td>0.800000</td>\n      <td>1.000000</td>\n      <td>0.600000</td>\n      <td>1.000000</td>\n      <td>1.000000</td>\n      <td>0.800000</td>\n      <td>1.000000</td>\n    </tr>\n    <tr>\n      <th>...</th>\n      <td>...</td>\n      <td>...</td>\n      <td>...</td>\n      <td>...</td>\n      <td>...</td>\n      <td>...</td>\n      <td>...</td>\n    </tr>\n    <tr>\n      <th>5</th>\n      <td>1.000000</td>\n      <td>1.000000</td>\n      <td>1.000000</td>\n      <td>1.000000</td>\n      <td>1.000000</td>\n      <td>0.833333</td>\n      <td>0.666667</td>\n    </tr>\n    <tr>\n      <th>6</th>\n      <td>1.000000</td>\n      <td>1.000000</td>\n      <td>1.000000</td>\n      <td>1.000000</td>\n      <td>1.000000</td>\n      <td>0.800000</td>\n      <td>1.000000</td>\n    </tr>\n    <tr>\n      <th>7</th>\n      <td>1.000000</td>\n      <td>0.600000</td>\n      <td>1.000000</td>\n      <td>1.000000</td>\n      <td>1.000000</td>\n      <td>1.000000</td>\n      <td>1.000000</td>\n    </tr>\n    <tr>\n      <th>8</th>\n      <td>0.666667</td>\n      <td>0.666667</td>\n      <td>0.833333</td>\n      <td>1.000000</td>\n      <td>0.833333</td>\n      <td>1.000000</td>\n      <td>1.000000</td>\n    </tr>\n    <tr>\n      <th>9</th>\n      <td>0.833333</td>\n      <td>0.666667</td>\n      <td>0.666667</td>\n      <td>0.833333</td>\n      <td>0.833333</td>\n      <td>0.666667</td>\n      <td>1.000000</td>\n    </tr>\n  </tbody>\n</table>\n<p>100 rows × 7 columns</p>\n</div>"
     },
     "execution_count": 253,
     "metadata": {},
     "output_type": "execute_result"
    }
   ],
   "source": [
    "coverage_df = coverage_df.drop([\"Tree val\", \"Naive\"], axis=1)\n",
    "coverage_df"
   ],
   "metadata": {
    "collapsed": false,
    "ExecuteTime": {
     "end_time": "2025-03-10T20:52:05.697484Z",
     "start_time": "2025-03-10T20:52:05.660132Z"
    }
   },
   "id": "6d1f1fad39e063ac"
  },
  {
   "cell_type": "code",
   "execution_count": 254,
   "outputs": [
    {
     "data": {
      "text/plain": "         1.0       2.5    UV_0.1    UV_0.2    UV_0.3    UV_0.4    UV_0.5\n0   1.336065  1.166292  3.890800  2.860750  2.452458  2.344923  2.146612\n1   1.197241  1.175473  3.905280  2.862596  2.463473  2.221746  2.037130\n2   1.178639  1.163654  3.874596  2.861579  2.440683  2.185567  2.023442\n3   1.173655  1.152647  3.835782  2.873993  2.457208  2.152446  2.076211\n4   1.076070  1.083018  3.621294  2.642195  2.218952  2.015612  1.839041\n..       ...       ...       ...       ...       ...       ...       ...\n5   1.165341  1.150194  3.813432  2.816984  2.470824  2.153696  2.000631\n6   1.209278  1.188069  3.900577  2.847797  2.208410  2.075851  1.830554\n7   1.142105  1.052671  3.868170  2.835517  2.232621  2.221501  2.023277\n8   1.258675  1.174401  3.913452  2.888513  2.433492  2.197654  2.055430\n9   1.164946  1.172953  3.863153  2.855376  2.447679  2.184866  2.035816\n\n[100 rows x 7 columns]",
      "text/html": "<div>\n<style scoped>\n    .dataframe tbody tr th:only-of-type {\n        vertical-align: middle;\n    }\n\n    .dataframe tbody tr th {\n        vertical-align: top;\n    }\n\n    .dataframe thead th {\n        text-align: right;\n    }\n</style>\n<table border=\"1\" class=\"dataframe\">\n  <thead>\n    <tr style=\"text-align: right;\">\n      <th></th>\n      <th>1.0</th>\n      <th>2.5</th>\n      <th>UV_0.1</th>\n      <th>UV_0.2</th>\n      <th>UV_0.3</th>\n      <th>UV_0.4</th>\n      <th>UV_0.5</th>\n    </tr>\n  </thead>\n  <tbody>\n    <tr>\n      <th>0</th>\n      <td>1.336065</td>\n      <td>1.166292</td>\n      <td>3.890800</td>\n      <td>2.860750</td>\n      <td>2.452458</td>\n      <td>2.344923</td>\n      <td>2.146612</td>\n    </tr>\n    <tr>\n      <th>1</th>\n      <td>1.197241</td>\n      <td>1.175473</td>\n      <td>3.905280</td>\n      <td>2.862596</td>\n      <td>2.463473</td>\n      <td>2.221746</td>\n      <td>2.037130</td>\n    </tr>\n    <tr>\n      <th>2</th>\n      <td>1.178639</td>\n      <td>1.163654</td>\n      <td>3.874596</td>\n      <td>2.861579</td>\n      <td>2.440683</td>\n      <td>2.185567</td>\n      <td>2.023442</td>\n    </tr>\n    <tr>\n      <th>3</th>\n      <td>1.173655</td>\n      <td>1.152647</td>\n      <td>3.835782</td>\n      <td>2.873993</td>\n      <td>2.457208</td>\n      <td>2.152446</td>\n      <td>2.076211</td>\n    </tr>\n    <tr>\n      <th>4</th>\n      <td>1.076070</td>\n      <td>1.083018</td>\n      <td>3.621294</td>\n      <td>2.642195</td>\n      <td>2.218952</td>\n      <td>2.015612</td>\n      <td>1.839041</td>\n    </tr>\n    <tr>\n      <th>...</th>\n      <td>...</td>\n      <td>...</td>\n      <td>...</td>\n      <td>...</td>\n      <td>...</td>\n      <td>...</td>\n      <td>...</td>\n    </tr>\n    <tr>\n      <th>5</th>\n      <td>1.165341</td>\n      <td>1.150194</td>\n      <td>3.813432</td>\n      <td>2.816984</td>\n      <td>2.470824</td>\n      <td>2.153696</td>\n      <td>2.000631</td>\n    </tr>\n    <tr>\n      <th>6</th>\n      <td>1.209278</td>\n      <td>1.188069</td>\n      <td>3.900577</td>\n      <td>2.847797</td>\n      <td>2.208410</td>\n      <td>2.075851</td>\n      <td>1.830554</td>\n    </tr>\n    <tr>\n      <th>7</th>\n      <td>1.142105</td>\n      <td>1.052671</td>\n      <td>3.868170</td>\n      <td>2.835517</td>\n      <td>2.232621</td>\n      <td>2.221501</td>\n      <td>2.023277</td>\n    </tr>\n    <tr>\n      <th>8</th>\n      <td>1.258675</td>\n      <td>1.174401</td>\n      <td>3.913452</td>\n      <td>2.888513</td>\n      <td>2.433492</td>\n      <td>2.197654</td>\n      <td>2.055430</td>\n    </tr>\n    <tr>\n      <th>9</th>\n      <td>1.164946</td>\n      <td>1.172953</td>\n      <td>3.863153</td>\n      <td>2.855376</td>\n      <td>2.447679</td>\n      <td>2.184866</td>\n      <td>2.035816</td>\n    </tr>\n  </tbody>\n</table>\n<p>100 rows × 7 columns</p>\n</div>"
     },
     "execution_count": 254,
     "metadata": {},
     "output_type": "execute_result"
    }
   ],
   "source": [
    "length_df = length_df.drop([\"Tree val\", \"Naive\"], axis=1)\n",
    "length_df"
   ],
   "metadata": {
    "collapsed": false,
    "ExecuteTime": {
     "end_time": "2025-03-10T20:52:06.170206Z",
     "start_time": "2025-03-10T20:52:06.159896Z"
    }
   },
   "id": "d0d1248252b6e9fe"
  },
  {
   "cell_type": "code",
   "execution_count": 255,
   "outputs": [],
   "source": [
    "MSE_df = MSE_df.drop([\"Tree val\", \"Naive\"], axis=1)"
   ],
   "metadata": {
    "collapsed": false,
    "ExecuteTime": {
     "end_time": "2025-03-10T20:52:06.548785Z",
     "start_time": "2025-03-10T20:52:06.538035Z"
    }
   },
   "id": "1c29233a2057cd3"
  },
  {
   "cell_type": "code",
   "execution_count": 256,
   "outputs": [
    {
     "data": {
      "text/plain": "1.0       4.719022\n2.5       4.962280\nUV_0.1    4.675064\nUV_0.2    4.771468\nUV_0.3    4.784672\nUV_0.4    4.857674\nUV_0.5    4.941331\ndtype: float64"
     },
     "execution_count": 256,
     "metadata": {},
     "output_type": "execute_result"
    }
   ],
   "source": [
    "MSE_df.mean()"
   ],
   "metadata": {
    "collapsed": false,
    "ExecuteTime": {
     "end_time": "2025-03-10T20:52:07.056427Z",
     "start_time": "2025-03-10T20:52:07.042554Z"
    }
   },
   "id": "66c4d33b775a6096"
  },
  {
   "cell_type": "code",
   "execution_count": 257,
   "outputs": [],
   "source": [
    "import seaborn as sns\n",
    "def boxplots(dfs, metrics, len_lim=10, MSE_lim=10, \n",
    "             len_baseline_key=None, MSE_baseline_key=None,\n",
    "             col_names=None, palette=None):\n",
    "    # Set up the subplots: one for each metric\n",
    "    fig, axes = plt.subplots(1, 3, figsize=(15, 6))\n",
    "    \n",
    "    # Iterate over the dataframes and create a boxplot for each\n",
    "    for i, (df, metric) in enumerate(zip(dfs, metrics)):\n",
    "        if col_names is not None:\n",
    "            df = df.copy()\n",
    "            df.columns = col_names\n",
    "        sns.boxplot(data=df, ax=axes[i], palette=palette, showfliers=False)\n",
    "        axes[i].set_title(f'Boxplot for {metric}')\n",
    "        axes[i].set_xlabel('Method')\n",
    "        axes[i].set_ylabel('Value')\n",
    "        # Add triangles for the mean values\n",
    "        means = df.mean()  # Calculate mean for each method (column)\n",
    "        print(metric,\":\\n\",means.T)\n",
    "        for j, mean in enumerate(means):\n",
    "            if metric == \"Coverage\":\n",
    "                axes[i].plot(j, mean, marker='v', color='#40E0D0', markersize=10)  # Add a red triangle for the mean\n",
    "        if metric == \"Coverage\":\n",
    "            axes[i].set_ylim(0,1)\n",
    "            axes[i].axhline(y=0.9, linestyle='dotted', color='grey', linewidth=1)\n",
    "        elif metric == \"Length\":\n",
    "            axes[i].set_ylim(0,len_lim)\n",
    "            #if len_baseline_key:\n",
    "            #    axes[i].axhline(y=means[len_baseline_key], linestyle='dotted', color='grey')\n",
    "        elif metric == \"MSE\":\n",
    "            axes[i].set_ylim(3,6.5)\n",
    "            if MSE_baseline_key:\n",
    "                axes[i].axhline(y=means[MSE_baseline_key], linestyle='dotted', color='grey',\n",
    "                                linewidth=2)\n",
    "    \n",
    "    # Show the plots\n",
    "    plt.tight_layout()\n",
    "    plt.show()"
   ],
   "metadata": {
    "collapsed": false,
    "ExecuteTime": {
     "end_time": "2025-03-10T20:52:09.769105Z",
     "start_time": "2025-03-10T20:52:09.763004Z"
    }
   },
   "id": "6b8550a6c1ca31c2"
  },
  {
   "cell_type": "code",
   "execution_count": 258,
   "outputs": [
    {
     "name": "stderr",
     "output_type": "stream",
     "text": [
      "/var/folders/6t/y2p8qwk54f7fnkwds613w0040000gs/T/ipykernel_72484/1924133983.py:13: UserWarning: \n",
      "The palette list has fewer values (6) than needed (7) and will cycle, which may produce an uninterpretable plot.\n",
      "  sns.boxplot(data=df, ax=axes[i], palette=palette, showfliers=False)\n",
      "/var/folders/6t/y2p8qwk54f7fnkwds613w0040000gs/T/ipykernel_72484/1924133983.py:13: UserWarning: \n",
      "The palette list has fewer values (6) than needed (7) and will cycle, which may produce an uninterpretable plot.\n",
      "  sns.boxplot(data=df, ax=axes[i], palette=palette, showfliers=False)\n",
      "/var/folders/6t/y2p8qwk54f7fnkwds613w0040000gs/T/ipykernel_72484/1924133983.py:13: UserWarning: \n",
      "The palette list has fewer values (6) than needed (7) and will cycle, which may produce an uninterpretable plot.\n",
      "  sns.boxplot(data=df, ax=axes[i], palette=palette, showfliers=False)\n"
     ]
    },
    {
     "name": "stdout",
     "output_type": "stream",
     "text": [
      "Coverage :\n",
      " RRT(1)      0.809333\n",
      "RRT(2.5)    0.853429\n",
      "UV(0.1)     0.882429\n",
      "UV(0.2)     0.899429\n",
      "UV(0.3)     0.897619\n",
      "UV(0.4)     0.891571\n",
      "UV(0.5)     0.912667\n",
      "dtype: float64\n",
      "Length :\n",
      " RRT(1)      1.185815\n",
      "RRT(2.5)    1.169533\n",
      "UV(0.1)     3.891522\n",
      "UV(0.2)     2.866764\n",
      "UV(0.3)     2.426631\n",
      "UV(0.4)     2.178104\n",
      "UV(0.5)     2.026736\n",
      "dtype: float64\n",
      "MSE :\n",
      " RRT(1)      4.719022\n",
      "RRT(2.5)    4.962280\n",
      "UV(0.1)     4.675064\n",
      "UV(0.2)     4.771468\n",
      "UV(0.3)     4.784672\n",
      "UV(0.4)     4.857674\n",
      "UV(0.5)     4.941331\n",
      "dtype: float64\n"
     ]
    },
    {
     "data": {
      "text/plain": "<Figure size 1500x600 with 3 Axes>",
      "image/png": "[encoded data removed]"
     },
     "metadata": {},
     "output_type": "display_data"
    }
   ],
   "source": [
    "boxplots(dfs=[coverage_df, \n",
    "              length_df, \n",
    "              MSE_df], \n",
    "         len_lim=15,\n",
    "         len_baseline_key=\"RRT(1)\",\n",
    "         MSE_baseline_key=\"RRT(1)\",\n",
    "         metrics=[\"Coverage\", \"Length\", \"MSE\"],\n",
    "         col_names=[\"RRT(1)\", \"RRT(2.5)\", \"UV(0.1)\", \"UV(0.2)\", \"UV(0.3)\", \"UV(0.4)\", \"UV(0.5)\"], \n",
    "         palette=[\"#A8E6CF\", \"#66B2A2\", \"#41897D\", \"#2A5D57\", \"#2A4A5D\", \"#1E3A3A\"])"
   ],
   "metadata": {
    "collapsed": false,
    "ExecuteTime": {
     "end_time": "2025-03-10T20:52:10.446303Z",
     "start_time": "2025-03-10T20:52:10.122386Z"
    }
   },
   "id": "f36f6f9c1ac5c64e"
  },
  {
   "cell_type": "code",
   "execution_count": 204,
   "outputs": [],
   "source": [],
   "metadata": {
    "collapsed": false,
    "ExecuteTime": {
     "end_time": "2025-03-10T01:10:06.051432Z",
     "start_time": "2025-03-10T01:10:06.034441Z"
    }
   },
   "id": "2104c532f1fdbed9"
  },
  {
   "cell_type": "code",
   "execution_count": 204,
   "outputs": [],
   "source": [],
   "metadata": {
    "collapsed": false,
    "ExecuteTime": {
     "end_time": "2025-03-10T01:10:06.051470Z",
     "start_time": "2025-03-10T01:10:06.037666Z"
    }
   },
   "id": "c574a7e1062f33f9"
  },
  {
   "cell_type": "code",
   "execution_count": 9,
   "outputs": [],
   "source": [],
   "metadata": {
    "collapsed": false,
    "ExecuteTime": {
     "end_time": "2024-12-21T23:44:29.634232Z",
     "start_time": "2024-12-21T23:44:29.632698Z"
    }
   },
   "id": "5bae9fc0c2bec8d7"
  },
  {
   "cell_type": "code",
   "execution_count": null,
   "outputs": [],
   "source": [],
   "metadata": {
    "collapsed": false
   },
   "id": "5395e76f4a037b9"
  }
 ],
 "metadata": {
  "kernelspec": {
   "display_name": "Python 3",
   "language": "python",
   "name": "python3"
  },
  "language_info": {
   "codemirror_mode": {
    "name": "ipython",
    "version": 2
   },
   "file_extension": ".py",
   "mimetype": "text/x-python",
   "name": "python",
   "nbconvert_exporter": "python",
   "pygments_lexer": "ipython2",
   "version": "2.7.6"
  }
 },
 "nbformat": 4,
 "nbformat_minor": 5
}
