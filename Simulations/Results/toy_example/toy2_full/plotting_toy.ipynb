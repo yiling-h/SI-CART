{
 "cells": [
  {
   "cell_type": "code",
   "execution_count": 152,
   "id": "initial_id",
   "metadata": {
    "collapsed": true,
    "ExecuteTime": {
     "end_time": "2025-03-07T18:35:02.273320Z",
     "start_time": "2025-03-07T18:35:02.270625Z"
    }
   },
   "outputs": [],
   "source": [
    "import joblib\n",
    "import matplotlib.pyplot as plt\n",
    "import numpy as np\n",
    "import pandas as pd\n",
    "import seaborn as sns"
   ]
  },
  {
   "cell_type": "code",
   "execution_count": 153,
   "outputs": [],
   "source": [
    "n_task_per_file = 50\n",
    "n_files = 10\n",
    "base_dir = \"toy_stage2_full_\"\n",
    "files_list = []\n",
    "for i in range(n_files):\n",
    "    dir = base_dir + str(i*n_task_per_file) + \"_\"  + str((i+1)*n_task_per_file) + \".pkl\"\n",
    "    files_list.append(dir)"
   ],
   "metadata": {
    "collapsed": false,
    "ExecuteTime": {
     "end_time": "2025-03-07T18:35:02.565618Z",
     "start_time": "2025-03-07T18:35:02.552304Z"
    }
   },
   "id": "15c24ca328824b39"
  },
  {
   "cell_type": "code",
   "execution_count": 154,
   "outputs": [
    {
     "name": "stdout",
     "output_type": "stream",
     "text": [
      "(46, 9)\n",
      "1.0         0.808799\n",
      "2.5         0.869876\n",
      "Tree val    0.901760\n",
      "Naive       0.664907\n",
      "UV_0.1      0.890269\n",
      "UV_0.2      0.905901\n",
      "UV_0.3      0.893996\n",
      "UV_0.4      0.917495\n",
      "UV_0.5      0.916977\n",
      "dtype: float64\n",
      "(34, 9)\n",
      "1.0         0.835154\n",
      "2.5         0.860644\n",
      "Tree val    0.940196\n",
      "Naive       0.679272\n",
      "UV_0.1      0.875070\n",
      "UV_0.2      0.897199\n",
      "UV_0.3      0.896218\n",
      "UV_0.4      0.879272\n",
      "UV_0.5      0.922689\n",
      "dtype: float64\n",
      "(50, 9)\n",
      "1.0         0.808571\n",
      "2.5         0.848000\n",
      "Tree val    0.904190\n",
      "Naive       0.655905\n",
      "UV_0.1      0.906095\n",
      "UV_0.2      0.932857\n",
      "UV_0.3      0.908667\n",
      "UV_0.4      0.914667\n",
      "UV_0.5      0.863714\n",
      "dtype: float64\n",
      "(39, 9)\n",
      "1.0         0.848474\n",
      "2.5         0.882906\n",
      "Tree val    0.914286\n",
      "Naive       0.693162\n",
      "UV_0.1      0.899512\n",
      "UV_0.2      0.921490\n",
      "UV_0.3      0.946764\n",
      "UV_0.4      0.900366\n",
      "UV_0.5      0.903297\n",
      "dtype: float64\n",
      "(13, 9)\n",
      "1.0         0.841026\n",
      "2.5         0.874725\n",
      "Tree val    0.886447\n",
      "Naive       0.682418\n",
      "UV_0.1      0.960806\n",
      "UV_0.2      0.935897\n",
      "UV_0.3      0.909524\n",
      "UV_0.4      0.924176\n",
      "UV_0.5      0.922344\n",
      "dtype: float64\n",
      "(49, 9)\n",
      "1.0         0.835277\n",
      "2.5         0.835957\n",
      "Tree val    0.876190\n",
      "Naive       0.630224\n",
      "UV_0.1      0.914091\n",
      "UV_0.2      0.889504\n",
      "UV_0.3      0.913605\n",
      "UV_0.4      0.883285\n",
      "UV_0.5      0.911273\n",
      "dtype: float64\n",
      "(22, 9)\n",
      "1.0         0.756926\n",
      "2.5         0.833983\n",
      "Tree val    0.902165\n",
      "Naive       0.641775\n",
      "UV_0.1      0.923810\n",
      "UV_0.2      0.926407\n",
      "UV_0.3      0.919913\n",
      "UV_0.4      0.874459\n",
      "UV_0.5      0.910823\n",
      "dtype: float64\n",
      "(33, 9)\n",
      "1.0         0.870130\n",
      "2.5         0.825253\n",
      "Tree val    0.911688\n",
      "Naive       0.666089\n",
      "UV_0.1      0.904185\n",
      "UV_0.2      0.912843\n",
      "UV_0.3      0.908947\n",
      "UV_0.4      0.870274\n",
      "UV_0.5      0.863781\n",
      "dtype: float64\n",
      "(44, 9)\n",
      "1.0         0.842749\n",
      "2.5         0.835065\n",
      "Tree val    0.898918\n",
      "Naive       0.683442\n",
      "UV_0.1      0.918506\n",
      "UV_0.2      0.873268\n",
      "UV_0.3      0.858983\n",
      "UV_0.4      0.927706\n",
      "UV_0.5      0.939719\n",
      "dtype: float64\n",
      "(50, 9)\n",
      "1.0         0.811048\n",
      "2.5         0.866762\n",
      "Tree val    0.885048\n",
      "Naive       0.671048\n",
      "UV_0.1      0.897143\n",
      "UV_0.2      0.905333\n",
      "UV_0.3      0.910857\n",
      "UV_0.4      0.883429\n",
      "UV_0.5      0.888476\n",
      "dtype: float64\n"
     ]
    }
   ],
   "source": [
    "coverage_df = pd.DataFrame()\n",
    "length_df = pd.DataFrame()\n",
    "MSE_df = pd.DataFrame()\n",
    "\n",
    "for f_dir in files_list:\n",
    "    coverage_i, length_i, MSE_i = joblib.load(f_dir)\n",
    "    coverage_df = pd.concat([coverage_df, pd.DataFrame(coverage_i)])\n",
    "    length_df = pd.concat([length_df, pd.DataFrame(length_i)])\n",
    "    MSE_df = pd.concat([MSE_df, pd.DataFrame(MSE_i)])\n",
    "    print(pd.DataFrame(coverage_i).shape)\n",
    "    print(pd.DataFrame(coverage_i).mean())"
   ],
   "metadata": {
    "collapsed": false,
    "ExecuteTime": {
     "end_time": "2025-03-07T18:35:03.192050Z",
     "start_time": "2025-03-07T18:35:03.089146Z"
    }
   },
   "id": "44ea9729e9ad0ae7"
  },
  {
   "cell_type": "code",
   "execution_count": 155,
   "outputs": [
    {
     "data": {
      "text/plain": "         1.0       2.5    UV_0.1    UV_0.2    UV_0.3    UV_0.4    UV_0.5\n0   0.857143  1.000000  1.000000  0.833333  1.000000  0.857143  1.000000\n1   0.833333  1.000000  1.000000  1.000000  0.833333  1.000000  1.000000\n2   0.833333  0.833333  1.000000  1.000000  0.833333  1.000000  0.833333\n3   0.833333  0.833333  0.833333  0.833333  0.833333  0.833333  0.666667\n4   0.800000  1.000000  0.600000  1.000000  1.000000  0.800000  1.000000\n..       ...       ...       ...       ...       ...       ...       ...\n45  0.666667  0.666667  1.000000  0.666667  0.666667  0.500000  0.666667\n46  1.000000  1.000000  0.833333  0.833333  1.000000  0.833333  0.666667\n47  1.000000  1.000000  1.000000  0.833333  1.000000  0.833333  1.000000\n48  0.833333  0.666667  0.833333  0.833333  1.000000  1.000000  1.000000\n49  0.833333  0.833333  1.000000  1.000000  0.833333  0.666667  1.000000\n\n[380 rows x 7 columns]",
      "text/html": "<div>\n<style scoped>\n    .dataframe tbody tr th:only-of-type {\n        vertical-align: middle;\n    }\n\n    .dataframe tbody tr th {\n        vertical-align: top;\n    }\n\n    .dataframe thead th {\n        text-align: right;\n    }\n</style>\n<table border=\"1\" class=\"dataframe\">\n  <thead>\n    <tr style=\"text-align: right;\">\n      <th></th>\n      <th>1.0</th>\n      <th>2.5</th>\n      <th>UV_0.1</th>\n      <th>UV_0.2</th>\n      <th>UV_0.3</th>\n      <th>UV_0.4</th>\n      <th>UV_0.5</th>\n    </tr>\n  </thead>\n  <tbody>\n    <tr>\n      <th>0</th>\n      <td>0.857143</td>\n      <td>1.000000</td>\n      <td>1.000000</td>\n      <td>0.833333</td>\n      <td>1.000000</td>\n      <td>0.857143</td>\n      <td>1.000000</td>\n    </tr>\n    <tr>\n      <th>1</th>\n      <td>0.833333</td>\n      <td>1.000000</td>\n      <td>1.000000</td>\n      <td>1.000000</td>\n      <td>0.833333</td>\n      <td>1.000000</td>\n      <td>1.000000</td>\n    </tr>\n    <tr>\n      <th>2</th>\n      <td>0.833333</td>\n      <td>0.833333</td>\n      <td>1.000000</td>\n      <td>1.000000</td>\n      <td>0.833333</td>\n      <td>1.000000</td>\n      <td>0.833333</td>\n    </tr>\n    <tr>\n      <th>3</th>\n      <td>0.833333</td>\n      <td>0.833333</td>\n      <td>0.833333</td>\n      <td>0.833333</td>\n      <td>0.833333</td>\n      <td>0.833333</td>\n      <td>0.666667</td>\n    </tr>\n    <tr>\n      <th>4</th>\n      <td>0.800000</td>\n      <td>1.000000</td>\n      <td>0.600000</td>\n      <td>1.000000</td>\n      <td>1.000000</td>\n      <td>0.800000</td>\n      <td>1.000000</td>\n    </tr>\n    <tr>\n      <th>...</th>\n      <td>...</td>\n      <td>...</td>\n      <td>...</td>\n      <td>...</td>\n      <td>...</td>\n      <td>...</td>\n      <td>...</td>\n    </tr>\n    <tr>\n      <th>45</th>\n      <td>0.666667</td>\n      <td>0.666667</td>\n      <td>1.000000</td>\n      <td>0.666667</td>\n      <td>0.666667</td>\n      <td>0.500000</td>\n      <td>0.666667</td>\n    </tr>\n    <tr>\n      <th>46</th>\n      <td>1.000000</td>\n      <td>1.000000</td>\n      <td>0.833333</td>\n      <td>0.833333</td>\n      <td>1.000000</td>\n      <td>0.833333</td>\n      <td>0.666667</td>\n    </tr>\n    <tr>\n      <th>47</th>\n      <td>1.000000</td>\n      <td>1.000000</td>\n      <td>1.000000</td>\n      <td>0.833333</td>\n      <td>1.000000</td>\n      <td>0.833333</td>\n      <td>1.000000</td>\n    </tr>\n    <tr>\n      <th>48</th>\n      <td>0.833333</td>\n      <td>0.666667</td>\n      <td>0.833333</td>\n      <td>0.833333</td>\n      <td>1.000000</td>\n      <td>1.000000</td>\n      <td>1.000000</td>\n    </tr>\n    <tr>\n      <th>49</th>\n      <td>0.833333</td>\n      <td>0.833333</td>\n      <td>1.000000</td>\n      <td>1.000000</td>\n      <td>0.833333</td>\n      <td>0.666667</td>\n      <td>1.000000</td>\n    </tr>\n  </tbody>\n</table>\n<p>380 rows × 7 columns</p>\n</div>"
     },
     "execution_count": 155,
     "metadata": {},
     "output_type": "execute_result"
    }
   ],
   "source": [
    "coverage_df = coverage_df.drop([\"Tree val\", \"Naive\"], axis=1)\n",
    "coverage_df"
   ],
   "metadata": {
    "collapsed": false,
    "ExecuteTime": {
     "end_time": "2025-03-07T18:35:03.473245Z",
     "start_time": "2025-03-07T18:35:03.426867Z"
    }
   },
   "id": "6d1f1fad39e063ac"
  },
  {
   "cell_type": "code",
   "execution_count": 156,
   "outputs": [
    {
     "data": {
      "text/plain": "         1.0       2.5    UV_0.1    UV_0.2    UV_0.3    UV_0.4    UV_0.5\n0   1.289181  1.174673  3.890800  2.860750  2.452458  2.344923  2.146612\n1   1.194955  1.176845  3.905280  2.862596  2.463473  2.221746  2.037130\n2   1.191556  1.168485  3.874596  2.861579  2.440683  2.185567  2.023442\n3   1.161096  1.153673  3.835782  2.873993  2.457208  2.152446  2.076211\n4   1.072509  1.081741  3.621294  2.642195  2.218952  2.015612  1.839041\n..       ...       ...       ...       ...       ...       ...       ...\n45  1.197410  1.166598  3.861068  2.907535  2.435860  2.225041  2.041188\n46  1.203188  1.175722  3.866978  2.877495  2.401313  2.204127  1.987049\n47  1.229077  1.154284  3.903410  2.849240  2.519658  2.234219  1.829971\n48  1.207251  1.222451  3.868177  2.859682  2.591912  2.251639  2.057316\n49  1.233213  1.221272  3.845386  2.865427  2.375952  2.134957  2.022161\n\n[380 rows x 7 columns]",
      "text/html": "<div>\n<style scoped>\n    .dataframe tbody tr th:only-of-type {\n        vertical-align: middle;\n    }\n\n    .dataframe tbody tr th {\n        vertical-align: top;\n    }\n\n    .dataframe thead th {\n        text-align: right;\n    }\n</style>\n<table border=\"1\" class=\"dataframe\">\n  <thead>\n    <tr style=\"text-align: right;\">\n      <th></th>\n      <th>1.0</th>\n      <th>2.5</th>\n      <th>UV_0.1</th>\n      <th>UV_0.2</th>\n      <th>UV_0.3</th>\n      <th>UV_0.4</th>\n      <th>UV_0.5</th>\n    </tr>\n  </thead>\n  <tbody>\n    <tr>\n      <th>0</th>\n      <td>1.289181</td>\n      <td>1.174673</td>\n      <td>3.890800</td>\n      <td>2.860750</td>\n      <td>2.452458</td>\n      <td>2.344923</td>\n      <td>2.146612</td>\n    </tr>\n    <tr>\n      <th>1</th>\n      <td>1.194955</td>\n      <td>1.176845</td>\n      <td>3.905280</td>\n      <td>2.862596</td>\n      <td>2.463473</td>\n      <td>2.221746</td>\n      <td>2.037130</td>\n    </tr>\n    <tr>\n      <th>2</th>\n      <td>1.191556</td>\n      <td>1.168485</td>\n      <td>3.874596</td>\n      <td>2.861579</td>\n      <td>2.440683</td>\n      <td>2.185567</td>\n      <td>2.023442</td>\n    </tr>\n    <tr>\n      <th>3</th>\n      <td>1.161096</td>\n      <td>1.153673</td>\n      <td>3.835782</td>\n      <td>2.873993</td>\n      <td>2.457208</td>\n      <td>2.152446</td>\n      <td>2.076211</td>\n    </tr>\n    <tr>\n      <th>4</th>\n      <td>1.072509</td>\n      <td>1.081741</td>\n      <td>3.621294</td>\n      <td>2.642195</td>\n      <td>2.218952</td>\n      <td>2.015612</td>\n      <td>1.839041</td>\n    </tr>\n    <tr>\n      <th>...</th>\n      <td>...</td>\n      <td>...</td>\n      <td>...</td>\n      <td>...</td>\n      <td>...</td>\n      <td>...</td>\n      <td>...</td>\n    </tr>\n    <tr>\n      <th>45</th>\n      <td>1.197410</td>\n      <td>1.166598</td>\n      <td>3.861068</td>\n      <td>2.907535</td>\n      <td>2.435860</td>\n      <td>2.225041</td>\n      <td>2.041188</td>\n    </tr>\n    <tr>\n      <th>46</th>\n      <td>1.203188</td>\n      <td>1.175722</td>\n      <td>3.866978</td>\n      <td>2.877495</td>\n      <td>2.401313</td>\n      <td>2.204127</td>\n      <td>1.987049</td>\n    </tr>\n    <tr>\n      <th>47</th>\n      <td>1.229077</td>\n      <td>1.154284</td>\n      <td>3.903410</td>\n      <td>2.849240</td>\n      <td>2.519658</td>\n      <td>2.234219</td>\n      <td>1.829971</td>\n    </tr>\n    <tr>\n      <th>48</th>\n      <td>1.207251</td>\n      <td>1.222451</td>\n      <td>3.868177</td>\n      <td>2.859682</td>\n      <td>2.591912</td>\n      <td>2.251639</td>\n      <td>2.057316</td>\n    </tr>\n    <tr>\n      <th>49</th>\n      <td>1.233213</td>\n      <td>1.221272</td>\n      <td>3.845386</td>\n      <td>2.865427</td>\n      <td>2.375952</td>\n      <td>2.134957</td>\n      <td>2.022161</td>\n    </tr>\n  </tbody>\n</table>\n<p>380 rows × 7 columns</p>\n</div>"
     },
     "execution_count": 156,
     "metadata": {},
     "output_type": "execute_result"
    }
   ],
   "source": [
    "length_df = length_df.drop([\"Tree val\", \"Naive\"], axis=1)\n",
    "length_df"
   ],
   "metadata": {
    "collapsed": false,
    "ExecuteTime": {
     "end_time": "2025-03-07T18:35:03.977553Z",
     "start_time": "2025-03-07T18:35:03.968777Z"
    }
   },
   "id": "d0d1248252b6e9fe"
  },
  {
   "cell_type": "code",
   "execution_count": 157,
   "outputs": [],
   "source": [
    "MSE_df = MSE_df.drop([\"Tree val\", \"Naive\"], axis=1)"
   ],
   "metadata": {
    "collapsed": false,
    "ExecuteTime": {
     "end_time": "2025-03-07T18:35:04.561964Z",
     "start_time": "2025-03-07T18:35:04.553166Z"
    }
   },
   "id": "1c29233a2057cd3"
  },
  {
   "cell_type": "code",
   "execution_count": 158,
   "outputs": [
    {
     "data": {
      "text/plain": "1.0       4.709325\n2.5       4.849494\nUV_0.1    4.713249\nUV_0.2    4.777639\nUV_0.3    4.838332\nUV_0.4    4.894659\nUV_0.5    4.948614\ndtype: float64"
     },
     "execution_count": 158,
     "metadata": {},
     "output_type": "execute_result"
    }
   ],
   "source": [
    "MSE_df.mean()"
   ],
   "metadata": {
    "collapsed": false,
    "ExecuteTime": {
     "end_time": "2025-03-07T18:35:04.983063Z",
     "start_time": "2025-03-07T18:35:04.968247Z"
    }
   },
   "id": "66c4d33b775a6096"
  },
  {
   "cell_type": "code",
   "execution_count": 159,
   "outputs": [],
   "source": [
    "import seaborn as sns\n",
    "def boxplots(dfs, metrics, len_lim=10, MSE_lim=10, \n",
    "             len_baseline_key=None, MSE_baseline_key=None,\n",
    "             col_names=None, palette=None):\n",
    "    # Set up the subplots: one for each metric\n",
    "    fig, axes = plt.subplots(1, 3, figsize=(15, 6))\n",
    "    \n",
    "    # Iterate over the dataframes and create a boxplot for each\n",
    "    for i, (df, metric) in enumerate(zip(dfs, metrics)):\n",
    "        if col_names is not None:\n",
    "            df = df.copy()\n",
    "            df.columns = col_names\n",
    "        sns.boxplot(data=df, ax=axes[i], palette=palette, showfliers=False)\n",
    "        axes[i].set_title(f'Boxplot for {metric}')\n",
    "        axes[i].set_xlabel('Method')\n",
    "        axes[i].set_ylabel('Value')\n",
    "        # Add triangles for the mean values\n",
    "        means = df.mean()  # Calculate mean for each method (column)\n",
    "        print(metric,\":\\n\",means.T)\n",
    "        for j, mean in enumerate(means):\n",
    "            if metric == \"Coverage\":\n",
    "                axes[i].plot(j, mean, marker='v', color='#40E0D0', markersize=10)  # Add a red triangle for the mean\n",
    "        if metric == \"Coverage\":\n",
    "            axes[i].set_ylim(0,1)\n",
    "            axes[i].axhline(y=0.9, linestyle='dotted', color='grey', linewidth=1)\n",
    "        elif metric == \"Length\":\n",
    "            axes[i].set_ylim(0,len_lim)\n",
    "            #if len_baseline_key:\n",
    "            #    axes[i].axhline(y=means[len_baseline_key], linestyle='dotted', color='grey')\n",
    "        elif metric == \"MSE\":\n",
    "            axes[i].set_ylim(3,6.5)\n",
    "            if MSE_baseline_key:\n",
    "                axes[i].axhline(y=means[MSE_baseline_key], linestyle='dotted', color='grey',\n",
    "                                linewidth=2)\n",
    "    \n",
    "    # Show the plots\n",
    "    plt.tight_layout()\n",
    "    plt.show()"
   ],
   "metadata": {
    "collapsed": false,
    "ExecuteTime": {
     "end_time": "2025-03-07T18:35:05.593475Z",
     "start_time": "2025-03-07T18:35:05.567285Z"
    }
   },
   "id": "6b8550a6c1ca31c2"
  },
  {
   "cell_type": "code",
   "execution_count": 160,
   "outputs": [
    {
     "name": "stderr",
     "output_type": "stream",
     "text": [
      "/var/folders/6t/y2p8qwk54f7fnkwds613w0040000gs/T/ipykernel_72484/1924133983.py:13: UserWarning: \n",
      "The palette list has fewer values (6) than needed (7) and will cycle, which may produce an uninterpretable plot.\n",
      "  sns.boxplot(data=df, ax=axes[i], palette=palette, showfliers=False)\n",
      "/var/folders/6t/y2p8qwk54f7fnkwds613w0040000gs/T/ipykernel_72484/1924133983.py:13: UserWarning: \n",
      "The palette list has fewer values (6) than needed (7) and will cycle, which may produce an uninterpretable plot.\n",
      "  sns.boxplot(data=df, ax=axes[i], palette=palette, showfliers=False)\n",
      "/var/folders/6t/y2p8qwk54f7fnkwds613w0040000gs/T/ipykernel_72484/1924133983.py:13: UserWarning: \n",
      "The palette list has fewer values (6) than needed (7) and will cycle, which may produce an uninterpretable plot.\n",
      "  sns.boxplot(data=df, ax=axes[i], palette=palette, showfliers=False)\n"
     ]
    },
    {
     "name": "stdout",
     "output_type": "stream",
     "text": [
      "Coverage :\n",
      " RRT(1)      0.826266\n",
      "RRT(2.5)    0.852907\n",
      "UV(0.1)     0.904749\n",
      "UV(0.2)     0.907118\n",
      "UV(0.3)     0.905564\n",
      "UV(0.4)     0.897870\n",
      "UV(0.5)     0.902431\n",
      "dtype: float64\n",
      "Length :\n",
      " RRT(1)      1.193013\n",
      "RRT(2.5)    1.170213\n",
      "UV(0.1)     3.890277\n",
      "UV(0.2)     2.873688\n",
      "UV(0.3)     2.432353\n",
      "UV(0.4)     2.187810\n",
      "UV(0.5)     2.027759\n",
      "dtype: float64\n",
      "MSE :\n",
      " RRT(1)      4.709325\n",
      "RRT(2.5)    4.849494\n",
      "UV(0.1)     4.713249\n",
      "UV(0.2)     4.777639\n",
      "UV(0.3)     4.838332\n",
      "UV(0.4)     4.894659\n",
      "UV(0.5)     4.948614\n",
      "dtype: float64\n"
     ]
    },
    {
     "data": {
      "text/plain": "<Figure size 1500x600 with 3 Axes>",
      "image/png": "[encoded data removed]"
     },
     "metadata": {},
     "output_type": "display_data"
    }
   ],
   "source": [
    "boxplots(dfs=[coverage_df, \n",
    "              length_df, \n",
    "              MSE_df], \n",
    "         len_lim=15,\n",
    "         len_baseline_key=\"RRT(1)\",\n",
    "         MSE_baseline_key=\"RRT(1)\",\n",
    "         metrics=[\"Coverage\", \"Length\", \"MSE\"],\n",
    "         col_names=[\"RRT(1)\", \"RRT(2.5)\", \"UV(0.1)\", \"UV(0.2)\", \"UV(0.3)\", \"UV(0.4)\", \"UV(0.5)\"], \n",
    "         palette=[\"#A8E6CF\", \"#66B2A2\", \"#41897D\", \"#2A5D57\", \"#2A4A5D\", \"#1E3A3A\"])"
   ],
   "metadata": {
    "collapsed": false,
    "ExecuteTime": {
     "end_time": "2025-03-07T18:35:06.569544Z",
     "start_time": "2025-03-07T18:35:06.136161Z"
    }
   },
   "id": "f36f6f9c1ac5c64e"
  },
  {
   "cell_type": "code",
   "execution_count": 55,
   "outputs": [],
   "source": [],
   "metadata": {
    "collapsed": false,
    "ExecuteTime": {
     "end_time": "2025-03-06T01:57:48.980638Z",
     "start_time": "2025-03-06T01:57:48.976506Z"
    }
   },
   "id": "2104c532f1fdbed9"
  },
  {
   "cell_type": "code",
   "execution_count": 9,
   "outputs": [],
   "source": [],
   "metadata": {
    "collapsed": false,
    "ExecuteTime": {
     "end_time": "2024-12-21T23:44:29.633043Z",
     "start_time": "2024-12-21T23:44:29.629854Z"
    }
   },
   "id": "c574a7e1062f33f9"
  },
  {
   "cell_type": "code",
   "execution_count": 9,
   "outputs": [],
   "source": [],
   "metadata": {
    "collapsed": false,
    "ExecuteTime": {
     "end_time": "2024-12-21T23:44:29.634232Z",
     "start_time": "2024-12-21T23:44:29.632698Z"
    }
   },
   "id": "5bae9fc0c2bec8d7"
  },
  {
   "cell_type": "code",
   "execution_count": null,
   "outputs": [],
   "source": [],
   "metadata": {
    "collapsed": false
   },
   "id": "5395e76f4a037b9"
  }
 ],
 "metadata": {
  "kernelspec": {
   "display_name": "Python 3",
   "language": "python",
   "name": "python3"
  },
  "language_info": {
   "codemirror_mode": {
    "name": "ipython",
    "version": 2
   },
   "file_extension": ".py",
   "mimetype": "text/x-python",
   "name": "python",
   "nbconvert_exporter": "python",
   "pygments_lexer": "ipython2",
   "version": "2.7.6"
  }
 },
 "nbformat": 4,
 "nbformat_minor": 5
}
