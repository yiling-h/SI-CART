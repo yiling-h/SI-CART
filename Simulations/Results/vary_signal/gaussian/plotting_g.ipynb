{
 "cells": [
  {
   "cell_type": "code",
   "execution_count": 1,
   "id": "initial_id",
   "metadata": {
    "collapsed": true,
    "ExecuteTime": {
     "end_time": "2025-09-02T05:23:21.460991Z",
     "start_time": "2025-09-02T05:23:21.439421Z"
    }
   },
   "outputs": [],
   "source": [
    "import joblib\n",
    "import matplotlib.pyplot as plt\n",
    "import numpy as np\n",
    "import pandas as pd\n",
    "import seaborn as sns"
   ]
  },
  {
   "cell_type": "code",
   "execution_count": 2,
   "outputs": [],
   "source": [
    "n_task_per_file = 50\n",
    "n_files = 10\n",
    "base_dir = \"prop/vary_signa_G_\"\n",
    "files_list = []\n",
    "for i in range(n_files):\n",
    "    dir = base_dir + str(i*n_task_per_file) + \"_\"  + str((i+1)*n_task_per_file) + \".pkl\"\n",
    "    files_list.append(dir)"
   ],
   "metadata": {
    "collapsed": false,
    "ExecuteTime": {
     "end_time": "2025-09-02T05:23:21.466128Z",
     "start_time": "2025-09-02T05:23:21.461868Z"
    }
   },
   "id": "15c24ca328824b39"
  },
  {
   "cell_type": "code",
   "execution_count": 3,
   "outputs": [],
   "source": [
    "oper_char_df = pd.DataFrame()\n",
    "\n",
    "for f_dir in files_list:\n",
    "    oper_char_i = joblib.load(f_dir)\n",
    "    oper_char_df = pd.concat([oper_char_df, pd.DataFrame(oper_char_i)])"
   ],
   "metadata": {
    "collapsed": false,
    "ExecuteTime": {
     "end_time": "2025-09-02T05:23:21.543447Z",
     "start_time": "2025-09-02T05:23:21.466736Z"
    }
   },
   "id": "44ea9729e9ad0ae7"
  },
  {
   "cell_type": "code",
   "execution_count": 4,
   "outputs": [],
   "source": [
    "#oper_char_df = oper_char_df[oper_char_df['Method'] != \"UV(0.1)\"]"
   ],
   "metadata": {
    "collapsed": false,
    "ExecuteTime": {
     "end_time": "2025-09-02T05:23:21.547430Z",
     "start_time": "2025-09-02T05:23:21.543799Z"
    }
   },
   "id": "6d1f1fad39e063ac"
  },
  {
   "cell_type": "code",
   "execution_count": 5,
   "outputs": [
    {
     "data": {
      "text/plain": "                   Coverage Rate      Length         MSE\nSD(Y) Method                                            \n1.0   RRT               0.919857    5.617960    1.371778\n      Tree-Values       0.890321   40.492059    1.153453\n      UV(0.05)          0.906610   15.075333    1.328027\n2.0   RRT               0.931886   13.876363    4.754220\n      Tree-Values       0.893071         inf    4.861719\n      UV(0.05)          0.902181   30.150665    4.821260\n5.0   RRT               0.942771   54.875560   28.526157\n      Tree-Values       0.894607         inf   30.301299\n      UV(0.05)          0.900486   75.376663   29.381597\n10.0  RRT               0.934281  165.193347  114.357891\n      Tree-Values       0.896652  780.129698  120.099614\n      UV(0.05)          0.904052  150.753325  116.255022",
      "text/html": "<div>\n<style scoped>\n    .dataframe tbody tr th:only-of-type {\n        vertical-align: middle;\n    }\n\n    .dataframe tbody tr th {\n        vertical-align: top;\n    }\n\n    .dataframe thead th {\n        text-align: right;\n    }\n</style>\n<table border=\"1\" class=\"dataframe\">\n  <thead>\n    <tr style=\"text-align: right;\">\n      <th></th>\n      <th></th>\n      <th>Coverage Rate</th>\n      <th>Length</th>\n      <th>MSE</th>\n    </tr>\n    <tr>\n      <th>SD(Y)</th>\n      <th>Method</th>\n      <th></th>\n      <th></th>\n      <th></th>\n    </tr>\n  </thead>\n  <tbody>\n    <tr>\n      <th rowspan=\"3\" valign=\"top\">1.0</th>\n      <th>RRT</th>\n      <td>0.919857</td>\n      <td>5.617960</td>\n      <td>1.371778</td>\n    </tr>\n    <tr>\n      <th>Tree-Values</th>\n      <td>0.890321</td>\n      <td>40.492059</td>\n      <td>1.153453</td>\n    </tr>\n    <tr>\n      <th>UV(0.05)</th>\n      <td>0.906610</td>\n      <td>15.075333</td>\n      <td>1.328027</td>\n    </tr>\n    <tr>\n      <th rowspan=\"3\" valign=\"top\">2.0</th>\n      <th>RRT</th>\n      <td>0.931886</td>\n      <td>13.876363</td>\n      <td>4.754220</td>\n    </tr>\n    <tr>\n      <th>Tree-Values</th>\n      <td>0.893071</td>\n      <td>inf</td>\n      <td>4.861719</td>\n    </tr>\n    <tr>\n      <th>UV(0.05)</th>\n      <td>0.902181</td>\n      <td>30.150665</td>\n      <td>4.821260</td>\n    </tr>\n    <tr>\n      <th rowspan=\"3\" valign=\"top\">5.0</th>\n      <th>RRT</th>\n      <td>0.942771</td>\n      <td>54.875560</td>\n      <td>28.526157</td>\n    </tr>\n    <tr>\n      <th>Tree-Values</th>\n      <td>0.894607</td>\n      <td>inf</td>\n      <td>30.301299</td>\n    </tr>\n    <tr>\n      <th>UV(0.05)</th>\n      <td>0.900486</td>\n      <td>75.376663</td>\n      <td>29.381597</td>\n    </tr>\n    <tr>\n      <th rowspan=\"3\" valign=\"top\">10.0</th>\n      <th>RRT</th>\n      <td>0.934281</td>\n      <td>165.193347</td>\n      <td>114.357891</td>\n    </tr>\n    <tr>\n      <th>Tree-Values</th>\n      <td>0.896652</td>\n      <td>780.129698</td>\n      <td>120.099614</td>\n    </tr>\n    <tr>\n      <th>UV(0.05)</th>\n      <td>0.904052</td>\n      <td>150.753325</td>\n      <td>116.255022</td>\n    </tr>\n  </tbody>\n</table>\n</div>"
     },
     "execution_count": 5,
     "metadata": {},
     "output_type": "execute_result"
    }
   ],
   "source": [
    "oper_char_df.groupby(['SD(Y)', \"Method\"]).mean()"
   ],
   "metadata": {
    "collapsed": false,
    "ExecuteTime": {
     "end_time": "2025-09-02T05:23:21.588969Z",
     "start_time": "2025-09-02T05:23:21.546711Z"
    }
   },
   "id": "24eef8af8793aef5"
  },
  {
   "cell_type": "code",
   "execution_count": 6,
   "outputs": [
    {
     "data": {
      "text/plain": "     Coverage Rate      Length         MSE       Method  SD(Y)\n0         1.000000    4.616445    1.162283          RRT    1.0\n1         1.000000    5.287472    1.107326  Tree-Values    1.0\n2         0.666667   15.075333    1.473372     UV(0.05)    1.0\n3         1.000000   12.433277    4.396477          RRT    2.0\n4         1.000000   13.864856    4.470479  Tree-Values    2.0\n..             ...         ...         ...          ...    ...\n595       0.857143  164.348150   33.199287  Tree-Values    5.0\n596       1.000000   75.376663   32.984636     UV(0.05)    5.0\n597       1.000000  151.644777  120.836259          RRT   10.0\n598       1.000000  293.754919  130.638300  Tree-Values   10.0\n599       1.000000  150.753325  123.963746     UV(0.05)   10.0\n\n[6000 rows x 5 columns]",
      "text/html": "<div>\n<style scoped>\n    .dataframe tbody tr th:only-of-type {\n        vertical-align: middle;\n    }\n\n    .dataframe tbody tr th {\n        vertical-align: top;\n    }\n\n    .dataframe thead th {\n        text-align: right;\n    }\n</style>\n<table border=\"1\" class=\"dataframe\">\n  <thead>\n    <tr style=\"text-align: right;\">\n      <th></th>\n      <th>Coverage Rate</th>\n      <th>Length</th>\n      <th>MSE</th>\n      <th>Method</th>\n      <th>SD(Y)</th>\n    </tr>\n  </thead>\n  <tbody>\n    <tr>\n      <th>0</th>\n      <td>1.000000</td>\n      <td>4.616445</td>\n      <td>1.162283</td>\n      <td>RRT</td>\n      <td>1.0</td>\n    </tr>\n    <tr>\n      <th>1</th>\n      <td>1.000000</td>\n      <td>5.287472</td>\n      <td>1.107326</td>\n      <td>Tree-Values</td>\n      <td>1.0</td>\n    </tr>\n    <tr>\n      <th>2</th>\n      <td>0.666667</td>\n      <td>15.075333</td>\n      <td>1.473372</td>\n      <td>UV(0.05)</td>\n      <td>1.0</td>\n    </tr>\n    <tr>\n      <th>3</th>\n      <td>1.000000</td>\n      <td>12.433277</td>\n      <td>4.396477</td>\n      <td>RRT</td>\n      <td>2.0</td>\n    </tr>\n    <tr>\n      <th>4</th>\n      <td>1.000000</td>\n      <td>13.864856</td>\n      <td>4.470479</td>\n      <td>Tree-Values</td>\n      <td>2.0</td>\n    </tr>\n    <tr>\n      <th>...</th>\n      <td>...</td>\n      <td>...</td>\n      <td>...</td>\n      <td>...</td>\n      <td>...</td>\n    </tr>\n    <tr>\n      <th>595</th>\n      <td>0.857143</td>\n      <td>164.348150</td>\n      <td>33.199287</td>\n      <td>Tree-Values</td>\n      <td>5.0</td>\n    </tr>\n    <tr>\n      <th>596</th>\n      <td>1.000000</td>\n      <td>75.376663</td>\n      <td>32.984636</td>\n      <td>UV(0.05)</td>\n      <td>5.0</td>\n    </tr>\n    <tr>\n      <th>597</th>\n      <td>1.000000</td>\n      <td>151.644777</td>\n      <td>120.836259</td>\n      <td>RRT</td>\n      <td>10.0</td>\n    </tr>\n    <tr>\n      <th>598</th>\n      <td>1.000000</td>\n      <td>293.754919</td>\n      <td>130.638300</td>\n      <td>Tree-Values</td>\n      <td>10.0</td>\n    </tr>\n    <tr>\n      <th>599</th>\n      <td>1.000000</td>\n      <td>150.753325</td>\n      <td>123.963746</td>\n      <td>UV(0.05)</td>\n      <td>10.0</td>\n    </tr>\n  </tbody>\n</table>\n<p>6000 rows × 5 columns</p>\n</div>"
     },
     "execution_count": 6,
     "metadata": {},
     "output_type": "execute_result"
    }
   ],
   "source": [
    "oper_char_df"
   ],
   "metadata": {
    "collapsed": false,
    "ExecuteTime": {
     "end_time": "2025-09-02T05:23:21.595958Z",
     "start_time": "2025-09-02T05:23:21.591500Z"
    }
   },
   "id": "61c17f020920148a"
  },
  {
   "cell_type": "code",
   "execution_count": 7,
   "outputs": [],
   "source": [
    "oper_char_df.index = range(oper_char_df.shape[0])"
   ],
   "metadata": {
    "collapsed": false,
    "ExecuteTime": {
     "end_time": "2025-09-02T05:23:21.596639Z",
     "start_time": "2025-09-02T05:23:21.594425Z"
    }
   },
   "id": "448f700728e21aa9"
  },
  {
   "cell_type": "code",
   "execution_count": 12,
   "outputs": [
    {
     "data": {
      "text/plain": "<Figure size 1200x300 with 4 Axes>",
      "image/png": "[encoded data removed]"
     },
     "metadata": {},
     "output_type": "display_data"
    }
   ],
   "source": [
    "import matplotlib.pyplot as plt\n",
    "import seaborn as sns\n",
    "\n",
    "# Assuming your DataFrame is named df\n",
    "metrics = [\"Coverage Rate\", \"Length\", \"Length\", \"MSE\"]\n",
    "\n",
    "# Set up the figure and axes for subplots\n",
    "fig, axes = plt.subplots(1, 4, figsize=(12, 3), sharey=False)\n",
    "\n",
    "oper_char_df['Method'] = oper_char_df['Method'].replace('RRT', 'RRT(1)')\n",
    "\n",
    "my_palette = {\"RRT(1)\": \"#48c072\",\n",
    "              \"Tree-Values\": \"#fc5a50\",\n",
    "              \"UV(0.05)\": \"#03719c\"}\n",
    "\n",
    "# Iterate over each metric and create a box plot\n",
    "for i, metric in enumerate(metrics):\n",
    "    oper_char_df_i = oper_char_df.copy()\n",
    "    if i == 1:\n",
    "        oper_char_df_i = oper_char_df[oper_char_df['Method'] != \"UV(0.05)\"]\n",
    "    elif i == 2:\n",
    "        oper_char_df_i = oper_char_df[oper_char_df['Method'] != \"Tree-Values\"]\n",
    "    sns.pointplot(x='SD(Y)', y=metric, hue='Method', data=oper_char_df_i, ax=axes[i],\n",
    "                  dodge=0.3, linestyle='none', markersize=1.5,\n",
    "                  err_kws={'linewidth': 2}, capsize=0.1, palette=my_palette)\n",
    "    axes[i].set_title(f'{metric}')\n",
    "    axes[i].set_xlabel(r'$\\sigma_G^2$')\n",
    "    #axes[i].set_ylabel(metric if i == 0 else '')  # Only set ylabel on the first plot for clarity\n",
    "    axes[i].legend(title='Method', loc='upper right')\n",
    "    if metric == \"Coverage Rate\":\n",
    "        axes[i].set_ylim(0.,1)\n",
    "        axes[i].axhline(y=0.9, linestyle='dotted', color='grey')\n",
    "    elif i == 1:\n",
    "        axes[i].set_ylim(0,400)\n",
    "    elif i == 2:\n",
    "        axes[i].set_ylim(0,200)\n",
    "    elif metric == \"MSE\":\n",
    "        axes[i].set_ylim(0,140)\n",
    "\n",
    "# Remove legends from individual subplots\n",
    "for ax in axes:\n",
    "    ax.legend_.remove()\n",
    "\n",
    "# Create a shared legend for the figure\n",
    "handles, labels = axes[0].get_legend_handles_labels()\n",
    "fig.legend(handles, labels, title=\"Method\", loc=\"upper center\", bbox_to_anchor=(0.5, 0), ncol=3)\n",
    "\n",
    "# Adjust layout and display\n",
    "plt.tight_layout()\n",
    "plt.show()\n",
    "\n"
   ],
   "metadata": {
    "collapsed": false,
    "ExecuteTime": {
     "end_time": "2025-09-02T05:29:57.217388Z",
     "start_time": "2025-09-02T05:29:56.491277Z"
    }
   },
   "id": "6b8550a6c1ca31c2"
  },
  {
   "cell_type": "code",
   "execution_count": 9,
   "outputs": [
    {
     "data": {
      "text/plain": "    SD(Y)       Method  Coverage Rate      Length         MSE\n0     1.0       RRT(1)       0.919857    5.617960    1.371778\n1     1.0  Tree-Values       0.890321   40.492059    1.153453\n2     1.0     UV(0.05)       0.906610   15.075333    1.328027\n3     2.0       RRT(1)       0.931886   13.876363    4.754220\n4     2.0  Tree-Values       0.893071         inf    4.861719\n5     2.0     UV(0.05)       0.902181   30.150665    4.821260\n6     5.0       RRT(1)       0.942771   54.875560   28.526157\n7     5.0  Tree-Values       0.894607         inf   30.301299\n8     5.0     UV(0.05)       0.900486   75.376663   29.381597\n9    10.0       RRT(1)       0.934281  165.193347  114.357891\n10   10.0  Tree-Values       0.896652  780.129698  120.099614\n11   10.0     UV(0.05)       0.904052  150.753325  116.255022",
      "text/html": "<div>\n<style scoped>\n    .dataframe tbody tr th:only-of-type {\n        vertical-align: middle;\n    }\n\n    .dataframe tbody tr th {\n        vertical-align: top;\n    }\n\n    .dataframe thead th {\n        text-align: right;\n    }\n</style>\n<table border=\"1\" class=\"dataframe\">\n  <thead>\n    <tr style=\"text-align: right;\">\n      <th></th>\n      <th>SD(Y)</th>\n      <th>Method</th>\n      <th>Coverage Rate</th>\n      <th>Length</th>\n      <th>MSE</th>\n    </tr>\n  </thead>\n  <tbody>\n    <tr>\n      <th>0</th>\n      <td>1.0</td>\n      <td>RRT(1)</td>\n      <td>0.919857</td>\n      <td>5.617960</td>\n      <td>1.371778</td>\n    </tr>\n    <tr>\n      <th>1</th>\n      <td>1.0</td>\n      <td>Tree-Values</td>\n      <td>0.890321</td>\n      <td>40.492059</td>\n      <td>1.153453</td>\n    </tr>\n    <tr>\n      <th>2</th>\n      <td>1.0</td>\n      <td>UV(0.05)</td>\n      <td>0.906610</td>\n      <td>15.075333</td>\n      <td>1.328027</td>\n    </tr>\n    <tr>\n      <th>3</th>\n      <td>2.0</td>\n      <td>RRT(1)</td>\n      <td>0.931886</td>\n      <td>13.876363</td>\n      <td>4.754220</td>\n    </tr>\n    <tr>\n      <th>4</th>\n      <td>2.0</td>\n      <td>Tree-Values</td>\n      <td>0.893071</td>\n      <td>inf</td>\n      <td>4.861719</td>\n    </tr>\n    <tr>\n      <th>5</th>\n      <td>2.0</td>\n      <td>UV(0.05)</td>\n      <td>0.902181</td>\n      <td>30.150665</td>\n      <td>4.821260</td>\n    </tr>\n    <tr>\n      <th>6</th>\n      <td>5.0</td>\n      <td>RRT(1)</td>\n      <td>0.942771</td>\n      <td>54.875560</td>\n      <td>28.526157</td>\n    </tr>\n    <tr>\n      <th>7</th>\n      <td>5.0</td>\n      <td>Tree-Values</td>\n      <td>0.894607</td>\n      <td>inf</td>\n      <td>30.301299</td>\n    </tr>\n    <tr>\n      <th>8</th>\n      <td>5.0</td>\n      <td>UV(0.05)</td>\n      <td>0.900486</td>\n      <td>75.376663</td>\n      <td>29.381597</td>\n    </tr>\n    <tr>\n      <th>9</th>\n      <td>10.0</td>\n      <td>RRT(1)</td>\n      <td>0.934281</td>\n      <td>165.193347</td>\n      <td>114.357891</td>\n    </tr>\n    <tr>\n      <th>10</th>\n      <td>10.0</td>\n      <td>Tree-Values</td>\n      <td>0.896652</td>\n      <td>780.129698</td>\n      <td>120.099614</td>\n    </tr>\n    <tr>\n      <th>11</th>\n      <td>10.0</td>\n      <td>UV(0.05)</td>\n      <td>0.904052</td>\n      <td>150.753325</td>\n      <td>116.255022</td>\n    </tr>\n  </tbody>\n</table>\n</div>"
     },
     "execution_count": 9,
     "metadata": {},
     "output_type": "execute_result"
    }
   ],
   "source": [
    "means = oper_char_df.groupby([\"SD(Y)\", 'Method'])[[\"Coverage Rate\", \"Length\", \"MSE\"]].mean().reset_index()\n",
    "means"
   ],
   "metadata": {
    "collapsed": false,
    "ExecuteTime": {
     "end_time": "2025-09-02T05:23:22.536212Z",
     "start_time": "2025-09-02T05:23:22.428209Z"
    }
   },
   "id": "2104c532f1fdbed9"
  },
  {
   "cell_type": "code",
   "execution_count": 10,
   "outputs": [],
   "source": [
    "tree_flag = (oper_char_df['Method'] == \"Tree-Values\")"
   ],
   "metadata": {
    "collapsed": false,
    "ExecuteTime": {
     "end_time": "2025-09-02T05:23:22.536506Z",
     "start_time": "2025-09-02T05:23:22.434514Z"
    }
   },
   "id": "4a4da73b8897899f"
  },
  {
   "cell_type": "code",
   "execution_count": 11,
   "outputs": [
    {
     "data": {
      "text/plain": "   SD(Y)  proportion_infinity\n0    1.0                0.000\n1    2.0                0.002\n2    5.0                0.002\n3   10.0                0.000",
      "text/html": "<div>\n<style scoped>\n    .dataframe tbody tr th:only-of-type {\n        vertical-align: middle;\n    }\n\n    .dataframe tbody tr th {\n        vertical-align: top;\n    }\n\n    .dataframe thead th {\n        text-align: right;\n    }\n</style>\n<table border=\"1\" class=\"dataframe\">\n  <thead>\n    <tr style=\"text-align: right;\">\n      <th></th>\n      <th>SD(Y)</th>\n      <th>proportion_infinity</th>\n    </tr>\n  </thead>\n  <tbody>\n    <tr>\n      <th>0</th>\n      <td>1.0</td>\n      <td>0.000</td>\n    </tr>\n    <tr>\n      <th>1</th>\n      <td>2.0</td>\n      <td>0.002</td>\n    </tr>\n    <tr>\n      <th>2</th>\n      <td>5.0</td>\n      <td>0.002</td>\n    </tr>\n    <tr>\n      <th>3</th>\n      <td>10.0</td>\n      <td>0.000</td>\n    </tr>\n  </tbody>\n</table>\n</div>"
     },
     "execution_count": 11,
     "metadata": {},
     "output_type": "execute_result"
    }
   ],
   "source": [
    "oper_char_df[tree_flag].groupby(['SD(Y)'])['Length'].apply(lambda x: np.isinf(x).mean()).reset_index(name='proportion_infinity')"
   ],
   "metadata": {
    "collapsed": false,
    "ExecuteTime": {
     "end_time": "2025-09-02T05:23:22.536855Z",
     "start_time": "2025-09-02T05:23:22.437482Z"
    }
   },
   "id": "f4442c381e8805a3"
  },
  {
   "cell_type": "code",
   "execution_count": 29,
   "outputs": [],
   "source": [],
   "metadata": {
    "collapsed": false,
    "ExecuteTime": {
     "end_time": "2025-04-30T23:46:43.773832Z",
     "start_time": "2025-04-30T23:46:43.762126Z"
    }
   },
   "id": "b8392fb068ee2779"
  },
  {
   "cell_type": "code",
   "execution_count": null,
   "outputs": [],
   "source": [],
   "metadata": {
    "collapsed": false
   },
   "id": "2eb5d022d0e68419"
  }
 ],
 "metadata": {
  "kernelspec": {
   "display_name": "Python 3",
   "language": "python",
   "name": "python3"
  },
  "language_info": {
   "codemirror_mode": {
    "name": "ipython",
    "version": 2
   },
   "file_extension": ".py",
   "mimetype": "text/x-python",
   "name": "python",
   "nbconvert_exporter": "python",
   "pygments_lexer": "ipython2",
   "version": "2.7.6"
  }
 },
 "nbformat": 4,
 "nbformat_minor": 5
}
