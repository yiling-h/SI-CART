{
 "cells": [
  {
   "cell_type": "code",
   "execution_count": 1,
   "id": "initial_id",
   "metadata": {
    "collapsed": true,
    "ExecuteTime": {
     "end_time": "2025-03-06T00:46:51.906538Z",
     "start_time": "2025-03-06T00:46:51.667360Z"
    }
   },
   "outputs": [],
   "source": [
    "import numpy as np\n",
    "from Utils.discrete_family import discrete_family\n",
    "from Utils.barrier_affine import solve_barrier_tree, solve_barrier_tree_nonneg, solve_barrier_tree_box_PGD\n",
    "from CART import RegressionTree\n",
    "from scipy.interpolate import interp1d\n",
    "from scipy.stats import multivariate_normal as mvn\n",
    "from Utils.plotting import  *\n",
    "from Utils.simulation_helpers import *\n",
    "from time import time\n",
    "import cvxpy as cp"
   ]
  },
  {
   "cell_type": "raw",
   "source": [
    "class TreeNode:\n",
    "    def __init__(self, feature_index=None, threshold=None, pos=None,\n",
    "                 left=None, right=None, value=None, prev_branch=None,\n",
    "                 prev_node=None, membership=None, depth=0,\n",
    "                 randomization=None, sd_rand=1., terminal=None):\n",
    "        self.feature_index = feature_index  # Index of the feature to split on\n",
    "        self.threshold = threshold  # Threshold value to split on\n",
    "        self.pos = pos  # Position (the ascending order) of the split value\n",
    "        self.left = left  # Left child node\n",
    "        self.right = right  # Right child node\n",
    "        self.value = value  # Value for leaf nodes (mean of target values)\n",
    "        self.prev_branch = prev_branch  # List of (j, s, e) depicting a previous branch\n",
    "        self.prev_node = prev_node\n",
    "        self.membership = membership\n",
    "        self.depth = depth\n",
    "        self.randomization = randomization\n",
    "        self.sd_rand = sd_rand\n",
    "        self.terminal = terminal\n",
    "\n",
    "class RegressionTree:\n",
    "    def __init__(self, min_samples_split=2, max_depth=float('inf'),\n",
    "                 min_proportion=0.2, min_bucket=5):\n",
    "        self.min_samples_split = min_samples_split\n",
    "        self.max_depth = max_depth\n",
    "        self.root = None\n",
    "        self.min_proportion = min_proportion\n",
    "        self.min_bucket = min_bucket\n",
    "        self.terminal_nodes = []\n",
    "        self.terminal_parents = []\n",
    "    def fit(self, X, y, sd=1):\n",
    "        # sd is std. dev. of randomization\n",
    "        self.X = X\n",
    "        self.y = y\n",
    "        self.n = X.shape[0]\n",
    "        self.root = self._build_tree(X, y, sd=sd)\n",
    "        #print(\"Fit sd:\", sd)\n",
    "\n",
    "    def _build_tree(self, X, y, depth=0, membership=None,\n",
    "                    prev_branch=None, sd=1.):\n",
    "        #print(\"Build tree sd:\", sd)\n",
    "        \"\"\"\n",
    "        A recursive private function to build the tree\n",
    "        by repeatedly splitting\n",
    "        :param X: the covariates of the previous sub-region\n",
    "        :param y: the response of the previous sub-region\n",
    "        :param depth: depth of the previous split\n",
    "        :param sd: std. dev. of randomization\n",
    "        :return: a node characterizing this split and fitted value\n",
    "        \"\"\"\n",
    "        num_samples, num_features = X.shape\n",
    "        if depth == 0:\n",
    "            membership = np.ones((num_samples,))\n",
    "        else:\n",
    "            assert membership is not None\n",
    "\n",
    "        if prev_branch is None:\n",
    "            prev_branch = []\n",
    "            # print(\"pbc:\", prev_branch)\n",
    "\n",
    "        if num_samples >= max(self.min_samples_split, 2) and depth < self.max_depth:\n",
    "            best_split = self._get_best_split(X, y, num_features, sd_rand=sd)\n",
    "            if \"feature_index\" not in best_split.keys():\n",
    "                print(best_split)\n",
    "                print(X)\n",
    "            feature_idx = best_split[\"feature_index\"]\n",
    "            threshold = best_split[\"threshold\"]\n",
    "            pos = best_split[\"position\"]\n",
    "            left_mbsp = self.X[:, feature_idx] <= threshold\n",
    "            right_mbsp = self.X[:, feature_idx] > threshold\n",
    "            left_mbsp = left_mbsp * membership  # n x 1 logical vector\n",
    "            right_mbsp = right_mbsp * membership  # n x 1 logical vector\n",
    "            # if best_split[\"gain\"] > 0:\n",
    "            left_prev_branch = prev_branch.copy()\n",
    "            left_prev_branch.append([feature_idx, pos, 0])\n",
    "            right_prev_branch = prev_branch.copy()\n",
    "            right_prev_branch.append([feature_idx, pos, 1])\n",
    "            # print(left_prev_branch)\n",
    "            # print(right_prev_branch)\n",
    "            left_subtree \\\n",
    "                = self._build_tree(best_split[\"X_left\"],\n",
    "                                   best_split[\"y_left\"],\n",
    "                                   depth + 1,\n",
    "                                   membership=left_mbsp,\n",
    "                                   prev_branch=left_prev_branch,\n",
    "                                   sd=sd)\n",
    "            right_subtree \\\n",
    "                = self._build_tree(best_split[\"X_right\"],\n",
    "                                   best_split[\"y_right\"],\n",
    "                                   depth + 1,\n",
    "                                   membership=right_mbsp,\n",
    "                                   prev_branch=right_prev_branch,\n",
    "                                   sd=sd)\n",
    "\n",
    "            leaf_value = self._calculate_leaf_value(y)\n",
    "            cur_node = TreeNode(value=leaf_value,\n",
    "                                feature_index=best_split[\"feature_index\"],\n",
    "                                threshold=best_split[\"threshold\"],\n",
    "                                pos=pos,\n",
    "                                left=left_subtree, right=right_subtree,\n",
    "                                membership=membership, depth=depth,\n",
    "                                randomization=best_split[\"randomization\"],\n",
    "                                prev_branch=prev_branch,\n",
    "                                sd_rand=sd, terminal=False)\n",
    "            # Add this parent node to subnodes\n",
    "            left_subtree.prev_node = cur_node\n",
    "            right_subtree.prev_node = cur_node\n",
    "            if left_subtree.terminal and right_subtree.terminal:\n",
    "                #print(cur_node.threshold)\n",
    "                self.terminal_parents.append(cur_node)\n",
    "            return cur_node\n",
    "        leaf_value = self._calculate_leaf_value(y)\n",
    "        cur_node = TreeNode(value=leaf_value, membership=membership,\n",
    "                            sd_rand=sd, depth=depth, terminal=True)\n",
    "        self.terminal_nodes.append(cur_node)\n",
    "        return cur_node\n",
    "\n",
    "    def _get_best_split(self, X, y, num_features, sd_rand=1):\n",
    "        \"\"\"\n",
    "        Input (X, y) of a (potentially sub-)region, return information about\n",
    "        the best split on this regions\n",
    "        Assuming no ties in features\n",
    "        :param X: the (sub-)region's covariates\n",
    "        :param y: the (sub-)region's response\n",
    "        :param num_features: dimension of X\n",
    "        :return: a dictionary containing\n",
    "                {split_feature_idx, (numerical) splitting_threshold,\n",
    "                split_position, left_sub_region, right_sub_region,\n",
    "                gain}\n",
    "        \"\"\"\n",
    "        best_split = {}\n",
    "        min_loss = float('inf')\n",
    "        num_sample = X.shape[0]\n",
    "        randomization = np.zeros((num_sample - 1, num_features))\n",
    "        min_proportion = self.min_proportion\n",
    "        # Override min_proportion if min_bucket is set\n",
    "        if self.min_bucket is not None:\n",
    "            start = self.min_bucket\n",
    "            end = num_sample - self.min_bucket - 1\n",
    "        else:\n",
    "            start = int(np.floor(num_sample * min_proportion))\n",
    "            end = num_sample - int(np.ceil(num_sample * min_proportion)) - 1\n",
    "        #print(start, end)\n",
    "        #print(\"Get best split sd:\", sd_rand)\n",
    "\n",
    "        for feature_index in range(num_features):\n",
    "            feature_values = X[:, feature_index]\n",
    "            feature_values_sorted = feature_values.copy()\n",
    "            feature_values_sorted.sort()\n",
    "            #for i in range(len(feature_values_sorted) - 1):\n",
    "            for i in range(start, end):\n",
    "                threshold = feature_values_sorted[i]\n",
    "                X_left, y_left, X_right, y_right = self._split(X, y, feature_index, threshold)\n",
    "                if len(X_left) > 0 and len(X_right) > 0:\n",
    "                    #print(\"entered 1\")\n",
    "                    if sd_rand != 0:\n",
    "                        omega = np.random.normal(scale=sd_rand)\n",
    "                    else:\n",
    "                        omega = 0\n",
    "                    randomization[i, feature_index] = omega\n",
    "                    loss = self._calculate_loss(y_left, y_right, omega)\n",
    "                    if loss < min_loss:\n",
    "                        #print(\"entered 2\")\n",
    "                        best_split[\"feature_index\"] = feature_index\n",
    "                        best_split[\"threshold\"] = threshold\n",
    "                        best_split[\"position\"] = i\n",
    "                        best_split[\"X_left\"] = X_left\n",
    "                        best_split[\"y_left\"] = y_left\n",
    "                        best_split[\"X_right\"] = X_right\n",
    "                        best_split[\"y_right\"] = y_right\n",
    "                        best_split[\"loss\"] = loss\n",
    "                        best_split[\"randomization\"] = randomization\n",
    "                        # best_split[\"\"]\n",
    "                        min_loss = loss\n",
    "        return best_split\n",
    "\n",
    "    def _split(self, X, y, feature_index, threshold):\n",
    "        left_mask = X[:, feature_index] <= threshold\n",
    "        right_mask = X[:, feature_index] > threshold\n",
    "        return X[left_mask], y[left_mask], X[right_mask], y[right_mask]\n",
    "\n",
    "    def _calculate_information_gain(self, y, y_left, y_right):\n",
    "        var_total = np.var(y) * len(y)\n",
    "        var_left = np.var(y_left) * len(y_left)\n",
    "        var_right = np.var(y_right) * len(y_right)\n",
    "        return var_total - (var_left + var_right)\n",
    "\n",
    "    def _calculate_loss(self, y_left, y_right, randomization):\n",
    "        n1 = len(y_left)\n",
    "        n2 = len(y_right)\n",
    "        n = n1 + n2\n",
    "        \"\"\"loss = ((np.var(y_left) * n1 + np.var(y_right) * np.sqrt(n2)) / np.sqrt(n1 + n2)\n",
    "                + randomization)\"\"\"\n",
    "        loss = ( (- n1 * np.mean(y_left) ** 2 - n2 * np.mean(y_right) ** 2) / np.sqrt(n)\n",
    "                + randomization)\n",
    "        # Actually need not divide by n1+n2...\n",
    "        #print(\"loss:\", loss - randomization)\n",
    "        #print(\"randomization:\", randomization)\n",
    "        return loss\n",
    "\n",
    "    #\n",
    "    def _calculate_leaf_value(self, y):\n",
    "        \"\"\"\n",
    "        :param y: the response of the previous sub-region\n",
    "        :return: the mean of the region\n",
    "        \"\"\"\n",
    "        return np.mean(y)\n",
    "\n",
    "    def predict(self, X):\n",
    "        \"\"\"\n",
    "        :param X: the test dataset\n",
    "        :return: fitted values\n",
    "        \"\"\"\n",
    "        return np.array([self._predict(sample, self.root) for sample in X])\n",
    "\n",
    "    def _predict(self, sample, tree):\n",
    "        \"\"\"\n",
    "        Recursively searching the tree for the surrounding region of `sample`\n",
    "        :param sample: the input covariates\n",
    "        :param tree: the trained tree\n",
    "        :return: fitted y value of `sample`\n",
    "        \"\"\"\n",
    "        if tree.terminal:\n",
    "            return tree.value\n",
    "        feature_value = sample[tree.feature_index]\n",
    "        if feature_value <= tree.threshold:\n",
    "            return self._predict(sample, tree.left)\n",
    "        else:\n",
    "            return self._predict(sample, tree.right)\n",
    "\n",
    "    def _approx_log_reference(self, node, grid, nuisance,\n",
    "                              norm_contrast, sd=1, sd_rand=1,\n",
    "                              use_CVXPY=True):\n",
    "        ## TODO: 0. grid is a grid for eta'Y / (sd * norm_contrast);\n",
    "        ##          first reconstruct eta'Y and then reconstruct Q\n",
    "        ## TODO: 1. reconstruct Q from the grid\n",
    "        ## TODO: 2. Perform Laplace approximation for each grid,\n",
    "        #           and for each node split\n",
    "        ## TODO: 3. Add back the constant term omitted in Laplace Approximation\n",
    "        ## TODO: 4. Return reference measure\n",
    "\n",
    "        prev_branch = node.prev_branch.copy()\n",
    "        current_depth = node.depth\n",
    "        ref_hat = np.zeros_like(grid)\n",
    "\n",
    "        ## TODO: Move the node according to branch when evaluating integrals\n",
    "        node = self.root\n",
    "\n",
    "        # norm = np.linalg.norm(contrast)\n",
    "        depth = 0\n",
    "\n",
    "        while depth <= current_depth:\n",
    "            # Subsetting the covariates to this current node\n",
    "            X = self.X[node.membership.astype(bool)]\n",
    "            j_opt = node.feature_index  # j^*\n",
    "            s_opt = node.pos  # s^*\n",
    "            randomization = node.randomization\n",
    "            S_total, J_total = randomization.shape\n",
    "            \n",
    "            # Sort feature values to get the threshold\n",
    "            feature_values_sorted = np.zeros_like(X)\n",
    "            for j in range(J_total):\n",
    "                feature_values_sorted[:, j] = X[:, j].copy()\n",
    "                feature_values_sorted[:, j].sort()\n",
    "            \n",
    "            for g_idx, g in enumerate(grid):\n",
    "                y_grid = g * sd ** 2 * norm_contrast + nuisance\n",
    "                # TODO: Account for depth here\n",
    "                \n",
    "                y_g = y_grid[node.membership.astype(bool)]\n",
    "                y_node = self.y[node.membership.astype(bool)]\n",
    "                y_left = y_grid[node.left.membership.astype(bool)]\n",
    "                y_right = y_grid[node.right.membership.astype(bool)]\n",
    "                y_left_obs = self.y[node.left.membership.astype(bool)]\n",
    "                y_right_obs = self.y[node.right.membership.astype(bool)]\n",
    "                optimal_loss = self._calculate_loss(y_left, y_right,\n",
    "                                                    randomization=0)\n",
    "                opt_loss_obs = self._calculate_loss(y_left_obs, y_right_obs,\n",
    "                                                    randomization=0)\n",
    "                implied_mean = []\n",
    "                observed_opt = []\n",
    "\n",
    "\n",
    "\n",
    "                # TODO: Add a layer to account for depth of the tree\n",
    "                for j in range(J_total):\n",
    "                    num_sample = X.shape[0]\n",
    "                    min_proportion = self.min_proportion\n",
    "                    # Override min_proportion if min_bucket is set\n",
    "                    if self.min_bucket is not None:\n",
    "                        start = self.min_bucket\n",
    "                        end = num_sample - self.min_bucket - 1\n",
    "                    else:\n",
    "                        start = int(np.floor(num_sample * min_proportion))\n",
    "                        end = num_sample - int(np.ceil(num_sample * min_proportion)) - 1\n",
    "                        \n",
    "                    for s in range(start, end):\n",
    "                        if not (j == j_opt and s == s_opt):\n",
    "                            threshold = feature_values_sorted[s,j]\n",
    "                            X_left, y_left, X_right, y_right \\\n",
    "                                = self._split(X, y_g, j, threshold)\n",
    "                            implied_mean_s_j \\\n",
    "                                = optimal_loss - self._calculate_loss(y_left,\n",
    "                                                                      y_right,\n",
    "                                                                      randomization=0)\n",
    "                            # The split of the actually observed Y\n",
    "                            X_left_o, y_left_o, X_right_o, y_right_o \\\n",
    "                                = self._split(X, y_node, j, threshold)\n",
    "                            # print(y_left_o.shape)\n",
    "                            # print(y_right_o.shape)\n",
    "                            observed_opt_s_j = (opt_loss_obs -\n",
    "                                                self._calculate_loss(y_left_o,\n",
    "                                                                     y_right_o,\n",
    "                                                                     randomization=0)\n",
    "                                                + (randomization[s_opt, j_opt] -\n",
    "                                                   randomization[s, j]))\n",
    "                            # print(\"s:\", s, \"j:\", j, \"sopt:\", s_opt, \"jopt:\", j_opt)\n",
    "\n",
    "                            # Record the implied mean\n",
    "                            # and observed optimization variable\n",
    "                            implied_mean.append(implied_mean_s_j)\n",
    "                            observed_opt.append(observed_opt_s_j)\n",
    "\n",
    "                # The implied mean is given by the optimal loss minus\n",
    "                # the loss at each split\n",
    "                implied_mean = np.array(implied_mean)\n",
    "                observed_opt = np.array(observed_opt)\n",
    "                # print(observed_opt)\n",
    "                assert np.max(observed_opt) < 0\n",
    "\n",
    "                # dimension of the optimization variable\n",
    "                n_opt = len(implied_mean)\n",
    "                prec = (np.eye(n_opt) - np.ones((n_opt, n_opt))\n",
    "                        / ((n_opt + 1))) / (sd_rand ** 2)\n",
    "                \n",
    "                def is_positive_definite(matrix):\n",
    "                    \"\"\"\n",
    "                    Checks if a matrix is positive definite.\n",
    "                \n",
    "                    Args:\n",
    "                        matrix (numpy.ndarray): The matrix to check.\n",
    "                \n",
    "                    Returns:\n",
    "                        bool: True if the matrix is positive definite, False otherwise.\n",
    "                    \"\"\"\n",
    "                    if not np.allclose(matrix, matrix.T):\n",
    "                        return False  # Matrix must be symmetric\n",
    "                \n",
    "                    try:\n",
    "                        np.linalg.cholesky(matrix)\n",
    "                        return True\n",
    "                    except np.linalg.LinAlgError:\n",
    "                        return False\n",
    "                \n",
    "                if use_CVXPY:\n",
    "                    if np.max(implied_mean) > 0:\n",
    "                        ### USE CVXPY\n",
    "                        # Define the variable\n",
    "                        o = cp.Variable(n_opt)\n",
    "                        # print(len(cond_implied_mean))\n",
    "    \n",
    "                        # Objective function: (1/2) * (u - Q)' * A * (u - Q)\n",
    "                        objective = cp.Minimize(0.5 * cp.quad_form(o - implied_mean,\n",
    "                                                                   prec))\n",
    "                        # Constraints: con_linear' * u <= con_offset\n",
    "                        constraints = [o <= 0]\n",
    "                        # print(offset_val)\n",
    "                        # Problem definition\n",
    "                        prob = cp.Problem(objective, constraints)\n",
    "                        # Solve the problem\n",
    "                        prob.solve()\n",
    "                        ref_hat[g_idx] += (-prob.value)\n",
    "                    #print(\"Min. implied mean:\", np.min(implied_mean))\n",
    "\n",
    "                else:\n",
    "                    # TODO: what is a feasible point?\n",
    "                    # TODO: Need to have access to the observed opt var\n",
    "                    #       where we actually pass in g = eta'Y.\n",
    "                    # print(\"Implied mean\", implied_mean)\n",
    "                    # print(\"feasible point\", observed_opt)\n",
    "                    # print(\"prec\", prec)\n",
    "                    # Approximate the selection probability\n",
    "                    sel_prob, _, _ = solve_barrier_tree_nonneg(Q=implied_mean,\n",
    "                                                               precision=prec,\n",
    "                                                               feasible_point=None)\n",
    "                    const_term = (implied_mean).T.dot(prec).dot(implied_mean) / 2\n",
    "                    ref_hat[g_idx] += (- sel_prob - const_term)\n",
    "                    print(f\"Full at {g_idx}: {(- sel_prob - const_term)}\")\n",
    "\n",
    "            # Move to the next layer\n",
    "            if depth < current_depth:\n",
    "                dir = prev_branch[depth][2]\n",
    "                if dir == 0:\n",
    "                    node = node.left  # Depend on where the branch demands\n",
    "                else:\n",
    "                    node = node.right\n",
    "                depth += 1\n",
    "            else:\n",
    "                depth += 1  # Exit the loop if targeting depth achieved\n",
    "        \n",
    "        ref_hat -= np.max(ref_hat)\n",
    "        \n",
    "        return np.array(ref_hat)\n",
    "    \n",
    "    def _condl_approx_log_reference(self, node, grid, nuisance,\n",
    "                                    norm_contrast, sd=1, sd_rand=1,\n",
    "                                    reduced_dim=5, use_CVXPY=True):\n",
    "        ## TODO: 0. grid is a grid for eta'Y / (sd * ||contrast||_2);\n",
    "        ##          first reconstruct eta'Y and then reconstruct Q\n",
    "        ## TODO: 1. reconstruct Q from the grid\n",
    "        ## TODO: 2. Perform Laplace approximation for each grid,\n",
    "        #           and for each node split\n",
    "        ## TODO: 3. Add back the constant term omitted in Laplace Approximation\n",
    "        ## TODO: 4. Return reference measure\n",
    "\n",
    "        r_is_none = reduced_dim is None\n",
    "\n",
    "        def k_dim_prec(k, sd_rand):\n",
    "            prec = (np.eye(k) - np.ones((k, k))\n",
    "                    / ((k + 1))) / (sd_rand ** 2)\n",
    "            #print(\"Precision (k-dim):\", prec)\n",
    "            #print(\"SD_rand:\", sd_rand)\n",
    "            return prec\n",
    "\n",
    "        def get_cond_dist(mean, cov, cond_idx, rem_idx, rem_val,\n",
    "                          sd_rand, rem_dim):\n",
    "            prec_rem = k_dim_prec(k=rem_dim, sd_rand=sd_rand)\n",
    "\n",
    "            cond_mean = mean[cond_idx] + cov[np.ix_(cond_idx, rem_idx)].dot(prec_rem).dot(rem_val - mean[rem_idx])\n",
    "            cond_cov = cov[np.ix_(cond_idx, cond_idx)] - cov[np.ix_(cond_idx, rem_idx)].dot(prec_rem).dot(\n",
    "                cov[np.ix_(rem_idx, cond_idx)])\n",
    "            cond_prec = np.linalg.inv(cond_cov)\n",
    "\n",
    "            return cond_mean, cond_cov, cond_prec\n",
    "\n",
    "        def get_log_pdf(observed_opt, implied_mean, rem_idx, sd_rand, rem_dim):\n",
    "            x = observed_opt[rem_idx]\n",
    "            mean = implied_mean[rem_idx]\n",
    "\n",
    "            return (-0.5 * (np.linalg.norm(x-mean)**2 - np.sum(x-mean)**2/(rem_dim+1)) / sd_rand**2\n",
    "                    )\n",
    "\n",
    "        prev_branch = node.prev_branch.copy()\n",
    "        current_depth = node.depth\n",
    "        ref_hat = np.zeros_like(grid)\n",
    "        marginal = np.zeros_like(grid)\n",
    "\n",
    "        node = self.root\n",
    "\n",
    "        # norm = np.linalg.norm(contrast)\n",
    "        depth = 0\n",
    "\n",
    "        while depth <= current_depth:\n",
    "            # Subsetting the covariates to this current node\n",
    "            X = self.X[node.membership.astype(bool)]\n",
    "            j_opt = node.feature_index  # j^*\n",
    "            s_opt = node.pos  # s^*\n",
    "            randomization = node.randomization\n",
    "            S_total, J_total = randomization.shape\n",
    "\n",
    "            # Sort feature values to get the threshold\n",
    "            feature_values_sorted = np.zeros_like(X)\n",
    "            for j in range(J_total):\n",
    "                feature_values_sorted[:, j] = X[:, j].copy()\n",
    "                feature_values_sorted[:, j].sort()\n",
    "\n",
    "            for g_idx, g in enumerate(grid):\n",
    "                # norm_contrast: eta / (||eta|| * sigma)\n",
    "                # grid is a grid for eta'y / (||eta|| * sigma)\n",
    "                y_grid = g * sd ** 2 * norm_contrast + nuisance\n",
    "\n",
    "                # Reconstructing y\n",
    "                y_g = y_grid[node.membership.astype(bool)]\n",
    "                y_node = self.y[node.membership.astype(bool)]\n",
    "                y_left = y_grid[node.left.membership.astype(bool)]\n",
    "                y_right = y_grid[node.right.membership.astype(bool)]\n",
    "                y_left_obs = self.y[node.left.membership.astype(bool)]\n",
    "                y_right_obs = self.y[node.right.membership.astype(bool)]\n",
    "                optimal_loss = self._calculate_loss(y_left, y_right,\n",
    "                                                    randomization=0)\n",
    "                opt_loss_obs = self._calculate_loss(y_left_obs, y_right_obs,\n",
    "                                                    randomization=0)\n",
    "\n",
    "                implied_mean = []\n",
    "                observed_opt = []\n",
    "\n",
    "                # Iterate over all covariates\n",
    "                for j in range(J_total):\n",
    "                    num_sample = X.shape[0]\n",
    "                    min_proportion = self.min_proportion\n",
    "                    # Override min_proportion if min_bucket is set\n",
    "                    if self.min_bucket is not None:\n",
    "                        start = self.min_bucket\n",
    "                        end = num_sample - self.min_bucket - 1\n",
    "                    else:\n",
    "                        start = int(np.floor(num_sample * min_proportion))\n",
    "                        end = num_sample - int(np.ceil(num_sample * min_proportion)) - 1\n",
    "\n",
    "                    # for s in range(S_total - 1):\n",
    "                    for s in range(start, end):\n",
    "                        if not (j == j_opt and s == s_opt):\n",
    "                            threshold = feature_values_sorted[s,j]\n",
    "                            X_left, y_left, X_right, y_right \\\n",
    "                                = self._split(X, y_g, j, threshold)\n",
    "                            implied_mean_s_j \\\n",
    "                                = optimal_loss - self._calculate_loss(y_left,\n",
    "                                                                      y_right,\n",
    "                                                                      randomization=0)\n",
    "                            # The split of the actually observed Y\n",
    "                            X_left_o, y_left_o, X_right_o, y_right_o \\\n",
    "                                = self._split(X, y_node, j, threshold)\n",
    "                            # print(y_left_o.shape)\n",
    "                            # print(y_right_o.shape)\n",
    "                            observed_opt_s_j = (opt_loss_obs -\n",
    "                                                self._calculate_loss(y_left_o,\n",
    "                                                                     y_right_o,\n",
    "                                                                     randomization=0)\n",
    "                                                + (randomization[s_opt, j_opt] -\n",
    "                                                   randomization[s, j]))\n",
    "                            # print(\"s:\", s, \"j:\", j, \"sopt:\", s_opt, \"jopt:\", j_opt)\n",
    "\n",
    "                            # Record the implied mean\n",
    "                            # and observed optimization variable\n",
    "                            implied_mean.append(implied_mean_s_j)\n",
    "                            observed_opt.append(observed_opt_s_j)\n",
    "\n",
    "                # The implied mean is given by the optimal loss minus\n",
    "                # the loss at each split\n",
    "                implied_mean = np.array(implied_mean)\n",
    "                observed_opt = np.array(observed_opt)\n",
    "                if np.max(observed_opt) >= 0:\n",
    "                    print(observed_opt)\n",
    "                assert np.max(observed_opt) < 0\n",
    "\n",
    "                if r_is_none:\n",
    "                    reduced_dim = int(len(implied_mean) * 0.25)#min(int(len(implied_mean) * 0.05), 10)\n",
    "                    #print(\"reduced_dim:\", reduced_dim)\n",
    "\n",
    "                # Get the order of optimization variables in descending order\n",
    "                obs_opt_order = np.argsort(observed_opt)[::-1]\n",
    "                # reduced_dim = max(int(0.1*len(implied_mean)), 5)\n",
    "                top_d_idx = obs_opt_order[0:reduced_dim]\n",
    "                rem_d_idx = obs_opt_order[reduced_dim:]\n",
    "                offset_val = observed_opt[obs_opt_order[reduced_dim]]\n",
    "                # print(\"LB:\", offset_val)\n",
    "\n",
    "                linear = np.zeros((reduced_dim * 2, reduced_dim))\n",
    "                linear[0:reduced_dim, 0:reduced_dim] = np.eye(reduced_dim)\n",
    "                linear[reduced_dim:, 0:reduced_dim] = -np.eye(reduced_dim)\n",
    "                offset = np.zeros(reduced_dim * 2)\n",
    "                offset[reduced_dim:] = -offset_val\n",
    "                # dimension of the optimization variable\n",
    "                n_opt = len(implied_mean)\n",
    "                implied_cov = (np.ones((n_opt, n_opt)) + np.eye(n_opt)) * (sd_rand ** 2)\n",
    "                cond_implied_mean, cond_implied_cov, cond_implied_prec = (\n",
    "                    get_cond_dist(mean=implied_mean,\n",
    "                                  cov=implied_cov,\n",
    "                                  cond_idx=top_d_idx,\n",
    "                                  rem_idx=rem_d_idx,\n",
    "                                  rem_val=observed_opt[rem_d_idx],\n",
    "                                  sd_rand=sd_rand,\n",
    "                                  rem_dim=n_opt - reduced_dim))\n",
    "                    \n",
    "\n",
    "                if use_CVXPY:\n",
    "                    if np.max(cond_implied_mean) > 0 or np.min(cond_implied_mean) < offset_val:\n",
    "                        ### USE CVXPY\n",
    "                        # Define the variable\n",
    "                        o = cp.Variable(reduced_dim)\n",
    "                        # print(n_opt)\n",
    "                        # print(len(cond_implied_mean))\n",
    "    \n",
    "                        # Objective function: (1/2) * (u - Q)' * A * (u - Q)\n",
    "                        objective = cp.Minimize(0.5 * cp.quad_form(o - cond_implied_mean,\n",
    "                                                                   cond_implied_prec))\n",
    "                        # Constraints: con_linear' * u <= con_offset\n",
    "                        constraints = [o >= offset_val, o <= 0]\n",
    "                        # print(offset_val)\n",
    "                        # Problem definition\n",
    "                        prob = cp.Problem(objective, constraints)\n",
    "                        # Solve the problem\n",
    "                        prob.solve()\n",
    "                        ref_hat[g_idx] += (-prob.value)\n",
    "                    # Add omitted term\n",
    "                    log_marginal = (get_log_pdf(observed_opt=observed_opt,\n",
    "                                                   implied_mean=implied_mean,\n",
    "                                                   rem_idx=rem_d_idx,\n",
    "                                                   sd_rand=sd_rand,\n",
    "                                                   rem_dim=n_opt - reduced_dim))\n",
    "                    ref_hat[g_idx] += log_marginal\n",
    "                    marginal[g_idx] += log_marginal\n",
    "                else:\n",
    "                    if np.max(cond_implied_mean) > 0 or np.min(cond_implied_mean) < offset_val:\n",
    "                        sel_prob, _, _ = solve_barrier_tree_box_PGD(Q=cond_implied_mean,\n",
    "                                                                    precision=cond_implied_prec,\n",
    "                                                                    lb=offset_val,\n",
    "                                                                    feasible_point=None)\n",
    "                        const_term = (cond_implied_mean).T.dot(cond_implied_prec).dot(cond_implied_mean) / 2\n",
    "                        ref_hat[g_idx] += (- sel_prob - const_term)\n",
    "                    # Add omitted term                    # Add omitted term\n",
    "                    log_marginal = (get_log_pdf(observed_opt=observed_opt,\n",
    "                                                   implied_mean=implied_mean,\n",
    "                                                   rem_idx=rem_d_idx,\n",
    "                                                   sd_rand=sd_rand,\n",
    "                                                   rem_dim=n_opt - reduced_dim))\n",
    "                    ref_hat[g_idx] += log_marginal\n",
    "                    marginal[g_idx] += log_marginal\n",
    "\n",
    "            # Move to the next layer\n",
    "            if depth < current_depth:\n",
    "                dir = prev_branch[depth][2]\n",
    "                if dir == 0:\n",
    "                    node = node.left  # Depend on where the branch demands\n",
    "                else:\n",
    "                    node = node.right\n",
    "                depth += 1\n",
    "            else:\n",
    "                depth += 1  # Exit the loop if targeting depth achieved\n",
    "\n",
    "        ref_hat -= np.max(ref_hat)\n",
    "\n",
    "        return np.array(ref_hat), marginal\n",
    "\n",
    "    def split_inference(self, node, ngrid=1000, ncoarse=20, grid_width=15,\n",
    "                        sd=1, level=0.9):\n",
    "        \"\"\"\n",
    "        Inference for a split of a node\n",
    "        :param node: the node whose split is of interest\n",
    "        :return: p-values for difference in mean\n",
    "        \"\"\"\n",
    "        # First determine the projection direction\n",
    "        left_membership = node.left.membership\n",
    "        right_membership = node.right.membership\n",
    "        contrast = left_membership / np.sum(left_membership) - right_membership / np.sum(right_membership)\n",
    "        sd_rand = node.sd_rand\n",
    "\n",
    "        norm_contrast = contrast / (np.linalg.norm(contrast) * sd)\n",
    "\n",
    "        # Using the normalized contrast in practice\n",
    "        # for scale-free grid approximation\n",
    "        observed_target = norm_contrast @ self.y\n",
    "        # The nuisance parameter is defined the same way\n",
    "        # as on papers\n",
    "        nuisance = (self.y - np.linalg.outer(contrast, contrast)\n",
    "                    @ self.y / (np.linalg.norm(contrast) ** 2))\n",
    "\n",
    "        stat_grid = np.linspace(-grid_width, grid_width,\n",
    "                                num=ngrid)\n",
    "\n",
    "        if ncoarse is not None:\n",
    "            coarse_grid = np.linspace(-grid_width, grid_width, ncoarse)\n",
    "            eval_grid = coarse_grid\n",
    "        else:\n",
    "            eval_grid = stat_grid\n",
    "\n",
    "        # Evaluate reference measure (selection prob.) over stat_grid\n",
    "        ref = self._approx_log_reference(node=node,\n",
    "                                         grid=eval_grid,\n",
    "                                         nuisance=nuisance,\n",
    "                                         contrast=contrast,\n",
    "                                         norm_contrast=norm_contrast, sd=1,\n",
    "                                         sd_rand=sd_rand)\n",
    "\n",
    "        if ncoarse is None:\n",
    "            logWeights = np.zeros((ngrid,))\n",
    "            for g in range(ngrid):\n",
    "                # Evaluate the log pdf as a sum of (log) gaussian pdf\n",
    "                # and (log) reference measure\n",
    "                # TODO: Check if the original exp. fam. density is correct\n",
    "                logWeights[g] = (- 0.5 * (stat_grid[g]) ** 2 + ref[g])\n",
    "            # normalize logWeights\n",
    "            logWeights = logWeights - np.max(logWeights)\n",
    "            condl_density = discrete_family(eval_grid,\n",
    "                                            np.exp(logWeights),\n",
    "                                            logweights=logWeights)\n",
    "        else:\n",
    "            # print(\"Coarse grid\")\n",
    "            approx_fn = interp1d(eval_grid,\n",
    "                                 ref,\n",
    "                                 kind='quadratic',\n",
    "                                 bounds_error=False,\n",
    "                                 fill_value='extrapolate')\n",
    "            grid = np.linspace(-grid_width, grid_width, num=ngrid)\n",
    "            sel_probs = np.zeros((ngrid,))\n",
    "            logWeights = np.zeros((ngrid,))\n",
    "            for g in range(ngrid):\n",
    "                # TODO: Check if the original exp. fam. density is correct\n",
    "                logWeights[g] = (- 0.5 * (grid[g]) ** 2 + approx_fn(grid[g]))\n",
    "                sel_probs[g] = approx_fn(grid[g])\n",
    "\n",
    "            # normalize logWeights\n",
    "            logWeights = logWeights - np.max(logWeights)\n",
    "\n",
    "            condl_density = discrete_family(grid, np.exp(logWeights),\n",
    "                                            logweights=logWeights)\n",
    "\n",
    "        if np.isnan(logWeights).sum() != 0:\n",
    "            print(\"logWeights contains nan\")\n",
    "        elif (logWeights == np.inf).sum() != 0:\n",
    "            print(\"logWeights contains inf\")\n",
    "        elif (np.asarray(ref) == np.inf).sum() != 0:\n",
    "            print(\"ref contains inf\")\n",
    "        elif (np.asarray(ref) == -np.inf).sum() != 0:\n",
    "            print(\"ref contains -inf\")\n",
    "        elif np.isnan(np.asarray(ref)).sum() != 0:\n",
    "            print(\"ref contains nan\")\n",
    "\n",
    "        \"\"\"interval = (condl_density.equal_tailed_interval\n",
    "                        (observed=contrast.T @ self.y,\n",
    "                         alpha=1-level))\n",
    "        if np.isnan(interval[0]) or np.isnan(interval[1]):\n",
    "            print(\"Failed to construct intervals: nan\")\"\"\"\n",
    "\n",
    "        # TODO: Fix this; pass in observed values\n",
    "        pivot = condl_density.ccdf(x=observed_target\n",
    "                                     / (np.linalg.norm(contrast) * sd),\n",
    "                                   theta=0)\n",
    "\n",
    "        return (pivot, condl_density, contrast, norm_contrast,\n",
    "                observed_target, logWeights, sel_probs)\n",
    "    \n",
    "    def node_inference(self, node, ngrid=1000, ncoarse=20, grid_w_const=1.5,\n",
    "                             sd=1, reduced_dim=5, use_cvxpy=False):\n",
    "        \"\"\"\n",
    "        Inference for a split of a node\n",
    "        :param node: the node whose split is of interest\n",
    "        :return: p-values for difference in mean\n",
    "        \"\"\"\n",
    "        # First determine the projection direction\n",
    "        membership = node.membership\n",
    "        contrast = membership / np.sum(membership)\n",
    "        sd_rand = node.sd_rand\n",
    "        #print(\"Inference sd\", sd_rand)\n",
    "\n",
    "        # Normalized contrast: The inner product norm_contrast'Y has sd = 1.\n",
    "        norm_contrast = contrast / (np.linalg.norm(contrast) * sd)\n",
    "\n",
    "        # Using the normalized contrast in practice\n",
    "        # for scale-free grid approximation\n",
    "        observed_target = norm_contrast @ self.y\n",
    "        # The nuisance parameter is defined the same way\n",
    "        # as on papers\n",
    "        nuisance = (self.y - np.linalg.outer(contrast, contrast)\n",
    "                    @ self.y / (np.linalg.norm(contrast) ** 2))\n",
    "\n",
    "        grid_width = grid_w_const * np.abs(observed_target)\n",
    "\n",
    "        stat_grid = np.linspace(-grid_width, grid_width, num=ngrid)\n",
    "\n",
    "        if ncoarse is not None:\n",
    "            coarse_grid = np.linspace(-grid_width, grid_width, ncoarse)\n",
    "            eval_grid = coarse_grid\n",
    "        else:\n",
    "            eval_grid = stat_grid\n",
    "\n",
    "        ref = self._approx_log_reference(node=node.prev_node,\n",
    "                                         grid=eval_grid,\n",
    "                                         nuisance=nuisance,\n",
    "                                         norm_contrast=norm_contrast, sd=sd,\n",
    "                                         sd_rand=sd_rand,\n",
    "                                         use_CVXPY=use_cvxpy)\n",
    "\n",
    "        if ncoarse is None:\n",
    "            logWeights = np.zeros((ngrid,))\n",
    "            for g in range(ngrid):\n",
    "                # Evaluate the log pdf as a sum of (log) gaussian pdf\n",
    "                # and (log) reference measure\n",
    "                # TODO: Check if the original exp. fam. density is correct\n",
    "                logWeights[g] = (- 0.5 * (stat_grid[g]) ** 2 + ref[g])\n",
    "            # normalize logWeights\n",
    "            logWeights = logWeights - np.max(logWeights)\n",
    "            condl_density = discrete_family(eval_grid,\n",
    "                                            np.exp(logWeights),\n",
    "                                            logweights=logWeights)\n",
    "        else:\n",
    "            # print(\"Coarse grid\")\n",
    "            approx_fn = interp1d(eval_grid,\n",
    "                                 ref,\n",
    "                                 kind='quadratic',\n",
    "                                 bounds_error=False,\n",
    "                                 fill_value='extrapolate')\n",
    "            grid = np.linspace(-grid_width, grid_width, num=ngrid)\n",
    "            logWeights = np.zeros((ngrid,))\n",
    "            suff = np.zeros((ngrid,))\n",
    "            sel_probs = np.zeros((ngrid,))\n",
    "            for g in range(ngrid):\n",
    "                # TODO: Check if the original exp. fam. density is correct\n",
    "\n",
    "                logWeights[g] = (- 0.5 * (grid[g]) ** 2 + approx_fn(grid[g]))\n",
    "                suff[g] = - 0.5 * (grid[g]) ** 2\n",
    "                sel_probs[g] = approx_fn(grid[g])\n",
    "\n",
    "            # normalize logWeights\n",
    "            logWeights = logWeights - np.max(logWeights)\n",
    "\n",
    "            # condl_density is a discrete approximation\n",
    "            # to the exponential family distribution with\n",
    "            # natural parameter theta := eta'mu / (||eta|| * sigma)\n",
    "            # and\n",
    "            # sufficient statistic X := eta'y / (||eta|| * sigma) = norm_contrast'Y\n",
    "            condl_density = discrete_family(grid, np.exp(logWeights),\n",
    "                                            logweights=logWeights)\n",
    "\n",
    "        if np.isnan(logWeights).sum() != 0:\n",
    "            print(\"logWeights contains nan\")\n",
    "        elif (logWeights == np.inf).sum() != 0:\n",
    "            print(\"logWeights contains inf\")\n",
    "        elif (np.asarray(ref) == np.inf).sum() != 0:\n",
    "            print(\"ref contains inf\")\n",
    "        elif (np.asarray(ref) == -np.inf).sum() != 0:\n",
    "            print(\"ref contains -inf\")\n",
    "        elif np.isnan(np.asarray(ref)).sum() != 0:\n",
    "            print(\"ref contains nan\")\n",
    "\n",
    "        \"\"\"interval = (condl_density.equal_tailed_interval\n",
    "                        (observed=contrast.T @ self.y,\n",
    "                         alpha=1-level))\n",
    "        if np.isnan(interval[0]) or np.isnan(interval[1]):\n",
    "            print(\"Failed to construct intervals: nan\")\"\"\"\n",
    "\n",
    "        # TODO: Fix this; pass in observed values\n",
    "        pivot = condl_density.ccdf(x=observed_target,\n",
    "                                   theta=0)\n",
    "\n",
    "        \"\"\"# Recall: observed_target = norm_contrast @ self.y\n",
    "        L, U = condl_density.equal_tailed_interval(observed=observed_target,\n",
    "                                                   alpha=0.1)\n",
    "\n",
    "        print('CI:', L, ',', U)\"\"\"\n",
    "\n",
    "        return (pivot, condl_density, contrast, norm_contrast,\n",
    "                observed_target, logWeights, suff, sel_probs)\n",
    "\n",
    "    def condl_split_inference(self, node, ngrid=1000, ncoarse=20, grid_w_const=1.5,\n",
    "                              sd=1, reduced_dim=5, use_cvxpy=False):\n",
    "        \"\"\"\n",
    "        Inference for a split of a node\n",
    "        :param node: the node whose split is of interest\n",
    "        :return: p-values for difference in mean\n",
    "        \"\"\"\n",
    "        # First determine the projection direction\n",
    "        left_membership = node.left.membership\n",
    "        right_membership = node.right.membership\n",
    "        contrast = left_membership / np.sum(left_membership) - right_membership / np.sum(right_membership)\n",
    "        sd_rand = node.sd_rand\n",
    "\n",
    "        # Normalized contrast: The inner product norm_contrast'Y has sd = 1.\n",
    "        norm_contrast = contrast / (np.linalg.norm(contrast) * sd)\n",
    "\n",
    "        # Using the normalized contrast in practice\n",
    "        # for scale-free grid approximation\n",
    "        observed_target = norm_contrast @ self.y\n",
    "        # The nuisance parameter is defined the same way\n",
    "        # as on papers\n",
    "        nuisance = (self.y - np.linalg.outer(contrast, contrast)\n",
    "                    @ self.y / (np.linalg.norm(contrast) ** 2))\n",
    "\n",
    "        grid_width = grid_w_const * np.abs(observed_target)\n",
    "\n",
    "        stat_grid = np.linspace(-grid_width, grid_width, num=ngrid)\n",
    "\n",
    "        if ncoarse is not None:\n",
    "            coarse_grid = np.linspace(-grid_width, grid_width, ncoarse)\n",
    "            eval_grid = coarse_grid\n",
    "        else:\n",
    "            eval_grid = stat_grid\n",
    "\n",
    "        ref = self._condl_approx_log_reference(node=node,\n",
    "                                               grid=eval_grid,\n",
    "                                               nuisance=nuisance,\n",
    "                                               norm_contrast=norm_contrast, sd=sd,\n",
    "                                               sd_rand=sd_rand,\n",
    "                                               reduced_dim=reduced_dim,\n",
    "                                               use_CVXPY=use_cvxpy)\n",
    "\n",
    "        if ncoarse is None:\n",
    "            logWeights = np.zeros((ngrid,))\n",
    "            for g in range(ngrid):\n",
    "                # Evaluate the log pdf as a sum of (log) gaussian pdf\n",
    "                # and (log) reference measure\n",
    "                # TODO: Check if the original exp. fam. density is correct\n",
    "                logWeights[g] = (- 0.5 * (stat_grid[g]) ** 2 + ref[g])\n",
    "            # normalize logWeights\n",
    "            logWeights = logWeights - np.max(logWeights)\n",
    "            condl_density = discrete_family(eval_grid,\n",
    "                                            np.exp(logWeights),\n",
    "                                            logweights=logWeights)\n",
    "        else:\n",
    "            # print(\"Coarse grid\")\n",
    "            approx_fn = interp1d(eval_grid,\n",
    "                                 ref,\n",
    "                                 kind='quadratic',\n",
    "                                 bounds_error=False,\n",
    "                                 fill_value='extrapolate')\n",
    "            grid = np.linspace(-grid_width, grid_width, num=ngrid)\n",
    "            logWeights = np.zeros((ngrid,))\n",
    "            suff = np.zeros((ngrid,))\n",
    "            sel_probs = np.zeros((ngrid,))\n",
    "            for g in range(ngrid):\n",
    "                # TODO: Check if the original exp. fam. density is correct\n",
    "\n",
    "                logWeights[g] = (- 0.5 * (grid[g]) ** 2 + approx_fn(grid[g]))\n",
    "                suff[g] = - 0.5 * (grid[g]) ** 2\n",
    "                sel_probs[g] = approx_fn(grid[g])\n",
    "\n",
    "            # normalize logWeights\n",
    "            logWeights = logWeights - np.max(logWeights)\n",
    "\n",
    "            # condl_density is a discrete approximation\n",
    "            # to the exponential family distribution with\n",
    "            # natural parameter theta := eta'mu / (||eta|| * sigma)\n",
    "            # and\n",
    "            # sufficient statistic X := eta'y / (||eta|| * sigma) = norm_contrast'Y\n",
    "            condl_density = discrete_family(grid, np.exp(logWeights),\n",
    "                                            logweights=logWeights)\n",
    "\n",
    "        if np.isnan(logWeights).sum() != 0:\n",
    "            print(\"logWeights contains nan\")\n",
    "        elif (logWeights == np.inf).sum() != 0:\n",
    "            print(\"logWeights contains inf\")\n",
    "        elif (np.asarray(ref) == np.inf).sum() != 0:\n",
    "            print(\"ref contains inf\")\n",
    "        elif (np.asarray(ref) == -np.inf).sum() != 0:\n",
    "            print(\"ref contains -inf\")\n",
    "        elif np.isnan(np.asarray(ref)).sum() != 0:\n",
    "            print(\"ref contains nan\")\n",
    "\n",
    "        \"\"\"interval = (condl_density.equal_tailed_interval\n",
    "                        (observed=contrast.T @ self.y,\n",
    "                         alpha=1-level))\n",
    "        if np.isnan(interval[0]) or np.isnan(interval[1]):\n",
    "            print(\"Failed to construct intervals: nan\")\"\"\"\n",
    "\n",
    "        # TODO: Fix this; pass in observed values\n",
    "        pivot = condl_density.ccdf(x=observed_target,\n",
    "                                   theta=0)\n",
    "\n",
    "        \"\"\"# Recall: observed_target = norm_contrast @ self.y\n",
    "        L, U = condl_density.equal_tailed_interval(observed=observed_target,\n",
    "                                                   alpha=0.1)\n",
    "\n",
    "        print('CI:', L, ',', U)\"\"\"\n",
    "\n",
    "        return (pivot, condl_density, contrast, norm_contrast,\n",
    "                observed_target, logWeights, suff, sel_probs)\n",
    "\n",
    "    def condl_node_inference(self, node, ngrid=1000, ncoarse=20, grid_w_const=1.5,\n",
    "                             sd=1, reduced_dim=5, use_cvxpy=False):\n",
    "        \"\"\"\n",
    "        Inference for a split of a node\n",
    "        :param node: the node whose split is of interest\n",
    "        :return: p-values for difference in mean\n",
    "        \"\"\"\n",
    "        # First determine the projection direction\n",
    "        membership = node.membership\n",
    "        contrast = membership / np.sum(membership)\n",
    "        sd_rand = node.sd_rand\n",
    "        #print(\"Inference sd\", sd_rand)\n",
    "\n",
    "        # Normalized contrast: The inner product norm_contrast'Y has sd = 1.\n",
    "        norm_contrast = contrast / (np.linalg.norm(contrast) * sd)\n",
    "\n",
    "        # Using the normalized contrast in practice\n",
    "        # for scale-free grid approximation\n",
    "        observed_target = norm_contrast @ self.y\n",
    "        # The nuisance parameter is defined the same way\n",
    "        # as on papers\n",
    "        nuisance = (self.y - np.linalg.outer(contrast, contrast)\n",
    "                    @ self.y / (np.linalg.norm(contrast) ** 2))\n",
    "\n",
    "        grid_width = grid_w_const * np.abs(observed_target)\n",
    "\n",
    "        stat_grid = np.linspace(-grid_width, grid_width, num=ngrid)\n",
    "\n",
    "        if ncoarse is not None:\n",
    "            coarse_grid = np.linspace(-grid_width, grid_width, ncoarse)\n",
    "            eval_grid = coarse_grid\n",
    "        else:\n",
    "            eval_grid = stat_grid\n",
    "\n",
    "        ref, marg = self._condl_approx_log_reference(node=node.prev_node,\n",
    "                                               grid=eval_grid,\n",
    "                                               nuisance=nuisance,\n",
    "                                               norm_contrast=norm_contrast, sd=sd,\n",
    "                                               sd_rand=sd_rand,\n",
    "                                               reduced_dim=reduced_dim,\n",
    "                                               use_CVXPY=use_cvxpy)\n",
    "\n",
    "        if ncoarse is None:\n",
    "            logWeights = np.zeros((ngrid,))\n",
    "            for g in range(ngrid):\n",
    "                # Evaluate the log pdf as a sum of (log) gaussian pdf\n",
    "                # and (log) reference measure\n",
    "                # TODO: Check if the original exp. fam. density is correct\n",
    "                logWeights[g] = (- 0.5 * (stat_grid[g]) ** 2 + ref[g])\n",
    "            # normalize logWeights\n",
    "            logWeights = logWeights - np.max(logWeights)\n",
    "            condl_density = discrete_family(eval_grid,\n",
    "                                            np.exp(logWeights),\n",
    "                                            logweights=logWeights)\n",
    "        else:\n",
    "            # print(\"Coarse grid\")\n",
    "            approx_fn = interp1d(eval_grid,\n",
    "                                 ref,\n",
    "                                 kind='quadratic',\n",
    "                                 bounds_error=False,\n",
    "                                 fill_value='extrapolate')\n",
    "            approx_fn_marg = interp1d(eval_grid,\n",
    "                                 marg,\n",
    "                                 kind='quadratic',\n",
    "                                 bounds_error=False,\n",
    "                                 fill_value='extrapolate')\n",
    "            grid = np.linspace(-grid_width, grid_width, num=ngrid)\n",
    "            logWeights = np.zeros((ngrid,))\n",
    "            suff = np.zeros((ngrid,))\n",
    "            sel_probs = np.zeros((ngrid,))\n",
    "            marginal = np.zeros((ngrid,))\n",
    "            for g in range(ngrid):\n",
    "                # TODO: Check if the original exp. fam. density is correct\n",
    "\n",
    "                logWeights[g] = (- 0.5 * (grid[g]) ** 2 + approx_fn(grid[g]))\n",
    "                suff[g] = - 0.5 * (grid[g]) ** 2\n",
    "                sel_probs[g] = approx_fn(grid[g])\n",
    "                marginal[g] = approx_fn_marg(grid[g])\n",
    "\n",
    "            # normalize logWeights\n",
    "            logWeights = logWeights - np.max(logWeights)\n",
    "\n",
    "            # condl_density is a discrete approximation\n",
    "            # to the exponential family distribution with\n",
    "            # natural parameter theta := eta'mu / (||eta|| * sigma)\n",
    "            # and\n",
    "            # sufficient statistic X := eta'y / (||eta|| * sigma) = norm_contrast'Y\n",
    "            condl_density = discrete_family(grid, np.exp(logWeights),\n",
    "                                            logweights=logWeights)\n",
    "\n",
    "        if np.isnan(logWeights).sum() != 0:\n",
    "            print(\"logWeights contains nan\")\n",
    "        elif (logWeights == np.inf).sum() != 0:\n",
    "            print(\"logWeights contains inf\")\n",
    "        elif (np.asarray(ref) == np.inf).sum() != 0:\n",
    "            print(\"ref contains inf\")\n",
    "        elif (np.asarray(ref) == -np.inf).sum() != 0:\n",
    "            print(\"ref contains -inf\")\n",
    "        elif np.isnan(np.asarray(ref)).sum() != 0:\n",
    "            print(\"ref contains nan\")\n",
    "\n",
    "        \"\"\"interval = (condl_density.equal_tailed_interval\n",
    "                        (observed=contrast.T @ self.y,\n",
    "                         alpha=1-level))\n",
    "        if np.isnan(interval[0]) or np.isnan(interval[1]):\n",
    "            print(\"Failed to construct intervals: nan\")\"\"\"\n",
    "\n",
    "        # TODO: Fix this; pass in observed values\n",
    "        pivot = condl_density.ccdf(x=observed_target,\n",
    "                                   theta=0)\n",
    "\n",
    "        \"\"\"# Recall: observed_target = norm_contrast @ self.y\n",
    "        L, U = condl_density.equal_tailed_interval(observed=observed_target,\n",
    "                                                   alpha=0.1)\n",
    "\n",
    "        print('CI:', L, ',', U)\"\"\"\n",
    "\n",
    "        return (pivot, condl_density, contrast, norm_contrast,\n",
    "                observed_target, logWeights, suff, sel_probs, marginal)\n",
    "\n",
    "    def _delete_children(self, node):\n",
    "        \"\"\"\n",
    "        :param node: The node whose children are to be deleted\n",
    "        :return:\n",
    "        \"\"\"\n",
    "        node.left = None\n",
    "        node.right = None\n",
    "        # Keep track of the terminal nodes\n",
    "        node.terminal = True\n",
    "\n",
    "\n",
    "    def bottom_up_pruning(self, level=0.1, sd_y=1):\n",
    "        temp_term_parents = []\n",
    "        while self.terminal_parents:\n",
    "            parent = self.terminal_parents.pop()\n",
    "            pivot, dist, contrast, norm_contrast, obs_tar, logW, suff, sel_probs = (\n",
    "                self.condl_split_inference(node=parent,\n",
    "                                           ngrid=10000,\n",
    "                                           ncoarse=200,\n",
    "                                           grid_w_const=10,\n",
    "                                           reduced_dim=1,\n",
    "                                           sd=sd_y,\n",
    "                                           use_cvxpy=True))\n",
    "\n",
    "            # Prune if the split is insignificant\n",
    "            if min(pivot, 1-pivot) >= level/2:\n",
    "                self._delete_children(parent)\n",
    "                if parent.prev_branch:\n",
    "                    if parent.prev_branch[-1][2] == 0:\n",
    "                        neighbor = parent.prev_node.right\n",
    "                    else:\n",
    "                        neighbor = parent.prev_node.left\n",
    "                    # If this parent node's parent is now a terminal parent node\n",
    "                    # add it to the terminal parents list\n",
    "                    if neighbor.terminal:\n",
    "                        self.terminal_parents.append(parent.prev_node)\n",
    "            else:\n",
    "                # If the split is significant,\n",
    "                # preserve it in the temp list\n",
    "                temp_term_parents.append(parent)\n",
    "\n",
    "        self.terminal_parents = temp_term_parents\n",
    "\n",
    "\n",
    "    def print_branches(self, node=None, start=True, depth=0):\n",
    "        \"\"\"\n",
    "        Recursively printing (with proper indentation denoting depth) the tree\n",
    "        :param node: the node to be printed\n",
    "        :param start: a logic flag for whether the node is the root\n",
    "        :param depth: depth of a node to be printed\n",
    "        \"\"\"\n",
    "        if start:\n",
    "            node = self.root\n",
    "        if node is None:\n",
    "            return\n",
    "        if node.left or node.right:\n",
    "            print(\"\\t\" * depth, \"j:\", node.feature_index)\n",
    "            print(\"\\t\" * depth, \"threshold:\", node.threshold)\n",
    "            if node.left and node.right:\n",
    "                print(\"\\t\" * depth, \"left:\")\n",
    "                self.print_branches(node.left, start=False, depth=depth + 1)\n",
    "                print(\"\\t\" * depth, \"right:\")\n",
    "                self.print_branches(node.right, start=False, depth=depth + 1)\n",
    "            elif node.right:\n",
    "                print(\"\\t\" * depth, \"left:\")\n",
    "                self.print_branches(node.right, start=False, depth=depth + 1)\n",
    "            else:\n",
    "                print(\"\\t\" * depth, \"right:\")\n",
    "                self.print_branches(node.left, start=False, depth=depth + 1)\n",
    "        return\n",
    "\n",
    "    # Example usage:"
   ],
   "metadata": {
    "collapsed": false
   },
   "id": "10da58f14b0243e"
  },
  {
   "cell_type": "markdown",
   "source": [
    "## Testing Approximate Reference"
   ],
   "metadata": {
    "collapsed": false
   },
   "id": "5b9d64666d3b52e9"
  },
  {
   "cell_type": "code",
   "execution_count": 819,
   "outputs": [],
   "source": [
    "n = 100\n",
    "p = 5\n",
    "\n",
    "np.random.seed(10017)\n",
    "X = np.random.normal(size=(n, p))\n",
    "a = 1\n",
    "b = 2\n",
    "\n",
    "mu = b * ((X[:, 0] <= 0) * (1 + a * (X[:, 1] > 0) + (X[:, 2] * X[:, 1] <= 0)))\n",
    "sd = 2\n",
    "noise_sd = 1\n",
    "y = mu + np.random.normal(size=(n,), scale=sd)\n",
    "# Create and train the regression tree\n",
    "reg_tree = RegressionTree(max_depth=3, min_proportion=0,\n",
    "                          min_samples_split=50, min_bucket=20,)"
   ],
   "metadata": {
    "collapsed": false,
    "ExecuteTime": {
     "end_time": "2025-03-06T02:39:42.999755Z",
     "start_time": "2025-03-06T02:39:42.982905Z"
    }
   },
   "id": "2da212a161d1923d"
  },
  {
   "cell_type": "code",
   "execution_count": 820,
   "outputs": [],
   "source": [
    "reg_tree.fit(X, y, sd = noise_sd * sd)"
   ],
   "metadata": {
    "collapsed": false,
    "ExecuteTime": {
     "end_time": "2025-03-06T02:39:43.517106Z",
     "start_time": "2025-03-06T02:39:43.501991Z"
    }
   },
   "id": "b61f05cceedfd238"
  },
  {
   "cell_type": "code",
   "execution_count": 821,
   "outputs": [
    {
     "data": {
      "text/plain": "<Figure size 1500x1500 with 1 Axes>",
      "image/png": "[encoded data removed]"
     },
     "metadata": {},
     "output_type": "display_data"
    }
   ],
   "source": [
    "draw_tree(reg_tree.root)"
   ],
   "metadata": {
    "collapsed": false,
    "ExecuteTime": {
     "end_time": "2025-03-06T02:39:44.135902Z",
     "start_time": "2025-03-06T02:39:43.986605Z"
    }
   },
   "id": "58e654bb3179da80"
  },
  {
   "cell_type": "code",
   "execution_count": 801,
   "outputs": [
    {
     "name": "stdout",
     "output_type": "stream",
     "text": [
      "6.221915245056152\n"
     ]
    }
   ],
   "source": [
    "t1 = time()\n",
    "pval, dist, contrast, norm_contrast, obs_tar, logW, suff, sel_probs, marginal = (\n",
    "    reg_tree.condl_node_inference(node=reg_tree.terminal_nodes[1], \n",
    "                                  ngrid=10000,\n",
    "                                  ncoarse=200,\n",
    "                                  grid_w_const=15,\n",
    "                                  reduced_dim=10,\n",
    "                                  sd=sd, use_cvxpy=True))\n",
    "t2 = time()\n",
    "print(t2 - t1)"
   ],
   "metadata": {
    "collapsed": false,
    "ExecuteTime": {
     "end_time": "2025-03-06T02:38:33.405593Z",
     "start_time": "2025-03-06T02:38:27.180296Z"
    }
   },
   "id": "ee5dfd29cea9b1fe"
  },
  {
   "cell_type": "code",
   "execution_count": 822,
   "outputs": [
    {
     "name": "stdout",
     "output_type": "stream",
     "text": [
      "8.396879196166992\n"
     ]
    }
   ],
   "source": [
    "t1 = time()\n",
    "pval_full, dist_full, contrast_full, norm_contrast_full, obs_tar_full, logW_full, suff_full, sel_probs_full = (\n",
    "    reg_tree.node_inference(node=reg_tree.terminal_nodes[2], \n",
    "                            ngrid=10000,\n",
    "                            ncoarse=200,\n",
    "                            grid_w_const=15,\n",
    "                            sd=sd, use_cvxpy=True))\n",
    "t2 = time()\n",
    "print(t2 - t1)"
   ],
   "metadata": {
    "collapsed": false,
    "ExecuteTime": {
     "end_time": "2025-03-06T02:39:55.718260Z",
     "start_time": "2025-03-06T02:39:47.319008Z"
    }
   },
   "id": "52dd2237a1af7698"
  },
  {
   "cell_type": "code",
   "execution_count": 823,
   "outputs": [
    {
     "name": "stdout",
     "output_type": "stream",
     "text": [
      "(np.float64(-2.4985593175818126), np.float64(0.8438502368689258))\n",
      "0.0\n"
     ]
    }
   ],
   "source": [
    "print(dist_full.equal_tailed_interval(observed=norm_contrast_full.dot(y),\n",
    "                                      alpha=0.1))\n",
    "print(norm_contrast_full.dot(mu))"
   ],
   "metadata": {
    "collapsed": false,
    "ExecuteTime": {
     "end_time": "2025-03-06T02:39:55.726709Z",
     "start_time": "2025-03-06T02:39:55.718197Z"
    }
   },
   "id": "24955a458374ee71"
  },
  {
   "cell_type": "code",
   "execution_count": 824,
   "outputs": [
    {
     "name": "stdout",
     "output_type": "stream",
     "text": [
      "1.5796551704406738\n"
     ]
    }
   ],
   "source": [
    "t1 = time()\n",
    "pval_full, dist_full, contrast_full, norm_contrast_full, obs_tar_full, logW_full, suff_full, sel_probs_full = (\n",
    "    reg_tree.node_inference(node=reg_tree.terminal_nodes[2], \n",
    "                            ngrid=10000,\n",
    "                            ncoarse=50,\n",
    "                            grid_w_const=10,\n",
    "                            sd=sd, use_cvxpy=True))\n",
    "t2 = time()\n",
    "print(t2 - t1)"
   ],
   "metadata": {
    "collapsed": false,
    "ExecuteTime": {
     "end_time": "2025-03-06T02:39:57.311101Z",
     "start_time": "2025-03-06T02:39:55.727286Z"
    }
   },
   "id": "a62051c51a952bae"
  },
  {
   "cell_type": "code",
   "execution_count": 825,
   "outputs": [
    {
     "name": "stdout",
     "output_type": "stream",
     "text": [
      "(np.float64(-2.494958617652527), np.float64(0.8471362962607623))\n",
      "0.0\n"
     ]
    }
   ],
   "source": [
    "print(dist_full.equal_tailed_interval(observed=norm_contrast_full.dot(y),\n",
    "                                      alpha=0.1))\n",
    "print(norm_contrast_full.dot(mu))"
   ],
   "metadata": {
    "collapsed": false,
    "ExecuteTime": {
     "end_time": "2025-03-06T02:39:57.319884Z",
     "start_time": "2025-03-06T02:39:57.310170Z"
    }
   },
   "id": "d7ea6747e1ac7fd9"
  },
  {
   "cell_type": "code",
   "execution_count": 810,
   "outputs": [
    {
     "name": "stdout",
     "output_type": "stream",
     "text": [
      "(np.float64(-23.54266947048775), np.float64(0.45033895747033814))\n",
      "0.4364357804719848\n"
     ]
    }
   ],
   "source": [
    "print(dist.equal_tailed_interval(observed=norm_contrast.dot(y),\n",
    "                            alpha=0.1))\n",
    "print(norm_contrast.dot(mu))"
   ],
   "metadata": {
    "collapsed": false,
    "ExecuteTime": {
     "end_time": "2025-03-06T02:39:26.401307Z",
     "start_time": "2025-03-06T02:39:26.384595Z"
    }
   },
   "id": "f915d5783bbfd1f7"
  },
  {
   "cell_type": "code",
   "execution_count": 811,
   "outputs": [
    {
     "name": "stdout",
     "output_type": "stream",
     "text": [
      "1.0\n"
     ]
    }
   ],
   "source": [
    "sd_obs_tar = np.linalg.norm(norm_contrast) * sd\n",
    "print(sd_obs_tar)"
   ],
   "metadata": {
    "collapsed": false,
    "ExecuteTime": {
     "end_time": "2025-03-06T02:39:27.439390Z",
     "start_time": "2025-03-06T02:39:27.423Z"
    }
   },
   "id": "102f448851b488e2"
  },
  {
   "cell_type": "code",
   "execution_count": 812,
   "outputs": [
    {
     "data": {
      "text/plain": "np.float64(0.8551988207285981)"
     },
     "execution_count": 812,
     "metadata": {},
     "output_type": "execute_result"
    }
   ],
   "source": [
    "obs_tar"
   ],
   "metadata": {
    "collapsed": false,
    "ExecuteTime": {
     "end_time": "2025-03-06T02:39:27.772105Z",
     "start_time": "2025-03-06T02:39:27.756955Z"
    }
   },
   "id": "dc260ecfb4543e3a"
  },
  {
   "cell_type": "code",
   "execution_count": 813,
   "outputs": [
    {
     "data": {
      "text/plain": "np.float64(0.8551988207285981)"
     },
     "execution_count": 813,
     "metadata": {},
     "output_type": "execute_result"
    }
   ],
   "source": [
    "norm_contrast.dot(y)"
   ],
   "metadata": {
    "collapsed": false,
    "ExecuteTime": {
     "end_time": "2025-03-06T02:39:28.073222Z",
     "start_time": "2025-03-06T02:39:28.056546Z"
    }
   },
   "id": "53f4f57b6dd89b92"
  },
  {
   "cell_type": "code",
   "execution_count": 814,
   "outputs": [
    {
     "name": "stdout",
     "output_type": "stream",
     "text": [
      "0.33769465933932963\n"
     ]
    }
   ],
   "source": [
    "naive_pivot = Z_test(y=y, norm_contrast=norm_contrast, \n",
    "                     null=norm_contrast.dot(mu))\n",
    "print(naive_pivot)"
   ],
   "metadata": {
    "collapsed": false,
    "ExecuteTime": {
     "end_time": "2025-03-06T02:39:28.398930Z",
     "start_time": "2025-03-06T02:39:28.384218Z"
    }
   },
   "id": "f23c4140a01cc06b"
  },
  {
   "cell_type": "code",
   "execution_count": 815,
   "outputs": [
    {
     "name": "stdout",
     "output_type": "stream",
     "text": [
      "0.8551988207285981\n"
     ]
    }
   ],
   "source": [
    "print(obs_tar)"
   ],
   "metadata": {
    "collapsed": false,
    "ExecuteTime": {
     "end_time": "2025-03-06T02:39:28.633701Z",
     "start_time": "2025-03-06T02:39:28.621375Z"
    }
   },
   "id": "40aad316077f7589"
  },
  {
   "cell_type": "code",
   "execution_count": 816,
   "outputs": [
    {
     "name": "stdout",
     "output_type": "stream",
     "text": [
      "0.4364357804719848\n"
     ]
    }
   ],
   "source": [
    "print(norm_contrast.dot(mu))"
   ],
   "metadata": {
    "collapsed": false,
    "ExecuteTime": {
     "end_time": "2025-03-06T02:39:29.052242Z",
     "start_time": "2025-03-06T02:39:29.039314Z"
    }
   },
   "id": "828a960a9c59ee70"
  },
  {
   "cell_type": "code",
   "execution_count": 817,
   "outputs": [],
   "source": [
    "def normalize(x):\n",
    "    return x/x.sum()"
   ],
   "metadata": {
    "collapsed": false,
    "ExecuteTime": {
     "end_time": "2025-03-06T02:39:29.315883Z",
     "start_time": "2025-03-06T02:39:29.304275Z"
    }
   },
   "id": "b2b9e00755042a0"
  },
  {
   "cell_type": "code",
   "execution_count": 818,
   "outputs": [
    {
     "data": {
      "text/plain": "[<matplotlib.lines.Line2D at 0x1694a3040>]"
     },
     "execution_count": 818,
     "metadata": {},
     "output_type": "execute_result"
    },
    {
     "data": {
      "text/plain": "<Figure size 640x480 with 1 Axes>",
      "image/png": "[encoded data removed]"
     },
     "metadata": {},
     "output_type": "display_data"
    }
   ],
   "source": [
    "import matplotlib.pyplot as plt\n",
    "width = 10 * (np.abs(obs_tar) + 1)\n",
    "x = np.linspace(-width, width, 10000)\n",
    "#plt.plot(x, normalize(np.exp(sel_probs - marginal - np.max(sel_probs - marginal))), color=\"red\")\n",
    "#plt.plot(x, (marginal), color=\"blue\")\n",
    "#plt.plot(x, normalize(np.exp(sel_probs)), color=\"green\")\n",
    "plt.plot(x, normalize(np.exp(sel_probs_full)), color=\"yellow\")\n",
    "#plt.plot(x, normalize(dist.pdf(theta=norm_contrast.dot(mu))), color=\"blue\")\n",
    "#plt.plot(x, normalize(dist_full.pdf(theta=norm_contrast.dot(mu))), color=\"blue\")\n",
    "#plt.ylim(-5000, 1000)"
   ],
   "metadata": {
    "collapsed": false,
    "ExecuteTime": {
     "end_time": "2025-03-06T02:39:29.661854Z",
     "start_time": "2025-03-06T02:39:29.567793Z"
    }
   },
   "id": "d389e7c59b1852be"
  },
  {
   "cell_type": "code",
   "execution_count": 724,
   "outputs": [
    {
     "data": {
      "text/plain": "array([-41655841.16753525, -41624592.24804137, -41593360.68173407, ...,\n       -26085306.06103553, -26107298.92770869, -26129305.49537218])"
     },
     "execution_count": 724,
     "metadata": {},
     "output_type": "execute_result"
    }
   ],
   "source": [
    "sel_probs"
   ],
   "metadata": {
    "collapsed": false,
    "ExecuteTime": {
     "end_time": "2025-03-06T02:31:04.849113Z",
     "start_time": "2025-03-06T02:31:04.839291Z"
    }
   },
   "id": "305ee2abfad0b7ca"
  },
  {
   "cell_type": "code",
   "execution_count": 708,
   "outputs": [
    {
     "data": {
      "text/plain": "array([-82458.76040502, -82409.64230064, -82360.54498308, ...,\n         -808.08339801,   -807.56354483,   -807.04465744])"
     },
     "execution_count": 708,
     "metadata": {},
     "output_type": "execute_result"
    }
   ],
   "source": [
    "marginal"
   ],
   "metadata": {
    "collapsed": false,
    "ExecuteTime": {
     "end_time": "2025-03-06T02:30:32.676946Z",
     "start_time": "2025-03-06T02:30:32.667789Z"
    }
   },
   "id": "b6f3bd7e3d5e1d3e"
  },
  {
   "cell_type": "code",
   "execution_count": 709,
   "outputs": [
    {
     "data": {
      "text/plain": "np.float64(1.8288695688883123)"
     },
     "execution_count": 709,
     "metadata": {},
     "output_type": "execute_result"
    }
   ],
   "source": [
    "np.max(np.exp(sel_probs))"
   ],
   "metadata": {
    "collapsed": false,
    "ExecuteTime": {
     "end_time": "2025-03-06T02:30:33.246512Z",
     "start_time": "2025-03-06T02:30:33.237091Z"
    }
   },
   "id": "7bc035099af16750"
  },
  {
   "cell_type": "code",
   "execution_count": 710,
   "outputs": [
    {
     "data": {
      "text/plain": "<matplotlib.collections.LineCollection at 0x16b823280>"
     },
     "execution_count": 710,
     "metadata": {},
     "output_type": "execute_result"
    },
    {
     "data": {
      "text/plain": "<Figure size 640x480 with 1 Axes>",
      "image/png": "[encoded data removed]"
     },
     "metadata": {},
     "output_type": "display_data"
    }
   ],
   "source": [
    "plt.plot(x, dist.pdf(theta=norm_contrast.dot(mu)))\n",
    "plt.vlines(obs_tar, ymin=0, ymax=np.max(dist.pdf(theta=norm_contrast.dot(mu))),\n",
    "           linestyles='--', colors='grey')\n",
    "plt.vlines(norm_contrast.dot(mu), ymin=0, \n",
    "           ymax=np.max(dist.pdf(theta=norm_contrast.dot(mu))),\n",
    "           linestyles='--', colors='red')"
   ],
   "metadata": {
    "collapsed": false,
    "ExecuteTime": {
     "end_time": "2025-03-06T02:30:33.780298Z",
     "start_time": "2025-03-06T02:30:33.680264Z"
    }
   },
   "id": "ca13221443dbeb16"
  },
  {
   "cell_type": "code",
   "execution_count": 711,
   "outputs": [
    {
     "data": {
      "text/plain": "<matplotlib.collections.LineCollection at 0x16b4daf40>"
     },
     "execution_count": 711,
     "metadata": {},
     "output_type": "execute_result"
    },
    {
     "data": {
      "text/plain": "<Figure size 640x480 with 1 Axes>",
      "image/png": "[encoded data removed]"
     },
     "metadata": {},
     "output_type": "display_data"
    }
   ],
   "source": [
    "plt.plot(x, dist_full.pdf(theta=norm_contrast.dot(mu)))\n",
    "plt.vlines(obs_tar_full, ymin=0, ymax=np.max(dist_full.pdf(theta=norm_contrast.dot(mu))),\n",
    "           linestyles='--', colors='grey')\n",
    "plt.vlines(norm_contrast.dot(mu), ymin=0, \n",
    "           ymax=np.max(dist_full.pdf(theta=norm_contrast.dot(mu))),\n",
    "           linestyles='--', colors='red')"
   ],
   "metadata": {
    "collapsed": false,
    "ExecuteTime": {
     "end_time": "2025-03-06T02:30:34.482143Z",
     "start_time": "2025-03-06T02:30:34.394912Z"
    }
   },
   "id": "4a32712d13387afc"
  },
  {
   "cell_type": "code",
   "execution_count": 22,
   "outputs": [
    {
     "data": {
      "text/plain": "np.float64(0.11405265796532411)"
     },
     "execution_count": 22,
     "metadata": {},
     "output_type": "execute_result"
    }
   ],
   "source": [
    "dist.pdf(theta=norm_contrast.dot(mu))[x >= obs_tar].sum()"
   ],
   "metadata": {
    "collapsed": false,
    "ExecuteTime": {
     "end_time": "2025-03-06T00:48:18.862209Z",
     "start_time": "2025-03-06T00:48:18.845396Z"
    }
   },
   "id": "68be10b872a3923e"
  },
  {
   "cell_type": "code",
   "execution_count": 168,
   "outputs": [
    {
     "data": {
      "text/plain": "np.float64(0.9712568481056001)"
     },
     "execution_count": 168,
     "metadata": {},
     "output_type": "execute_result"
    }
   ],
   "source": [
    "(dist.ccdf(theta=norm_contrast.dot(mu), x=obs_tar))"
   ],
   "metadata": {
    "collapsed": false,
    "ExecuteTime": {
     "end_time": "2025-03-06T00:33:10.944292Z",
     "start_time": "2025-03-06T00:33:10.932104Z"
    }
   },
   "id": "fabbfe0b11602de6"
  },
  {
   "cell_type": "code",
   "execution_count": 169,
   "outputs": [
    {
     "data": {
      "text/plain": "np.float64(0.45304742336557063)"
     },
     "execution_count": 169,
     "metadata": {},
     "output_type": "execute_result"
    }
   ],
   "source": [
    "pval"
   ],
   "metadata": {
    "collapsed": false,
    "ExecuteTime": {
     "end_time": "2025-03-06T00:33:11.885341Z",
     "start_time": "2025-03-06T00:33:11.857014Z"
    }
   },
   "id": "9248b67d54d980d7"
  },
  {
   "cell_type": "code",
   "execution_count": 31,
   "outputs": [
    {
     "data": {
      "text/plain": "1.0"
     },
     "execution_count": 31,
     "metadata": {},
     "output_type": "execute_result"
    }
   ],
   "source": [
    "float(\"1\")"
   ],
   "metadata": {
    "collapsed": false,
    "ExecuteTime": {
     "end_time": "2025-03-05T01:49:20.022851Z",
     "start_time": "2025-03-05T01:49:20.012231Z"
    }
   },
   "id": "c844abc51c7147b4"
  },
  {
   "cell_type": "code",
   "execution_count": 32,
   "outputs": [
    {
     "data": {
      "text/plain": "np.int64(5000)"
     },
     "execution_count": 32,
     "metadata": {},
     "output_type": "execute_result"
    }
   ],
   "source": [
    "(x > obs_tar).sum()"
   ],
   "metadata": {
    "collapsed": false,
    "ExecuteTime": {
     "end_time": "2025-03-05T01:49:20.228983Z",
     "start_time": "2025-03-05T01:49:20.225233Z"
    }
   },
   "id": "4a6e803be7847ec0"
  },
  {
   "cell_type": "code",
   "execution_count": 33,
   "outputs": [
    {
     "data": {
      "text/plain": "[<matplotlib.lines.Line2D at 0x167faf1f0>]"
     },
     "execution_count": 33,
     "metadata": {},
     "output_type": "execute_result"
    },
    {
     "data": {
      "text/plain": "<Figure size 640x480 with 1 Axes>",
      "image/png": "[encoded data removed]"
     },
     "metadata": {},
     "output_type": "display_data"
    }
   ],
   "source": [
    "plt.plot(x, np.exp(sel_probs))"
   ],
   "metadata": {
    "collapsed": false,
    "ExecuteTime": {
     "end_time": "2025-03-05T01:49:20.635317Z",
     "start_time": "2025-03-05T01:49:20.561750Z"
    }
   },
   "id": "e2c79ccab0de8503"
  },
  {
   "cell_type": "code",
   "execution_count": 34,
   "outputs": [
    {
     "data": {
      "text/plain": "<matplotlib.collections.LineCollection at 0x167fe49d0>"
     },
     "execution_count": 34,
     "metadata": {},
     "output_type": "execute_result"
    },
    {
     "data": {
      "text/plain": "<Figure size 640x480 with 1 Axes>",
      "image/png": "[encoded data removed]"
     },
     "metadata": {},
     "output_type": "display_data"
    }
   ],
   "source": [
    "plt.plot(x, dist.pdf(theta=0))\n",
    "plt.vlines(obs_tar, ymin=0, ymax=np.max(dist.pdf(theta=0)),\n",
    "           linestyles='--', colors='grey')\n",
    "plt.vlines(norm_contrast.dot(mu), ymin=0, \n",
    "           ymax=np.max(dist.pdf(theta=0)),\n",
    "           linestyles='--', colors='red')"
   ],
   "metadata": {
    "collapsed": false,
    "ExecuteTime": {
     "end_time": "2025-03-05T01:49:21.343305Z",
     "start_time": "2025-03-05T01:49:21.176981Z"
    }
   },
   "id": "859f2770f8dba8b4"
  },
  {
   "cell_type": "code",
   "execution_count": 34,
   "outputs": [],
   "source": [],
   "metadata": {
    "collapsed": false,
    "ExecuteTime": {
     "end_time": "2025-03-05T01:49:21.957264Z",
     "start_time": "2025-03-05T01:49:21.948354Z"
    }
   },
   "id": "b599f2a2dbc89f6f"
  },
  {
   "cell_type": "code",
   "execution_count": 46,
   "outputs": [],
   "source": [
    "def root_inference_sim(n = 50, p = 5, a = 0.1, b = 0.1, \n",
    "                       sd_y = 1, noise_sd = 1, start=0, end=100):\n",
    "    pivots = []\n",
    "    naive_pivots = []\n",
    "    coverage = []\n",
    "    naive_coverage = []\n",
    "    length = []\n",
    "    naive_length = []\n",
    "    level=0.1\n",
    "    for i in range(start, end):\n",
    "        print(i, \"th simulation\")\n",
    "        np.random.seed(i+1000)\n",
    "        X = np.random.normal(size=(n, p))\n",
    "\n",
    "        mu = b * ((X[:, 0] <= 0) * (1 + a * (X[:, 1] > 0) + (X[:, 2] * X[:, 1] <= 0)))\n",
    "        y = mu + np.random.normal(size=(n,), scale=sd_y)\n",
    "        # Create and train the regression tree\n",
    "        reg_tree = RegressionTree(min_samples_split=50, max_depth=3,\n",
    "                                  min_bucket=20, min_proportion=0.)\n",
    "        reg_tree.fit(X, y, sd = noise_sd * sd_y)\n",
    "        \n",
    "        #if not reg_tree.root.left.left:\n",
    "        #    continue\n",
    "        \"\"\"pval, dist, contrast, norm_contrast, obs_tar, logW, suff, sel_probs\\\n",
    "            = (reg_tree.condl_split_inference(node=reg_tree.root, ngrid=10000,\n",
    "                                              ncoarse=100, grid_width=15,\n",
    "                                              reduced_dim=1, sd=sd_y,\n",
    "                                              use_cvxpy=True))\"\"\"\n",
    "        \n",
    "        \"\"\"pval, dist, contrast, norm_contrast, obs_tar, logW, suff, sel_probs, marginal \\\n",
    "            = (reg_tree.condl_node_inference(node=reg_tree.terminal_nodes[1],\n",
    "                                             ngrid=10000,\n",
    "                                             ncoarse=200,\n",
    "                                             grid_w_const=5,\n",
    "                                             reduced_dim=None,\n",
    "                                             sd=sd_y,\n",
    "                                             use_cvxpy=False))\"\"\"\n",
    "        pval, dist, contrast, norm_contrast, obs_tar, logW, suff, sel_probs \\\n",
    "            = (reg_tree.node_inference(node=reg_tree.terminal_nodes[0],\n",
    "                                             ngrid=10000,\n",
    "                                             ncoarse=50,\n",
    "                                             grid_w_const=10,\n",
    "                                             sd=sd_y,\n",
    "                                             use_cvxpy=True))\n",
    "        \n",
    "        \"\"\"x = np.linspace(-5 * np.abs(obs_tar), 5 * np.abs(obs_tar), 10000)\n",
    "        plt.plot(x, normalize(np.exp(sel_probs)), color=\"yellow\")\"\"\"\n",
    "        \n",
    "        target = norm_contrast.dot(mu)\n",
    "        pivot_i = dist.ccdf(theta=target, x=obs_tar)\n",
    "        pivots.append(pivot_i)\n",
    "        \n",
    "        naive_pivot = Z_test(y=y, norm_contrast=norm_contrast, \n",
    "                             null=target)\n",
    "        naive_pivots.append(naive_pivot)\n",
    "        \n",
    "        # Naive after tree value\n",
    "        # Confidence intervals\n",
    "        naive_CI = [contrast.dot(y) -\n",
    "                    np.linalg.norm(contrast) * sd_y * ndist.ppf(1 - level / 2),\n",
    "                    contrast.dot(y) +\n",
    "                    np.linalg.norm(contrast) * sd_y * ndist.ppf(1 - level / 2)]\n",
    "        naive_coverage.append((contrast.dot(mu) >= naive_CI[0] and contrast.dot(mu) <= naive_CI[1]))\n",
    "        \n",
    "        selective_CI = (dist.equal_tailed_interval(observed=norm_contrast.dot(y),\n",
    "                                                   alpha=level))\n",
    "        selective_CI = np.array(selective_CI)\n",
    "        selective_CI *= np.linalg.norm(contrast) * sd_y\n",
    "        coverage.append((contrast.dot(mu) >= selective_CI[0] and contrast.dot(mu) <= selective_CI[1]))\n",
    "        length.append(selective_CI[1] - selective_CI[0])\n",
    "        naive_length.append(naive_CI[1] - naive_CI[0])\n",
    "        if not coverage[-1]:\n",
    "            print(i)\n",
    "        \n",
    "    \n",
    "    return pivots, naive_pivots, coverage, naive_coverage, length, naive_length"
   ],
   "metadata": {
    "collapsed": false,
    "ExecuteTime": {
     "end_time": "2025-03-06T00:11:21.146829Z",
     "start_time": "2025-03-06T00:11:21.121582Z"
    }
   },
   "id": "d35a1a1a63e83625"
  },
  {
   "cell_type": "code",
   "execution_count": 47,
   "outputs": [
    {
     "name": "stdout",
     "output_type": "stream",
     "text": [
      "0 th simulation\n"
     ]
    },
    {
     "ename": "KeyboardInterrupt",
     "evalue": "",
     "output_type": "error",
     "traceback": [
      "\u001B[0;31m---------------------------------------------------------------------------\u001B[0m",
      "\u001B[0;31mKeyboardInterrupt\u001B[0m                         Traceback (most recent call last)",
      "Cell \u001B[0;32mIn[47], line 3\u001B[0m\n\u001B[1;32m      1\u001B[0m t1 \u001B[38;5;241m=\u001B[39m time()\n\u001B[1;32m      2\u001B[0m pivots_50, naive_pivots_50, coverage, naive_coverage, length, naive_length \\\n\u001B[0;32m----> 3\u001B[0m     \u001B[38;5;241m=\u001B[39m \u001B[43mroot_inference_sim\u001B[49m\u001B[43m(\u001B[49m\u001B[43mstart\u001B[49m\u001B[38;5;241;43m=\u001B[39;49m\u001B[38;5;241;43m0\u001B[39;49m\u001B[43m,\u001B[49m\u001B[43m \u001B[49m\u001B[43mend\u001B[49m\u001B[38;5;241;43m=\u001B[39;49m\u001B[38;5;241;43m50\u001B[39;49m\u001B[43m,\u001B[49m\u001B[43m \u001B[49m\u001B[43mn\u001B[49m\u001B[38;5;241;43m=\u001B[39;49m\u001B[38;5;241;43m200\u001B[39;49m\u001B[43m,\u001B[49m\n\u001B[1;32m      4\u001B[0m \u001B[43m                         \u001B[49m\u001B[43msd_y\u001B[49m\u001B[38;5;241;43m=\u001B[39;49m\u001B[38;5;241;43m2\u001B[39;49m\u001B[43m,\u001B[49m\u001B[43m \u001B[49m\u001B[43mnoise_sd\u001B[49m\u001B[38;5;241;43m=\u001B[39;49m\u001B[38;5;241;43m1\u001B[39;49m\u001B[43m,\u001B[49m\u001B[43m \u001B[49m\n\u001B[1;32m      5\u001B[0m \u001B[43m                         \u001B[49m\u001B[43ma\u001B[49m\u001B[38;5;241;43m=\u001B[39;49m\u001B[38;5;241;43m1\u001B[39;49m\u001B[43m,\u001B[49m\u001B[43mb\u001B[49m\u001B[38;5;241;43m=\u001B[39;49m\u001B[38;5;241;43m2\u001B[39;49m\u001B[43m)\u001B[49m\n\u001B[1;32m      6\u001B[0m t2 \u001B[38;5;241m=\u001B[39m time()\n",
      "Cell \u001B[0;32mIn[46], line 39\u001B[0m, in \u001B[0;36mroot_inference_sim\u001B[0;34m(n, p, a, b, sd_y, noise_sd, start, end)\u001B[0m\n\u001B[1;32m     24\u001B[0m \u001B[38;5;250m\u001B[39m\u001B[38;5;124;03m\"\"\"pval, dist, contrast, norm_contrast, obs_tar, logW, suff, sel_probs\\\u001B[39;00m\n\u001B[1;32m     25\u001B[0m \u001B[38;5;124;03m    = (reg_tree.condl_split_inference(node=reg_tree.root, ngrid=10000,\u001B[39;00m\n\u001B[1;32m     26\u001B[0m \u001B[38;5;124;03m                                      ncoarse=100, grid_width=15,\u001B[39;00m\n\u001B[1;32m     27\u001B[0m \u001B[38;5;124;03m                                      reduced_dim=1, sd=sd_y,\u001B[39;00m\n\u001B[1;32m     28\u001B[0m \u001B[38;5;124;03m                                      use_cvxpy=True))\"\"\"\u001B[39;00m\n\u001B[1;32m     30\u001B[0m \u001B[38;5;250m\u001B[39m\u001B[38;5;124;03m\"\"\"pval, dist, contrast, norm_contrast, obs_tar, logW, suff, sel_probs, marginal \\\u001B[39;00m\n\u001B[1;32m     31\u001B[0m \u001B[38;5;124;03m    = (reg_tree.condl_node_inference(node=reg_tree.terminal_nodes[1],\u001B[39;00m\n\u001B[1;32m     32\u001B[0m \u001B[38;5;124;03m                                     ngrid=10000,\u001B[39;00m\n\u001B[0;32m   (...)\u001B[0m\n\u001B[1;32m     36\u001B[0m \u001B[38;5;124;03m                                     sd=sd_y,\u001B[39;00m\n\u001B[1;32m     37\u001B[0m \u001B[38;5;124;03m                                     use_cvxpy=False))\"\"\"\u001B[39;00m\n\u001B[1;32m     38\u001B[0m pval, dist, contrast, norm_contrast, obs_tar, logW, suff, sel_probs \\\n\u001B[0;32m---> 39\u001B[0m     \u001B[38;5;241m=\u001B[39m (\u001B[43mreg_tree\u001B[49m\u001B[38;5;241;43m.\u001B[39;49m\u001B[43mnode_inference\u001B[49m\u001B[43m(\u001B[49m\u001B[43mnode\u001B[49m\u001B[38;5;241;43m=\u001B[39;49m\u001B[43mreg_tree\u001B[49m\u001B[38;5;241;43m.\u001B[39;49m\u001B[43mterminal_nodes\u001B[49m\u001B[43m[\u001B[49m\u001B[38;5;241;43m0\u001B[39;49m\u001B[43m]\u001B[49m\u001B[43m,\u001B[49m\n\u001B[1;32m     40\u001B[0m \u001B[43m                                     \u001B[49m\u001B[43mngrid\u001B[49m\u001B[38;5;241;43m=\u001B[39;49m\u001B[38;5;241;43m10000\u001B[39;49m\u001B[43m,\u001B[49m\n\u001B[1;32m     41\u001B[0m \u001B[43m                                     \u001B[49m\u001B[43mncoarse\u001B[49m\u001B[38;5;241;43m=\u001B[39;49m\u001B[38;5;241;43m50\u001B[39;49m\u001B[43m,\u001B[49m\n\u001B[1;32m     42\u001B[0m \u001B[43m                                     \u001B[49m\u001B[43mgrid_w_const\u001B[49m\u001B[38;5;241;43m=\u001B[39;49m\u001B[38;5;241;43m10\u001B[39;49m\u001B[43m,\u001B[49m\n\u001B[1;32m     43\u001B[0m \u001B[43m                                     \u001B[49m\u001B[43msd\u001B[49m\u001B[38;5;241;43m=\u001B[39;49m\u001B[43msd_y\u001B[49m\u001B[43m,\u001B[49m\n\u001B[1;32m     44\u001B[0m \u001B[43m                                     \u001B[49m\u001B[43muse_cvxpy\u001B[49m\u001B[38;5;241;43m=\u001B[39;49m\u001B[38;5;28;43;01mTrue\u001B[39;49;00m\u001B[43m)\u001B[49m)\n\u001B[1;32m     46\u001B[0m \u001B[38;5;250m\u001B[39m\u001B[38;5;124;03m\"\"\"x = np.linspace(-5 * np.abs(obs_tar), 5 * np.abs(obs_tar), 10000)\u001B[39;00m\n\u001B[1;32m     47\u001B[0m \u001B[38;5;124;03mplt.plot(x, normalize(np.exp(sel_probs)), color=\"yellow\")\"\"\"\u001B[39;00m\n\u001B[1;32m     49\u001B[0m target \u001B[38;5;241m=\u001B[39m norm_contrast\u001B[38;5;241m.\u001B[39mdot(mu)\n",
      "File \u001B[0;32m~/Desktop/PhD/SI_Codes/SI-CART/CART.py:763\u001B[0m, in \u001B[0;36mRegressionTree.node_inference\u001B[0;34m(self, node, ngrid, ncoarse, grid_w_const, sd, reduced_dim, use_cvxpy)\u001B[0m\n\u001B[1;32m    760\u001B[0m \u001B[38;5;28;01melse\u001B[39;00m:\n\u001B[1;32m    761\u001B[0m     eval_grid \u001B[38;5;241m=\u001B[39m stat_grid\n\u001B[0;32m--> 763\u001B[0m ref \u001B[38;5;241m=\u001B[39m \u001B[38;5;28;43mself\u001B[39;49m\u001B[38;5;241;43m.\u001B[39;49m\u001B[43m_approx_log_reference\u001B[49m\u001B[43m(\u001B[49m\u001B[43mnode\u001B[49m\u001B[38;5;241;43m=\u001B[39;49m\u001B[43mnode\u001B[49m\u001B[38;5;241;43m.\u001B[39;49m\u001B[43mprev_node\u001B[49m\u001B[43m,\u001B[49m\n\u001B[1;32m    764\u001B[0m \u001B[43m                                 \u001B[49m\u001B[43mgrid\u001B[49m\u001B[38;5;241;43m=\u001B[39;49m\u001B[43meval_grid\u001B[49m\u001B[43m,\u001B[49m\n\u001B[1;32m    765\u001B[0m \u001B[43m                                 \u001B[49m\u001B[43mnuisance\u001B[49m\u001B[38;5;241;43m=\u001B[39;49m\u001B[43mnuisance\u001B[49m\u001B[43m,\u001B[49m\n\u001B[1;32m    766\u001B[0m \u001B[43m                                 \u001B[49m\u001B[43mnorm_contrast\u001B[49m\u001B[38;5;241;43m=\u001B[39;49m\u001B[43mnorm_contrast\u001B[49m\u001B[43m,\u001B[49m\u001B[43m \u001B[49m\u001B[43msd\u001B[49m\u001B[38;5;241;43m=\u001B[39;49m\u001B[43msd\u001B[49m\u001B[43m,\u001B[49m\n\u001B[1;32m    767\u001B[0m \u001B[43m                                 \u001B[49m\u001B[43msd_rand\u001B[49m\u001B[38;5;241;43m=\u001B[39;49m\u001B[43msd_rand\u001B[49m\u001B[43m,\u001B[49m\n\u001B[1;32m    768\u001B[0m \u001B[43m                                 \u001B[49m\u001B[43muse_CVXPY\u001B[49m\u001B[38;5;241;43m=\u001B[39;49m\u001B[43muse_cvxpy\u001B[49m\u001B[43m)\u001B[49m\n\u001B[1;32m    770\u001B[0m \u001B[38;5;28;01mif\u001B[39;00m ncoarse \u001B[38;5;129;01mis\u001B[39;00m \u001B[38;5;28;01mNone\u001B[39;00m:\n\u001B[1;32m    771\u001B[0m     logWeights \u001B[38;5;241m=\u001B[39m np\u001B[38;5;241m.\u001B[39mzeros((ngrid,))\n",
      "File \u001B[0;32m~/Desktop/PhD/SI_Codes/SI-CART/CART.py:377\u001B[0m, in \u001B[0;36mRegressionTree._approx_log_reference\u001B[0;34m(self, node, grid, nuisance, norm_contrast, sd, sd_rand, use_CVXPY)\u001B[0m\n\u001B[1;32m    375\u001B[0m         prob \u001B[38;5;241m=\u001B[39m cp\u001B[38;5;241m.\u001B[39mProblem(objective, constraints)\n\u001B[1;32m    376\u001B[0m         \u001B[38;5;66;03m# Solve the problem\u001B[39;00m\n\u001B[0;32m--> 377\u001B[0m         \u001B[43mprob\u001B[49m\u001B[38;5;241;43m.\u001B[39;49m\u001B[43msolve\u001B[49m\u001B[43m(\u001B[49m\u001B[43m)\u001B[49m\n\u001B[1;32m    378\u001B[0m         ref_hat[g_idx] \u001B[38;5;241m+\u001B[39m\u001B[38;5;241m=\u001B[39m (\u001B[38;5;241m-\u001B[39mprob\u001B[38;5;241m.\u001B[39mvalue)\n\u001B[1;32m    379\u001B[0m     \u001B[38;5;66;03m# print(\"Min. implied mean:\", np.min(implied_mean))\u001B[39;00m\n\u001B[1;32m    380\u001B[0m \n\u001B[1;32m    381\u001B[0m \u001B[38;5;28;01melse\u001B[39;00m:\n\u001B[0;32m   (...)\u001B[0m\n\u001B[1;32m    387\u001B[0m     \u001B[38;5;66;03m# print(\"prec\", prec)\u001B[39;00m\n\u001B[1;32m    388\u001B[0m     \u001B[38;5;66;03m# Approximate the selection probability\u001B[39;00m\n",
      "File \u001B[0;32m~/Desktop/PhD/SI_Codes/SI-CART/lib/python3.9/site-packages/cvxpy/problems/problem.py:503\u001B[0m, in \u001B[0;36mProblem.solve\u001B[0;34m(self, *args, **kwargs)\u001B[0m\n\u001B[1;32m    501\u001B[0m \u001B[38;5;28;01melse\u001B[39;00m:\n\u001B[1;32m    502\u001B[0m     solve_func \u001B[38;5;241m=\u001B[39m Problem\u001B[38;5;241m.\u001B[39m_solve\n\u001B[0;32m--> 503\u001B[0m \u001B[38;5;28;01mreturn\u001B[39;00m \u001B[43msolve_func\u001B[49m\u001B[43m(\u001B[49m\u001B[38;5;28;43mself\u001B[39;49m\u001B[43m,\u001B[49m\u001B[43m \u001B[49m\u001B[38;5;241;43m*\u001B[39;49m\u001B[43margs\u001B[49m\u001B[43m,\u001B[49m\u001B[43m \u001B[49m\u001B[38;5;241;43m*\u001B[39;49m\u001B[38;5;241;43m*\u001B[39;49m\u001B[43mkwargs\u001B[49m\u001B[43m)\u001B[49m\n",
      "File \u001B[0;32m~/Desktop/PhD/SI_Codes/SI-CART/lib/python3.9/site-packages/cvxpy/problems/problem.py:1073\u001B[0m, in \u001B[0;36mProblem._solve\u001B[0;34m(self, solver, warm_start, verbose, gp, qcp, requires_grad, enforce_dpp, ignore_dpp, canon_backend, **kwargs)\u001B[0m\n\u001B[1;32m   1070\u001B[0m         \u001B[38;5;28mself\u001B[39m\u001B[38;5;241m.\u001B[39munpack(chain\u001B[38;5;241m.\u001B[39mretrieve(soln))\n\u001B[1;32m   1071\u001B[0m         \u001B[38;5;28;01mreturn\u001B[39;00m \u001B[38;5;28mself\u001B[39m\u001B[38;5;241m.\u001B[39mvalue\n\u001B[0;32m-> 1073\u001B[0m data, solving_chain, inverse_data \u001B[38;5;241m=\u001B[39m \u001B[38;5;28;43mself\u001B[39;49m\u001B[38;5;241;43m.\u001B[39;49m\u001B[43mget_problem_data\u001B[49m\u001B[43m(\u001B[49m\n\u001B[1;32m   1074\u001B[0m \u001B[43m    \u001B[49m\u001B[43msolver\u001B[49m\u001B[43m,\u001B[49m\u001B[43m \u001B[49m\u001B[43mgp\u001B[49m\u001B[43m,\u001B[49m\u001B[43m \u001B[49m\u001B[43menforce_dpp\u001B[49m\u001B[43m,\u001B[49m\u001B[43m \u001B[49m\u001B[43mignore_dpp\u001B[49m\u001B[43m,\u001B[49m\u001B[43m \u001B[49m\u001B[43mverbose\u001B[49m\u001B[43m,\u001B[49m\u001B[43m \u001B[49m\u001B[43mcanon_backend\u001B[49m\u001B[43m,\u001B[49m\u001B[43m \u001B[49m\u001B[43mkwargs\u001B[49m\n\u001B[1;32m   1075\u001B[0m \u001B[43m\u001B[49m\u001B[43m)\u001B[49m\n\u001B[1;32m   1077\u001B[0m \u001B[38;5;28;01mif\u001B[39;00m verbose:\n\u001B[1;32m   1078\u001B[0m     \u001B[38;5;28mprint\u001B[39m(_NUM_SOLVER_STR)\n",
      "File \u001B[0;32m~/Desktop/PhD/SI_Codes/SI-CART/lib/python3.9/site-packages/cvxpy/problems/problem.py:646\u001B[0m, in \u001B[0;36mProblem.get_problem_data\u001B[0;34m(self, solver, gp, enforce_dpp, ignore_dpp, verbose, canon_backend, solver_opts)\u001B[0m\n\u001B[1;32m    644\u001B[0m \u001B[38;5;28;01mif\u001B[39;00m key \u001B[38;5;241m!=\u001B[39m \u001B[38;5;28mself\u001B[39m\u001B[38;5;241m.\u001B[39m_cache\u001B[38;5;241m.\u001B[39mkey:\n\u001B[1;32m    645\u001B[0m     \u001B[38;5;28mself\u001B[39m\u001B[38;5;241m.\u001B[39m_cache\u001B[38;5;241m.\u001B[39minvalidate()\n\u001B[0;32m--> 646\u001B[0m     solving_chain \u001B[38;5;241m=\u001B[39m \u001B[38;5;28;43mself\u001B[39;49m\u001B[38;5;241;43m.\u001B[39;49m\u001B[43m_construct_chain\u001B[49m\u001B[43m(\u001B[49m\n\u001B[1;32m    647\u001B[0m \u001B[43m        \u001B[49m\u001B[43msolver\u001B[49m\u001B[38;5;241;43m=\u001B[39;49m\u001B[43msolver\u001B[49m\u001B[43m,\u001B[49m\u001B[43m \u001B[49m\u001B[43mgp\u001B[49m\u001B[38;5;241;43m=\u001B[39;49m\u001B[43mgp\u001B[49m\u001B[43m,\u001B[49m\n\u001B[1;32m    648\u001B[0m \u001B[43m        \u001B[49m\u001B[43menforce_dpp\u001B[49m\u001B[38;5;241;43m=\u001B[39;49m\u001B[43menforce_dpp\u001B[49m\u001B[43m,\u001B[49m\n\u001B[1;32m    649\u001B[0m \u001B[43m        \u001B[49m\u001B[43mignore_dpp\u001B[49m\u001B[38;5;241;43m=\u001B[39;49m\u001B[43mignore_dpp\u001B[49m\u001B[43m,\u001B[49m\n\u001B[1;32m    650\u001B[0m \u001B[43m        \u001B[49m\u001B[43mcanon_backend\u001B[49m\u001B[38;5;241;43m=\u001B[39;49m\u001B[43mcanon_backend\u001B[49m\u001B[43m,\u001B[49m\n\u001B[1;32m    651\u001B[0m \u001B[43m        \u001B[49m\u001B[43msolver_opts\u001B[49m\u001B[38;5;241;43m=\u001B[39;49m\u001B[43msolver_opts\u001B[49m\u001B[43m)\u001B[49m\n\u001B[1;32m    652\u001B[0m     \u001B[38;5;28mself\u001B[39m\u001B[38;5;241m.\u001B[39m_cache\u001B[38;5;241m.\u001B[39mkey \u001B[38;5;241m=\u001B[39m key\n\u001B[1;32m    653\u001B[0m     \u001B[38;5;28mself\u001B[39m\u001B[38;5;241m.\u001B[39m_cache\u001B[38;5;241m.\u001B[39msolving_chain \u001B[38;5;241m=\u001B[39m solving_chain\n",
      "File \u001B[0;32m~/Desktop/PhD/SI_Codes/SI-CART/lib/python3.9/site-packages/cvxpy/problems/problem.py:898\u001B[0m, in \u001B[0;36mProblem._construct_chain\u001B[0;34m(self, solver, gp, enforce_dpp, ignore_dpp, canon_backend, solver_opts)\u001B[0m\n\u001B[1;32m    896\u001B[0m candidate_solvers \u001B[38;5;241m=\u001B[39m \u001B[38;5;28mself\u001B[39m\u001B[38;5;241m.\u001B[39m_find_candidate_solvers(solver\u001B[38;5;241m=\u001B[39msolver, gp\u001B[38;5;241m=\u001B[39mgp)\n\u001B[1;32m    897\u001B[0m \u001B[38;5;28mself\u001B[39m\u001B[38;5;241m.\u001B[39m_sort_candidate_solvers(candidate_solvers)\n\u001B[0;32m--> 898\u001B[0m \u001B[38;5;28;01mreturn\u001B[39;00m \u001B[43mconstruct_solving_chain\u001B[49m\u001B[43m(\u001B[49m\u001B[38;5;28;43mself\u001B[39;49m\u001B[43m,\u001B[49m\u001B[43m \u001B[49m\u001B[43mcandidate_solvers\u001B[49m\u001B[43m,\u001B[49m\u001B[43m \u001B[49m\u001B[43mgp\u001B[49m\u001B[38;5;241;43m=\u001B[39;49m\u001B[43mgp\u001B[49m\u001B[43m,\u001B[49m\n\u001B[1;32m    899\u001B[0m \u001B[43m                               \u001B[49m\u001B[43menforce_dpp\u001B[49m\u001B[38;5;241;43m=\u001B[39;49m\u001B[43menforce_dpp\u001B[49m\u001B[43m,\u001B[49m\n\u001B[1;32m    900\u001B[0m \u001B[43m                               \u001B[49m\u001B[43mignore_dpp\u001B[49m\u001B[38;5;241;43m=\u001B[39;49m\u001B[43mignore_dpp\u001B[49m\u001B[43m,\u001B[49m\n\u001B[1;32m    901\u001B[0m \u001B[43m                               \u001B[49m\u001B[43mcanon_backend\u001B[49m\u001B[38;5;241;43m=\u001B[39;49m\u001B[43mcanon_backend\u001B[49m\u001B[43m,\u001B[49m\n\u001B[1;32m    902\u001B[0m \u001B[43m                               \u001B[49m\u001B[43msolver_opts\u001B[49m\u001B[38;5;241;43m=\u001B[39;49m\u001B[43msolver_opts\u001B[49m\u001B[43m,\u001B[49m\n\u001B[1;32m    903\u001B[0m \u001B[43m                               \u001B[49m\u001B[43mspecified_solver\u001B[49m\u001B[38;5;241;43m=\u001B[39;49m\u001B[43msolver\u001B[49m\u001B[43m)\u001B[49m\n",
      "File \u001B[0;32m~/Desktop/PhD/SI_Codes/SI-CART/lib/python3.9/site-packages/cvxpy/reductions/solvers/solving_chain.py:228\u001B[0m, in \u001B[0;36mconstruct_solving_chain\u001B[0;34m(problem, candidates, gp, enforce_dpp, ignore_dpp, canon_backend, solver_opts, specified_solver)\u001B[0m\n\u001B[1;32m    226\u001B[0m \u001B[38;5;28;01mif\u001B[39;00m \u001B[38;5;28mlen\u001B[39m(problem\u001B[38;5;241m.\u001B[39mvariables()) \u001B[38;5;241m==\u001B[39m \u001B[38;5;241m0\u001B[39m:\n\u001B[1;32m    227\u001B[0m     \u001B[38;5;28;01mreturn\u001B[39;00m SolvingChain(reductions\u001B[38;5;241m=\u001B[39m[ConstantSolver()])\n\u001B[0;32m--> 228\u001B[0m reductions \u001B[38;5;241m=\u001B[39m \u001B[43m_reductions_for_problem_class\u001B[49m\u001B[43m(\u001B[49m\u001B[43mproblem\u001B[49m\u001B[43m,\u001B[49m\u001B[43m \u001B[49m\u001B[43mcandidates\u001B[49m\u001B[43m,\u001B[49m\u001B[43m \u001B[49m\u001B[43mgp\u001B[49m\u001B[43m,\u001B[49m\u001B[43m \u001B[49m\u001B[43msolver_opts\u001B[49m\u001B[43m)\u001B[49m\n\u001B[1;32m    230\u001B[0m \u001B[38;5;66;03m# Process DPP status of the problem.\u001B[39;00m\n\u001B[1;32m    231\u001B[0m dpp_context \u001B[38;5;241m=\u001B[39m \u001B[38;5;124m'\u001B[39m\u001B[38;5;124mdcp\u001B[39m\u001B[38;5;124m'\u001B[39m \u001B[38;5;28;01mif\u001B[39;00m \u001B[38;5;129;01mnot\u001B[39;00m gp \u001B[38;5;28;01melse\u001B[39;00m \u001B[38;5;124m'\u001B[39m\u001B[38;5;124mdgp\u001B[39m\u001B[38;5;124m'\u001B[39m\n",
      "File \u001B[0;32m~/Desktop/PhD/SI_Codes/SI-CART/lib/python3.9/site-packages/cvxpy/reductions/solvers/solving_chain.py:135\u001B[0m, in \u001B[0;36m_reductions_for_problem_class\u001B[0;34m(problem, candidates, gp, solver_opts)\u001B[0m\n\u001B[1;32m    132\u001B[0m \u001B[38;5;28;01mif\u001B[39;00m gp:\n\u001B[1;32m    133\u001B[0m     reductions \u001B[38;5;241m+\u001B[39m\u001B[38;5;241m=\u001B[39m [Dgp2Dcp()]\n\u001B[0;32m--> 135\u001B[0m \u001B[38;5;28;01mif\u001B[39;00m \u001B[38;5;129;01mnot\u001B[39;00m gp \u001B[38;5;129;01mand\u001B[39;00m \u001B[38;5;129;01mnot\u001B[39;00m \u001B[43mproblem\u001B[49m\u001B[38;5;241;43m.\u001B[39;49m\u001B[43mis_dcp\u001B[49m\u001B[43m(\u001B[49m\u001B[43m)\u001B[49m:\n\u001B[1;32m    136\u001B[0m     append \u001B[38;5;241m=\u001B[39m build_non_disciplined_error_msg(problem, \u001B[38;5;124m'\u001B[39m\u001B[38;5;124mDCP\u001B[39m\u001B[38;5;124m'\u001B[39m)\n\u001B[1;32m    137\u001B[0m     \u001B[38;5;28;01mif\u001B[39;00m problem\u001B[38;5;241m.\u001B[39mis_dgp():\n",
      "File \u001B[0;32m~/Desktop/PhD/SI_Codes/SI-CART/lib/python3.9/site-packages/cvxpy/utilities/performance_utils.py:73\u001B[0m, in \u001B[0;36mcompute_once.<locals>._compute_once\u001B[0;34m(self, *args, **kwargs)\u001B[0m\n\u001B[1;32m     71\u001B[0m \u001B[38;5;28;01mif\u001B[39;00m key \u001B[38;5;129;01min\u001B[39;00m cache:\n\u001B[1;32m     72\u001B[0m     \u001B[38;5;28;01mreturn\u001B[39;00m cache[key]\n\u001B[0;32m---> 73\u001B[0m result \u001B[38;5;241m=\u001B[39m \u001B[43mfunc\u001B[49m\u001B[43m(\u001B[49m\u001B[38;5;28;43mself\u001B[39;49m\u001B[43m,\u001B[49m\u001B[43m \u001B[49m\u001B[38;5;241;43m*\u001B[39;49m\u001B[43margs\u001B[49m\u001B[43m,\u001B[49m\u001B[43m \u001B[49m\u001B[38;5;241;43m*\u001B[39;49m\u001B[38;5;241;43m*\u001B[39;49m\u001B[43mkwargs\u001B[49m\u001B[43m)\u001B[49m\n\u001B[1;32m     74\u001B[0m cache[key] \u001B[38;5;241m=\u001B[39m result\n\u001B[1;32m     75\u001B[0m \u001B[38;5;28;01mreturn\u001B[39;00m result\n",
      "File \u001B[0;32m~/Desktop/PhD/SI_Codes/SI-CART/lib/python3.9/site-packages/cvxpy/problems/problem.py:257\u001B[0m, in \u001B[0;36mProblem.is_dcp\u001B[0;34m(self, dpp)\u001B[0m\n\u001B[1;32m    237\u001B[0m \u001B[38;5;129m@perf\u001B[39m\u001B[38;5;241m.\u001B[39mcompute_once\n\u001B[1;32m    238\u001B[0m \u001B[38;5;28;01mdef\u001B[39;00m \u001B[38;5;21mis_dcp\u001B[39m(\u001B[38;5;28mself\u001B[39m, dpp: \u001B[38;5;28mbool\u001B[39m \u001B[38;5;241m=\u001B[39m \u001B[38;5;28;01mFalse\u001B[39;00m) \u001B[38;5;241m-\u001B[39m\u001B[38;5;241m>\u001B[39m \u001B[38;5;28mbool\u001B[39m:\n\u001B[1;32m    239\u001B[0m \u001B[38;5;250m    \u001B[39m\u001B[38;5;124;03m\"\"\"Does the problem satisfy DCP rules?\u001B[39;00m\n\u001B[1;32m    240\u001B[0m \n\u001B[1;32m    241\u001B[0m \u001B[38;5;124;03m    Arguments\u001B[39;00m\n\u001B[0;32m   (...)\u001B[0m\n\u001B[1;32m    255\u001B[0m \u001B[38;5;124;03m        True if the Expression is DCP, False otherwise.\u001B[39;00m\n\u001B[1;32m    256\u001B[0m \u001B[38;5;124;03m    \"\"\"\u001B[39;00m\n\u001B[0;32m--> 257\u001B[0m     \u001B[38;5;28;01mreturn\u001B[39;00m \u001B[38;5;28;43mall\u001B[39;49m\u001B[43m(\u001B[49m\n\u001B[1;32m    258\u001B[0m \u001B[43m      \u001B[49m\u001B[43mexpr\u001B[49m\u001B[38;5;241;43m.\u001B[39;49m\u001B[43mis_dcp\u001B[49m\u001B[43m(\u001B[49m\u001B[43mdpp\u001B[49m\u001B[43m)\u001B[49m\u001B[43m \u001B[49m\u001B[38;5;28;43;01mfor\u001B[39;49;00m\u001B[43m \u001B[49m\u001B[43mexpr\u001B[49m\u001B[43m \u001B[49m\u001B[38;5;129;43;01min\u001B[39;49;00m\u001B[43m \u001B[49m\u001B[38;5;28;43mself\u001B[39;49m\u001B[38;5;241;43m.\u001B[39;49m\u001B[43mconstraints\u001B[49m\u001B[43m \u001B[49m\u001B[38;5;241;43m+\u001B[39;49m\u001B[43m \u001B[49m\u001B[43m[\u001B[49m\u001B[38;5;28;43mself\u001B[39;49m\u001B[38;5;241;43m.\u001B[39;49m\u001B[43mobjective\u001B[49m\u001B[43m]\u001B[49m\u001B[43m)\u001B[49m\n",
      "File \u001B[0;32m~/Desktop/PhD/SI_Codes/SI-CART/lib/python3.9/site-packages/cvxpy/problems/problem.py:258\u001B[0m, in \u001B[0;36m<genexpr>\u001B[0;34m(.0)\u001B[0m\n\u001B[1;32m    237\u001B[0m \u001B[38;5;129m@perf\u001B[39m\u001B[38;5;241m.\u001B[39mcompute_once\n\u001B[1;32m    238\u001B[0m \u001B[38;5;28;01mdef\u001B[39;00m \u001B[38;5;21mis_dcp\u001B[39m(\u001B[38;5;28mself\u001B[39m, dpp: \u001B[38;5;28mbool\u001B[39m \u001B[38;5;241m=\u001B[39m \u001B[38;5;28;01mFalse\u001B[39;00m) \u001B[38;5;241m-\u001B[39m\u001B[38;5;241m>\u001B[39m \u001B[38;5;28mbool\u001B[39m:\n\u001B[1;32m    239\u001B[0m \u001B[38;5;250m    \u001B[39m\u001B[38;5;124;03m\"\"\"Does the problem satisfy DCP rules?\u001B[39;00m\n\u001B[1;32m    240\u001B[0m \n\u001B[1;32m    241\u001B[0m \u001B[38;5;124;03m    Arguments\u001B[39;00m\n\u001B[0;32m   (...)\u001B[0m\n\u001B[1;32m    255\u001B[0m \u001B[38;5;124;03m        True if the Expression is DCP, False otherwise.\u001B[39;00m\n\u001B[1;32m    256\u001B[0m \u001B[38;5;124;03m    \"\"\"\u001B[39;00m\n\u001B[1;32m    257\u001B[0m     \u001B[38;5;28;01mreturn\u001B[39;00m \u001B[38;5;28mall\u001B[39m(\n\u001B[0;32m--> 258\u001B[0m       \u001B[43mexpr\u001B[49m\u001B[38;5;241;43m.\u001B[39;49m\u001B[43mis_dcp\u001B[49m\u001B[43m(\u001B[49m\u001B[43mdpp\u001B[49m\u001B[43m)\u001B[49m \u001B[38;5;28;01mfor\u001B[39;00m expr \u001B[38;5;129;01min\u001B[39;00m \u001B[38;5;28mself\u001B[39m\u001B[38;5;241m.\u001B[39mconstraints \u001B[38;5;241m+\u001B[39m [\u001B[38;5;28mself\u001B[39m\u001B[38;5;241m.\u001B[39mobjective])\n",
      "File \u001B[0;32m~/Desktop/PhD/SI_Codes/SI-CART/lib/python3.9/site-packages/cvxpy/problems/objective.py:153\u001B[0m, in \u001B[0;36mMinimize.is_dcp\u001B[0;34m(self, dpp)\u001B[0m\n\u001B[1;32m    151\u001B[0m     \u001B[38;5;28;01mwith\u001B[39;00m scopes\u001B[38;5;241m.\u001B[39mdpp_scope():\n\u001B[1;32m    152\u001B[0m         \u001B[38;5;28;01mreturn\u001B[39;00m \u001B[38;5;28mself\u001B[39m\u001B[38;5;241m.\u001B[39margs[\u001B[38;5;241m0\u001B[39m]\u001B[38;5;241m.\u001B[39mis_convex()\n\u001B[0;32m--> 153\u001B[0m \u001B[38;5;28;01mreturn\u001B[39;00m \u001B[38;5;28;43mself\u001B[39;49m\u001B[38;5;241;43m.\u001B[39;49m\u001B[43margs\u001B[49m\u001B[43m[\u001B[49m\u001B[38;5;241;43m0\u001B[39;49m\u001B[43m]\u001B[49m\u001B[38;5;241;43m.\u001B[39;49m\u001B[43mis_convex\u001B[49m\u001B[43m(\u001B[49m\u001B[43m)\u001B[49m\n",
      "File \u001B[0;32m~/Desktop/PhD/SI_Codes/SI-CART/lib/python3.9/site-packages/cvxpy/utilities/performance_utils.py:73\u001B[0m, in \u001B[0;36mcompute_once.<locals>._compute_once\u001B[0;34m(self, *args, **kwargs)\u001B[0m\n\u001B[1;32m     71\u001B[0m \u001B[38;5;28;01mif\u001B[39;00m key \u001B[38;5;129;01min\u001B[39;00m cache:\n\u001B[1;32m     72\u001B[0m     \u001B[38;5;28;01mreturn\u001B[39;00m cache[key]\n\u001B[0;32m---> 73\u001B[0m result \u001B[38;5;241m=\u001B[39m \u001B[43mfunc\u001B[49m\u001B[43m(\u001B[49m\u001B[38;5;28;43mself\u001B[39;49m\u001B[43m,\u001B[49m\u001B[43m \u001B[49m\u001B[38;5;241;43m*\u001B[39;49m\u001B[43margs\u001B[49m\u001B[43m,\u001B[49m\u001B[43m \u001B[49m\u001B[38;5;241;43m*\u001B[39;49m\u001B[38;5;241;43m*\u001B[39;49m\u001B[43mkwargs\u001B[49m\u001B[43m)\u001B[49m\n\u001B[1;32m     74\u001B[0m cache[key] \u001B[38;5;241m=\u001B[39m result\n\u001B[1;32m     75\u001B[0m \u001B[38;5;28;01mreturn\u001B[39;00m result\n",
      "File \u001B[0;32m~/Desktop/PhD/SI_Codes/SI-CART/lib/python3.9/site-packages/cvxpy/atoms/atom.py:178\u001B[0m, in \u001B[0;36mAtom.is_convex\u001B[0;34m(self)\u001B[0m\n\u001B[1;32m    176\u001B[0m \u001B[38;5;28;01melif\u001B[39;00m \u001B[38;5;28mself\u001B[39m\u001B[38;5;241m.\u001B[39mis_atom_convex():\n\u001B[1;32m    177\u001B[0m     \u001B[38;5;28;01mfor\u001B[39;00m idx, arg \u001B[38;5;129;01min\u001B[39;00m \u001B[38;5;28menumerate\u001B[39m(\u001B[38;5;28mself\u001B[39m\u001B[38;5;241m.\u001B[39margs):\n\u001B[0;32m--> 178\u001B[0m         \u001B[38;5;28;01mif\u001B[39;00m \u001B[38;5;129;01mnot\u001B[39;00m (\u001B[43marg\u001B[49m\u001B[38;5;241;43m.\u001B[39;49m\u001B[43mis_affine\u001B[49m\u001B[43m(\u001B[49m\u001B[43m)\u001B[49m \u001B[38;5;129;01mor\u001B[39;00m\n\u001B[1;32m    179\u001B[0m                 (arg\u001B[38;5;241m.\u001B[39mis_convex() \u001B[38;5;129;01mand\u001B[39;00m \u001B[38;5;28mself\u001B[39m\u001B[38;5;241m.\u001B[39mis_incr(idx)) \u001B[38;5;129;01mor\u001B[39;00m\n\u001B[1;32m    180\u001B[0m                 (arg\u001B[38;5;241m.\u001B[39mis_concave() \u001B[38;5;129;01mand\u001B[39;00m \u001B[38;5;28mself\u001B[39m\u001B[38;5;241m.\u001B[39mis_decr(idx))):\n\u001B[1;32m    181\u001B[0m             \u001B[38;5;28;01mreturn\u001B[39;00m \u001B[38;5;28;01mFalse\u001B[39;00m\n\u001B[1;32m    182\u001B[0m     \u001B[38;5;28;01mreturn\u001B[39;00m \u001B[38;5;28;01mTrue\u001B[39;00m\n",
      "File \u001B[0;32m~/Desktop/PhD/SI_Codes/SI-CART/lib/python3.9/site-packages/cvxpy/utilities/performance_utils.py:73\u001B[0m, in \u001B[0;36mcompute_once.<locals>._compute_once\u001B[0;34m(self, *args, **kwargs)\u001B[0m\n\u001B[1;32m     71\u001B[0m \u001B[38;5;28;01mif\u001B[39;00m key \u001B[38;5;129;01min\u001B[39;00m cache:\n\u001B[1;32m     72\u001B[0m     \u001B[38;5;28;01mreturn\u001B[39;00m cache[key]\n\u001B[0;32m---> 73\u001B[0m result \u001B[38;5;241m=\u001B[39m \u001B[43mfunc\u001B[49m\u001B[43m(\u001B[49m\u001B[38;5;28;43mself\u001B[39;49m\u001B[43m,\u001B[49m\u001B[43m \u001B[49m\u001B[38;5;241;43m*\u001B[39;49m\u001B[43margs\u001B[49m\u001B[43m,\u001B[49m\u001B[43m \u001B[49m\u001B[38;5;241;43m*\u001B[39;49m\u001B[38;5;241;43m*\u001B[39;49m\u001B[43mkwargs\u001B[49m\u001B[43m)\u001B[49m\n\u001B[1;32m     74\u001B[0m cache[key] \u001B[38;5;241m=\u001B[39m result\n\u001B[1;32m     75\u001B[0m \u001B[38;5;28;01mreturn\u001B[39;00m result\n",
      "File \u001B[0;32m~/Desktop/PhD/SI_Codes/SI-CART/lib/python3.9/site-packages/cvxpy/expressions/expression.py:250\u001B[0m, in \u001B[0;36mExpression.is_affine\u001B[0;34m(self)\u001B[0m\n\u001B[1;32m    246\u001B[0m \u001B[38;5;129m@perf\u001B[39m\u001B[38;5;241m.\u001B[39mcompute_once\n\u001B[1;32m    247\u001B[0m \u001B[38;5;28;01mdef\u001B[39;00m \u001B[38;5;21mis_affine\u001B[39m(\u001B[38;5;28mself\u001B[39m) \u001B[38;5;241m-\u001B[39m\u001B[38;5;241m>\u001B[39m \u001B[38;5;28mbool\u001B[39m:\n\u001B[1;32m    248\u001B[0m \u001B[38;5;250m    \u001B[39m\u001B[38;5;124;03m\"\"\"Is the expression affine?\u001B[39;00m\n\u001B[1;32m    249\u001B[0m \u001B[38;5;124;03m    \"\"\"\u001B[39;00m\n\u001B[0;32m--> 250\u001B[0m     \u001B[38;5;28;01mreturn\u001B[39;00m \u001B[38;5;28mself\u001B[39m\u001B[38;5;241m.\u001B[39mis_constant() \u001B[38;5;129;01mor\u001B[39;00m (\u001B[38;5;28mself\u001B[39m\u001B[38;5;241m.\u001B[39mis_convex() \u001B[38;5;129;01mand\u001B[39;00m \u001B[38;5;28;43mself\u001B[39;49m\u001B[38;5;241;43m.\u001B[39;49m\u001B[43mis_concave\u001B[49m\u001B[43m(\u001B[49m\u001B[43m)\u001B[49m)\n",
      "File \u001B[0;32m~/Desktop/PhD/SI_Codes/SI-CART/lib/python3.9/site-packages/cvxpy/utilities/performance_utils.py:73\u001B[0m, in \u001B[0;36mcompute_once.<locals>._compute_once\u001B[0;34m(self, *args, **kwargs)\u001B[0m\n\u001B[1;32m     71\u001B[0m \u001B[38;5;28;01mif\u001B[39;00m key \u001B[38;5;129;01min\u001B[39;00m cache:\n\u001B[1;32m     72\u001B[0m     \u001B[38;5;28;01mreturn\u001B[39;00m cache[key]\n\u001B[0;32m---> 73\u001B[0m result \u001B[38;5;241m=\u001B[39m \u001B[43mfunc\u001B[49m\u001B[43m(\u001B[49m\u001B[38;5;28;43mself\u001B[39;49m\u001B[43m,\u001B[49m\u001B[43m \u001B[49m\u001B[38;5;241;43m*\u001B[39;49m\u001B[43margs\u001B[49m\u001B[43m,\u001B[49m\u001B[43m \u001B[49m\u001B[38;5;241;43m*\u001B[39;49m\u001B[38;5;241;43m*\u001B[39;49m\u001B[43mkwargs\u001B[49m\u001B[43m)\u001B[49m\n\u001B[1;32m     74\u001B[0m cache[key] \u001B[38;5;241m=\u001B[39m result\n\u001B[1;32m     75\u001B[0m \u001B[38;5;28;01mreturn\u001B[39;00m result\n",
      "File \u001B[0;32m~/Desktop/PhD/SI_Codes/SI-CART/lib/python3.9/site-packages/cvxpy/atoms/atom.py:193\u001B[0m, in \u001B[0;36mAtom.is_concave\u001B[0;34m(self)\u001B[0m\n\u001B[1;32m    191\u001B[0m \u001B[38;5;28;01mif\u001B[39;00m \u001B[38;5;28mself\u001B[39m\u001B[38;5;241m.\u001B[39mis_constant():\n\u001B[1;32m    192\u001B[0m     \u001B[38;5;28;01mreturn\u001B[39;00m \u001B[38;5;28;01mTrue\u001B[39;00m\n\u001B[0;32m--> 193\u001B[0m \u001B[38;5;28;01melif\u001B[39;00m \u001B[38;5;28;43mself\u001B[39;49m\u001B[38;5;241;43m.\u001B[39;49m\u001B[43mis_atom_concave\u001B[49m\u001B[43m(\u001B[49m\u001B[43m)\u001B[49m:\n\u001B[1;32m    194\u001B[0m     \u001B[38;5;28;01mfor\u001B[39;00m idx, arg \u001B[38;5;129;01min\u001B[39;00m \u001B[38;5;28menumerate\u001B[39m(\u001B[38;5;28mself\u001B[39m\u001B[38;5;241m.\u001B[39margs):\n\u001B[1;32m    195\u001B[0m         \u001B[38;5;28;01mif\u001B[39;00m \u001B[38;5;129;01mnot\u001B[39;00m (arg\u001B[38;5;241m.\u001B[39mis_affine() \u001B[38;5;129;01mor\u001B[39;00m\n\u001B[1;32m    196\u001B[0m                 (arg\u001B[38;5;241m.\u001B[39mis_concave() \u001B[38;5;129;01mand\u001B[39;00m \u001B[38;5;28mself\u001B[39m\u001B[38;5;241m.\u001B[39mis_incr(idx)) \u001B[38;5;129;01mor\u001B[39;00m\n\u001B[1;32m    197\u001B[0m                 (arg\u001B[38;5;241m.\u001B[39mis_convex() \u001B[38;5;129;01mand\u001B[39;00m \u001B[38;5;28mself\u001B[39m\u001B[38;5;241m.\u001B[39mis_decr(idx))):\n",
      "File \u001B[0;32m~/Desktop/PhD/SI_Codes/SI-CART/lib/python3.9/site-packages/cvxpy/atoms/quad_form.py:75\u001B[0m, in \u001B[0;36mQuadForm.is_atom_concave\u001B[0;34m(self)\u001B[0m\n\u001B[1;32m     72\u001B[0m \u001B[38;5;250m\u001B[39m\u001B[38;5;124;03m\"\"\"Is the atom concave?\u001B[39;00m\n\u001B[1;32m     73\u001B[0m \u001B[38;5;124;03m\"\"\"\u001B[39;00m\n\u001B[1;32m     74\u001B[0m P \u001B[38;5;241m=\u001B[39m \u001B[38;5;28mself\u001B[39m\u001B[38;5;241m.\u001B[39margs[\u001B[38;5;241m1\u001B[39m]\n\u001B[0;32m---> 75\u001B[0m \u001B[38;5;28;01mreturn\u001B[39;00m P\u001B[38;5;241m.\u001B[39mis_constant() \u001B[38;5;129;01mand\u001B[39;00m \u001B[43mP\u001B[49m\u001B[38;5;241;43m.\u001B[39;49m\u001B[43mis_nsd\u001B[49m\u001B[43m(\u001B[49m\u001B[43m)\u001B[49m\n",
      "File \u001B[0;32m~/Desktop/PhD/SI_Codes/SI-CART/lib/python3.9/site-packages/cvxpy/utilities/performance_utils.py:73\u001B[0m, in \u001B[0;36mcompute_once.<locals>._compute_once\u001B[0;34m(self, *args, **kwargs)\u001B[0m\n\u001B[1;32m     71\u001B[0m \u001B[38;5;28;01mif\u001B[39;00m key \u001B[38;5;129;01min\u001B[39;00m cache:\n\u001B[1;32m     72\u001B[0m     \u001B[38;5;28;01mreturn\u001B[39;00m cache[key]\n\u001B[0;32m---> 73\u001B[0m result \u001B[38;5;241m=\u001B[39m \u001B[43mfunc\u001B[49m\u001B[43m(\u001B[49m\u001B[38;5;28;43mself\u001B[39;49m\u001B[43m,\u001B[49m\u001B[43m \u001B[49m\u001B[38;5;241;43m*\u001B[39;49m\u001B[43margs\u001B[49m\u001B[43m,\u001B[49m\u001B[43m \u001B[49m\u001B[38;5;241;43m*\u001B[39;49m\u001B[38;5;241;43m*\u001B[39;49m\u001B[43mkwargs\u001B[49m\u001B[43m)\u001B[49m\n\u001B[1;32m     74\u001B[0m cache[key] \u001B[38;5;241m=\u001B[39m result\n\u001B[1;32m     75\u001B[0m \u001B[38;5;28;01mreturn\u001B[39;00m result\n",
      "File \u001B[0;32m~/Desktop/PhD/SI_Codes/SI-CART/lib/python3.9/site-packages/cvxpy/expressions/constants/constant.py:260\u001B[0m, in \u001B[0;36mConstant.is_nsd\u001B[0;34m(self)\u001B[0m\n\u001B[1;32m    258\u001B[0m \u001B[38;5;66;03m# Compute sign of top eigenvalue if absent.\u001B[39;00m\n\u001B[1;32m    259\u001B[0m \u001B[38;5;28;01mif\u001B[39;00m \u001B[38;5;28mself\u001B[39m\u001B[38;5;241m.\u001B[39m_nsd_test \u001B[38;5;129;01mis\u001B[39;00m \u001B[38;5;28;01mNone\u001B[39;00m:\n\u001B[0;32m--> 260\u001B[0m     \u001B[38;5;28mself\u001B[39m\u001B[38;5;241m.\u001B[39m_nsd_test \u001B[38;5;241m=\u001B[39m \u001B[43meig_util\u001B[49m\u001B[38;5;241;43m.\u001B[39;49m\u001B[43mis_psd_within_tol\u001B[49m\u001B[43m(\u001B[49m\u001B[38;5;241;43m-\u001B[39;49m\u001B[38;5;28;43mself\u001B[39;49m\u001B[38;5;241;43m.\u001B[39;49m\u001B[43mvalue\u001B[49m\u001B[43m,\u001B[49m\u001B[43m \u001B[49m\u001B[43ms\u001B[49m\u001B[38;5;241;43m.\u001B[39;49m\u001B[43mEIGVAL_TOL\u001B[49m\u001B[43m)\u001B[49m\n\u001B[1;32m    262\u001B[0m \u001B[38;5;28;01mreturn\u001B[39;00m \u001B[38;5;28mself\u001B[39m\u001B[38;5;241m.\u001B[39m_nsd_test\n",
      "File \u001B[0;32m~/Desktop/PhD/SI_Codes/SI-CART/lib/python3.9/site-packages/cvxpy/utilities/linalg.py:113\u001B[0m, in \u001B[0;36mis_psd_within_tol\u001B[0;34m(A, tol)\u001B[0m\n\u001B[1;32m     99\u001B[0m     \u001B[38;5;66;03m# Returns the eigenvalue w[i] of A where 1/(w[i] - sigma) is minimized.\u001B[39;00m\n\u001B[1;32m    100\u001B[0m     \u001B[38;5;66;03m#\u001B[39;00m\n\u001B[1;32m    101\u001B[0m     \u001B[38;5;66;03m# If A - sigma*I is PSD, then w[i] should be equal to the largest\u001B[39;00m\n\u001B[0;32m   (...)\u001B[0m\n\u001B[1;32m    109\u001B[0m     \u001B[38;5;66;03m# a negative eigenvalue of A. If A - sigma*I is PSD, then we obviously\u001B[39;00m\n\u001B[1;32m    110\u001B[0m     \u001B[38;5;66;03m# have that the smallest eigenvalue of A is >= sigma.\u001B[39;00m\n\u001B[1;32m    112\u001B[0m \u001B[38;5;28;01mtry\u001B[39;00m:\n\u001B[0;32m--> 113\u001B[0m     ev \u001B[38;5;241m=\u001B[39m \u001B[43mSA_eigsh\u001B[49m\u001B[43m(\u001B[49m\u001B[38;5;241;43m-\u001B[39;49m\u001B[43mtol\u001B[49m\u001B[43m)\u001B[49m  \u001B[38;5;66;03m# might return np.NaN, or raise exception\u001B[39;00m\n\u001B[1;32m    114\u001B[0m \u001B[38;5;28;01mexcept\u001B[39;00m sparla\u001B[38;5;241m.\u001B[39mArpackNoConvergence \u001B[38;5;28;01mas\u001B[39;00m e:\n\u001B[1;32m    115\u001B[0m     \u001B[38;5;66;03m# This is a numerical issue. We can't certify that A is PSD.\u001B[39;00m\n\u001B[1;32m    117\u001B[0m     message \u001B[38;5;241m=\u001B[39m \u001B[38;5;124m\"\"\"\u001B[39m\n\u001B[1;32m    118\u001B[0m \u001B[38;5;124m    CVXPY note: This failure was encountered while trying to certify\u001B[39m\n\u001B[1;32m    119\u001B[0m \u001B[38;5;124m    that a matrix is positive semi-definite (see [1] for a definition).\u001B[39m\n\u001B[0;32m   (...)\u001B[0m\n\u001B[1;32m    124\u001B[0m \u001B[38;5;124m    [1] https://en.wikipedia.org/wiki/Definite_matrix\u001B[39m\n\u001B[1;32m    125\u001B[0m \u001B[38;5;124m    \u001B[39m\u001B[38;5;124m\"\"\"\u001B[39m\n",
      "File \u001B[0;32m~/Desktop/PhD/SI_Codes/SI-CART/lib/python3.9/site-packages/cvxpy/utilities/linalg.py:97\u001B[0m, in \u001B[0;36mis_psd_within_tol.<locals>.SA_eigsh\u001B[0;34m(sigma)\u001B[0m\n\u001B[1;32m     94\u001B[0m n \u001B[38;5;241m=\u001B[39m A\u001B[38;5;241m.\u001B[39mshape[\u001B[38;5;241m0\u001B[39m]\n\u001B[1;32m     95\u001B[0m v0 \u001B[38;5;241m=\u001B[39m g\u001B[38;5;241m.\u001B[39mnormal(loc\u001B[38;5;241m=\u001B[39m\u001B[38;5;241m0.0\u001B[39m, scale\u001B[38;5;241m=\u001B[39m\u001B[38;5;241m1.0\u001B[39m, size\u001B[38;5;241m=\u001B[39mn)\n\u001B[0;32m---> 97\u001B[0m \u001B[38;5;28;01mreturn\u001B[39;00m \u001B[43msparla\u001B[49m\u001B[38;5;241;43m.\u001B[39;49m\u001B[43meigsh\u001B[49m\u001B[43m(\u001B[49m\u001B[43mA\u001B[49m\u001B[43m,\u001B[49m\u001B[43m \u001B[49m\u001B[43mk\u001B[49m\u001B[38;5;241;43m=\u001B[39;49m\u001B[38;5;241;43m1\u001B[39;49m\u001B[43m,\u001B[49m\u001B[43m \u001B[49m\u001B[43msigma\u001B[49m\u001B[38;5;241;43m=\u001B[39;49m\u001B[43msigma\u001B[49m\u001B[43m,\u001B[49m\u001B[43m \u001B[49m\u001B[43mwhich\u001B[49m\u001B[38;5;241;43m=\u001B[39;49m\u001B[38;5;124;43m'\u001B[39;49m\u001B[38;5;124;43mSA\u001B[39;49m\u001B[38;5;124;43m'\u001B[39;49m\u001B[43m,\u001B[49m\u001B[43m \u001B[49m\u001B[43mv0\u001B[49m\u001B[38;5;241;43m=\u001B[39;49m\u001B[43mv0\u001B[49m\u001B[43m,\u001B[49m\n\u001B[1;32m     98\u001B[0m \u001B[43m                    \u001B[49m\u001B[43mreturn_eigenvectors\u001B[49m\u001B[38;5;241;43m=\u001B[39;49m\u001B[38;5;28;43;01mFalse\u001B[39;49;00m\u001B[43m)\u001B[49m\n",
      "File \u001B[0;32m~/Desktop/PhD/SI_Codes/SI-CART/lib/python3.9/site-packages/scipy/sparse/linalg/_eigen/arpack/arpack.py:1654\u001B[0m, in \u001B[0;36meigsh\u001B[0;34m(A, k, M, sigma, which, v0, ncv, maxiter, tol, return_eigenvectors, Minv, OPinv, mode)\u001B[0m\n\u001B[1;32m   1652\u001B[0m matvec \u001B[38;5;241m=\u001B[39m \u001B[38;5;28;01mNone\u001B[39;00m\n\u001B[1;32m   1653\u001B[0m \u001B[38;5;28;01mif\u001B[39;00m OPinv \u001B[38;5;129;01mis\u001B[39;00m \u001B[38;5;28;01mNone\u001B[39;00m:\n\u001B[0;32m-> 1654\u001B[0m     Minv_matvec \u001B[38;5;241m=\u001B[39m \u001B[43mget_OPinv_matvec\u001B[49m\u001B[43m(\u001B[49m\u001B[43mA\u001B[49m\u001B[43m,\u001B[49m\u001B[43m \u001B[49m\u001B[43mM\u001B[49m\u001B[43m,\u001B[49m\u001B[43m \u001B[49m\u001B[43msigma\u001B[49m\u001B[43m,\u001B[49m\n\u001B[1;32m   1655\u001B[0m \u001B[43m                                   \u001B[49m\u001B[43mhermitian\u001B[49m\u001B[38;5;241;43m=\u001B[39;49m\u001B[38;5;28;43;01mTrue\u001B[39;49;00m\u001B[43m,\u001B[49m\u001B[43m \u001B[49m\u001B[43mtol\u001B[49m\u001B[38;5;241;43m=\u001B[39;49m\u001B[43mtol\u001B[49m\u001B[43m)\u001B[49m\n\u001B[1;32m   1656\u001B[0m \u001B[38;5;28;01melse\u001B[39;00m:\n\u001B[1;32m   1657\u001B[0m     OPinv \u001B[38;5;241m=\u001B[39m _aslinearoperator_with_dtype(OPinv)\n",
      "File \u001B[0;32m~/Desktop/PhD/SI_Codes/SI-CART/lib/python3.9/site-packages/scipy/sparse/linalg/_eigen/arpack/arpack.py:1077\u001B[0m, in \u001B[0;36mget_OPinv_matvec\u001B[0;34m(A, M, sigma, hermitian, tol)\u001B[0m\n\u001B[1;32m   1075\u001B[0m         A \u001B[38;5;241m=\u001B[39m A \u001B[38;5;241m+\u001B[39m \u001B[38;5;241m0\u001B[39mj\n\u001B[1;32m   1076\u001B[0m     A\u001B[38;5;241m.\u001B[39mflat[::A\u001B[38;5;241m.\u001B[39mshape[\u001B[38;5;241m1\u001B[39m] \u001B[38;5;241m+\u001B[39m \u001B[38;5;241m1\u001B[39m] \u001B[38;5;241m-\u001B[39m\u001B[38;5;241m=\u001B[39m sigma\n\u001B[0;32m-> 1077\u001B[0m     \u001B[38;5;28;01mreturn\u001B[39;00m \u001B[43mLuInv\u001B[49m\u001B[43m(\u001B[49m\u001B[43mA\u001B[49m\u001B[43m)\u001B[49m\u001B[38;5;241m.\u001B[39mmatvec\n\u001B[1;32m   1078\u001B[0m \u001B[38;5;28;01melif\u001B[39;00m issparse(A) \u001B[38;5;129;01mor\u001B[39;00m is_pydata_spmatrix(A):\n\u001B[1;32m   1079\u001B[0m     A \u001B[38;5;241m=\u001B[39m A \u001B[38;5;241m-\u001B[39m sigma \u001B[38;5;241m*\u001B[39m eye(A\u001B[38;5;241m.\u001B[39mshape[\u001B[38;5;241m0\u001B[39m])\n",
      "File \u001B[0;32m~/Desktop/PhD/SI_Codes/SI-CART/lib/python3.9/site-packages/scipy/sparse/linalg/_eigen/arpack/arpack.py:942\u001B[0m, in \u001B[0;36mLuInv.__init__\u001B[0;34m(self, M)\u001B[0m\n\u001B[1;32m    941\u001B[0m \u001B[38;5;28;01mdef\u001B[39;00m \u001B[38;5;21m__init__\u001B[39m(\u001B[38;5;28mself\u001B[39m, M):\n\u001B[0;32m--> 942\u001B[0m     \u001B[38;5;28mself\u001B[39m\u001B[38;5;241m.\u001B[39mM_lu \u001B[38;5;241m=\u001B[39m \u001B[43mlu_factor\u001B[49m\u001B[43m(\u001B[49m\u001B[43mM\u001B[49m\u001B[43m)\u001B[49m\n\u001B[1;32m    943\u001B[0m     \u001B[38;5;28mself\u001B[39m\u001B[38;5;241m.\u001B[39mshape \u001B[38;5;241m=\u001B[39m M\u001B[38;5;241m.\u001B[39mshape\n\u001B[1;32m    944\u001B[0m     \u001B[38;5;28mself\u001B[39m\u001B[38;5;241m.\u001B[39mdtype \u001B[38;5;241m=\u001B[39m M\u001B[38;5;241m.\u001B[39mdtype\n",
      "File \u001B[0;32m~/Desktop/PhD/SI_Codes/SI-CART/lib/python3.9/site-packages/scipy/linalg/_decomp_lu.py:111\u001B[0m, in \u001B[0;36mlu_factor\u001B[0;34m(a, overwrite_a, check_finite)\u001B[0m\n\u001B[1;32m    109\u001B[0m overwrite_a \u001B[38;5;241m=\u001B[39m overwrite_a \u001B[38;5;129;01mor\u001B[39;00m (_datacopied(a1, a))\n\u001B[1;32m    110\u001B[0m getrf, \u001B[38;5;241m=\u001B[39m get_lapack_funcs((\u001B[38;5;124m'\u001B[39m\u001B[38;5;124mgetrf\u001B[39m\u001B[38;5;124m'\u001B[39m,), (a1,))\n\u001B[0;32m--> 111\u001B[0m lu, piv, info \u001B[38;5;241m=\u001B[39m \u001B[43mgetrf\u001B[49m\u001B[43m(\u001B[49m\u001B[43ma1\u001B[49m\u001B[43m,\u001B[49m\u001B[43m \u001B[49m\u001B[43moverwrite_a\u001B[49m\u001B[38;5;241;43m=\u001B[39;49m\u001B[43moverwrite_a\u001B[49m\u001B[43m)\u001B[49m\n\u001B[1;32m    112\u001B[0m \u001B[38;5;28;01mif\u001B[39;00m info \u001B[38;5;241m<\u001B[39m \u001B[38;5;241m0\u001B[39m:\n\u001B[1;32m    113\u001B[0m     \u001B[38;5;28;01mraise\u001B[39;00m \u001B[38;5;167;01mValueError\u001B[39;00m(\u001B[38;5;124m'\u001B[39m\u001B[38;5;124millegal value in \u001B[39m\u001B[38;5;132;01m%d\u001B[39;00m\u001B[38;5;124mth argument of \u001B[39m\u001B[38;5;124m'\u001B[39m\n\u001B[1;32m    114\u001B[0m                      \u001B[38;5;124m'\u001B[39m\u001B[38;5;124minternal getrf (lu_factor)\u001B[39m\u001B[38;5;124m'\u001B[39m \u001B[38;5;241m%\u001B[39m \u001B[38;5;241m-\u001B[39minfo)\n",
      "\u001B[0;31mKeyboardInterrupt\u001B[0m: "
     ]
    }
   ],
   "source": [
    "t1 = time()\n",
    "pivots_50, naive_pivots_50, coverage, naive_coverage, length, naive_length \\\n",
    "    = root_inference_sim(start=0, end=50, n=200,\n",
    "                         sd_y=2, noise_sd=1, \n",
    "                         a=1,b=2)\n",
    "t2 = time()"
   ],
   "metadata": {
    "collapsed": false,
    "ExecuteTime": {
     "end_time": "2025-03-06T00:11:50.525799Z",
     "start_time": "2025-03-06T00:11:21.965716Z"
    }
   },
   "id": "2de62aed6d3cd08b"
  },
  {
   "cell_type": "code",
   "execution_count": 35,
   "outputs": [
    {
     "data": {
      "text/plain": "(array([ 2.,  2.,  2.,  3.,  3.,  3.,  3.,  7., 11., 14.]),\n array([0.01298287, 0.11167672, 0.21037056, 0.3090644 , 0.40775825,\n        0.50645209, 0.60514593, 0.70383978, 0.80253362, 0.90122746,\n        0.99992131]),\n <BarContainer object of 10 artists>)"
     },
     "execution_count": 35,
     "metadata": {},
     "output_type": "execute_result"
    },
    {
     "data": {
      "text/plain": "<Figure size 640x480 with 1 Axes>",
      "image/png": "[encoded data removed]"
     },
     "metadata": {},
     "output_type": "display_data"
    }
   ],
   "source": [
    "plt.hist(pivots_50, bins=10)"
   ],
   "metadata": {
    "collapsed": false,
    "ExecuteTime": {
     "end_time": "2025-03-06T00:08:13.652884Z",
     "start_time": "2025-03-06T00:08:13.499615Z"
    }
   },
   "id": "f316f1a7f86017e6"
  },
  {
   "cell_type": "code",
   "execution_count": 36,
   "outputs": [
    {
     "data": {
      "text/plain": "(array([ 1.,  3.,  1.,  3.,  2.,  6.,  6.,  3.,  7., 18.]),\n array([0.00459564, 0.10412722, 0.2036588 , 0.30319038, 0.40272195,\n        0.50225353, 0.60178511, 0.70131669, 0.80084827, 0.90037984,\n        0.99991142]),\n <BarContainer object of 10 artists>)"
     },
     "execution_count": 36,
     "metadata": {},
     "output_type": "execute_result"
    },
    {
     "data": {
      "text/plain": "<Figure size 640x480 with 1 Axes>",
      "image/png": "[encoded data removed]"
     },
     "metadata": {},
     "output_type": "display_data"
    }
   ],
   "source": [
    "plt.hist(naive_pivots_50, bins=10)"
   ],
   "metadata": {
    "collapsed": false,
    "ExecuteTime": {
     "end_time": "2025-03-06T00:08:19.962477Z",
     "start_time": "2025-03-06T00:08:19.867069Z"
    }
   },
   "id": "3817a09b4c52a5d0"
  },
  {
   "cell_type": "code",
   "execution_count": 38,
   "outputs": [],
   "source": [
    "def plot_ecdf(data):\n",
    "    # Step 2: Sort the data\n",
    "    data_sorted = np.sort(data)\n",
    "\n",
    "    # Step 3: Calculate the empirical CDF\n",
    "    # For each point, the CDF value is the proportion of data points less than or equal to that point\n",
    "    cdf_values = np.arange(1, len(data_sorted) + 1) / len(data_sorted)\n",
    "\n",
    "    # Step 4: Plot the empirical CDF\n",
    "    plt.figure(figsize=(6, 6))\n",
    "    plt.step(data_sorted, cdf_values, where='post', label='Empirical CDF')\n",
    "    plt.title('Empirical Cumulative Distribution Function')\n",
    "    # Add a y=x line\n",
    "    plt.plot(data_sorted, data_sorted, label='Uniform CDF', linestyle='--')\n",
    "    plt.xlabel('Data Points')\n",
    "    plt.ylabel('CDF')\n",
    "    plt.grid(True)\n",
    "    plt.legend()\n",
    "    plt.show()\n",
    "\n",
    "def plot_ecdfs(data_list, labels, title=None):\n",
    "    # Step 2: Sort the data\n",
    "    sorted_data = []\n",
    "    for data in data_list:\n",
    "        data_sorted = np.sort(data)\n",
    "        sorted_data.append(data_sorted)\n",
    "\n",
    "    # Step 3: Calculate the empirical CDF\n",
    "    # For each point, the CDF value is the proportion of data points less than or equal to that point\n",
    "    cdf_values = np.arange(1, len(data_sorted) + 1) / len(data_sorted)\n",
    "\n",
    "    # Step 4: Plot the empirical CDF\n",
    "    plt.figure(figsize=(6, 6))\n",
    "    for i, data in enumerate(sorted_data):\n",
    "        plt.step(data, cdf_values, where='post', \n",
    "                 label=labels[i])\n",
    "    if not title:\n",
    "        plt.title('Empirical Cumulative Distribution Function')\n",
    "    else:\n",
    "        plt.title(title)\n",
    "    # Add a y=x line\n",
    "    plt.plot(data_sorted, data_sorted, label='Uniform CDF', linestyle='--')\n",
    "    plt.xlabel('Data Points')\n",
    "    plt.ylabel('CDF')\n",
    "    plt.grid(True)\n",
    "    plt.legend()\n",
    "    plt.show()\n"
   ],
   "metadata": {
    "collapsed": false,
    "ExecuteTime": {
     "end_time": "2025-03-06T00:08:47.366279Z",
     "start_time": "2025-03-06T00:08:47.339900Z"
    }
   },
   "id": "2dc114347655ec6c"
  },
  {
   "cell_type": "code",
   "execution_count": 39,
   "outputs": [
    {
     "data": {
      "text/plain": "<Figure size 600x600 with 1 Axes>",
      "image/png": "[encoded data removed]"
     },
     "metadata": {},
     "output_type": "display_data"
    }
   ],
   "source": [
    "plot_ecdfs([pivots_50, naive_pivots_50], [\"Selective CDF\", \"Naive CDF\"],\n",
    "           title=\"$sd(y)=3$, $sd(\\omega) = 0.5$\")"
   ],
   "metadata": {
    "collapsed": false,
    "ExecuteTime": {
     "end_time": "2025-03-06T00:08:48.053954Z",
     "start_time": "2025-03-06T00:08:47.891621Z"
    }
   },
   "id": "70a12f1989f29ad4"
  },
  {
   "cell_type": "code",
   "execution_count": 40,
   "outputs": [
    {
     "data": {
      "text/plain": "np.float64(0.84)"
     },
     "execution_count": 40,
     "metadata": {},
     "output_type": "execute_result"
    }
   ],
   "source": [
    "np.mean(coverage)"
   ],
   "metadata": {
    "collapsed": false,
    "ExecuteTime": {
     "end_time": "2025-03-06T00:08:49.459387Z",
     "start_time": "2025-03-06T00:08:49.446382Z"
    }
   },
   "id": "a966a7db02597557"
  },
  {
   "cell_type": "code",
   "execution_count": 41,
   "outputs": [
    {
     "data": {
      "text/plain": "np.float64(0.84)"
     },
     "execution_count": 41,
     "metadata": {},
     "output_type": "execute_result"
    }
   ],
   "source": [
    "np.mean(naive_coverage)"
   ],
   "metadata": {
    "collapsed": false,
    "ExecuteTime": {
     "end_time": "2025-03-06T00:08:50.278078Z",
     "start_time": "2025-03-06T00:08:50.267283Z"
    }
   },
   "id": "c5459aaa3fe4ca73"
  },
  {
   "cell_type": "code",
   "execution_count": 42,
   "outputs": [
    {
     "data": {
      "text/plain": "[np.True_,\n np.True_,\n np.True_,\n np.True_,\n np.True_,\n np.True_,\n np.True_,\n np.True_,\n np.True_,\n np.True_,\n np.False_,\n np.False_,\n np.True_,\n np.True_,\n np.True_,\n np.True_,\n np.True_,\n np.True_,\n np.True_,\n np.True_,\n np.True_,\n np.True_,\n np.False_,\n np.True_,\n np.True_,\n np.True_,\n np.True_,\n np.True_,\n np.True_,\n np.True_,\n np.True_,\n np.True_,\n np.True_,\n np.True_,\n np.True_,\n np.True_,\n np.True_,\n np.True_,\n np.False_,\n np.True_,\n np.True_,\n np.False_,\n np.True_,\n np.True_,\n np.False_,\n np.True_,\n np.False_,\n np.False_,\n np.True_,\n np.True_]"
     },
     "execution_count": 42,
     "metadata": {},
     "output_type": "execute_result"
    }
   ],
   "source": [
    "coverage"
   ],
   "metadata": {
    "collapsed": false,
    "ExecuteTime": {
     "end_time": "2025-03-06T00:10:15.889481Z",
     "start_time": "2025-03-06T00:10:15.859093Z"
    }
   },
   "id": "d5aa7423eb4f5298"
  },
  {
   "cell_type": "code",
   "execution_count": null,
   "outputs": [],
   "source": [],
   "metadata": {
    "collapsed": false
   },
   "id": "4ed2162d88619b9a"
  }
 ],
 "metadata": {
  "kernelspec": {
   "display_name": "Python 3",
   "language": "python",
   "name": "python3"
  },
  "language_info": {
   "codemirror_mode": {
    "name": "ipython",
    "version": 2
   },
   "file_extension": ".py",
   "mimetype": "text/x-python",
   "name": "python",
   "nbconvert_exporter": "python",
   "pygments_lexer": "ipython2",
   "version": "2.7.6"
  }
 },
 "nbformat": 4,
 "nbformat_minor": 5
}
